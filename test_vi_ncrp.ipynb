{
 "cells": [
  {
   "cell_type": "code",
   "execution_count": 1,
   "metadata": {
    "collapsed": true
   },
   "outputs": [],
   "source": [
    "import numpy as np\n",
    "import matplotlib.pyplot as plt\n",
    "%matplotlib inline"
   ]
  },
  {
   "cell_type": "code",
   "execution_count": 2,
   "metadata": {
    "collapsed": false
   },
   "outputs": [],
   "source": [
    "from vi_ncrp import NCRP, NCRPFit, TreeNode, softmax"
   ]
  },
  {
   "cell_type": "code",
   "execution_count": 3,
   "metadata": {
    "collapsed": true
   },
   "outputs": [],
   "source": [
    "def make_test_tree(sizes):\n",
    "    if isinstance(sizes, int):\n",
    "        new_sizes = [[] for i in range(sizes)]\n",
    "        return make_test_tree(new_sizes)\n",
    "    if len(sizes) == 0:\n",
    "        return TreeNode(children = [])\n",
    "    children = [make_test_tree(s) for s in sizes]\n",
    "    return TreeNode(children = children)"
   ]
  },
  {
   "cell_type": "code",
   "execution_count": 4,
   "metadata": {
    "collapsed": false
   },
   "outputs": [],
   "source": [
    "tree = make_test_tree([[4,1,2],[1,2,3]])"
   ]
  },
  {
   "cell_type": "code",
   "execution_count": 5,
   "metadata": {
    "collapsed": false
   },
   "outputs": [
    {
     "data": {
      "text/plain": [
       "[(),\n",
       " (0,),\n",
       " (0, 0),\n",
       " (0, 0, 0),\n",
       " (0, 0, 1),\n",
       " (0, 0, 2),\n",
       " (0, 0, 3),\n",
       " (0, 1),\n",
       " (0, 1, 0),\n",
       " (0, 2),\n",
       " (0, 2, 0),\n",
       " (0, 2, 1),\n",
       " (1,),\n",
       " (1, 0),\n",
       " (1, 0, 0),\n",
       " (1, 1),\n",
       " (1, 1, 0),\n",
       " (1, 1, 1),\n",
       " (1, 2),\n",
       " (1, 2, 0),\n",
       " (1, 2, 1),\n",
       " (1, 2, 2)]"
      ]
     },
     "execution_count": 5,
     "metadata": {},
     "output_type": "execute_result"
    }
   ],
   "source": [
    "list(tree.inner_and_full_paths())"
   ]
  },
  {
   "cell_type": "code",
   "execution_count": 6,
   "metadata": {
    "collapsed": false
   },
   "outputs": [
    {
     "data": {
      "text/plain": [
       "[(1, 2), (1, 2, 0), (1, 2, 1), (1, 2, 2)]"
      ]
     },
     "execution_count": 6,
     "metadata": {},
     "output_type": "execute_result"
    }
   ],
   "source": [
    "list(tree.lookup_path((1,2)).inner_and_full_paths(prefix_so_far=(1,2)))"
   ]
  },
  {
   "cell_type": "code",
   "execution_count": 7,
   "metadata": {
    "collapsed": false
   },
   "outputs": [
    {
     "data": {
      "text/plain": [
       "3"
      ]
     },
     "execution_count": 7,
     "metadata": {},
     "output_type": "execute_result"
    }
   ],
   "source": [
    "tree.depth()"
   ]
  },
  {
   "cell_type": "code",
   "execution_count": 8,
   "metadata": {
    "collapsed": false
   },
   "outputs": [
    {
     "data": {
      "text/plain": [
       "NCRP(alphaTheta=[ 1.  1.  1.], alphaV=0.1, alphaW=0.1, iterations=100, progress_bar=notebook, depth=2)"
      ]
     },
     "execution_count": 8,
     "metadata": {},
     "output_type": "execute_result"
    }
   ],
   "source": [
    "ncrp = NCRP(progress_bar = 'notebook')\n",
    "ncrp"
   ]
  },
  {
   "cell_type": "code",
   "execution_count": 9,
   "metadata": {
    "collapsed": false,
    "scrolled": false
   },
   "outputs": [
    {
     "name": "stdout",
     "output_type": "stream",
     "text": [
      "\n",
      "CPU times: user 789 ms, sys: 23.2 ms, total: 812 ms\n",
      "Wall time: 828 ms\n"
     ]
    }
   ],
   "source": [
    "%%time\n",
    "f = ncrp.fit(data = np.zeros((10, 20)))"
   ]
  },
  {
   "cell_type": "code",
   "execution_count": 10,
   "metadata": {
    "collapsed": false
   },
   "outputs": [
    {
     "data": {
      "text/plain": [
       "array([[ 1.1,  1.1,  1.1],\n",
       "       [ 1.1,  1.1,  1.1],\n",
       "       [ 1.1,  1.1,  1.1],\n",
       "       [ 1.1,  1.1,  1.1],\n",
       "       [ 1.1,  1.1,  1.1],\n",
       "       [ 1.1,  1.1,  1.1],\n",
       "       [ 1.1,  1.1,  1.1],\n",
       "       [ 1.1,  1.1,  1.1],\n",
       "       [ 1.1,  1.1,  1.1],\n",
       "       [ 1.1,  1.1,  1.1]])"
      ]
     },
     "execution_count": 10,
     "metadata": {},
     "output_type": "execute_result"
    }
   ],
   "source": [
    "f.alphaTheta_var"
   ]
  },
  {
   "cell_type": "code",
   "execution_count": 11,
   "metadata": {
    "collapsed": false
   },
   "outputs": [
    {
     "data": {
      "text/plain": [
       "array([[ 0.1,  0.1,  0.1],\n",
       "       [ 0.1,  0.1,  0.1],\n",
       "       [ 0.1,  0.1,  0.1],\n",
       "       [ 0.1,  0.1,  0.1],\n",
       "       [ 0.1,  0.1,  0.1],\n",
       "       [ 0.1,  0.1,  0.1],\n",
       "       [ 0.1,  0.1,  0.1],\n",
       "       [ 0.1,  0.1,  0.1],\n",
       "       [ 0.1,  0.1,  0.1],\n",
       "       [ 0.1,  0.1,  0.1]])"
      ]
     },
     "execution_count": 11,
     "metadata": {},
     "output_type": "execute_result"
    }
   ],
   "source": [
    "f.phi_var"
   ]
  },
  {
   "cell_type": "code",
   "execution_count": 12,
   "metadata": {
    "collapsed": false
   },
   "outputs": [
    {
     "data": {
      "text/plain": [
       "{(): {'alphaV_var': 1.0,\n",
       "  'alphaW_var': array([ 1.,  1.,  1.,  1.,  1.,  1.,  1.,  1.,  1.,  1.,  1.,  1.,  1.,\n",
       "          1.,  1.,  1.,  1.,  1.,  1.,  1.]),\n",
       "  'betaV_var': 1.0},\n",
       " (0,): {'alphaV_var': 7.1606911472098496,\n",
       "  'alphaW_var': array([ 1.,  1.,  1.,  1.,  1.,  1.,  1.,  1.,  1.,  1.,  1.,  1.,  1.,\n",
       "          1.,  1.,  1.,  1.,  1.,  1.,  1.]),\n",
       "  'betaV_var': 3.6803455736049275},\n",
       " (0, 0): {'alphaV_var': 2.0003516173988505,\n",
       "  'alphaW_var': array([ 1.,  1.,  1.,  1.,  1.,  1.,  1.,  1.,  1.,  1.,  1.,  1.,  1.,\n",
       "          1.,  1.,  1.,  1.,  1.,  1.,  1.]),\n",
       "  'betaV_var': 1.1003516173988506}}"
      ]
     },
     "execution_count": 12,
     "metadata": {},
     "output_type": "execute_result"
    }
   ],
   "source": [
    "f.tree_var_params"
   ]
  },
  {
   "cell_type": "code",
   "execution_count": 13,
   "metadata": {
    "collapsed": false
   },
   "outputs": [
    {
     "data": {
      "text/plain": [
       "{(): {'Eqln1_V': -1.0000000000000002,\n",
       "  'EqlnV': -1.0000000000000002,\n",
       "  'EqlnW': array([-3.54773966, -3.54773966, -3.54773966, -3.54773966, -3.54773966,\n",
       "         -3.54773966, -3.54773966, -3.54773966, -3.54773966, -3.54773966,\n",
       "         -3.54773966, -3.54773966, -3.54773966, -3.54773966, -3.54773966,\n",
       "         -3.54773966, -3.54773966, -3.54773966, -3.54773966, -3.54773966]),\n",
       "  'j0': 1,\n",
       "  'logS': array([ 8.51770165,  8.51770165,  8.51770165,  8.51770165,  8.51770165,\n",
       "          8.51770165,  8.51770165,  8.51770165,  8.51770165,  8.51770165]),\n",
       "  'path_prob': array([ 0.74193028,  0.74193028,  0.74193028,  0.74193028,  0.74193028,\n",
       "          0.74193028,  0.74193028,  0.74193028,  0.74193028,  0.74193028]),\n",
       "  'z0': array([ 0.,  0.,  0.,  0.,  0.,  0.,  0.,  0.,  0.,  0.])},\n",
       " (0,): {'Eqln1_V': -1.1754677064399226,\n",
       "  'EqlnV': -0.43935035380361254,\n",
       "  'EqlnW': array([-3.54773966, -3.54773966, -3.54773966, -3.54773966, -3.54773966,\n",
       "         -3.54773966, -3.54773966, -3.54773966, -3.54773966, -3.54773966,\n",
       "         -3.54773966, -3.54773966, -3.54773966, -3.54773966, -3.54773966,\n",
       "         -3.54773966, -3.54773966, -3.54773966, -3.54773966, -3.54773966]),\n",
       "  'j0': 1,\n",
       "  'logS': array([ 7.46153989,  7.46153989,  7.46153989,  7.46153989,  7.46153989,\n",
       "          7.46153989,  7.46153989,  7.46153989,  7.46153989,  7.46153989]),\n",
       "  'path_prob': array([ 0.25803456,  0.25803456,  0.25803456,  0.25803456,  0.25803456,\n",
       "          0.25803456,  0.25803456,  0.25803456,  0.25803456,  0.25803456]),\n",
       "  'z0': array([ 0.,  0.,  0.,  0.,  0.,  0.,  0.,  0.,  0.,  0.])},\n",
       " (0, 0): {'Eqln1_V': -1.3850447884613066,\n",
       "  'EqlnV': -0.53878262577184599,\n",
       "  'EqlnW': array([-3.54773966, -3.54773966, -3.54773966, -3.54773966, -3.54773966,\n",
       "         -3.54773966, -3.54773966, -3.54773966, -3.54773966, -3.54773966,\n",
       "         -3.54773966, -3.54773966, -3.54773966, -3.54773966, -3.54773966,\n",
       "         -3.54773966, -3.54773966, -3.54773966, -3.54773966, -3.54773966]),\n",
       "  'j0': 0,\n",
       "  'logS': array([-1.43935035, -1.43935035, -1.43935035, -1.43935035, -1.43935035,\n",
       "         -1.43935035, -1.43935035, -1.43935035, -1.43935035, -1.43935035]),\n",
       "  'path_prob': array([  3.51617399e-05,   3.51617399e-05,   3.51617399e-05,\n",
       "           3.51617399e-05,   3.51617399e-05,   3.51617399e-05,\n",
       "           3.51617399e-05,   3.51617399e-05,   3.51617399e-05,\n",
       "           3.51617399e-05]),\n",
       "  'z0': array([ 0.,  0.,  0.,  0.,  0.,  0.,  0.,  0.,  0.,  0.])}}"
      ]
     },
     "execution_count": 13,
     "metadata": {},
     "output_type": "execute_result"
    }
   ],
   "source": [
    "f.tree_stats"
   ]
  },
  {
   "cell_type": "code",
   "execution_count": null,
   "metadata": {
    "collapsed": true
   },
   "outputs": [],
   "source": []
  }
 ],
 "metadata": {
  "kernelspec": {
   "display_name": "Python 2",
   "language": "python",
   "name": "python2"
  },
  "language_info": {
   "codemirror_mode": {
    "name": "ipython",
    "version": 2
   },
   "file_extension": ".py",
   "mimetype": "text/x-python",
   "name": "python",
   "nbconvert_exporter": "python",
   "pygments_lexer": "ipython2",
   "version": "2.7.10"
  },
  "widgets": {
   "state": {
    "dd1c5bbe69d04c36964697c83bacb9c9": {
     "views": [
      {
       "cell_index": 8
      }
     ]
    }
   },
   "version": "1.2.0"
  }
 },
 "nbformat": 4,
 "nbformat_minor": 1
}
