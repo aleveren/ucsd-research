{
 "cells": [
  {
   "cell_type": "code",
   "execution_count": 1,
   "metadata": {
    "collapsed": true
   },
   "outputs": [],
   "source": [
    "import numpy as np\n",
    "import matplotlib.pyplot as plt\n",
    "%matplotlib inline"
   ]
  },
  {
   "cell_type": "code",
   "execution_count": 33,
   "metadata": {
    "collapsed": false
   },
   "outputs": [
    {
     "data": {
      "application/javascript": [
       "IPython.notebook.set_autosave_interval(10000)"
      ]
     },
     "metadata": {},
     "output_type": "display_data"
    },
    {
     "name": "stdout",
     "output_type": "stream",
     "text": [
      "Autosaving every 10 seconds\n"
     ]
    }
   ],
   "source": [
    "%autosave 10"
   ]
  },
  {
   "cell_type": "code",
   "execution_count": 2,
   "metadata": {
    "collapsed": false
   },
   "outputs": [],
   "source": [
    "from vi_ncrp import NCRP, NCRPFit, TreeNode, softmax"
   ]
  },
  {
   "cell_type": "code",
   "execution_count": 3,
   "metadata": {
    "collapsed": true
   },
   "outputs": [],
   "source": [
    "from collections import Counter"
   ]
  },
  {
   "cell_type": "code",
   "execution_count": 4,
   "metadata": {
    "collapsed": true
   },
   "outputs": [],
   "source": [
    "np.random.seed(2)"
   ]
  },
  {
   "cell_type": "code",
   "execution_count": 5,
   "metadata": {
    "collapsed": true
   },
   "outputs": [],
   "source": [
    "def make_test_tree(sizes):\n",
    "    if isinstance(sizes, int):\n",
    "        new_sizes = [[] for i in range(sizes)]\n",
    "        return make_test_tree(new_sizes)\n",
    "    if len(sizes) == 0:\n",
    "        return TreeNode(children = [])\n",
    "    children = [make_test_tree(s) for s in sizes]\n",
    "    return TreeNode(children = children)"
   ]
  },
  {
   "cell_type": "code",
   "execution_count": 6,
   "metadata": {
    "collapsed": false
   },
   "outputs": [],
   "source": [
    "tree = make_test_tree([[4,1,2],[1,2,3]])"
   ]
  },
  {
   "cell_type": "code",
   "execution_count": 7,
   "metadata": {
    "collapsed": false
   },
   "outputs": [
    {
     "data": {
      "text/plain": [
       "[(),\n",
       " (0,),\n",
       " (0, 0),\n",
       " (0, 0, 0),\n",
       " (0, 0, 1),\n",
       " (0, 0, 2),\n",
       " (0, 0, 3),\n",
       " (0, 1),\n",
       " (0, 1, 0),\n",
       " (0, 2),\n",
       " (0, 2, 0),\n",
       " (0, 2, 1),\n",
       " (1,),\n",
       " (1, 0),\n",
       " (1, 0, 0),\n",
       " (1, 1),\n",
       " (1, 1, 0),\n",
       " (1, 1, 1),\n",
       " (1, 2),\n",
       " (1, 2, 0),\n",
       " (1, 2, 1),\n",
       " (1, 2, 2)]"
      ]
     },
     "execution_count": 7,
     "metadata": {},
     "output_type": "execute_result"
    }
   ],
   "source": [
    "list(tree.inner_and_full_paths())"
   ]
  },
  {
   "cell_type": "code",
   "execution_count": 8,
   "metadata": {
    "collapsed": false
   },
   "outputs": [
    {
     "data": {
      "text/plain": [
       "[(1, 2), (1, 2, 0), (1, 2, 1), (1, 2, 2)]"
      ]
     },
     "execution_count": 8,
     "metadata": {},
     "output_type": "execute_result"
    }
   ],
   "source": [
    "list(tree.lookup_path((1,2)).inner_and_full_paths(prefix_so_far=(1,2)))"
   ]
  },
  {
   "cell_type": "code",
   "execution_count": 9,
   "metadata": {
    "collapsed": false
   },
   "outputs": [
    {
     "data": {
      "text/plain": [
       "3"
      ]
     },
     "execution_count": 9,
     "metadata": {},
     "output_type": "execute_result"
    }
   ],
   "source": [
    "tree.depth()"
   ]
  },
  {
   "cell_type": "code",
   "execution_count": 10,
   "metadata": {
    "collapsed": false
   },
   "outputs": [
    {
     "data": {
      "text/plain": [
       "NCRP(alphaTheta=array([ 1.,  1.,  1.]), alphaV=0.1, alphaW=0.1, iterations=100, progress_bar='terminal', branch_structure=[5, 5], depth=2)"
      ]
     },
     "execution_count": 10,
     "metadata": {},
     "output_type": "execute_result"
    }
   ],
   "source": [
    "ncrp = NCRP(progress_bar = 'terminal')\n",
    "ncrp"
   ]
  },
  {
   "cell_type": "code",
   "execution_count": 12,
   "metadata": {
    "collapsed": false
   },
   "outputs": [
    {
     "name": "stderr",
     "output_type": "stream",
     "text": [
      "Reading lines: 100%|██████████| 2246/2246 [00:00<00:00, 2421.56it/s]\n",
      "Filling matrix: 100%|██████████| 2246/2246 [00:02<00:00, 899.28it/s]\n",
      "Loading vocabulary: 100%|██████████| 10473/10473 [00:00<00:00, 1517181.15it/s]\n"
     ]
    }
   ],
   "source": [
    "from load_data import load_data, load_vocab\n",
    "data = load_data(\"/Users/aleverentz/Downloads/ap/ap.dat\")\n",
    "vocab = load_vocab(\"/Users/aleverentz/Downloads/ap/vocab.txt\")"
   ]
  },
  {
   "cell_type": "code",
   "execution_count": 13,
   "metadata": {
    "collapsed": false
   },
   "outputs": [
    {
     "data": {
      "text/plain": [
       "(2246, 10473)"
      ]
     },
     "execution_count": 13,
     "metadata": {},
     "output_type": "execute_result"
    }
   ],
   "source": [
    "data.shape"
   ]
  },
  {
   "cell_type": "code",
   "execution_count": 14,
   "metadata": {
    "collapsed": true
   },
   "outputs": [],
   "source": [
    "data = data[:,:]"
   ]
  },
  {
   "cell_type": "code",
   "execution_count": 15,
   "metadata": {
    "collapsed": false
   },
   "outputs": [
    {
     "data": {
      "text/plain": [
       "(2246, 10473)"
      ]
     },
     "execution_count": 15,
     "metadata": {},
     "output_type": "execute_result"
    }
   ],
   "source": [
    "data.shape"
   ]
  },
  {
   "cell_type": "code",
   "execution_count": 16,
   "metadata": {
    "collapsed": true
   },
   "outputs": [],
   "source": [
    "data = data[np.where(data.sum(axis=1) > 0)[0], :]"
   ]
  },
  {
   "cell_type": "code",
   "execution_count": 17,
   "metadata": {
    "collapsed": false
   },
   "outputs": [
    {
     "data": {
      "text/plain": [
       "(2246, 10473)"
      ]
     },
     "execution_count": 17,
     "metadata": {},
     "output_type": "execute_result"
    }
   ],
   "source": [
    "data.shape"
   ]
  },
  {
   "cell_type": "code",
   "execution_count": 18,
   "metadata": {
    "collapsed": false,
    "scrolled": false
   },
   "outputs": [
    {
     "name": "stderr",
     "output_type": "stream",
     "text": [
      "Optimizing via coordinate ascent: 100%|██████████| 100/100 [17:43<00:00, 11.52s/it]"
     ]
    },
    {
     "name": "stdout",
     "output_type": "stream",
     "text": [
      "CPU times: user 6min 54s, sys: 10min 40s, total: 17min 34s\n",
      "Wall time: 17min 43s\n"
     ]
    },
    {
     "name": "stderr",
     "output_type": "stream",
     "text": [
      "\n"
     ]
    }
   ],
   "source": [
    "%%time\n",
    "f = ncrp.fit(data = data)"
   ]
  },
  {
   "cell_type": "code",
   "execution_count": 19,
   "metadata": {
    "collapsed": false
   },
   "outputs": [
    {
     "data": {
      "text/plain": [
       "Counter({(0, 4): 12, (1,): 1192, (1, 4): 1042})"
      ]
     },
     "execution_count": 19,
     "metadata": {},
     "output_type": "execute_result"
    }
   ],
   "source": [
    "Counter(f.get_most_likely_paths())"
   ]
  },
  {
   "cell_type": "code",
   "execution_count": 20,
   "metadata": {
    "collapsed": false,
    "scrolled": true
   },
   "outputs": [
    {
     "data": {
      "text/plain": [
       "OrderedDict([((),\n",
       "              (['i',\n",
       "                'people',\n",
       "                'two',\n",
       "                'police',\n",
       "                'new',\n",
       "                'years',\n",
       "                'last',\n",
       "                'state',\n",
       "                'year',\n",
       "                'million'],\n",
       "               array([ 0,  3,  5, 12,  1, 10,  8, 13,  4,  6]),\n",
       "               array([ 1247.24924033,   989.86455339,   894.76433169,   847.20637263,\n",
       "                        829.21875603,   736.2024551 ,   601.93400923,   598.42339873,\n",
       "                        578.78484991,   541.30220339]))),\n",
       "             ((0,),\n",
       "              (['index',\n",
       "                'stock',\n",
       "                'million',\n",
       "                'points',\n",
       "                'exchange',\n",
       "                'yen',\n",
       "                'shares',\n",
       "                'share',\n",
       "                'trading',\n",
       "                'close'],\n",
       "               array([336,  87,   6, 316, 246, 387, 439, 213, 215, 223]),\n",
       "               array([ 21.09244052,  20.0933307 ,  20.09296462,  18.09359742,\n",
       "                       17.09378373,  14.09611857,  14.09486029,  13.09426481,\n",
       "                       12.09649333,  12.0960191 ]))),\n",
       "             ((1,),\n",
       "              (['percent',\n",
       "                'new',\n",
       "                'president',\n",
       "                'government',\n",
       "                'million',\n",
       "                'year',\n",
       "                'bush',\n",
       "                'last',\n",
       "                'i',\n",
       "                'soviet'],\n",
       "               array([ 2,  1,  7,  9,  6,  4, 18,  8,  0, 16]),\n",
       "               array([ 1570.43483277,  1176.98311766,  1063.83155727,  1041.54070264,\n",
       "                        998.90437865,   997.41468308,   869.37012146,   826.26596679,\n",
       "                        825.95016314,   780.15983321]))),\n",
       "             ((2,),\n",
       "              (['mutual',\n",
       "                'tariffs',\n",
       "                'referendum',\n",
       "                'slain',\n",
       "                'roughly',\n",
       "                'confirm',\n",
       "                'opponent',\n",
       "                'wear',\n",
       "                'colony',\n",
       "                'buffs'],\n",
       "               array([ 3480,  3497,  3490,  3491,  3492,  3493,  3494,  3495,  3496, 10472]),\n",
       "               array([ 0.1,  0.1,  0.1,  0.1,  0.1,  0.1,  0.1,  0.1,  0.1,  0.1]))),\n",
       "             ((3,),\n",
       "              (['mutual',\n",
       "                'tariffs',\n",
       "                'referendum',\n",
       "                'slain',\n",
       "                'roughly',\n",
       "                'confirm',\n",
       "                'opponent',\n",
       "                'wear',\n",
       "                'colony',\n",
       "                'buffs'],\n",
       "               array([ 3480,  3497,  3490,  3491,  3492,  3493,  3494,  3495,  3496, 10472]),\n",
       "               array([ 0.1,  0.1,  0.1,  0.1,  0.1,  0.1,  0.1,  0.1,  0.1,  0.1]))),\n",
       "             ((4,),\n",
       "              (['mutual',\n",
       "                'tariffs',\n",
       "                'referendum',\n",
       "                'slain',\n",
       "                'roughly',\n",
       "                'confirm',\n",
       "                'opponent',\n",
       "                'wear',\n",
       "                'colony',\n",
       "                'buffs'],\n",
       "               array([ 3480,  3497,  3490,  3491,  3492,  3493,  3494,  3495,  3496, 10472]),\n",
       "               array([ 0.1,  0.1,  0.1,  0.1,  0.1,  0.1,  0.1,  0.1,  0.1,  0.1]))),\n",
       "             ((0, 0),\n",
       "              (['million',\n",
       "                'index',\n",
       "                'stock',\n",
       "                'exchange',\n",
       "                'points',\n",
       "                'yen',\n",
       "                'shares',\n",
       "                'share',\n",
       "                'close',\n",
       "                'volume'],\n",
       "               array([  6, 336,  87, 246, 316, 387, 439, 213, 223, 829]),\n",
       "               array([ 0.10000025,  0.10000024,  0.10000024,  0.10000021,  0.1000002 ,\n",
       "                       0.10000017,  0.10000017,  0.10000015,  0.10000014,  0.10000014]))),\n",
       "             ((0, 1),\n",
       "              (['million',\n",
       "                'index',\n",
       "                'stock',\n",
       "                'exchange',\n",
       "                'points',\n",
       "                'yen',\n",
       "                'shares',\n",
       "                'share',\n",
       "                'close',\n",
       "                'volume'],\n",
       "               array([  6, 336,  87, 246, 316, 387, 439, 213, 223, 829]),\n",
       "               array([ 0.10000042,  0.1000004 ,  0.1000004 ,  0.10000035,  0.10000033,\n",
       "                       0.10000029,  0.10000029,  0.10000025,  0.10000023,  0.10000023]))),\n",
       "             ((0, 2),\n",
       "              (['million',\n",
       "                'index',\n",
       "                'stock',\n",
       "                'exchange',\n",
       "                'points',\n",
       "                'yen',\n",
       "                'shares',\n",
       "                'share',\n",
       "                'close',\n",
       "                'volume'],\n",
       "               array([  6, 336,  87, 246, 316, 387, 439, 213, 223, 829]),\n",
       "               array([ 0.10000048,  0.10000045,  0.10000045,  0.1000004 ,  0.10000038,\n",
       "                       0.10000032,  0.10000032,  0.10000028,  0.10000026,  0.10000026]))),\n",
       "             ((0, 3),\n",
       "              (['million',\n",
       "                'index',\n",
       "                'stock',\n",
       "                'exchange',\n",
       "                'points',\n",
       "                'yen',\n",
       "                'shares',\n",
       "                'share',\n",
       "                'close',\n",
       "                'volume'],\n",
       "               array([  6, 336,  87, 246, 316, 387, 439, 213, 223, 829]),\n",
       "               array([ 0.10000048,  0.10000045,  0.10000045,  0.1000004 ,  0.10000038,\n",
       "                       0.10000032,  0.10000032,  0.10000028,  0.10000026,  0.10000026]))),\n",
       "             ((0, 4),\n",
       "              (['million',\n",
       "                'index',\n",
       "                'stock',\n",
       "                'exchange',\n",
       "                'points',\n",
       "                'yen',\n",
       "                'shares',\n",
       "                'share',\n",
       "                'close',\n",
       "                'volume'],\n",
       "               array([  6, 336,  87, 246, 316, 387, 439, 213, 223, 829]),\n",
       "               array([ 0.10000054,  0.10000052,  0.10000051,  0.10000045,  0.10000043,\n",
       "                       0.10000037,  0.10000037,  0.10000032,  0.1000003 ,  0.1000003 ]))),\n",
       "             ((1, 0),\n",
       "              (['percent',\n",
       "                'new',\n",
       "                'government',\n",
       "                'president',\n",
       "                'million',\n",
       "                'year',\n",
       "                'last',\n",
       "                'states',\n",
       "                'united',\n",
       "                'soviet'],\n",
       "               array([ 2,  1,  9,  7,  6,  4,  8, 14, 17, 16]),\n",
       "               array([ 0.10000622,  0.1000047 ,  0.10000463,  0.10000461,  0.10000438,\n",
       "                       0.1000042 ,  0.10000344,  0.10000326,  0.10000319,  0.10000316]))),\n",
       "             ((1, 1),\n",
       "              (['percent',\n",
       "                'new',\n",
       "                'government',\n",
       "                'president',\n",
       "                'million',\n",
       "                'year',\n",
       "                'last',\n",
       "                'states',\n",
       "                'united',\n",
       "                'soviet'],\n",
       "               array([ 2,  1,  9,  7,  6,  4,  8, 14, 17, 16]),\n",
       "               array([ 0.10000774,  0.10000585,  0.10000576,  0.10000573,  0.10000544,\n",
       "                       0.10000522,  0.10000428,  0.10000406,  0.10000397,  0.10000393]))),\n",
       "             ((1, 2),\n",
       "              (['percent',\n",
       "                'new',\n",
       "                'government',\n",
       "                'president',\n",
       "                'million',\n",
       "                'year',\n",
       "                'last',\n",
       "                'states',\n",
       "                'united',\n",
       "                'soviet'],\n",
       "               array([ 2,  1,  9,  7,  6,  4,  8, 14, 17, 16]),\n",
       "               array([ 0.10000895,  0.10000677,  0.10000666,  0.10000663,  0.1000063 ,\n",
       "                       0.10000605,  0.10000496,  0.10000469,  0.10000459,  0.10000455]))),\n",
       "             ((1, 3),\n",
       "              (['percent',\n",
       "                'new',\n",
       "                'government',\n",
       "                'president',\n",
       "                'million',\n",
       "                'year',\n",
       "                'last',\n",
       "                'states',\n",
       "                'united',\n",
       "                'soviet'],\n",
       "               array([ 2,  1,  9,  7,  6,  4,  8, 14, 17, 16]),\n",
       "               array([ 0.10001538,  0.10001163,  0.10001144,  0.10001139,  0.10001082,\n",
       "                       0.10001039,  0.10000852,  0.10000806,  0.10000789,  0.10000782]))),\n",
       "             ((1, 4),\n",
       "              (['percent',\n",
       "                'new',\n",
       "                'government',\n",
       "                'president',\n",
       "                'million',\n",
       "                'year',\n",
       "                'last',\n",
       "                'states',\n",
       "                'united',\n",
       "                'soviet'],\n",
       "               array([ 2,  1,  9,  7,  6,  4,  8, 14, 17, 16]),\n",
       "               array([ 0.10031779,  0.10024018,  0.10023644,  0.10023539,  0.10022357,\n",
       "                       0.10021456,  0.10017598,  0.10016658,  0.10016306,  0.10016152]))),\n",
       "             ((2, 0),\n",
       "              (['mutual',\n",
       "                'tariffs',\n",
       "                'referendum',\n",
       "                'slain',\n",
       "                'roughly',\n",
       "                'confirm',\n",
       "                'opponent',\n",
       "                'wear',\n",
       "                'colony',\n",
       "                'buffs'],\n",
       "               array([ 3480,  3497,  3490,  3491,  3492,  3493,  3494,  3495,  3496, 10472]),\n",
       "               array([ 0.1,  0.1,  0.1,  0.1,  0.1,  0.1,  0.1,  0.1,  0.1,  0.1]))),\n",
       "             ((2, 1),\n",
       "              (['mutual',\n",
       "                'tariffs',\n",
       "                'referendum',\n",
       "                'slain',\n",
       "                'roughly',\n",
       "                'confirm',\n",
       "                'opponent',\n",
       "                'wear',\n",
       "                'colony',\n",
       "                'buffs'],\n",
       "               array([ 3480,  3497,  3490,  3491,  3492,  3493,  3494,  3495,  3496, 10472]),\n",
       "               array([ 0.1,  0.1,  0.1,  0.1,  0.1,  0.1,  0.1,  0.1,  0.1,  0.1]))),\n",
       "             ((2, 2),\n",
       "              (['mutual',\n",
       "                'tariffs',\n",
       "                'referendum',\n",
       "                'slain',\n",
       "                'roughly',\n",
       "                'confirm',\n",
       "                'opponent',\n",
       "                'wear',\n",
       "                'colony',\n",
       "                'buffs'],\n",
       "               array([ 3480,  3497,  3490,  3491,  3492,  3493,  3494,  3495,  3496, 10472]),\n",
       "               array([ 0.1,  0.1,  0.1,  0.1,  0.1,  0.1,  0.1,  0.1,  0.1,  0.1]))),\n",
       "             ((2, 3),\n",
       "              (['mutual',\n",
       "                'tariffs',\n",
       "                'referendum',\n",
       "                'slain',\n",
       "                'roughly',\n",
       "                'confirm',\n",
       "                'opponent',\n",
       "                'wear',\n",
       "                'colony',\n",
       "                'buffs'],\n",
       "               array([ 3480,  3497,  3490,  3491,  3492,  3493,  3494,  3495,  3496, 10472]),\n",
       "               array([ 0.1,  0.1,  0.1,  0.1,  0.1,  0.1,  0.1,  0.1,  0.1,  0.1]))),\n",
       "             ((2, 4),\n",
       "              (['mutual',\n",
       "                'tariffs',\n",
       "                'referendum',\n",
       "                'slain',\n",
       "                'roughly',\n",
       "                'confirm',\n",
       "                'opponent',\n",
       "                'wear',\n",
       "                'colony',\n",
       "                'buffs'],\n",
       "               array([ 3480,  3497,  3490,  3491,  3492,  3493,  3494,  3495,  3496, 10472]),\n",
       "               array([ 0.1,  0.1,  0.1,  0.1,  0.1,  0.1,  0.1,  0.1,  0.1,  0.1]))),\n",
       "             ((3, 0),\n",
       "              (['mutual',\n",
       "                'tariffs',\n",
       "                'referendum',\n",
       "                'slain',\n",
       "                'roughly',\n",
       "                'confirm',\n",
       "                'opponent',\n",
       "                'wear',\n",
       "                'colony',\n",
       "                'buffs'],\n",
       "               array([ 3480,  3497,  3490,  3491,  3492,  3493,  3494,  3495,  3496, 10472]),\n",
       "               array([ 0.1,  0.1,  0.1,  0.1,  0.1,  0.1,  0.1,  0.1,  0.1,  0.1]))),\n",
       "             ((3, 1),\n",
       "              (['mutual',\n",
       "                'tariffs',\n",
       "                'referendum',\n",
       "                'slain',\n",
       "                'roughly',\n",
       "                'confirm',\n",
       "                'opponent',\n",
       "                'wear',\n",
       "                'colony',\n",
       "                'buffs'],\n",
       "               array([ 3480,  3497,  3490,  3491,  3492,  3493,  3494,  3495,  3496, 10472]),\n",
       "               array([ 0.1,  0.1,  0.1,  0.1,  0.1,  0.1,  0.1,  0.1,  0.1,  0.1]))),\n",
       "             ((3, 2),\n",
       "              (['mutual',\n",
       "                'tariffs',\n",
       "                'referendum',\n",
       "                'slain',\n",
       "                'roughly',\n",
       "                'confirm',\n",
       "                'opponent',\n",
       "                'wear',\n",
       "                'colony',\n",
       "                'buffs'],\n",
       "               array([ 3480,  3497,  3490,  3491,  3492,  3493,  3494,  3495,  3496, 10472]),\n",
       "               array([ 0.1,  0.1,  0.1,  0.1,  0.1,  0.1,  0.1,  0.1,  0.1,  0.1]))),\n",
       "             ((3, 3),\n",
       "              (['mutual',\n",
       "                'tariffs',\n",
       "                'referendum',\n",
       "                'slain',\n",
       "                'roughly',\n",
       "                'confirm',\n",
       "                'opponent',\n",
       "                'wear',\n",
       "                'colony',\n",
       "                'buffs'],\n",
       "               array([ 3480,  3497,  3490,  3491,  3492,  3493,  3494,  3495,  3496, 10472]),\n",
       "               array([ 0.1,  0.1,  0.1,  0.1,  0.1,  0.1,  0.1,  0.1,  0.1,  0.1]))),\n",
       "             ((3, 4),\n",
       "              (['mutual',\n",
       "                'tariffs',\n",
       "                'referendum',\n",
       "                'slain',\n",
       "                'roughly',\n",
       "                'confirm',\n",
       "                'opponent',\n",
       "                'wear',\n",
       "                'colony',\n",
       "                'buffs'],\n",
       "               array([ 3480,  3497,  3490,  3491,  3492,  3493,  3494,  3495,  3496, 10472]),\n",
       "               array([ 0.1,  0.1,  0.1,  0.1,  0.1,  0.1,  0.1,  0.1,  0.1,  0.1]))),\n",
       "             ((4, 0),\n",
       "              (['mutual',\n",
       "                'tariffs',\n",
       "                'referendum',\n",
       "                'slain',\n",
       "                'roughly',\n",
       "                'confirm',\n",
       "                'opponent',\n",
       "                'wear',\n",
       "                'colony',\n",
       "                'buffs'],\n",
       "               array([ 3480,  3497,  3490,  3491,  3492,  3493,  3494,  3495,  3496, 10472]),\n",
       "               array([ 0.1,  0.1,  0.1,  0.1,  0.1,  0.1,  0.1,  0.1,  0.1,  0.1]))),\n",
       "             ((4, 1),\n",
       "              (['mutual',\n",
       "                'tariffs',\n",
       "                'referendum',\n",
       "                'slain',\n",
       "                'roughly',\n",
       "                'confirm',\n",
       "                'opponent',\n",
       "                'wear',\n",
       "                'colony',\n",
       "                'buffs'],\n",
       "               array([ 3480,  3497,  3490,  3491,  3492,  3493,  3494,  3495,  3496, 10472]),\n",
       "               array([ 0.1,  0.1,  0.1,  0.1,  0.1,  0.1,  0.1,  0.1,  0.1,  0.1]))),\n",
       "             ((4, 2),\n",
       "              (['mutual',\n",
       "                'tariffs',\n",
       "                'referendum',\n",
       "                'slain',\n",
       "                'roughly',\n",
       "                'confirm',\n",
       "                'opponent',\n",
       "                'wear',\n",
       "                'colony',\n",
       "                'buffs'],\n",
       "               array([ 3480,  3497,  3490,  3491,  3492,  3493,  3494,  3495,  3496, 10472]),\n",
       "               array([ 0.1,  0.1,  0.1,  0.1,  0.1,  0.1,  0.1,  0.1,  0.1,  0.1]))),\n",
       "             ((4, 3),\n",
       "              (['mutual',\n",
       "                'tariffs',\n",
       "                'referendum',\n",
       "                'slain',\n",
       "                'roughly',\n",
       "                'confirm',\n",
       "                'opponent',\n",
       "                'wear',\n",
       "                'colony',\n",
       "                'buffs'],\n",
       "               array([ 3480,  3497,  3490,  3491,  3492,  3493,  3494,  3495,  3496, 10472]),\n",
       "               array([ 0.1,  0.1,  0.1,  0.1,  0.1,  0.1,  0.1,  0.1,  0.1,  0.1]))),\n",
       "             ((4, 4),\n",
       "              (['mutual',\n",
       "                'tariffs',\n",
       "                'referendum',\n",
       "                'slain',\n",
       "                'roughly',\n",
       "                'confirm',\n",
       "                'opponent',\n",
       "                'wear',\n",
       "                'colony',\n",
       "                'buffs'],\n",
       "               array([ 3480,  3497,  3490,  3491,  3492,  3493,  3494,  3495,  3496, 10472]),\n",
       "               array([ 0.1,  0.1,  0.1,  0.1,  0.1,  0.1,  0.1,  0.1,  0.1,  0.1])))])"
      ]
     },
     "execution_count": 20,
     "metadata": {},
     "output_type": "execute_result"
    }
   ],
   "source": [
    "top_words = f.get_top_words_per_node(k = 10, vocab = vocab)\n",
    "top_words"
   ]
  },
  {
   "cell_type": "code",
   "execution_count": 31,
   "metadata": {
    "collapsed": false
   },
   "outputs": [
    {
     "name": "stdout",
     "output_type": "stream",
     "text": [
      "Done\n"
     ]
    }
   ],
   "source": [
    "# Testing to make sure top_words_per_node behaves as expected\n",
    "for path, (words, indices, alphas) in top_words.items():\n",
    "    # Check that `words` and `indices` agree with `vocab`\n",
    "    words_from_indices = [vocab[i] for i in indices]\n",
    "    if words != words_from_indices:\n",
    "        print(words)\n",
    "        print(words_from_indices)\n",
    "        raise AssertionError()\n",
    "    # Check that `alphas` and `indices` agree with `f.alphaW_var`\n",
    "    path_index = f.path_to_index[path]\n",
    "    alphas_from_indices = f.alphaW_var[path_index, indices]\n",
    "    if not np.array_equal(alphas, alphas_from_indices):\n",
    "        print(alphas)\n",
    "        print(alphas_from_indices)\n",
    "        raise AssertionError()\n",
    "    # Check that whenever alphaW_var > min(alphas), word_index is in indices\n",
    "    min_alpha = min(alphas)\n",
    "    for word_index, alpha in enumerate(f.alphaW_var[path_index, :]):\n",
    "        if alpha > min_alpha:\n",
    "            if word_index not in indices:\n",
    "                print(\"At word index {}, {} > {} but {} is not in {}\").format(\n",
    "                    word_index, alpha, min_alpha, word_index, indices)\n",
    "                raise AssertionError()\n",
    "    # Check that alphas are sorted\n",
    "    if list(alphas) != sorted(list(alphas), key=lambda x: -x):\n",
    "        print(\"Alphas is not sorted in descending order: {}\".format(alphas))\n",
    "        raise AssertionError()\n",
    "print(\"Done\")"
   ]
  },
  {
   "cell_type": "code",
   "execution_count": null,
   "metadata": {
    "collapsed": true
   },
   "outputs": [],
   "source": []
  }
 ],
 "metadata": {
  "kernelspec": {
   "display_name": "Python 2",
   "language": "python",
   "name": "python2"
  },
  "language_info": {
   "codemirror_mode": {
    "name": "ipython",
    "version": 2
   },
   "file_extension": ".py",
   "mimetype": "text/x-python",
   "name": "python",
   "nbconvert_exporter": "python",
   "pygments_lexer": "ipython2",
   "version": "2.7.10"
  }
 },
 "nbformat": 4,
 "nbformat_minor": 1
}
