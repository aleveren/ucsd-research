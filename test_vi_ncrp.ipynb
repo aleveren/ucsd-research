{
 "cells": [
  {
   "cell_type": "code",
   "execution_count": 1,
   "metadata": {
    "collapsed": true
   },
   "outputs": [],
   "source": [
    "import numpy as np\n",
    "import matplotlib.pyplot as plt\n",
    "%matplotlib inline"
   ]
  },
  {
   "cell_type": "code",
   "execution_count": 2,
   "metadata": {
    "collapsed": false
   },
   "outputs": [],
   "source": [
    "from vi_ncrp import NCRP, NCRPFit, TreeNode, softmax"
   ]
  },
  {
   "cell_type": "code",
   "execution_count": 3,
   "metadata": {
    "collapsed": true
   },
   "outputs": [],
   "source": [
    "np.random.seed(1)"
   ]
  },
  {
   "cell_type": "code",
   "execution_count": 4,
   "metadata": {
    "collapsed": true
   },
   "outputs": [],
   "source": [
    "def make_test_tree(sizes):\n",
    "    if isinstance(sizes, int):\n",
    "        new_sizes = [[] for i in range(sizes)]\n",
    "        return make_test_tree(new_sizes)\n",
    "    if len(sizes) == 0:\n",
    "        return TreeNode(children = [])\n",
    "    children = [make_test_tree(s) for s in sizes]\n",
    "    return TreeNode(children = children)"
   ]
  },
  {
   "cell_type": "code",
   "execution_count": 5,
   "metadata": {
    "collapsed": false
   },
   "outputs": [],
   "source": [
    "tree = make_test_tree([[4,1,2],[1,2,3]])"
   ]
  },
  {
   "cell_type": "code",
   "execution_count": 6,
   "metadata": {
    "collapsed": false
   },
   "outputs": [
    {
     "data": {
      "text/plain": [
       "[(),\n",
       " (0,),\n",
       " (0, 0),\n",
       " (0, 0, 0),\n",
       " (0, 0, 1),\n",
       " (0, 0, 2),\n",
       " (0, 0, 3),\n",
       " (0, 1),\n",
       " (0, 1, 0),\n",
       " (0, 2),\n",
       " (0, 2, 0),\n",
       " (0, 2, 1),\n",
       " (1,),\n",
       " (1, 0),\n",
       " (1, 0, 0),\n",
       " (1, 1),\n",
       " (1, 1, 0),\n",
       " (1, 1, 1),\n",
       " (1, 2),\n",
       " (1, 2, 0),\n",
       " (1, 2, 1),\n",
       " (1, 2, 2)]"
      ]
     },
     "execution_count": 6,
     "metadata": {},
     "output_type": "execute_result"
    }
   ],
   "source": [
    "list(tree.inner_and_full_paths())"
   ]
  },
  {
   "cell_type": "code",
   "execution_count": 7,
   "metadata": {
    "collapsed": false
   },
   "outputs": [
    {
     "data": {
      "text/plain": [
       "[(1, 2), (1, 2, 0), (1, 2, 1), (1, 2, 2)]"
      ]
     },
     "execution_count": 7,
     "metadata": {},
     "output_type": "execute_result"
    }
   ],
   "source": [
    "list(tree.lookup_path((1,2)).inner_and_full_paths(prefix_so_far=(1,2)))"
   ]
  },
  {
   "cell_type": "code",
   "execution_count": 8,
   "metadata": {
    "collapsed": false
   },
   "outputs": [
    {
     "data": {
      "text/plain": [
       "3"
      ]
     },
     "execution_count": 8,
     "metadata": {},
     "output_type": "execute_result"
    }
   ],
   "source": [
    "tree.depth()"
   ]
  },
  {
   "cell_type": "code",
   "execution_count": 9,
   "metadata": {
    "collapsed": false
   },
   "outputs": [
    {
     "data": {
      "text/plain": [
       "NCRP(alphaTheta=array([ 1.,  1.,  1.]), alphaV=0.1, alphaW=0.1, iterations=100, progress_bar='terminal', branch_structure=[5, 5], depth=2)"
      ]
     },
     "execution_count": 9,
     "metadata": {},
     "output_type": "execute_result"
    }
   ],
   "source": [
    "ncrp = NCRP(progress_bar = 'terminal')\n",
    "ncrp"
   ]
  },
  {
   "cell_type": "code",
   "execution_count": 10,
   "metadata": {
    "collapsed": true
   },
   "outputs": [],
   "source": [
    "#data = np.zeros((10, 20))"
   ]
  },
  {
   "cell_type": "code",
   "execution_count": 11,
   "metadata": {
    "collapsed": false
   },
   "outputs": [
    {
     "name": "stderr",
     "output_type": "stream",
     "text": [
      "Reading lines: 100%|██████████| 2246/2246 [00:00<00:00, 2578.56it/s]\n",
      "Filling matrix: 100%|██████████| 2246/2246 [00:02<00:00, 972.51it/s] \n"
     ]
    }
   ],
   "source": [
    "from load_data import load_data\n",
    "data = load_data(\"/Users/aleverentz/Downloads/ap/ap.dat\")"
   ]
  },
  {
   "cell_type": "code",
   "execution_count": 12,
   "metadata": {
    "collapsed": false
   },
   "outputs": [
    {
     "data": {
      "text/plain": [
       "(2246, 10473)"
      ]
     },
     "execution_count": 12,
     "metadata": {},
     "output_type": "execute_result"
    }
   ],
   "source": [
    "data.shape"
   ]
  },
  {
   "cell_type": "code",
   "execution_count": 13,
   "metadata": {
    "collapsed": true
   },
   "outputs": [],
   "source": [
    "data = data[:100,:1000]"
   ]
  },
  {
   "cell_type": "code",
   "execution_count": 14,
   "metadata": {
    "collapsed": false
   },
   "outputs": [
    {
     "data": {
      "text/plain": [
       "(100, 1000)"
      ]
     },
     "execution_count": 14,
     "metadata": {},
     "output_type": "execute_result"
    }
   ],
   "source": [
    "data.shape"
   ]
  },
  {
   "cell_type": "code",
   "execution_count": 15,
   "metadata": {
    "collapsed": true
   },
   "outputs": [],
   "source": [
    "data = data[np.where(data.sum(axis=1) > 0)[0], :]"
   ]
  },
  {
   "cell_type": "code",
   "execution_count": 16,
   "metadata": {
    "collapsed": false
   },
   "outputs": [
    {
     "data": {
      "text/plain": [
       "(100, 1000)"
      ]
     },
     "execution_count": 16,
     "metadata": {},
     "output_type": "execute_result"
    }
   ],
   "source": [
    "data.shape"
   ]
  },
  {
   "cell_type": "code",
   "execution_count": 17,
   "metadata": {
    "collapsed": false,
    "scrolled": false
   },
   "outputs": [
    {
     "name": "stderr",
     "output_type": "stream",
     "text": [
      "Optimizing via coordinate ascent: 100%|██████████| 100/100 [00:02<00:00, 36.68it/s]"
     ]
    },
    {
     "name": "stdout",
     "output_type": "stream",
     "text": [
      "CPU times: user 2.72 s, sys: 32.9 ms, total: 2.75 s\n",
      "Wall time: 2.75 s\n"
     ]
    },
    {
     "name": "stderr",
     "output_type": "stream",
     "text": [
      "\n"
     ]
    }
   ],
   "source": [
    "%%time\n",
    "f = ncrp.fit(data = data)"
   ]
  },
  {
   "cell_type": "code",
   "execution_count": 18,
   "metadata": {
    "collapsed": false
   },
   "outputs": [
    {
     "data": {
      "text/plain": [
       "{7: (1,), 10: (1, 2)}"
      ]
     },
     "execution_count": 18,
     "metadata": {},
     "output_type": "execute_result"
    }
   ],
   "source": [
    "most_likely_paths = np.argmax(f.path_prob, axis=1)\n",
    "{k: f.index_to_path[k] for k in np.unique(most_likely_paths)}"
   ]
  },
  {
   "cell_type": "code",
   "execution_count": 19,
   "metadata": {
    "collapsed": false
   },
   "outputs": [
    {
     "data": {
      "text/plain": [
       "array([(1,), (1,), (1,), (1,), (1,), (1,), (1, 2), (1,), (1,), (1,), (1,),\n",
       "       (1, 2), (1,), (1,), (1, 2), (1, 2), (1,), (1,), (1, 2), (1,), (1,),\n",
       "       (1,), (1,), (1,), (1, 2), (1,), (1,), (1, 2), (1,), (1,), (1, 2),\n",
       "       (1,), (1,), (1,), (1, 2), (1,), (1,), (1,), (1,), (1, 2), (1, 2),\n",
       "       (1, 2), (1,), (1,), (1,), (1,), (1,), (1,), (1,), (1,), (1,),\n",
       "       (1, 2), (1,), (1,), (1,), (1,), (1,), (1, 2), (1,), (1,), (1, 2),\n",
       "       (1,), (1, 2), (1,), (1, 2), (1,), (1, 2), (1, 2), (1,), (1,), (1,),\n",
       "       (1,), (1,), (1,), (1,), (1, 2), (1,), (1,), (1,), (1, 2), (1,),\n",
       "       (1,), (1,), (1,), (1,), (1,), (1, 2), (1, 2), (1, 2), (1,), (1,),\n",
       "       (1,), (1,), (1,), (1, 2), (1,), (1,), (1,), (1, 2), (1,)], dtype=object)"
      ]
     },
     "execution_count": 19,
     "metadata": {},
     "output_type": "execute_result"
    }
   ],
   "source": [
    "f.get_most_likely_paths()"
   ]
  },
  {
   "cell_type": "code",
   "execution_count": null,
   "metadata": {
    "collapsed": true
   },
   "outputs": [],
   "source": []
  }
 ],
 "metadata": {
  "kernelspec": {
   "display_name": "Python 2",
   "language": "python",
   "name": "python2"
  },
  "language_info": {
   "codemirror_mode": {
    "name": "ipython",
    "version": 2
   },
   "file_extension": ".py",
   "mimetype": "text/x-python",
   "name": "python",
   "nbconvert_exporter": "python",
   "pygments_lexer": "ipython2",
   "version": "2.7.10"
  }
 },
 "nbformat": 4,
 "nbformat_minor": 1
}
