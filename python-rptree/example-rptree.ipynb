{
 "cells": [
  {
   "cell_type": "code",
   "execution_count": 1,
   "metadata": {
    "collapsed": false
   },
   "outputs": [],
   "source": [
    "import numpy as np\n",
    "import matplotlib.pyplot as plt\n",
    "%matplotlib inline"
   ]
  },
  {
   "cell_type": "code",
   "execution_count": 2,
   "metadata": {
    "collapsed": false
   },
   "outputs": [],
   "source": [
    "from rptree.nearestNeighbor import makeForest, euclidean"
   ]
  },
  {
   "cell_type": "code",
   "execution_count": 3,
   "metadata": {
    "collapsed": true
   },
   "outputs": [],
   "source": [
    "np.random.seed(1)"
   ]
  },
  {
   "cell_type": "code",
   "execution_count": 4,
   "metadata": {
    "collapsed": true
   },
   "outputs": [],
   "source": [
    "isolated_points = np.array([\n",
    "    [110, 110],\n",
    "    [113, 114],\n",
    "    [119, 122],\n",
    "], dtype='float')"
   ]
  },
  {
   "cell_type": "code",
   "execution_count": 5,
   "metadata": {
    "collapsed": true
   },
   "outputs": [],
   "source": [
    "n_obs = 10000\n",
    "n_col = isolated_points.shape[1]\n",
    "data = np.vstack([\n",
    "    isolated_points,\n",
    "    np.random.normal(0, 1, (n_obs - len(isolated_points), n_col)),\n",
    "])\n",
    "perm = np.random.permutation(n_obs)\n",
    "data = data[perm, :]  # shuffle rows"
   ]
  },
  {
   "cell_type": "code",
   "execution_count": 6,
   "metadata": {
    "collapsed": false
   },
   "outputs": [
    {
     "name": "stdout",
     "output_type": "stream",
     "text": [
      " makeForest step: n_obs = 10000\n",
      "         920116 function calls (860758 primitive calls) in 1.416 seconds\n",
      "\n",
      "   Ordered by: internal time\n",
      "\n",
      "   ncalls  tottime  percall  cumtime  percall filename:lineno(function)\n",
      " 59378/20    0.436    0.000    1.415    0.071 nearestNeighbor.py:37(makeTree)\n",
      "    29679    0.130    0.000    0.130    0.000 {method 'normal' of 'mtrand.RandomState' objects}\n",
      "    29679    0.117    0.000    0.885    0.000 nearestNeighbor.py:70(chooseRule)\n",
      "    29679    0.101    0.000    0.199    0.000 linalg.py:2022(norm)\n",
      "    29679    0.085    0.000    0.085    0.000 {method 'partition' of 'numpy.ndarray' objects}\n",
      "    29679    0.081    0.000    0.410    0.000 nearestNeighbor.py:32(randomUnitVector)\n",
      "    29679    0.067    0.000    0.067    0.000 nearestNeighbor.py:126(__init__)\n",
      "    59358    0.059    0.000    0.059    0.000 {numpy.core.multiarray.dot}\n",
      "    29679    0.039    0.000    0.253    0.000 nearestNeighbor.py:6(selectQuantile)\n",
      "    29679    0.038    0.000    0.038    0.000 {method 'uniform' of 'mtrand.RandomState' objects}\n",
      "    29679    0.037    0.000    0.170    0.000 fromnumeric.py:553(partition)\n",
      "    29679    0.031    0.000    0.203    0.000 nearestNeighbor.py:10(selectRank)\n",
      "    29679    0.027    0.000    0.027    0.000 {method 'copy' of 'numpy.ndarray' objects}\n",
      "    29679    0.024    0.000    0.029    0.000 numeric.py:463(asarray)\n",
      "    29699    0.021    0.000    0.021    0.000 nearestNeighbor.py:85(__init__)\n",
      "    29679    0.020    0.000    0.020    0.000 {built-in method __new__ of type object at 0x10751c418}\n",
      "    29679    0.018    0.000    0.018    0.000 {method 'ravel' of 'numpy.ndarray' objects}\n",
      "    29679    0.016    0.000    0.020    0.000 numeric.py:534(asanyarray)\n",
      "    59358    0.015    0.000    0.015    0.000 {issubclass}\n",
      "    29679    0.015    0.000    0.034    0.000 <string>:8(__new__)\n",
      "   118737    0.012    0.000    0.012    0.000 {len}\n",
      "    29679    0.010    0.000    0.016    0.000 linalg.py:111(isComplexType)\n",
      "    59358    0.009    0.000    0.009    0.000 {numpy.core.multiarray.array}\n",
      "    29679    0.007    0.000    0.007    0.000 {round}\n",
      "        1    0.000    0.000    0.000    0.000 {numpy.core.multiarray.arange}\n",
      "        1    0.000    0.000    1.416    1.416 nearestNeighbor.py:64(makeForest)\n",
      "        1    0.000    0.000    1.416    1.416 <string>:1(<module>)\n",
      "        1    0.000    0.000    0.000    0.000 {range}\n",
      "        1    0.000    0.000    0.000    0.000 nearestNeighbor.py:173(__init__)\n",
      "        1    0.000    0.000    0.000    0.000 {method 'disable' of '_lsprof.Profiler' objects}\n",
      "\n",
      "\n"
     ]
    }
   ],
   "source": [
    "pstat = %prun -r \\\n",
    "forest = makeForest(data, maxLeafSize = 10, numTrees = 20, \\\n",
    "    distanceFunction = euclidean)\n",
    "\n",
    "print(\"makeForest step: n_obs = {}\".format(n_obs))\n",
    "pstat.print_stats()\n",
    "None"
   ]
  },
  {
   "cell_type": "code",
   "execution_count": 7,
   "metadata": {
    "collapsed": false
   },
   "outputs": [
    {
     "name": "stdout",
     "output_type": "stream",
     "text": [
      " kneighbors step: n_obs = 10000\n",
      "         316393 function calls (286734 primitive calls) in 0.525 seconds\n",
      "\n",
      "   Ordered by: internal time\n",
      "\n",
      "   ncalls  tottime  percall  cumtime  percall filename:lineno(function)\n",
      " 29679/20    0.244    0.000    0.503    0.025 nearestNeighbor.py:131(getLeaves)\n",
      "    59540    0.082    0.000    0.082    0.000 {numpy.core.multiarray.copyto}\n",
      "    29679    0.060    0.000    0.081    0.000 nearestNeighbor.py:80(__call__)\n",
      "    59702    0.039    0.000    0.039    0.000 {numpy.core.multiarray.empty}\n",
      "    59378    0.035    0.000    0.156    0.000 numeric.py:258(full)\n",
      "    29699    0.023    0.000    0.126    0.000 nearestNeighbor.py:90(getLeaves)\n",
      "    30087    0.021    0.000    0.021    0.000 {numpy.core.multiarray.dot}\n",
      "     4602    0.002    0.000    0.002    0.000 {getattr}\n",
      "      282    0.002    0.000    0.006    0.000 core.py:2913(__array_finalize__)\n",
      "      402    0.002    0.000    0.004    0.000 core.py:2887(_update_from)\n",
      "      246    0.002    0.000    0.003    0.000 core.py:3231(__setitem__)\n",
      "      408    0.001    0.000    0.003    0.000 linalg.py:2022(norm)\n",
      "      162    0.001    0.000    0.006    0.000 core.py:2753(__new__)\n",
      "       60    0.001    0.000    0.013    0.000 nearestNeighbor.py:102(kneighbors)\n",
      "     1494    0.001    0.000    0.001    0.000 core.py:3320(__setattr__)\n",
      "      408    0.001    0.000    0.003    0.000 nearestNeighbor.py:19(euclidean)\n",
      "       20    0.001    0.000    0.520    0.026 nearestNeighbor.py:155(kneighbors)\n",
      "     1890    0.001    0.000    0.001    0.000 {method 'update' of 'dict' objects}\n",
      "     1938    0.001    0.000    0.001    0.000 {isinstance}\n",
      "      120    0.001    0.000    0.004    0.000 core.py:3161(__getitem__)\n",
      "      162    0.000    0.000    0.008    0.000 extras.py:106(masked_all)\n",
      "      486    0.000    0.000    0.000    0.000 core.py:3540(_get_data)\n",
      "        1    0.000    0.000    0.525    0.525 nearestNeighbor.py:181(kneighbors)\n",
      "       63    0.000    0.000    0.000    0.000 {method 'argpartition' of 'numpy.ndarray' objects}\n",
      "      162    0.000    0.000    0.001    0.000 core.py:1308(make_mask_descr)\n",
      "      120    0.000    0.000    0.000    0.000 core.py:3715(compressed)\n",
      "       81    0.000    0.000    0.000    0.000 shape_base.py:61(atleast_2d)\n",
      "      246    0.000    0.000    0.001    0.000 core.py:3488(unshare_mask)\n",
      "      819    0.000    0.000    0.000    0.000 {numpy.core.multiarray.array}\n",
      "       63    0.000    0.000    0.000    0.000 {method 'argsort' of 'numpy.ndarray' objects}\n",
      "      816    0.000    0.000    0.000    0.000 {issubclass}\n",
      "      408    0.000    0.000    0.000    0.000 numeric.py:463(asarray)\n",
      "      408    0.000    0.000    0.000    0.000 {method 'ravel' of 'numpy.ndarray' objects}\n",
      "      162    0.000    0.000    0.000    0.000 {method 'copy' of 'numpy.ndarray' objects}\n",
      "      162    0.000    0.000    0.001    0.000 numeric.py:150(ones)\n",
      "      162    0.000    0.000    0.000    0.000 {hasattr}\n",
      "      408    0.000    0.000    0.000    0.000 linalg.py:111(isComplexType)\n",
      "      120    0.000    0.000    0.000    0.000 {method 'compress' of 'numpy.ndarray' objects}\n",
      "       60    0.000    0.000    0.000    0.000 {zip}\n",
      "      126    0.000    0.000    0.001    0.000 fromnumeric.py:55(_wrapfunc)\n",
      "      162    0.000    0.000    0.000    0.000 core.py:1287(_recursive_make_descr)\n",
      "       63    0.000    0.000    0.001    0.000 fromnumeric.py:643(argpartition)\n",
      "      120    0.000    0.000    0.002    0.000 {method 'view' of 'numpy.ndarray' objects}\n",
      "      621    0.000    0.000    0.000    0.000 {len}\n",
      "       81    0.000    0.000    0.000    0.000 numeric.py:534(asanyarray)\n",
      "       63    0.000    0.000    0.000    0.000 fromnumeric.py:826(argsort)\n",
      "       60    0.000    0.000    0.000    0.000 {numpy.core.multiarray.zeros}\n",
      "        1    0.000    0.000    0.525    0.525 <string>:1(<module>)\n",
      "      107    0.000    0.000    0.000    0.000 {method 'append' of 'list' objects}\n",
      "      246    0.000    0.000    0.000    0.000 {sys.getrefcount}\n",
      "       24    0.000    0.000    0.000    0.000 {range}\n",
      "       13    0.000    0.000    0.000    0.000 {method 'add' of 'set' objects}\n",
      "        1    0.000    0.000    0.000    0.000 {method 'disable' of '_lsprof.Profiler' objects}\n",
      "\n",
      "\n"
     ]
    }
   ],
   "source": [
    "pstat = %prun -r \\\n",
    "distances, indices = forest.kneighbors(isolated_points, k = 3)\n",
    "\n",
    "print(\"kneighbors step: n_obs = {}\".format(n_obs))\n",
    "pstat.print_stats()\n",
    "None"
   ]
  },
  {
   "cell_type": "code",
   "execution_count": 8,
   "metadata": {
    "collapsed": true
   },
   "outputs": [],
   "source": [
    "expected = np.array([\n",
    "    [0, 5, 15],\n",
    "    [0, 5, 10],\n",
    "    [0, 10, 15],\n",
    "], dtype='float')\n",
    "np.testing.assert_allclose(distances, expected)"
   ]
  },
  {
   "cell_type": "code",
   "execution_count": 9,
   "metadata": {
    "collapsed": true
   },
   "outputs": [],
   "source": [
    "# Extract indices corresponding to isolated points\n",
    "i1, i2, i3 = [list(perm).index(i) for i in range(3)]"
   ]
  },
  {
   "cell_type": "code",
   "execution_count": 10,
   "metadata": {
    "collapsed": true
   },
   "outputs": [],
   "source": [
    "expected = np.array([\n",
    "    [i1, i2, i3],\n",
    "    [i2, i1, i3],\n",
    "    [i3, i2, i1],\n",
    "], dtype='int')\n",
    "np.testing.assert_array_equal(indices, expected)"
   ]
  },
  {
   "cell_type": "code",
   "execution_count": null,
   "metadata": {
    "collapsed": true
   },
   "outputs": [],
   "source": []
  }
 ],
 "metadata": {
  "kernelspec": {
   "display_name": "Python 2",
   "language": "python",
   "name": "python2"
  },
  "language_info": {
   "codemirror_mode": {
    "name": "ipython",
    "version": 2
   },
   "file_extension": ".py",
   "mimetype": "text/x-python",
   "name": "python",
   "nbconvert_exporter": "python",
   "pygments_lexer": "ipython2",
   "version": "2.7.10"
  }
 },
 "nbformat": 4,
 "nbformat_minor": 1
}
