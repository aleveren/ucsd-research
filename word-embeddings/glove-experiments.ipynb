{
 "cells": [
  {
   "cell_type": "code",
   "execution_count": 1,
   "metadata": {},
   "outputs": [],
   "source": [
    "import numpy as np\n",
    "import matplotlib.pyplot as plt\n",
    "%matplotlib inline"
   ]
  },
  {
   "cell_type": "code",
   "execution_count": 2,
   "metadata": {},
   "outputs": [],
   "source": [
    "from sklearn.neighbors import NearestNeighbors"
   ]
  },
  {
   "cell_type": "code",
   "execution_count": 3,
   "metadata": {},
   "outputs": [],
   "source": [
    "import os"
   ]
  },
  {
   "cell_type": "code",
   "execution_count": 4,
   "metadata": {},
   "outputs": [],
   "source": [
    "glove_dir = \"/Users/aleverentz/Desktop/glove.6B\""
   ]
  },
  {
   "cell_type": "code",
   "execution_count": 5,
   "metadata": {},
   "outputs": [
    {
     "name": "stdout",
     "output_type": "stream",
     "text": [
      "glove.6B.100d.txt\n",
      "glove.6B.200d.txt\n",
      "glove.6B.300d.txt\n",
      "glove.6B.50d.txt\n"
     ]
    }
   ],
   "source": [
    "for f in os.listdir(glove_dir):\n",
    "    print(f)"
   ]
  },
  {
   "cell_type": "code",
   "execution_count": 6,
   "metadata": {},
   "outputs": [],
   "source": [
    "dim = 50"
   ]
  },
  {
   "cell_type": "code",
   "execution_count": 7,
   "metadata": {},
   "outputs": [],
   "source": [
    "from tqdm import tqdm"
   ]
  },
  {
   "cell_type": "code",
   "execution_count": 8,
   "metadata": {},
   "outputs": [
    {
     "name": "stderr",
     "output_type": "stream",
     "text": [
      "400000it [00:09, 40998.96it/s]"
     ]
    },
    {
     "name": "stdout",
     "output_type": "stream",
     "text": [
      "Constructing matrix\n",
      "CPU times: user 10 s, sys: 634 ms, total: 10.6 s\n",
      "Wall time: 10.6 s\n"
     ]
    },
    {
     "name": "stderr",
     "output_type": "stream",
     "text": [
      "\n"
     ]
    }
   ],
   "source": [
    "%%time\n",
    "vocab = []\n",
    "glove_matrix_rows = []\n",
    "with open(glove_dir + \"/glove.6B.{}d.txt\".format(dim)) as f:\n",
    "    for line in tqdm(f):\n",
    "        word, *rest = line.rstrip().split()\n",
    "        vocab.append(word)\n",
    "        rest = [float(x) for x in rest]\n",
    "        glove_matrix_rows.append(rest)\n",
    "print(\"Constructing matrix\")\n",
    "glove_matrix = np.array(glove_matrix_rows)\n",
    "del glove_matrix_rows"
   ]
  },
  {
   "cell_type": "code",
   "execution_count": 9,
   "metadata": {},
   "outputs": [
    {
     "name": "stdout",
     "output_type": "stream",
     "text": [
      "400000\n",
      "(400000, 50)\n"
     ]
    }
   ],
   "source": [
    "print(len(vocab))\n",
    "print(glove_matrix.shape)"
   ]
  },
  {
   "cell_type": "code",
   "execution_count": 10,
   "metadata": {},
   "outputs": [],
   "source": [
    "n_obj = NearestNeighbors()"
   ]
  },
  {
   "cell_type": "code",
   "execution_count": 11,
   "metadata": {},
   "outputs": [
    {
     "name": "stdout",
     "output_type": "stream",
     "text": [
      "CPU times: user 3.29 s, sys: 60.1 ms, total: 3.35 s\n",
      "Wall time: 3.42 s\n"
     ]
    }
   ],
   "source": [
    "%%time\n",
    "n_obj.fit(glove_matrix)\n",
    "None"
   ]
  },
  {
   "cell_type": "code",
   "execution_count": 12,
   "metadata": {},
   "outputs": [
    {
     "name": "stdout",
     "output_type": "stream",
     "text": [
      "Nearest neighbors of 'elegant' based on 50-d glove embeddings:\n",
      "stylish\n",
      "graceful\n",
      "elegantly\n",
      "decor\n"
     ]
    }
   ],
   "source": [
    "word = \"elegant\"\n",
    "word_index = vocab.index(word)\n",
    "\n",
    "print(\"Nearest neighbors of '{}' based on {}-d glove embeddings:\".format(word, dim))\n",
    "dist, ind = n_obj.kneighbors(glove_matrix[[word_index], :])\n",
    "ind = ind.flatten()\n",
    "for i in range(len(ind)):\n",
    "    if ind[i] != word_index:\n",
    "        print(vocab[ind[i]])"
   ]
  },
  {
   "cell_type": "code",
   "execution_count": 13,
   "metadata": {},
   "outputs": [
    {
     "name": "stdout",
     "output_type": "stream",
     "text": [
      "According to 50-d glove embeddings,\n",
      "paris : france :: beijing : china\n",
      "Or, via indices,\n",
      "1035 : 387 :: 942 : 132\n",
      "Distance from query vector to its nearest neighbor: 3.038782864600168\n"
     ]
    }
   ],
   "source": [
    "# Analogies demo\n",
    "\n",
    "words = [\"paris\", \"france\", \"beijing\"]\n",
    "indices = [vocab.index(w) for w in words]\n",
    "\n",
    "query_vector = glove_matrix[indices[2], :] + glove_matrix[indices[1], :] - glove_matrix[indices[0], :]\n",
    "nn_dist, nn_index = map(np.asscalar, n_obj.kneighbors([query_vector], n_neighbors=1))\n",
    "nn_word = vocab[nn_index]\n",
    "\n",
    "words.append(nn_word)\n",
    "indices.append(nn_index)\n",
    "\n",
    "print(\"According to {}-d glove embeddings,\".format(dim))\n",
    "print(\"{} : {} :: {} : {}\".format(*words))\n",
    "print(\"Or, via indices,\")\n",
    "print(\"{} : {} :: {} : {}\".format(*indices))\n",
    "print(\"Distance from query vector to its nearest neighbor: {}\".format(nn_dist))"
   ]
  },
  {
   "cell_type": "code",
   "execution_count": null,
   "metadata": {},
   "outputs": [],
   "source": []
  }
 ],
 "metadata": {
  "kernelspec": {
   "display_name": "Python 3",
   "language": "python",
   "name": "python3"
  },
  "language_info": {
   "codemirror_mode": {
    "name": "ipython",
    "version": 3
   },
   "file_extension": ".py",
   "mimetype": "text/x-python",
   "name": "python",
   "nbconvert_exporter": "python",
   "pygments_lexer": "ipython3",
   "version": "3.6.5"
  }
 },
 "nbformat": 4,
 "nbformat_minor": 2
}
