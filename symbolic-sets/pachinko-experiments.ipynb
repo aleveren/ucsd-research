{
 "cells": [
  {
   "cell_type": "code",
   "execution_count": 1,
   "metadata": {},
   "outputs": [],
   "source": [
    "import bayesnet_alt as bn\n",
    "import numpy as np\n",
    "import networkx as nx\n",
    "import matplotlib.pyplot as plt"
   ]
  },
  {
   "cell_type": "code",
   "execution_count": 2,
   "metadata": {},
   "outputs": [],
   "source": [
    "np.random.seed(1)"
   ]
  },
  {
   "cell_type": "markdown",
   "metadata": {},
   "source": [
    "### Pachinko Allocation Model (PAM)\n",
    "\n",
    "This is a semi-constrained version of the PAM -- not as constrained as the 3-layer or 4-layer PAM, since it allows an arbitrary number of layers (\"$N$-layer PAM\").  However, it does not yet allow an arbitrary DAG structure."
   ]
  },
  {
   "cell_type": "code",
   "execution_count": 3,
   "metadata": {},
   "outputs": [],
   "source": [
    "# Define a directed acyclic graph of topics, with exactly one source (the root), and with all leaves at the same depth (?)\n",
    "g = nx.DiGraph()\n",
    "g.add_edges_from([\n",
    "  (0, 1),\n",
    "  (0, 2),\n",
    "  (1, 3),\n",
    "  (1, 4),\n",
    "  (1, 5),\n",
    "  (2, 3),\n",
    "  (2, 4),\n",
    "  (2, 5),\n",
    "])\n",
    "g.graph[\"root\"] = 0"
   ]
  },
  {
   "cell_type": "code",
   "execution_count": 4,
   "metadata": {},
   "outputs": [
    {
     "data": {
      "image/png": "[encoded data removed]",
      "text/plain": [
       "<Figure size 432x288 with 1 Axes>"
      ]
     },
     "metadata": {},
     "output_type": "display_data"
    }
   ],
   "source": [
    "nx.draw_circular(g)"
   ]
  },
  {
   "cell_type": "code",
   "execution_count": 5,
   "metadata": {},
   "outputs": [],
   "source": [
    "bottom_layer_shared_across_corpus = True"
   ]
  },
  {
   "cell_type": "code",
   "execution_count": 6,
   "metadata": {},
   "outputs": [],
   "source": [
    "def all_paths(g, start=None, prefix=()):\n",
    "    if start is None:\n",
    "        start = g.graph[\"root\"]\n",
    "    assert nx.algorithms.is_directed_acyclic_graph(g)\n",
    "    yield prefix\n",
    "    node = convert_path_to_node(g, path = prefix)\n",
    "    for c in nx.neighbors(g, node):\n",
    "        for p in all_paths(g, start = c, prefix = prefix + (c,)):\n",
    "            yield p\n",
    "\n",
    "def depth(g):\n",
    "    depths = set()\n",
    "    for p in all_paths(g):\n",
    "        if num_children(g, convert_path_to_node(g, p)) == 0:\n",
    "            depths.add(len(p))\n",
    "    assert len(depths) == 1\n",
    "    return list(depths)[0]\n",
    "\n",
    "def convert_path_to_node(g, path):\n",
    "    if len(path) == 0:\n",
    "        return g.graph[\"root\"]\n",
    "    else:\n",
    "        return path[-1]\n",
    "\n",
    "def num_children(g, node):\n",
    "    return len(list(nx.neighbors(g, node)))"
   ]
  },
  {
   "cell_type": "code",
   "execution_count": 7,
   "metadata": {},
   "outputs": [
    {
     "data": {
      "text/plain": [
       "[(), (1,), (1, 3), (1, 4), (1, 5), (2,), (2, 3), (2, 4), (2, 5)]"
      ]
     },
     "execution_count": 7,
     "metadata": {},
     "output_type": "execute_result"
    }
   ],
   "source": [
    "list(all_paths(g))"
   ]
  },
  {
   "cell_type": "code",
   "execution_count": 8,
   "metadata": {},
   "outputs": [
    {
     "data": {
      "text/plain": [
       "2"
      ]
     },
     "execution_count": 8,
     "metadata": {},
     "output_type": "execute_result"
    }
   ],
   "source": [
    "depth(g)"
   ]
  },
  {
   "cell_type": "code",
   "execution_count": 9,
   "metadata": {},
   "outputs": [],
   "source": [
    "m = bn.Model()\n",
    "for node in g.nodes:\n",
    "    nc = num_children(g, node)\n",
    "    if nc == 0:\n",
    "        m.add_random_variable((\"alpha\", node), bn.Constant(bn.Placeholder(shape=(bn.IndexSet(\"vocab\"),))))\n",
    "    else:\n",
    "        m.add_random_variable((\"alpha\", node), bn.Constant(bn.Placeholder(shape=(nc,))))\n",
    "documents_by_word_slot = bn.SymbolicMapping(\"word_slots\", \"documents\", \"documents_by_word_slot\")\n",
    "\n",
    "with m.loop_over(\"d\", \"documents\") as d:\n",
    "    for node in g.nodes:\n",
    "        if num_children(g, node) > 0 or not bottom_layer_shared_across_corpus:\n",
    "            m.add_random_variable((\"theta\", d, node), bn.Dirichlet((\"alpha\", node)))\n",
    "\n",
    "if bottom_layer_shared_across_corpus:\n",
    "    for node in g.nodes:\n",
    "        if num_children(g, node) == 0:\n",
    "            m.add_random_variable((\"theta\", node), bn.Dirichlet((\"alpha\", node)))\n",
    "\n",
    "with m.loop_over(\"w\", \"word_slots\") as w:\n",
    "    m.add_random_variable((\"current_doc\", w), bn.Deterministic(documents_by_word_slot, args=[w]))\n",
    "    #m.add_random_variable((\"current_path\", w, 0), bn.Constant((g.graph[\"root\"],)))\n",
    "    m.add_random_variable((\"current_node\", w, 0), bn.Constant(g.graph[\"root\"]))\n",
    "    for i in range(depth(g)):\n",
    "        if i == depth(g) - 1 and bottom_layer_shared_across_corpus:\n",
    "            m.add_random_variable((\"current_theta\", w, i), bn.DeterministicLookup(\"theta\", indices=[(\"current_node\", w, i)]))\n",
    "        else:\n",
    "            m.add_random_variable((\"current_theta\", w, i), bn.DeterministicLookup(\"theta\", indices=[(\"current_doc\", w), (\"current_node\", w, i)]))\n",
    "        m.add_random_variable((\"z\", w, i), bn.Categorical((\"current_theta\", w, i)))\n",
    "        m.add_random_variable((\"current_node\", w, i+1),\n",
    "            bn.Deterministic(lambda x, y: sorted(list(nx.neighbors(g, x)))[y], args=[(\"current_node\", w, i), (\"z\", w, i)]))\n",
    "        #m.add_random_variable((\"current_path\", w, i+1),\n",
    "        #    bn.Deterministic(lambda xs, x: xs + [x], args = [(\"current_path\", w, i), (\"current_node\", w, i)]))\n",
    "    m.add_random_variable((\"current_theta\", w, depth(g)), bn.DeterministicLookup(\"theta\", indices=[(\"current_doc\", w), (\"current_node\", w, depth(g))]))\n",
    "    m.add_random_variable((\"t\", w), bn.Categorical((\"current_theta\", w, depth(g))))  # <-- observed data"
   ]
  },
  {
   "cell_type": "code",
   "execution_count": 10,
   "metadata": {},
   "outputs": [
    {
     "data": {
      "text/plain": [
       "[(('alpha', 0), Constant(value=Placeholder(shape=(2,)))),\n",
       " (('alpha', 1), Constant(value=Placeholder(shape=(3,)))),\n",
       " (('alpha', 2), Constant(value=Placeholder(shape=(3,)))),\n",
       " (('alpha', 3), Constant(value=Placeholder(shape=(IndexSet(name='vocab'),)))),\n",
       " (('alpha', 4), Constant(value=Placeholder(shape=(IndexSet(name='vocab'),)))),\n",
       " (('alpha', 5), Constant(value=Placeholder(shape=(IndexSet(name='vocab'),)))),\n",
       " (('theta', for d in documents, 0), Dirichlet(alpha=('alpha', 0))),\n",
       " (('theta', for d in documents, 1), Dirichlet(alpha=('alpha', 1))),\n",
       " (('theta', for d in documents, 2), Dirichlet(alpha=('alpha', 2))),\n",
       " (('theta', 3), Dirichlet(alpha=('alpha', 3))),\n",
       " (('theta', 4), Dirichlet(alpha=('alpha', 4))),\n",
       " (('theta', 5), Dirichlet(alpha=('alpha', 5))),\n",
       " (('current_doc', for w in word_slots),\n",
       "  Deterministic(func=SymbolicMapping(domain='word_slots', codomain='documents', name='documents_by_word_slot'), args=[for w in word_slots])),\n",
       " (('current_node', for w in word_slots, 0), Constant(value=0)),\n",
       " (('current_theta', for w in word_slots, 0),\n",
       "  DeterministicLookup(var='theta', indices=[('current_doc', for w in word_slots), ('current_node', for w in word_slots, 0)])),\n",
       " (('z', for w in word_slots, 0),\n",
       "  Categorical(probs=('current_theta', for w in word_slots, 0))),\n",
       " (('current_node', for w in word_slots, 1),\n",
       "  Deterministic(func=<function <lambda> at 0x109ed0d08>, args=[('current_node', for w in word_slots, 0), ('z', for w in word_slots, 0)])),\n",
       " (('current_theta', for w in word_slots, 1),\n",
       "  DeterministicLookup(var='theta', indices=[('current_node', for w in word_slots, 1)])),\n",
       " (('z', for w in word_slots, 1),\n",
       "  Categorical(probs=('current_theta', for w in word_slots, 1))),\n",
       " (('current_node', for w in word_slots, 2),\n",
       "  Deterministic(func=<function <lambda> at 0x109fb4bf8>, args=[('current_node', for w in word_slots, 1), ('z', for w in word_slots, 1)])),\n",
       " (('current_theta', for w in word_slots, 2),\n",
       "  DeterministicLookup(var='theta', indices=[('current_doc', for w in word_slots), ('current_node', for w in word_slots, 2)])),\n",
       " (('t', for w in word_slots),\n",
       "  Categorical(probs=('current_theta', for w in word_slots, 2)))]"
      ]
     },
     "execution_count": 10,
     "metadata": {},
     "output_type": "execute_result"
    }
   ],
   "source": [
    "m.vars_and_distribs"
   ]
  },
  {
   "cell_type": "code",
   "execution_count": 11,
   "metadata": {},
   "outputs": [
    {
     "name": "stdout",
     "output_type": "stream",
     "text": [
      "[(('foo',), Constant(value=0)), (('bar', for a in a_domain, for a2 in a_domain), Constant(value=0)), (('baz', for a in a_domain), Constant(value=0))]\n"
     ]
    }
   ],
   "source": [
    "m = bn.Model()\n",
    "m.add_random_variable((\"foo\",), bn.Constant(0))\n",
    "with m.loop_over(\"a\", \"a_domain\") as a:\n",
    "    with m.loop_over(\"a2\", \"a_domain\") as a2:\n",
    "        m.add_random_variable((\"bar\", a, a2), bn.Constant(0))\n",
    "    m.add_random_variable((\"baz\", a), bn.Constant(0))\n",
    "print(m.vars_and_distribs)"
   ]
  },
  {
   "cell_type": "code",
   "execution_count": 12,
   "metadata": {},
   "outputs": [
    {
     "data": {
      "text/plain": [
       "Deterministic(func=<function lookup at 0x109fb4158>, args=[('theta', IndexSet(name='documents'), IndexSet(name='nodes')), [('current_doc', for w in word_slots), ('current_node', for w in word_slots, 2)]])"
      ]
     },
     "execution_count": 12,
     "metadata": {},
     "output_type": "execute_result"
    }
   ],
   "source": [
    "bn.DeterministicLookup(\"theta\", indices=[(\"current_doc\", w), (\"current_node\", w, 2)])\n",
    "\n",
    "# equivalent to:\n",
    "\n",
    "def lookup(var_collection, indices):\n",
    "    result = var_collection\n",
    "    for idx in indices:\n",
    "        result = result[idx]\n",
    "    return result\n",
    "\n",
    "bn.Deterministic(lookup,\n",
    "    args = [\n",
    "        (\"theta\", bn.IndexSet(\"documents\"), bn.IndexSet(\"nodes\")),\n",
    "        [(\"current_doc\", w), (\"current_node\", w, 2)]\n",
    "    ]\n",
    ")"
   ]
  },
  {
   "cell_type": "code",
   "execution_count": 13,
   "metadata": {},
   "outputs": [
    {
     "data": {
      "text/plain": [
       "{}"
      ]
     },
     "execution_count": 13,
     "metadata": {},
     "output_type": "execute_result"
    }
   ],
   "source": [
    "# TODO\n",
    "\n",
    "vocab_size = 8\n",
    "vocab = [\"w{:02}\".format(i) for i in range(vocab_size)]\n",
    "\n",
    "def docs_by_word_impl(w):\n",
    "    num_long_docs = 2\n",
    "    long_doc_size = 10\n",
    "    short_doc_size = 5\n",
    "    if w < num_long_docs * long_doc_size:\n",
    "        return w // long_doc_size\n",
    "    else:\n",
    "        return num_long_docs + (w - num_long_docs * long_doc_size) // short_doc_size\n",
    "\n",
    "m.generate_data(\n",
    "    placeholders = {\n",
    "        (\"alpha\", 0): np.ones(2),\n",
    "        (\"alpha\", 1): np.ones(3),\n",
    "        (\"alpha\", 2): np.ones(3),\n",
    "        (\"alpha\", 3): np.ones(vocab_size),\n",
    "        (\"alpha\", 4): np.ones(vocab_size),\n",
    "        (\"alpha\", 5): np.ones(vocab_size),\n",
    "    },\n",
    "    sets = {\n",
    "        \"documents\": np.arange(5),\n",
    "        \"word_slots\": np.arange(25),\n",
    "        \"vocab\": np.arange(vocab_size),\n",
    "    },\n",
    "    mappings = {\n",
    "        \"documents_by_word_slot\": docs_by_word_impl,\n",
    "    },\n",
    ")"
   ]
  },
  {
   "cell_type": "code",
   "execution_count": null,
   "metadata": {},
   "outputs": [],
   "source": []
  }
 ],
 "metadata": {
  "kernelspec": {
   "display_name": "Python 3",
   "language": "python",
   "name": "python3"
  },
  "language_info": {
   "codemirror_mode": {
    "name": "ipython",
    "version": 3
   },
   "file_extension": ".py",
   "mimetype": "text/x-python",
   "name": "python",
   "nbconvert_exporter": "python",
   "pygments_lexer": "ipython3",
   "version": "3.6.5"
  }
 },
 "nbformat": 4,
 "nbformat_minor": 2
}
