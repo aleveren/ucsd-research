{
 "cells": [
  {
   "cell_type": "code",
   "execution_count": 1,
   "metadata": {
    "collapsed": true
   },
   "outputs": [],
   "source": [
    "import numpy as np\n",
    "import matplotlib.pyplot as plt\n",
    "%matplotlib inline"
   ]
  },
  {
   "cell_type": "code",
   "execution_count": 2,
   "metadata": {
    "collapsed": true
   },
   "outputs": [],
   "source": [
    "from scipy.stats import gaussian_kde"
   ]
  },
  {
   "cell_type": "code",
   "execution_count": 3,
   "metadata": {
    "collapsed": true
   },
   "outputs": [],
   "source": [
    "np.random.seed(1)"
   ]
  },
  {
   "cell_type": "code",
   "execution_count": 4,
   "metadata": {
    "collapsed": false
   },
   "outputs": [],
   "source": [
    "points_per_cluster = 100\n",
    "\n",
    "means = 3.0 * np.array([0, 1, 2, 3])\n",
    "sigma = 1.0  # data-generating standard deviation (assume known & fixed)\n",
    "K = len(means)\n",
    "labels = []\n",
    "data = []\n",
    "\n",
    "for k in range(K):\n",
    "    for i in range(points_per_cluster):\n",
    "        labels.append(k)\n",
    "        x = np.random.normal(means[k], sigma)\n",
    "        data.append(x)\n",
    "\n",
    "data = np.array(data)\n",
    "labels = np.array(labels)\n",
    "\n",
    "indices = np.arange(len(data))\n",
    "np.random.shuffle(indices)\n",
    "data = data[indices]\n",
    "labels = labels[indices]"
   ]
  },
  {
   "cell_type": "code",
   "execution_count": 5,
   "metadata": {
    "collapsed": false
   },
   "outputs": [
    {
     "data": {
      "text/plain": [
       "((400,), (400,))"
      ]
     },
     "execution_count": 5,
     "metadata": {},
     "output_type": "execute_result"
    }
   ],
   "source": [
    "data.shape, labels.shape"
   ]
  },
  {
   "cell_type": "code",
   "execution_count": 6,
   "metadata": {
    "collapsed": false
   },
   "outputs": [
    {
     "data": {
      "image/png": "[encoded data removed]",
      "text/plain": [
       "<matplotlib.figure.Figure at 0x10379da90>"
      ]
     },
     "metadata": {},
     "output_type": "display_data"
    }
   ],
   "source": [
    "fig, ax = plt.subplots(2, 1, sharex=True)\n",
    "colors = ['red', 'green', 'blue', 'black']\n",
    "for k in range(K):\n",
    "    mask = (labels == k)\n",
    "    x = data[mask]\n",
    "    y = np.random.uniform(0, 0.1, len(x))\n",
    "    ax[0].plot(x, y, '.', color=colors[k])\n",
    "ax[0].set_ylim(-1, 1)\n",
    "\n",
    "# Use kernel density estimation\n",
    "density = gaussian_kde(data)\n",
    "a, b = np.min(data), np.max(data)\n",
    "\n",
    "x = np.linspace(a - (b - a) * 0.1, b + (b - a) * 0.1, 100)\n",
    "y = density.evaluate(x)\n",
    "ax[1].plot(x, y)\n",
    "ax[1].set_ylim(0, None)\n",
    "\n",
    "None"
   ]
  },
  {
   "cell_type": "code",
   "execution_count": 7,
   "metadata": {
    "collapsed": true
   },
   "outputs": [],
   "source": [
    "def normalize_by_row(X):\n",
    "    denom = X.sum(axis = 1, keepdims = True)\n",
    "    result = np.true_divide(X, denom)\n",
    "    return result"
   ]
  },
  {
   "cell_type": "code",
   "execution_count": 8,
   "metadata": {
    "collapsed": false
   },
   "outputs": [],
   "source": [
    "def variational_inference(data, K, prior_stdev, num_iters=1000):\n",
    "    data = np.asarray(data)\n",
    "    n = data.shape[0]\n",
    "\n",
    "    m_history = []\n",
    "    \n",
    "    # Initialize variational parameters\n",
    "    m = np.random.normal(0, prior_stdev, size=K)\n",
    "    s2 = np.ones(K)\n",
    "    phi = normalize_by_row(np.ones((n, K)))\n",
    "    #phi = normalize_by_row(np.random.uniform(0, 1, (n, K)))\n",
    "\n",
    "    m_history.append(m.copy())\n",
    "    \n",
    "    for iter_index in range(num_iters):\n",
    "        for i in range(n):\n",
    "            for k in range(K):\n",
    "                phi[i, k] = np.exp(m[k] * data[i] - (m[k]**2 + s2[k]) / 2.0)\n",
    "        phi = normalize_by_row(phi)\n",
    "        for k in range(K):\n",
    "            denom = 1 / float(prior_stdev) ** 2 + np.sum(phi[:, k])\n",
    "            m[k] = np.inner(phi[:, k], data) / denom\n",
    "            s2[k] = 1 / denom\n",
    "        m_history.append(m.copy())\n",
    "\n",
    "    return m, s2, phi, np.array(m_history)"
   ]
  },
  {
   "cell_type": "code",
   "execution_count": 9,
   "metadata": {
    "collapsed": false
   },
   "outputs": [
    {
     "name": "stdout",
     "output_type": "stream",
     "text": [
      "CPU times: user 2.78 s, sys: 14.6 ms, total: 2.8 s\n",
      "Wall time: 2.81 s\n"
     ]
    }
   ],
   "source": [
    "%%time\n",
    "m, s2, phi, m_history = variational_inference(data, K, prior_stdev=sigma)"
   ]
  },
  {
   "cell_type": "code",
   "execution_count": 10,
   "metadata": {
    "collapsed": false
   },
   "outputs": [
    {
     "name": "stdout",
     "output_type": "stream",
     "text": [
      "['5.757', '8.843', '0.086', '3.110']\n"
     ]
    }
   ],
   "source": [
    "print [\"{:.3f}\".format(mi) for mi in m]"
   ]
  },
  {
   "cell_type": "code",
   "execution_count": 11,
   "metadata": {
    "collapsed": false
   },
   "outputs": [
    {
     "data": {
      "text/plain": [
       "array([ 0.,  3.,  6.,  9.])"
      ]
     },
     "execution_count": 11,
     "metadata": {},
     "output_type": "execute_result"
    }
   ],
   "source": [
    "means"
   ]
  },
  {
   "cell_type": "code",
   "execution_count": 12,
   "metadata": {
    "collapsed": false
   },
   "outputs": [
    {
     "data": {
      "text/plain": [
       "array([2, 3, 0, 1])"
      ]
     },
     "execution_count": 12,
     "metadata": {},
     "output_type": "execute_result"
    }
   ],
   "source": [
    "corrected_permutation = np.array([np.argmin(np.abs(m[i] - means)) for i in range(len(m))])\n",
    "corrected_permutation"
   ]
  },
  {
   "cell_type": "code",
   "execution_count": 13,
   "metadata": {
    "collapsed": false
   },
   "outputs": [
    {
     "data": {
      "text/plain": [
       "array([2, 3, 0, 1])"
      ]
     },
     "execution_count": 13,
     "metadata": {},
     "output_type": "execute_result"
    }
   ],
   "source": [
    "inv_corrected_permutation = np.zeros(K, dtype='int')\n",
    "inv_corrected_permutation[corrected_permutation] = np.arange(K)\n",
    "inv_corrected_permutation"
   ]
  },
  {
   "cell_type": "code",
   "execution_count": 14,
   "metadata": {
    "collapsed": true
   },
   "outputs": [],
   "source": [
    "pred_labels = np.argmax(phi, axis=1)"
   ]
  },
  {
   "cell_type": "code",
   "execution_count": 15,
   "metadata": {
    "collapsed": false
   },
   "outputs": [],
   "source": [
    "confusion_matrix = np.zeros((K, K))\n",
    "for i in range(len(labels)):\n",
    "    #confusion_matrix[labels[i], corrected_permutation[pred_labels[i]]] += 1\n",
    "    confusion_matrix[labels[i], pred_labels[i]] += 1\n",
    "\n",
    "    confusion_matrix"
   ]
  },
  {
   "cell_type": "code",
   "execution_count": 16,
   "metadata": {
    "collapsed": false
   },
   "outputs": [
    {
     "data": {
      "image/png": "[encoded data removed]",
      "text/plain": [
       "<matplotlib.figure.Figure at 0x106b5bf50>"
      ]
     },
     "metadata": {},
     "output_type": "display_data"
    }
   ],
   "source": [
    "plt.matshow(confusion_matrix, cmap='Blues', vmin=0, vmax=np.max(confusion_matrix))\n",
    "None"
   ]
  },
  {
   "cell_type": "code",
   "execution_count": 17,
   "metadata": {
    "collapsed": true
   },
   "outputs": [],
   "source": [
    "from matplotlib.patches import Rectangle"
   ]
  },
  {
   "cell_type": "code",
   "execution_count": 18,
   "metadata": {
    "collapsed": true
   },
   "outputs": [],
   "source": [
    "def display_cluster_results(data, labels, m, ax=None):\n",
    "    if ax is None:\n",
    "        fig, ax = plt.subplots()\n",
    "\n",
    "    colors = ['red', 'green', 'blue', 'black']\n",
    "    for k in range(K):\n",
    "        mask = (labels == k)\n",
    "        x = data[mask]\n",
    "        #y = np.random.uniform(0, 0.1, len(x))\n",
    "        y = 0.1 * np.arange(len(x)) / float(len(x))\n",
    "        ax.plot(x, y, '.', color=colors[k])\n",
    "\n",
    "        #ax.axvspan(m[k] - 1, m[k] + 1, color=colors[k], alpha=0.2)\n",
    "        ax.add_patch(Rectangle((m[k] - sigma, 1-0.5 * (k+1) / float(K)), 2*sigma, 0.5/float(K), color=colors[k]))\n",
    "    ax.set_ylim(-1, 1)"
   ]
  },
  {
   "cell_type": "code",
   "execution_count": 23,
   "metadata": {
    "collapsed": false
   },
   "outputs": [
    {
     "data": {
      "image/png": "[encoded data removed]",
      "text/plain": [
       "<matplotlib.figure.Figure at 0x106ebd190>"
      ]
     },
     "metadata": {},
     "output_type": "display_data"
    }
   ],
   "source": [
    "display_cluster_results(data, labels, m)"
   ]
  },
  {
   "cell_type": "code",
   "execution_count": 20,
   "metadata": {
    "collapsed": true
   },
   "outputs": [],
   "source": [
    "from matplotlib.animation import FuncAnimation"
   ]
  },
  {
   "cell_type": "code",
   "execution_count": 21,
   "metadata": {
    "collapsed": false
   },
   "outputs": [],
   "source": [
    "fig, ax = plt.subplots()\n",
    "def update(i):\n",
    "    ax.clear()\n",
    "    display_cluster_results(data, labels, m_history[i], ax)\n",
    "#frames = np.linspace(0, len(m_history)-1, 20).astype('int')\n",
    "frames = np.arange(30)\n",
    "anim = FuncAnimation(fig, func=update, frames=frames, interval=100)\n",
    "plt.close()"
   ]
  },
  {
   "cell_type": "code",
   "execution_count": 24,
   "metadata": {
    "collapsed": true
   },
   "outputs": [],
   "source": [
    "from IPython.display import HTML"
   ]
  },
  {
   "cell_type": "code",
   "execution_count": 25,
   "metadata": {
    "collapsed": false
   },
   "outputs": [
    {
     "data": {
      "text/html": [
       "<video width=\"600.0\" height=\"400.0\" controls autoplay loop>\n",
       "  <source type=\"video/mp4\" src=\"data:video/mp4;base64,AAAAHGZ0eXBNNFYgAAACAGlzb21pc28yYXZjMQAAAAhmcmVlAAAxXW1kYXQAAAKuBgX//6rcRem9\n",
       "5tlIt5Ys2CDZI+7veDI2NCAtIGNvcmUgMTQ4IHIyNzQ4IDk3ZWFlZjIgLSBILjI2NC9NUEVHLTQg\n",
       "QVZDIGNvZGVjIC0gQ29weWxlZnQgMjAwMy0yMDE2IC0gaHR0cDovL3d3dy52aWRlb2xhbi5vcmcv\n",
       "eDI2NC5odG1sIC0gb3B0aW9uczogY2FiYWM9MSByZWY9MyBkZWJsb2NrPTE6MDowIGFuYWx5c2U9\n",
       "MHgzOjB4MTEzIG1lPWhleCBzdWJtZT03IHBzeT0xIHBzeV9yZD0xLjAwOjAuMDAgbWl4ZWRfcmVm\n",
       "PTEgbWVfcmFuZ2U9MTYgY2hyb21hX21lPTEgdHJlbGxpcz0xIDh4OGRjdD0xIGNxbT0wIGRlYWR6\n",
       "b25lPTIxLDExIGZhc3RfcHNraXA9MSBjaHJvbWFfcXBfb2Zmc2V0PS0yIHRocmVhZHM9NiBsb29r\n",
       "YWhlYWRfdGhyZWFkcz0xIHNsaWNlZF90aHJlYWRzPTAgbnI9MCBkZWNpbWF0ZT0xIGludGVybGFj\n",
       "ZWQ9MCBibHVyYXlfY29tcGF0PTAgY29uc3RyYWluZWRfaW50cmE9MCBiZnJhbWVzPTMgYl9weXJh\n",
       "bWlkPTIgYl9hZGFwdD0xIGJfYmlhcz0wIGRpcmVjdD0xIHdlaWdodGI9MSBvcGVuX2dvcD0wIHdl\n",
       "aWdodHA9MiBrZXlpbnQ9MjUwIGtleWludF9taW49MTAgc2NlbmVjdXQ9NDAgaW50cmFfcmVmcmVz\n",
       "aD0wIHJjX2xvb2thaGVhZD00MCByYz1jcmYgbWJ0cmVlPTEgY3JmPTIzLjAgcWNvbXA9MC42MCBx\n",
       "cG1pbj0wIHFwbWF4PTY5IHFwc3RlcD00IGlwX3JhdGlvPTEuNDAgYXE9MToxLjAwAIAAACGOZYiE\n",
       "AD///vdonwKbWkN6gOSVxSXbT4H/q2dwfI/pAwAAAwAAAwAAFbekZYZCdC/yYgAABZdUjkidarTP\n",
       "MAiPxaTJQ0jOj5p2UcAQE81GAtmj3V/ZqRrUcRgGRi4VFtaHxMrjQBabB2fMTy3ic7j8QDPjWpDt\n",
       "F+6n15I5DU/1wb6iZ1CO1MgNAZeKP79CsYq0ofv8jAm601INoTjHw7jvKM2qThXOfJ9aO6aYUI8p\n",
       "y/AuvvH5cTf0U3g/R9LjwFHW6tiWrHthlhc2WBY5Rs3rcOr4DtT8dKRhXz9+/Rp7aljzP8/uW8bf\n",
       "xN1d6Ah+QrQ3Zl8I5N3oEPKrgaTWD3D0GNUd9LiP2Q+MQP1cmPXPeSyeWwweB5PZjYs+VVwychKQ\n",
       "j+UJbn7x2eOxBFW7BPTbr39VlNT0Nu/bOZk8Np2mOuevrzLDB7z7F78JVz8uvixhBV764TGaW83Y\n",
       "umeI7S2Oat+vQyLRQcmdeHzM9QgNyP+fFvmmFy1CW1k3SQjQd8hB58p0c5cv1Uob1qTTWEDu59lV\n",
       "WDyF82WPCRrqXsQ+DVVWMdMwBXToCKjkNS0krnCS4wzfEfYbvBMjRdmHjvj12iNEfCsuCbKEykMk\n",
       "6I/k+faH0tj5T03pe+4aN3F9jpnY7Mn9eec9769zRAQzX54yZnaRw8Ahigt+G+rR6G0hZs02RwUA\n",
       "CnoCcoNeotaMEUY9t/Q2kpGvNkdwI1Z8F9LFbS6qkab4DswH3saLVLDBzssOCm5URWEJ3YIt/WU5\n",
       "xs+bEz0LkKZ+F0UQemgtBSfPbgvg/sm6DV2zb6ltjyvoFugPSmSrPQMsbO6mXwYuapr03OMATOJA\n",
       "u/o6HBj7+ZTNwv0BpfrJWqHjAOfrk+kUCRgLiD//m/uG1XFxWWkqey73sy0wJYN4ty5IIGOC+mn4\n",
       "3Sia0ORvHae55RpNruNHxkDi3sugmZDmy+CwBO6eGcBjCrTVvClapd6iV+sEy1AYQZn2lH3lNHGt\n",
       "zxKgEFns8oTFxeEOTRkbivd/hAv+ou1piAAFFIBktNn5UZwfAjXEOylbnNKN/B2fSScS1ViYrWxH\n",
       "nmwawIqJUyuYc0Rl0cT8JBfTHOqL+tmgkOy9CoLlAcfSOBFzybcomKgzK3HXdZGFCMHXFm+oX+KN\n",
       "g6lkjop+IARuIEBtltNkrFr4934eZOThQOEqPHPLgvd8HhXHZzbsoWWExPBrxDgMEJ3MulVxNK9P\n",
       "69HWwa30kSttud+9CYhZtZYZ+hAataDu0T2/kRBaJMb/XhVW5U27A+Nmjg5XPxPDyolKKRgQrXY9\n",
       "Sl9Gt8WTyLzXbWcRTYxZYYK7VAP6OKzzphiuCu/LbkCTY05feXLijLMRgrZ88NYxpKvn1w7tmU0d\n",
       "8EZznhCHYkzz/jCx8Z+NbWgF48BeDx7/qTrv2pijNikt/7C8+Sp3ByuZk3advjJ+g5hTkrGQpvtz\n",
       "WcCvFR08wuL9UanqmTP6z/HSynp9dhHIYPyyb8D5HqritWJEVYU8uReyvOn8Sextf/2g++3qDFt/\n",
       "Wmt4Q16c1REYaWTP8wTgJ9w81szmCrMBTkp1awRiQforrqqQretOsc3Dni4n0JpUzUqvppr+UF1y\n",
       "G94MABGt8n2ccva9gvsUFxAALM1Ksqj7iy3AnYfVRpr/bwdwwi9tksHTG3KfwEcCJgU3lBBCuXWc\n",
       "Ka4FKHlH/zo60gIQvS9NgqQXOWmTdqKYFqEshOh/BE9JctMx0bORSgXR20w9bA4xQrUzhv3iBvg+\n",
       "69TRTviQkkxEhVtBiZ9NGgpj3OR9fyyOe4vyfF6cfnPHGbT0M1L8QoH53kOvywntrXtvbvVKF4NY\n",
       "f3mnSS+AFRyYbxK0kg/hBdKygXkBBmJAxDFSZtOQlfdF7u5XtlYHK2mMu+8CzUV3Vx2yj8UH8FcK\n",
       "i3oqNJYKFs+DpLOo9apgyensC2C+o0NrWACZWnXpo4IMKnOXzmVA7PvFvPOHXHk50cYVkTPJs/Rv\n",
       "yvQPIi310cQjhfQYwOuHyyljnwYRpxvmlMWqI3QA6kwXN64n8fWA5tnZFR6P4977sBUHWNXoLJ0F\n",
       "ESbgJ+9oNQFuvPhfN+wcKj9e9CMeyDvzCUlOOJpW8DcT8ikCkFADZA8pvgRKdiZU9TLKY3FF7XxJ\n",
       "CpfsoGCEc9sbM/RHhtkpvvXwaOmZlGbx8OvjNoQVeKrT5MNVsWEbKPR2Y/i6M6K97opFatXFPbF3\n",
       "8SL4xQHXs14I/zbuYGdwpzqhIp6nonc2Fz02u5UL77KCxOjHPVBsGK7UPP/o+dwXf9AjQjIgxe7N\n",
       "mBN/zZ7xLngrOf/BCDl7ICZl27wJXlsjfV8V5Pp11PWTCQJfYgL098idxaiCrFbKYeat2qpV46oI\n",
       "0kca+v5cu7clVgSfjhzrJCwHywdTRi0GkzRSQAlY2Vnlb1a31n+tsUNDG5y0oS0xDUKDhjnMoC88\n",
       "C8Z50OxjWf3E/XcOIbViOCB+6JndGC0Wmyge7QGCzu24p0Z9RvYJNig0H1czSxLBdwR728tQ8qrq\n",
       "B+md2XAXeil5oSewSDHWp0CpY2rr1LhxP/ze12qRZiEPK7cGGj54DuUmqow/CFAf4Eohv/zf2Lbv\n",
       "p3ZSEahlW/G89zf2br6pETbO7KqjdQU50UnQ+z6Br6O4Vf0RgZYfbdqwr5txaEclVz+ijjOdOhyK\n",
       "/UIbkGqVWMFEAFK1e9tyo1X2bwZKBy8VuVbwy+1e+d5bPJ0zEynOS6hKh0aYhBSV8Hvj+YVznCGI\n",
       "CTeV+qkxTLzzydLVpl02o1LlCbPE/xQ5PcFQ9XoojLajMy3SPUAm/9EY0hICreP0O8Sf0Z1w7MgP\n",
       "wohMrD6+tnIKibFb3uil5qt0ecF/7UHttX4kaNNeVl81VGRGaBR24NZXiH3JC2wWHqX6EMXFEcF/\n",
       "LmkFZaTO873g8K5xf9hu6GbBTk8P+z5pmHXQSLbGEAoTeGpsb1jlUdPhGHj0Z8ncCMLtBv29stmQ\n",
       "F8GBAj4/UVhhC8l4ZjWAPjK0olq/JBWvlnD/bMew+RvZPttc5Ch9GooNTIRfn4p9YmXs1s+2qoul\n",
       "5IW39aaou5mDcmZI1IiJPlxLvGmbFCwtv6mYXx4betRyrgLbl5gPnmFdfa/WcxOMipaVhyq0f9Vv\n",
       "wcX9UFDHi1pgHzXdSwxFNPCvmwHNAB6TDNTuvTEXj3FT849ahUy76btcLzlk7cueDNQcC6+Xqfk9\n",
       "yyXTC1dfLFrB/lKwIrpaAyx64ah+i/tbgTZs206qwMbsy4LWngWYW9vO3RUaVl7qqA9BB2HTZJfP\n",
       "qovzVrfw6EIfVWoNKpEZD8m/2GFIV5l0Gwo01FZn6gj0J1S36kJSOcLTLzEGXyJZedh37o5rW0Az\n",
       "iMNaNKDKH6MphocvOXpVwT3a/rmpvlMai3k3/sAewfscpIliasXIPk/5T1vq52SP+D8tmOLtDvw3\n",
       "trizwK+FahmEqGq1r77+j69whaCe6Xz+Is4/t/nQx4udFhC8AbOOr/MDPH+bignVuom3xNTAjAxk\n",
       "O+MNm+YEXb6idBDwl5Y1dbsY1M/zTDwzM2owxNttVn3BncH4uI4lzwDy1jYSAhIhzCW8tV1eQH3u\n",
       "nToxMr/szTwIsWxVyCj2w2bx2el0OmhORiABV6OGmst2q/7soTwKFAkZ1tyfsA139/jFQcUdiFyY\n",
       "7T0C0ODMrv2wXhk7H+qV7UzxsxJU2DXLpQ2J6S3/RZTKRGtIyrxI8kkNX4t9v+ME8bkCCQrhtju9\n",
       "FDwVztl9P3ZmNbDzyYwn0/i6zvViW8Y0DiZQTQWimhnrXN6m1puCmcFG1SYRAfhxCj7o4HET6Sio\n",
       "NrR60wK7ucGiozYxnsGwaSGAUfJnhDqzwd8BHEEp9RmVlQClRWcvTQ76kkaBLTYzPAAyz6Svxnv7\n",
       "stsi9ZpGl91LZkfZSYbp5mCevCgZ00iwrgEm3bOz6OuPesngYeHMxfzWngsmhUZN5T0pGQKw1ZZg\n",
       "AsIVyYQAjW6kD69nTIXO1sFgX4WgICCatqNbPCHVpyor7mkfxybqfOixbdhd1HsoHdJjvdi2nTNa\n",
       "PVFT/4KRLQyosQNU1D7oaQKRgeLdm3I2p2gevgobfdGpWwGLlsyJiS/3yn7WA0Gdv3Dvtfi9UIKn\n",
       "6j/VLJaYT9ASqocAmW97S5Al8TMCrA4bRlCmoFQOppzj4r8bk19J4t4/pxDm3zj05Jys2us63nfr\n",
       "55QTFe87YhnOBYVKOOakp5L6rj95sZq2usKGzPMX4gHhWixHmJcXFF/64AXB946dcP09OEDK5OVr\n",
       "4Kfgh118eSiNPts636MwJWbcHqqGWsvJ2t0Y3ZcERxnEA9hpP/QJ7pQBgf6aTn8N2VF8mHv+NyWP\n",
       "vZGxuWR4x6Bjq3FwTDpVjGFiWJgBu3jJjC+JMRnedy9pJn+qG6USt77juZ4b+rVKQlIL/LMvkEwe\n",
       "c9gNR+J9EHhbEHmm7RFtczeWBLdJKKgbkxUXgyKNDrLLjRWj3mcORern+iNwL2M4awHg7I8FKgLd\n",
       "lKlrtPLr3XIyT7/5DradomOL93kKqtBSySyi7AIZHRZE3/pL5P0l85cn8BKXs4WD4mwY30E8ohp+\n",
       "WHHxkUsx866MkDkQ9l8/IzMN4Et+Tfy5agZOYGdvozC57afPxOAgPKcPp7Xtq6dIKw9BLgkMvmkQ\n",
       "QZNegwLw8OLDzI1zliFfOHKSsszfzsG1m99E+hICYB6SvVWZd3LfQQUIbCIWza7nmsBZA3+McS7i\n",
       "MCQRvrFC6b338GbKawaZlgWEwhvl1KJh3Yx6jJr+o+lXb/mabuwkmRK2IvUpj1HrL7N9I/mONzEs\n",
       "41jvVUjC66siQ275Nmc/dqNkx9FLPLJcc7xZbpAHrFqqXzf1C7Ly3psiUw3y1gytD97zCQJ0uI7e\n",
       "lDncJijbYkRehOeSCq9Ua/3q6m/sfPzV0uwgAmlzGusQWIRkiDLblZNf74Cq7O3VpHs4UeHzspbo\n",
       "39AzZlT6tlEsI7tlUvIRbUEd03Ia5rAzU7QI0R/WpzFvURMwgLBDDkwIPtL/9zKgeUQyCwG0vndV\n",
       "YHTX0J5Kn732EnMbeJ4JKqhHWwSufoESctNjnXnwzrTpZB8O9t7BnQrSwzjD/4G2EpxvHApQhfOq\n",
       "v77kiF2etYtWJL1taV1OQewvVvXL7koUsQHDrMvSPWmI6Pii3SXl6MVWSW3vT3xCvyjpsRUigm9V\n",
       "fwlGiOgP8tkdAgvUDHGUpK9jjBMiYBt/ruQauhdNrgPVs6EGJbXnsgMl/l+T9bm0aRLOSqv8QU5Y\n",
       "BdQ+euaycXt62WkJRBlMIN/KcGuzSdMbfp8CZLRtYp0G/cQY/EGQ34i0a3YT8PMqP2yZ7LLO8CWd\n",
       "fgkErlFCgcX+aDuLKDhfgjz1+gu+hLuZLZ07wba+EluAKDwUrhWYEwpPBcfdVM4bBnUx63djDNbg\n",
       "rhFEmp+xb35Bfd8o9hBM8mj44lW/tRESLPSbu+idRA3AS1Cwk14VfpJ//5c38XPJ1Ny1037ex4Kc\n",
       "MKRNsbuVViK68huXBlzthqWFom3WC2niJQje+tcJfMM7OKKrQ6DY3s++n5KdR1yxcHhGFk75jzTc\n",
       "IFP9Ew6tBtPVQYp1cPPWY15dAPaWkkSmhBwW6DgwGL3Bn0ucqrIak1Ps2sQ3G2PQIRrR7FoPhC8r\n",
       "hhY/2f5xOTfa6DryDaSyVBa0D/xEwmFMJdv9E6yxiogZ+s4YqIlFavzWMz9mmmRNn5FRmUUKx5bU\n",
       "yZR7ClzlLvp75u1aGt7tsqfvkTweMYNJPE5Y2TSuMp9IOdGoSnUokp2zOOogLNvmDpegcC2libjn\n",
       "SfOG+bSZZqib63P6jc085se8sDTTJ3/vbGXPV6pmwEFwEoVr9w99rulRxhSyWS6Pcnww6XiK63Uv\n",
       "qA0+xvis6CUXPYdHcOkqAuGiA0I+hwcOq4Ee0ApoS5IiE5JIgDpixwozq76y3bIHSEXYRkHOBgNe\n",
       "+9sDOmjzBiyKqPzSiv9iMhDFpz60sxRft6AEEDTjaUXmHrXbPyxsV+x0wjggKmjkEAuEySWW8+eF\n",
       "BZbuW5XOtt/mcRIM2zWGnWrCpU3RkgJ+/Y2C+vuGvfPpaAFoAO09QwoKghbBMnGTTBGOZ61zZbd6\n",
       "Otrbn2Y+IKcVGZFQ2gQX2WlbIOeTEj4c9ft2WmTHuCrYOplXMESAikmfHdNPp5f1bYoP0hWlJALa\n",
       "mH1FTwArCcFuO4QvG+XX4eN49yY5RIOd5InRRLlE80VlFMvPbmhdLSmcYgRxrlC2LpW6m7EfQc5E\n",
       "2b0WVjwhFqCHVZmUiou25d2PkMFIuQKyS0VhSKYbmozOoLoPGf0SIgA8+8Cl/Fb533fbeD0CeQ5I\n",
       "o3Q7BZn3a5P8JfKucXYkC2WOHsaeyDLLoyuwYLY0cT7IKPKSbzDapvHeXFK9/efMgv6kZ82nz087\n",
       "Vi5qQcdw92q4Lh/ttOeKIjkU59diuu30XH0HIYn9ftfwt6+PVT3yrnc14jsWDpja6lhM+mnfujM/\n",
       "CwE0GJoawR3c3nlKKMVN5z8tOH/TO33YWJKv/34yZNYNIIaV5BYgEI8MHpJYX7lwsNwwh+c9dKNp\n",
       "Ob5uBpC3ODp3v+YMFNIR95c8AuWMeb0tcpgF9oW/+6iPI5jiAe1Jv0lL0xrxy9Zhxk1IozjA2aQe\n",
       "oz65iCGKbRh1tqzr+3u9lBIvCCuG4w/IcPJI1hi/8mHRkFUBWPuyAG6+uY+wz732ZBz8YqPsD3XC\n",
       "Sz11NeBLKI4VWuhQj2zIxxn3MGfdgA5mPZGo4EhwCabqv4Alhbg60mODXdxQD/tYrCRUAI07KDo9\n",
       "11NQg5VoaWpY1mW+EFr9AQLuM6dvxkdFRV+vDTMwlOhVgJgfuOXgDpApauFD+q2JB7/W4tgvpBrk\n",
       "UppjpcTZYk1slDIQjv/oXJXp4cf4wdwzsVCSKn//XTzxDFoTTCKOXPj81W/Hc1GyzRzAHvcmKZiM\n",
       "VUBEewRz1+DKWnxYjCTiK+Mbv88ysYjxMsjApUTlrtObjxGqcbITR/igkKlf5o40XIMiDYMqZo4A\n",
       "U8sWc0zcvERhyFUkbpoXSPAN97116yBQgnr1MTbHc+tLip0Dy5guRyBxY2253/XDj/la3T0uBlC9\n",
       "Oa2fugHtwo7JcnRx1yYUm7VFTQfHdVEvb5iHRBUlHFuSxsFmk6t6tPxssDLBgyrCScaZTQ76FqsA\n",
       "guVHEoyb2dVQqIMB7k9ZHSJScECSKI9PLTmG39ZzKDz3jKcYq9gBwtOKINyzOZZy3On65vGj0SHt\n",
       "vlFHB28DAL3ky8uw4xmuB+/313HwaiBNV9m5CgFXIBMhE5LtNOcCO/INxcyVZVwB5WiyBkn61PGO\n",
       "PWYMHoiHbKteB/02ZoXRJ7gBoDV6aOiA/68EXgTa33ZWd+7j+0AxUkgXNlxL1LcTtqVuGblckxBE\n",
       "FbBLmINBTyVjA5AbflgLPyxo+kE4d2onPsnhrG4ZXK43hS5WqmfZONKdGFWb/I0wURAC8QUSuj2Z\n",
       "eYkExmWtZIbBa6N0m7z0lILPeJNcAAPtn8vrSRrEUgrjY+Xaqlaq78aVvJs/fKQDIyZqgvmFqhzY\n",
       "jp+KBKZoQ/FW8J1zZ7FUgiVGeTeNu0T9S7iMKhD98pRZgJaynkfm8Kne4InkaYDmOLGml59gHCBf\n",
       "wzJ5kiUrXAOfII9PiCPogGloOeB68CjD6NIkb1xO6dOa9yZ3O9p4IKBzyjQpJ+NZbZ+JXy18pVCT\n",
       "Xpz5YljN4bgBD2NjJOo/I0t2bxhC++8FyLkWWsHKzddHfNGJzx9ZsBT4spQwvXqIdEbuR8YGRoQr\n",
       "pZT9lbxGJ1+a+1el64VYd7RLbANNqhTRAkRNt/vdLQrF/xvSt7Rw6FnWwBhfoJSxQyOPaRdQFt7n\n",
       "NuEVH2nDl2T8VDo5PAU8sponjyjzNQKAupow4NOO0zGIFF+/ctqZ1vrV2h5m6XgR2eCgfGTogUdH\n",
       "x7VVOL61lV6GAAnRCQuwGBp9S43hMBsY9LUOxxZdHgFj32RBAjRkadUzLpQRtyRGI50doTRvCcYK\n",
       "XzXpPM3jx7A00ZwI3pziXSFv/C6qsYOlRmfP0kfAiFYJXt48lGOZLNAknIFPyPpjQpq44SBxbanQ\n",
       "YK24aEJYzxP+jSF9JjtN+8LBTIR4/dXSVRpUKHePN1Ao8n5Dg3G/jKTFtKRSyv4lUWW3TTybbiUH\n",
       "7b8/hXOQr6tKbZceVl+VNkZeik+12BpDyW0+xcYdYN61yNYkpHxL8eqshvnbw00CMjlQpTZEaDYW\n",
       "NbKiBHlnFQFVkrsW6qEIVjbzc0hSwUinKcsS8szgWqUWZaCd2B7zfdgj3Vu3wi3Ns3acePjN7XFy\n",
       "ywk46Z9v6nmavMnXeJd45Pij0718ybIogHXEj9N9xKSbqTXq2E5xQFaIr+Yvb3Lv96qW3Jc7GxJj\n",
       "Vn1muVmUVyT+2ZoumSxZYvmphpAuEzhvQym5SLxbzNBTdjwzCAS4W5/+ZaXOzT6Iu9cDRbOuzde0\n",
       "ODK7H0VGw0UVIKDAUDRZsb11jpUe5bA5pQRz1Cj1e4X1ayaNZNOp8fohK3CfG/tjHL4xb/OH5MuS\n",
       "tcPBcBysSzk77Cx2Km+p+NgqXu2nahvLrAJO90foo2KqM33oOb0k9feUT2XD0O5bEsPFYh1+Noz9\n",
       "yfgeWPvUMCaUd6QIzEopkHRA6gNIMHftyTg6C8X5gxVu+LkNgYxA54/PYCcH9tQcpO43DwtYNDrH\n",
       "P/5WBppQlIb6Cq6xyBIWfdAodBZpJRNDJ30YPR3/Xu/yGlLbujye7FW0YopkPhaNTqnRbtVFVtjo\n",
       "9Cd1LsXHqbnyDc3QNnWJc6MAReWv8wxhbVay32uMbboBqTptoZ9JfJpoeWN7Gj8sfICikMSUifBn\n",
       "zGK6CvkZhCRyeLdEtMc2ZnCULH8RtoLbuYIiSDrhaHOBbNYnGAVRBgLrr9Rs9eFixmQtKpc7+/Sz\n",
       "sCkkLBXa+q1SLQt+iXXHWQ1HnuSyT72NSWxmZ+zbafwyRQ2+2pmR2wX1vXYY+KnpJ474JV9cb4He\n",
       "hw8Mg2xIhi2HTIOjATJ5leyIazZf9gqLkgHQGgNLJK2vQ/6a2pXzCm4bhNmrY2ZK2Qf8CyiiGeaa\n",
       "0oz3M+DwhqqjvwqsPMePALTwXuwAYd2zQWbcuK2HNkBcpengOJMETtiSIvXmISi0PFLTdwDrsh9b\n",
       "OeLPZtlcqyKgs6nXmci1FJnU+qsVbZiSctG8OrNQMunBZsW/j6pGi+8mNECGHWm4EWI5abdF6Jgu\n",
       "7LkG0vqDHVjs9WVjZJwqRACmD7DmVeunncCbN8YUNzsUj0o3531azUF0PUJuGJ4+h7QnOvNl1Z0S\n",
       "ESmuw19lFavGK7fpQ1B1WHquKm1HZVM1UKMH92WZwwHSg1bhKaHMLiuN8+SB4ZpUJTfTcMSGReIs\n",
       "zFFJS5tF8EMvIGDSqtghbLR062BGIKBSUrm7ZZDQ+WxQnecfwMitzOmde2bHoCLzIUSgk8sYeaDY\n",
       "qNyYqBEDQYe7uU/lg1QgZ5i1ziuP0vXzN/BmbLpH/BLgnQNFCCiZe/HhqMqAIdDrLD0ooK0iyXMC\n",
       "ZGFvTDto94G6LvqBvM1j7c7OusocLyA6fvs3/Eq3zMsOCryw8nn2im/8gE1P1pkkafRM6P8nS530\n",
       "YxjUUW8+aVPsRfCkZu0Jph99ztluuVgSroBESJhdnTPxUyeWSq01d/hqmqUAJRFgTFwGPR7m/nEU\n",
       "+OmsxJAn9luIpfHYT/+4DYq9axkJupApsyCx2C5rSBWX9yL7lPE/q546mn33lKVfmPvMAqSFV4FO\n",
       "E6wgRfYumF5s0ly6hEnvIVLspo0EYgvf9neNJdYQIvsXTC86ntXnoiT3kKl3to2GfmBlbdQt/4yA\n",
       "hwyJllwn9Eu6uu1cUYM+0CxFk8AW3/jICHDIm6xPT84OK66MXM0m1pQCAh6msGW3MLtpe8AidGP2\n",
       "FmHJT8f1t5qkCrJO8IMJqeRPTNb3ff0GoBhtAobGGZ9E26V2lawdBC7JZHLDBQpKSAAg40A7/iOA\n",
       "CdyZyt3eQKcpDby9qeFt+DfNgOeWHMUdXWCtM4cAUjHpIjcrfzmCK7APfviwEI8ho4V4/v6bvUAI\n",
       "yvTmT/2SIcy4+A5xPoJHyEoTar6f/NUMD7fUEh4Xq7stZ1rSfMOGZdGwEVxe4rvX/Pc1qL+DW0Ga\n",
       "Swi7sN209Gh4aA3S0WIUcsCANnjrniW31bO4S0qX1+yTpjgsp7SIXASSYYOUVWIF/CwQFnonyakK\n",
       "3m2PZKbc2vWsxrBlKkQmxZjG2xZE1bM4Cww4nfX3h1MwvHl2GvXhjwUB+QzoDm4AUDNDb+K2UT70\n",
       "C7xPo/cG9qEFU12dQL73wC43YsBl9pcrGGOtjIjT7y1qW5U/T1/ijRwEPIf5vcmLQCb2Tg82+B7e\n",
       "aIDXdLlFypNKSBhR1oQrCqftlWUSUYtaaT/Xj8ap9nHkm7MEOeS7T+trD6RSE/ritMvP3cw4CUGi\n",
       "bYhBNOFJe/sjdz0we+BrWe4bg2q9gJk0qpKYJW5xl3UpwMqWZw0E6f5jbRLpJviG2idlncuKx22D\n",
       "aYyNDua7zGHdNvM6cDqLlrYWdYCT8rFpLDpnDMxYPDNSfnfGybUBDpzMdHXNoKcT9qi8xlM6t3rb\n",
       "PdIGH5gP2avlNBi4PHoZkicgU9rontb4NkTBY2b7HpNa0x6hPKQoK3G6DiovaO5/ko/yWGWJQJFj\n",
       "mrC5nBBwDu1QxUcIGqMnrW0FNGjUHsC76Z+MMwhgJc8QlK6VY1f+7XNylJT2vGFlo92HzsksfqPV\n",
       "VOhlrQMpRr/qpT6G/JT4u0z6XD5JmMSI03ofWCkSQtDKKQcnXiQ2t6JnDWVz/TL3koL3H7tx8P2N\n",
       "5DeFKniOECOahYVzmF7lutIjRwendBOwXuSYDltQAdVp1B/CSK0FBR/A0SPSY+fh9ztIzmDZ6puj\n",
       "a6sbyMdMM8cS0q21keGXkDsamSMfOHgv9DoZdIzpKqftnn9Y/bSzovIz6BB0u9RKRFMZ7dGosxV5\n",
       "BCSDYTYJeAextbAI6Kl3oiYTJ25TAeVxKKPPVkW6QuThlErOUq5Sc11CK2ZhAZrrDqZOwidOZZ1L\n",
       "gxhold1R/o34dfes53nv6QX8oBOyQGdTNunOyP8tNktnkwc31VukJNmX4U+MmkwLpcnlXJKrFiul\n",
       "lJIsTyl7lQHP+llhgaxrZm5SNu4rW/Vc8An1l1AHnngWjp/g9JtUvO62qzWEGbKTdBLTfs0CAXAe\n",
       "RtvUCVDhYkFBezSPX2Y55nZevSmWrhPKzl5XHTMkEoedpqhpag/rJfSH4TKTz30pPR2w5wLHSqNd\n",
       "bpRAcDciJ2UR66b4eTDJ686x1hQPO5WugoZuJrYM5yWiBPlSZ2zktrRgCZFM090hu744DzP1oL4d\n",
       "VAO7fk/uvN3jTG3c0NTyCYJtay8HolDYjPrNdPK/kduSe/0aVExXUEvvJ4qNEnpXFHrTg2LJPAVO\n",
       "zpp01YPRzgql0vcHQ8GGIADmyb0YAwSEdilJ0EIJN2WisAABXwAAAv1BmiFsQ//+qZYBsuYmWaJy\n",
       "ABsDMPRK+xX7MCCZehRKz4kAoHkrjNLB2IQoZh5+Kh2ZsTN0BvahoI7nl1Z3gcK7liDuMvnus0m4\n",
       "F+rKjGq94bi10K8tMxavisMxEteQIuASBRy+tD03AUhM1btQ7KVV0+Hwggen1BVnrk8phqd8sWRt\n",
       "pWz9wHo4AWhjTiRS/cSWPRz5Poi9u5RlYxVeBH479tzxLF+A1Dmro8L+zMYNSqM6Uh6uRQeK9lih\n",
       "8nJs8S57v/PynzCK6LmCeipvh/1D5nNIRWzmwOze/NTFenY+0ay3tk9BgK0BvHOAcXkBnbPNWUuV\n",
       "Ms9A4EzzbIjBau+CYy/W1GqRNYlfuxN63qf/WVNpfWLhX/EKttpv8wKWy2ABolC5hXVFTkHXbggo\n",
       "IlLefewzpmDx3U+za/aDgmL5tDn3w10oc8t5ewPJlzuxTGwUsjLBnhgBkj4XskBBahdgTeIiTzaj\n",
       "RzGK5QiDJtnAE/CqTyIg1rnMnHepS3jwEeLWlfoCjterv78aKCHFxeLtiHPw95fHej34g2cp5kzm\n",
       "zDDymNvvoPI3bgUIpdZiWWrS4S3jUwh+SfenC0p5FPJybP798FlIltHEo97fnk5StfMHkIXRsn6v\n",
       "unSo8IlWeD2AEMXP1OdokagiZfUFLGOMBRxv+HLv9M1CsdtFNlWYLSCzJJKL4oTvgQG9bzLMofZa\n",
       "MO6aUdyVF4znRF89LoUwO12PzUzqltLF+gxcnSk/q1tbgYcFfo227a7zgpvnUtLeZ6ErxBob31A5\n",
       "FWyLHEQMgwhKe+2cRyE+0RviOd5x4NJa+Z/v47k3lNUwnp+PE5Ic1lbK+RZWijC3yDJa5ddoNv2O\n",
       "HVPp7p8/tnxIPMmAr6g00trtVtgVtpHqgQU5zTEDfbdB4R12PDBkg+3X3fSmbRI5t881IyFTgNbW\n",
       "sd8k8Z1qgAC4SGSDeKn3Zb/tMH4+sFJpDlFFyTYGNaxI0W1ZcoAZ+EsQsvAaVEZkl+ycd9L5NH8z\n",
       "0O1wzo17X4AAAADmQZpCPCGTKYQQ//6qVQAYCXytgAcDVPvlm3VveLkZN76EbouPlYHTipEvDYZ+\n",
       "e1MMzzTRg//cmUX21f2kdYxmG12oYmDvwMYqjtCVJTAamtcdu784s2mdzEi5BehvgyB//490qlMX\n",
       "6CQ7/57ZcI8222AXOG8nMZcyrqnYDNJLY4DOFKTtAeXg1/HImUTccRQlHja2k3cbg20nE9krJRlc\n",
       "EM4A8tFb0Y+LXpAutkyrWco8eZ1qgqplZQd63/9nHFo8WNR+HPyVI+8JZ9/Dsi/QbHAwM/lAehnj\n",
       "BHC0TjodEiiADzI7KmEAAAC5QZpjSeEPJlMCCH/+qlUAGAvFtIrL3y1lPgOiC6VvpIWenDSmUWoF\n",
       "cpGk8I5xrcVkmyHwaBdZebgz3pEcc8/PekTwtGeu58F1Y8MnAPyv7yANzQkLxivLNjMvuXTZQ5wo\n",
       "zpczACtGZz6KbCkRtOe2Jj/OMsHJleXo5f2xNF4s5cXMVjuBCzPnKqKyKuG/+uD9wRNF4GXNzt6l\n",
       "aY9Lfxd14g1KchBNQma9sfIYTVIVSxQACmCkbHiNFSAAAAB6QZqFSeEPJlMFETwQ//6qVQAYC8jC\n",
       "SqOxCwAZvDlD6DKLQyMNhQlU/PkVOEftdXEmSvzeuHAaklssk9YUTLtISt/e/8nrO8Lp5kE7Oog7\n",
       "XeprcWvV5c7bVgiTPakSYTP1dltDJYU9irscod3+43iLD23f8n9bvjgAFbEAAABNAZ6kakN/AEFj\n",
       "I7EA65qu05a9e7hSA1YZMcvsQAnTdteeQnsM9mT97DR5wnYVFtXZTD3hPdJuViOZqS/3kvinjb+V\n",
       "CjT+ez+cADIEBj0AAAC1QZqoSeEPJlMCH//+qZYAW4EjSdvwdYTe+82AG1TTQI6Bd0I+x9OHTgTl\n",
       "fDZuHXAm3G8SQEueo05GY/45Lt2PQ3Msp+WIB77e822t58+zFvoCObU5kwoVEkxrBxX+88D01dUy\n",
       "wct0GAmX7GVgLJQ5eR8GzrLueGyFK3oBeY1MEiJLe4sBP7O4sEThTF0expZQqqYqsRHXaDd30Z2h\n",
       "xX+HI8pDwr1RieR6l/Mpv0oNniGEkgAA/wAAAFZBnsZFETw3/wA/g49GUTApB4r+kr/MAJNK7BxS\n",
       "Ol4Bkr3ypjZJ+z0P0bR2CQ9wZNcWPmBOXvZ0IwfynLMqeU8fYYjN+Aq8nPE33vfNcpy7QcQAKKpW\n",
       "pQAAAD8BnudqQ38AP32hT2ScN9PX1Ku4b1vcubnSWS+Ahi/8Sgf8JBLMsqIEZ8aZBuogqMooanx+\n",
       "mpUyFP3bAB1lB8wAAAC1QZrpSahBaJlMCCH//qpVABbsl3yGQlCFVsAEP3UEp0zhkV7Wn+SO9gUI\n",
       "6TURTqHo+Od/SY3wkZlvoX+fM5cKo0zRM5O8WOi3OWGsgGgIlC1I2TW6Px3UQPs4G3sM1+tK2/2K\n",
       "BInwcS9ajBFXAYLOSiKeGeynKxyETCm/m2ycv/YKMIMHkOqKYRkQpJTJEUgM/sJo/XkkTpLYuYum\n",
       "vKJKjin2fxUBNChmQqbtAuGE39pH4AACygAAALdBmwpJ4QpSZTAgh//+qlUAFuGiz0gAAQl7JUg0\n",
       "MSMsFJs506MPQ58nUGTDnR9znckTqPQs66ykjUe7X6O0e2iz8J8uIgArd39UjxXEhfRTJ41M0uOY\n",
       "0DeRKthN3JBDg8YYhha0aKluFMPzi499Mwfg1/W3VnICxvALlPxibrt2mitWTWbHa+cLVz2pCTWC\n",
       "Fmbz+kFamG9V+h14DuEOVvsk7EDwMXqQisp7gRIG2icQ3H0sS4AAIGEAAACVQZsrSeEOiZTAgj/+\n",
       "tSqAC281vOvAETsyZ9aXsQvXqg2hTHD9GLxD3JqmmL1jV5LI5CPBrdSJXyXmEsDdNlUdLk83kzB+\n",
       "vPC8RgsKNZBiXBe9WawtuJjX72MtW6EaU6lgxQUaLmRgF+pPwbvXXMCtBaCzoavMuITqDGOG4XL8\n",
       "h0mDsqGo78tkv971ECcEG67hTQelpqQAAACYQZtNSeEPJlMFETwR//61KoALfw4f+TPYIADfsyZ9\n",
       "1g7EL1Fk4jklSSFndLgt0lcZHc8urO8BHX11G0rsrLH9ogotVZz8ExpK8641mji/fbM/1GPfr+sj\n",
       "nTkuL1zXQ3qXVlLMEjT/DXfLKiOA1o+6Ck02pt8OKrIJXwcfhfMKOD6z8+a7V/kPlhwjUaitwgG4\n",
       "HCoA+EIAE7AAAABIAZ9sakN/AD4dr8DQsAGz975Hx2TAOpOSy7QhupyC7ugKYCrxWEktQh6DuYu7\n",
       "aqz/f3E+zjky8VK1G5R7/h2zqHbnPADgYVbBAAAAZ0GbcUnhDyZTAgj//rUqgAsq6FGmqq8AK8eT\n",
       "voLR4Em6a2FjTsE8OSPBv1l/SknV79ktoUclwbpPaVpt7k/90RVgOzLjw3oSP8jdN0BblA0kyieS\n",
       "4BOsAbWeOLFKM7r2tHePSAAAJOEAAABdQZ+PRRE8O/8AK4R+lX4VChIbeaUj7sam+/McQEUHChBv\n",
       "T4vK+EavigBtk0sUC6nC/W1NwjxeizOS+E8fNpIycX80RZRkBckm44F94EFvyp3Ltao1BgNKQgAJ\n",
       "JxX/AAAAPgGfrnRDfwA8uQZmgMsstV8+8TvyHthChGjSrzHNtBZEP10u5u6GOVAawAoCkRWqxMg/\n",
       "sEwBCTpRQgAdmaKGAAAAQwGfsGpDfwA8qot9xFK2ABac/lEWD6RFniiA81wu/IFg8jTUK7lRRKjf\n",
       "0fhK2m2AyJdwzhqw/uo/NW4N1FHcAAUyi70AAAA0QZu1SahBaJlMCCH//qpVABZOXzkj3EbU9v0K\n",
       "n+5dkVZVud8C3qC4WnjuUpm1HqMK8IANmQAAAEZBn9NFESw7/wArhj3B5N14ABaI8A0JkLPOJpZg\n",
       "dTADMTqvais0XwAv9HsfEcF4rWz7M5ecDf+gzzNcbMCDHvE4AAirqMqAAAAAJQGf8nRDfwA8xgs8\n",
       "CFxObPYsqAUpOSmUCPnNjy9zjD9AAJ9aj0gAAAAhAZ/0akN/ADdAF3YJ8Bdpo2VHE080rxCdU39H\n",
       "IAB3VEwJAAAAPUGb+UmoQWyZTAgh//6qVQAWToNeH+WJNgx2OggeU6oAaF2lJrcw6Q3BNf3++eV+\n",
       "pZ6hmyZPji6+Y4AAUEAAAAAwQZ4XRRUsO/8AK4Y86GDPPYKnjUAkoBrrbg8GAeKHuDl8HD8LHtxe\n",
       "QOpCEAAYEUmLAAAAGgGeNnRDfwA8uncG4R2wz1S7/luVW1acQAQdAAAAHgGeOGpDfwA3QBd3aYXv\n",
       "Z6mzsPVtDTdIeeg9hAAb0AAAABhBmj1JqEFsmUwIb//+p4QAAAMAAAMA1IEAAAAhQZ5bRRUsO/8A\n",
       "JhSoggBhs0jBzsrm3DDSUHcx+ADhQjjgAAAAFgGeenRDfwADn6d3GJQv95mWCa4AC4kAAAAWAZ58\n",
       "akN/AAOgUPcYpAdSEC3Pr6ADZwAABGdtb292AAAAbG12aGQAAAAAAAAAAAAAAAAAAAPoAAALuAAB\n",
       "AAABAAAAAAAAAAAAAAAAAQAAAAAAAAAAAAAAAAAAAAEAAAAAAAAAAAAAAAAAAEAAAAAAAAAAAAAA\n",
       "AAAAAAAAAAAAAAAAAAAAAAAAAAACAAADkXRyYWsAAABcdGtoZAAAAAMAAAAAAAAAAAAAAAEAAAAA\n",
       "AAALuAAAAAAAAAAAAAAAAAAAAAAAAQAAAAAAAAAAAAAAAAAAAAEAAAAAAAAAAAAAAAAAAEAAAAAC\n",
       "WAAAAZAAAAAAACRlZHRzAAAAHGVsc3QAAAAAAAAAAQAAC7gAAAgAAAEAAAAAAwltZGlhAAAAIG1k\n",
       "aGQAAAAAAAAAAAAAAAAAACgAAAB4AFXEAAAAAAAtaGRscgAAAAAAAAAAdmlkZQAAAAAAAAAAAAAA\n",
       "AFZpZGVvSGFuZGxlcgAAAAK0bWluZgAAABR2bWhkAAAAAQAAAAAAAAAAAAAAJGRpbmYAAAAcZHJl\n",
       "ZgAAAAAAAAABAAAADHVybCAAAAABAAACdHN0YmwAAAC0c3RzZAAAAAAAAAABAAAApGF2YzEAAAAA\n",
       "AAAAAQAAAAAAAAAAAAAAAAAAAAACWAGQAEgAAABIAAAAAAAAAAEAAAAAAAAAAAAAAAAAAAAAAAAA\n",
       "AAAAAAAAAAAAAAAAAAAY//8AAAAyYXZjQwFkABb/4QAZZ2QAFqzZQJgz5eEAAAMAAQAAAwAUDxYt\n",
       "lgEABmjr48siwAAAABx1dWlka2hA8l8kT8W6OaUbzwMj8wAAAAAAAAAYc3R0cwAAAAAAAAABAAAA\n",
       "HgAABAAAAAAUc3RzcwAAAAAAAAABAAAAAQAAANBjdHRzAAAAAAAAABgAAAAEAAAIAAAAAAEAAAwA\n",
       "AAAAAQAABAAAAAABAAAQAAAAAAIAAAQAAAAAAwAACAAAAAABAAAMAAAAAAEAAAQAAAAAAQAAFAAA\n",
       "AAABAAAIAAAAAAEAAAAAAAAAAQAABAAAAAABAAAUAAAAAAEAAAgAAAAAAQAAAAAAAAABAAAEAAAA\n",
       "AAEAABQAAAAAAQAACAAAAAABAAAAAAAAAAEAAAQAAAAAAQAAFAAAAAABAAAIAAAAAAEAAAAAAAAA\n",
       "AQAABAAAAAAcc3RzYwAAAAAAAAABAAAAAQAAAB4AAAABAAAAjHN0c3oAAAAAAAAAAAAAAB4AACRE\n",
       "AAADAQAAAOoAAAC9AAAAfgAAAFEAAAC5AAAAWgAAAEMAAAC5AAAAuwAAAJkAAACcAAAATAAAAGsA\n",
       "AABhAAAAQgAAAEcAAAA4AAAASgAAACkAAAAlAAAAQQAAADQAAAAeAAAAIgAAABwAAAAlAAAAGgAA\n",
       "ABoAAAAUc3RjbwAAAAAAAAABAAAALAAAAGJ1ZHRhAAAAWm1ldGEAAAAAAAAAIWhkbHIAAAAAAAAA\n",
       "AG1kaXJhcHBsAAAAAAAAAAAAAAAALWlsc3QAAAAlqXRvbwAAAB1kYXRhAAAAAQAAAABMYXZmNTcu\n",
       "NzEuMTAw\n",
       "\">\n",
       "  Your browser does not support the video tag.\n",
       "</video>"
      ],
      "text/plain": [
       "<IPython.core.display.HTML object>"
      ]
     },
     "execution_count": 25,
     "metadata": {},
     "output_type": "execute_result"
    }
   ],
   "source": [
    "HTML(anim.to_html5_video())"
   ]
  },
  {
   "cell_type": "code",
   "execution_count": null,
   "metadata": {
    "collapsed": true
   },
   "outputs": [],
   "source": []
  }
 ],
 "metadata": {
  "kernelspec": {
   "display_name": "Python 2",
   "language": "python",
   "name": "python2"
  },
  "language_info": {
   "codemirror_mode": {
    "name": "ipython",
    "version": 2
   },
   "file_extension": ".py",
   "mimetype": "text/x-python",
   "name": "python",
   "nbconvert_exporter": "python",
   "pygments_lexer": "ipython2",
   "version": "2.7.10"
  }
 },
 "nbformat": 4,
 "nbformat_minor": 1
}
