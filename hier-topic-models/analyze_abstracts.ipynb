{
 "cells": [
  {
   "cell_type": "code",
   "execution_count": 1,
   "metadata": {
    "collapsed": false
   },
   "outputs": [],
   "source": [
    "import numpy as np\n",
    "import matplotlib.pyplot as plt\n",
    "import pandas as pd\n",
    "%matplotlib inline"
   ]
  },
  {
   "cell_type": "code",
   "execution_count": 2,
   "metadata": {
    "collapsed": false
   },
   "outputs": [],
   "source": [
    "from bs4 import BeautifulSoup\n",
    "from nltk.tokenize import word_tokenize, sent_tokenize\n",
    "from nltk.corpus import stopwords\n",
    "from nltk.stem.snowball import SnowballStemmer"
   ]
  },
  {
   "cell_type": "code",
   "execution_count": 3,
   "metadata": {
    "collapsed": true
   },
   "outputs": [],
   "source": [
    "from collections import Counter, defaultdict, OrderedDict, namedtuple\n",
    "import copy"
   ]
  },
  {
   "cell_type": "code",
   "execution_count": 4,
   "metadata": {
    "collapsed": true
   },
   "outputs": [],
   "source": [
    "en_stopwords = set(stopwords.words('english'))"
   ]
  },
  {
   "cell_type": "code",
   "execution_count": 5,
   "metadata": {
    "collapsed": true
   },
   "outputs": [],
   "source": [
    "def not_stopword(word):\n",
    "    return word.lower() not in en_stopwords"
   ]
  },
  {
   "cell_type": "code",
   "execution_count": 6,
   "metadata": {
    "collapsed": true
   },
   "outputs": [],
   "source": [
    "def not_all_punct(word):\n",
    "    return not all([not c.isalnum() for c in word])"
   ]
  },
  {
   "cell_type": "code",
   "execution_count": 7,
   "metadata": {
    "collapsed": true
   },
   "outputs": [],
   "source": [
    "def to_lower(word):\n",
    "    return word.lower()"
   ]
  },
  {
   "cell_type": "code",
   "execution_count": 8,
   "metadata": {
    "collapsed": true
   },
   "outputs": [],
   "source": [
    "snowball = SnowballStemmer('english')\n",
    "def stemmer(word):\n",
    "    return snowball.stem(word)"
   ]
  },
  {
   "cell_type": "code",
   "execution_count": 9,
   "metadata": {
    "collapsed": true
   },
   "outputs": [],
   "source": [
    "#parser_type = 'xml'\n",
    "#parser_type = 'html.parser'\n",
    "#parser_type = 'lxml'\n",
    "parser_type = 'lxml-xml'\n",
    "#parser_type = 'html5lib'"
   ]
  },
  {
   "cell_type": "code",
   "execution_count": 10,
   "metadata": {
    "collapsed": false
   },
   "outputs": [
    {
     "name": "stdout",
     "output_type": "stream",
     "text": [
      "CPU times: user 4min 10s, sys: 20.2 s, total: 4min 30s\n",
      "Wall time: 4min 33s\n"
     ]
    }
   ],
   "source": [
    "%%time\n",
    "with open(\"data/allRecsWithAbstractsEscaped.xml\") as f:\n",
    "    full_data = BeautifulSoup(f, features=parser_type)"
   ]
  },
  {
   "cell_type": "code",
   "execution_count": 11,
   "metadata": {
    "collapsed": true
   },
   "outputs": [],
   "source": [
    "def explore(tag, by_level=None, indent=0):\n",
    "    if by_level is None:\n",
    "        by_level = []\n",
    "    if len(by_level) <= indent:\n",
    "        by_level.append(set())\n",
    "    by_level[indent].add(tag.name)\n",
    "    for c in tag.find_all(text=False, recursive=False):\n",
    "        by_level = explore(c, by_level, indent=indent+1)\n",
    "    return by_level"
   ]
  },
  {
   "cell_type": "code",
   "execution_count": 12,
   "metadata": {
    "collapsed": false
   },
   "outputs": [
    {
     "name": "stdout",
     "output_type": "stream",
     "text": [
      "records\n",
      "  record\n",
      "    abstract, identifier, subject, title\n",
      "CPU times: user 2min 47s, sys: 3.79 s, total: 2min 51s\n",
      "Wall time: 2min 51s\n"
     ]
    }
   ],
   "source": [
    "%%time\n",
    "by_level = explore(full_data.records)\n",
    "\n",
    "for level_index, tags in enumerate(by_level):\n",
    "    print('  '*level_index + u', '.join(sorted(list(tags))))"
   ]
  },
  {
   "cell_type": "code",
   "execution_count": 13,
   "metadata": {
    "collapsed": true
   },
   "outputs": [],
   "source": [
    "class Record(namedtuple(\"Record\", [\"title\", \"identifier\", \"abstract\", \"subjects\"])):\n",
    "    pass"
   ]
  },
  {
   "cell_type": "code",
   "execution_count": 14,
   "metadata": {
    "collapsed": false
   },
   "outputs": [
    {
     "data": {
      "text/plain": [
       "483052"
      ]
     },
     "execution_count": 14,
     "metadata": {},
     "output_type": "execute_result"
    }
   ],
   "source": [
    "len(full_data.records.find_all(text=False, recursive=False))"
   ]
  },
  {
   "cell_type": "code",
   "execution_count": 15,
   "metadata": {
    "collapsed": false
   },
   "outputs": [],
   "source": [
    "def process_records(data, limit=None):\n",
    "    result = []\n",
    "\n",
    "    for r in data.records.find_all(text=False, recursive=False, limit=limit):\n",
    "        if r.name != \"record\":\n",
    "            raise Exception(u\"Unexpected child node of records: {} != record\".format(r.name))\n",
    "\n",
    "        title = r.title.string\n",
    "        abstract = r.abstract.string\n",
    "        subjects = [x.string for x in r.find_all(\"subject\", recursive=False)]\n",
    "        identifier = r.identifier.string\n",
    "\n",
    "        r_obj = Record(title=title, identifier=identifier, abstract=abstract, subjects=subjects)\n",
    "        result.append(r_obj)\n",
    "\n",
    "    return result"
   ]
  },
  {
   "cell_type": "code",
   "execution_count": 16,
   "metadata": {
    "collapsed": false
   },
   "outputs": [
    {
     "name": "stdout",
     "output_type": "stream",
     "text": [
      "483052\n",
      "CPU times: user 1min 42s, sys: 238 ms, total: 1min 42s\n",
      "Wall time: 1min 42s\n"
     ]
    }
   ],
   "source": [
    "%%time\n",
    "record_objects = process_records(data = full_data, limit = None)\n",
    "print(len(record_objects))"
   ]
  },
  {
   "cell_type": "code",
   "execution_count": 17,
   "metadata": {
    "collapsed": true
   },
   "outputs": [],
   "source": [
    "auto_cleanup = True"
   ]
  },
  {
   "cell_type": "code",
   "execution_count": 18,
   "metadata": {
    "collapsed": false
   },
   "outputs": [
    {
     "name": "stdout",
     "output_type": "stream",
     "text": [
      "Cleaning up bs4 objects\n"
     ]
    }
   ],
   "source": [
    "if auto_cleanup:\n",
    "    print(\"Cleaning up bs4 objects\")\n",
    "    full_data.decompose()\n",
    "    del full_data\n",
    "else:\n",
    "    print(\"NOT cleaning up\")"
   ]
  },
  {
   "cell_type": "code",
   "execution_count": 19,
   "metadata": {
    "collapsed": true
   },
   "outputs": [],
   "source": [
    "class MyTokenizer(object):\n",
    "    def __init__(self,\n",
    "            transforms=None,\n",
    "            filters=None,\n",
    "            word_tokenizer=None,\n",
    "            sent_tokenizer=None):\n",
    "\n",
    "        if transforms is None:\n",
    "            transforms = []\n",
    "        if word_tokenizer is None:\n",
    "            word_tokenizer = word_tokenize\n",
    "        if filters is None:\n",
    "            filters = []\n",
    "        self.word_tokenizer = word_tokenizer\n",
    "        self.sent_tokenizer = sent_tokenizer\n",
    "        self.filters = filters\n",
    "        self.transforms = transforms\n",
    "\n",
    "    def tokenize(self, str_to_tokenize):\n",
    "        if self.sent_tokenizer is None:\n",
    "            sentences = [str_to_tokenize]\n",
    "        else:\n",
    "            sentences = self.sent_tokenizer(str_to_tokenize)\n",
    "\n",
    "        tokens_by_sentence = []\n",
    "        for sent in sentences:\n",
    "            tokens = []\n",
    "            for t in self.word_tokenizer(sent):\n",
    "                include_token = all(f(t) for f in self.filters)\n",
    "                if include_token:\n",
    "                    transformed = t\n",
    "                    for tr in self.transforms:\n",
    "                        transformed = tr(t)\n",
    "                    tokens.append(transformed)\n",
    "                    \n",
    "            tokens_by_sentence.append(tokens)\n",
    "\n",
    "        if self.sent_tokenizer is None:\n",
    "            return tokens_by_sentence[0]\n",
    "        else:\n",
    "            return tokens_by_sentence"
   ]
  },
  {
   "cell_type": "code",
   "execution_count": 20,
   "metadata": {
    "collapsed": false
   },
   "outputs": [],
   "source": [
    "tokenizer = MyTokenizer(\n",
    "    filters = [not_all_punct, not_stopword],\n",
    "    transforms = [to_lower, stemmer],\n",
    "    word_tokenizer = word_tokenize,\n",
    "    sent_tokenizer = None)"
   ]
  },
  {
   "cell_type": "code",
   "execution_count": 21,
   "metadata": {
    "collapsed": true
   },
   "outputs": [],
   "source": [
    "import tqdm"
   ]
  },
  {
   "cell_type": "code",
   "execution_count": 22,
   "metadata": {
    "collapsed": false
   },
   "outputs": [
    {
     "name": "stderr",
     "output_type": "stream",
     "text": [
      "100%|██████████| 483052/483052 [25:28<00:00, 315.96it/s]\n"
     ]
    },
    {
     "name": "stdout",
     "output_type": "stream",
     "text": [
      "CPU times: user 24min 43s, sys: 22.8 s, total: 25min 6s\n",
      "Wall time: 25min 30s\n"
     ]
    }
   ],
   "source": [
    "%%time\n",
    "\n",
    "all_subjects = set()\n",
    "all_token_indices = dict()\n",
    "all_tokens_sorted = []\n",
    "stats_by_document = []\n",
    "token_indices_by_document = []\n",
    "\n",
    "documents_with_nonempty_abstracts = []\n",
    "\n",
    "do_tokens = True\n",
    "\n",
    "rec_count = 0\n",
    "for doc_index, r in enumerate(tqdm.tqdm(record_objects)):\n",
    "    stats_by_document.append(OrderedDict([\n",
    "        ('abstract_length_chars', len(r.abstract) if r.abstract is not None else 0),\n",
    "        ('num_subjects', len(r.subjects)),\n",
    "    ]))\n",
    "\n",
    "    all_subjects |= set(r.subjects)\n",
    "\n",
    "    if do_tokens and r.abstract is not None:\n",
    "        tokens = tokenizer.tokenize(r.abstract)\n",
    "    else:\n",
    "        tokens = []\n",
    "\n",
    "    current_token_indices = []\n",
    "    for t in tokens:\n",
    "        if t not in all_token_indices:\n",
    "            all_token_indices[t] = len(all_token_indices)\n",
    "            all_tokens_sorted.append(t)\n",
    "        current_token_indices.append(all_token_indices[t])\n",
    "    token_indices_by_document.append(current_token_indices)\n",
    "\n",
    "    if len(current_token_indices) > 0:\n",
    "        documents_with_nonempty_abstracts.append(doc_index)\n",
    "    \n",
    "#     if rec_count < 5:\n",
    "#         print(u\"=============\")\n",
    "#         print(u\"Title: {}\".format(r.title))\n",
    "#         print(u\"Abstract: {}\".format(r.abstract))\n",
    "#         print(u\"Subjects ({}): {}\".format(len(r.subjects), u\"; \".join(r.subjects)))\n",
    "#         print(u\"Tokens: {}\".format(tokens))\n",
    "\n",
    "    rec_count += 1\n",
    "\n",
    "all_subjects = sorted(list(all_subjects))\n",
    "stats_by_document = pd.DataFrame.from_records(stats_by_document)"
   ]
  },
  {
   "cell_type": "code",
   "execution_count": 23,
   "metadata": {
    "collapsed": false
   },
   "outputs": [
    {
     "name": "stdout",
     "output_type": "stream",
     "text": [
      "Total number of records: 483052\n",
      "Total number of nonempty abstracts: 480887\n",
      "Total number of subjects: 26862\n",
      "Total number of tokens: 511462\n"
     ]
    }
   ],
   "source": [
    "print(u\"Total number of records: {}\".format(rec_count))\n",
    "print(u\"Total number of nonempty abstracts: {}\".format(len(documents_with_nonempty_abstracts)))\n",
    "print(u\"Total number of subjects: {}\".format(len(all_subjects)))\n",
    "print(u\"Total number of tokens: {}\".format(len(all_token_indices)))"
   ]
  },
  {
   "cell_type": "code",
   "execution_count": 24,
   "metadata": {
    "collapsed": true
   },
   "outputs": [],
   "source": [
    "from scipy.sparse import dok_matrix"
   ]
  },
  {
   "cell_type": "code",
   "execution_count": 25,
   "metadata": {
    "collapsed": false
   },
   "outputs": [
    {
     "name": "stderr",
     "output_type": "stream",
     "text": [
      "100%|██████████| 480887/480887 [12:48<00:00, 625.74it/s]\n"
     ]
    },
    {
     "name": "stdout",
     "output_type": "stream",
     "text": [
      "Constructed sparse matrix with shape (511462, 480887) and 25441094 nonzero entries\n",
      "CPU times: user 13min 8s, sys: 15.7 s, total: 13min 23s\n",
      "Wall time: 13min 29s\n"
     ]
    }
   ],
   "source": [
    "%%time\n",
    "# Construct sparse term-document matrix\n",
    "vocab_size = len(all_token_indices)\n",
    "num_nonempty_docs = len(documents_with_nonempty_abstracts)\n",
    "term_doc_matrix = dok_matrix((vocab_size, num_nonempty_docs), dtype='int')\n",
    "for indirect_index, doc_index in enumerate(tqdm.tqdm(documents_with_nonempty_abstracts)):\n",
    "    for term_index in token_indices_by_document[doc_index]:\n",
    "        term_doc_matrix[term_index, indirect_index] += 1\n",
    "term_doc_matrix = term_doc_matrix.tocsc()\n",
    "print(\"Constructed sparse matrix with shape {} and {} nonzero entries\"\n",
    "    .format(term_doc_matrix.shape, term_doc_matrix.nnz))"
   ]
  },
  {
   "cell_type": "code",
   "execution_count": 26,
   "metadata": {
    "collapsed": false
   },
   "outputs": [
    {
     "data": {
      "image/png": "[encoded data removed]",
      "text/plain": [
       "<matplotlib.figure.Figure at 0x3662c0320>"
      ]
     },
     "metadata": {},
     "output_type": "display_data"
    }
   ],
   "source": [
    "fig, ax = plt.subplots()\n",
    "ax.hist(stats_by_document[\"num_subjects\"], bins=20)\n",
    "ax.set_xlabel('Number of subjects')\n",
    "ax.set_ylabel('Frequency')\n",
    "None"
   ]
  },
  {
   "cell_type": "code",
   "execution_count": 27,
   "metadata": {
    "collapsed": false
   },
   "outputs": [
    {
     "data": {
      "image/png": "[encoded data removed]",
      "text/plain": [
       "<matplotlib.figure.Figure at 0x14c9509b0>"
      ]
     },
     "metadata": {},
     "output_type": "display_data"
    }
   ],
   "source": [
    "fig, ax = plt.subplots()\n",
    "ax.hist(stats_by_document[\"abstract_length_chars\"], bins=20)\n",
    "ax.set_xlabel('Length of abstract (characters)')\n",
    "ax.set_ylabel('Frequency')\n",
    "None"
   ]
  },
  {
   "cell_type": "code",
   "execution_count": 28,
   "metadata": {
    "collapsed": true
   },
   "outputs": [],
   "source": [
    "u_subjects = np.sort(np.unique(all_subjects))"
   ]
  },
  {
   "cell_type": "code",
   "execution_count": 29,
   "metadata": {
    "collapsed": false
   },
   "outputs": [
    {
     "data": {
      "text/plain": [
       "26862"
      ]
     },
     "execution_count": 29,
     "metadata": {},
     "output_type": "execute_result"
    }
   ],
   "source": [
    "len(u_subjects)"
   ]
  },
  {
   "cell_type": "code",
   "execution_count": 30,
   "metadata": {
    "collapsed": false
   },
   "outputs": [
    {
     "data": {
      "text/plain": [
       "483052"
      ]
     },
     "execution_count": 30,
     "metadata": {},
     "output_type": "execute_result"
    }
   ],
   "source": [
    "len(record_objects)"
   ]
  },
  {
   "cell_type": "code",
   "execution_count": 31,
   "metadata": {
    "collapsed": false
   },
   "outputs": [
    {
     "name": "stdout",
     "output_type": "stream",
     "text": [
      "CPU times: user 900 ms, sys: 283 ms, total: 1.18 s\n",
      "Wall time: 1.29 s\n"
     ]
    }
   ],
   "source": [
    "%%time\n",
    "from scipy.io import savemat\n",
    "savemat(\"data/abstracts.mat\", {'M' : term_doc_matrix}, oned_as='column')"
   ]
  },
  {
   "cell_type": "code",
   "execution_count": 32,
   "metadata": {
    "collapsed": false
   },
   "outputs": [
    {
     "name": "stderr",
     "output_type": "stream",
     "text": [
      "100%|██████████| 511462/511462 [00:00<00:00, 596317.49it/s]"
     ]
    },
    {
     "name": "stdout",
     "output_type": "stream",
     "text": [
      "CPU times: user 815 ms, sys: 41.3 ms, total: 856 ms\n",
      "Wall time: 865 ms\n"
     ]
    },
    {
     "name": "stderr",
     "output_type": "stream",
     "text": [
      "\n"
     ]
    }
   ],
   "source": [
    "%%time\n",
    "with open(\"data/abstracts_vocab.txt\", 'w') as f:\n",
    "    for t in tqdm.tqdm(all_tokens_sorted):\n",
    "        print(t, file=f)"
   ]
  },
  {
   "cell_type": "code",
   "execution_count": 33,
   "metadata": {
    "collapsed": false
   },
   "outputs": [
    {
     "name": "stderr",
     "output_type": "stream",
     "text": [
      "100%|██████████| 480887/480887 [00:00<00:00, 590528.72it/s]"
     ]
    },
    {
     "name": "stdout",
     "output_type": "stream",
     "text": [
      "CPU times: user 797 ms, sys: 19 ms, total: 816 ms\n",
      "Wall time: 819 ms\n"
     ]
    },
    {
     "name": "stderr",
     "output_type": "stream",
     "text": [
      "\n"
     ]
    }
   ],
   "source": [
    "%%time\n",
    "with open(\"data/abstracts_nonempty_doc_indices.txt\", 'w') as f:\n",
    "    for i in tqdm.tqdm(documents_with_nonempty_abstracts):\n",
    "        print(i, file=f)"
   ]
  },
  {
   "cell_type": "code",
   "execution_count": 34,
   "metadata": {
    "collapsed": true
   },
   "outputs": [],
   "source": [
    "# TODO: "
   ]
  },
  {
   "cell_type": "code",
   "execution_count": null,
   "metadata": {
    "collapsed": true
   },
   "outputs": [],
   "source": []
  }
 ],
 "metadata": {
  "kernelspec": {
   "display_name": "Python 3",
   "language": "python",
   "name": "python3"
  },
  "language_info": {
   "codemirror_mode": {
    "name": "ipython",
    "version": 3
   },
   "file_extension": ".py",
   "mimetype": "text/x-python",
   "name": "python",
   "nbconvert_exporter": "python",
   "pygments_lexer": "ipython3",
   "version": "3.5.0"
  }
 },
 "nbformat": 4,
 "nbformat_minor": 1
}
