{
 "cells": [
  {
   "cell_type": "code",
   "execution_count": 1,
   "metadata": {
    "collapsed": true
   },
   "outputs": [],
   "source": [
    "import numpy as np\n",
    "import matplotlib.pyplot as plt\n",
    "from matplotlib.gridspec import GridSpec\n",
    "import math\n",
    "from collections import Counter, defaultdict, namedtuple\n",
    "%matplotlib inline"
   ]
  },
  {
   "cell_type": "code",
   "execution_count": 2,
   "metadata": {
    "collapsed": true
   },
   "outputs": [],
   "source": [
    "np.random.seed(1)"
   ]
  },
  {
   "cell_type": "code",
   "execution_count": 3,
   "metadata": {
    "collapsed": true
   },
   "outputs": [],
   "source": [
    "np.set_printoptions(precision=4, suppress=True)"
   ]
  },
  {
   "cell_type": "markdown",
   "metadata": {
    "collapsed": true
   },
   "source": [
    "Experiments with Hierarchical Dirichlet Processes (not nested)\n",
    "\n",
    "Sources:  \n",
    "https://people.eecs.berkeley.edu/~jordan/papers/hdp.pdf (esp. equations 20 and 21)  \n",
    "http://mlg.eng.cam.ac.uk/tutorials/07/ywt.pdf  (esp. slide 39; may have some typos?)  \n",
    "\n",
    "\\begin{align*}\n",
    "% From HDP paper\n",
    "\\beta'_k &\\sim \\mathrm{Beta}(1, \\gamma) \\\\\n",
    "\\beta_k &= \\beta'_k \\prod_{\\ell=1}^{k-1} (1-\\beta'_\\ell) \\\\\n",
    "\\pi'_{j,k} &\\sim \\mathrm{Beta}\\left(\\alpha \\beta_k, \\; \\alpha \\left( 1 - \\sum_{\\ell=1}^k \\beta_\\ell \\right)\\right) \\\\\n",
    "\\pi_{j,k} &= \\pi'_{j,k} \\prod_{\\ell=1}^{k-1} (1-\\pi'_{j,\\ell})\n",
    "%\n",
    "% From tutorial slides... possibly has typos?\n",
    "%\\beta_{0,k} &\\sim \\mathrm{Beta}(1, \\gamma) \\\\\n",
    "%\\pi_{0,k} &= \\beta_{0,k} \\prod_{\\ell=1}^{k-1}(1-\\beta_{0,\\ell}) \\\\\n",
    "%\\beta_{j,k} &\\sim \\mathrm{Beta}\\left(\\alpha \\beta_{0,k}, \\; \\alpha\\left(1-\\sum_{\\ell=1}^k \\beta_{0,\\ell}\\right)\\right) \\\\\n",
    "%\\pi_{j,k} &= \\beta_{j,k} \\prod_{\\ell=1}^{k-1}(1-\\beta_{j,\\ell})\n",
    "\\end{align*}\n",
    "\n",
    "Hyperparameters: $\\alpha$, $\\gamma$"
   ]
  },
  {
   "cell_type": "code",
   "execution_count": 4,
   "metadata": {
    "collapsed": true
   },
   "outputs": [],
   "source": [
    "def get_stick_lengths(x):\n",
    "    '''\n",
    "    Given i.i.d. beta-distributed random variables,\n",
    "    compute the corresponding stick lengths\n",
    "    '''\n",
    "    orig_shape = x.shape\n",
    "    if x.ndim == 1:\n",
    "        x = np.reshape(x, (1, -1))\n",
    "    shifted = np.hstack([np.zeros((x.shape[0], 1)), x[:, :-1]])\n",
    "    cumprod = np.cumprod(1 - shifted, axis=1)\n",
    "    result = x * cumprod\n",
    "    return result.reshape(orig_shape)"
   ]
  },
  {
   "cell_type": "code",
   "execution_count": 5,
   "metadata": {
    "collapsed": true
   },
   "outputs": [],
   "source": [
    "gamma = 3.0  # hyperparameter for base dirichlet process\n",
    "alpha = 3.0  # hyperparameter for derived dirichlet processes"
   ]
  },
  {
   "cell_type": "code",
   "execution_count": 6,
   "metadata": {
    "collapsed": true
   },
   "outputs": [],
   "source": [
    "truncation = 10\n",
    "num_obs = 20"
   ]
  },
  {
   "cell_type": "code",
   "execution_count": 7,
   "metadata": {
    "collapsed": false
   },
   "outputs": [],
   "source": [
    "beta_prime = np.random.beta(1, gamma, size=(truncation,))\n",
    "beta = get_stick_lengths(beta_prime)\n",
    "\n",
    "eps = np.spacing(1)  # a very small floating-point number\n",
    "a = np.clip(alpha * beta, eps, None)\n",
    "b = np.clip(alpha * (1 - np.cumsum(beta)), eps, None)\n",
    "pi_prime = np.random.beta(a, b, size = (num_obs, truncation))\n",
    "pi = get_stick_lengths(pi_prime)"
   ]
  },
  {
   "cell_type": "code",
   "execution_count": 8,
   "metadata": {
    "collapsed": false
   },
   "outputs": [
    {
     "data": {
      "image/png": "[encoded data removed]",
      "text/plain": [
       "<matplotlib.figure.Figure at 0x10d6d7b50>"
      ]
     },
     "metadata": {},
     "output_type": "display_data"
    }
   ],
   "source": [
    "fig = plt.figure()\n",
    "gs = GridSpec(num_obs, 2)\n",
    "big_ax = fig.add_subplot(gs[:, 0])\n",
    "big_ax.bar(np.arange(truncation), beta, width=1, color='red', alpha=0.5)\n",
    "big_ax.set_title(r\"Base distribution $(\\beta)$\")\n",
    "for i in range(num_obs):\n",
    "    ax = fig.add_subplot(gs[i, 1], xticks=[], yticks=[])\n",
    "    ax.bar(np.arange(truncation), pi[i, :], alpha=0.5, color='blue')\n",
    "    if i == 0:\n",
    "        ax.set_title(r\"Derived distributions $(\\pi)$\")\n",
    "None"
   ]
  },
  {
   "cell_type": "code",
   "execution_count": null,
   "metadata": {
    "collapsed": true
   },
   "outputs": [],
   "source": []
  }
 ],
 "metadata": {
  "kernelspec": {
   "display_name": "Python 2",
   "language": "python",
   "name": "python2"
  },
  "language_info": {
   "codemirror_mode": {
    "name": "ipython",
    "version": 2
   },
   "file_extension": ".py",
   "mimetype": "text/x-python",
   "name": "python",
   "nbconvert_exporter": "python",
   "pygments_lexer": "ipython2",
   "version": "2.7.10"
  }
 },
 "nbformat": 4,
 "nbformat_minor": 1
}
