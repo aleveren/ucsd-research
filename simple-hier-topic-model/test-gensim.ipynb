{
 "cells": [
  {
   "cell_type": "code",
   "execution_count": 1,
   "metadata": {},
   "outputs": [],
   "source": [
    "import numpy as np\n",
    "import matplotlib.pyplot as plt\n",
    "from gensim.test.utils import common_corpus, common_dictionary, common_texts\n",
    "from gensim.models import LdaModel"
   ]
  },
  {
   "cell_type": "code",
   "execution_count": 2,
   "metadata": {},
   "outputs": [],
   "source": [
    "np.random.seed(1)"
   ]
  },
  {
   "cell_type": "code",
   "execution_count": 3,
   "metadata": {},
   "outputs": [
    {
     "data": {
      "text/plain": [
       "[[(0, 1), (1, 1), (2, 1)],\n",
       " [(0, 1), (3, 1), (4, 1), (5, 1), (6, 1), (7, 1)],\n",
       " [(2, 1), (5, 1), (7, 1), (8, 1)],\n",
       " [(1, 1), (5, 2), (8, 1)],\n",
       " [(3, 1), (6, 1), (7, 1)],\n",
       " [(9, 1)],\n",
       " [(9, 1), (10, 1)],\n",
       " [(9, 1), (10, 1), (11, 1)],\n",
       " [(4, 1), (10, 1), (11, 1)]]"
      ]
     },
     "execution_count": 3,
     "metadata": {},
     "output_type": "execute_result"
    }
   ],
   "source": [
    "common_corpus"
   ]
  },
  {
   "cell_type": "code",
   "execution_count": 4,
   "metadata": {},
   "outputs": [
    {
     "data": {
      "text/plain": [
       "[['human', 'interface', 'computer'],\n",
       " ['survey', 'user', 'computer', 'system', 'response', 'time'],\n",
       " ['eps', 'user', 'interface', 'system'],\n",
       " ['system', 'human', 'system', 'eps'],\n",
       " ['user', 'response', 'time'],\n",
       " ['trees'],\n",
       " ['graph', 'trees'],\n",
       " ['graph', 'minors', 'trees'],\n",
       " ['graph', 'minors', 'survey']]"
      ]
     },
     "execution_count": 4,
     "metadata": {},
     "output_type": "execute_result"
    }
   ],
   "source": [
    "common_texts"
   ]
  },
  {
   "cell_type": "code",
   "execution_count": 5,
   "metadata": {},
   "outputs": [
    {
     "data": {
      "text/plain": [
       "{0: 'computer',\n",
       " 1: 'human',\n",
       " 2: 'interface',\n",
       " 3: 'response',\n",
       " 4: 'survey',\n",
       " 5: 'system',\n",
       " 6: 'time',\n",
       " 7: 'user',\n",
       " 8: 'eps',\n",
       " 9: 'trees',\n",
       " 10: 'graph',\n",
       " 11: 'minors'}"
      ]
     },
     "execution_count": 5,
     "metadata": {},
     "output_type": "execute_result"
    }
   ],
   "source": [
    "dict(common_dictionary)"
   ]
  },
  {
   "cell_type": "code",
   "execution_count": 6,
   "metadata": {},
   "outputs": [],
   "source": [
    "from gensim.models.callbacks import Callback, Metric"
   ]
  },
  {
   "cell_type": "code",
   "execution_count": 7,
   "metadata": {},
   "outputs": [],
   "source": [
    "class Foo(Callback):\n",
    "    def __init__(self):\n",
    "        pass\n",
    "    def __str__(self):\n",
    "        return \"FOO\"\n",
    "    def __repr__(self):\n",
    "        return self.__str__()\n",
    "    def get_value(*args, **kwargs):\n",
    "        return 0\n",
    "    def __getattribute__(self, name):\n",
    "        if name == \"logger\":\n",
    "            return None\n",
    "        def func(*args, **kwargs):\n",
    "            print(\"{} called with args = {}, kwargs = {}\".format(name, args, kwargs))\n",
    "        return func"
   ]
  },
  {
   "cell_type": "code",
   "execution_count": 8,
   "metadata": {},
   "outputs": [],
   "source": [
    "lda = LdaModel(corpus=common_corpus, num_topics=3, id2word=common_dictionary)#, callbacks=[Foo()])"
   ]
  },
  {
   "cell_type": "code",
   "execution_count": 9,
   "metadata": {},
   "outputs": [
    {
     "data": {
      "text/plain": [
       "array([[0.09991315, 0.03180536, 0.03219635, 0.08912607, 0.17471717,\n",
       "        0.09523831, 0.09889168, 0.08675566, 0.03297976, 0.03802519,\n",
       "        0.11181334, 0.10853791],\n",
       "       [0.11099348, 0.19903353, 0.11578164, 0.03308505, 0.03267179,\n",
       "        0.20439455, 0.03299609, 0.03511733, 0.11463977, 0.04719991,\n",
       "        0.03913659, 0.03495036],\n",
       "       [0.03130063, 0.02087262, 0.07347195, 0.08797028, 0.03108724,\n",
       "        0.0874393 , 0.08150668, 0.1444235 , 0.07367393, 0.16928692,\n",
       "        0.12514158, 0.07382545]], dtype=float32)"
      ]
     },
     "execution_count": 9,
     "metadata": {},
     "output_type": "execute_result"
    }
   ],
   "source": [
    "lda.get_topics()"
   ]
  },
  {
   "cell_type": "code",
   "execution_count": 10,
   "metadata": {},
   "outputs": [],
   "source": [
    "topic_names = [lda.id2word[i] for i in range(len(lda.id2word))]"
   ]
  },
  {
   "cell_type": "code",
   "execution_count": 11,
   "metadata": {},
   "outputs": [
    {
     "data": {
      "image/png": "[encoded data removed]",
      "text/plain": [
       "<Figure size 432x288 with 1 Axes>"
      ]
     },
     "metadata": {},
     "output_type": "display_data"
    }
   ],
   "source": [
    "fig, ax = plt.subplots()\n",
    "ax.imshow(lda.get_topics())\n",
    "ax.set_xticks(np.arange(len(lda.id2word)))\n",
    "ax.set_xticklabels(topic_names, rotation = 'vertical')\n",
    "None"
   ]
  },
  {
   "cell_type": "code",
   "execution_count": 12,
   "metadata": {},
   "outputs": [
    {
     "data": {
      "text/plain": [
       "array([1.       , 1.       , 1.0000001], dtype=float32)"
      ]
     },
     "execution_count": 12,
     "metadata": {},
     "output_type": "execute_result"
    }
   ],
   "source": [
    "lda.get_topics().sum(axis=1)"
   ]
  },
  {
   "cell_type": "code",
   "execution_count": 13,
   "metadata": {},
   "outputs": [
    {
     "data": {
      "text/plain": [
       "[(0,\n",
       "  '0.175*\"survey\" + 0.112*\"graph\" + 0.109*\"minors\" + 0.100*\"computer\" + 0.099*\"time\" + 0.095*\"system\" + 0.089*\"response\" + 0.087*\"user\" + 0.038*\"trees\" + 0.033*\"eps\"'),\n",
       " (1,\n",
       "  '0.204*\"system\" + 0.199*\"human\" + 0.116*\"interface\" + 0.115*\"eps\" + 0.111*\"computer\" + 0.047*\"trees\" + 0.039*\"graph\" + 0.035*\"user\" + 0.035*\"minors\" + 0.033*\"response\"'),\n",
       " (2,\n",
       "  '0.169*\"trees\" + 0.144*\"user\" + 0.125*\"graph\" + 0.088*\"response\" + 0.087*\"system\" + 0.082*\"time\" + 0.074*\"minors\" + 0.074*\"eps\" + 0.073*\"interface\" + 0.031*\"computer\"')]"
      ]
     },
     "execution_count": 13,
     "metadata": {},
     "output_type": "execute_result"
    }
   ],
   "source": [
    "lda.print_topics()"
   ]
  },
  {
   "cell_type": "code",
   "execution_count": 43,
   "metadata": {},
   "outputs": [
    {
     "data": {
      "text/plain": [
       "(3, 12)"
      ]
     },
     "execution_count": 43,
     "metadata": {},
     "output_type": "execute_result"
    }
   ],
   "source": [
    "lda.state.sstats"
   ]
  },
  {
   "cell_type": "markdown",
   "metadata": {},
   "source": [
    "## Trying out collapsed gibbs"
   ]
  },
  {
   "cell_type": "code",
   "execution_count": 14,
   "metadata": {},
   "outputs": [
    {
     "data": {
      "text/plain": [
       "12"
      ]
     },
     "execution_count": 14,
     "metadata": {},
     "output_type": "execute_result"
    }
   ],
   "source": [
    "vocab_size = max(max(1 + v[0] for v in doc) for doc in common_corpus)\n",
    "vocab_size"
   ]
  },
  {
   "cell_type": "code",
   "execution_count": 15,
   "metadata": {},
   "outputs": [],
   "source": [
    "doc_lengths = [sum(x[1] for x in doc) for doc in common_corpus]\n",
    "corpus_length = sum(doc_lengths)"
   ]
  },
  {
   "cell_type": "code",
   "execution_count": 16,
   "metadata": {},
   "outputs": [
    {
     "data": {
      "text/plain": [
       "[3, 6, 4, 4, 3, 1, 2, 3, 3]"
      ]
     },
     "execution_count": 16,
     "metadata": {},
     "output_type": "execute_result"
    }
   ],
   "source": [
    "doc_lengths"
   ]
  },
  {
   "cell_type": "code",
   "execution_count": 17,
   "metadata": {},
   "outputs": [
    {
     "data": {
      "text/plain": [
       "29"
      ]
     },
     "execution_count": 17,
     "metadata": {},
     "output_type": "execute_result"
    }
   ],
   "source": [
    "corpus_length"
   ]
  },
  {
   "cell_type": "code",
   "execution_count": 18,
   "metadata": {},
   "outputs": [],
   "source": [
    "K = 3"
   ]
  },
  {
   "cell_type": "code",
   "execution_count": 19,
   "metadata": {},
   "outputs": [
    {
     "data": {
      "text/plain": [
       "[array([0, 2, 2]),\n",
       " array([0, 1, 1, 2, 1, 2]),\n",
       " array([0, 1, 1, 0]),\n",
       " array([1, 1, 2, 2]),\n",
       " array([0, 2, 0]),\n",
       " array([2]),\n",
       " array([0, 2]),\n",
       " array([2, 0, 2]),\n",
       " array([0, 2, 0])]"
      ]
     },
     "execution_count": 19,
     "metadata": {},
     "output_type": "execute_result"
    }
   ],
   "source": [
    "# Initialization\n",
    "Z = [np.random.choice(K, size=L) for L in doc_lengths]\n",
    "Z"
   ]
  },
  {
   "cell_type": "code",
   "execution_count": 20,
   "metadata": {},
   "outputs": [],
   "source": [
    "burn_in = 10\n",
    "lag = 20\n",
    "num_samples = 100"
   ]
  },
  {
   "cell_type": "code",
   "execution_count": 21,
   "metadata": {},
   "outputs": [],
   "source": [
    "import copy"
   ]
  },
  {
   "cell_type": "code",
   "execution_count": 22,
   "metadata": {},
   "outputs": [],
   "source": [
    "import itertools"
   ]
  },
  {
   "cell_type": "code",
   "execution_count": 23,
   "metadata": {},
   "outputs": [],
   "source": [
    "def flatten_one_level(L):\n",
    "    return list(itertools.chain.from_iterable(L))"
   ]
  },
  {
   "cell_type": "code",
   "execution_count": 24,
   "metadata": {},
   "outputs": [
    {
     "data": {
      "text/plain": [
       "[1, 2, 3, 4, 5, 6, 7, 8, 9]"
      ]
     },
     "execution_count": 24,
     "metadata": {},
     "output_type": "execute_result"
    }
   ],
   "source": [
    "flatten_one_level([[1,2,3],[4,5,6],[7,8],[],[9]])"
   ]
  },
  {
   "cell_type": "code",
   "execution_count": 25,
   "metadata": {},
   "outputs": [],
   "source": [
    "from tqdm import tqdm, tnrange"
   ]
  },
  {
   "cell_type": "code",
   "execution_count": 26,
   "metadata": {},
   "outputs": [],
   "source": [
    "class CollapsedGibbs(object):\n",
    "    def fit(self, corpus, num_topics, vocab_size, burn_in = 10, lag = 20, num_samples = 100, alpha = 1.0, beta = 1.0):\n",
    "        alpha = np.broadcast_to(alpha, (num_topics,))\n",
    "        beta = np.broadcast_to(beta, (vocab_size,))\n",
    "        beta_sum = beta.sum()\n",
    "        lag = max(1, lag)\n",
    "        burn_in = max(0, burn_in)\n",
    "        num_samples = max(0, num_samples)\n",
    "\n",
    "        doc_lengths = [sum(x[1] for x in doc) for doc in corpus]\n",
    "        corpus_expanded = [flatten_one_level([w[0]] * w[1] for w in doc) for doc in corpus]\n",
    "        Z = [np.random.choice(K, size=L) for L in doc_lengths]\n",
    "\n",
    "        self.samples = []\n",
    "        for i in tnrange(burn_in + lag * num_samples):\n",
    "            for doc_index in range(len(Z)):\n",
    "                for pos_index in range(doc_lengths[doc_index]):\n",
    "                    v = corpus_expanded[doc_index][pos_index]\n",
    "                    probs = np.zeros(num_topics)\n",
    "                    for k in range(num_topics):\n",
    "                        A = 0.0  # num word-slots in current document [excluding pos_index] such that Z == k\n",
    "                        B = 0.0  # num appearances of v in corpus [excluding doc_index, pos_index] such that Z == k\n",
    "                        C = 0.0  # num word-slots in corpus [excluding doc_index, pos_index] such that Z == k\n",
    "                        for di in range(len(corpus_expanded)):\n",
    "                            for pi in range(doc_lengths[di]):\n",
    "                                if di == doc_index and pi == pos_index:\n",
    "                                    continue\n",
    "                                if Z[di][pi] == k:\n",
    "                                    C += 1\n",
    "                                    if corpus_expanded[di][pi] == v:\n",
    "                                        B += 1\n",
    "                                    if doc_index == di:\n",
    "                                        A += 1\n",
    "                        # Combine these computations to yield probs[k] (unnormalized)\n",
    "                        probs[k] = (alpha[k] + A) * (beta[v] + B) / (beta_sum + C)\n",
    "                    probs /= probs.sum()\n",
    "                    Znew = np.random.choice(num_topics, p = probs)\n",
    "                    Z[doc_index][pos_index] = Znew\n",
    "\n",
    "            if (i - burn_in) % lag == 0:\n",
    "                self.samples.append(copy.deepcopy(Z))\n",
    "\n",
    "        self.corpus = copy.deepcopy(corpus)\n",
    "        self.corpus_expanded = corpus_expanded\n",
    "        self.num_topics = num_topics\n",
    "        self.vocab_size = vocab_size\n",
    "        self.alpha = alpha.copy()\n",
    "        self.beta = beta.copy()\n",
    "\n",
    "    def topics_by_sample(self):\n",
    "        counts = np.zeros((len(self.samples), self.num_topics, self.vocab_size))\n",
    "        for si, sample in enumerate(self.samples):\n",
    "            for di, doc in enumerate(sample):\n",
    "                for pi, z in enumerate(doc):\n",
    "                    w = self.corpus_expanded[di][pi]\n",
    "                    counts[si, z, w] += 1\n",
    "        return counts / counts.sum(axis = 2, keepdims = True)\n",
    "\n",
    "    def topics(self):\n",
    "        counts = np.zeros((self.num_topics, self.vocab_size))\n",
    "        for sample in self.samples:\n",
    "            for di, doc in enumerate(sample):\n",
    "                for pi, z in enumerate(doc):\n",
    "                    w = self.corpus_expanded[di][pi]\n",
    "                    counts[z, w] += 1\n",
    "        return counts / counts.sum(axis = 1, keepdims = True)"
   ]
  },
  {
   "cell_type": "code",
   "execution_count": 27,
   "metadata": {},
   "outputs": [
    {
     "data": {
      "application/vnd.jupyter.widget-view+json": {
       "model_id": "e250744294a24026b26547932e3dcdd2",
       "version_major": 2,
       "version_minor": 0
      },
      "text/plain": [
       "HBox(children=(IntProgress(value=0, max=20010), HTML(value='')))"
      ]
     },
     "metadata": {},
     "output_type": "display_data"
    },
    {
     "name": "stdout",
     "output_type": "stream",
     "text": [
      "\n"
     ]
    },
    {
     "data": {
      "text/plain": [
       "1000"
      ]
     },
     "execution_count": 27,
     "metadata": {},
     "output_type": "execute_result"
    }
   ],
   "source": [
    "result = CollapsedGibbs()\n",
    "result.fit(common_corpus, num_topics = 5, vocab_size = vocab_size, num_samples = 1000)\n",
    "len(result.samples)"
   ]
  },
  {
   "cell_type": "code",
   "execution_count": 28,
   "metadata": {},
   "outputs": [
    {
     "name": "stderr",
     "output_type": "stream",
     "text": [
      "/usr/local/lib/python3.6/site-packages/ipykernel_launcher.py:57: RuntimeWarning: invalid value encountered in true_divide\n"
     ]
    }
   ],
   "source": [
    "T = result.topics_by_sample()"
   ]
  },
  {
   "cell_type": "code",
   "execution_count": 29,
   "metadata": {},
   "outputs": [],
   "source": [
    "example_nan = np.array(np.where(np.isnan(T)))[0,0]"
   ]
  },
  {
   "cell_type": "code",
   "execution_count": 30,
   "metadata": {},
   "outputs": [
    {
     "data": {
      "image/png": "[encoded data removed]",
      "text/plain": [
       "<Figure size 432x288 with 1 Axes>"
      ]
     },
     "metadata": {},
     "output_type": "display_data"
    }
   ],
   "source": [
    "fig, ax = plt.subplots()\n",
    "ax.imshow(T[example_nan])\n",
    "ax.set_title(\"T[{}]\".format(example_nan))\n",
    "None"
   ]
  },
  {
   "cell_type": "code",
   "execution_count": 31,
   "metadata": {},
   "outputs": [],
   "source": [
    "topics = result.topics()"
   ]
  },
  {
   "cell_type": "code",
   "execution_count": 32,
   "metadata": {},
   "outputs": [
    {
     "data": {
      "image/png": "[encoded data removed]",
      "text/plain": [
       "<Figure size 432x288 with 1 Axes>"
      ]
     },
     "metadata": {},
     "output_type": "display_data"
    }
   ],
   "source": [
    "plt.imshow(topics);"
   ]
  },
  {
   "cell_type": "code",
   "execution_count": 33,
   "metadata": {},
   "outputs": [],
   "source": [
    "from utils import niceprint"
   ]
  },
  {
   "cell_type": "code",
   "execution_count": 39,
   "metadata": {},
   "outputs": [
    {
     "name": "stdout",
     "output_type": "stream",
     "text": [
      "[[0.0653 0.0718 0.0730 0.0680 0.0692 0.1378 0.0684 0.1071 0.0747 0.0992 0.0970 0.0684]\n",
      " [0.0754 0.0703 0.0689 0.0710 0.0730 0.1314 0.0687 0.1032 0.0646 0.1004 0.1052 0.0679]\n",
      " [0.0687 0.0675 0.0642 0.0656 0.0698 0.1410 0.0651 0.1025 0.0663 0.1103 0.1105 0.0684]\n",
      " [0.0658 0.0666 0.0658 0.0700 0.0671 0.1356 0.0736 0.1081 0.0654 0.1018 0.1074 0.0729]\n",
      " [0.0697 0.0686 0.0730 0.0702 0.0656 0.1441 0.0690 0.0962 0.0739 0.1056 0.0970 0.0672]]\n"
     ]
    }
   ],
   "source": [
    "niceprint(topics)"
   ]
  },
  {
   "cell_type": "code",
   "execution_count": 35,
   "metadata": {},
   "outputs": [
    {
     "data": {
      "text/plain": [
       "['computer',\n",
       " 'human',\n",
       " 'interface',\n",
       " 'response',\n",
       " 'survey',\n",
       " 'system',\n",
       " 'time',\n",
       " 'user',\n",
       " 'eps',\n",
       " 'trees',\n",
       " 'graph',\n",
       " 'minors']"
      ]
     },
     "execution_count": 35,
     "metadata": {},
     "output_type": "execute_result"
    }
   ],
   "source": [
    "[common_dictionary[i] for i in range(vocab_size)]"
   ]
  },
  {
   "cell_type": "code",
   "execution_count": 36,
   "metadata": {},
   "outputs": [],
   "source": [
    "from collections import Counter"
   ]
  },
  {
   "cell_type": "code",
   "execution_count": 37,
   "metadata": {},
   "outputs": [
    {
     "data": {
      "text/plain": [
       "Counter({0: 2,\n",
       "         1: 2,\n",
       "         2: 2,\n",
       "         3: 2,\n",
       "         4: 2,\n",
       "         5: 4,\n",
       "         6: 2,\n",
       "         7: 3,\n",
       "         8: 2,\n",
       "         9: 3,\n",
       "         10: 3,\n",
       "         11: 2})"
      ]
     },
     "execution_count": 37,
     "metadata": {},
     "output_type": "execute_result"
    }
   ],
   "source": [
    "corpus_word_counts = Counter()\n",
    "for doc in common_corpus:\n",
    "    for w, c in doc:\n",
    "        corpus_word_counts[w] += c\n",
    "corpus_word_counts"
   ]
  },
  {
   "cell_type": "code",
   "execution_count": 38,
   "metadata": {},
   "outputs": [
    {
     "data": {
      "image/png": "[encoded data removed]",
      "text/plain": [
       "<Figure size 432x288 with 1 Axes>"
      ]
     },
     "metadata": {},
     "output_type": "display_data"
    }
   ],
   "source": [
    "unif_topics = np.broadcast_to([corpus_word_counts[i] for i in range(vocab_size)], topics.shape).astype('float')\n",
    "unif_topics /= unif_topics.sum(axis = 1, keepdims = True)\n",
    "plt.imshow(unif_topics);"
   ]
  },
  {
   "cell_type": "code",
   "execution_count": null,
   "metadata": {},
   "outputs": [],
   "source": []
  }
 ],
 "metadata": {
  "kernelspec": {
   "display_name": "Python 3",
   "language": "python",
   "name": "python3"
  },
  "language_info": {
   "codemirror_mode": {
    "name": "ipython",
    "version": 3
   },
   "file_extension": ".py",
   "mimetype": "text/x-python",
   "name": "python",
   "nbconvert_exporter": "python",
   "pygments_lexer": "ipython3",
   "version": "3.6.5"
  }
 },
 "nbformat": 4,
 "nbformat_minor": 2
}
