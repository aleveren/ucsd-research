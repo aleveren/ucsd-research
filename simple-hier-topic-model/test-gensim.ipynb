{
 "cells": [
  {
   "cell_type": "code",
   "execution_count": 1,
   "metadata": {},
   "outputs": [],
   "source": [
    "import numpy as np\n",
    "import matplotlib.pyplot as plt\n",
    "from gensim.test.utils import common_corpus, common_dictionary, common_texts\n",
    "from gensim.models import LdaModel\n",
    "from collections import Counter, defaultdict"
   ]
  },
  {
   "cell_type": "code",
   "execution_count": 2,
   "metadata": {},
   "outputs": [],
   "source": [
    "np.random.seed(1)"
   ]
  },
  {
   "cell_type": "code",
   "execution_count": 3,
   "metadata": {},
   "outputs": [
    {
     "data": {
      "text/plain": [
       "[[(0, 1), (1, 1), (2, 1)],\n",
       " [(0, 1), (3, 1), (4, 1), (5, 1), (6, 1), (7, 1)],\n",
       " [(2, 1), (5, 1), (7, 1), (8, 1)],\n",
       " [(1, 1), (5, 2), (8, 1)],\n",
       " [(3, 1), (6, 1), (7, 1)],\n",
       " [(9, 1)],\n",
       " [(9, 1), (10, 1)],\n",
       " [(9, 1), (10, 1), (11, 1)],\n",
       " [(4, 1), (10, 1), (11, 1)]]"
      ]
     },
     "execution_count": 3,
     "metadata": {},
     "output_type": "execute_result"
    }
   ],
   "source": [
    "common_corpus"
   ]
  },
  {
   "cell_type": "code",
   "execution_count": 4,
   "metadata": {},
   "outputs": [
    {
     "data": {
      "text/plain": [
       "[['human', 'interface', 'computer'],\n",
       " ['survey', 'user', 'computer', 'system', 'response', 'time'],\n",
       " ['eps', 'user', 'interface', 'system'],\n",
       " ['system', 'human', 'system', 'eps'],\n",
       " ['user', 'response', 'time'],\n",
       " ['trees'],\n",
       " ['graph', 'trees'],\n",
       " ['graph', 'minors', 'trees'],\n",
       " ['graph', 'minors', 'survey']]"
      ]
     },
     "execution_count": 4,
     "metadata": {},
     "output_type": "execute_result"
    }
   ],
   "source": [
    "common_texts"
   ]
  },
  {
   "cell_type": "code",
   "execution_count": 5,
   "metadata": {},
   "outputs": [
    {
     "data": {
      "text/plain": [
       "{0: 'computer',\n",
       " 1: 'human',\n",
       " 2: 'interface',\n",
       " 3: 'response',\n",
       " 4: 'survey',\n",
       " 5: 'system',\n",
       " 6: 'time',\n",
       " 7: 'user',\n",
       " 8: 'eps',\n",
       " 9: 'trees',\n",
       " 10: 'graph',\n",
       " 11: 'minors'}"
      ]
     },
     "execution_count": 5,
     "metadata": {},
     "output_type": "execute_result"
    }
   ],
   "source": [
    "dict(common_dictionary)"
   ]
  },
  {
   "cell_type": "code",
   "execution_count": 6,
   "metadata": {},
   "outputs": [],
   "source": [
    "lda = LdaModel(corpus=common_corpus, num_topics=3, id2word=common_dictionary)"
   ]
  },
  {
   "cell_type": "code",
   "execution_count": 7,
   "metadata": {},
   "outputs": [
    {
     "data": {
      "text/plain": [
       "array([[0.09991315, 0.03180536, 0.03219635, 0.08912607, 0.17471717,\n",
       "        0.09523831, 0.09889168, 0.08675566, 0.03297976, 0.03802519,\n",
       "        0.11181334, 0.10853791],\n",
       "       [0.11099348, 0.19903353, 0.11578164, 0.03308505, 0.03267179,\n",
       "        0.20439455, 0.03299609, 0.03511733, 0.11463977, 0.04719991,\n",
       "        0.03913659, 0.03495036],\n",
       "       [0.03130063, 0.02087262, 0.07347195, 0.08797028, 0.03108724,\n",
       "        0.0874393 , 0.08150668, 0.1444235 , 0.07367393, 0.16928692,\n",
       "        0.12514158, 0.07382545]], dtype=float32)"
      ]
     },
     "execution_count": 7,
     "metadata": {},
     "output_type": "execute_result"
    }
   ],
   "source": [
    "lda.get_topics()"
   ]
  },
  {
   "cell_type": "code",
   "execution_count": 8,
   "metadata": {},
   "outputs": [],
   "source": [
    "topic_names = [lda.id2word[i] for i in range(len(lda.id2word))]"
   ]
  },
  {
   "cell_type": "code",
   "execution_count": 9,
   "metadata": {},
   "outputs": [
    {
     "data": {
      "image/png": "[encoded data removed]",
      "text/plain": [
       "<Figure size 432x288 with 1 Axes>"
      ]
     },
     "metadata": {},
     "output_type": "display_data"
    }
   ],
   "source": [
    "fig, ax = plt.subplots()\n",
    "ax.imshow(lda.get_topics())\n",
    "ax.set_xticks(np.arange(len(lda.id2word)))\n",
    "ax.set_xticklabels(topic_names, rotation = 'vertical')\n",
    "None"
   ]
  },
  {
   "cell_type": "code",
   "execution_count": 10,
   "metadata": {},
   "outputs": [
    {
     "data": {
      "text/plain": [
       "array([1.       , 1.       , 1.0000001], dtype=float32)"
      ]
     },
     "execution_count": 10,
     "metadata": {},
     "output_type": "execute_result"
    }
   ],
   "source": [
    "lda.get_topics().sum(axis=1)"
   ]
  },
  {
   "cell_type": "code",
   "execution_count": 11,
   "metadata": {},
   "outputs": [
    {
     "data": {
      "text/plain": [
       "[(0,\n",
       "  '0.175*\"survey\" + 0.112*\"graph\" + 0.109*\"minors\" + 0.100*\"computer\" + 0.099*\"time\" + 0.095*\"system\" + 0.089*\"response\" + 0.087*\"user\" + 0.038*\"trees\" + 0.033*\"eps\"'),\n",
       " (1,\n",
       "  '0.204*\"system\" + 0.199*\"human\" + 0.116*\"interface\" + 0.115*\"eps\" + 0.111*\"computer\" + 0.047*\"trees\" + 0.039*\"graph\" + 0.035*\"user\" + 0.035*\"minors\" + 0.033*\"response\"'),\n",
       " (2,\n",
       "  '0.169*\"trees\" + 0.144*\"user\" + 0.125*\"graph\" + 0.088*\"response\" + 0.087*\"system\" + 0.082*\"time\" + 0.074*\"minors\" + 0.074*\"eps\" + 0.073*\"interface\" + 0.031*\"computer\"')]"
      ]
     },
     "execution_count": 11,
     "metadata": {},
     "output_type": "execute_result"
    }
   ],
   "source": [
    "lda.print_topics()"
   ]
  },
  {
   "cell_type": "markdown",
   "metadata": {},
   "source": [
    "## Trying out collapsed gibbs"
   ]
  },
  {
   "cell_type": "code",
   "execution_count": 12,
   "metadata": {},
   "outputs": [
    {
     "data": {
      "text/plain": [
       "12"
      ]
     },
     "execution_count": 12,
     "metadata": {},
     "output_type": "execute_result"
    }
   ],
   "source": [
    "vocab_size = max(max(1 + v[0] for v in doc) for doc in common_corpus)\n",
    "vocab_size"
   ]
  },
  {
   "cell_type": "code",
   "execution_count": 13,
   "metadata": {},
   "outputs": [],
   "source": [
    "doc_lengths = [sum(x[1] for x in doc) for doc in common_corpus]\n",
    "corpus_length = sum(doc_lengths)"
   ]
  },
  {
   "cell_type": "code",
   "execution_count": 14,
   "metadata": {},
   "outputs": [
    {
     "data": {
      "text/plain": [
       "[3, 6, 4, 4, 3, 1, 2, 3, 3]"
      ]
     },
     "execution_count": 14,
     "metadata": {},
     "output_type": "execute_result"
    }
   ],
   "source": [
    "doc_lengths"
   ]
  },
  {
   "cell_type": "code",
   "execution_count": 15,
   "metadata": {},
   "outputs": [
    {
     "data": {
      "text/plain": [
       "29"
      ]
     },
     "execution_count": 15,
     "metadata": {},
     "output_type": "execute_result"
    }
   ],
   "source": [
    "corpus_length"
   ]
  },
  {
   "cell_type": "code",
   "execution_count": 16,
   "metadata": {},
   "outputs": [],
   "source": [
    "K = 3"
   ]
  },
  {
   "cell_type": "code",
   "execution_count": 17,
   "metadata": {},
   "outputs": [
    {
     "data": {
      "text/plain": [
       "[array([0, 2, 2]),\n",
       " array([0, 1, 1, 2, 1, 2]),\n",
       " array([0, 1, 1, 0]),\n",
       " array([1, 1, 2, 2]),\n",
       " array([0, 2, 0]),\n",
       " array([2]),\n",
       " array([0, 2]),\n",
       " array([2, 0, 2]),\n",
       " array([0, 2, 0])]"
      ]
     },
     "execution_count": 17,
     "metadata": {},
     "output_type": "execute_result"
    }
   ],
   "source": [
    "# Initialization\n",
    "Z = [np.random.choice(K, size=L) for L in doc_lengths]\n",
    "Z"
   ]
  },
  {
   "cell_type": "code",
   "execution_count": 18,
   "metadata": {},
   "outputs": [],
   "source": [
    "burn_in = 10\n",
    "lag = 20\n",
    "num_samples = 100"
   ]
  },
  {
   "cell_type": "code",
   "execution_count": 19,
   "metadata": {},
   "outputs": [],
   "source": [
    "import copy"
   ]
  },
  {
   "cell_type": "code",
   "execution_count": 20,
   "metadata": {},
   "outputs": [],
   "source": [
    "import itertools"
   ]
  },
  {
   "cell_type": "code",
   "execution_count": 21,
   "metadata": {},
   "outputs": [],
   "source": [
    "def flatten_one_level(L):\n",
    "    return list(itertools.chain.from_iterable(L))"
   ]
  },
  {
   "cell_type": "code",
   "execution_count": 22,
   "metadata": {},
   "outputs": [
    {
     "data": {
      "text/plain": [
       "[1, 2, 3, 4, 5, 6, 7, 8, 9]"
      ]
     },
     "execution_count": 22,
     "metadata": {},
     "output_type": "execute_result"
    }
   ],
   "source": [
    "flatten_one_level([[1,2,3],[4,5,6],[7,8],[],[9]])"
   ]
  },
  {
   "cell_type": "code",
   "execution_count": 23,
   "metadata": {},
   "outputs": [],
   "source": [
    "from tqdm import tqdm, tnrange, tqdm_notebook"
   ]
  },
  {
   "cell_type": "code",
   "execution_count": 112,
   "metadata": {},
   "outputs": [],
   "source": [
    "class CollapsedGibbs(object):\n",
    "    def fit(self,\n",
    "            corpus,\n",
    "            num_topics,\n",
    "            vocab_size,\n",
    "            burn_in = 10,\n",
    "            lag = 20,\n",
    "            num_samples = 100,\n",
    "            alpha = 1.0,\n",
    "            beta = 1.0,\n",
    "            update_alpha_every = 0):\n",
    "        alpha = np.broadcast_to(alpha, (num_topics,))\n",
    "        beta = np.broadcast_to(beta, (vocab_size,))\n",
    "        beta_sum = beta.sum()\n",
    "        lag = max(1, lag)\n",
    "        burn_in = max(0, burn_in)\n",
    "        num_samples = max(0, num_samples)\n",
    "        update_alpha_every = max(0, update_alpha_every)\n",
    "\n",
    "        self.alpha_original = alpha.copy()\n",
    "\n",
    "        doc_lengths = [sum(x[1] for x in doc) for doc in corpus]\n",
    "        blank_counter = lambda: np.zeros((num_topics,), dtype='int')\n",
    "        topic_counts = {\n",
    "            \"overall\": blank_counter(),\n",
    "            \"by_doc\": defaultdict(blank_counter),\n",
    "            \"by_vocab\": defaultdict(blank_counter),\n",
    "            \"by_doc_vocab\": defaultdict(blank_counter),\n",
    "        }\n",
    "\n",
    "        def sample_once(doc_index, vocab_index, topic_old):\n",
    "            A = topic_counts[\"by_doc\"][doc_index]\n",
    "            B = topic_counts[\"by_vocab\"][vocab_index]\n",
    "            C = topic_counts[\"overall\"]\n",
    "            D = topic_counts[\"by_doc_vocab\"][doc_index, vocab_index]\n",
    "            if topic_old is not None:\n",
    "                for x in [A, B, C, D]:\n",
    "                    x[topic_old] -= 1\n",
    "            probs = (alpha + A) * (beta[vocab_index] + B) / (beta_sum + C)\n",
    "            probs /= probs.sum()\n",
    "            topic_new = np.random.choice(num_topics, p = probs)\n",
    "            for x in [A, B, C, D]:\n",
    "                x[topic_new] += 1                \n",
    "        \n",
    "        for di, doc in enumerate(tqdm_notebook(corpus, desc = \"Initializing\")):\n",
    "            for v, c in doc:\n",
    "                for pi in range(c):\n",
    "                    sample_once(doc_index = di, vocab_index = v, topic_old = None)\n",
    "        del di, doc, v, c, pi\n",
    "        \n",
    "        self.samples = []\n",
    "        for i in tnrange(burn_in + lag * num_samples, desc = \"Training\"):\n",
    "            for di, doc in enumerate(tqdm_notebook(corpus, desc = \"Current iteration\", leave = False)):\n",
    "                for v, vc in doc:\n",
    "                    current_counts = topic_counts[\"by_doc_vocab\"][di, v].copy()\n",
    "                    for t, tc in enumerate(current_counts):\n",
    "                        for j in range(tc):\n",
    "                            sample_once(doc_index = di, vocab_index = v, topic_old = t)\n",
    "            update_alpha = (update_alpha_every > 0) and (i % update_alpha_every == 0)\n",
    "            if update_alpha:\n",
    "                # Compute moments of observed probabilities, and estimate new alpha\n",
    "                # Source: Thomas P. Minka, \"Estimating a Dirichlet distribution\" (2000)\n",
    "                num_docs = len(corpus)\n",
    "                m1 = np.zeros(num_topics)\n",
    "                m2 = np.zeros(num_topics)\n",
    "                for di, t in topic_counts[\"by_doc\"].items():\n",
    "                    p = t.astype('float') / t.sum()\n",
    "                    m1 += p\n",
    "                    m2 += p ** 2\n",
    "                m1 /= num_docs\n",
    "                m2 /= num_docs\n",
    "                if m2[0] != m1[0] ** 2:\n",
    "                    s = (m1[0] - m2[0]) / (m2[0] - m1[0] ** 2)  # Minka, eqn (21)\n",
    "                    alpha = m1 * s\n",
    "\n",
    "            if i >= burn_in and (i - burn_in) % lag == 0:\n",
    "                sample = copy.deepcopy(topic_counts)\n",
    "                sample[\"alpha\"] = alpha.copy()\n",
    "                self.samples.append(sample)\n",
    "\n",
    "        self.corpus = copy.deepcopy(corpus)\n",
    "        self.num_topics = num_topics\n",
    "        self.vocab_size = vocab_size\n",
    "        self.alpha = alpha.copy()\n",
    "        self.beta = beta.copy()\n",
    "\n",
    "    def topics_by_sample(self):\n",
    "        counts = np.zeros((len(self.samples), self.num_topics, self.vocab_size))\n",
    "        for si, sample in enumerate(self.samples):\n",
    "            for (di, v), topic_count in sample[\"by_doc_vocab\"].items():\n",
    "                counts[si, :, v] += topic_count\n",
    "        numer = counts + self.beta[np.newaxis, np.newaxis, :]\n",
    "        denom = counts.sum(axis = 2, keepdims = True) + self.beta.sum()\n",
    "        return numer / denom\n",
    "        #return counts / counts.sum(axis = 2, keepdims = True)\n",
    "        \n",
    "    def cooccurrence_by_sample(self):\n",
    "        num_samples = len(self.samples)\n",
    "        result = np.zeros((num_samples, self.num_topics, self.num_topics))\n",
    "        for si, sample in enumerate(self.samples):\n",
    "            for di, topic_count in sample[\"by_doc\"].items():\n",
    "                probs = topic_count / topic_count.sum()\n",
    "                result[si, :, :] += np.outer(probs, probs)\n",
    "        result /= result.sum(axis = (1, 2), keepdims = True)\n",
    "        return result"
   ]
  },
  {
   "cell_type": "code",
   "execution_count": 25,
   "metadata": {},
   "outputs": [],
   "source": [
    "np.random.seed(1)"
   ]
  },
  {
   "cell_type": "code",
   "execution_count": 26,
   "metadata": {},
   "outputs": [
    {
     "data": {
      "application/vnd.jupyter.widget-view+json": {
       "model_id": "3d0858bb48d94246a47c84f39316cd26",
       "version_major": 2,
       "version_minor": 0
      },
      "text/plain": [
       "HBox(children=(IntProgress(value=0, description='Initializing', max=9), HTML(value='')))"
      ]
     },
     "metadata": {},
     "output_type": "display_data"
    },
    {
     "name": "stdout",
     "output_type": "stream",
     "text": [
      "\n"
     ]
    },
    {
     "data": {
      "application/vnd.jupyter.widget-view+json": {
       "model_id": "7e79fad67b3d445b9eb68017db2b2117",
       "version_major": 2,
       "version_minor": 0
      },
      "text/plain": [
       "HBox(children=(IntProgress(value=0, description='Training', max=2010), HTML(value='')))"
      ]
     },
     "metadata": {},
     "output_type": "display_data"
    },
    {
     "name": "stderr",
     "output_type": "stream",
     "text": [
      "/usr/local/lib/python3.6/site-packages/ipykernel_launcher.py:40: RuntimeWarning: invalid value encountered in true_divide\n",
      "/usr/local/lib/python3.6/site-packages/ipykernel_launcher.py:41: RuntimeWarning: invalid value encountered in less\n"
     ]
    },
    {
     "name": "stdout",
     "output_type": "stream",
     "text": [
      "\n"
     ]
    },
    {
     "data": {
      "text/plain": [
       "100"
      ]
     },
     "execution_count": 26,
     "metadata": {},
     "output_type": "execute_result"
    }
   ],
   "source": [
    "result = CollapsedGibbs()\n",
    "result.fit(common_corpus, num_topics = 3, vocab_size = vocab_size, num_samples = 100, update_alpha_every = 1)\n",
    "len(result.samples)"
   ]
  },
  {
   "cell_type": "code",
   "execution_count": 27,
   "metadata": {},
   "outputs": [],
   "source": [
    "T = result.topics_by_sample()"
   ]
  },
  {
   "cell_type": "code",
   "execution_count": 28,
   "metadata": {},
   "outputs": [],
   "source": [
    "nan_indices = np.array(np.where(np.isnan(T)))\n",
    "if nan_indices.size > 0:\n",
    "    example_index = nan_indices[0, 0]\n",
    "else:\n",
    "    example_index = 0"
   ]
  },
  {
   "cell_type": "code",
   "execution_count": 29,
   "metadata": {},
   "outputs": [
    {
     "data": {
      "image/png": "[encoded data removed]",
      "text/plain": [
       "<Figure size 432x288 with 6 Axes>"
      ]
     },
     "metadata": {},
     "output_type": "display_data"
    }
   ],
   "source": [
    "nr, nc = 3, 2\n",
    "fig, ax = plt.subplots(nr, nc)\n",
    "for i in range(nr * nc):\n",
    "    ax[i // nc, i % nc].imshow(T[i])\n",
    "    ax[i // nc, i % nc].set_title(\"T[{}]\".format(i))\n",
    "None"
   ]
  },
  {
   "cell_type": "code",
   "execution_count": 30,
   "metadata": {},
   "outputs": [
    {
     "data": {
      "text/plain": [
       "(0.9999999999999998, 0.9999999999999999)"
      ]
     },
     "execution_count": 30,
     "metadata": {},
     "output_type": "execute_result"
    }
   ],
   "source": [
    "sums = T.sum(axis=2)\n",
    "np.min(sums), np.max(sums)"
   ]
  },
  {
   "cell_type": "code",
   "execution_count": 31,
   "metadata": {},
   "outputs": [],
   "source": [
    "topics = T.mean(axis = 0)"
   ]
  },
  {
   "cell_type": "code",
   "execution_count": 32,
   "metadata": {},
   "outputs": [
    {
     "data": {
      "image/png": "[encoded data removed]",
      "text/plain": [
       "<Figure size 432x288 with 1 Axes>"
      ]
     },
     "metadata": {},
     "output_type": "display_data"
    }
   ],
   "source": [
    "plt.imshow(topics);"
   ]
  },
  {
   "cell_type": "code",
   "execution_count": 33,
   "metadata": {},
   "outputs": [
    {
     "data": {
      "text/plain": [
       "['computer',\n",
       " 'human',\n",
       " 'interface',\n",
       " 'response',\n",
       " 'survey',\n",
       " 'system',\n",
       " 'time',\n",
       " 'user',\n",
       " 'eps',\n",
       " 'trees',\n",
       " 'graph',\n",
       " 'minors']"
      ]
     },
     "execution_count": 33,
     "metadata": {},
     "output_type": "execute_result"
    }
   ],
   "source": [
    "[common_dictionary[i] for i in range(vocab_size)]"
   ]
  },
  {
   "cell_type": "code",
   "execution_count": 34,
   "metadata": {},
   "outputs": [
    {
     "data": {
      "text/plain": [
       "Counter({0: 2,\n",
       "         1: 2,\n",
       "         2: 2,\n",
       "         3: 2,\n",
       "         4: 2,\n",
       "         5: 4,\n",
       "         6: 2,\n",
       "         7: 3,\n",
       "         8: 2,\n",
       "         9: 3,\n",
       "         10: 3,\n",
       "         11: 2})"
      ]
     },
     "execution_count": 34,
     "metadata": {},
     "output_type": "execute_result"
    }
   ],
   "source": [
    "corpus_word_counts = Counter()\n",
    "for doc in common_corpus:\n",
    "    for w, c in doc:\n",
    "        corpus_word_counts[w] += c\n",
    "corpus_word_counts"
   ]
  },
  {
   "cell_type": "code",
   "execution_count": 35,
   "metadata": {},
   "outputs": [
    {
     "data": {
      "image/png": "[encoded data removed]",
      "text/plain": [
       "<Figure size 432x288 with 1 Axes>"
      ]
     },
     "metadata": {},
     "output_type": "display_data"
    }
   ],
   "source": [
    "unif_topics = np.broadcast_to([corpus_word_counts[i] for i in range(vocab_size)], topics.shape).astype('float')\n",
    "unif_topics /= unif_topics.sum(axis = 1, keepdims = True)\n",
    "plt.imshow(unif_topics);"
   ]
  },
  {
   "cell_type": "markdown",
   "metadata": {},
   "source": [
    "## Experiments with Griffiths-Steyvers square-image data generation"
   ]
  },
  {
   "cell_type": "code",
   "execution_count": 36,
   "metadata": {},
   "outputs": [],
   "source": [
    "np.random.seed(1)"
   ]
  },
  {
   "cell_type": "code",
   "execution_count": 37,
   "metadata": {},
   "outputs": [],
   "source": [
    "from sim_data import GriffithsSteyversSampler"
   ]
  },
  {
   "cell_type": "code",
   "execution_count": 38,
   "metadata": {},
   "outputs": [
    {
     "name": "stderr",
     "output_type": "stream",
     "text": [
      "100%|██████████| 1000/1000 [00:06<00:00, 146.47it/s]\n"
     ]
    }
   ],
   "source": [
    "sampler = GriffithsSteyversSampler(num_docs = 1000, words_per_doc = 100, dimension = 5, alpha = 0.1)\n",
    "sampler.sample()\n",
    "None"
   ]
  },
  {
   "cell_type": "code",
   "execution_count": 39,
   "metadata": {},
   "outputs": [],
   "source": [
    "docs_to_display = 50"
   ]
  },
  {
   "cell_type": "code",
   "execution_count": 40,
   "metadata": {},
   "outputs": [
    {
     "data": {
      "image/png": "[encoded data removed]",
      "text/plain": [
       "<Figure size 432x288 with 1 Axes>"
      ]
     },
     "metadata": {},
     "output_type": "display_data"
    }
   ],
   "source": [
    "plt.imshow(np.array(sampler.doc_topic_mixtures)[:docs_to_display, :].T);"
   ]
  },
  {
   "cell_type": "code",
   "execution_count": 41,
   "metadata": {},
   "outputs": [
    {
     "data": {
      "image/png": "[encoded data removed]",
      "text/plain": [
       "<Figure size 432x288 with 1 Axes>"
      ]
     },
     "metadata": {},
     "output_type": "display_data"
    }
   ],
   "source": [
    "plt.imshow(sampler.data.toarray()[:docs_to_display, :].T);"
   ]
  },
  {
   "cell_type": "code",
   "execution_count": 42,
   "metadata": {},
   "outputs": [
    {
     "data": {
      "image/png": "[encoded data removed]",
      "text/plain": [
       "<Figure size 360x360 with 25 Axes>"
      ]
     },
     "metadata": {},
     "output_type": "display_data"
    }
   ],
   "source": [
    "sq = 5\n",
    "fig, ax = plt.subplots(sq, sq, figsize = (5, 5))\n",
    "fig.subplots_adjust(hspace = 0.05, wspace = 0.05, left = 0, right = 1, top = 1, bottom = 0)\n",
    "max_count = sampler.data[:docs_to_display, :].max()\n",
    "for i in range(sq):\n",
    "    for j in range(sq):\n",
    "        n = i * sq + j\n",
    "        if n < docs_to_display:\n",
    "            X = sampler.data[n, :].toarray().reshape(sampler.dimension, sampler.dimension)\n",
    "            ax[i, j].imshow(X, vmin = 0, vmax = max_count)\n",
    "        ax[i, j].axis('off')"
   ]
  },
  {
   "cell_type": "code",
   "execution_count": 43,
   "metadata": {},
   "outputs": [
    {
     "data": {
      "image/png": "[encoded data removed]",
      "text/plain": [
       "<Figure size 432x288 with 1 Axes>"
      ]
     },
     "metadata": {},
     "output_type": "display_data"
    }
   ],
   "source": [
    "plt.imshow(sampler.topics);"
   ]
  },
  {
   "cell_type": "code",
   "execution_count": 44,
   "metadata": {},
   "outputs": [],
   "source": [
    "# %%time\n",
    "# lda = LdaModel(\n",
    "#     corpus=sampler.gensim_corpus,\n",
    "#     num_topics=sampler.num_topics,\n",
    "#     passes=20)"
   ]
  },
  {
   "cell_type": "code",
   "execution_count": 45,
   "metadata": {},
   "outputs": [],
   "source": [
    "# topics = lda.get_topics()"
   ]
  },
  {
   "cell_type": "code",
   "execution_count": 46,
   "metadata": {},
   "outputs": [],
   "source": [
    "# plt.imshow(topics);"
   ]
  },
  {
   "cell_type": "code",
   "execution_count": 47,
   "metadata": {},
   "outputs": [],
   "source": [
    "np.random.seed(1)"
   ]
  },
  {
   "cell_type": "code",
   "execution_count": 48,
   "metadata": {},
   "outputs": [
    {
     "data": {
      "application/vnd.jupyter.widget-view+json": {
       "model_id": "5df8afbad41c4954bad9d6ce57698a04",
       "version_major": 2,
       "version_minor": 0
      },
      "text/plain": [
       "HBox(children=(IntProgress(value=0, description='Initializing', max=1000), HTML(value='')))"
      ]
     },
     "metadata": {},
     "output_type": "display_data"
    },
    {
     "name": "stdout",
     "output_type": "stream",
     "text": [
      "\n"
     ]
    },
    {
     "data": {
      "application/vnd.jupyter.widget-view+json": {
       "model_id": "d3386a18338f401c9330c8af2cc0022d",
       "version_major": 2,
       "version_minor": 0
      },
      "text/plain": [
       "HBox(children=(IntProgress(value=0, description='Training', max=30), HTML(value='')))"
      ]
     },
     "metadata": {},
     "output_type": "display_data"
    },
    {
     "name": "stdout",
     "output_type": "stream",
     "text": [
      "\n"
     ]
    },
    {
     "data": {
      "text/plain": [
       "20"
      ]
     },
     "execution_count": 48,
     "metadata": {},
     "output_type": "execute_result"
    }
   ],
   "source": [
    "result = CollapsedGibbs()\n",
    "result.fit(\n",
    "    corpus = sampler.gensim_corpus,\n",
    "    num_topics = sampler.num_topics,\n",
    "    vocab_size = sampler.vocab_size,\n",
    "    num_samples = 20,\n",
    "    lag = 1,\n",
    "    burn_in = 10)\n",
    "len(result.samples)"
   ]
  },
  {
   "cell_type": "code",
   "execution_count": 49,
   "metadata": {},
   "outputs": [],
   "source": [
    "T = result.topics_by_sample()"
   ]
  },
  {
   "cell_type": "code",
   "execution_count": 50,
   "metadata": {},
   "outputs": [
    {
     "data": {
      "image/png": "[encoded data removed]",
      "text/plain": [
       "<Figure size 432x288 with 20 Axes>"
      ]
     },
     "metadata": {},
     "output_type": "display_data"
    }
   ],
   "source": [
    "nr, nc = 5, 4\n",
    "fig, ax = plt.subplots(nr, nc)\n",
    "for i in range(min(len(result.samples), nr * nc)):\n",
    "    ax[i // nc, i % nc].imshow(T[i])\n",
    "    ax[i // nc, i % nc].set_title(\"T[{}]\".format(i))\n",
    "None"
   ]
  },
  {
   "cell_type": "code",
   "execution_count": 51,
   "metadata": {},
   "outputs": [
    {
     "data": {
      "image/png": "[encoded data removed]",
      "text/plain": [
       "<Figure size 432x288 with 1 Axes>"
      ]
     },
     "metadata": {},
     "output_type": "display_data"
    }
   ],
   "source": [
    "plt.imshow(T[-1]);"
   ]
  },
  {
   "cell_type": "code",
   "execution_count": 52,
   "metadata": {},
   "outputs": [
    {
     "name": "stdout",
     "output_type": "stream",
     "text": [
      "CPU times: user 297 ms, sys: 6.16 ms, total: 303 ms\n",
      "Wall time: 314 ms\n"
     ]
    }
   ],
   "source": [
    "%%time\n",
    "cooccur_by_sample = result.cooccurrence_by_sample()"
   ]
  },
  {
   "cell_type": "code",
   "execution_count": 53,
   "metadata": {},
   "outputs": [
    {
     "data": {
      "image/png": "[encoded data removed]",
      "text/plain": [
       "<Figure size 432x288 with 20 Axes>"
      ]
     },
     "metadata": {},
     "output_type": "display_data"
    }
   ],
   "source": [
    "nr, nc = 5, 4\n",
    "fig, ax = plt.subplots(nr, nc)\n",
    "for i in range(min(len(result.samples), nr * nc)):\n",
    "    ax[i // nc, i % nc].imshow(cooccur_by_sample[i], vmin=0)\n",
    "    ax[i // nc, i % nc].set_title(\"c[{}]\".format(i))\n",
    "None"
   ]
  },
  {
   "cell_type": "code",
   "execution_count": 54,
   "metadata": {},
   "outputs": [],
   "source": [
    "from sim_data import topics_griffiths_steyvers"
   ]
  },
  {
   "cell_type": "code",
   "execution_count": 55,
   "metadata": {},
   "outputs": [
    {
     "data": {
      "image/png": "[encoded data removed]",
      "text/plain": [
       "<Figure size 432x288 with 1 Axes>"
      ]
     },
     "metadata": {},
     "output_type": "display_data"
    }
   ],
   "source": [
    "plt.imshow(topics_griffiths_steyvers(10));"
   ]
  },
  {
   "cell_type": "markdown",
   "metadata": {},
   "source": [
    "### Try combining G.S. topics with tree-based model"
   ]
  },
  {
   "cell_type": "code",
   "execution_count": 56,
   "metadata": {},
   "outputs": [],
   "source": [
    "import networkx as nx"
   ]
  },
  {
   "cell_type": "code",
   "execution_count": 57,
   "metadata": {},
   "outputs": [],
   "source": [
    "from example_graphs import make_tree\n",
    "from utils import nice_tree_plot, without_diag\n",
    "from sim_data import HPAM2Sampler, get_alpha, topics_griffiths_steyvers\n",
    "from functools import partial"
   ]
  },
  {
   "cell_type": "code",
   "execution_count": 58,
   "metadata": {},
   "outputs": [
    {
     "data": {
      "image/png": "[encoded data removed]",
      "text/plain": [
       "<Figure size 432x288 with 1 Axes>"
      ]
     },
     "metadata": {},
     "output_type": "display_data"
    }
   ],
   "source": [
    "tree = make_tree([3,3])\n",
    "nice_tree_plot(tree)"
   ]
  },
  {
   "cell_type": "code",
   "execution_count": 59,
   "metadata": {},
   "outputs": [],
   "source": [
    "exact_topics = topics_griffiths_steyvers(tree.number_of_nodes())"
   ]
  },
  {
   "cell_type": "code",
   "execution_count": 60,
   "metadata": {},
   "outputs": [
    {
     "data": {
      "image/png": "[encoded data removed]",
      "text/plain": [
       "<Figure size 432x288 with 1 Axes>"
      ]
     },
     "metadata": {},
     "output_type": "display_data"
    }
   ],
   "source": [
    "plt.imshow(exact_topics);"
   ]
  },
  {
   "cell_type": "code",
   "execution_count": 61,
   "metadata": {},
   "outputs": [],
   "source": [
    "topic_func = lambda n: exact_topics[n, :]"
   ]
  },
  {
   "cell_type": "code",
   "execution_count": 104,
   "metadata": {},
   "outputs": [],
   "source": [
    "np.random.seed(1)"
   ]
  },
  {
   "cell_type": "code",
   "execution_count": 105,
   "metadata": {},
   "outputs": [],
   "source": [
    "h_sampler = HPAM2Sampler(\n",
    "    tree,\n",
    "    num_docs = 10000,\n",
    "    words_per_doc = 1000,\n",
    "    vocab_size = exact_topics.shape[1],\n",
    "    topic_dirichlet = None,\n",
    "    topic_func = topic_func,\n",
    "    alpha_func = partial(get_alpha, scale=0.1)\n",
    ")"
   ]
  },
  {
   "cell_type": "code",
   "execution_count": 106,
   "metadata": {},
   "outputs": [
    {
     "name": "stderr",
     "output_type": "stream",
     "text": [
      "100%|██████████| 10000/10000 [16:39<00:00, 10.01it/s]\n"
     ]
    }
   ],
   "source": [
    "h_sampler.sample();"
   ]
  },
  {
   "cell_type": "code",
   "execution_count": 107,
   "metadata": {},
   "outputs": [
    {
     "data": {
      "text/plain": [
       "10000"
      ]
     },
     "execution_count": 107,
     "metadata": {},
     "output_type": "execute_result"
    }
   ],
   "source": [
    "tree_corpus = []\n",
    "for doc in h_sampler.docs:\n",
    "    ctr = Counter(doc)\n",
    "    doc_short = [(k, v) for k, v in ctr.items()]\n",
    "    tree_corpus.append(doc_short)\n",
    "len(tree_corpus)"
   ]
  },
  {
   "cell_type": "code",
   "execution_count": 113,
   "metadata": {},
   "outputs": [],
   "source": [
    "np.random.seed(3)\n",
    "# NOTE: quality of results seem to have a lot of variance (to see this, try changing the random seed)"
   ]
  },
  {
   "cell_type": "code",
   "execution_count": 114,
   "metadata": {},
   "outputs": [],
   "source": [
    "#custom_alpha = 1.3 ** np.arange(h_sampler.g.number_of_nodes())[::-1]\n",
    "\n",
    "#custom_alpha = np.ones(h_sampler.g.number_of_nodes())\n",
    "#custom_alpha[0] = 9\n",
    "#custom_alpha[[1,2,3]] = 3"
   ]
  },
  {
   "cell_type": "code",
   "execution_count": 115,
   "metadata": {},
   "outputs": [],
   "source": [
    "#plt.bar(np.arange(len(custom_alpha)), custom_alpha);"
   ]
  },
  {
   "cell_type": "code",
   "execution_count": 116,
   "metadata": {
    "scrolled": true
   },
   "outputs": [
    {
     "data": {
      "application/vnd.jupyter.widget-view+json": {
       "model_id": "8ad7c0cb93f1462ebc67d14692f02551",
       "version_major": 2,
       "version_minor": 0
      },
      "text/plain": [
       "HBox(children=(IntProgress(value=0, description='Initializing', max=10000), HTML(value='')))"
      ]
     },
     "metadata": {},
     "output_type": "display_data"
    },
    {
     "data": {
      "application/vnd.jupyter.widget-view+json": {
       "model_id": "4f953f8779ff416eaeecc5f6de3893c5",
       "version_major": 2,
       "version_minor": 0
      },
      "text/plain": [
       "HBox(children=(IntProgress(value=0, description='Training', max=6), HTML(value='')))"
      ]
     },
     "metadata": {},
     "output_type": "display_data"
    },
    {
     "data": {
      "application/vnd.jupyter.widget-view+json": {
       "model_id": "",
       "version_major": 2,
       "version_minor": 0
      },
      "text/plain": [
       "HBox(children=(IntProgress(value=0, description='Current iteration', max=10000), HTML(value='')))"
      ]
     },
     "metadata": {},
     "output_type": "display_data"
    },
    {
     "data": {
      "application/vnd.jupyter.widget-view+json": {
       "model_id": "",
       "version_major": 2,
       "version_minor": 0
      },
      "text/plain": [
       "HBox(children=(IntProgress(value=0, description='Current iteration', max=10000), HTML(value='')))"
      ]
     },
     "metadata": {},
     "output_type": "display_data"
    },
    {
     "data": {
      "application/vnd.jupyter.widget-view+json": {
       "model_id": "",
       "version_major": 2,
       "version_minor": 0
      },
      "text/plain": [
       "HBox(children=(IntProgress(value=0, description='Current iteration', max=10000), HTML(value='')))"
      ]
     },
     "metadata": {},
     "output_type": "display_data"
    },
    {
     "data": {
      "application/vnd.jupyter.widget-view+json": {
       "model_id": "",
       "version_major": 2,
       "version_minor": 0
      },
      "text/plain": [
       "HBox(children=(IntProgress(value=0, description='Current iteration', max=10000), HTML(value='')))"
      ]
     },
     "metadata": {},
     "output_type": "display_data"
    },
    {
     "data": {
      "application/vnd.jupyter.widget-view+json": {
       "model_id": "",
       "version_major": 2,
       "version_minor": 0
      },
      "text/plain": [
       "HBox(children=(IntProgress(value=0, description='Current iteration', max=10000), HTML(value='')))"
      ]
     },
     "metadata": {},
     "output_type": "display_data"
    },
    {
     "data": {
      "application/vnd.jupyter.widget-view+json": {
       "model_id": "",
       "version_major": 2,
       "version_minor": 0
      },
      "text/plain": [
       "HBox(children=(IntProgress(value=0, description='Current iteration', max=10000), HTML(value='')))"
      ]
     },
     "metadata": {},
     "output_type": "display_data"
    },
    {
     "data": {
      "text/plain": [
       "3"
      ]
     },
     "execution_count": 116,
     "metadata": {},
     "output_type": "execute_result"
    }
   ],
   "source": [
    "result = CollapsedGibbs()\n",
    "result.fit(\n",
    "    corpus = tree_corpus,\n",
    "    num_topics = h_sampler.g.number_of_nodes(),\n",
    "    vocab_size = h_sampler.vocab_size,\n",
    "    #alpha = custom_alpha,\n",
    "    num_samples = 3,\n",
    "    lag = 1,\n",
    "    burn_in = 3,\n",
    "    update_alpha_every = 1)\n",
    "len(result.samples)"
   ]
  },
  {
   "cell_type": "code",
   "execution_count": 117,
   "metadata": {},
   "outputs": [],
   "source": [
    "T = result.topics_by_sample()"
   ]
  },
  {
   "cell_type": "code",
   "execution_count": 118,
   "metadata": {
    "scrolled": false
   },
   "outputs": [
    {
     "data": {
      "image/png": "[encoded data removed]",
      "text/plain": [
       "<Figure size 432x288 with 20 Axes>"
      ]
     },
     "metadata": {},
     "output_type": "display_data"
    }
   ],
   "source": [
    "nr, nc = 5, 4\n",
    "fig, ax = plt.subplots(nr, nc)\n",
    "for i in range(min(len(result.samples), nr * nc)):\n",
    "    ax[i // nc, i % nc].imshow(T[i])\n",
    "    ax[i // nc, i % nc].set_title(\"T[{}]\".format(i))\n",
    "None"
   ]
  },
  {
   "cell_type": "code",
   "execution_count": 119,
   "metadata": {},
   "outputs": [
    {
     "data": {
      "image/png": "[encoded data removed]",
      "text/plain": [
       "<Figure size 432x288 with 1 Axes>"
      ]
     },
     "metadata": {},
     "output_type": "display_data"
    }
   ],
   "source": [
    "plt.imshow(T[-1]);"
   ]
  },
  {
   "cell_type": "code",
   "execution_count": 120,
   "metadata": {},
   "outputs": [
    {
     "name": "stdout",
     "output_type": "stream",
     "text": [
      "CPU times: user 442 ms, sys: 3.36 ms, total: 446 ms\n",
      "Wall time: 445 ms\n"
     ]
    }
   ],
   "source": [
    "%%time\n",
    "cooccur_by_sample = result.cooccurrence_by_sample()"
   ]
  },
  {
   "cell_type": "code",
   "execution_count": 121,
   "metadata": {},
   "outputs": [
    {
     "data": {
      "image/png": "[encoded data removed]",
      "text/plain": [
       "<Figure size 720x720 with 20 Axes>"
      ]
     },
     "metadata": {},
     "output_type": "display_data"
    }
   ],
   "source": [
    "nr, nc = 5, 4\n",
    "fig, ax = plt.subplots(nr, nc, figsize=(10,10))\n",
    "for i in range(min(len(result.samples), nr * nc)):\n",
    "    ax[i // nc, i % nc].imshow(without_diag(cooccur_by_sample[i]), vmin=0)\n",
    "    ax[i // nc, i % nc].set_title(\"c[{}]\".format(i))\n",
    "None"
   ]
  },
  {
   "cell_type": "code",
   "execution_count": 122,
   "metadata": {},
   "outputs": [
    {
     "data": {
      "image/png": "[encoded data removed]",
      "text/plain": [
       "<Figure size 432x288 with 1 Axes>"
      ]
     },
     "metadata": {},
     "output_type": "display_data"
    }
   ],
   "source": [
    "plt.imshow(without_diag(cooccur_by_sample[-1]), vmin=0);"
   ]
  },
  {
   "cell_type": "code",
   "execution_count": 123,
   "metadata": {},
   "outputs": [
    {
     "data": {
      "image/png": "[encoded data removed]",
      "text/plain": [
       "<Figure size 432x288 with 1 Axes>"
      ]
     },
     "metadata": {},
     "output_type": "display_data"
    }
   ],
   "source": [
    "fig, ax = plt.subplots()\n",
    "ax.bar(np.arange(result.alpha.shape[0]), result.alpha)\n",
    "ax.set_title(\"$\\\\alpha$ estimated via LDA\")\n",
    "None"
   ]
  },
  {
   "cell_type": "code",
   "execution_count": 124,
   "metadata": {},
   "outputs": [],
   "source": [
    "from utils import permute_square, invert_permutation"
   ]
  },
  {
   "cell_type": "code",
   "execution_count": 125,
   "metadata": {},
   "outputs": [],
   "source": [
    "from tree_extraction import Aho"
   ]
  },
  {
   "cell_type": "code",
   "execution_count": 126,
   "metadata": {},
   "outputs": [
    {
     "data": {
      "text/plain": [
       "(array([111,  97, 101,  93, 104,  99, 103,  95,  97, 100]),\n",
       " array([ 0,  1,  2,  3,  4,  5,  6,  7,  8,  9, 10]))"
      ]
     },
     "execution_count": 126,
     "metadata": {},
     "output_type": "execute_result"
    }
   ],
   "source": [
    "np.histogram(np.random.choice(10, 1000), bins = np.arange(10+1))"
   ]
  },
  {
   "cell_type": "code",
   "execution_count": 127,
   "metadata": {},
   "outputs": [],
   "source": [
    "from compute_pam import compute_combo_tensor"
   ]
  },
  {
   "cell_type": "code",
   "execution_count": 128,
   "metadata": {},
   "outputs": [
    {
     "data": {
      "image/png": "[encoded data removed]",
      "text/plain": [
       "<Figure size 432x288 with 2 Axes>"
      ]
     },
     "metadata": {},
     "output_type": "display_data"
    }
   ],
   "source": [
    "# True cooccurrence and ratio matrix\n",
    "cooccur_true = compute_combo_tensor(g = h_sampler.g, alpha_func = partial(get_alpha, scale=0.1))\n",
    "\n",
    "plt.imshow(without_diag(Aho.get_ratio_matrix(cooccur_true)));\n",
    "plt.colorbar();"
   ]
  },
  {
   "cell_type": "code",
   "execution_count": 129,
   "metadata": {},
   "outputs": [
    {
     "data": {
      "image/png": "[encoded data removed]",
      "text/plain": [
       "<Figure size 432x288 with 2 Axes>"
      ]
     },
     "metadata": {},
     "output_type": "display_data"
    }
   ],
   "source": [
    "# Empirical cooccurrence and ratio matrix\n",
    "cooccur_empirical = np.zeros(cooccur_by_sample[-1].shape)\n",
    "for nodes in h_sampler.doc_nodes:\n",
    "    p = np.histogram(nodes, bins = np.arange(1 + h_sampler.g.number_of_nodes()))[0]\n",
    "    p = p.astype('float') / p.sum()\n",
    "    cooccur_empirical += np.outer(p, p)\n",
    "cooccur_empirical /= cooccur_empirical.sum()\n",
    "\n",
    "plt.imshow(without_diag(Aho.get_ratio_matrix(cooccur_empirical)));\n",
    "plt.colorbar();"
   ]
  },
  {
   "cell_type": "code",
   "execution_count": 130,
   "metadata": {},
   "outputs": [
    {
     "data": {
      "image/png": "[encoded data removed]",
      "text/plain": [
       "<Figure size 432x288 with 1 Axes>"
      ]
     },
     "metadata": {},
     "output_type": "display_data"
    }
   ],
   "source": [
    "perm = [0, 1, 2, 3, 5, 9, 11, 6, 8, 12, 4, 7, 10]\n",
    "plt.imshow(permute_square(without_diag(cooccur_by_sample[-1]), perm));"
   ]
  },
  {
   "cell_type": "code",
   "execution_count": 131,
   "metadata": {},
   "outputs": [
    {
     "data": {
      "image/png": "[encoded data removed]",
      "text/plain": [
       "<Figure size 432x288 with 2 Axes>"
      ]
     },
     "metadata": {},
     "output_type": "display_data"
    }
   ],
   "source": [
    "plt.imshow(permute_square(without_diag(Aho.get_ratio_matrix(cooccur_by_sample[-1])), perm));\n",
    "plt.colorbar();"
   ]
  },
  {
   "cell_type": "code",
   "execution_count": 132,
   "metadata": {},
   "outputs": [
    {
     "data": {
      "text/plain": [
       "0.0"
      ]
     },
     "execution_count": 132,
     "metadata": {},
     "output_type": "execute_result"
    }
   ],
   "source": [
    "np.max(np.abs(cooccur_by_sample[-1] - cooccur_by_sample[-1].T))"
   ]
  },
  {
   "cell_type": "code",
   "execution_count": 133,
   "metadata": {},
   "outputs": [
    {
     "data": {
      "image/png": "[encoded data removed]",
      "text/plain": [
       "<Figure size 1152x576 with 8 Axes>"
      ]
     },
     "metadata": {},
     "output_type": "display_data"
    }
   ],
   "source": [
    "cooccur_all = [\n",
    "    (\"true\", cooccur_true),\n",
    "    (\"empirical\", cooccur_empirical),\n",
    "    (\"estimated_lda\", permute_square(cooccur_by_sample[-1], perm=perm)),\n",
    "]\n",
    "\n",
    "ratio_all = [(name, Aho.get_ratio_matrix(m)) for name, m in cooccur_all]\n",
    "\n",
    "max_cooccur = np.max([np.max(without_diag(m)) for name, m in cooccur_all])\n",
    "max_ratio = np.max([np.max(without_diag(m)) for name, m in ratio_all])\n",
    "\n",
    "fig, ax = plt.subplots(2, len(cooccur_all), figsize=(16, 8))\n",
    "for i, (name, m) in enumerate(cooccur_all):\n",
    "    ax[0, i].imshow(without_diag(m), vmin=0, vmax=max_cooccur)\n",
    "    ax[0, i].set_title(\"Co-occurrence ({})\".format(name))\n",
    "    ax[0, i].axis('off')\n",
    "    ax[1, i].imshow(without_diag(ratio_all[i][1]), vmin=0, vmax=max_ratio)\n",
    "    ax[1, i].set_title(\"Ratio ({})\".format(name))\n",
    "    ax[1, i].axis('off')\n",
    "\n",
    "fig.colorbar(ax[0, 0].get_images()[0], ax = [ax[0, i] for i in range(len(cooccur_all))]);\n",
    "fig.colorbar(ax[1, 0].get_images()[0], ax = [ax[1, i] for i in range(len(cooccur_all))]);"
   ]
  },
  {
   "cell_type": "code",
   "execution_count": 134,
   "metadata": {},
   "outputs": [
    {
     "data": {
      "image/png": "[encoded data removed]",
      "text/plain": [
       "<Figure size 864x360 with 3 Axes>"
      ]
     },
     "metadata": {},
     "output_type": "display_data"
    }
   ],
   "source": [
    "fig, ax = plt.subplots(1, 3, figsize=(12, 5))\n",
    "ax[0].bar(np.arange(cooccur_true.shape[0]), cooccur_true.sum(axis=0))\n",
    "ax[0].set_xlabel(\"Topic index\")\n",
    "ax[0].set_title(\"True\")\n",
    "ax[1].bar(np.arange(cooccur_true.shape[0]), cooccur_empirical.sum(axis=0))\n",
    "ax[1].set_xlabel(\"Topic index\")\n",
    "ax[1].set_title(\"Empirical\")\n",
    "ax[2].bar(np.arange(cooccur_true.shape[0]), cooccur_by_sample[-1].sum(axis=0));\n",
    "ax[2].set_xlabel(\"Topic index\")\n",
    "ax[2].set_title(\"LDA Estimated\")\n",
    "fig.suptitle(\"Topic prevalence\")\n",
    "None"
   ]
  },
  {
   "cell_type": "code",
   "execution_count": 135,
   "metadata": {},
   "outputs": [
    {
     "data": {
      "text/plain": [
       "4.0"
      ]
     },
     "execution_count": 135,
     "metadata": {},
     "output_type": "execute_result"
    }
   ],
   "source": [
    "true_prevalence = cooccur_true.sum(axis=0)\n",
    "true_prevalence[0] / true_prevalence[1]"
   ]
  },
  {
   "cell_type": "code",
   "execution_count": 136,
   "metadata": {},
   "outputs": [],
   "source": [
    "tree_extracted = Aho.extract(cooccur_by_sample[-1])"
   ]
  },
  {
   "cell_type": "code",
   "execution_count": 137,
   "metadata": {},
   "outputs": [
    {
     "data": {
      "image/png": "[encoded data removed]",
      "text/plain": [
       "<Figure size 432x288 with 1 Axes>"
      ]
     },
     "metadata": {},
     "output_type": "display_data"
    }
   ],
   "source": [
    "nice_tree_plot(tree_extracted)"
   ]
  },
  {
   "cell_type": "code",
   "execution_count": 138,
   "metadata": {},
   "outputs": [
    {
     "data": {
      "text/plain": [
       "(0.018379683100000065, (6, 7))"
      ]
     },
     "execution_count": 138,
     "metadata": {},
     "output_type": "execute_result"
    }
   ],
   "source": [
    "r = without_diag(cooccur_by_sample[-1])\n",
    "imax = np.argmax(r)\n",
    "coordmax = np.unravel_index(imax, r.shape)\n",
    "rmax = r[coordmax]\n",
    "rmax, coordmax"
   ]
  },
  {
   "cell_type": "code",
   "execution_count": 139,
   "metadata": {},
   "outputs": [],
   "source": [
    "def diagnose_separation(cooccur, A, B, C, threshold = 0.0):\n",
    "    ratio_matrix = Aho.get_ratio_matrix(cooccur)\n",
    "    result = []\n",
    "    for a in A:\n",
    "        for b in B:\n",
    "            if a == b:\n",
    "                continue\n",
    "            for c in C:\n",
    "                if a == c or b == c:\n",
    "                    continue\n",
    "                strength = ratio_matrix[a, b] - max(ratio_matrix[a, c], ratio_matrix[b, c])\n",
    "                if strength > 0:\n",
    "                    result.append((a, b, c, strength))\n",
    "    return sorted(result, key=lambda x: -x[3])"
   ]
  },
  {
   "cell_type": "code",
   "execution_count": 140,
   "metadata": {},
   "outputs": [
    {
     "data": {
      "text/plain": [
       "[(1, 8, 4, 0.4314249985112364),\n",
       " (5, 8, 3, 0.4079040092003925),\n",
       " (1, 8, 7, 0.3966977308176256),\n",
       " (1, 8, 3, 0.3938561582983676),\n",
       " (5, 8, 4, 0.38884716548142767),\n",
       " (5, 8, 7, 0.36479062031095444),\n",
       " (9, 12, 4, 0.09017322610323458),\n",
       " (5, 2, 4, 0.08219196491781128),\n",
       " (9, 12, 7, 0.06707636558728952),\n",
       " (5, 2, 7, 0.06405012569218932),\n",
       " (1, 8, 10, 0.05911255133998494),\n",
       " (5, 12, 3, 0.049827658673498865),\n",
       " (5, 6, 3, 0.037411581345880796),\n",
       " (1, 12, 3, 0.03645877901209138),\n",
       " (5, 2, 3, 0.03406777665494559),\n",
       " (1, 12, 4, 0.031692143773062564),\n",
       " (11, 8, 4, 0.029981423682300223),\n",
       " (5, 8, 10, 0.027205440833313776),\n",
       " (11, 12, 4, 0.022129850617220725),\n",
       " (9, 8, 4, 0.016839514568520564),\n",
       " (11, 8, 7, 0.015975382431819507),\n",
       " (5, 12, 4, 0.014085490246025845),\n",
       " (11, 2, 7, 0.013659387342949747),\n",
       " (1, 12, 7, 0.008595283257117503)]"
      ]
     },
     "execution_count": 140,
     "metadata": {},
     "output_type": "execute_result"
    }
   ],
   "source": [
    "diagnose_separation(cooccur_by_sample[-1], [1,5,9,11], [2,6,8,12], [3,4,7,10])"
   ]
  },
  {
   "cell_type": "code",
   "execution_count": 141,
   "metadata": {},
   "outputs": [],
   "source": [
    "import matplotlib as mpl"
   ]
  },
  {
   "cell_type": "code",
   "execution_count": 142,
   "metadata": {},
   "outputs": [],
   "source": [
    "def highlight_triplet(M, i, j, k, override_title = True, ax = None, **kwargs):\n",
    "    if ax is None:\n",
    "        fig, ax = plt.subplots()\n",
    "    ax.imshow(M, **kwargs)\n",
    "    results = []\n",
    "    for i1, i2 in [(i, j), (j, k), (i, k)]:\n",
    "        a = min(i1, i2)\n",
    "        b = max(i1, i2)\n",
    "        results.append((a, b, M[a, b]))\n",
    "    results = sorted(results, key = lambda x: x[-1])\n",
    "    for r_index, (i1, i2, Mval) in enumerate(results):\n",
    "        color = 'red' if r_index == len(results) - 1 else 'white'\n",
    "        ax.add_patch(mpl.patches.Rectangle(xy = (i1-0.5, i2-0.5),\n",
    "            width = 1, height = 1, fill = False, edgecolor = color))\n",
    "    if override_title:\n",
    "        title = \"Among [{}, {}, {}], max entry at ({}, {})\".format(i, j, k, results[-1][0], results[-1][1])\n",
    "        ax.set_title(title)"
   ]
  },
  {
   "cell_type": "code",
   "execution_count": 143,
   "metadata": {},
   "outputs": [
    {
     "data": {
      "image/png": "[encoded data removed]",
      "text/plain": [
       "<Figure size 432x288 with 1 Axes>"
      ]
     },
     "metadata": {},
     "output_type": "display_data"
    },
    {
     "data": {
      "image/png": "[encoded data removed]",
      "text/plain": [
       "<Figure size 432x288 with 1 Axes>"
      ]
     },
     "metadata": {},
     "output_type": "display_data"
    }
   ],
   "source": [
    "highlight_triplet(without_diag(Aho.get_ratio_matrix(cooccur_by_sample[-1])), 2, 6, 0)\n",
    "highlight_triplet(without_diag(Aho.get_ratio_matrix(cooccur_by_sample[-1])), 2, 1, 0)"
   ]
  },
  {
   "cell_type": "markdown",
   "metadata": {},
   "source": [
    "## Quick way to reload without rerunning everything"
   ]
  },
  {
   "cell_type": "code",
   "execution_count": 96,
   "metadata": {},
   "outputs": [],
   "source": [
    "from importlib import reload\n",
    "import sim_data\n",
    "reload(sim_data)\n",
    "del sim_data"
   ]
  },
  {
   "cell_type": "code",
   "execution_count": null,
   "metadata": {},
   "outputs": [],
   "source": []
  }
 ],
 "metadata": {
  "kernelspec": {
   "display_name": "Python 3",
   "language": "python",
   "name": "python3"
  },
  "language_info": {
   "codemirror_mode": {
    "name": "ipython",
    "version": 3
   },
   "file_extension": ".py",
   "mimetype": "text/x-python",
   "name": "python",
   "nbconvert_exporter": "python",
   "pygments_lexer": "ipython3",
   "version": "3.6.5"
  }
 },
 "nbformat": 4,
 "nbformat_minor": 2
}
