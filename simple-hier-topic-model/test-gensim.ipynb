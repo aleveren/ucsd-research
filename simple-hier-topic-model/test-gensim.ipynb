{
 "cells": [
  {
   "cell_type": "code",
   "execution_count": 1,
   "metadata": {},
   "outputs": [],
   "source": [
    "import numpy as np\n",
    "import matplotlib.pyplot as plt\n",
    "from gensim.test.utils import common_corpus, common_dictionary, common_texts\n",
    "from gensim.models import LdaModel\n",
    "from collections import Counter, defaultdict"
   ]
  },
  {
   "cell_type": "code",
   "execution_count": 2,
   "metadata": {},
   "outputs": [],
   "source": [
    "np.random.seed(1)"
   ]
  },
  {
   "cell_type": "code",
   "execution_count": 3,
   "metadata": {},
   "outputs": [
    {
     "data": {
      "text/plain": [
       "[[(0, 1), (1, 1), (2, 1)],\n",
       " [(0, 1), (3, 1), (4, 1), (5, 1), (6, 1), (7, 1)],\n",
       " [(2, 1), (5, 1), (7, 1), (8, 1)],\n",
       " [(1, 1), (5, 2), (8, 1)],\n",
       " [(3, 1), (6, 1), (7, 1)],\n",
       " [(9, 1)],\n",
       " [(9, 1), (10, 1)],\n",
       " [(9, 1), (10, 1), (11, 1)],\n",
       " [(4, 1), (10, 1), (11, 1)]]"
      ]
     },
     "execution_count": 3,
     "metadata": {},
     "output_type": "execute_result"
    }
   ],
   "source": [
    "common_corpus"
   ]
  },
  {
   "cell_type": "code",
   "execution_count": 4,
   "metadata": {},
   "outputs": [
    {
     "data": {
      "text/plain": [
       "[['human', 'interface', 'computer'],\n",
       " ['survey', 'user', 'computer', 'system', 'response', 'time'],\n",
       " ['eps', 'user', 'interface', 'system'],\n",
       " ['system', 'human', 'system', 'eps'],\n",
       " ['user', 'response', 'time'],\n",
       " ['trees'],\n",
       " ['graph', 'trees'],\n",
       " ['graph', 'minors', 'trees'],\n",
       " ['graph', 'minors', 'survey']]"
      ]
     },
     "execution_count": 4,
     "metadata": {},
     "output_type": "execute_result"
    }
   ],
   "source": [
    "common_texts"
   ]
  },
  {
   "cell_type": "code",
   "execution_count": 5,
   "metadata": {},
   "outputs": [
    {
     "data": {
      "text/plain": [
       "{0: 'computer',\n",
       " 1: 'human',\n",
       " 2: 'interface',\n",
       " 3: 'response',\n",
       " 4: 'survey',\n",
       " 5: 'system',\n",
       " 6: 'time',\n",
       " 7: 'user',\n",
       " 8: 'eps',\n",
       " 9: 'trees',\n",
       " 10: 'graph',\n",
       " 11: 'minors'}"
      ]
     },
     "execution_count": 5,
     "metadata": {},
     "output_type": "execute_result"
    }
   ],
   "source": [
    "dict(common_dictionary)"
   ]
  },
  {
   "cell_type": "code",
   "execution_count": 6,
   "metadata": {},
   "outputs": [],
   "source": [
    "lda = LdaModel(corpus=common_corpus, num_topics=3, id2word=common_dictionary)"
   ]
  },
  {
   "cell_type": "code",
   "execution_count": 7,
   "metadata": {},
   "outputs": [
    {
     "data": {
      "text/plain": [
       "array([[0.09991315, 0.03180536, 0.03219635, 0.08912607, 0.17471717,\n",
       "        0.09523831, 0.09889168, 0.08675566, 0.03297976, 0.03802519,\n",
       "        0.11181334, 0.10853791],\n",
       "       [0.11099348, 0.19903353, 0.11578164, 0.03308505, 0.03267179,\n",
       "        0.20439455, 0.03299609, 0.03511733, 0.11463977, 0.04719991,\n",
       "        0.03913659, 0.03495036],\n",
       "       [0.03130063, 0.02087262, 0.07347195, 0.08797028, 0.03108724,\n",
       "        0.0874393 , 0.08150668, 0.1444235 , 0.07367393, 0.16928692,\n",
       "        0.12514158, 0.07382545]], dtype=float32)"
      ]
     },
     "execution_count": 7,
     "metadata": {},
     "output_type": "execute_result"
    }
   ],
   "source": [
    "lda.get_topics()"
   ]
  },
  {
   "cell_type": "code",
   "execution_count": 8,
   "metadata": {},
   "outputs": [],
   "source": [
    "topic_names = [lda.id2word[i] for i in range(len(lda.id2word))]"
   ]
  },
  {
   "cell_type": "code",
   "execution_count": 9,
   "metadata": {},
   "outputs": [
    {
     "data": {
      "image/png": "[encoded data removed]",
      "text/plain": [
       "<Figure size 432x288 with 1 Axes>"
      ]
     },
     "metadata": {},
     "output_type": "display_data"
    }
   ],
   "source": [
    "fig, ax = plt.subplots()\n",
    "ax.imshow(lda.get_topics())\n",
    "ax.set_xticks(np.arange(len(lda.id2word)))\n",
    "ax.set_xticklabels(topic_names, rotation = 'vertical')\n",
    "None"
   ]
  },
  {
   "cell_type": "code",
   "execution_count": 10,
   "metadata": {},
   "outputs": [
    {
     "data": {
      "text/plain": [
       "array([1.       , 1.       , 1.0000001], dtype=float32)"
      ]
     },
     "execution_count": 10,
     "metadata": {},
     "output_type": "execute_result"
    }
   ],
   "source": [
    "lda.get_topics().sum(axis=1)"
   ]
  },
  {
   "cell_type": "code",
   "execution_count": 11,
   "metadata": {},
   "outputs": [
    {
     "data": {
      "text/plain": [
       "[(0,\n",
       "  '0.175*\"survey\" + 0.112*\"graph\" + 0.109*\"minors\" + 0.100*\"computer\" + 0.099*\"time\" + 0.095*\"system\" + 0.089*\"response\" + 0.087*\"user\" + 0.038*\"trees\" + 0.033*\"eps\"'),\n",
       " (1,\n",
       "  '0.204*\"system\" + 0.199*\"human\" + 0.116*\"interface\" + 0.115*\"eps\" + 0.111*\"computer\" + 0.047*\"trees\" + 0.039*\"graph\" + 0.035*\"user\" + 0.035*\"minors\" + 0.033*\"response\"'),\n",
       " (2,\n",
       "  '0.169*\"trees\" + 0.144*\"user\" + 0.125*\"graph\" + 0.088*\"response\" + 0.087*\"system\" + 0.082*\"time\" + 0.074*\"minors\" + 0.074*\"eps\" + 0.073*\"interface\" + 0.031*\"computer\"')]"
      ]
     },
     "execution_count": 11,
     "metadata": {},
     "output_type": "execute_result"
    }
   ],
   "source": [
    "lda.print_topics()"
   ]
  },
  {
   "cell_type": "markdown",
   "metadata": {},
   "source": [
    "## Trying out collapsed gibbs"
   ]
  },
  {
   "cell_type": "code",
   "execution_count": 12,
   "metadata": {},
   "outputs": [
    {
     "data": {
      "text/plain": [
       "12"
      ]
     },
     "execution_count": 12,
     "metadata": {},
     "output_type": "execute_result"
    }
   ],
   "source": [
    "vocab_size = max(max(1 + v[0] for v in doc) for doc in common_corpus)\n",
    "vocab_size"
   ]
  },
  {
   "cell_type": "code",
   "execution_count": 13,
   "metadata": {},
   "outputs": [],
   "source": [
    "doc_lengths = [sum(x[1] for x in doc) for doc in common_corpus]\n",
    "corpus_length = sum(doc_lengths)"
   ]
  },
  {
   "cell_type": "code",
   "execution_count": 14,
   "metadata": {},
   "outputs": [
    {
     "data": {
      "text/plain": [
       "[3, 6, 4, 4, 3, 1, 2, 3, 3]"
      ]
     },
     "execution_count": 14,
     "metadata": {},
     "output_type": "execute_result"
    }
   ],
   "source": [
    "doc_lengths"
   ]
  },
  {
   "cell_type": "code",
   "execution_count": 15,
   "metadata": {},
   "outputs": [
    {
     "data": {
      "text/plain": [
       "29"
      ]
     },
     "execution_count": 15,
     "metadata": {},
     "output_type": "execute_result"
    }
   ],
   "source": [
    "corpus_length"
   ]
  },
  {
   "cell_type": "code",
   "execution_count": 16,
   "metadata": {},
   "outputs": [],
   "source": [
    "K = 3"
   ]
  },
  {
   "cell_type": "code",
   "execution_count": 17,
   "metadata": {},
   "outputs": [
    {
     "data": {
      "text/plain": [
       "[array([0, 2, 2]),\n",
       " array([0, 1, 1, 2, 1, 2]),\n",
       " array([0, 1, 1, 0]),\n",
       " array([1, 1, 2, 2]),\n",
       " array([0, 2, 0]),\n",
       " array([2]),\n",
       " array([0, 2]),\n",
       " array([2, 0, 2]),\n",
       " array([0, 2, 0])]"
      ]
     },
     "execution_count": 17,
     "metadata": {},
     "output_type": "execute_result"
    }
   ],
   "source": [
    "# Initialization\n",
    "Z = [np.random.choice(K, size=L) for L in doc_lengths]\n",
    "Z"
   ]
  },
  {
   "cell_type": "code",
   "execution_count": 18,
   "metadata": {},
   "outputs": [],
   "source": [
    "burn_in = 10\n",
    "lag = 20\n",
    "num_samples = 100"
   ]
  },
  {
   "cell_type": "code",
   "execution_count": 19,
   "metadata": {},
   "outputs": [],
   "source": [
    "import copy"
   ]
  },
  {
   "cell_type": "code",
   "execution_count": 20,
   "metadata": {},
   "outputs": [],
   "source": [
    "import itertools"
   ]
  },
  {
   "cell_type": "code",
   "execution_count": 21,
   "metadata": {},
   "outputs": [],
   "source": [
    "def flatten_one_level(L):\n",
    "    return list(itertools.chain.from_iterable(L))"
   ]
  },
  {
   "cell_type": "code",
   "execution_count": 22,
   "metadata": {},
   "outputs": [
    {
     "data": {
      "text/plain": [
       "[1, 2, 3, 4, 5, 6, 7, 8, 9]"
      ]
     },
     "execution_count": 22,
     "metadata": {},
     "output_type": "execute_result"
    }
   ],
   "source": [
    "flatten_one_level([[1,2,3],[4,5,6],[7,8],[],[9]])"
   ]
  },
  {
   "cell_type": "code",
   "execution_count": 23,
   "metadata": {},
   "outputs": [],
   "source": [
    "from tqdm import tqdm, tnrange, tqdm_notebook"
   ]
  },
  {
   "cell_type": "code",
   "execution_count": 24,
   "metadata": {},
   "outputs": [],
   "source": [
    "class CollapsedGibbs(object):\n",
    "    def fit(self, corpus, num_topics, vocab_size, burn_in = 10, lag = 20, num_samples = 100, alpha = 1.0, beta = 1.0):\n",
    "        alpha = np.broadcast_to(alpha, (num_topics,))\n",
    "        beta = np.broadcast_to(beta, (vocab_size,))\n",
    "        beta_sum = beta.sum()\n",
    "        lag = max(1, lag)\n",
    "        burn_in = max(0, burn_in)\n",
    "        num_samples = max(0, num_samples)\n",
    "\n",
    "        doc_lengths = [sum(x[1] for x in doc) for doc in corpus]\n",
    "        blank_counter = lambda: np.zeros((num_topics,), dtype='int')\n",
    "        topic_counts = {\n",
    "            \"overall\": blank_counter(),\n",
    "            \"by_doc\": defaultdict(blank_counter),\n",
    "            \"by_vocab\": defaultdict(blank_counter),\n",
    "            \"by_doc_vocab\": defaultdict(blank_counter),\n",
    "        }\n",
    "\n",
    "        def sample_once(doc_index, vocab_index, topic_old):\n",
    "            A = topic_counts[\"by_doc\"][doc_index]\n",
    "            B = topic_counts[\"by_vocab\"][vocab_index]\n",
    "            C = topic_counts[\"overall\"]\n",
    "            D = topic_counts[\"by_doc_vocab\"][doc_index, vocab_index]\n",
    "            if topic_old is not None:\n",
    "                for x in [A, B, C, D]:\n",
    "                    x[topic_old] -= 1\n",
    "            probs = (alpha + A) * (beta[vocab_index] + B) / (beta_sum + C)\n",
    "            probs /= probs.sum()\n",
    "            topic_new = np.random.choice(num_topics, p = probs)\n",
    "            for x in [A, B, C, D]:\n",
    "                x[topic_new] += 1\n",
    "        \n",
    "        for di, doc in enumerate(tqdm_notebook(corpus, desc = \"Initializing\")):\n",
    "            for v, c in doc:\n",
    "                for pi in range(c):\n",
    "                    sample_once(doc_index = di, vocab_index = v, topic_old = None)\n",
    "        del di, doc, v, c, pi\n",
    "        \n",
    "        self.samples = []\n",
    "        for i in tnrange(burn_in + lag * num_samples, desc = \"Training\"):\n",
    "            for di, doc in enumerate(corpus):\n",
    "                for v, vc in doc:\n",
    "                    current_counts = topic_counts[\"by_doc_vocab\"][di, v].copy()\n",
    "                    for t, tc in enumerate(current_counts):\n",
    "                        for j in range(tc):\n",
    "                            sample_once(doc_index = di, vocab_index = v, topic_old = t)\n",
    "\n",
    "            if i >= burn_in and (i - burn_in) % lag == 0:\n",
    "                self.samples.append(copy.deepcopy(topic_counts))\n",
    "\n",
    "        self.corpus = copy.deepcopy(corpus)\n",
    "        self.num_topics = num_topics\n",
    "        self.vocab_size = vocab_size\n",
    "        self.alpha = alpha.copy()\n",
    "        self.beta = beta.copy()\n",
    "\n",
    "    def topics_by_sample(self):\n",
    "        counts = np.zeros((len(self.samples), self.num_topics, self.vocab_size))\n",
    "        for si, sample in enumerate(self.samples):\n",
    "            for (di, v), topic_count in sample[\"by_doc_vocab\"].items():\n",
    "                counts[si, :, v] += topic_count\n",
    "        numer = counts + self.beta[np.newaxis, np.newaxis, :]\n",
    "        denom = counts.sum(axis = 2, keepdims = True) + self.beta.sum()\n",
    "        return numer / denom\n",
    "        #return counts / counts.sum(axis = 2, keepdims = True)\n",
    "        \n",
    "    def cooccurrence_by_sample(self):\n",
    "        num_samples = len(self.samples)\n",
    "        result = np.zeros((num_samples, self.num_topics, self.num_topics))\n",
    "        for si, sample in enumerate(self.samples):\n",
    "            for di, topic_count in sample[\"by_doc\"].items():\n",
    "                probs = topic_count / topic_count.sum()\n",
    "                result[si, :, :] += np.outer(probs, probs)\n",
    "        result /= result.sum(axis = (1, 2), keepdims = True)\n",
    "        return result"
   ]
  },
  {
   "cell_type": "code",
   "execution_count": 25,
   "metadata": {},
   "outputs": [],
   "source": [
    "np.random.seed(1)"
   ]
  },
  {
   "cell_type": "code",
   "execution_count": 26,
   "metadata": {},
   "outputs": [
    {
     "data": {
      "application/vnd.jupyter.widget-view+json": {
       "model_id": "f33efef0daf74e509ae941bca786b059",
       "version_major": 2,
       "version_minor": 0
      },
      "text/plain": [
       "HBox(children=(IntProgress(value=0, description='Initializing', max=9), HTML(value='')))"
      ]
     },
     "metadata": {},
     "output_type": "display_data"
    },
    {
     "name": "stdout",
     "output_type": "stream",
     "text": [
      "\n"
     ]
    },
    {
     "data": {
      "application/vnd.jupyter.widget-view+json": {
       "model_id": "a755f8a44a3d43e3af12b76169afc0af",
       "version_major": 2,
       "version_minor": 0
      },
      "text/plain": [
       "HBox(children=(IntProgress(value=0, description='Training', max=2010), HTML(value='')))"
      ]
     },
     "metadata": {},
     "output_type": "display_data"
    },
    {
     "name": "stdout",
     "output_type": "stream",
     "text": [
      "\n"
     ]
    },
    {
     "data": {
      "text/plain": [
       "100"
      ]
     },
     "execution_count": 26,
     "metadata": {},
     "output_type": "execute_result"
    }
   ],
   "source": [
    "result = CollapsedGibbs()\n",
    "result.fit(common_corpus, num_topics = 3, vocab_size = vocab_size, num_samples = 100)\n",
    "len(result.samples)"
   ]
  },
  {
   "cell_type": "code",
   "execution_count": 27,
   "metadata": {},
   "outputs": [],
   "source": [
    "T = result.topics_by_sample()"
   ]
  },
  {
   "cell_type": "code",
   "execution_count": 28,
   "metadata": {},
   "outputs": [],
   "source": [
    "nan_indices = np.array(np.where(np.isnan(T)))\n",
    "if nan_indices.size > 0:\n",
    "    example_index = nan_indices[0, 0]\n",
    "else:\n",
    "    example_index = 0"
   ]
  },
  {
   "cell_type": "code",
   "execution_count": 29,
   "metadata": {},
   "outputs": [
    {
     "data": {
      "image/png": "[encoded data removed]",
      "text/plain": [
       "<Figure size 432x288 with 6 Axes>"
      ]
     },
     "metadata": {},
     "output_type": "display_data"
    }
   ],
   "source": [
    "nr, nc = 3, 2\n",
    "fig, ax = plt.subplots(nr, nc)\n",
    "for i in range(nr * nc):\n",
    "    ax[i // nc, i % nc].imshow(T[i])\n",
    "    ax[i // nc, i % nc].set_title(\"T[{}]\".format(i))\n",
    "None"
   ]
  },
  {
   "cell_type": "code",
   "execution_count": 30,
   "metadata": {},
   "outputs": [
    {
     "data": {
      "text/plain": [
       "(0.9999999999999998, 1.0000000000000002)"
      ]
     },
     "execution_count": 30,
     "metadata": {},
     "output_type": "execute_result"
    }
   ],
   "source": [
    "sums = T.sum(axis=2)\n",
    "np.min(sums), np.max(sums)"
   ]
  },
  {
   "cell_type": "code",
   "execution_count": 31,
   "metadata": {},
   "outputs": [],
   "source": [
    "topics = T.mean(axis = 0)"
   ]
  },
  {
   "cell_type": "code",
   "execution_count": 32,
   "metadata": {},
   "outputs": [
    {
     "data": {
      "image/png": "[encoded data removed]",
      "text/plain": [
       "<Figure size 432x288 with 1 Axes>"
      ]
     },
     "metadata": {},
     "output_type": "display_data"
    }
   ],
   "source": [
    "plt.imshow(topics);"
   ]
  },
  {
   "cell_type": "code",
   "execution_count": 33,
   "metadata": {},
   "outputs": [
    {
     "data": {
      "text/plain": [
       "['computer',\n",
       " 'human',\n",
       " 'interface',\n",
       " 'response',\n",
       " 'survey',\n",
       " 'system',\n",
       " 'time',\n",
       " 'user',\n",
       " 'eps',\n",
       " 'trees',\n",
       " 'graph',\n",
       " 'minors']"
      ]
     },
     "execution_count": 33,
     "metadata": {},
     "output_type": "execute_result"
    }
   ],
   "source": [
    "[common_dictionary[i] for i in range(vocab_size)]"
   ]
  },
  {
   "cell_type": "code",
   "execution_count": 34,
   "metadata": {},
   "outputs": [
    {
     "data": {
      "text/plain": [
       "Counter({0: 2,\n",
       "         1: 2,\n",
       "         2: 2,\n",
       "         3: 2,\n",
       "         4: 2,\n",
       "         5: 4,\n",
       "         6: 2,\n",
       "         7: 3,\n",
       "         8: 2,\n",
       "         9: 3,\n",
       "         10: 3,\n",
       "         11: 2})"
      ]
     },
     "execution_count": 34,
     "metadata": {},
     "output_type": "execute_result"
    }
   ],
   "source": [
    "corpus_word_counts = Counter()\n",
    "for doc in common_corpus:\n",
    "    for w, c in doc:\n",
    "        corpus_word_counts[w] += c\n",
    "corpus_word_counts"
   ]
  },
  {
   "cell_type": "code",
   "execution_count": 35,
   "metadata": {},
   "outputs": [
    {
     "data": {
      "image/png": "[encoded data removed]",
      "text/plain": [
       "<Figure size 432x288 with 1 Axes>"
      ]
     },
     "metadata": {},
     "output_type": "display_data"
    }
   ],
   "source": [
    "unif_topics = np.broadcast_to([corpus_word_counts[i] for i in range(vocab_size)], topics.shape).astype('float')\n",
    "unif_topics /= unif_topics.sum(axis = 1, keepdims = True)\n",
    "plt.imshow(unif_topics);"
   ]
  },
  {
   "cell_type": "markdown",
   "metadata": {},
   "source": [
    "## Experiments with Griffiths-Steyvers square-image data generation"
   ]
  },
  {
   "cell_type": "code",
   "execution_count": 36,
   "metadata": {},
   "outputs": [],
   "source": [
    "np.random.seed(1)"
   ]
  },
  {
   "cell_type": "code",
   "execution_count": 37,
   "metadata": {},
   "outputs": [],
   "source": [
    "from sim_data import GriffithsSteyversSampler"
   ]
  },
  {
   "cell_type": "code",
   "execution_count": 38,
   "metadata": {},
   "outputs": [
    {
     "name": "stderr",
     "output_type": "stream",
     "text": [
      "100%|██████████| 1000/1000 [00:07<00:00, 126.00it/s]\n"
     ]
    }
   ],
   "source": [
    "sampler = GriffithsSteyversSampler(num_docs = 1000, words_per_doc = 100, dimension = 5, alpha = 0.1)\n",
    "sampler.sample()\n",
    "None"
   ]
  },
  {
   "cell_type": "code",
   "execution_count": 39,
   "metadata": {},
   "outputs": [],
   "source": [
    "docs_to_display = 50"
   ]
  },
  {
   "cell_type": "code",
   "execution_count": 40,
   "metadata": {},
   "outputs": [
    {
     "data": {
      "image/png": "[encoded data removed]",
      "text/plain": [
       "<Figure size 432x288 with 1 Axes>"
      ]
     },
     "metadata": {},
     "output_type": "display_data"
    }
   ],
   "source": [
    "plt.imshow(np.array(sampler.doc_topic_mixtures)[:docs_to_display, :].T);"
   ]
  },
  {
   "cell_type": "code",
   "execution_count": 41,
   "metadata": {},
   "outputs": [
    {
     "data": {
      "image/png": "[encoded data removed]",
      "text/plain": [
       "<Figure size 432x288 with 1 Axes>"
      ]
     },
     "metadata": {},
     "output_type": "display_data"
    }
   ],
   "source": [
    "plt.imshow(sampler.data.toarray()[:docs_to_display, :].T);"
   ]
  },
  {
   "cell_type": "code",
   "execution_count": 42,
   "metadata": {},
   "outputs": [
    {
     "data": {
      "image/png": "[encoded data removed]",
      "text/plain": [
       "<Figure size 360x360 with 25 Axes>"
      ]
     },
     "metadata": {},
     "output_type": "display_data"
    }
   ],
   "source": [
    "sq = 5\n",
    "fig, ax = plt.subplots(sq, sq, figsize = (5, 5))\n",
    "fig.subplots_adjust(hspace = 0.05, wspace = 0.05, left = 0, right = 1, top = 1, bottom = 0)\n",
    "max_count = sampler.data[:docs_to_display, :].max()\n",
    "for i in range(sq):\n",
    "    for j in range(sq):\n",
    "        n = i * sq + j\n",
    "        if n < docs_to_display:\n",
    "            X = sampler.data[n, :].toarray().reshape(sampler.dimension, sampler.dimension)\n",
    "            ax[i, j].imshow(X, vmin = 0, vmax = max_count)\n",
    "        ax[i, j].axis('off')"
   ]
  },
  {
   "cell_type": "code",
   "execution_count": 43,
   "metadata": {},
   "outputs": [
    {
     "data": {
      "image/png": "[encoded data removed]",
      "text/plain": [
       "<Figure size 432x288 with 1 Axes>"
      ]
     },
     "metadata": {},
     "output_type": "display_data"
    }
   ],
   "source": [
    "plt.imshow(sampler.topics);"
   ]
  },
  {
   "cell_type": "code",
   "execution_count": 44,
   "metadata": {},
   "outputs": [
    {
     "name": "stdout",
     "output_type": "stream",
     "text": [
      "CPU times: user 25.7 s, sys: 77.5 ms, total: 25.8 s\n",
      "Wall time: 26 s\n"
     ]
    }
   ],
   "source": [
    "%%time\n",
    "lda = LdaModel(\n",
    "    corpus=sampler.gensim_corpus,\n",
    "    num_topics=sampler.num_topics,\n",
    "    passes=20)"
   ]
  },
  {
   "cell_type": "code",
   "execution_count": 45,
   "metadata": {},
   "outputs": [],
   "source": [
    "topics = lda.get_topics()"
   ]
  },
  {
   "cell_type": "code",
   "execution_count": 46,
   "metadata": {},
   "outputs": [
    {
     "data": {
      "image/png": "[encoded data removed]",
      "text/plain": [
       "<Figure size 432x288 with 1 Axes>"
      ]
     },
     "metadata": {},
     "output_type": "display_data"
    }
   ],
   "source": [
    "plt.imshow(topics);"
   ]
  },
  {
   "cell_type": "code",
   "execution_count": 47,
   "metadata": {},
   "outputs": [],
   "source": [
    "np.random.seed(1)"
   ]
  },
  {
   "cell_type": "code",
   "execution_count": 48,
   "metadata": {},
   "outputs": [
    {
     "data": {
      "application/vnd.jupyter.widget-view+json": {
       "model_id": "f37d3e077dd3418b95b28248a5193e3e",
       "version_major": 2,
       "version_minor": 0
      },
      "text/plain": [
       "HBox(children=(IntProgress(value=0, description='Initializing', max=1000), HTML(value='')))"
      ]
     },
     "metadata": {},
     "output_type": "display_data"
    },
    {
     "name": "stdout",
     "output_type": "stream",
     "text": [
      "\n"
     ]
    },
    {
     "data": {
      "application/vnd.jupyter.widget-view+json": {
       "model_id": "7c22abb5ff6648d3a02a258fea51cbf0",
       "version_major": 2,
       "version_minor": 0
      },
      "text/plain": [
       "HBox(children=(IntProgress(value=0, description='Training', max=30), HTML(value='')))"
      ]
     },
     "metadata": {},
     "output_type": "display_data"
    },
    {
     "name": "stdout",
     "output_type": "stream",
     "text": [
      "\n"
     ]
    },
    {
     "data": {
      "text/plain": [
       "20"
      ]
     },
     "execution_count": 48,
     "metadata": {},
     "output_type": "execute_result"
    }
   ],
   "source": [
    "result = CollapsedGibbs()\n",
    "result.fit(\n",
    "    corpus = sampler.gensim_corpus,\n",
    "    num_topics = sampler.num_topics,\n",
    "    vocab_size = sampler.vocab_size,\n",
    "    num_samples = 20,\n",
    "    lag = 1,\n",
    "    burn_in = 10)\n",
    "len(result.samples)"
   ]
  },
  {
   "cell_type": "code",
   "execution_count": 49,
   "metadata": {},
   "outputs": [],
   "source": [
    "T = result.topics_by_sample()"
   ]
  },
  {
   "cell_type": "code",
   "execution_count": 50,
   "metadata": {},
   "outputs": [
    {
     "data": {
      "image/png": "[encoded data removed]",
      "text/plain": [
       "<Figure size 432x288 with 20 Axes>"
      ]
     },
     "metadata": {},
     "output_type": "display_data"
    }
   ],
   "source": [
    "nr, nc = 5, 4\n",
    "fig, ax = plt.subplots(nr, nc)\n",
    "for i in range(min(len(result.samples), nr * nc)):\n",
    "    ax[i // nc, i % nc].imshow(T[i])\n",
    "    ax[i // nc, i % nc].set_title(\"T[{}]\".format(i))\n",
    "None"
   ]
  },
  {
   "cell_type": "code",
   "execution_count": 51,
   "metadata": {},
   "outputs": [
    {
     "data": {
      "image/png": "[encoded data removed]",
      "text/plain": [
       "<Figure size 432x288 with 1 Axes>"
      ]
     },
     "metadata": {},
     "output_type": "display_data"
    }
   ],
   "source": [
    "plt.imshow(T[-1]);"
   ]
  },
  {
   "cell_type": "code",
   "execution_count": 52,
   "metadata": {},
   "outputs": [
    {
     "name": "stdout",
     "output_type": "stream",
     "text": [
      "CPU times: user 321 ms, sys: 4.49 ms, total: 325 ms\n",
      "Wall time: 333 ms\n"
     ]
    }
   ],
   "source": [
    "%%time\n",
    "cooccur_by_sample = result.cooccurrence_by_sample()"
   ]
  },
  {
   "cell_type": "code",
   "execution_count": 53,
   "metadata": {},
   "outputs": [
    {
     "data": {
      "image/png": "[encoded data removed]",
      "text/plain": [
       "<Figure size 432x288 with 20 Axes>"
      ]
     },
     "metadata": {},
     "output_type": "display_data"
    }
   ],
   "source": [
    "nr, nc = 5, 4\n",
    "fig, ax = plt.subplots(nr, nc)\n",
    "for i in range(min(len(result.samples), nr * nc)):\n",
    "    ax[i // nc, i % nc].imshow(cooccur_by_sample[i], vmin=0)\n",
    "    ax[i // nc, i % nc].set_title(\"c[{}]\".format(i))\n",
    "None"
   ]
  },
  {
   "cell_type": "code",
   "execution_count": 54,
   "metadata": {},
   "outputs": [],
   "source": [
    "from sim_data import topics_griffiths_steyvers"
   ]
  },
  {
   "cell_type": "code",
   "execution_count": 55,
   "metadata": {},
   "outputs": [
    {
     "data": {
      "image/png": "[encoded data removed]",
      "text/plain": [
       "<Figure size 432x288 with 1 Axes>"
      ]
     },
     "metadata": {},
     "output_type": "display_data"
    }
   ],
   "source": [
    "plt.imshow(topics_griffiths_steyvers(10));"
   ]
  },
  {
   "cell_type": "markdown",
   "metadata": {},
   "source": [
    "### Try combining G.S. topics with tree-based model"
   ]
  },
  {
   "cell_type": "code",
   "execution_count": 65,
   "metadata": {},
   "outputs": [],
   "source": [
    "import networkx as nx"
   ]
  },
  {
   "cell_type": "code",
   "execution_count": 66,
   "metadata": {},
   "outputs": [],
   "source": [
    "from example_graphs import make_tree\n",
    "from utils import nice_tree_plot, without_diag\n",
    "from sim_data import HPAM2Sampler, get_alpha\n",
    "from functools import partial"
   ]
  },
  {
   "cell_type": "code",
   "execution_count": 67,
   "metadata": {},
   "outputs": [
    {
     "data": {
      "image/png": "[encoded data removed]",
      "text/plain": [
       "<Figure size 432x288 with 1 Axes>"
      ]
     },
     "metadata": {},
     "output_type": "display_data"
    }
   ],
   "source": [
    "tree = make_tree([3,3])\n",
    "nice_tree_plot(tree)"
   ]
  },
  {
   "cell_type": "code",
   "execution_count": 68,
   "metadata": {},
   "outputs": [],
   "source": [
    "exact_topics = topics_griffiths_steyvers(tree.number_of_nodes())"
   ]
  },
  {
   "cell_type": "code",
   "execution_count": 69,
   "metadata": {},
   "outputs": [
    {
     "data": {
      "image/png": "[encoded data removed]",
      "text/plain": [
       "<Figure size 432x288 with 1 Axes>"
      ]
     },
     "metadata": {},
     "output_type": "display_data"
    }
   ],
   "source": [
    "plt.imshow(exact_topics);"
   ]
  },
  {
   "cell_type": "code",
   "execution_count": 70,
   "metadata": {},
   "outputs": [],
   "source": [
    "topic_func = lambda n: exact_topics[n, :]"
   ]
  },
  {
   "cell_type": "code",
   "execution_count": 103,
   "metadata": {},
   "outputs": [],
   "source": [
    "np.random.seed(1)"
   ]
  },
  {
   "cell_type": "code",
   "execution_count": 104,
   "metadata": {},
   "outputs": [],
   "source": [
    "h_sampler = HPAM2Sampler(\n",
    "    tree,\n",
    "    num_docs = 500,\n",
    "    words_per_doc = 1000,\n",
    "    vocab_size = exact_topics.shape[1],\n",
    "    topic_dirichlet = None,\n",
    "    topic_func = topic_func,\n",
    "    alpha_func = partial(get_alpha, scale=0.1)\n",
    ")"
   ]
  },
  {
   "cell_type": "code",
   "execution_count": 105,
   "metadata": {},
   "outputs": [
    {
     "name": "stderr",
     "output_type": "stream",
     "text": [
      "100%|██████████| 500/500 [01:01<00:00,  8.12it/s]\n"
     ]
    }
   ],
   "source": [
    "h_sampler.sample();"
   ]
  },
  {
   "cell_type": "code",
   "execution_count": 106,
   "metadata": {},
   "outputs": [
    {
     "data": {
      "text/plain": [
       "500"
      ]
     },
     "execution_count": 106,
     "metadata": {},
     "output_type": "execute_result"
    }
   ],
   "source": [
    "tree_corpus = []\n",
    "for doc in h_sampler.docs:\n",
    "    ctr = Counter(doc)\n",
    "    doc_short = [(k, v) for k, v in ctr.items()]\n",
    "    tree_corpus.append(doc_short)\n",
    "len(tree_corpus)"
   ]
  },
  {
   "cell_type": "code",
   "execution_count": 107,
   "metadata": {},
   "outputs": [],
   "source": [
    "np.random.seed(3)\n",
    "# NOTE: quality of results seem to have a lot of variance (to see this, try changing the random seed)"
   ]
  },
  {
   "cell_type": "code",
   "execution_count": 108,
   "metadata": {
    "scrolled": true
   },
   "outputs": [
    {
     "data": {
      "application/vnd.jupyter.widget-view+json": {
       "model_id": "59c2f0d77ec644b2b0681cd7b40096f6",
       "version_major": 2,
       "version_minor": 0
      },
      "text/plain": [
       "HBox(children=(IntProgress(value=0, description='Initializing', max=500), HTML(value='')))"
      ]
     },
     "metadata": {},
     "output_type": "display_data"
    },
    {
     "name": "stdout",
     "output_type": "stream",
     "text": [
      "\n"
     ]
    },
    {
     "data": {
      "application/vnd.jupyter.widget-view+json": {
       "model_id": "1dbd0b19ccfe44899e24430a36bf662d",
       "version_major": 2,
       "version_minor": 0
      },
      "text/plain": [
       "HBox(children=(IntProgress(value=0, description='Training', max=30), HTML(value='')))"
      ]
     },
     "metadata": {},
     "output_type": "display_data"
    },
    {
     "name": "stdout",
     "output_type": "stream",
     "text": [
      "\n"
     ]
    },
    {
     "data": {
      "text/plain": [
       "20"
      ]
     },
     "execution_count": 108,
     "metadata": {},
     "output_type": "execute_result"
    }
   ],
   "source": [
    "result = CollapsedGibbs()\n",
    "result.fit(\n",
    "    corpus = tree_corpus,\n",
    "    num_topics = h_sampler.g.number_of_nodes(),\n",
    "    vocab_size = h_sampler.vocab_size,\n",
    "    num_samples = 20,\n",
    "    lag = 1,\n",
    "    burn_in = 10)\n",
    "len(result.samples)"
   ]
  },
  {
   "cell_type": "code",
   "execution_count": 109,
   "metadata": {},
   "outputs": [],
   "source": [
    "T = result.topics_by_sample()"
   ]
  },
  {
   "cell_type": "code",
   "execution_count": 110,
   "metadata": {
    "scrolled": false
   },
   "outputs": [
    {
     "data": {
      "image/png": "[encoded data removed]",
      "text/plain": [
       "<Figure size 432x288 with 20 Axes>"
      ]
     },
     "metadata": {},
     "output_type": "display_data"
    }
   ],
   "source": [
    "nr, nc = 5, 4\n",
    "fig, ax = plt.subplots(nr, nc)\n",
    "for i in range(min(len(result.samples), nr * nc)):\n",
    "    ax[i // nc, i % nc].imshow(T[i])\n",
    "    ax[i // nc, i % nc].set_title(\"T[{}]\".format(i))\n",
    "None"
   ]
  },
  {
   "cell_type": "code",
   "execution_count": 111,
   "metadata": {},
   "outputs": [
    {
     "data": {
      "image/png": "[encoded data removed]",
      "text/plain": [
       "<Figure size 432x288 with 1 Axes>"
      ]
     },
     "metadata": {},
     "output_type": "display_data"
    }
   ],
   "source": [
    "plt.imshow(T[-1]);"
   ]
  },
  {
   "cell_type": "code",
   "execution_count": 112,
   "metadata": {},
   "outputs": [
    {
     "name": "stdout",
     "output_type": "stream",
     "text": [
      "CPU times: user 183 ms, sys: 10.7 ms, total: 193 ms\n",
      "Wall time: 191 ms\n"
     ]
    }
   ],
   "source": [
    "%%time\n",
    "cooccur_by_sample = result.cooccurrence_by_sample()"
   ]
  },
  {
   "cell_type": "code",
   "execution_count": 113,
   "metadata": {},
   "outputs": [
    {
     "data": {
      "image/png": "[encoded data removed]",
      "text/plain": [
       "<Figure size 720x720 with 20 Axes>"
      ]
     },
     "metadata": {},
     "output_type": "display_data"
    }
   ],
   "source": [
    "nr, nc = 5, 4\n",
    "fig, ax = plt.subplots(nr, nc, figsize=(10,10))\n",
    "for i in range(min(len(result.samples), nr * nc)):\n",
    "    ax[i // nc, i % nc].imshow(without_diag(cooccur_by_sample[i]), vmin=0)\n",
    "    ax[i // nc, i % nc].set_title(\"c[{}]\".format(i))\n",
    "None"
   ]
  },
  {
   "cell_type": "code",
   "execution_count": 114,
   "metadata": {},
   "outputs": [
    {
     "data": {
      "image/png": "[encoded data removed]",
      "text/plain": [
       "<Figure size 432x288 with 1 Axes>"
      ]
     },
     "metadata": {},
     "output_type": "display_data"
    }
   ],
   "source": [
    "plt.imshow(without_diag(cooccur_by_sample[-1]), vmin=0);"
   ]
  },
  {
   "cell_type": "code",
   "execution_count": 115,
   "metadata": {},
   "outputs": [],
   "source": [
    "from tree_extraction import Aho"
   ]
  },
  {
   "cell_type": "code",
   "execution_count": 116,
   "metadata": {},
   "outputs": [],
   "source": [
    "tree_extracted = Aho.extract(cooccur_by_sample[-1])"
   ]
  },
  {
   "cell_type": "code",
   "execution_count": 117,
   "metadata": {},
   "outputs": [
    {
     "data": {
      "image/png": "[encoded data removed]",
      "text/plain": [
       "<Figure size 432x288 with 1 Axes>"
      ]
     },
     "metadata": {},
     "output_type": "display_data"
    }
   ],
   "source": [
    "nice_tree_plot(tree_extracted)"
   ]
  },
  {
   "cell_type": "code",
   "execution_count": 118,
   "metadata": {},
   "outputs": [
    {
     "data": {
      "text/plain": [
       "(0.01485345999999999, (6, 7))"
      ]
     },
     "execution_count": 118,
     "metadata": {},
     "output_type": "execute_result"
    }
   ],
   "source": [
    "r = without_diag(cooccur_by_sample[nr * nc - 1])\n",
    "imax = np.argmax(r)\n",
    "coordmax = np.unravel_index(imax, r.shape)\n",
    "rmax = r[coordmax]\n",
    "rmax, coordmax"
   ]
  },
  {
   "cell_type": "markdown",
   "metadata": {},
   "source": [
    "## Quick way to reload without rerunning everything"
   ]
  },
  {
   "cell_type": "code",
   "execution_count": null,
   "metadata": {},
   "outputs": [],
   "source": [
    "from importlib import reload\n",
    "import sim_data\n",
    "reload(sim_data)\n",
    "del sim_data"
   ]
  },
  {
   "cell_type": "code",
   "execution_count": null,
   "metadata": {},
   "outputs": [],
   "source": []
  }
 ],
 "metadata": {
  "kernelspec": {
   "display_name": "Python 3",
   "language": "python",
   "name": "python3"
  },
  "language_info": {
   "codemirror_mode": {
    "name": "ipython",
    "version": 3
   },
   "file_extension": ".py",
   "mimetype": "text/x-python",
   "name": "python",
   "nbconvert_exporter": "python",
   "pygments_lexer": "ipython3",
   "version": "3.6.5"
  }
 },
 "nbformat": 4,
 "nbformat_minor": 2
}
