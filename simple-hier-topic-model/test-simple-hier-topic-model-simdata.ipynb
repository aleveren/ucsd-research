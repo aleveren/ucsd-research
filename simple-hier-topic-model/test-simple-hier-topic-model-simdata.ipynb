{
 "cells": [
  {
   "cell_type": "code",
   "execution_count": 1,
   "metadata": {},
   "outputs": [],
   "source": [
    "import numpy as np\n",
    "import matplotlib.pyplot as plt\n",
    "%matplotlib inline"
   ]
  },
  {
   "cell_type": "code",
   "execution_count": 2,
   "metadata": {},
   "outputs": [],
   "source": [
    "from sim_data import SimData"
   ]
  },
  {
   "cell_type": "code",
   "execution_count": 3,
   "metadata": {},
   "outputs": [],
   "source": [
    "from simple_hierarchical_topic_model import (\n",
    "    SimpleHierarchicalTopicModel,\n",
    "    StoppingCondition,\n",
    "    UniformInitializer,\n",
    "    StatsSaver,\n",
    "    explore_branching_factors,\n",
    ")"
   ]
  },
  {
   "cell_type": "code",
   "execution_count": 4,
   "metadata": {},
   "outputs": [],
   "source": [
    "from init_hierarchy_kmeans import KMeansInitializer"
   ]
  },
  {
   "cell_type": "code",
   "execution_count": 5,
   "metadata": {},
   "outputs": [],
   "source": [
    "from param_stats import mean_discrete, mean_dirichlet, variance_discrete, norm_variance_dirichlet, topic_difference"
   ]
  },
  {
   "cell_type": "code",
   "execution_count": 6,
   "metadata": {},
   "outputs": [],
   "source": [
    "np.random.seed(1)"
   ]
  },
  {
   "cell_type": "code",
   "execution_count": 7,
   "metadata": {},
   "outputs": [],
   "source": [
    "class CustomInitializer(object):\n",
    "    \"\"\"\n",
    "    A custom initializer that can be used to \"cheat\" and nudge the results closer\n",
    "    to the desired values, based on stats from the simulation.\n",
    "    We can use this to verify that variational inference can find the desired value\n",
    "    if it starts sufficiently close to it.\n",
    "    \"\"\"\n",
    "    def __init__(self, sim, topics_noise = 0.0):\n",
    "        self.sim = sim\n",
    "        self.topics_noise = topics_noise\n",
    "\n",
    "    def init_var_params(self, var, shape):\n",
    "        sim = self.sim\n",
    "        if var == \"L\": return np.ones((sim.num_docs * sim.doc_length, sim.num_leaves))\n",
    "        if var == \"D\": return np.ones((sim.num_docs * sim.doc_length, sim.num_depths))\n",
    "        if var == \"DL\": return np.broadcast_to(sim.alpha_leaves, (sim.num_docs, sim.num_leaves))\n",
    "        if var == \"DD\": return np.broadcast_to(sim.alpha_depths, (sim.num_docs, sim.num_depths))\n",
    "        if var == \"DV\":\n",
    "            permutation = [0, 5, 8, 7, 6, 9, 10, 12, 11, 1, 3, 4, 2]\n",
    "            init_DV = sim.topics_by_index[permutation, :] + np.random.uniform(0.0, self.topics_noise, sim.topics_by_index.shape)\n",
    "            return init_DV / np.min(init_DV)"
   ]
  },
  {
   "cell_type": "code",
   "execution_count": 8,
   "metadata": {},
   "outputs": [
    {
     "name": "stdout",
     "output_type": "stream",
     "text": [
      "CPU times: user 236 ms, sys: 3.59 ms, total: 240 ms\n",
      "Wall time: 243 ms\n"
     ]
    }
   ],
   "source": [
    "%%time\n",
    "sim = SimData(\n",
    "    branching_factors = [3, 3],\n",
    "    num_docs = 100,\n",
    "    doc_length = 100,\n",
    "    topic_sharpness = 20,\n",
    "    alpha_leaves = 0.01,\n",
    "    alpha_depths = 1,\n",
    ")\n",
    "docs = sim.generate()"
   ]
  },
  {
   "cell_type": "code",
   "execution_count": 9,
   "metadata": {},
   "outputs": [],
   "source": [
    "import os\n",
    "import sys\n",
    "sys.path.append(os.path.abspath(\"..\"))\n",
    "import text_utils"
   ]
  },
  {
   "cell_type": "code",
   "execution_count": 10,
   "metadata": {},
   "outputs": [
    {
     "name": "stdout",
     "output_type": "stream",
     "text": [
      "CPU times: user 253 ms, sys: 3.94 ms, total: 257 ms\n",
      "Wall time: 256 ms\n"
     ]
    }
   ],
   "source": [
    "%%time\n",
    "data, vocab = text_utils.document_strings_to_sparse_term_doc(\n",
    "    docs = docs,\n",
    "    tokenizer = text_utils.default_tokenizer,\n",
    "    vocab = sim.vocab)"
   ]
  },
  {
   "cell_type": "code",
   "execution_count": 11,
   "metadata": {},
   "outputs": [
    {
     "data": {
      "text/plain": [
       "['w0',\n",
       " 'w1',\n",
       " 'w2',\n",
       " 'w3',\n",
       " 'w4',\n",
       " 'w5',\n",
       " 'w6',\n",
       " 'w7',\n",
       " 'w8',\n",
       " 'w9',\n",
       " 'w10',\n",
       " 'w11',\n",
       " 'w12',\n",
       " 'w13',\n",
       " 'w14',\n",
       " 'w15',\n",
       " 'w16',\n",
       " 'w17',\n",
       " 'w18',\n",
       " 'w19',\n",
       " 'w20',\n",
       " 'w21',\n",
       " 'w22',\n",
       " 'w23',\n",
       " 'w24',\n",
       " 'w25',\n",
       " 'w26',\n",
       " 'w27',\n",
       " 'w28',\n",
       " 'w29']"
      ]
     },
     "execution_count": 11,
     "metadata": {},
     "output_type": "execute_result"
    }
   ],
   "source": [
    "vocab"
   ]
  },
  {
   "cell_type": "code",
   "execution_count": 12,
   "metadata": {},
   "outputs": [
    {
     "data": {
      "image/png": "[encoded data removed]",
      "text/plain": [
       "<matplotlib.figure.Figure at 0x10a58bbe0>"
      ]
     },
     "metadata": {},
     "output_type": "display_data"
    }
   ],
   "source": [
    "fig, ax = plt.subplots()\n",
    "ax.imshow(data.todense(), aspect='auto')\n",
    "ax.set_ylabel(\"Vocab word\")\n",
    "ax.set_xlabel(\"Document\")\n",
    "None"
   ]
  },
  {
   "cell_type": "code",
   "execution_count": 13,
   "metadata": {},
   "outputs": [],
   "source": [
    "depth_opacities = np.linspace(1, 0, sim.num_depths, endpoint=False)"
   ]
  },
  {
   "cell_type": "code",
   "execution_count": 14,
   "metadata": {},
   "outputs": [
    {
     "data": {
      "image/png": "[encoded data removed]",
      "text/plain": [
       "<matplotlib.figure.Figure at 0x10a5815c0>"
      ]
     },
     "metadata": {},
     "output_type": "display_data"
    }
   ],
   "source": [
    "fig, ax = plt.subplots()\n",
    "for i in range(len(sim.nodes)):\n",
    "    style = {\"linestyle\": \"-\", \"color\": \"b\", \"alpha\": depth_opacities[len(sim.nodes[i])]}\n",
    "    ax.plot(sim.topics_by_index[i,:], **style)\n",
    "ax.set_title(\"True topics (from simulation)\")\n",
    "ax.set_xlabel(\"Vocab word\")\n",
    "ax.set_ylabel(\"Probability\")\n",
    "ax.set_ylim(0, None)\n",
    "None"
   ]
  },
  {
   "cell_type": "code",
   "execution_count": 15,
   "metadata": {},
   "outputs": [],
   "source": [
    "paths = list(explore_branching_factors(sim.branching_factors))"
   ]
  },
  {
   "cell_type": "code",
   "execution_count": 16,
   "metadata": {},
   "outputs": [],
   "source": [
    "model = SimpleHierarchicalTopicModel(\n",
    "    branching_factors = sim.branching_factors,\n",
    "    #stopping_condition = StoppingCondition(min_rel_increase = 1e-5, delay_epochs = 5, max_epochs = 200),\n",
    "    #stopping_condition = StoppingCondition(max_epochs = 200),\n",
    "    stopping_condition = StoppingCondition(max_epochs = 5),\n",
    "    batch_size = None,\n",
    "    vocab = vocab,\n",
    "    save_params_history = True,\n",
    "    step_size_function = lambda n: 0.5,\n",
    "    #paths = [(i,) for i in range(sim.num_leaves)],\n",
    "    prior_params_DL = 0.01,\n",
    "    prior_params_DD = 1,\n",
    "    prior_params_DV = 0.1,\n",
    "    #update_order = [\"D\", \"L\", \"DD\", \"DL\", \"DV\", ],\n",
    "    stats_saver = StatsSaver(\"latest_stats.txt\", stats = [\"epoch_index\", \"ELBO\", \"var_params_DV\"]),\n",
    "    #initializer = KMeansInitializer(data = data, paths = paths, low = 0.01, high = 1.99),\n",
    "    #initializer = UniformInitializer(low = 0.01, high = 1.99),\n",
    "    initializer = CustomInitializer(sim, topics_noise = 0.0),  # <-- \"cheating\" based on simulation\n",
    ")"
   ]
  },
  {
   "cell_type": "code",
   "execution_count": 17,
   "metadata": {},
   "outputs": [
    {
     "name": "stdout",
     "output_type": "stream",
     "text": [
      "LDA mode: False\n"
     ]
    }
   ],
   "source": [
    "lda_mode = all(len(x) == 1 for x in model.nodes)\n",
    "print(\"LDA mode: {}\".format(lda_mode))"
   ]
  },
  {
   "cell_type": "code",
   "execution_count": 18,
   "metadata": {
    "scrolled": true
   },
   "outputs": [
    {
     "name": "stderr",
     "output_type": "stream",
     "text": [
      "100%|██████████| 5/5 [00:00<00:00,  4.88it/s, Status=computing statistics]"
     ]
    },
    {
     "name": "stdout",
     "output_type": "stream",
     "text": [
      "Top words by node:\n",
      "()    : w0, w1, w27, w29, w26, w28, w19, w2, w3, w18\n",
      "(0,)  : w11, w10, w27, w26, w28, w29, w1, w2, w0, w3\n",
      "(1,)  : w19, w18, w27, w28, w29, w26, w1, w0, w10, w2\n",
      "(2,)  : w2, w3, w26, w27, w29, w28, w1, w0, w18, w10\n",
      "(0, 0): w17, w16, w21, w29, w24, w27, w28, w23, w9, w6\n",
      "(0, 1): w15, w14, w21, w24, w26, w25, w8, w5, w9, w7\n",
      "(0, 2): w13, w12, w21, w25, w28, w7, w9, w4, w27, w8\n",
      "(1, 0): w20, w21, w9, w17, w6, w12, w15, w7, w5, w29\n",
      "(1, 1): w24, w25, w7, w9, w28, w12, w4, w15, w5, w26\n",
      "(1, 2): w23, w22, w7, w12, w28, w9, w27, w17, w4, w15\n",
      "(2, 0): w6, w7, w25, w20, w15, w26, w22, w12, w27, w29\n",
      "(2, 1): w8, w9, w16, w24, w23, w13, w14, w15, w27, w26\n",
      "(2, 2): w4, w5, w25, w16, w22, w26, w12, w14, w20, w21\n"
     ]
    },
    {
     "name": "stderr",
     "output_type": "stream",
     "text": [
      "\n"
     ]
    }
   ],
   "source": [
    "model.fit(data)\n",
    "top_words = model.get_top_words_by_node(num_words = 10)\n",
    "model.print_top_words_by_node(num_words = 10);"
   ]
  },
  {
   "cell_type": "code",
   "execution_count": 19,
   "metadata": {},
   "outputs": [],
   "source": [
    "topic_vectors = model.get_expected_topic_vectors()\n",
    "init_topics = mean_dirichlet(model.stats_by_epoch[0][\"var_params_DV\"])"
   ]
  },
  {
   "cell_type": "code",
   "execution_count": 20,
   "metadata": {},
   "outputs": [
    {
     "data": {
      "image/png": "[encoded data removed]",
      "text/plain": [
       "<matplotlib.figure.Figure at 0x10a9d90b8>"
      ]
     },
     "metadata": {},
     "output_type": "display_data"
    }
   ],
   "source": [
    "fig, ax = plt.subplots()\n",
    "for i in range(len(model.nodes)):\n",
    "    style = {\"linestyle\": \"-\", \"color\": \"b\"}\n",
    "    if not lda_mode:\n",
    "        style[\"alpha\"] = depth_opacities[len(model.nodes[i])]\n",
    "    current_topic = mean_dirichlet(init_topics[i,:])\n",
    "    ax.plot(current_topic, **style)\n",
    "ax.set_title(\"Topic initialization\")\n",
    "ax.set_xlabel(\"Vocab word\")\n",
    "ax.set_ylabel(\"Probability\")\n",
    "ax.set_ylim(0, None)\n",
    "None"
   ]
  },
  {
   "cell_type": "code",
   "execution_count": 21,
   "metadata": {},
   "outputs": [
    {
     "data": {
      "image/png": "[encoded data removed]",
      "text/plain": [
       "<matplotlib.figure.Figure at 0x10abea668>"
      ]
     },
     "metadata": {},
     "output_type": "display_data"
    }
   ],
   "source": [
    "fig, ax = plt.subplots()\n",
    "for i in range(len(model.nodes)):\n",
    "    style = {\"linestyle\": \"-\", \"color\": \"b\"}\n",
    "    if not lda_mode:\n",
    "        style[\"alpha\"] = depth_opacities[len(model.nodes[i])]\n",
    "    ax.plot(topic_vectors[i,:], **style)\n",
    "ax.set_title(\"Estimated topics\")\n",
    "ax.set_xlabel(\"Vocab word\")\n",
    "ax.set_ylabel(\"Probability\")\n",
    "ax.set_ylim(0, None)\n",
    "None"
   ]
  },
  {
   "cell_type": "code",
   "execution_count": 22,
   "metadata": {},
   "outputs": [],
   "source": [
    "def leaves_to_hierarchy(topics_by_leaf):\n",
    "    num_leaves = topics_by_leaf.shape[0]\n",
    "    vocab_size = topics_by_leaf.shape[1]\n",
    "    root = topics_by_leaf[0, :].copy()\n",
    "    for i in range(1, num_leaves):\n",
    "        root = np.minimum(root, topics_by_leaf[i, :])\n",
    "\n",
    "    new_topics_by_leaf = topics_by_leaf.copy()\n",
    "    for i in range(num_leaves):\n",
    "        new_topics_by_leaf[i, :] -= root\n",
    "\n",
    "    # Last step: normalize all vectors\n",
    "    root /= np.sum(root)\n",
    "    new_topics_by_leaf /= np.sum(new_topics_by_leaf, axis=-1, keepdims=True)\n",
    "\n",
    "    return np.concatenate([root[np.newaxis, :], new_topics_by_leaf], axis=0)"
   ]
  },
  {
   "cell_type": "code",
   "execution_count": 23,
   "metadata": {},
   "outputs": [],
   "source": [
    "if lda_mode:\n",
    "    topic_vectors_new = leaves_to_hierarchy(topic_vectors)"
   ]
  },
  {
   "cell_type": "code",
   "execution_count": 24,
   "metadata": {},
   "outputs": [
    {
     "data": {
      "image/png": "[encoded data removed]",
      "text/plain": [
       "<matplotlib.figure.Figure at 0x10ac43048>"
      ]
     },
     "metadata": {},
     "output_type": "display_data"
    }
   ],
   "source": [
    "ax_shape = np.array([1,3]) if lda_mode else np.array([1,2])\n",
    "fig, ax = plt.subplots(*ax_shape, figsize=4*ax_shape[::-1])\n",
    "ax[0].imshow(sim.topics_by_index);\n",
    "ax[0].set_title(\"True topics\");\n",
    "ax[0].axis('off');\n",
    "ax[1].imshow(topic_vectors);\n",
    "ax[1].set_title(\"Estimated topics\");\n",
    "ax[1].axis('off');\n",
    "if lda_mode:\n",
    "    ax[2].imshow(topic_vectors_new);\n",
    "    ax[2].set_title(\"Estimated topics,\\npost-processed\");\n",
    "    ax[2].axis('off');"
   ]
  },
  {
   "cell_type": "code",
   "execution_count": 25,
   "metadata": {},
   "outputs": [
    {
     "data": {
      "image/png": "[encoded data removed]",
      "text/plain": [
       "<matplotlib.figure.Figure at 0x10ac32be0>"
      ]
     },
     "metadata": {},
     "output_type": "display_data"
    },
    {
     "data": {
      "image/png": "[encoded data removed]",
      "text/plain": [
       "<matplotlib.figure.Figure at 0x10ac32c88>"
      ]
     },
     "metadata": {},
     "output_type": "display_data"
    }
   ],
   "source": [
    "plt.figure().gca().imshow(sim.topics_by_index);\n",
    "plt.figure().gca().imshow(init_topics);"
   ]
  },
  {
   "cell_type": "code",
   "execution_count": 26,
   "metadata": {},
   "outputs": [],
   "source": [
    "from param_stats import find_structural_permutation, find_flat_permutation"
   ]
  },
  {
   "cell_type": "code",
   "execution_count": 27,
   "metadata": {},
   "outputs": [
    {
     "data": {
      "text/plain": [
       "array([ 0,  9, 12, 10, 11,  1,  4,  3,  2,  5,  6,  8,  7])"
      ]
     },
     "execution_count": 27,
     "metadata": {},
     "output_type": "execute_result"
    }
   ],
   "source": [
    "zzz = find_structural_permutation(true_topics = sim.topics_by_index, est_topics = init_topics, paths = paths)\n",
    "zzz"
   ]
  },
  {
   "cell_type": "code",
   "execution_count": 28,
   "metadata": {},
   "outputs": [],
   "source": [
    "#zzz = find_flat_permutation(true_topics = sim.topics_by_index, est_topics = init_topics)\n",
    "#zzz = np.array([0, 9, 10, 11, 12, 1, 4, 3, 2, 5, 6, 8, 7])\n",
    "#zzz"
   ]
  },
  {
   "cell_type": "code",
   "execution_count": 29,
   "metadata": {},
   "outputs": [
    {
     "data": {
      "image/png": "[encoded data removed]",
      "text/plain": [
       "<matplotlib.figure.Figure at 0x10ac52320>"
      ]
     },
     "metadata": {},
     "output_type": "display_data"
    }
   ],
   "source": [
    "fig, ax = plt.subplots(2, 2)\n",
    "ax[0, 0].imshow(sim.topics_by_index)\n",
    "ax[0, 1].axis(\"off\")\n",
    "ax[1, 0].imshow(init_topics[:, :])\n",
    "ax[1, 1].imshow(init_topics[zzz, :])\n",
    "None"
   ]
  },
  {
   "cell_type": "code",
   "execution_count": 30,
   "metadata": {},
   "outputs": [
    {
     "data": {
      "text/plain": [
       "0.0"
      ]
     },
     "execution_count": 30,
     "metadata": {},
     "output_type": "execute_result"
    }
   ],
   "source": [
    "np.max(np.abs(sim.topics_by_index - init_topics[zzz, :]))"
   ]
  },
  {
   "cell_type": "code",
   "execution_count": 31,
   "metadata": {},
   "outputs": [
    {
     "ename": "Exception",
     "evalue": "ENDING EARLY",
     "output_type": "error",
     "traceback": [
      "\u001b[0;31m---------------------------------------------------------------------------\u001b[0m",
      "\u001b[0;31mException\u001b[0m                                 Traceback (most recent call last)",
      "\u001b[0;32m<ipython-input-31-9222deac7fb1>\u001b[0m in \u001b[0;36m<module>\u001b[0;34m()\u001b[0m\n\u001b[0;32m----> 1\u001b[0;31m \u001b[0;32mraise\u001b[0m \u001b[0mException\u001b[0m\u001b[0;34m(\u001b[0m\u001b[0;34m\"ENDING EARLY\"\u001b[0m\u001b[0;34m)\u001b[0m\u001b[0;34m\u001b[0m\u001b[0m\n\u001b[0m",
      "\u001b[0;31mException\u001b[0m: ENDING EARLY"
     ]
    }
   ],
   "source": [
    "raise Exception(\"ENDING EARLY\")"
   ]
  },
  {
   "cell_type": "code",
   "execution_count": null,
   "metadata": {},
   "outputs": [],
   "source": [
    "if lda_mode:\n",
    "    fig, ax = plt.subplots()\n",
    "    for i in range(topic_vectors_new.shape[0]):\n",
    "        linestyle = '-' if i == 0 else '--'\n",
    "        ax.plot(topic_vectors_new[i,:], color='b', linestyle=linestyle, alpha=0.3)\n",
    "    ax.set_title(\"Estimated topics, post-processed\")\n",
    "    ax.set_xlabel(\"Vocab word\")\n",
    "    ax.set_ylabel(\"Probability\")\n",
    "    ax.set_ylim(0, None)"
   ]
  },
  {
   "cell_type": "code",
   "execution_count": null,
   "metadata": {},
   "outputs": [],
   "source": [
    "fig, ax = plt.subplots()\n",
    "ax.plot(model.get_stats_by_epoch(\"epoch_index\"), model.get_stats_by_epoch(\"ELBO\"))\n",
    "ax.set_xlabel(\"Epoch\")\n",
    "ax.set_ylabel(\"ELBO\")\n",
    "print(\"Max ELBO: {:.2f}\".format(np.max(model.get_stats_by_epoch(\"ELBO\", include_init=False))))\n",
    "None"
   ]
  },
  {
   "cell_type": "code",
   "execution_count": null,
   "metadata": {},
   "outputs": [],
   "source": [
    "elbo_history = model.get_stats_by_epoch(\"ELBO\", include_init = False)\n",
    "diffs = elbo_history[1:] - elbo_history[:-1]\n",
    "decrease_indices = (diffs < 0).nonzero()[0]\n",
    "if decrease_indices.size > 0:\n",
    "    print(\"Found decreasing ELBO at {} time steps\".format(len(decrease_indices)))\n",
    "else:\n",
    "    print(\"ELBO never decreased\")"
   ]
  },
  {
   "cell_type": "code",
   "execution_count": null,
   "metadata": {
    "scrolled": false
   },
   "outputs": [],
   "source": [
    "topic_diffs_over_time = []\n",
    "for stats in model.stats_by_epoch:\n",
    "    current_topics = mean_dirichlet(stats[\"var_params_DV\"])\n",
    "    diff = topic_difference(true_topics = sim.topics_by_index, est_topics = current_topics, paths = paths)\n",
    "    topic_diffs_over_time.append(diff)"
   ]
  },
  {
   "cell_type": "code",
   "execution_count": null,
   "metadata": {},
   "outputs": [],
   "source": [
    "fig, ax = plt.subplots()\n",
    "ax.plot(model.get_stats_by_epoch(\"epoch_index\"), topic_diffs_over_time);\n",
    "ax.set_xlabel(\"Epoch\")\n",
    "ax.set_ylabel(\"Difference relative to true topics\")\n",
    "ax.set_ylim(0, 1.1 * np.max(topic_diffs_over_time))\n",
    "None"
   ]
  },
  {
   "cell_type": "code",
   "execution_count": null,
   "metadata": {},
   "outputs": [],
   "source": [
    "var_params = dict()\n",
    "for name in model.update_order:\n",
    "    var_params[name] = model.get_stats_by_epoch(\"var_params_\" + name)\n",
    "epoch_indices = model.get_stats_by_epoch(\"epoch_index\")"
   ]
  },
  {
   "cell_type": "code",
   "execution_count": null,
   "metadata": {},
   "outputs": [],
   "source": [
    "for name in model.update_order:\n",
    "    print(\"{:2}: {}\".format(name, var_params[name].shape))"
   ]
  },
  {
   "cell_type": "code",
   "execution_count": null,
   "metadata": {},
   "outputs": [],
   "source": [
    "plt.plot(model.get_stats_by_epoch(\"step_size\"));"
   ]
  },
  {
   "cell_type": "code",
   "execution_count": null,
   "metadata": {},
   "outputs": [],
   "source": [
    "plt.plot(mean_dirichlet(var_params[\"DL\"][:, 0, :]));"
   ]
  },
  {
   "cell_type": "code",
   "execution_count": null,
   "metadata": {},
   "outputs": [],
   "source": [
    "fig, ax = plt.subplots()\n",
    "for name in [\"DL\", \"DD\", \"DV\"]:\n",
    "    ax.plot(norm_variance_dirichlet(var_params[name][:, 0, :]),\n",
    "        label = \"Norm of variance for {}[:, 0, :]\".format(name))\n",
    "ax.legend(loc='best')\n",
    "None"
   ]
  },
  {
   "cell_type": "code",
   "execution_count": null,
   "metadata": {},
   "outputs": [],
   "source": [
    "plt.plot(mean_dirichlet(var_params[\"DD\"][:, 0, :]));"
   ]
  },
  {
   "cell_type": "code",
   "execution_count": null,
   "metadata": {
    "scrolled": false
   },
   "outputs": [],
   "source": [
    "for i in range(len(model.nodes)):\n",
    "    fig, ax = plt.subplots()\n",
    "    ax.plot(mean_dirichlet(var_params[\"DV\"][:, i, :]))\n",
    "    ax.set_title(\"Evolution of topic {}\".format(i))\n",
    "    ax.set_xlabel(\"Epoch\")\n",
    "None"
   ]
  },
  {
   "cell_type": "code",
   "execution_count": null,
   "metadata": {},
   "outputs": [],
   "source": [
    "zzz = norm_variance_dirichlet(var_params[\"DV\"][:, 0, :])\n",
    "plt.plot(zzz);"
   ]
  },
  {
   "cell_type": "code",
   "execution_count": null,
   "metadata": {},
   "outputs": [],
   "source": [
    "plt.plot(var_params[\"L\"][:, 0, :]);\n",
    "plt.plot(mean_discrete(var_params[\"L\"][:, 0, :]), 'k.', alpha=0.2);"
   ]
  },
  {
   "cell_type": "code",
   "execution_count": null,
   "metadata": {},
   "outputs": [],
   "source": [
    "plt.plot(var_params[\"D\"][:, 0, :]);\n",
    "plt.plot(mean_discrete(var_params[\"D\"][:, 0, :]), 'k.', alpha=0.2);"
   ]
  },
  {
   "cell_type": "code",
   "execution_count": null,
   "metadata": {},
   "outputs": [],
   "source": [
    "# Compare topic vectors to mean_dirichlet of most recent DV params (values should match)\n",
    "zzz = mean_dirichlet(model.get_stats_by_epoch(\"var_params_DV\")[-1, :, :])\n",
    "np.linalg.norm(topic_vectors - zzz)"
   ]
  },
  {
   "cell_type": "code",
   "execution_count": null,
   "metadata": {},
   "outputs": [],
   "source": [
    "from scipy.stats import beta"
   ]
  },
  {
   "cell_type": "code",
   "execution_count": null,
   "metadata": {},
   "outputs": [],
   "source": [
    "fig, ax = plt.subplots()\n",
    "xx = np.linspace(0,1,1000)\n",
    "yy = beta.pdf(xx, a=sim.alpha_depths[1], b=sim.alpha_depths[0])\n",
    "ax.plot(xx, yy)\n",
    "ax.set_title(\"Distribution of prob(root node)\");"
   ]
  },
  {
   "cell_type": "code",
   "execution_count": null,
   "metadata": {},
   "outputs": [],
   "source": [
    "fig, ax = plt.subplots()\n",
    "xx = np.linspace(0,1,1000)\n",
    "yy = beta.pdf(xx, a=sim.alpha_leaves[1], b=sim.alpha_leaves[0])\n",
    "ax.plot(xx, yy)\n",
    "ax.set_title(\"Distribution of prob(leftmost path)\");"
   ]
  },
  {
   "cell_type": "code",
   "execution_count": null,
   "metadata": {},
   "outputs": [],
   "source": [
    "fig, ax = plt.subplots()\n",
    "ax.hist(mean_dirichlet(model.var_params_DD)[:, 0], normed=True, bins=np.linspace(0,1,20));\n",
    "ax.set_xlim(0, 1);\n",
    "ax.set_title(\"Estimated distribution of prob(root node)\");"
   ]
  },
  {
   "cell_type": "code",
   "execution_count": null,
   "metadata": {},
   "outputs": [],
   "source": [
    "fig, ax = plt.subplots()\n",
    "ax.hist(mean_dirichlet(model.var_params_DL)[:, 0], normed=True, bins=np.linspace(0,1,20));\n",
    "ax.set_xlim(0, 1);\n",
    "ax.set_title(\"Estimated distribution of prob(leftmost path)\");"
   ]
  },
  {
   "cell_type": "code",
   "execution_count": null,
   "metadata": {},
   "outputs": [],
   "source": []
  }
 ],
 "metadata": {
  "kernelspec": {
   "display_name": "Python 3",
   "language": "python",
   "name": "python3"
  },
  "language_info": {
   "codemirror_mode": {
    "name": "ipython",
    "version": 3
   },
   "file_extension": ".py",
   "mimetype": "text/x-python",
   "name": "python",
   "nbconvert_exporter": "python",
   "pygments_lexer": "ipython3",
   "version": "3.5.0"
  }
 },
 "nbformat": 4,
 "nbformat_minor": 1
}
