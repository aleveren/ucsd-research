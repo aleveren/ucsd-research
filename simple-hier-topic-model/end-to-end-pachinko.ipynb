{
 "cells": [
  {
   "cell_type": "code",
   "execution_count": 51,
   "metadata": {},
   "outputs": [],
   "source": [
    "import numpy as np\n",
    "import matplotlib.pyplot as plt\n",
    "import networkx as nx\n",
    "\n",
    "from collections import Counter\n",
    "import sys\n",
    "\n",
    "from utils import nice_tree_plot, niceprint, permute_square, invert_permutation, without_diag\n",
    "from compute_pam import compute_combo_tensor_pam, IndividualNodeAlphaCalc\n",
    "from example_graphs import make_tree\n",
    "from sim_data import PAMSampler, topics_griffiths_steyvers\n",
    "from lda_collapsed_gibbs import CollapsedGibbs\n",
    "from tree_extraction import Aho\n",
    "from tree_extraction.Aho import get_ratio_matrix\n",
    "from alpha_extract import AlphaExtract\n",
    "from param_stats import topic_difference, find_flat_permutation, find_structural_permutation"
   ]
  },
  {
   "cell_type": "code",
   "execution_count": 52,
   "metadata": {},
   "outputs": [
    {
     "name": "stdout",
     "output_type": "stream",
     "text": [
      "M_nips.full_docs.mat            fastRecover.py\r\n",
      "M_nips.full_docs.mat.trunc.mat  gpl-3.0.txt\r\n",
      "Q_matrix.py                     learn_topics.py\r\n",
      "README.txt                      run_analysis.ipynb\r\n",
      "SOURCE.txt                      settings.example\r\n",
      "\u001b[34m__pycache__\u001b[m\u001b[m/                    stopwords.txt\r\n",
      "anchors.py                      truncate_vocabulary.py\r\n",
      "\u001b[34mbackup_data\u001b[m\u001b[m/                    uci_to_scipy.py\r\n",
      "\u001b[31mdemo.sh\u001b[m\u001b[m*                        vocab.nips.txt\r\n",
      "docword.nips.txt                vocab.nips.txt.trunc\r\n"
     ]
    }
   ],
   "source": [
    "ls ../anchor-word-recovery/"
   ]
  },
  {
   "cell_type": "code",
   "execution_count": 53,
   "metadata": {},
   "outputs": [],
   "source": [
    "sys.path.insert(0, '../anchor-word-recovery/')"
   ]
  },
  {
   "cell_type": "code",
   "execution_count": 55,
   "metadata": {},
   "outputs": [],
   "source": [
    "from learn_topics import Analysis as AnchorAnalysis"
   ]
  },
  {
   "cell_type": "code",
   "execution_count": 2,
   "metadata": {},
   "outputs": [],
   "source": [
    "np.random.seed(1)"
   ]
  },
  {
   "cell_type": "markdown",
   "metadata": {},
   "source": [
    "## Outline\n",
    "\n",
    "1. Set up parameters of the model (tree structure, alphas, and topic definitions -- anything else?)\n",
    "2. Compute \"true\" co-occurrence matrix\n",
    "3. Generate some simulated data by sampling from the model\n",
    "  - Parameters: Number of documents, distribution over document sizes\n",
    "4. Compute \"empirical\" co-occurrence matrix (using known per-word-slot topic assignments).  Compare to \"true\" co-occurrence matrix.\n",
    "5. Apply LDA or anchor words to the simulated data -- estimate topics and co-occurrence matrix.  Compare \"estimated\" co-occurrence matrix to \"true\" and \"empirical\" matrices.  Compare \"estimated\" topics to \"true\" topics.\n",
    "  - Parameters: number of topics; any other parameters needed for the chosen topic-estimation algorithm\n",
    "6. Compute ratio matrix\n",
    "7. Derive triplet constraints from ratio matrix\n",
    "8. Apply Aho's algorithm to constraints, producing a tree where each leaf corresponds to a topic.  Compare to \"true\" tree structure.\n",
    "9. Extract alpha parameters from co-occurrence matrix.  Compare to \"true\" alpha parameters.\n",
    "  - Parameters: $\\alpha_{max}$ and $\\delta_{min}$ corresponding to hypothesis class\n",
    "  \n",
    "TODO: Find a way to remove # of topics as a parameter (eg, measure perplexity, and loop over different of # topics)"
   ]
  },
  {
   "cell_type": "code",
   "execution_count": 3,
   "metadata": {},
   "outputs": [],
   "source": [
    "class LDAGibbsTrainer(object):\n",
    "    def __init__(self, num_topics, vocab_size, custom_prior):\n",
    "        self.num_topics = num_topics\n",
    "        self.vocab_size = vocab_size\n",
    "        self.custom_prior = custom_prior\n",
    "        self.collapsed_gibbs = CollapsedGibbs()\n",
    "        \n",
    "    def run(self, corpus):\n",
    "        self.corpus = corpus\n",
    "        self.collapsed_gibbs.fit(\n",
    "            corpus = self.corpus,\n",
    "            num_topics = self.num_topics,\n",
    "            vocab_size = self.vocab_size,\n",
    "            alpha = self.custom_prior,\n",
    "        )\n",
    "        self.topics = self.collapsed_gibbs.topics_by_sample()[-1]\n",
    "        self.cooccur = self.collapsed_gibbs.cooccurrence_by_sample()[-1]\n",
    "        return self.topics, self.cooccur"
   ]
  },
  {
   "cell_type": "code",
   "execution_count": null,
   "metadata": {},
   "outputs": [],
   "source": [
    "# TODO\n",
    "\n",
    "# class AnchorWordsTrainer(object):\n",
    "#     def run(self):\n",
    "#         self.aa = AnchorAnalysis(\n",
    "#             infile = TODO,\n",
    "#             vocabfile = TODO,\n",
    "#             outfile = None,\n",
    "#             loss = \"L2\",\n",
    "#             K = num_topics,\n",
    "#             seed = 100,\n",
    "#             eps = 1e-6,\n",
    "#             new_dim = 1000,\n",
    "#             max_threads = 8,\n",
    "#             anchor_thresh = 100,\n",
    "#             top_words = 10,\n",
    "#         )\n",
    "#         self.aa.run()\n",
    "#         return aa.A, aa.R"
   ]
  },
  {
   "cell_type": "code",
   "execution_count": 4,
   "metadata": {},
   "outputs": [],
   "source": [
    "class Extractor(object):\n",
    "    def __init__(self, topic_trainer, delta_min, alpha_max):\n",
    "        self.topic_trainer = topic_trainer\n",
    "        self.delta_min = delta_min\n",
    "        self.alpha_max = alpha_max\n",
    "    \n",
    "    def run(self, corpus):\n",
    "        self.corpus = corpus\n",
    "        self.topics, self.cooccur = self.topic_trainer.run(self.corpus)\n",
    "        \n",
    "        self.ratio_matrix = get_ratio_matrix(self.cooccur)\n",
    "        self.threshold = self.delta_min / ((1 + self.alpha_max) * (1 + self.alpha_max + self.delta_min))\n",
    "        self.tree = Aho.extract(m = self.ratio_matrix, apply_ratio = False, threshold = self.threshold)\n",
    "        \n",
    "        self.alpha_extract = AlphaExtract(g = self.tree, R = self.cooccur)\n",
    "        self.alphas = self.alpha_extract.extract()\n",
    "        \n",
    "        return self.topics, self.tree, self.alphas"
   ]
  },
  {
   "cell_type": "code",
   "execution_count": 5,
   "metadata": {},
   "outputs": [],
   "source": [
    "def make_short_corpus(docs):\n",
    "    corpus_short = []\n",
    "    for doc in docs:\n",
    "        ctr = Counter(doc)\n",
    "        doc_short = [(k, v) for k, v in ctr.items()]\n",
    "        corpus_short.append(doc_short)\n",
    "    return corpus_short"
   ]
  },
  {
   "cell_type": "code",
   "execution_count": 6,
   "metadata": {},
   "outputs": [],
   "source": [
    "def compute_empirical_cooccur(sampler, leaf_to_index):\n",
    "    num_topics = len(sampler.topics)\n",
    "    p = np.zeros((num_topics, num_topics), dtype='float')\n",
    "    for node_selections in sampler.doc_nodes:\n",
    "        theta = np.zeros(num_topics, dtype='float')\n",
    "        counter = Counter(node_selections)\n",
    "        for node, count in counter.items():\n",
    "            theta[leaf_to_index[node]] += count\n",
    "        theta /= theta.sum()\n",
    "        p += np.outer(theta, theta)\n",
    "    p /= p.sum()\n",
    "    return p"
   ]
  },
  {
   "cell_type": "code",
   "execution_count": 56,
   "metadata": {},
   "outputs": [],
   "source": [
    "class Analysis(object):\n",
    "    def __init__(self, leaf_to_index, sampler, extractor):\n",
    "        self.leaf_to_index = leaf_to_index\n",
    "        self.sampler = sampler\n",
    "        self.extractor = extractor\n",
    "    \n",
    "    def run(self):\n",
    "        if hasattr(self.sampler, \"alpha_calc\"):\n",
    "            self.true_cooccur = compute_combo_tensor_pam(g = self.sampler.g, alpha = self.sampler.alpha_calc)\n",
    "        else:\n",
    "            print(\"Skipping true_cooccur calculation\")\n",
    "            self.true_cooccur = None\n",
    "        \n",
    "        # Generate data\n",
    "        self.sampler.sample()\n",
    "        \n",
    "        self.emp_cooccur = compute_empirical_cooccur(sampler = self.sampler, leaf_to_index = self.leaf_to_index)\n",
    "        self.corpus = make_short_corpus(self.sampler.docs)\n",
    "        \n",
    "        # Extract tree & other parameters from data\n",
    "        self.topics, self.tree, self.alphas = self.extractor.run(self.corpus)\n",
    "        return self.topics, self.tree, self.alphas"
   ]
  },
  {
   "cell_type": "code",
   "execution_count": 8,
   "metadata": {},
   "outputs": [],
   "source": [
    "def make_alpha_func(g, alpha_dict):\n",
    "    child_mapper = {n: [np.array(alpha_dict[c]) for c in g.neighbors(n)]\n",
    "                    for n in g.nodes() if g.out_degree(n) > 0}\n",
    "    def f(node):\n",
    "        return child_mapper[node]\n",
    "    return f"
   ]
  },
  {
   "cell_type": "code",
   "execution_count": 9,
   "metadata": {},
   "outputs": [],
   "source": [
    "branching_factors = [2, 2, 2]\n",
    "num_true_topics = np.prod(branching_factors)  # number of topics with which to generate data\n",
    "\n",
    "N = 1000  # number of documents to generate\n",
    "M = 200  # number of words per document\n",
    "V = 100  # number of words in vocabulary\n",
    "dim = 10  # size of \"square\" to use in defining topics\n",
    "assert dim ** 2 == V\n",
    "\n",
    "true_tree = make_tree(branching_factors)\n",
    "index_to_leaf = [x for x in true_tree.nodes() if true_tree.out_degree(x) == 0]\n",
    "leaf_to_index = {leaf: idx for idx, leaf in enumerate(index_to_leaf)}\n",
    "\n",
    "true_topics = topics_griffiths_steyvers(num_topics = num_true_topics, dimension = dim)\n",
    "def topic_func(node):\n",
    "    return true_topics[leaf_to_index[node], :]\n",
    "\n",
    "true_alphas = {\n",
    "    1: 1.5,\n",
    "    2: 1.5,\n",
    "    3: 2.0,\n",
    "    4: 2.0,\n",
    "    5: 2.0,\n",
    "    6: 2.0,\n",
    "    7: 1.0,\n",
    "    8: 1.0,\n",
    "    9: 1.0,\n",
    "    10: 1.0,\n",
    "    11: 1.0,\n",
    "    12: 1.0,\n",
    "    13: 1.0,\n",
    "    14: 1.0,\n",
    "}\n",
    "alpha_func = make_alpha_func(true_tree, true_alphas)\n",
    "\n",
    "# ======= Main user-selected parameters for training & extraction =======\n",
    "num_topics_to_train = num_true_topics\n",
    "delta_min = 0.1\n",
    "alpha_max = 10.0\n",
    "custom_prior = 1.3 ** np.arange(len(index_to_leaf))[::-1]\n",
    "# =======================================================================\n",
    "\n",
    "sampler = PAMSampler(\n",
    "    g = true_tree,\n",
    "    num_docs = N,\n",
    "    words_per_doc = M,\n",
    "    vocab_size = V,\n",
    "    alpha_func = alpha_func,\n",
    "    topic_func = topic_func,\n",
    ")\n",
    "sampler.alpha_calc = IndividualNodeAlphaCalc(tree = true_tree, values = true_alphas)\n",
    "train = LDAGibbsTrainer(\n",
    "    num_topics = num_topics_to_train,\n",
    "    vocab_size = V,\n",
    "    custom_prior = custom_prior,\n",
    ")\n",
    "ex = Extractor(\n",
    "    topic_trainer = train,\n",
    "    delta_min = delta_min,\n",
    "    alpha_max = alpha_max,\n",
    ")\n",
    "a = Analysis(\n",
    "    leaf_to_index = leaf_to_index,\n",
    "    sampler = sampler,\n",
    "    extractor = ex,\n",
    ")"
   ]
  },
  {
   "cell_type": "code",
   "execution_count": 10,
   "metadata": {
    "scrolled": true
   },
   "outputs": [
    {
     "name": "stderr",
     "output_type": "stream",
     "text": [
      "100%|██████████| 1000/1000 [00:29<00:00, 34.14it/s]\n",
      "Initializing: 100%|██████████| 1000/1000 [00:13<00:00, 76.62it/s]\n",
      "Training: 100%|█████████▉| 2010/2010 [7:13:34<00:00, 12.94s/it]     \n"
     ]
    }
   ],
   "source": [
    "a.run();"
   ]
  },
  {
   "cell_type": "markdown",
   "metadata": {},
   "source": [
    "## Display results"
   ]
  },
  {
   "cell_type": "code",
   "execution_count": 11,
   "metadata": {},
   "outputs": [
    {
     "data": {
      "image/png": "[encoded data removed]",
      "text/plain": [
       "<Figure size 1008x432 with 2 Axes>"
      ]
     },
     "metadata": {},
     "output_type": "display_data"
    }
   ],
   "source": [
    "fig, ax = plt.subplots(1, 2, figsize=(14, 6))\n",
    "ax[0].imshow(true_topics)\n",
    "ax[0].axis('off')\n",
    "ax[1].imshow(a.topics)\n",
    "ax[1].axis('off')\n",
    "None"
   ]
  },
  {
   "cell_type": "code",
   "execution_count": 12,
   "metadata": {},
   "outputs": [
    {
     "data": {
      "image/png": "[encoded data removed]",
      "text/plain": [
       "<Figure size 1008x432 with 2 Axes>"
      ]
     },
     "metadata": {},
     "output_type": "display_data"
    }
   ],
   "source": [
    "fig, ax = plt.subplots(1, 2, figsize=(14, 6))\n",
    "nice_tree_plot(true_tree, ax[0])\n",
    "nice_tree_plot(a.tree, ax[1])"
   ]
  },
  {
   "cell_type": "code",
   "execution_count": 13,
   "metadata": {},
   "outputs": [
    {
     "name": "stdout",
     "output_type": "stream",
     "text": [
      "{1: 1.5, 2: 1.5, 3: 2.0, 4: 2.0, 5: 2.0, 6: 2.0, 7: 1.0, 8: 1.0, 9: 1.0, 10: 1.0, 11: 1.0, 12: 1.0, 13: 1.0, 14: 1.0}\n",
      "{IN(2): 8.317296292739575, IN(0): 3.3438543871692095, 0: 2.3352889504735637, 5: 1.7958222941027162, IN(1): 2.2633347182174886, 6: 2.643416922147241, 7: 2.172242668405487, IN(5): 4.534061385155974, IN(3): 1.5227353634084448, 1: 1.0179802287631523, 4: 0.8591288009089929, IN(4): 1.3829970412063088, 2: 1.2302187414493038, 3: 1.1929474864509093}\n"
     ]
    }
   ],
   "source": [
    "print(true_alphas)\n",
    "print(a.alphas)"
   ]
  },
  {
   "cell_type": "code",
   "execution_count": 43,
   "metadata": {},
   "outputs": [
    {
     "data": {
      "image/png": "[encoded data removed]",
      "text/plain": [
       "<Figure size 360x1080 with 3 Axes>"
      ]
     },
     "metadata": {},
     "output_type": "display_data"
    }
   ],
   "source": [
    "# Plot cooccurrence matrices\n",
    "specs = [\n",
    "    dict(name='true', cooccur=a.true_cooccur),\n",
    "    dict(name='emp', cooccur=a.emp_cooccur),\n",
    "    dict(name='est', cooccur=a.extractor.cooccur),\n",
    "]\n",
    "\n",
    "vmin=0.0\n",
    "vmax=np.max([np.max(s[\"cooccur\"]) for s in specs])\n",
    "\n",
    "fig, ax = plt.subplots(len(specs), 1, figsize=(5, 5*len(specs)))\n",
    "for i, spec in enumerate(specs):\n",
    "    ax[i].imshow(spec[\"cooccur\"], vmin=vmin, vmax=vmax)\n",
    "    ax[i].axis('off')\n",
    "    ax[i].set_title(spec[\"name\"])"
   ]
  },
  {
   "cell_type": "markdown",
   "metadata": {},
   "source": [
    "## Save results"
   ]
  },
  {
   "cell_type": "code",
   "execution_count": 16,
   "metadata": {},
   "outputs": [],
   "source": [
    "import datetime\n",
    "import pickle"
   ]
  },
  {
   "cell_type": "code",
   "execution_count": 19,
   "metadata": {},
   "outputs": [],
   "source": [
    "def save_results(a, filename):\n",
    "    timestamp = datetime.datetime.now().strftime('%Y-%m-%d_at_%H-%M-%S')\n",
    "    filename = filename.replace('.pkl', '_' + timestamp + '.pkl')\n",
    "    print(\"Saving to {}\".format(filename))\n",
    "    obj = {\n",
    "        'timestamp': timestamp,\n",
    "        'true_tree_leaf_to_index': a.leaf_to_index,\n",
    "        'corpus': a.extractor.corpus,\n",
    "        'true_num_topics': len(a.sampler.topics),\n",
    "        'est_num_topics': a.extractor.topics.shape[0],\n",
    "        'true_topics': a.sampler.topics,\n",
    "        'est_topics': a.extractor.topics,\n",
    "        'true_tree': a.sampler.g,\n",
    "        'est_tree': a.extractor.tree,\n",
    "        'true_cooccur': a.true_cooccur,\n",
    "        'emp_cooccur': a.emp_cooccur,\n",
    "        'est_cooccur': a.extractor.cooccur,\n",
    "        'true_alphas': a.sampler.alphas,\n",
    "        'est_alphas': a.extractor.alphas,\n",
    "    }\n",
    "    with open(filename, 'wb') as f:\n",
    "        pickle.dump(obj, f)"
   ]
  },
  {
   "cell_type": "code",
   "execution_count": 21,
   "metadata": {},
   "outputs": [
    {
     "name": "stdout",
     "output_type": "stream",
     "text": [
      "Saving to results/results_2019-05-03_at_09-22-17.pkl\n"
     ]
    }
   ],
   "source": [
    "save_results(a, 'results/results.pkl')"
   ]
  },
  {
   "cell_type": "markdown",
   "metadata": {},
   "source": [
    "## Find permutation that maps estimated topics to true topics"
   ]
  },
  {
   "cell_type": "code",
   "execution_count": 26,
   "metadata": {},
   "outputs": [
    {
     "data": {
      "text/plain": [
       "array([0, 5, 7, 6, 2, 3, 1, 4])"
      ]
     },
     "execution_count": 26,
     "metadata": {},
     "output_type": "execute_result"
    }
   ],
   "source": [
    "perm = find_flat_permutation(true_topics=true_topics, est_topics=a.topics)\n",
    "perm"
   ]
  },
  {
   "cell_type": "code",
   "execution_count": 44,
   "metadata": {},
   "outputs": [
    {
     "data": {
      "image/png": "[encoded data removed]",
      "text/plain": [
       "<Figure size 432x288 with 1 Axes>"
      ]
     },
     "metadata": {},
     "output_type": "display_data"
    }
   ],
   "source": [
    "fig, ax = plt.subplots()\n",
    "ax.imshow(a.topics[perm, :])\n",
    "ax.axis('off')\n",
    "None"
   ]
  },
  {
   "cell_type": "code",
   "execution_count": 30,
   "metadata": {},
   "outputs": [],
   "source": [
    "est_cooccur_permuted = permute_square(X = a.extractor.cooccur, perm = perm)"
   ]
  },
  {
   "cell_type": "code",
   "execution_count": 49,
   "metadata": {},
   "outputs": [
    {
     "data": {
      "image/png": "[encoded data removed]",
      "text/plain": [
       "<Figure size 432x288 with 1 Axes>"
      ]
     },
     "metadata": {},
     "output_type": "display_data"
    }
   ],
   "source": [
    "fig, ax = plt.subplots()\n",
    "ax.imshow(est_cooccur_permuted, vmin=vmin, vmax=vmax)\n",
    "ax.axis('off')\n",
    "None"
   ]
  },
  {
   "cell_type": "code",
   "execution_count": 50,
   "metadata": {},
   "outputs": [
    {
     "data": {
      "image/png": "[encoded data removed]",
      "text/plain": [
       "<Figure size 432x288 with 1 Axes>"
      ]
     },
     "metadata": {},
     "output_type": "display_data"
    }
   ],
   "source": [
    "est_ratio_permuted = get_ratio_matrix(est_cooccur_permuted)\n",
    "\n",
    "fig, ax = plt.subplots()\n",
    "ax.imshow(without_diag(est_ratio_permuted))\n",
    "ax.axis('off')\n",
    "None"
   ]
  },
  {
   "cell_type": "code",
   "execution_count": 39,
   "metadata": {},
   "outputs": [
    {
     "data": {
      "image/png": "[encoded data removed]",
      "text/plain": [
       "<Figure size 432x288 with 1 Axes>"
      ]
     },
     "metadata": {},
     "output_type": "display_data"
    }
   ],
   "source": [
    "nice_tree_plot(Aho.extract(est_ratio_permuted, apply_ratio=False))"
   ]
  },
  {
   "cell_type": "code",
   "execution_count": null,
   "metadata": {},
   "outputs": [],
   "source": []
  }
 ],
 "metadata": {
  "kernelspec": {
   "display_name": "Python 3",
   "language": "python",
   "name": "python3"
  },
  "language_info": {
   "codemirror_mode": {
    "name": "ipython",
    "version": 3
   },
   "file_extension": ".py",
   "mimetype": "text/x-python",
   "name": "python",
   "nbconvert_exporter": "python",
   "pygments_lexer": "ipython3",
   "version": "3.6.5"
  }
 },
 "nbformat": 4,
 "nbformat_minor": 2
}
