{
 "cells": [
  {
   "cell_type": "code",
   "execution_count": 1,
   "metadata": {},
   "outputs": [],
   "source": [
    "import numpy as np\n",
    "import matplotlib.pyplot as plt\n",
    "import networkx as nx\n",
    "\n",
    "from collections import Counter\n",
    "import sys\n",
    "\n",
    "from utils import nice_tree_plot, niceprint, permute_square, invert_permutation, without_diag\n",
    "from compute_pam import compute_combo_tensor_pam, IndividualNodeAlphaCalc\n",
    "from example_graphs import make_tree\n",
    "from sim_data import PAMSampler, topics_griffiths_steyvers, ensure_anchor_words\n",
    "from lda_collapsed_gibbs import CollapsedGibbs\n",
    "from tree_extraction import Aho\n",
    "from tree_extraction.Aho import get_ratio_matrix\n",
    "from alpha_extract import AlphaExtract\n",
    "from param_stats import topic_difference, find_flat_permutation, find_structural_permutation\n",
    "\n",
    "from end_to_end import Analysis"
   ]
  },
  {
   "cell_type": "code",
   "execution_count": 2,
   "metadata": {},
   "outputs": [],
   "source": [
    "np.random.seed(1)"
   ]
  },
  {
   "cell_type": "markdown",
   "metadata": {},
   "source": [
    "## Outline\n",
    "\n",
    "1. Set up parameters of the model (tree structure, alphas, and topic definitions -- anything else?)\n",
    "2. Compute \"true\" co-occurrence matrix\n",
    "3. Generate some simulated data by sampling from the model\n",
    "  - Parameters: Number of documents, distribution over document sizes\n",
    "4. Compute \"empirical\" co-occurrence matrix (using known per-word-slot topic assignments).  Compare to \"true\" co-occurrence matrix.\n",
    "5. Apply LDA or anchor words to the simulated data -- estimate topics and co-occurrence matrix.  Compare \"estimated\" co-occurrence matrix to \"true\" and \"empirical\" matrices.  Compare \"estimated\" topics to \"true\" topics.\n",
    "  - Parameters: number of topics; any other parameters needed for the chosen topic-estimation algorithm\n",
    "6. Compute ratio matrix\n",
    "7. Derive triplet constraints from ratio matrix\n",
    "8. Apply Aho's algorithm to constraints, producing a tree where each leaf corresponds to a topic.  Compare to \"true\" tree structure.\n",
    "9. Extract alpha parameters from co-occurrence matrix.  Compare to \"true\" alpha parameters.\n",
    "  - Parameters: $\\alpha_{max}$ and $\\delta_{min}$ corresponding to hypothesis class\n",
    "  \n",
    "TODO: Find a way to remove # of topics as a parameter (eg, measure perplexity, and loop over different of # topics)"
   ]
  },
  {
   "cell_type": "code",
   "execution_count": 3,
   "metadata": {},
   "outputs": [],
   "source": [
    "branching_factors = [2, 2, 2]\n",
    "num_true_topics = np.prod(branching_factors)  # number of topics with which to generate data\n",
    "\n",
    "true_tree = make_tree(branching_factors)\n",
    "index_to_leaf = [x for x in true_tree.nodes() if true_tree.out_degree(x) == 0]\n",
    "leaf_to_index = {leaf: idx for idx, leaf in enumerate(index_to_leaf)}"
   ]
  },
  {
   "cell_type": "code",
   "execution_count": 4,
   "metadata": {},
   "outputs": [],
   "source": [
    "# N = 10  # number of documents to generate\n",
    "# M = 20  # number of words per document\n",
    "# V = 25  # number of words in vocabulary\n",
    "# dim = 5  # size of \"square\" to use in defining topics\n",
    "# assert dim ** 2 == V"
   ]
  },
  {
   "cell_type": "code",
   "execution_count": 5,
   "metadata": {},
   "outputs": [],
   "source": [
    "N = 1000  # number of documents to generate\n",
    "M = 200  # number of words per document\n",
    "V = 100  # number of words in vocabulary\n",
    "dim = 10  # size of \"square\" to use in defining topics\n",
    "assert dim ** 2 == V"
   ]
  },
  {
   "cell_type": "code",
   "execution_count": 6,
   "metadata": {},
   "outputs": [],
   "source": [
    "# N = 10000  # number of documents to generate\n",
    "# M = 500  # number of words per document\n",
    "# V = 100  # number of words in vocabulary\n",
    "# dim = 10  # size of \"square\" to use in defining topics\n",
    "# assert dim ** 2 == V"
   ]
  },
  {
   "cell_type": "code",
   "execution_count": 7,
   "metadata": {},
   "outputs": [],
   "source": [
    "true_topics = topics_griffiths_steyvers(num_topics = num_true_topics, dimension = dim)\n",
    "\n",
    "true_topics = ensure_anchor_words(true_topics)"
   ]
  },
  {
   "cell_type": "code",
   "execution_count": 8,
   "metadata": {},
   "outputs": [],
   "source": [
    "true_alphas = {\n",
    "    1: 1.0,                           2: 1.0,\n",
    "    3: 1.0,         4: 1.0,           5: 1.0,           6: 1.0,\n",
    "    7: 1.0, 8: 1.0, 9: 1.0, 10: 1.0, 11: 1.0, 12: 1.0, 13: 1.0, 14: 1.0,\n",
    "}"
   ]
  },
  {
   "cell_type": "code",
   "execution_count": 9,
   "metadata": {},
   "outputs": [],
   "source": [
    "# Main user-selected parameters for training & extraction\n",
    "num_topics_to_train = num_true_topics\n",
    "delta_min = 0.1\n",
    "alpha_max = 10.0\n",
    "custom_prior = 1.3 ** np.arange(len(index_to_leaf))[::-1]"
   ]
  },
  {
   "cell_type": "code",
   "execution_count": 10,
   "metadata": {},
   "outputs": [],
   "source": [
    "# topic_extraction_strategy = \"CollapsedGibbs\"\n",
    "# topic_extraction_params = dict(alpha = custom_prior)"
   ]
  },
  {
   "cell_type": "code",
   "execution_count": 11,
   "metadata": {},
   "outputs": [],
   "source": [
    "topic_extraction_strategy = \"AnchorWords\"\n",
    "topic_extraction_params = dict(\n",
    "    anchor_thresh = 0,\n",
    "    new_dim = 50,\n",
    ")"
   ]
  },
  {
   "cell_type": "code",
   "execution_count": 12,
   "metadata": {},
   "outputs": [],
   "source": [
    "a = Analysis(\n",
    "    # Data generation params:\n",
    "    true_tree = true_tree,\n",
    "    true_alphas = true_alphas,\n",
    "    num_docs = N,\n",
    "    words_per_doc = M,\n",
    "    vocab_size = V,\n",
    "    true_topics = true_topics,\n",
    "    leaf_to_index = leaf_to_index,\n",
    "    # Extraction params:\n",
    "    num_topics_to_train = num_topics_to_train,\n",
    "    delta_min = delta_min,\n",
    "    alpha_max = alpha_max,\n",
    "    topic_extraction_strategy = topic_extraction_strategy,\n",
    "    topic_extraction_params = topic_extraction_params,\n",
    ")"
   ]
  },
  {
   "cell_type": "code",
   "execution_count": 13,
   "metadata": {
    "scrolled": true
   },
   "outputs": [
    {
     "name": "stderr",
     "output_type": "stream",
     "text": [
      "100%|██████████| 1000/1000 [00:24<00:00, 40.32it/s]\n"
     ]
    },
    {
     "name": "stdout",
     "output_type": "stream",
     "text": [
      "Input matrix shape: (100, 1000)\n",
      "identifying candidate anchors\n",
      "100 candidates\n",
      "Sum of entries in Q is  1.0000000000000044\n",
      "Multiplying Q took  0.036557674407958984 seconds\n",
      "Q sum is 1.0000000000000044\n",
      "done reading documents\n",
      "anchors are:\n",
      "0 w81\n",
      "1 w92\n",
      "2 w35\n",
      "3 w40\n",
      "4 w29\n",
      "5 w18\n",
      "6 w43\n",
      "7 w07\n",
      "begin threaded recovery with 8 processors\n",
      "0\t78\t0.9669212708491646\n",
      "done recovering\n",
      "w81 : w21 w81 w91 w51 w71 w41 w61 w01 w31 w85 \n",
      "w92 : w92 w82 w42 w52 w32 w62 w72 w12 w02 w89 \n",
      "w35 : w35 w36 w39 w33 w38 w34 w37 w30 w31 w98 \n",
      "w40 : w40 w70 w10 w90 w50 w60 w80 w20 w30 w44 \n",
      "w29 : w29 w22 w27 w28 w26 w24 w25 w23 w20 w66 \n",
      "w18 : w18 w16 w15 w19 w17 w14 w11 w13 w12 w59 \n",
      "w43 : w43 w53 w73 w93 w63 w83 w03 w13 w23 w97 \n",
      "w07 : w06 w05 w00 w09 w07 w08 w04 w02 w01 w03 \n"
     ]
    }
   ],
   "source": [
    "a.run();"
   ]
  },
  {
   "cell_type": "markdown",
   "metadata": {},
   "source": [
    "## Display results"
   ]
  },
  {
   "cell_type": "code",
   "execution_count": 14,
   "metadata": {},
   "outputs": [
    {
     "data": {
      "image/png": "[encoded data removed]",
      "text/plain": [
       "<Figure size 1008x432 with 2 Axes>"
      ]
     },
     "metadata": {},
     "output_type": "display_data"
    }
   ],
   "source": [
    "fig, ax = plt.subplots(1, 2, figsize=(14, 6))\n",
    "ax[0].imshow(a.true_topics)\n",
    "ax[0].axis('off')\n",
    "ax[1].imshow(a.est_topics)\n",
    "ax[1].axis('off')\n",
    "None"
   ]
  },
  {
   "cell_type": "code",
   "execution_count": 15,
   "metadata": {},
   "outputs": [
    {
     "data": {
      "image/png": "[encoded data removed]",
      "text/plain": [
       "<Figure size 1008x432 with 2 Axes>"
      ]
     },
     "metadata": {},
     "output_type": "display_data"
    }
   ],
   "source": [
    "fig, ax = plt.subplots(1, 2, figsize=(14, 6))\n",
    "nice_tree_plot(a.true_tree, ax[0])\n",
    "nice_tree_plot(a.est_tree, ax[1])"
   ]
  },
  {
   "cell_type": "code",
   "execution_count": 16,
   "metadata": {},
   "outputs": [
    {
     "name": "stdout",
     "output_type": "stream",
     "text": [
      "{1: 1.0, 2: 1.0, 3: 1.0, 4: 1.0, 5: 1.0, 6: 1.0, 7: 1.0, 8: 1.0, 9: 1.0, 10: 1.0, 11: 1.0, 12: 1.0, 13: 1.0, 14: 1.0}\n",
      "{IN(2): 2.418257487882289, IN(0): 1.6245532397890456, 0: 0.9128654915773337, 5: 0.8392677127969929, IN(1): 1.6042259995227914, 3: 0.7675979905284783, 7: 0.75658677638756, IN(5): 2.594571588059812, IN(3): 2.8353627529490613, 1: 0.8046362801381417, 4: 0.7905952730105874, IN(4): 2.7562720158475718, 2: 0.8507127740617113, 6: 0.8268395529221761}\n"
     ]
    }
   ],
   "source": [
    "print(a.true_alphas)\n",
    "print(a.est_alphas)"
   ]
  },
  {
   "cell_type": "code",
   "execution_count": 17,
   "metadata": {},
   "outputs": [
    {
     "data": {
      "image/png": "[encoded data removed]",
      "text/plain": [
       "<Figure size 1080x360 with 3 Axes>"
      ]
     },
     "metadata": {},
     "output_type": "display_data"
    }
   ],
   "source": [
    "specs = [\n",
    "    dict(name=\"True alphas\", tree=a.true_tree, alphas=a.true_alphas),\n",
    "    dict(name=\"Alphas from empirical co-occurrence\", tree=a.emp_tree, alphas=a.emp_alphas),\n",
    "    dict(name=\"Alphas from estimated co-occurrence\", tree=a.est_tree, alphas=a.est_alphas),\n",
    "]\n",
    "fig, ax = plt.subplots(1, len(specs), figsize=(5*len(specs), 5), sharey=True)\n",
    "for i, spec in enumerate(specs):\n",
    "    labels = []\n",
    "    y = []\n",
    "    for _, successors in nx.bfs_successors(spec[\"tree\"], source=spec[\"tree\"].graph[\"root\"]):\n",
    "        for node in successors:\n",
    "            labels.append(str(node))\n",
    "            y.append(spec[\"alphas\"][node])\n",
    "    x = np.arange(len(y))\n",
    "    ax[i].bar(x, y)\n",
    "    ax[i].set_xticks(x)\n",
    "    ax[i].set_xticklabels(labels, rotation=90)\n",
    "    ax[i].set_title(spec[\"name\"])"
   ]
  },
  {
   "cell_type": "code",
   "execution_count": 18,
   "metadata": {},
   "outputs": [
    {
     "data": {
      "image/png": "[encoded data removed]",
      "text/plain": [
       "<Figure size 360x1080 with 3 Axes>"
      ]
     },
     "metadata": {},
     "output_type": "display_data"
    }
   ],
   "source": [
    "# Plot cooccurrence matrices\n",
    "specs = [\n",
    "    dict(name='true', cooccur=a.true_cooccur),\n",
    "    dict(name='emp', cooccur=a.emp_cooccur),\n",
    "    dict(name='est', cooccur=a.est_cooccur),\n",
    "]\n",
    "\n",
    "vmin=0.0\n",
    "vmax=np.max([np.max(s[\"cooccur\"]) for s in specs])\n",
    "\n",
    "fig, ax = plt.subplots(len(specs), 1, figsize=(5, 5*len(specs)))\n",
    "for i, spec in enumerate(specs):\n",
    "    ax[i].imshow(spec[\"cooccur\"], vmin=vmin, vmax=vmax)\n",
    "    ax[i].axis('off')\n",
    "    ax[i].set_title(spec[\"name\"])"
   ]
  },
  {
   "cell_type": "markdown",
   "metadata": {},
   "source": [
    "## Save results"
   ]
  },
  {
   "cell_type": "code",
   "execution_count": 19,
   "metadata": {},
   "outputs": [
    {
     "name": "stdout",
     "output_type": "stream",
     "text": [
      "Saving to results/results_2019-05-10_at_13-19-28.pkl\n"
     ]
    }
   ],
   "source": [
    "a.save('results/results.pkl')"
   ]
  },
  {
   "cell_type": "markdown",
   "metadata": {},
   "source": [
    "## Find permutation that maps estimated topics to true topics"
   ]
  },
  {
   "cell_type": "code",
   "execution_count": 20,
   "metadata": {},
   "outputs": [
    {
     "data": {
      "text/plain": [
       "array([7, 3, 5, 0, 4, 1, 2, 6])"
      ]
     },
     "execution_count": 20,
     "metadata": {},
     "output_type": "execute_result"
    }
   ],
   "source": [
    "perm = find_flat_permutation(true_topics=a.true_topics, est_topics=a.est_topics)\n",
    "perm"
   ]
  },
  {
   "cell_type": "code",
   "execution_count": 21,
   "metadata": {},
   "outputs": [
    {
     "data": {
      "image/png": "[encoded data removed]",
      "text/plain": [
       "<Figure size 432x288 with 1 Axes>"
      ]
     },
     "metadata": {},
     "output_type": "display_data"
    }
   ],
   "source": [
    "fig, ax = plt.subplots()\n",
    "ax.imshow(a.est_topics[perm, :])\n",
    "ax.axis('off')\n",
    "None"
   ]
  },
  {
   "cell_type": "code",
   "execution_count": 22,
   "metadata": {},
   "outputs": [],
   "source": [
    "est_cooccur_permuted = permute_square(X = a.est_cooccur, perm = perm)"
   ]
  },
  {
   "cell_type": "code",
   "execution_count": 23,
   "metadata": {},
   "outputs": [
    {
     "data": {
      "image/png": "[encoded data removed]",
      "text/plain": [
       "<Figure size 1080x360 with 3 Axes>"
      ]
     },
     "metadata": {},
     "output_type": "display_data"
    }
   ],
   "source": [
    "# Plot cooccurrence matrices\n",
    "specs = [\n",
    "    dict(name='True co-occurrence', cooccur=a.true_cooccur),\n",
    "    dict(name='Empirical co-occurrence', cooccur=a.emp_cooccur),\n",
    "    dict(name='Estimated co-occurrence\\n(after relabeling topics)', cooccur=est_cooccur_permuted), \n",
    "]\n",
    "\n",
    "vmin=0.0\n",
    "vmax=np.max([np.max(s[\"cooccur\"]) for s in specs])\n",
    "\n",
    "fig, ax = plt.subplots(1, len(specs), figsize=(5*len(specs), 5))\n",
    "for i, spec in enumerate(specs):\n",
    "    ax[i].imshow(spec[\"cooccur\"], vmin=vmin, vmax=vmax)\n",
    "    ax[i].axis('off')\n",
    "    ax[i].set_title(spec[\"name\"])"
   ]
  },
  {
   "cell_type": "code",
   "execution_count": 24,
   "metadata": {},
   "outputs": [
    {
     "data": {
      "image/png": "[encoded data removed]",
      "text/plain": [
       "<Figure size 432x288 with 1 Axes>"
      ]
     },
     "metadata": {},
     "output_type": "display_data"
    }
   ],
   "source": [
    "est_ratio_permuted = get_ratio_matrix(est_cooccur_permuted)\n",
    "\n",
    "fig, ax = plt.subplots()\n",
    "ax.imshow(without_diag(est_ratio_permuted))\n",
    "ax.axis('off')\n",
    "None"
   ]
  },
  {
   "cell_type": "code",
   "execution_count": 25,
   "metadata": {},
   "outputs": [
    {
     "data": {
      "image/png": "[encoded data removed]",
      "text/plain": [
       "<Figure size 432x288 with 1 Axes>"
      ]
     },
     "metadata": {},
     "output_type": "display_data"
    }
   ],
   "source": [
    "est_tree_permuted = Aho.extract(est_ratio_permuted, apply_ratio=False)\n",
    "nice_tree_plot(est_tree_permuted)"
   ]
  },
  {
   "cell_type": "code",
   "execution_count": 26,
   "metadata": {},
   "outputs": [],
   "source": [
    "constraints_from_est_tree_permuted = Aho.constraints_from_tree(est_tree_permuted)"
   ]
  },
  {
   "cell_type": "code",
   "execution_count": 27,
   "metadata": {},
   "outputs": [],
   "source": [
    "constraints_from_true_tree = Aho.constraints_from_tree(true_tree)\n",
    "constraints_from_true_tree = \\\n",
    "    [Aho.TripletConstraint(leaf_to_index[i], leaf_to_index[j], leaf_to_index[k], s)\n",
    "    for i,j,k,s in constraints_from_true_tree]"
   ]
  },
  {
   "cell_type": "code",
   "execution_count": 28,
   "metadata": {},
   "outputs": [
    {
     "data": {
      "text/plain": [
       "(192, 192)"
      ]
     },
     "execution_count": 28,
     "metadata": {},
     "output_type": "execute_result"
    }
   ],
   "source": [
    "len(constraints_from_est_tree_permuted), len(constraints_from_true_tree)"
   ]
  },
  {
   "cell_type": "code",
   "execution_count": 29,
   "metadata": {},
   "outputs": [
    {
     "name": "stdout",
     "output_type": "stream",
     "text": [
      "Constraints match: True\n"
     ]
    }
   ],
   "source": [
    "constraints_match = sorted(constraints_from_est_tree_permuted) == sorted(constraints_from_true_tree)\n",
    "print(\"Constraints match: {}\".format(constraints_match))\n",
    "assert constraints_match, \"Found mismatch\""
   ]
  },
  {
   "cell_type": "markdown",
   "metadata": {},
   "source": [
    "## Compare results of alpha extraction"
   ]
  },
  {
   "cell_type": "code",
   "execution_count": 30,
   "metadata": {},
   "outputs": [
    {
     "name": "stdout",
     "output_type": "stream",
     "text": [
      "0.00475945156436214\n"
     ]
    },
    {
     "data": {
      "image/png": "[encoded data removed]",
      "text/plain": [
       "<Figure size 432x288 with 2 Axes>"
      ]
     },
     "metadata": {},
     "output_type": "display_data"
    }
   ],
   "source": [
    "zzz = compute_combo_tensor_pam(a.est_tree, alpha=a.est_alphas)\n",
    "\n",
    "print(np.max(np.abs(zzz - a.est_cooccur)))\n",
    "\n",
    "fig, ax = plt.subplots(1, 2)\n",
    "\n",
    "ax[0].imshow(a.est_cooccur, vmin=vmin, vmax=vmax)\n",
    "ax[0].axis('off')\n",
    "ax[0].set_title('est cooccur')\n",
    "\n",
    "ax[1].imshow(zzz, vmin=vmin, vmax=vmax)\n",
    "ax[1].axis('off')\n",
    "ax[1].set_title('est tree + alphas --> cooccur')\n",
    "\n",
    "None"
   ]
  },
  {
   "cell_type": "code",
   "execution_count": 31,
   "metadata": {},
   "outputs": [
    {
     "data": {
      "text/plain": [
       "0.0015715413656715894"
      ]
     },
     "execution_count": 31,
     "metadata": {},
     "output_type": "execute_result"
    },
    {
     "data": {
      "image/png": "[encoded data removed]",
      "text/plain": [
       "<Figure size 432x288 with 2 Axes>"
      ]
     },
     "metadata": {},
     "output_type": "display_data"
    }
   ],
   "source": [
    "zzz = compute_combo_tensor_pam(a.emp_tree, alpha=a.emp_alphas)\n",
    "\n",
    "fig, ax = plt.subplots(1, 2)\n",
    "\n",
    "ax[0].imshow(a.emp_cooccur)\n",
    "ax[0].axis('off')\n",
    "ax[0].set_title('emp cooccur')\n",
    "\n",
    "ax[1].imshow(zzz)\n",
    "ax[1].axis('off')\n",
    "ax[1].set_title('emp tree + alphas --> cooccur')\n",
    "\n",
    "np.max(np.abs(zzz - a.emp_cooccur))"
   ]
  },
  {
   "cell_type": "code",
   "execution_count": 32,
   "metadata": {},
   "outputs": [
    {
     "data": {
      "image/png": "[encoded data removed]",
      "text/plain": [
       "<Figure size 432x288 with 1 Axes>"
      ]
     },
     "metadata": {},
     "output_type": "display_data"
    }
   ],
   "source": [
    "# Empirical estimate of topics\n",
    "plt.imshow(a.emp_topics);"
   ]
  },
  {
   "cell_type": "code",
   "execution_count": 33,
   "metadata": {},
   "outputs": [
    {
     "data": {
      "image/png": "[encoded data removed]",
      "text/plain": [
       "<Figure size 432x288 with 1 Axes>"
      ]
     },
     "metadata": {},
     "output_type": "display_data"
    }
   ],
   "source": [
    "reshaped = np.hstack([x.reshape((dim, dim)) for x in a.true_topics])\n",
    "fig, ax = plt.subplots()\n",
    "ax.imshow(reshaped)\n",
    "ax.axis('off')\n",
    "None"
   ]
  },
  {
   "cell_type": "code",
   "execution_count": 34,
   "metadata": {},
   "outputs": [
    {
     "data": {
      "image/png": "[encoded data removed]",
      "text/plain": [
       "<Figure size 432x288 with 1 Axes>"
      ]
     },
     "metadata": {},
     "output_type": "display_data"
    }
   ],
   "source": [
    "reshaped = np.hstack([x.reshape((dim, dim)) for x in a.emp_topics])\n",
    "fig, ax = plt.subplots()\n",
    "ax.imshow(reshaped)\n",
    "ax.axis('off')\n",
    "None"
   ]
  },
  {
   "cell_type": "code",
   "execution_count": 35,
   "metadata": {},
   "outputs": [
    {
     "data": {
      "image/png": "[encoded data removed]",
      "text/plain": [
       "<Figure size 432x288 with 1 Axes>"
      ]
     },
     "metadata": {},
     "output_type": "display_data"
    }
   ],
   "source": [
    "reshaped = np.hstack([x.reshape((dim, dim)) for x in a.est_topics[perm, :]])\n",
    "fig, ax = plt.subplots()\n",
    "ax.imshow(reshaped)\n",
    "ax.axis('off')\n",
    "None"
   ]
  },
  {
   "cell_type": "markdown",
   "metadata": {},
   "source": [
    "## Sanity-checking alpha-extraction algorithm"
   ]
  },
  {
   "cell_type": "code",
   "execution_count": 39,
   "metadata": {},
   "outputs": [
    {
     "name": "stdout",
     "output_type": "stream",
     "text": [
      "{1: 1.0, 2: 1.0, 3: 1.0, 4: 1.0, 5: 1.0, 6: 1.0, 7: 1.0, 8: 1.0, 9: 1.0, 10: 1.0, 11: 1.0, 12: 1.0, 13: 1.0, 14: 1.0}\n",
      "0.0\n"
     ]
    },
    {
     "data": {
      "image/png": "[encoded data removed]",
      "text/plain": [
       "<Figure size 432x288 with 1 Axes>"
      ]
     },
     "metadata": {},
     "output_type": "display_data"
    },
    {
     "data": {
      "image/png": "[encoded data removed]",
      "text/plain": [
       "<Figure size 432x288 with 1 Axes>"
      ]
     },
     "metadata": {},
     "output_type": "display_data"
    }
   ],
   "source": [
    "alphas_from_true_cooccur = AlphaExtract(a.true_tree, a.true_cooccur).extract()\n",
    "print(alphas_from_true_cooccur)\n",
    "meta_true_cooccur = compute_combo_tensor_pam(a.true_tree, alpha = alphas_from_true_cooccur)\n",
    "plt.figure()\n",
    "plt.imshow(meta_true_cooccur);\n",
    "plt.figure()\n",
    "plt.imshow(a.true_cooccur);\n",
    "\n",
    "print(np.max(np.abs(a.true_cooccur - meta_true_cooccur)))"
   ]
  },
  {
   "cell_type": "code",
   "execution_count": 41,
   "metadata": {},
   "outputs": [
    {
     "data": {
      "image/png": "[encoded data removed]",
      "text/plain": [
       "<Figure size 720x360 with 2 Axes>"
      ]
     },
     "metadata": {},
     "output_type": "display_data"
    }
   ],
   "source": [
    "specs = [\n",
    "    dict(name=\"True alphas\", tree=a.true_tree, alphas=a.true_alphas),\n",
    "    dict(name=\"Alphas from true co-occurrence\", tree=a.true_tree, alphas=alphas_from_true_cooccur),\n",
    "]\n",
    "fig, ax = plt.subplots(1, len(specs), figsize=(5*len(specs), 5), sharey=True)\n",
    "for i, spec in enumerate(specs):\n",
    "    labels = []\n",
    "    y = []\n",
    "    for _, successors in nx.bfs_successors(spec[\"tree\"], source=spec[\"tree\"].graph[\"root\"]):\n",
    "        for node in successors:\n",
    "            labels.append(str(node))\n",
    "            y.append(spec[\"alphas\"][node])\n",
    "    x = np.arange(len(y))\n",
    "    ax[i].bar(x, y)\n",
    "    ax[i].set_xticks(x)\n",
    "    ax[i].set_xticklabels(labels, rotation=90)\n",
    "    ax[i].set_title(spec[\"name\"])"
   ]
  },
  {
   "cell_type": "code",
   "execution_count": null,
   "metadata": {},
   "outputs": [],
   "source": []
  }
 ],
 "metadata": {
  "kernelspec": {
   "display_name": "Python 3",
   "language": "python",
   "name": "python3"
  },
  "language_info": {
   "codemirror_mode": {
    "name": "ipython",
    "version": 3
   },
   "file_extension": ".py",
   "mimetype": "text/x-python",
   "name": "python",
   "nbconvert_exporter": "python",
   "pygments_lexer": "ipython3",
   "version": "3.6.5"
  }
 },
 "nbformat": 4,
 "nbformat_minor": 2
}
