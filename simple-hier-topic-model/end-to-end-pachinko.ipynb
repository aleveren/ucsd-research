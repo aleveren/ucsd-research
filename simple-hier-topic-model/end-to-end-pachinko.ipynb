{
 "cells": [
  {
   "cell_type": "code",
   "execution_count": 1,
   "metadata": {},
   "outputs": [],
   "source": [
    "import numpy as np\n",
    "import matplotlib.pyplot as plt\n",
    "import networkx as nx\n",
    "\n",
    "from collections import Counter\n",
    "import sys\n",
    "\n",
    "from utils import nice_tree_plot, niceprint, permute_square, invert_permutation, without_diag\n",
    "from compute_pam import compute_combo_tensor_pam, IndividualNodeAlphaCalc\n",
    "from example_graphs import make_tree\n",
    "from sim_data import PAMSampler, topics_griffiths_steyvers, ensure_anchor_words\n",
    "from lda_collapsed_gibbs import CollapsedGibbs\n",
    "from tree_extraction import Aho\n",
    "from tree_extraction.Aho import get_ratio_matrix\n",
    "from alpha_extract import AlphaExtract\n",
    "from param_stats import topic_difference, find_flat_permutation, find_structural_permutation\n",
    "\n",
    "from end_to_end import Analysis"
   ]
  },
  {
   "cell_type": "code",
   "execution_count": 2,
   "metadata": {},
   "outputs": [],
   "source": [
    "np.random.seed(1)"
   ]
  },
  {
   "cell_type": "markdown",
   "metadata": {},
   "source": [
    "## Outline\n",
    "\n",
    "1. Set up parameters of the model (tree structure, alphas, and topic definitions -- anything else?)\n",
    "2. Compute \"true\" co-occurrence matrix\n",
    "3. Generate some simulated data by sampling from the model\n",
    "  - Parameters: Number of documents, distribution over document sizes\n",
    "4. Compute \"empirical\" co-occurrence matrix (using known per-word-slot topic assignments).  Compare to \"true\" co-occurrence matrix.\n",
    "5. Apply LDA or anchor words to the simulated data -- estimate topics and co-occurrence matrix.  Compare \"estimated\" co-occurrence matrix to \"true\" and \"empirical\" matrices.  Compare \"estimated\" topics to \"true\" topics.\n",
    "  - Parameters: number of topics; any other parameters needed for the chosen topic-estimation algorithm\n",
    "6. Compute ratio matrix\n",
    "7. Derive triplet constraints from ratio matrix\n",
    "8. Apply Aho's algorithm to constraints, producing a tree where each leaf corresponds to a topic.  Compare to \"true\" tree structure.\n",
    "9. Extract alpha parameters from co-occurrence matrix.  Compare to \"true\" alpha parameters.\n",
    "  - Parameters: $\\alpha_{max}$ and $\\delta_{min}$ corresponding to hypothesis class\n",
    "  \n",
    "TODO: Find a way to remove # of topics as a parameter (eg, measure perplexity, and loop over different of # topics)"
   ]
  },
  {
   "cell_type": "code",
   "execution_count": 3,
   "metadata": {},
   "outputs": [],
   "source": [
    "branching_factors = [2, 2, 2]\n",
    "num_true_topics = np.prod(branching_factors)  # number of topics with which to generate data\n",
    "\n",
    "true_tree = make_tree(branching_factors)\n",
    "index_to_leaf = [x for x in true_tree.nodes() if true_tree.out_degree(x) == 0]\n",
    "leaf_to_index = {leaf: idx for idx, leaf in enumerate(index_to_leaf)}"
   ]
  },
  {
   "cell_type": "code",
   "execution_count": 4,
   "metadata": {},
   "outputs": [],
   "source": [
    "N = 10  # number of documents to generate\n",
    "M = 20  # number of words per document\n",
    "V = 25  # number of words in vocabulary\n",
    "dim = 5  # size of \"square\" to use in defining topics\n",
    "assert dim ** 2 == V"
   ]
  },
  {
   "cell_type": "code",
   "execution_count": 5,
   "metadata": {},
   "outputs": [],
   "source": [
    "# N = 1000  # number of documents to generate\n",
    "# M = 200  # number of words per document\n",
    "# V = 100  # number of words in vocabulary\n",
    "# dim = 10  # size of \"square\" to use in defining topics\n",
    "# assert dim ** 2 == V"
   ]
  },
  {
   "cell_type": "code",
   "execution_count": 6,
   "metadata": {},
   "outputs": [],
   "source": [
    "# N = 5000  # number of documents to generate\n",
    "# M = 500  # number of words per document\n",
    "# V = 100  # number of words in vocabulary\n",
    "# dim = 10  # size of \"square\" to use in defining topics\n",
    "# assert dim ** 2 == V"
   ]
  },
  {
   "cell_type": "code",
   "execution_count": 7,
   "metadata": {},
   "outputs": [],
   "source": [
    "true_topics = topics_griffiths_steyvers(num_topics = num_true_topics, dimension = dim)\n",
    "\n",
    "true_topics = ensure_anchor_words(true_topics)"
   ]
  },
  {
   "cell_type": "code",
   "execution_count": 8,
   "metadata": {},
   "outputs": [],
   "source": [
    "true_alphas = {\n",
    "    1: 1.0,                           2: 1.0,\n",
    "    3: 1.0,         4: 1.0,           5: 1.0,           6: 1.0,\n",
    "    7: 1.0, 8: 1.0, 9: 1.0, 10: 1.0, 11: 1.0, 12: 1.0, 13: 1.0, 14: 1.0,\n",
    "}"
   ]
  },
  {
   "cell_type": "code",
   "execution_count": 9,
   "metadata": {},
   "outputs": [],
   "source": [
    "# Main user-selected parameters for training & extraction\n",
    "num_topics_to_train = num_true_topics\n",
    "delta_min = 0.1\n",
    "alpha_max = 10.0\n",
    "custom_prior = 1.3 ** np.arange(len(index_to_leaf))[::-1]"
   ]
  },
  {
   "cell_type": "code",
   "execution_count": 10,
   "metadata": {},
   "outputs": [],
   "source": [
    "# topic_extraction_strategy = \"CollapsedGibbs\"\n",
    "# topic_extraction_params = dict(alpha = custom_prior)"
   ]
  },
  {
   "cell_type": "code",
   "execution_count": 11,
   "metadata": {},
   "outputs": [],
   "source": [
    "topic_extraction_strategy = \"AnchorWords\"\n",
    "topic_extraction_params = dict()"
   ]
  },
  {
   "cell_type": "code",
   "execution_count": 12,
   "metadata": {},
   "outputs": [],
   "source": [
    "a = Analysis(\n",
    "    # Data generation params:\n",
    "    true_tree = true_tree,\n",
    "    true_alphas = true_alphas,\n",
    "    num_docs = N,\n",
    "    words_per_doc = M,\n",
    "    vocab_size = V,\n",
    "    true_topics = true_topics,\n",
    "    leaf_to_index = leaf_to_index,\n",
    "    # Extraction params:\n",
    "    num_topics_to_train = num_topics_to_train,\n",
    "    delta_min = delta_min,\n",
    "    alpha_max = alpha_max,\n",
    "    topic_extraction_strategy = topic_extraction_strategy,\n",
    "    topic_extraction_params = topic_extraction_params,\n",
    ")"
   ]
  },
  {
   "cell_type": "code",
   "execution_count": 13,
   "metadata": {
    "scrolled": true
   },
   "outputs": [
    {
     "name": "stderr",
     "output_type": "stream",
     "text": [
      "100%|██████████| 10/10 [00:00<00:00, 300.54it/s]"
     ]
    },
    {
     "name": "stdout",
     "output_type": "stream",
     "text": [
      "Input matrix shape: (25, 10)\n",
      "identifying candidate anchors\n",
      "0 candidates\n",
      "Sum of entries in Q is  1.0000000000000002\n",
      "Multiplying Q took  0.005421161651611328 seconds\n",
      "Q sum is 1.0000000000000002\n",
      "done reading documents\n",
      "anchors are:\n",
      "0 w00\n",
      "1 w00\n",
      "2 w00\n",
      "3 w00\n",
      "4 w00\n",
      "5 w00\n",
      "6 w00\n",
      "7 w00\n"
     ]
    },
    {
     "name": "stderr",
     "output_type": "stream",
     "text": [
      "\n"
     ]
    },
    {
     "name": "stdout",
     "output_type": "stream",
     "text": [
      "begin threaded recovery with 8 processors\n",
      "0\t-1\t1.0\n",
      "done recovering\n",
      "w00 : w00 w07 w02 w11 w16 w20 w01 w04 w10 w08 \n",
      "w00 : w07 w02 w11 w16 w20 w04 w01 w15 w10 w08 \n",
      "w00 : w07 w02 w11 w16 w20 w04 w01 w15 w10 w08 \n",
      "w00 : w07 w02 w11 w16 w20 w04 w01 w15 w10 w08 \n",
      "w00 : w07 w02 w11 w16 w20 w04 w01 w15 w10 w08 \n",
      "w00 : w07 w02 w11 w16 w20 w04 w01 w15 w10 w08 \n",
      "w00 : w07 w02 w11 w16 w20 w04 w01 w15 w10 w08 \n",
      "w00 : w07 w02 w11 w16 w20 w04 w01 w15 w10 w08 \n"
     ]
    }
   ],
   "source": [
    "a.run();"
   ]
  },
  {
   "cell_type": "markdown",
   "metadata": {},
   "source": [
    "## Display results"
   ]
  },
  {
   "cell_type": "code",
   "execution_count": 14,
   "metadata": {},
   "outputs": [
    {
     "data": {
      "image/png": "[encoded data removed]",
      "text/plain": [
       "<Figure size 1008x432 with 2 Axes>"
      ]
     },
     "metadata": {},
     "output_type": "display_data"
    }
   ],
   "source": [
    "fig, ax = plt.subplots(1, 2, figsize=(14, 6))\n",
    "ax[0].imshow(a.true_topics)\n",
    "ax[0].axis('off')\n",
    "ax[1].imshow(a.est_topics)\n",
    "ax[1].axis('off')\n",
    "None"
   ]
  },
  {
   "cell_type": "code",
   "execution_count": 15,
   "metadata": {},
   "outputs": [
    {
     "data": {
      "image/png": "[encoded data removed]",
      "text/plain": [
       "<Figure size 1008x432 with 2 Axes>"
      ]
     },
     "metadata": {},
     "output_type": "display_data"
    }
   ],
   "source": [
    "fig, ax = plt.subplots(1, 2, figsize=(14, 6))\n",
    "nice_tree_plot(a.true_tree, ax[0])\n",
    "nice_tree_plot(a.est_tree, ax[1])"
   ]
  },
  {
   "cell_type": "code",
   "execution_count": 16,
   "metadata": {},
   "outputs": [
    {
     "name": "stdout",
     "output_type": "stream",
     "text": [
      "{1: 1.0, 2: 1.0, 3: 1.0, 4: 1.0, 5: 1.0, 6: 1.0, 7: 1.0, 8: 1.0, 9: 1.0, 10: 1.0, 11: 1.0, 12: 1.0, 13: 1.0, 14: 1.0}\n",
      "{0: -328.12858225904455, 1: -250.413183560711, 2: -249.41318356071093, 3: -248.4131835607109, 4: -247.41318356071088, 5: -246.413183560711, 6: -245.4131835607109, 7: -244.41318356071102}\n"
     ]
    }
   ],
   "source": [
    "print(a.true_alphas)\n",
    "print(a.est_alphas)"
   ]
  },
  {
   "cell_type": "code",
   "execution_count": 17,
   "metadata": {},
   "outputs": [
    {
     "data": {
      "image/png": "[encoded data removed]",
      "text/plain": [
       "<Figure size 360x1080 with 3 Axes>"
      ]
     },
     "metadata": {},
     "output_type": "display_data"
    }
   ],
   "source": [
    "# Plot cooccurrence matrices\n",
    "specs = [\n",
    "    dict(name='true', cooccur=a.true_cooccur),\n",
    "    dict(name='emp', cooccur=a.emp_cooccur),\n",
    "    dict(name='est', cooccur=a.est_cooccur),\n",
    "]\n",
    "\n",
    "vmin=0.0\n",
    "vmax=np.max([np.max(s[\"cooccur\"]) for s in specs])\n",
    "\n",
    "fig, ax = plt.subplots(len(specs), 1, figsize=(5, 5*len(specs)))\n",
    "for i, spec in enumerate(specs):\n",
    "    ax[i].imshow(spec[\"cooccur\"], vmin=vmin, vmax=vmax)\n",
    "    ax[i].axis('off')\n",
    "    ax[i].set_title(spec[\"name\"])"
   ]
  },
  {
   "cell_type": "markdown",
   "metadata": {},
   "source": [
    "## Save results"
   ]
  },
  {
   "cell_type": "code",
   "execution_count": 18,
   "metadata": {},
   "outputs": [
    {
     "name": "stdout",
     "output_type": "stream",
     "text": [
      "Saving to results/results_2019-05-09_at_15-44-09.pkl\n"
     ]
    }
   ],
   "source": [
    "a.save('results/results.pkl')"
   ]
  },
  {
   "cell_type": "markdown",
   "metadata": {},
   "source": [
    "## Find permutation that maps estimated topics to true topics"
   ]
  },
  {
   "cell_type": "code",
   "execution_count": 19,
   "metadata": {},
   "outputs": [
    {
     "data": {
      "text/plain": [
       "array([0, 1, 2, 3, 4, 5, 6, 7])"
      ]
     },
     "execution_count": 19,
     "metadata": {},
     "output_type": "execute_result"
    }
   ],
   "source": [
    "perm = find_flat_permutation(true_topics=a.true_topics, est_topics=a.est_topics)\n",
    "perm"
   ]
  },
  {
   "cell_type": "code",
   "execution_count": 20,
   "metadata": {},
   "outputs": [
    {
     "data": {
      "image/png": "[encoded data removed]",
      "text/plain": [
       "<Figure size 432x288 with 1 Axes>"
      ]
     },
     "metadata": {},
     "output_type": "display_data"
    }
   ],
   "source": [
    "fig, ax = plt.subplots()\n",
    "ax.imshow(a.est_topics[perm, :])\n",
    "ax.axis('off')\n",
    "None"
   ]
  },
  {
   "cell_type": "code",
   "execution_count": 21,
   "metadata": {},
   "outputs": [],
   "source": [
    "est_cooccur_permuted = permute_square(X = a.est_cooccur, perm = perm)"
   ]
  },
  {
   "cell_type": "code",
   "execution_count": 22,
   "metadata": {},
   "outputs": [
    {
     "data": {
      "image/png": "[encoded data removed]",
      "text/plain": [
       "<Figure size 432x288 with 1 Axes>"
      ]
     },
     "metadata": {},
     "output_type": "display_data"
    }
   ],
   "source": [
    "fig, ax = plt.subplots()\n",
    "ax.imshow(est_cooccur_permuted, vmin=vmin, vmax=vmax)\n",
    "ax.axis('off')\n",
    "None"
   ]
  },
  {
   "cell_type": "code",
   "execution_count": 23,
   "metadata": {},
   "outputs": [
    {
     "data": {
      "image/png": "[encoded data removed]",
      "text/plain": [
       "<Figure size 432x288 with 1 Axes>"
      ]
     },
     "metadata": {},
     "output_type": "display_data"
    }
   ],
   "source": [
    "est_ratio_permuted = get_ratio_matrix(est_cooccur_permuted)\n",
    "\n",
    "fig, ax = plt.subplots()\n",
    "ax.imshow(without_diag(est_ratio_permuted))\n",
    "ax.axis('off')\n",
    "None"
   ]
  },
  {
   "cell_type": "code",
   "execution_count": 24,
   "metadata": {},
   "outputs": [
    {
     "data": {
      "image/png": "[encoded data removed]",
      "text/plain": [
       "<Figure size 432x288 with 1 Axes>"
      ]
     },
     "metadata": {},
     "output_type": "display_data"
    }
   ],
   "source": [
    "est_tree_permuted = Aho.extract(est_ratio_permuted, apply_ratio=False)\n",
    "nice_tree_plot(est_tree_permuted)"
   ]
  },
  {
   "cell_type": "markdown",
   "metadata": {},
   "source": [
    "## Compare results of alpha extraction"
   ]
  },
  {
   "cell_type": "code",
   "execution_count": 25,
   "metadata": {},
   "outputs": [
    {
     "data": {
      "text/plain": [
       "0.0004310617062610912"
      ]
     },
     "execution_count": 25,
     "metadata": {},
     "output_type": "execute_result"
    },
    {
     "data": {
      "image/png": "[encoded data removed]",
      "text/plain": [
       "<Figure size 432x288 with 2 Axes>"
      ]
     },
     "metadata": {},
     "output_type": "display_data"
    }
   ],
   "source": [
    "zzz = compute_combo_tensor_pam(a.est_tree, alpha=a.est_alphas)\n",
    "\n",
    "fig, ax = plt.subplots(1, 2)\n",
    "\n",
    "ax[0].imshow(a.est_cooccur)\n",
    "ax[0].axis('off')\n",
    "ax[0].set_title('est cooccur')\n",
    "\n",
    "ax[1].imshow(zzz)\n",
    "ax[1].axis('off')\n",
    "ax[1].set_title('est tree + alphas --> cooccur')\n",
    "\n",
    "np.max(np.abs(zzz - est_cooccur_permuted))"
   ]
  },
  {
   "cell_type": "code",
   "execution_count": 26,
   "metadata": {},
   "outputs": [
    {
     "data": {
      "text/plain": [
       "0.09837889746060932"
      ]
     },
     "execution_count": 26,
     "metadata": {},
     "output_type": "execute_result"
    },
    {
     "data": {
      "image/png": "[encoded data removed]",
      "text/plain": [
       "<Figure size 432x288 with 2 Axes>"
      ]
     },
     "metadata": {},
     "output_type": "display_data"
    }
   ],
   "source": [
    "zzz = compute_combo_tensor_pam(a.emp_tree, alpha=a.emp_alphas)\n",
    "\n",
    "fig, ax = plt.subplots(1, 2)\n",
    "\n",
    "ax[0].imshow(a.emp_cooccur)\n",
    "ax[0].axis('off')\n",
    "ax[0].set_title('emp cooccur')\n",
    "\n",
    "ax[1].imshow(zzz)\n",
    "ax[1].axis('off')\n",
    "ax[1].set_title('emp tree + alphas --> cooccur')\n",
    "\n",
    "np.max(np.abs(zzz - a.emp_cooccur))"
   ]
  },
  {
   "cell_type": "code",
   "execution_count": 27,
   "metadata": {},
   "outputs": [
    {
     "data": {
      "image/png": "[encoded data removed]",
      "text/plain": [
       "<Figure size 432x288 with 1 Axes>"
      ]
     },
     "metadata": {},
     "output_type": "display_data"
    }
   ],
   "source": [
    "# Empirical estimate of topics\n",
    "plt.imshow(a.emp_topics);"
   ]
  },
  {
   "cell_type": "code",
   "execution_count": 28,
   "metadata": {},
   "outputs": [
    {
     "data": {
      "image/png": "[encoded data removed]",
      "text/plain": [
       "<Figure size 432x288 with 1 Axes>"
      ]
     },
     "metadata": {},
     "output_type": "display_data"
    }
   ],
   "source": [
    "reshaped = np.hstack([x.reshape((dim, dim)) for x in a.true_topics])\n",
    "fig, ax = plt.subplots()\n",
    "ax.imshow(reshaped)\n",
    "ax.axis('off')\n",
    "None"
   ]
  },
  {
   "cell_type": "code",
   "execution_count": 29,
   "metadata": {},
   "outputs": [
    {
     "data": {
      "image/png": "[encoded data removed]",
      "text/plain": [
       "<Figure size 432x288 with 1 Axes>"
      ]
     },
     "metadata": {},
     "output_type": "display_data"
    }
   ],
   "source": [
    "reshaped = np.hstack([x.reshape((dim, dim)) for x in a.emp_topics])\n",
    "fig, ax = plt.subplots()\n",
    "ax.imshow(reshaped)\n",
    "ax.axis('off')\n",
    "None"
   ]
  },
  {
   "cell_type": "code",
   "execution_count": 30,
   "metadata": {},
   "outputs": [
    {
     "data": {
      "image/png": "[encoded data removed]",
      "text/plain": [
       "<Figure size 432x288 with 1 Axes>"
      ]
     },
     "metadata": {},
     "output_type": "display_data"
    }
   ],
   "source": [
    "reshaped = np.hstack([x.reshape((dim, dim)) for x in a.est_topics[perm, :]])\n",
    "fig, ax = plt.subplots()\n",
    "ax.imshow(reshaped)\n",
    "ax.axis('off')\n",
    "None"
   ]
  },
  {
   "cell_type": "code",
   "execution_count": null,
   "metadata": {},
   "outputs": [],
   "source": []
  }
 ],
 "metadata": {
  "kernelspec": {
   "display_name": "Python 3",
   "language": "python",
   "name": "python3"
  },
  "language_info": {
   "codemirror_mode": {
    "name": "ipython",
    "version": 3
   },
   "file_extension": ".py",
   "mimetype": "text/x-python",
   "name": "python",
   "nbconvert_exporter": "python",
   "pygments_lexer": "ipython3",
   "version": "3.6.5"
  }
 },
 "nbformat": 4,
 "nbformat_minor": 2
}
