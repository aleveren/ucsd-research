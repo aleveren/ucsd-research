{
 "cells": [
  {
   "cell_type": "code",
   "execution_count": 1,
   "metadata": {},
   "outputs": [],
   "source": [
    "import numpy as np\n",
    "import matplotlib.pyplot as plt\n",
    "import networkx as nx\n",
    "import tqdm\n",
    "from scipy.sparse import csr_matrix, csc_matrix, dok_matrix, lil_matrix, coo_matrix\n",
    "from functools import partial\n",
    "\n",
    "from tree_extraction import Aho\n",
    "from compute_pam import compute_combo_tensor, get_alpha\n",
    "from sim_data import HPAM2Sampler\n",
    "from example_graphs import make_tree\n",
    "from utils import bfs_layout"
   ]
  },
  {
   "cell_type": "code",
   "execution_count": 2,
   "metadata": {},
   "outputs": [],
   "source": [
    "import sys, os\n",
    "sys.path.append(os.path.abspath('../anchor-word-recovery/'))"
   ]
  },
  {
   "cell_type": "code",
   "execution_count": 3,
   "metadata": {},
   "outputs": [],
   "source": [
    "from learn_topics import Analysis"
   ]
  },
  {
   "cell_type": "code",
   "execution_count": 41,
   "metadata": {},
   "outputs": [],
   "source": [
    "np.random.seed(1)"
   ]
  },
  {
   "cell_type": "code",
   "execution_count": 42,
   "metadata": {},
   "outputs": [],
   "source": [
    "def nice_tree_plot(t, ax = None, **kwargs):\n",
    "    if ax is None:\n",
    "        _, ax = plt.subplots()\n",
    "    if t is None:\n",
    "        return\n",
    "    draw_kwargs = dict(with_labels=True, pos=bfs_layout(t))\n",
    "    draw_kwargs.update(kwargs)\n",
    "    nx.draw(t, **draw_kwargs)"
   ]
  },
  {
   "cell_type": "code",
   "execution_count": 43,
   "metadata": {},
   "outputs": [],
   "source": [
    "#tree = make_tree([3,3,3])\n",
    "tree = make_tree([3,3])"
   ]
  },
  {
   "cell_type": "code",
   "execution_count": 44,
   "metadata": {
    "scrolled": true
   },
   "outputs": [
    {
     "data": {
      "image/png": "[encoded data removed]",
      "text/plain": [
       "<Figure size 432x288 with 1 Axes>"
      ]
     },
     "metadata": {},
     "output_type": "display_data"
    }
   ],
   "source": [
    "nice_tree_plot(tree)"
   ]
  },
  {
   "cell_type": "markdown",
   "metadata": {},
   "source": [
    "## Extracting a tree from simulated data"
   ]
  },
  {
   "cell_type": "code",
   "execution_count": 45,
   "metadata": {},
   "outputs": [],
   "source": [
    "num_docs = 50000\n",
    "words_per_doc = 20\n",
    "vocab_size = 100\n",
    "topic_dirichlet = 0.1"
   ]
  },
  {
   "cell_type": "code",
   "execution_count": 46,
   "metadata": {},
   "outputs": [],
   "source": [
    "def topic_func(node_id):\n",
    "    topic = np.ones(vocab_size)\n",
    "    topic[node_id % vocab_size] = 20.0\n",
    "    topic /= topic.sum()\n",
    "    return topic\n",
    "\n",
    "#topic_func = None  # Use this line to use random topics instead"
   ]
  },
  {
   "cell_type": "code",
   "execution_count": 47,
   "metadata": {},
   "outputs": [],
   "source": [
    "sampler = HPAM2Sampler(\n",
    "    g = tree,\n",
    "    num_docs = num_docs,\n",
    "    words_per_doc = words_per_doc,\n",
    "    vocab_size = vocab_size,\n",
    "    topic_dirichlet = topic_dirichlet,\n",
    "    topic_func = topic_func)"
   ]
  },
  {
   "cell_type": "code",
   "execution_count": 48,
   "metadata": {},
   "outputs": [
    {
     "name": "stderr",
     "output_type": "stream",
     "text": [
      "100%|██████████| 50000/50000 [01:51<00:00, 447.28it/s]"
     ]
    },
    {
     "name": "stdout",
     "output_type": "stream",
     "text": [
      "CPU times: user 1min 47s, sys: 9.17 s, total: 1min 56s\n",
      "Wall time: 1min 51s\n"
     ]
    },
    {
     "name": "stderr",
     "output_type": "stream",
     "text": [
      "\n"
     ]
    }
   ],
   "source": [
    "%%time\n",
    "sampler.sample(); None"
   ]
  },
  {
   "cell_type": "code",
   "execution_count": 49,
   "metadata": {},
   "outputs": [
    {
     "name": "stderr",
     "output_type": "stream",
     "text": [
      "100%|██████████| 50000/50000 [00:09<00:00, 5217.64it/s]\n"
     ]
    },
    {
     "name": "stdout",
     "output_type": "stream",
     "text": [
      "CPU times: user 9.5 s, sys: 228 ms, total: 9.72 s\n",
      "Wall time: 9.91 s\n"
     ]
    }
   ],
   "source": [
    "%%time\n",
    "data = lil_matrix((sampler.num_docs, sampler.vocab_size), dtype='float')\n",
    "for doc_index, doc in enumerate(tqdm.tqdm(sampler.docs)):\n",
    "    doc = sorted(doc)\n",
    "    for vocab_index in doc:\n",
    "        data[doc_index, vocab_index] += 1\n",
    "data = csr_matrix(data)"
   ]
  },
  {
   "cell_type": "code",
   "execution_count": 50,
   "metadata": {},
   "outputs": [],
   "source": [
    "num_digits = len(str(sampler.vocab_size - 1))\n",
    "vocab = [\"w{:0{}d}\".format(i, num_digits) for i in range(sampler.vocab_size)]"
   ]
  },
  {
   "cell_type": "code",
   "execution_count": 51,
   "metadata": {},
   "outputs": [],
   "source": [
    "K = len(tree.nodes())"
   ]
  },
  {
   "cell_type": "code",
   "execution_count": 52,
   "metadata": {},
   "outputs": [],
   "source": [
    "analysis = Analysis(\n",
    "    infile = data.transpose(),\n",
    "    vocab_file = vocab,\n",
    "    outfile = None,\n",
    "    loss = \"L2\",\n",
    "    K = K,\n",
    "    seed = 100,\n",
    "    eps = 1e-6,\n",
    "    new_dim = 1000,\n",
    "    max_threads = 8,\n",
    "    anchor_thresh = min(int(num_docs * 0.05), 50),\n",
    "    top_words = 10,\n",
    ")"
   ]
  },
  {
   "cell_type": "code",
   "execution_count": 53,
   "metadata": {},
   "outputs": [
    {
     "name": "stdout",
     "output_type": "stream",
     "text": [
      "Input matrix shape: (100, 50000)\n",
      "identifying candidate anchors\n",
      "100 candidates\n",
      "Sum of entries in Q is  0.9999999999999853\n",
      "Multiplying Q took  1.7634549140930176 seconds\n",
      "Q sum is 0.9999999999999853\n",
      "done reading documents\n",
      "anchors are:\n",
      "0 w00\n",
      "1 w05\n",
      "2 w10\n",
      "3 w09\n",
      "4 w01\n",
      "5 w03\n",
      "6 w08\n",
      "7 w12\n",
      "8 w07\n",
      "9 w06\n",
      "10 w11\n",
      "11 w02\n",
      "12 w04\n",
      "begin threaded recovery with 8 processors\n",
      "0\t-1\t1.0\n",
      "done recovering\n",
      "w00 : w00 w20 w54 w28 w88 w64 w45 w67 w86 w38 \n",
      "w05 : w05 w95 w98 w55 w18 w33 w47 w65 w99 w66 \n",
      "w10 : w10 w25 w53 w59 w69 w46 w84 w20 w68 w15 \n",
      "w09 : w09 w18 w91 w84 w70 w69 w67 w19 w99 w20 \n",
      "w01 : w01 w42 w77 w94 w68 w59 w84 w69 w21 w83 \n",
      "w03 : w03 w88 w91 w89 w95 w79 w23 w71 w56 w54 \n",
      "w08 : w08 w38 w82 w32 w24 w21 w98 w97 w29 w17 \n",
      "w12 : w12 w80 w70 w33 w90 w24 w79 w62 w81 w49 \n",
      "w07 : w07 w94 w78 w67 w66 w50 w64 w14 w96 w49 \n",
      "w06 : w06 w36 w19 w24 w22 w51 w83 w90 w92 w27 \n",
      "w11 : w11 w37 w48 w71 w65 w92 w16 w27 w94 w77 \n",
      "w02 : w02 w76 w34 w28 w62 w15 w40 w63 w36 w85 \n",
      "w04 : w04 w72 w53 w48 w49 w61 w69 w43 w35 w64 \n",
      "CPU times: user 2.04 s, sys: 90.2 ms, total: 2.13 s\n",
      "Wall time: 2.51 s\n"
     ]
    }
   ],
   "source": [
    "%%time\n",
    "analysis.run();"
   ]
  },
  {
   "cell_type": "code",
   "execution_count": 54,
   "metadata": {},
   "outputs": [
    {
     "data": {
      "image/png": "[encoded data removed]",
      "text/plain": [
       "<Figure size 432x288 with 1 Axes>"
      ]
     },
     "metadata": {},
     "output_type": "display_data"
    }
   ],
   "source": [
    "topics = np.array([sampler.topics[n] for n in tree.nodes()])\n",
    "plt.imshow(topics);"
   ]
  },
  {
   "cell_type": "code",
   "execution_count": 55,
   "metadata": {},
   "outputs": [
    {
     "data": {
      "image/png": "[encoded data removed]",
      "text/plain": [
       "<Figure size 432x288 with 1 Axes>"
      ]
     },
     "metadata": {},
     "output_type": "display_data"
    }
   ],
   "source": [
    "plt.imshow(analysis.A.T);"
   ]
  },
  {
   "cell_type": "code",
   "execution_count": 56,
   "metadata": {},
   "outputs": [
    {
     "data": {
      "text/plain": [
       "(100, 100)"
      ]
     },
     "execution_count": 56,
     "metadata": {},
     "output_type": "execute_result"
    }
   ],
   "source": [
    "analysis.Q.shape"
   ]
  },
  {
   "cell_type": "code",
   "execution_count": 57,
   "metadata": {},
   "outputs": [
    {
     "data": {
      "text/plain": [
       "(array([1., 1., 1., 1., 1., 1., 1., 1., 1., 1., 1., 1., 1.]),\n",
       " array([0.26480774, 0.29711385, 0.28028654, 0.27658392, 0.290547  ,\n",
       "        0.26201692, 0.24511522, 0.31584677, 0.24837861, 0.2540321 ,\n",
       "        0.26769164, 0.29708893, 0.24147079, 0.10971653, 0.11299858,\n",
       "        0.1103594 , 0.10550671, 0.10719635, 0.10879471, 0.10735048,\n",
       "        0.104118  , 0.10527073, 0.10577155, 0.10878165, 0.10311691,\n",
       "        0.10934768, 0.10818927, 0.11029245, 0.10718727, 0.1094243 ,\n",
       "        0.10955177, 0.11184437, 0.10834499, 0.10694132, 0.10997028,\n",
       "        0.11023182, 0.1091631 , 0.1080407 , 0.1058375 , 0.11032343,\n",
       "        0.10672362, 0.10748175, 0.10773753, 0.11161211, 0.10671951,\n",
       "        0.10613315, 0.11004217, 0.11008049, 0.10800812, 0.10954953,\n",
       "        0.11058642, 0.10658724, 0.10945768, 0.10848623, 0.10548664,\n",
       "        0.10598658, 0.10961105, 0.10827014, 0.11060483, 0.11102165,\n",
       "        0.10711546, 0.10981958, 0.10823578, 0.10864828, 0.10866335,\n",
       "        0.11065166, 0.11233801, 0.10563253, 0.10998717, 0.11010774,\n",
       "        0.10556677, 0.11380883, 0.10988665, 0.10900692, 0.10665051,\n",
       "        0.10727895, 0.10860749, 0.11220769, 0.10966995, 0.11221348,\n",
       "        0.10795825, 0.10973924, 0.10944722, 0.10594847, 0.11066811,\n",
       "        0.10763839, 0.10511195, 0.10934338, 0.10647863, 0.10854419,\n",
       "        0.10679362, 0.10793769, 0.11114822, 0.10890535, 0.1127512 ,\n",
       "        0.1103677 , 0.11406058, 0.10720671, 0.10853056, 0.11048547]))"
      ]
     },
     "execution_count": 57,
     "metadata": {},
     "output_type": "execute_result"
    }
   ],
   "source": [
    "analysis.A.sum(axis=0), analysis.A.sum(axis=1)"
   ]
  },
  {
   "cell_type": "code",
   "execution_count": 69,
   "metadata": {},
   "outputs": [],
   "source": [
    "R = analysis.R"
   ]
  },
  {
   "cell_type": "code",
   "execution_count": 70,
   "metadata": {},
   "outputs": [],
   "source": [
    "# # Undo per-row normalization? (convert conditional -> non-conditional matrix)\n",
    "# R = R.copy() * analysis.topic_likelihoods[:, np.newaxis]"
   ]
  },
  {
   "cell_type": "code",
   "execution_count": 71,
   "metadata": {},
   "outputs": [
    {
     "data": {
      "image/png": "[encoded data removed]",
      "text/plain": [
       "<Figure size 432x288 with 2 Axes>"
      ]
     },
     "metadata": {},
     "output_type": "display_data"
    }
   ],
   "source": [
    "fig, ax = plt.subplots()\n",
    "ax.imshow(R);\n",
    "fig.colorbar(ax.get_images()[0]);"
   ]
  },
  {
   "cell_type": "code",
   "execution_count": 72,
   "metadata": {},
   "outputs": [
    {
     "data": {
      "text/plain": [
       "0.8841285498669085"
      ]
     },
     "execution_count": 72,
     "metadata": {},
     "output_type": "execute_result"
    }
   ],
   "source": [
    "np.max(np.abs(R - R.T))"
   ]
  },
  {
   "cell_type": "code",
   "execution_count": 73,
   "metadata": {},
   "outputs": [
    {
     "data": {
      "text/plain": [
       "(0.30591880696795315, 1.547004017900554)"
      ]
     },
     "execution_count": 73,
     "metadata": {},
     "output_type": "execute_result"
    }
   ],
   "source": [
    "R.min(), R.max()"
   ]
  },
  {
   "cell_type": "code",
   "execution_count": 74,
   "metadata": {},
   "outputs": [
    {
     "data": {
      "text/plain": [
       "85.19257687057393"
      ]
     },
     "execution_count": 74,
     "metadata": {},
     "output_type": "execute_result"
    }
   ],
   "source": [
    "R.sum()"
   ]
  },
  {
   "cell_type": "code",
   "execution_count": 75,
   "metadata": {},
   "outputs": [],
   "source": [
    "C = Aho.get_ratio_matrix(R)"
   ]
  },
  {
   "cell_type": "code",
   "execution_count": 76,
   "metadata": {},
   "outputs": [
    {
     "data": {
      "image/png": "[encoded data removed]",
      "text/plain": [
       "<Figure size 432x288 with 1 Axes>"
      ]
     },
     "metadata": {},
     "output_type": "display_data"
    }
   ],
   "source": [
    "plt.imshow(C);"
   ]
  },
  {
   "cell_type": "code",
   "execution_count": 77,
   "metadata": {},
   "outputs": [],
   "source": [
    "extracted_tree = Aho.extract(C)"
   ]
  },
  {
   "cell_type": "code",
   "execution_count": 78,
   "metadata": {},
   "outputs": [
    {
     "data": {
      "image/png": "[encoded data removed]",
      "text/plain": [
       "<Figure size 1440x288 with 1 Axes>"
      ]
     },
     "metadata": {},
     "output_type": "display_data"
    }
   ],
   "source": [
    "fig, ax = plt.subplots(figsize = (20,4))\n",
    "nice_tree_plot(extracted_tree, ax=ax)"
   ]
  },
  {
   "cell_type": "markdown",
   "metadata": {},
   "source": [
    "* TODO: extract tree from real data\n",
    "* TODO: run the tree-building sequence on the above results"
   ]
  },
  {
   "cell_type": "code",
   "execution_count": 68,
   "metadata": {},
   "outputs": [],
   "source": [
    "# incorrect topics?  (how to map recovered topics onto \"expected\" topics?)\n",
    "#   - topics with too much overlap?  try sparser dirichlet?\n",
    "# or: correct topics but noisy R estimation?  (throwing away too many triplets??)"
   ]
  },
  {
   "cell_type": "code",
   "execution_count": null,
   "metadata": {},
   "outputs": [],
   "source": []
  }
 ],
 "metadata": {
  "kernelspec": {
   "display_name": "Python 3",
   "language": "python",
   "name": "python3"
  },
  "language_info": {
   "codemirror_mode": {
    "name": "ipython",
    "version": 3
   },
   "file_extension": ".py",
   "mimetype": "text/x-python",
   "name": "python",
   "nbconvert_exporter": "python",
   "pygments_lexer": "ipython3",
   "version": "3.6.5"
  }
 },
 "nbformat": 4,
 "nbformat_minor": 2
}
