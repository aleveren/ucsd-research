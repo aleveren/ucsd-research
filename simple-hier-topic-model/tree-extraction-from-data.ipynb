{
 "cells": [
  {
   "cell_type": "code",
   "execution_count": 1,
   "metadata": {},
   "outputs": [],
   "source": [
    "import numpy as np\n",
    "import matplotlib.pyplot as plt\n",
    "import networkx as nx\n",
    "\n",
    "from functools import partial\n",
    "\n",
    "from tree_extraction import Aho\n",
    "from compute_pam import compute_combo_tensor, get_alpha\n",
    "from example_graphs import make_tree\n",
    "from utils import bfs_layout"
   ]
  },
  {
   "cell_type": "code",
   "execution_count": 2,
   "metadata": {},
   "outputs": [],
   "source": [
    "import sys, os\n",
    "sys.path.append(os.path.abspath('../anchor-word-recovery/'))"
   ]
  },
  {
   "cell_type": "code",
   "execution_count": 3,
   "metadata": {},
   "outputs": [],
   "source": [
    "from learn_topics import Analysis, Params"
   ]
  },
  {
   "cell_type": "code",
   "execution_count": 4,
   "metadata": {},
   "outputs": [],
   "source": [
    "def nice_tree_plot(t, ax = None, **kwargs):\n",
    "    if ax is None:\n",
    "        _, ax = plt.subplots()\n",
    "    if t is None:\n",
    "        return\n",
    "    draw_kwargs = dict(with_labels=True, pos=bfs_layout(t))\n",
    "    draw_kwargs.update(kwargs)\n",
    "    nx.draw(t, **draw_kwargs)"
   ]
  },
  {
   "cell_type": "code",
   "execution_count": 5,
   "metadata": {},
   "outputs": [],
   "source": [
    "tree = make_tree([3,3,3])\n",
    "R = compute_combo_tensor(tree, alpha_func = partial(get_alpha, pexit=0.3, scale=1.0))"
   ]
  },
  {
   "cell_type": "code",
   "execution_count": 6,
   "metadata": {},
   "outputs": [
    {
     "data": {
      "image/png": "[encoded data removed]",
      "text/plain": [
       "<Figure size 432x288 with 1 Axes>"
      ]
     },
     "metadata": {},
     "output_type": "display_data"
    }
   ],
   "source": [
    "nice_tree_plot(tree)"
   ]
  },
  {
   "cell_type": "code",
   "execution_count": 7,
   "metadata": {},
   "outputs": [],
   "source": [
    "C = Aho.get_ratio_matrix(R)"
   ]
  },
  {
   "cell_type": "code",
   "execution_count": 8,
   "metadata": {},
   "outputs": [
    {
     "data": {
      "image/png": "[encoded data removed]",
      "text/plain": [
       "<Figure size 432x288 with 2 Axes>"
      ]
     },
     "metadata": {},
     "output_type": "display_data"
    }
   ],
   "source": [
    "plt.imshow(C);\n",
    "plt.colorbar();"
   ]
  },
  {
   "cell_type": "code",
   "execution_count": 9,
   "metadata": {},
   "outputs": [
    {
     "data": {
      "text/plain": [
       "6804"
      ]
     },
     "execution_count": 9,
     "metadata": {},
     "output_type": "execute_result"
    }
   ],
   "source": [
    "constraints = Aho.get_constraints(C, threshold=1e-10)\n",
    "len(constraints)"
   ]
  },
  {
   "cell_type": "code",
   "execution_count": 10,
   "metadata": {},
   "outputs": [
    {
     "data": {
      "text/plain": [
       "0.5257142857142832"
      ]
     },
     "execution_count": 10,
     "metadata": {},
     "output_type": "execute_result"
    }
   ],
   "source": [
    "constraints[-1].strength"
   ]
  },
  {
   "cell_type": "markdown",
   "metadata": {},
   "source": [
    "Find all distinct trees that can be generated by some prefix of `constraints`.  \n",
    "Start with empty list; i.e., set `i = 0` and try `constraints[0:i]`.  \n",
    "Then, for each `i > 0`, if `constraints[0:i]` is satisfied by prev tree, we know the result will be unchanged\n",
    "and don't have to rebuild from scratch."
   ]
  },
  {
   "cell_type": "code",
   "execution_count": 11,
   "metadata": {},
   "outputs": [],
   "source": [
    "r = Aho.aho_tree_build(\n",
    "    nodes = list(range(C.shape[0])),\n",
    "    constraints = constraints[:2000])"
   ]
  },
  {
   "cell_type": "code",
   "execution_count": 12,
   "metadata": {},
   "outputs": [],
   "source": [
    "IN = Aho.Internal"
   ]
  },
  {
   "cell_type": "code",
   "execution_count": 13,
   "metadata": {},
   "outputs": [
    {
     "name": "stdout",
     "output_type": "stream",
     "text": [
      "(14, 15, 16): True\n",
      "(34, 11, 12): True\n",
      "(IN(0), 8, 3): True\n",
      "(IN(0), 2, 3): True\n",
      "(IN(0), IN(1), 3): True\n",
      "(34, 11, 35): False\n",
      "(4, 5, 6): False\n"
     ]
    }
   ],
   "source": [
    "test_constraints = [\n",
    "    ((14, 15, 16), True),\n",
    "    ((34, 11, 12), True),\n",
    "    ((IN(0), 8, 3), True),\n",
    "    ((IN(0), 2, 3), True),\n",
    "    ((IN(0), IN(1), 3), True),\n",
    "    ((34, 11, 35), False),\n",
    "    ((4, 5, 6), False),\n",
    "]\n",
    "\n",
    "for c, expected in test_constraints:\n",
    "    result = Aho.tree_satisfies_constraint(r, c)\n",
    "    assert result == expected, \"For {}, expected {} but got {}\".format(c, expected, result)\n",
    "    print(\"{}: {}\".format(c, result))"
   ]
  },
  {
   "cell_type": "code",
   "execution_count": 14,
   "metadata": {},
   "outputs": [
    {
     "name": "stdout",
     "output_type": "stream",
     "text": [
      "6804\n",
      "CPU times: user 32.3 s, sys: 563 ms, total: 32.9 s\n",
      "Wall time: 32.8 s\n"
     ]
    }
   ],
   "source": [
    "%%time\n",
    "tree_seq = []\n",
    "latest_tree = None\n",
    "for i in range(len(constraints) + 1):\n",
    "    print(\"\\r{}\".format(i), end=\"\")\n",
    "    if i == 0 or (latest_tree is not None and not Aho.tree_satisfies_constraint(latest_tree, constraints[i-1])):\n",
    "        latest_tree = Aho.aho_tree_build(\n",
    "            nodes = list(range(C.shape[0])),\n",
    "            constraints = constraints[:i])\n",
    "        tree_seq.append((i, latest_tree))\n",
    "print(\"\")"
   ]
  },
  {
   "cell_type": "code",
   "execution_count": 15,
   "metadata": {},
   "outputs": [
    {
     "data": {
      "text/plain": [
       "37"
      ]
     },
     "execution_count": 15,
     "metadata": {},
     "output_type": "execute_result"
    }
   ],
   "source": [
    "len(tree_seq)"
   ]
  },
  {
   "cell_type": "code",
   "execution_count": 16,
   "metadata": {},
   "outputs": [],
   "source": [
    "import ipywidgets"
   ]
  },
  {
   "cell_type": "code",
   "execution_count": 17,
   "metadata": {},
   "outputs": [
    {
     "data": {
      "application/vnd.jupyter.widget-view+json": {
       "model_id": "82cc1862b06e4635b014f9ac8188bd15",
       "version_major": 2,
       "version_minor": 0
      },
      "text/plain": [
       "interactive(children=(IntSlider(value=0, description='i', max=36), Output()), _dom_classes=('widget-interact',…"
      ]
     },
     "metadata": {},
     "output_type": "display_data"
    }
   ],
   "source": [
    "@ipywidgets.interact(\n",
    "    i = ipywidgets.IntSlider(0, 0, len(tree_seq) - 1))\n",
    "def foo(i):\n",
    "    fig, ax = plt.subplots(figsize=(20,4))\n",
    "    ii, tree = tree_seq[i]\n",
    "    nice_tree_plot(tree, ax=ax)\n",
    "    suffix = \"\" if i == 0 else \" (last = {})\".format(constraints[ii-1])\n",
    "    ax.set_title(\"after including {} constraints\".format(ii) + suffix)"
   ]
  },
  {
   "cell_type": "code",
   "execution_count": 18,
   "metadata": {},
   "outputs": [],
   "source": [
    "# TODO: extract tree from simulated data\n",
    "# TODO: extract tree from real data\n",
    "# TODO: run the tree-building sequence on the above results"
   ]
  },
  {
   "cell_type": "code",
   "execution_count": null,
   "metadata": {},
   "outputs": [],
   "source": []
  }
 ],
 "metadata": {
  "kernelspec": {
   "display_name": "Python 3",
   "language": "python",
   "name": "python3"
  },
  "language_info": {
   "codemirror_mode": {
    "name": "ipython",
    "version": 3
   },
   "file_extension": ".py",
   "mimetype": "text/x-python",
   "name": "python",
   "nbconvert_exporter": "python",
   "pygments_lexer": "ipython3",
   "version": "3.6.5"
  }
 },
 "nbformat": 4,
 "nbformat_minor": 2
}
