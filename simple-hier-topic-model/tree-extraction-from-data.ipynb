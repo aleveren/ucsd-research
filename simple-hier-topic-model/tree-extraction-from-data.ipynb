{
 "cells": [
  {
   "cell_type": "code",
   "execution_count": 1,
   "metadata": {},
   "outputs": [],
   "source": [
    "import numpy as np\n",
    "import matplotlib.pyplot as plt\n",
    "import networkx as nx\n",
    "import tqdm\n",
    "from scipy.sparse import csr_matrix, csc_matrix, dok_matrix, lil_matrix, coo_matrix\n",
    "from functools import partial\n",
    "\n",
    "from tree_extraction import Aho\n",
    "from compute_pam import compute_combo_tensor, get_alpha\n",
    "from sim_data import HPAM2Sampler\n",
    "from example_graphs import make_tree\n",
    "from utils import bfs_layout"
   ]
  },
  {
   "cell_type": "code",
   "execution_count": 2,
   "metadata": {},
   "outputs": [],
   "source": [
    "import sys, os\n",
    "sys.path.append(os.path.abspath('../anchor-word-recovery/'))"
   ]
  },
  {
   "cell_type": "code",
   "execution_count": 3,
   "metadata": {},
   "outputs": [],
   "source": [
    "from learn_topics import Analysis, Params"
   ]
  },
  {
   "cell_type": "code",
   "execution_count": 4,
   "metadata": {},
   "outputs": [],
   "source": [
    "np.random.seed(1)"
   ]
  },
  {
   "cell_type": "code",
   "execution_count": 5,
   "metadata": {},
   "outputs": [],
   "source": [
    "def nice_tree_plot(t, ax = None, **kwargs):\n",
    "    if ax is None:\n",
    "        _, ax = plt.subplots()\n",
    "    if t is None:\n",
    "        return\n",
    "    draw_kwargs = dict(with_labels=True, pos=bfs_layout(t))\n",
    "    draw_kwargs.update(kwargs)\n",
    "    nx.draw(t, **draw_kwargs)"
   ]
  },
  {
   "cell_type": "code",
   "execution_count": 6,
   "metadata": {},
   "outputs": [],
   "source": [
    "#tree = make_tree([3,3,3])\n",
    "tree = make_tree([3,3])"
   ]
  },
  {
   "cell_type": "code",
   "execution_count": 7,
   "metadata": {
    "scrolled": true
   },
   "outputs": [
    {
     "data": {
      "image/png": "[encoded data removed]",
      "text/plain": [
       "<Figure size 432x288 with 1 Axes>"
      ]
     },
     "metadata": {},
     "output_type": "display_data"
    }
   ],
   "source": [
    "nice_tree_plot(tree)"
   ]
  },
  {
   "cell_type": "markdown",
   "metadata": {},
   "source": [
    "## Extracting a tree from simulated data"
   ]
  },
  {
   "cell_type": "code",
   "execution_count": 8,
   "metadata": {},
   "outputs": [],
   "source": [
    "sampler = HPAM2Sampler(\n",
    "    g = tree,\n",
    "    num_docs = 5000,\n",
    "    words_per_doc = 100,\n",
    "    vocab_size = 1000,\n",
    "    topic_dirichlet = 0.1)"
   ]
  },
  {
   "cell_type": "code",
   "execution_count": 9,
   "metadata": {},
   "outputs": [
    {
     "name": "stderr",
     "output_type": "stream",
     "text": [
      "100%|██████████| 5000/5000 [00:53<00:00, 94.00it/s]"
     ]
    },
    {
     "name": "stdout",
     "output_type": "stream",
     "text": [
      "CPU times: user 51.9 s, sys: 1 s, total: 52.9 s\n",
      "Wall time: 53.2 s\n"
     ]
    },
    {
     "name": "stderr",
     "output_type": "stream",
     "text": [
      "\n"
     ]
    },
    {
     "data": {
      "text/plain": [
       "<sim_data.HPAM2Sampler at 0x10a339b70>"
      ]
     },
     "execution_count": 9,
     "metadata": {},
     "output_type": "execute_result"
    }
   ],
   "source": [
    "%%time\n",
    "sampler.sample();"
   ]
  },
  {
   "cell_type": "code",
   "execution_count": 10,
   "metadata": {},
   "outputs": [
    {
     "name": "stderr",
     "output_type": "stream",
     "text": [
      "100%|██████████| 5000/5000 [00:04<00:00, 1142.81it/s]"
     ]
    },
    {
     "name": "stdout",
     "output_type": "stream",
     "text": [
      "CPU times: user 4.47 s, sys: 87.3 ms, total: 4.55 s\n",
      "Wall time: 4.55 s\n"
     ]
    },
    {
     "name": "stderr",
     "output_type": "stream",
     "text": [
      "\n"
     ]
    }
   ],
   "source": [
    "%%time\n",
    "data = lil_matrix((sampler.num_docs, sampler.vocab_size), dtype='float')\n",
    "for doc_index, doc in enumerate(tqdm.tqdm(sampler.docs)):\n",
    "    doc = sorted(doc)\n",
    "    for vocab_index in doc:\n",
    "        data[doc_index, vocab_index] += 1\n",
    "data = csr_matrix(data)"
   ]
  },
  {
   "cell_type": "code",
   "execution_count": 11,
   "metadata": {},
   "outputs": [],
   "source": [
    "num_digits = len(str(sampler.vocab_size - 1))\n",
    "vocab = [\"w{:0{}d}\".format(i, num_digits) for i in range(sampler.vocab_size)]"
   ]
  },
  {
   "cell_type": "code",
   "execution_count": 12,
   "metadata": {},
   "outputs": [],
   "source": [
    "K = len(tree.nodes())"
   ]
  },
  {
   "cell_type": "code",
   "execution_count": 13,
   "metadata": {},
   "outputs": [],
   "source": [
    "analysis = Analysis(params = Params(\n",
    "    infile = data.transpose(),\n",
    "    vocab_file = vocab,\n",
    "    outfile = None,\n",
    "    loss = \"L2\",\n",
    "    K = K,\n",
    "    seed = 100,\n",
    "    eps = 1e-6,\n",
    "    new_dim = 1000,\n",
    "    max_threads = 8,\n",
    "    anchor_thresh = 100,\n",
    "    top_words = 10,\n",
    "))"
   ]
  },
  {
   "cell_type": "code",
   "execution_count": 14,
   "metadata": {},
   "outputs": [
    {
     "name": "stdout",
     "output_type": "stream",
     "text": [
      "Input matrix shape: (1000, 5000)\n",
      "identifying candidate anchors\n",
      "833 candidates\n",
      "Sum of entries in Q is  1.0000000000000009\n",
      "Multiplying Q took  0.42403388023376465 seconds\n",
      "Q sum is 1.0000000000000009\n",
      "done reading documents\n",
      "anchors are:\n",
      "0 w652\n",
      "1 w458\n",
      "2 w805\n",
      "3 w378\n",
      "4 w943\n",
      "5 w014\n",
      "6 w582\n",
      "7 w539\n",
      "8 w071\n",
      "9 w598\n",
      "10 w021\n",
      "11 w423\n",
      "12 w748\n",
      "begin threaded recovery with 8 processors\n",
      "0\t70\t0.28839796155533143\n",
      "done recovering\n",
      "w652 : w020 w225 w615 w769 w899 w427 w632 w860 w664 w252 \n",
      "w458 : w820 w935 w788 w454 w081 w596 w911 w444 w553 w525 \n",
      "w805 : w498 w899 w646 w732 w053 w060 w768 w209 w120 w351 \n",
      "w378 : w459 w782 w207 w526 w501 w069 w836 w586 w654 w425 \n",
      "w943 : w003 w295 w596 w139 w023 w334 w529 w782 w145 w854 \n",
      "w014 : w966 w710 w986 w369 w380 w900 w622 w223 w082 w734 \n",
      "w582 : w494 w815 w573 w510 w425 w257 w501 w433 w195 w115 \n",
      "w539 : w944 w288 w856 w507 w591 w485 w289 w954 w240 w233 \n",
      "w071 : w834 w204 w446 w992 w163 w484 w092 w403 w467 w946 \n",
      "w598 : w596 w390 w782 w675 w017 w454 w421 w581 w295 w253 \n",
      "w021 : w005 w690 w911 w094 w622 w819 w272 w834 w177 w675 \n",
      "w423 : w233 w798 w023 w993 w133 w847 w981 w550 w070 w570 \n",
      "w748 : w820 w935 w788 w081 w454 w911 w444 w553 w936 w546 \n",
      "CPU times: user 2.33 s, sys: 318 ms, total: 2.65 s\n",
      "Wall time: 4.32 s\n"
     ]
    }
   ],
   "source": [
    "%%time\n",
    "analysis.run();"
   ]
  },
  {
   "cell_type": "code",
   "execution_count": 15,
   "metadata": {},
   "outputs": [
    {
     "data": {
      "text/plain": [
       "(1000, 1000)"
      ]
     },
     "execution_count": 15,
     "metadata": {},
     "output_type": "execute_result"
    }
   ],
   "source": [
    "analysis.Q.shape"
   ]
  },
  {
   "cell_type": "code",
   "execution_count": 16,
   "metadata": {},
   "outputs": [],
   "source": [
    "R = analysis.R"
   ]
  },
  {
   "cell_type": "code",
   "execution_count": 17,
   "metadata": {},
   "outputs": [
    {
     "data": {
      "image/png": "[encoded data removed]",
      "text/plain": [
       "<Figure size 432x288 with 2 Axes>"
      ]
     },
     "metadata": {},
     "output_type": "display_data"
    }
   ],
   "source": [
    "fig, ax = plt.subplots()\n",
    "ax.imshow(R);\n",
    "fig.colorbar(ax.get_images()[0]);"
   ]
  },
  {
   "cell_type": "code",
   "execution_count": 18,
   "metadata": {},
   "outputs": [
    {
     "data": {
      "text/plain": [
       "12.442056180574074"
      ]
     },
     "execution_count": 18,
     "metadata": {},
     "output_type": "execute_result"
    }
   ],
   "source": [
    "np.max(np.abs(R - R.T))"
   ]
  },
  {
   "cell_type": "code",
   "execution_count": 19,
   "metadata": {},
   "outputs": [
    {
     "data": {
      "text/plain": [
       "(-22.62576461082845, 36.2590564086482)"
      ]
     },
     "execution_count": 19,
     "metadata": {},
     "output_type": "execute_result"
    }
   ],
   "source": [
    "R.min(), R.max()"
   ]
  },
  {
   "cell_type": "code",
   "execution_count": 20,
   "metadata": {},
   "outputs": [
    {
     "data": {
      "text/plain": [
       "547.5506209947425"
      ]
     },
     "execution_count": 20,
     "metadata": {},
     "output_type": "execute_result"
    }
   ],
   "source": [
    "R.sum()"
   ]
  },
  {
   "cell_type": "code",
   "execution_count": 21,
   "metadata": {},
   "outputs": [],
   "source": [
    "Rprime = 0.5 * R + 0.5 * R.T\n",
    "Rprime /= Rprime.sum()\n",
    "C = Aho.get_ratio_matrix(Rprime)"
   ]
  },
  {
   "cell_type": "code",
   "execution_count": 22,
   "metadata": {},
   "outputs": [
    {
     "data": {
      "image/png": "[encoded data removed]",
      "text/plain": [
       "<Figure size 432x288 with 1 Axes>"
      ]
     },
     "metadata": {},
     "output_type": "display_data"
    }
   ],
   "source": [
    "plt.imshow(C);"
   ]
  },
  {
   "cell_type": "code",
   "execution_count": 23,
   "metadata": {},
   "outputs": [],
   "source": [
    "extracted_tree = Aho.extract(C)"
   ]
  },
  {
   "cell_type": "code",
   "execution_count": 24,
   "metadata": {},
   "outputs": [
    {
     "data": {
      "image/png": "[encoded data removed]",
      "text/plain": [
       "<Figure size 1440x288 with 1 Axes>"
      ]
     },
     "metadata": {},
     "output_type": "display_data"
    }
   ],
   "source": [
    "fig, ax = plt.subplots(figsize = (20,4))\n",
    "nice_tree_plot(extracted_tree, ax=ax)"
   ]
  },
  {
   "cell_type": "markdown",
   "metadata": {},
   "source": [
    "* TODO: extract tree from real data\n",
    "* TODO: run the tree-building sequence on the above results"
   ]
  },
  {
   "cell_type": "code",
   "execution_count": 25,
   "metadata": {},
   "outputs": [],
   "source": [
    "# incorrect topics?  (how to map onto **)\n",
    "#   - topics with too much overlap?  try sparser dirichlet?\n",
    "# or: correct topics but noisy R estimation?  (throwing away too many triplets??)"
   ]
  }
 ],
 "metadata": {
  "kernelspec": {
   "display_name": "Python 3",
   "language": "python",
   "name": "python3"
  },
  "language_info": {
   "codemirror_mode": {
    "name": "ipython",
    "version": 3
   },
   "file_extension": ".py",
   "mimetype": "text/x-python",
   "name": "python",
   "nbconvert_exporter": "python",
   "pygments_lexer": "ipython3",
   "version": "3.6.5"
  }
 },
 "nbformat": 4,
 "nbformat_minor": 2
}
