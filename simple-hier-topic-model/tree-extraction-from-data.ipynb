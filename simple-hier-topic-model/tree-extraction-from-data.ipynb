{
 "cells": [
  {
   "cell_type": "code",
   "execution_count": 1,
   "metadata": {},
   "outputs": [],
   "source": [
    "import numpy as np\n",
    "import matplotlib.pyplot as plt\n",
    "import networkx as nx\n",
    "import tqdm\n",
    "from scipy.sparse import csr_matrix, csc_matrix, dok_matrix, lil_matrix, coo_matrix\n",
    "from functools import partial\n",
    "\n",
    "from tree_extraction import Aho\n",
    "from compute_pam import compute_combo_tensor, get_alpha\n",
    "from sim_data import HPAM2Sampler\n",
    "from example_graphs import make_tree\n",
    "from utils import bfs_layout, invert_permutation, permute_square"
   ]
  },
  {
   "cell_type": "code",
   "execution_count": 2,
   "metadata": {},
   "outputs": [],
   "source": [
    "import sys, os\n",
    "sys.path.append(os.path.abspath('../anchor-word-recovery/'))"
   ]
  },
  {
   "cell_type": "code",
   "execution_count": 3,
   "metadata": {},
   "outputs": [],
   "source": [
    "from learn_topics import Analysis"
   ]
  },
  {
   "cell_type": "code",
   "execution_count": 4,
   "metadata": {},
   "outputs": [],
   "source": [
    "np.random.seed(1)"
   ]
  },
  {
   "cell_type": "code",
   "execution_count": 5,
   "metadata": {},
   "outputs": [],
   "source": [
    "def nice_tree_plot(t, ax = None, **kwargs):\n",
    "    if ax is None:\n",
    "        _, ax = plt.subplots()\n",
    "    if t is None:\n",
    "        return\n",
    "    draw_kwargs = dict(with_labels=True, pos=bfs_layout(t))\n",
    "    draw_kwargs.update(kwargs)\n",
    "    nx.draw(t, **draw_kwargs)"
   ]
  },
  {
   "cell_type": "code",
   "execution_count": 6,
   "metadata": {},
   "outputs": [],
   "source": [
    "#tree = make_tree([3,3,3])\n",
    "tree = make_tree([3,3])"
   ]
  },
  {
   "cell_type": "code",
   "execution_count": 7,
   "metadata": {
    "scrolled": true
   },
   "outputs": [
    {
     "data": {
      "image/png": "[encoded data removed]",
      "text/plain": [
       "<Figure size 432x288 with 1 Axes>"
      ]
     },
     "metadata": {},
     "output_type": "display_data"
    }
   ],
   "source": [
    "nice_tree_plot(tree)"
   ]
  },
  {
   "cell_type": "markdown",
   "metadata": {},
   "source": [
    "## Extracting a tree from simulated data"
   ]
  },
  {
   "cell_type": "code",
   "execution_count": 8,
   "metadata": {},
   "outputs": [],
   "source": [
    "num_docs = 50000\n",
    "words_per_doc = 20\n",
    "vocab_size = 100\n",
    "topic_dirichlet = 0.1"
   ]
  },
  {
   "cell_type": "code",
   "execution_count": 9,
   "metadata": {},
   "outputs": [],
   "source": [
    "def topic_func(node_id):\n",
    "    topic = np.ones(vocab_size)\n",
    "    topic[node_id % vocab_size] = 20.0\n",
    "    topic /= topic.sum()\n",
    "    return topic\n",
    "\n",
    "#topic_func = None  # Use this line to use random topics instead"
   ]
  },
  {
   "cell_type": "code",
   "execution_count": 10,
   "metadata": {},
   "outputs": [],
   "source": [
    "sampler = HPAM2Sampler(\n",
    "    g = tree,\n",
    "    num_docs = num_docs,\n",
    "    words_per_doc = words_per_doc,\n",
    "    vocab_size = vocab_size,\n",
    "    topic_dirichlet = topic_dirichlet,\n",
    "    topic_func = topic_func)"
   ]
  },
  {
   "cell_type": "code",
   "execution_count": 11,
   "metadata": {},
   "outputs": [
    {
     "name": "stderr",
     "output_type": "stream",
     "text": [
      "100%|██████████| 50000/50000 [01:50<00:00, 450.85it/s]"
     ]
    },
    {
     "name": "stdout",
     "output_type": "stream",
     "text": [
      "CPU times: user 1min 46s, sys: 10.7 s, total: 1min 56s\n",
      "Wall time: 1min 50s\n"
     ]
    },
    {
     "name": "stderr",
     "output_type": "stream",
     "text": [
      "\n"
     ]
    }
   ],
   "source": [
    "%%time\n",
    "sampler.sample(); None"
   ]
  },
  {
   "cell_type": "code",
   "execution_count": 12,
   "metadata": {},
   "outputs": [
    {
     "name": "stderr",
     "output_type": "stream",
     "text": [
      "100%|██████████| 50000/50000 [00:09<00:00, 5548.30it/s]\n"
     ]
    },
    {
     "name": "stdout",
     "output_type": "stream",
     "text": [
      "CPU times: user 9.16 s, sys: 150 ms, total: 9.31 s\n",
      "Wall time: 9.32 s\n"
     ]
    }
   ],
   "source": [
    "%%time\n",
    "data = lil_matrix((sampler.num_docs, sampler.vocab_size), dtype='float')\n",
    "for doc_index, doc in enumerate(tqdm.tqdm(sampler.docs)):\n",
    "    doc = sorted(doc)\n",
    "    for vocab_index in doc:\n",
    "        data[doc_index, vocab_index] += 1\n",
    "data = csr_matrix(data)"
   ]
  },
  {
   "cell_type": "code",
   "execution_count": 13,
   "metadata": {},
   "outputs": [],
   "source": [
    "num_digits = len(str(sampler.vocab_size - 1))\n",
    "vocab = [\"w{:0{}d}\".format(i, num_digits) for i in range(sampler.vocab_size)]"
   ]
  },
  {
   "cell_type": "code",
   "execution_count": 14,
   "metadata": {},
   "outputs": [],
   "source": [
    "K = len(tree.nodes())"
   ]
  },
  {
   "cell_type": "code",
   "execution_count": 15,
   "metadata": {},
   "outputs": [],
   "source": [
    "analysis = Analysis(\n",
    "    infile = data.transpose(),\n",
    "    vocab_file = vocab,\n",
    "    outfile = None,\n",
    "    loss = \"L2\",\n",
    "    K = K,\n",
    "    seed = 100,\n",
    "    eps = 1e-6,\n",
    "    new_dim = 1000,\n",
    "    max_threads = 8,\n",
    "    anchor_thresh = min(int(num_docs * 0.05), 50),\n",
    "    top_words = 10,\n",
    ")"
   ]
  },
  {
   "cell_type": "code",
   "execution_count": 16,
   "metadata": {},
   "outputs": [
    {
     "name": "stdout",
     "output_type": "stream",
     "text": [
      "Input matrix shape: (100, 50000)\n",
      "identifying candidate anchors\n",
      "100 candidates\n",
      "Sum of entries in Q is  0.9999999999999853\n",
      "Multiplying Q took  1.228956937789917 seconds\n",
      "Q sum is 0.9999999999999853\n",
      "done reading documents\n",
      "anchors are:\n",
      "0 w00\n",
      "1 w05\n",
      "2 w10\n",
      "3 w09\n",
      "4 w01\n",
      "5 w03\n",
      "6 w08\n",
      "7 w12\n",
      "8 w07\n",
      "9 w06\n",
      "10 w11\n",
      "11 w02\n",
      "12 w04\n",
      "begin threaded recovery with 8 processors\n",
      "0\t-1\t1.0\n",
      "done recovering\n",
      "w00 : w00 w20 w54 w28 w88 w64 w45 w67 w86 w38 \n",
      "w05 : w05 w95 w98 w55 w18 w33 w47 w65 w99 w66 \n",
      "w10 : w10 w25 w53 w59 w69 w46 w84 w20 w68 w15 \n",
      "w09 : w09 w18 w91 w84 w70 w69 w67 w19 w99 w20 \n",
      "w01 : w01 w42 w77 w94 w68 w59 w84 w69 w21 w83 \n",
      "w03 : w03 w88 w91 w89 w95 w79 w23 w71 w56 w54 \n",
      "w08 : w08 w38 w82 w32 w24 w21 w98 w97 w29 w17 \n",
      "w12 : w12 w80 w70 w33 w90 w24 w79 w62 w81 w49 \n",
      "w07 : w07 w94 w78 w67 w66 w50 w64 w14 w96 w49 \n",
      "w06 : w06 w36 w19 w24 w22 w51 w83 w90 w92 w27 \n",
      "w11 : w11 w37 w48 w71 w65 w92 w16 w27 w94 w77 \n",
      "w02 : w02 w76 w34 w28 w62 w15 w40 w63 w36 w85 \n",
      "w04 : w04 w72 w53 w48 w49 w61 w69 w43 w35 w64 \n",
      "CPU times: user 1.79 s, sys: 62.1 ms, total: 1.86 s\n",
      "Wall time: 1.98 s\n"
     ]
    }
   ],
   "source": [
    "%%time\n",
    "analysis.run();"
   ]
  },
  {
   "cell_type": "code",
   "execution_count": 17,
   "metadata": {},
   "outputs": [
    {
     "data": {
      "image/png": "[encoded data removed]",
      "text/plain": [
       "<Figure size 432x288 with 1 Axes>"
      ]
     },
     "metadata": {},
     "output_type": "display_data"
    }
   ],
   "source": [
    "topics = np.array([sampler.topics[n] for n in tree.nodes()])\n",
    "plt.imshow(topics);"
   ]
  },
  {
   "cell_type": "code",
   "execution_count": 18,
   "metadata": {},
   "outputs": [
    {
     "data": {
      "image/png": "[encoded data removed]",
      "text/plain": [
       "<Figure size 432x288 with 1 Axes>"
      ]
     },
     "metadata": {},
     "output_type": "display_data"
    }
   ],
   "source": [
    "plt.imshow(analysis.A.T);"
   ]
  },
  {
   "cell_type": "code",
   "execution_count": 19,
   "metadata": {},
   "outputs": [],
   "source": [
    "R = analysis.R"
   ]
  },
  {
   "cell_type": "code",
   "execution_count": 20,
   "metadata": {},
   "outputs": [
    {
     "data": {
      "image/png": "[encoded data removed]",
      "text/plain": [
       "<Figure size 432x288 with 2 Axes>"
      ]
     },
     "metadata": {},
     "output_type": "display_data"
    }
   ],
   "source": [
    "fig, ax = plt.subplots()\n",
    "ax.imshow(R);\n",
    "fig.colorbar(ax.get_images()[0]);"
   ]
  },
  {
   "cell_type": "code",
   "execution_count": 21,
   "metadata": {},
   "outputs": [
    {
     "data": {
      "text/plain": [
       "1.9081958235744878e-17"
      ]
     },
     "execution_count": 21,
     "metadata": {},
     "output_type": "execute_result"
    }
   ],
   "source": [
    "np.max(np.abs(R - R.T))"
   ]
  },
  {
   "cell_type": "code",
   "execution_count": 22,
   "metadata": {},
   "outputs": [
    {
     "data": {
      "text/plain": [
       "(0.003442300270212728, 0.047286243512458255)"
      ]
     },
     "execution_count": 22,
     "metadata": {},
     "output_type": "execute_result"
    }
   ],
   "source": [
    "R.min(), R.max()"
   ]
  },
  {
   "cell_type": "code",
   "execution_count": 23,
   "metadata": {},
   "outputs": [
    {
     "data": {
      "text/plain": [
       "1.0000246072163312"
      ]
     },
     "execution_count": 23,
     "metadata": {},
     "output_type": "execute_result"
    }
   ],
   "source": [
    "R.sum()"
   ]
  },
  {
   "cell_type": "code",
   "execution_count": 24,
   "metadata": {},
   "outputs": [],
   "source": [
    "C = Aho.get_ratio_matrix(R)"
   ]
  },
  {
   "cell_type": "code",
   "execution_count": 25,
   "metadata": {},
   "outputs": [
    {
     "data": {
      "image/png": "[encoded data removed]",
      "text/plain": [
       "<Figure size 432x288 with 1 Axes>"
      ]
     },
     "metadata": {},
     "output_type": "display_data"
    }
   ],
   "source": [
    "plt.imshow(C);"
   ]
  },
  {
   "cell_type": "code",
   "execution_count": 26,
   "metadata": {},
   "outputs": [
    {
     "data": {
      "text/plain": [
       "(100, 13)"
      ]
     },
     "execution_count": 26,
     "metadata": {},
     "output_type": "execute_result"
    }
   ],
   "source": [
    "analysis.A.shape"
   ]
  },
  {
   "cell_type": "code",
   "execution_count": 27,
   "metadata": {},
   "outputs": [],
   "source": [
    "def extract_planted_topic_permutation(A, true_topics):\n",
    "    V, K = A.shape\n",
    "    indices = np.arange(K)\n",
    "    A = A.copy()\n",
    "    perm = []\n",
    "    for i in range(K):\n",
    "        target = true_topics[:, [i]]\n",
    "        ii = np.argmin(np.sum(np.abs(A - target), axis=0))\n",
    "        perm.append(indices[ii])\n",
    "        indices = np.concatenate([indices[:ii], indices[ii+1:]])\n",
    "        A = np.concatenate([A[:, :ii], A[:, ii+1:]], axis=1)\n",
    "    return np.asarray(perm)"
   ]
  },
  {
   "cell_type": "code",
   "execution_count": 28,
   "metadata": {},
   "outputs": [],
   "source": [
    "perm = extract_planted_topic_permutation(analysis.A, true_topics = topics.transpose())"
   ]
  },
  {
   "cell_type": "code",
   "execution_count": 29,
   "metadata": {},
   "outputs": [
    {
     "data": {
      "image/png": "[encoded data removed]",
      "text/plain": [
       "<Figure size 432x288 with 1 Axes>"
      ]
     },
     "metadata": {},
     "output_type": "display_data"
    }
   ],
   "source": [
    "plt.imshow(analysis.A.T[perm, :]);"
   ]
  },
  {
   "cell_type": "code",
   "execution_count": 30,
   "metadata": {},
   "outputs": [],
   "source": [
    "Rp = permute_square(analysis.R, perm = perm)"
   ]
  },
  {
   "cell_type": "code",
   "execution_count": 31,
   "metadata": {},
   "outputs": [
    {
     "data": {
      "image/png": "[encoded data removed]",
      "text/plain": [
       "<Figure size 432x288 with 1 Axes>"
      ]
     },
     "metadata": {},
     "output_type": "display_data"
    }
   ],
   "source": [
    "plt.imshow(Rp);"
   ]
  },
  {
   "cell_type": "code",
   "execution_count": 32,
   "metadata": {},
   "outputs": [],
   "source": [
    "Cp = permute_square(C, perm=perm)"
   ]
  },
  {
   "cell_type": "code",
   "execution_count": 33,
   "metadata": {},
   "outputs": [
    {
     "data": {
      "image/png": "[encoded data removed]",
      "text/plain": [
       "<Figure size 432x288 with 1 Axes>"
      ]
     },
     "metadata": {},
     "output_type": "display_data"
    }
   ],
   "source": [
    "plt.imshow(Cp);"
   ]
  },
  {
   "cell_type": "code",
   "execution_count": 34,
   "metadata": {},
   "outputs": [],
   "source": [
    "extracted_tree = Aho.extract(Rp)"
   ]
  },
  {
   "cell_type": "code",
   "execution_count": 35,
   "metadata": {},
   "outputs": [
    {
     "data": {
      "image/png": "[encoded data removed]",
      "text/plain": [
       "<Figure size 1440x288 with 1 Axes>"
      ]
     },
     "metadata": {},
     "output_type": "display_data"
    }
   ],
   "source": [
    "fig, ax = plt.subplots(figsize = (20,4))\n",
    "nice_tree_plot(extracted_tree, ax=ax)"
   ]
  },
  {
   "cell_type": "markdown",
   "metadata": {},
   "source": [
    "Need to diagnose results...\n",
    "* incorrect topics?  (how to map recovered topics onto \"expected\" topics?)\n",
    "  * topics with too much overlap?\n",
    "    * try sparser dirichlet?\n",
    "    * or try fixed topics, chosen specifically to have low overlap (this makes it easier to map recovered to expected)\n",
    "* or: correct topics but noisy R estimation?  (throwing away too many triplets??)\n",
    "\n",
    "To deal with noisy R estimation, may need to adapt algorithm to optimize some cost function\n",
    "that treats triplets as soft constraints; optimize some kind of \"cost function\" at each recursive split."
   ]
  },
  {
   "cell_type": "markdown",
   "metadata": {},
   "source": [
    "## Extraction applied to real data"
   ]
  },
  {
   "cell_type": "code",
   "execution_count": 36,
   "metadata": {},
   "outputs": [],
   "source": [
    "analysis = Analysis(\n",
    "    infile = \"../anchor-word-recovery/M_nips.full_docs.mat.trunc.mat\",\n",
    "    vocab_file = \"../anchor-word-recovery/vocab.nips.txt.trunc\",\n",
    "    outfile = None,\n",
    "    loss = \"L2\",\n",
    "    K = 15,\n",
    "    seed = 100,\n",
    "    eps = 1e-6,\n",
    "    new_dim = 1000,\n",
    "    max_threads = 8,\n",
    "    anchor_thresh = 100,\n",
    "    top_words = 10,\n",
    ")"
   ]
  },
  {
   "cell_type": "code",
   "execution_count": 37,
   "metadata": {},
   "outputs": [
    {
     "name": "stdout",
     "output_type": "stream",
     "text": [
      "Input matrix shape: (2940, 1500)\n",
      "identifying candidate anchors\n",
      "1735 candidates\n",
      "Sum of entries in Q is  1.0\n",
      "Multiplying Q took  1.271501064300537 seconds\n",
      "Q sum is 1.0\n",
      "done reading documents\n",
      "anchors are:\n",
      "0 neuroscience\n",
      "1 part\n",
      "2 iii\n",
      "3 cognitive\n",
      "4 paul\n",
      "5 science\n",
      "6 architecture\n",
      "7 theory\n",
      "8 visual\n",
      "9 processing\n",
      "10 policy\n",
      "11 head\n",
      "12 speaker\n",
      "13 spike\n",
      "14 character\n",
      "begin threaded recovery with 8 processors\n",
      "0\t73\t0.3997861214540097\n",
      "1000\t47\t0.20296322373079012\n",
      "2000\t69\t0.22478639073903145\n",
      "done recovering\n",
      "neuroscience : neuroscience implementation application planning navigation control singh stephen andrew richard \n",
      "part : part algorithm control navigation planning signal speech chip system analog \n",
      "iii : iii application realization theories utility formalism implementation animal theoretic tishby \n",
      "cognitive : cognitive application implementation action agent control plan policies exploration boulder \n",
      "paul : david michael john richard peter index author thomas paul william \n",
      "science : science algorithm application control unit network input representation set level \n",
      "architecture : architecture algorithm network unit input weight neural output problem function \n",
      "theory : theory function algorithm network data set neural error result point \n",
      "visual : visual signal speech image object neuron field system motion map \n",
      "processing : processing signal speech control system application filter acoustic noise information \n",
      "policy : function algorithm network problem set data system result method neural \n",
      "head : network input system neural unit function data output direction set \n",
      "speaker : network training neural set data input function system unit error \n",
      "spike : neuron network input function neural system output data pattern result \n",
      "character : network input neural set function training unit system output weight \n",
      "CPU times: user 7.28 s, sys: 1.39 s, total: 8.67 s\n",
      "Wall time: 10.7 s\n"
     ]
    }
   ],
   "source": [
    "%%time\n",
    "analysis.run();"
   ]
  },
  {
   "cell_type": "code",
   "execution_count": 38,
   "metadata": {},
   "outputs": [],
   "source": [
    "R = analysis.R"
   ]
  },
  {
   "cell_type": "code",
   "execution_count": 39,
   "metadata": {},
   "outputs": [],
   "source": [
    "extracted_tree = Aho.extract(R)"
   ]
  },
  {
   "cell_type": "code",
   "execution_count": 40,
   "metadata": {},
   "outputs": [
    {
     "data": {
      "image/png": "[encoded data removed]",
      "text/plain": [
       "<Figure size 1440x288 with 1 Axes>"
      ]
     },
     "metadata": {},
     "output_type": "display_data"
    }
   ],
   "source": [
    "fig, ax = plt.subplots(figsize = (20,4))\n",
    "nice_tree_plot(extracted_tree, ax=ax)"
   ]
  },
  {
   "cell_type": "code",
   "execution_count": null,
   "metadata": {},
   "outputs": [],
   "source": []
  }
 ],
 "metadata": {
  "kernelspec": {
   "display_name": "Python 3",
   "language": "python",
   "name": "python3"
  },
  "language_info": {
   "codemirror_mode": {
    "name": "ipython",
    "version": 3
   },
   "file_extension": ".py",
   "mimetype": "text/x-python",
   "name": "python",
   "nbconvert_exporter": "python",
   "pygments_lexer": "ipython3",
   "version": "3.6.5"
  }
 },
 "nbformat": 4,
 "nbformat_minor": 2
}
