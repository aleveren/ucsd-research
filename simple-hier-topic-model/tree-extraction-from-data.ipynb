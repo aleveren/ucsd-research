{
 "cells": [
  {
   "cell_type": "code",
   "execution_count": 1,
   "metadata": {},
   "outputs": [],
   "source": [
    "import numpy as np\n",
    "import matplotlib.pyplot as plt\n",
    "import networkx as nx\n",
    "import tqdm\n",
    "from scipy.sparse import csr_matrix, csc_matrix, dok_matrix, lil_matrix, coo_matrix\n",
    "from functools import partial\n",
    "\n",
    "from tree_extraction import Aho\n",
    "from compute_pam import compute_combo_tensor, get_alpha\n",
    "from sim_data import HPAM2Sampler\n",
    "from example_graphs import make_tree\n",
    "from utils import bfs_layout"
   ]
  },
  {
   "cell_type": "code",
   "execution_count": 2,
   "metadata": {},
   "outputs": [],
   "source": [
    "import sys, os\n",
    "sys.path.append(os.path.abspath('../anchor-word-recovery/'))"
   ]
  },
  {
   "cell_type": "code",
   "execution_count": 3,
   "metadata": {},
   "outputs": [],
   "source": [
    "from learn_topics import Analysis, Params"
   ]
  },
  {
   "cell_type": "code",
   "execution_count": 4,
   "metadata": {},
   "outputs": [],
   "source": [
    "def nice_tree_plot(t, ax = None, **kwargs):\n",
    "    if ax is None:\n",
    "        _, ax = plt.subplots()\n",
    "    if t is None:\n",
    "        return\n",
    "    draw_kwargs = dict(with_labels=True, pos=bfs_layout(t))\n",
    "    draw_kwargs.update(kwargs)\n",
    "    nx.draw(t, **draw_kwargs)"
   ]
  },
  {
   "cell_type": "code",
   "execution_count": 5,
   "metadata": {},
   "outputs": [],
   "source": [
    "tree = make_tree([3,3,3])"
   ]
  },
  {
   "cell_type": "code",
   "execution_count": 6,
   "metadata": {
    "scrolled": true
   },
   "outputs": [
    {
     "data": {
      "image/png": "[encoded data removed]",
      "text/plain": [
       "<Figure size 432x288 with 1 Axes>"
      ]
     },
     "metadata": {},
     "output_type": "display_data"
    }
   ],
   "source": [
    "nice_tree_plot(tree)"
   ]
  },
  {
   "cell_type": "markdown",
   "metadata": {},
   "source": [
    "## Extracting a tree from simulated data"
   ]
  },
  {
   "cell_type": "code",
   "execution_count": 8,
   "metadata": {},
   "outputs": [],
   "source": [
    "sampler = HPAM2Sampler(tree, num_docs = 1000, words_per_doc = 1000, vocab_size = 1000)"
   ]
  },
  {
   "cell_type": "code",
   "execution_count": 9,
   "metadata": {},
   "outputs": [
    {
     "name": "stderr",
     "output_type": "stream",
     "text": [
      "100%|██████████| 1000/1000 [01:51<00:00,  8.94it/s]"
     ]
    },
    {
     "name": "stdout",
     "output_type": "stream",
     "text": [
      "CPU times: user 1min 50s, sys: 1.34 s, total: 1min 52s\n",
      "Wall time: 1min 51s\n"
     ]
    },
    {
     "name": "stderr",
     "output_type": "stream",
     "text": [
      "\n"
     ]
    },
    {
     "data": {
      "text/plain": [
       "<sim_data.HPAM2Sampler at 0x114fa28d0>"
      ]
     },
     "execution_count": 9,
     "metadata": {},
     "output_type": "execute_result"
    }
   ],
   "source": [
    "%%time\n",
    "sampler.sample();"
   ]
  },
  {
   "cell_type": "code",
   "execution_count": 10,
   "metadata": {},
   "outputs": [
    {
     "name": "stderr",
     "output_type": "stream",
     "text": [
      "100%|██████████| 1000/1000 [00:10<00:00, 96.46it/s]\n"
     ]
    },
    {
     "name": "stdout",
     "output_type": "stream",
     "text": [
      "CPU times: user 10.3 s, sys: 162 ms, total: 10.5 s\n",
      "Wall time: 10.5 s\n"
     ]
    }
   ],
   "source": [
    "%%time\n",
    "data = lil_matrix((sampler.num_docs, sampler.vocab_size), dtype='float')\n",
    "for doc_index, doc in enumerate(tqdm.tqdm(sampler.docs)):\n",
    "    doc = sorted(doc)\n",
    "    for vocab_index in doc:\n",
    "        data[doc_index, vocab_index] += 1\n",
    "data = csr_matrix(data)"
   ]
  },
  {
   "cell_type": "code",
   "execution_count": 11,
   "metadata": {},
   "outputs": [],
   "source": [
    "num_digits = len(str(sampler.vocab_size - 1))\n",
    "vocab = [\"w{:0{}d}\".format(i, num_digits) for i in range(sampler.vocab_size)]"
   ]
  },
  {
   "cell_type": "code",
   "execution_count": 12,
   "metadata": {},
   "outputs": [],
   "source": [
    "K = len(tree.nodes())"
   ]
  },
  {
   "cell_type": "code",
   "execution_count": 13,
   "metadata": {},
   "outputs": [],
   "source": [
    "analysis = Analysis(params = Params(\n",
    "    infile = data.transpose(),\n",
    "    vocab_file = vocab,\n",
    "    outfile = None,\n",
    "    loss = \"L2\",\n",
    "    K = K,\n",
    "    seed = 100,\n",
    "    eps = 1e-6,\n",
    "    new_dim = 1000,\n",
    "    max_threads = 8,\n",
    "    anchor_thresh = 100,\n",
    "    top_words = 10,\n",
    "))"
   ]
  },
  {
   "cell_type": "code",
   "execution_count": 14,
   "metadata": {},
   "outputs": [
    {
     "name": "stdout",
     "output_type": "stream",
     "text": [
      "Input matrix shape: (1000, 1000)\n",
      "identifying candidate anchors\n",
      "1000 candidates\n",
      "Sum of entries in Q is  1.0000000000000004\n",
      "Multiplying Q took  0.8722050189971924 seconds\n",
      "Q sum is 1.0000000000000004\n",
      "done reading documents\n",
      "anchors are:\n",
      "0 w912\n",
      "1 w980\n",
      "2 w720\n",
      "3 w183\n",
      "4 w766\n",
      "5 w795\n",
      "6 w453\n",
      "7 w409\n",
      "8 w240\n",
      "9 w628\n",
      "10 w461\n",
      "11 w235\n",
      "12 w483\n",
      "13 w681\n",
      "14 w122\n",
      "15 w649\n",
      "16 w915\n",
      "17 w721\n",
      "18 w719\n",
      "19 w336\n",
      "20 w804\n",
      "21 w778\n",
      "22 w662\n",
      "23 w033\n",
      "24 w990\n",
      "25 w932\n",
      "26 w876\n",
      "27 w849\n",
      "28 w624\n",
      "29 w728\n",
      "30 w076\n",
      "31 w855\n",
      "32 w659\n",
      "33 w645\n",
      "34 w771\n",
      "35 w187\n",
      "36 w129\n",
      "37 w441\n",
      "38 w622\n",
      "39 w665\n",
      "begin threaded recovery with 8 processors\n",
      "0\t158\t0.256317613259205\n",
      "done recovering\n",
      "w912 : w912 w963 w976 w216 w928 w740 w365 w108 w911 w967 \n",
      "w980 : w980 w633 w942 w499 w217 w943 w038 w173 w280 w862 \n",
      "w720 : w720 w078 w414 w091 w313 w708 w824 w597 w440 w007 \n",
      "w183 : w183 w910 w093 w215 w816 w403 w776 w082 w475 w437 \n",
      "w766 : w766 w225 w173 w218 w499 w052 w421 w651 w071 w634 \n",
      "w795 : w795 w078 w708 w564 w146 w084 w091 w686 w394 w031 \n",
      "w453 : w453 w078 w708 w190 w234 w759 w156 w031 w456 w750 \n",
      "w409 : w409 w506 w634 w816 w173 w202 w031 w581 w937 w286 \n",
      "w240 : w240 w173 w506 w633 w286 w982 w977 w225 w781 w403 \n",
      "w628 : w628 w031 w270 w078 w634 w510 w822 w456 w016 w506 \n",
      "w461 : w461 w942 w641 w173 w031 w506 w716 w499 w581 w217 \n",
      "w235 : w235 w708 w078 w686 w084 w031 w346 w016 w394 w007 \n",
      "w483 : w483 w816 w937 w031 w090 w403 w510 w286 w429 w521 \n",
      "w681 : w681 w708 w078 w286 w456 w016 w686 w270 w464 w937 \n",
      "w122 : w122 w708 w078 w136 w394 w093 w623 w429 w023 w082 \n",
      "w649 : w649 w313 w091 w078 w414 w708 w440 w597 w353 w759 \n",
      "w915 : w915 w173 w052 w634 w966 w942 w499 w225 w938 w270 \n",
      "w721 : w721 w708 w414 w440 w078 w313 w597 w353 w234 w686 \n",
      "w719 : w719 w078 w031 w190 w234 w564 w099 w272 w750 w554 \n",
      "w336 : w336 w270 w686 w822 w506 w016 w031 w464 w781 w286 \n",
      "w804 : w804 w031 w146 w202 w641 w227 w581 w099 w700 w272 \n",
      "w778 : w778 w403 w943 w708 w090 w093 w910 w586 w880 w437 \n",
      "w662 : w662 w781 w822 w016 w937 w708 w544 w270 w686 w464 \n",
      "w033 : w033 w880 w031 w093 w708 w581 w510 w686 w937 w516 \n",
      "w990 : w990 w136 w031 w084 w686 w078 w750 w708 w099 w510 \n",
      "w932 : w932 w173 w225 w218 w421 w052 w822 w506 w634 w270 \n",
      "w876 : w876 w031 w016 w937 w862 w880 w581 w078 w286 w510 \n",
      "w849 : w849 w215 w862 w429 w943 w090 w031 w708 w403 w078 \n",
      "w624 : w624 w371 w822 w708 w701 w781 w436 w016 w073 w413 \n",
      "w728 : w728 w942 w862 w038 w217 w943 w633 w271 w641 w429 \n",
      "w076 : w076 w634 w052 w966 w173 w218 w499 w942 w270 w234 \n",
      "w855 : w855 w371 w708 w016 w196 w701 w531 w781 w112 w436 \n",
      "w659 : w659 w429 w942 w592 w862 w280 w782 w215 w031 w038 \n",
      "w645 : w645 w708 w078 w091 w313 w414 w440 w234 w458 w824 \n",
      "w771 : w771 w634 w270 w234 w031 w759 w078 w686 w173 w456 \n",
      "w187 : w187 w708 w084 w686 w016 w371 w440 w078 w781 w414 \n",
      "w129 : w129 w708 w078 w093 w136 w215 w394 w816 w910 w429 \n",
      "w441 : w441 w403 w090 w215 w943 w634 w437 w586 w173 w189 \n",
      "w622 : w622 w173 w634 w270 w506 w822 w633 w937 w234 w938 \n",
      "w665 : w665 w437 w816 w967 w928 w745 w123 w781 w196 w982 \n",
      "CPU times: user 3.21 s, sys: 568 ms, total: 3.77 s\n",
      "Wall time: 7.33 s\n"
     ]
    }
   ],
   "source": [
    "%%time\n",
    "analysis.run();"
   ]
  },
  {
   "cell_type": "code",
   "execution_count": 15,
   "metadata": {},
   "outputs": [
    {
     "data": {
      "text/plain": [
       "(1000, 1000)"
      ]
     },
     "execution_count": 15,
     "metadata": {},
     "output_type": "execute_result"
    }
   ],
   "source": [
    "analysis.Q.shape"
   ]
  },
  {
   "cell_type": "code",
   "execution_count": 16,
   "metadata": {},
   "outputs": [],
   "source": [
    "R = analysis.R"
   ]
  },
  {
   "cell_type": "code",
   "execution_count": 17,
   "metadata": {},
   "outputs": [
    {
     "data": {
      "image/png": "[encoded data removed]",
      "text/plain": [
       "<Figure size 432x288 with 2 Axes>"
      ]
     },
     "metadata": {},
     "output_type": "display_data"
    }
   ],
   "source": [
    "fig, ax = plt.subplots()\n",
    "ax.imshow(R);\n",
    "fig.colorbar(ax.get_images()[0]);"
   ]
  },
  {
   "cell_type": "code",
   "execution_count": 18,
   "metadata": {},
   "outputs": [
    {
     "data": {
      "text/plain": [
       "9.182716969145616"
      ]
     },
     "execution_count": 18,
     "metadata": {},
     "output_type": "execute_result"
    }
   ],
   "source": [
    "np.max(np.abs(R - R.T))"
   ]
  },
  {
   "cell_type": "code",
   "execution_count": 19,
   "metadata": {},
   "outputs": [
    {
     "data": {
      "text/plain": [
       "(0.03995634163636324, 30.770769858569267)"
      ]
     },
     "execution_count": 19,
     "metadata": {},
     "output_type": "execute_result"
    }
   ],
   "source": [
    "R.min(), R.max()"
   ]
  },
  {
   "cell_type": "code",
   "execution_count": 20,
   "metadata": {},
   "outputs": [
    {
     "data": {
      "text/plain": [
       "965.308200979601"
      ]
     },
     "execution_count": 20,
     "metadata": {},
     "output_type": "execute_result"
    }
   ],
   "source": [
    "R.sum()"
   ]
  },
  {
   "cell_type": "code",
   "execution_count": 21,
   "metadata": {},
   "outputs": [],
   "source": [
    "Rprime = 0.5 * R + 0.5 * R.T\n",
    "Rprime /= Rprime.sum()\n",
    "C = Aho.get_ratio_matrix(Rprime)"
   ]
  },
  {
   "cell_type": "code",
   "execution_count": 22,
   "metadata": {},
   "outputs": [
    {
     "data": {
      "image/png": "[encoded data removed]",
      "text/plain": [
       "<Figure size 432x288 with 1 Axes>"
      ]
     },
     "metadata": {},
     "output_type": "display_data"
    }
   ],
   "source": [
    "plt.imshow(C);"
   ]
  },
  {
   "cell_type": "code",
   "execution_count": 23,
   "metadata": {},
   "outputs": [],
   "source": [
    "extracted_tree = Aho.extract(C)"
   ]
  },
  {
   "cell_type": "code",
   "execution_count": 24,
   "metadata": {},
   "outputs": [
    {
     "data": {
      "image/png": "[encoded data removed]",
      "text/plain": [
       "<Figure size 432x288 with 1 Axes>"
      ]
     },
     "metadata": {},
     "output_type": "display_data"
    }
   ],
   "source": [
    "nice_tree_plot(extracted_tree)"
   ]
  },
  {
   "cell_type": "markdown",
   "metadata": {},
   "source": [
    "* TODO: extract tree from real data\n",
    "* TODO: run the tree-building sequence on the above results"
   ]
  },
  {
   "cell_type": "code",
   "execution_count": null,
   "metadata": {},
   "outputs": [],
   "source": []
  }
 ],
 "metadata": {
  "kernelspec": {
   "display_name": "Python 3",
   "language": "python",
   "name": "python3"
  },
  "language_info": {
   "codemirror_mode": {
    "name": "ipython",
    "version": 3
   },
   "file_extension": ".py",
   "mimetype": "text/x-python",
   "name": "python",
   "nbconvert_exporter": "python",
   "pygments_lexer": "ipython3",
   "version": "3.6.5"
  }
 },
 "nbformat": 4,
 "nbformat_minor": 2
}
