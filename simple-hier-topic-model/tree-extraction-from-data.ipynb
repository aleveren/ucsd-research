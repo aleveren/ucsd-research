{
 "cells": [
  {
   "cell_type": "code",
   "execution_count": 1,
   "metadata": {},
   "outputs": [],
   "source": [
    "import numpy as np\n",
    "import matplotlib.pyplot as plt\n",
    "import networkx as nx\n",
    "import tqdm\n",
    "from scipy.sparse import csr_matrix, csc_matrix, dok_matrix, lil_matrix, coo_matrix\n",
    "from functools import partial\n",
    "\n",
    "from tree_extraction import Aho\n",
    "from compute_pam import compute_combo_tensor, get_alpha\n",
    "from sim_data import HPAM2Sampler\n",
    "from example_graphs import make_tree\n",
    "from utils import bfs_layout, invert_permutation, permute_square"
   ]
  },
  {
   "cell_type": "code",
   "execution_count": 2,
   "metadata": {},
   "outputs": [],
   "source": [
    "import sys, os\n",
    "sys.path.append(os.path.abspath('../anchor-word-recovery/'))"
   ]
  },
  {
   "cell_type": "code",
   "execution_count": 3,
   "metadata": {},
   "outputs": [],
   "source": [
    "from learn_topics import Analysis"
   ]
  },
  {
   "cell_type": "code",
   "execution_count": 4,
   "metadata": {},
   "outputs": [],
   "source": [
    "np.random.seed(1)"
   ]
  },
  {
   "cell_type": "code",
   "execution_count": 5,
   "metadata": {},
   "outputs": [],
   "source": [
    "def nice_tree_plot(t, ax = None, **kwargs):\n",
    "    if ax is None:\n",
    "        _, ax = plt.subplots()\n",
    "    if t is None:\n",
    "        return\n",
    "    draw_kwargs = dict(with_labels=True, pos=bfs_layout(t))\n",
    "    draw_kwargs.update(kwargs)\n",
    "    nx.draw(t, **draw_kwargs)"
   ]
  },
  {
   "cell_type": "code",
   "execution_count": 6,
   "metadata": {},
   "outputs": [],
   "source": [
    "#tree = make_tree([3,3,3])\n",
    "tree = make_tree([3,3])"
   ]
  },
  {
   "cell_type": "code",
   "execution_count": 7,
   "metadata": {
    "scrolled": true
   },
   "outputs": [
    {
     "data": {
      "image/png": "[encoded data removed]",
      "text/plain": [
       "<Figure size 432x288 with 1 Axes>"
      ]
     },
     "metadata": {},
     "output_type": "display_data"
    }
   ],
   "source": [
    "nice_tree_plot(tree)"
   ]
  },
  {
   "cell_type": "markdown",
   "metadata": {},
   "source": [
    "## Extracting a tree from simulated data"
   ]
  },
  {
   "cell_type": "code",
   "execution_count": 8,
   "metadata": {},
   "outputs": [],
   "source": [
    "num_docs = 50000\n",
    "words_per_doc = 20\n",
    "vocab_size = 100\n",
    "topic_dirichlet = 0.1"
   ]
  },
  {
   "cell_type": "code",
   "execution_count": 9,
   "metadata": {},
   "outputs": [],
   "source": [
    "def topic_func(node_id):\n",
    "    topic = np.ones(vocab_size)\n",
    "    topic[node_id % vocab_size] = 20.0\n",
    "    topic /= topic.sum()\n",
    "    return topic\n",
    "\n",
    "#topic_func = None  # Use this line to use random topics instead"
   ]
  },
  {
   "cell_type": "code",
   "execution_count": 10,
   "metadata": {},
   "outputs": [],
   "source": [
    "alpha_func = partial(get_alpha, pexit=0.3, scale=1.0, add_exit_edge=True)"
   ]
  },
  {
   "cell_type": "code",
   "execution_count": 11,
   "metadata": {},
   "outputs": [],
   "source": [
    "sampler = HPAM2Sampler(\n",
    "    g = tree,\n",
    "    num_docs = num_docs,\n",
    "    words_per_doc = words_per_doc,\n",
    "    vocab_size = vocab_size,\n",
    "    alpha_func = alpha_func,\n",
    "    topic_dirichlet = topic_dirichlet,\n",
    "    topic_func = topic_func)"
   ]
  },
  {
   "cell_type": "code",
   "execution_count": 12,
   "metadata": {},
   "outputs": [
    {
     "name": "stderr",
     "output_type": "stream",
     "text": [
      "100%|██████████| 50000/50000 [02:12<00:00, 376.92it/s]"
     ]
    },
    {
     "name": "stdout",
     "output_type": "stream",
     "text": [
      "CPU times: user 1min 53s, sys: 5.68 s, total: 1min 59s\n",
      "Wall time: 2min 12s\n"
     ]
    },
    {
     "name": "stderr",
     "output_type": "stream",
     "text": [
      "\n"
     ]
    }
   ],
   "source": [
    "%%time\n",
    "sampler.sample(); None"
   ]
  },
  {
   "cell_type": "code",
   "execution_count": 13,
   "metadata": {},
   "outputs": [
    {
     "name": "stderr",
     "output_type": "stream",
     "text": [
      "100%|██████████| 50000/50000 [00:10<00:00, 4659.12it/s]\n"
     ]
    },
    {
     "name": "stdout",
     "output_type": "stream",
     "text": [
      "CPU times: user 10 s, sys: 278 ms, total: 10.3 s\n",
      "Wall time: 11 s\n"
     ]
    }
   ],
   "source": [
    "%%time\n",
    "data = lil_matrix((sampler.num_docs, sampler.vocab_size), dtype='float')\n",
    "for doc_index, doc in enumerate(tqdm.tqdm(sampler.docs)):\n",
    "    doc = sorted(doc)\n",
    "    for vocab_index in doc:\n",
    "        data[doc_index, vocab_index] += 1\n",
    "data = csr_matrix(data)"
   ]
  },
  {
   "cell_type": "code",
   "execution_count": 14,
   "metadata": {},
   "outputs": [],
   "source": [
    "num_digits = len(str(sampler.vocab_size - 1))\n",
    "vocab = [\"w{:0{}d}\".format(i, num_digits) for i in range(sampler.vocab_size)]"
   ]
  },
  {
   "cell_type": "code",
   "execution_count": 15,
   "metadata": {},
   "outputs": [],
   "source": [
    "K = len(tree.nodes())"
   ]
  },
  {
   "cell_type": "code",
   "execution_count": 16,
   "metadata": {},
   "outputs": [],
   "source": [
    "analysis = Analysis(\n",
    "    infile = data.copy().transpose(),\n",
    "    vocab_file = vocab,\n",
    "    outfile = None,\n",
    "    loss = \"L2\",\n",
    "    K = K,\n",
    "    seed = 100,\n",
    "    eps = 1e-6,\n",
    "    new_dim = 1000,\n",
    "    max_threads = 8,\n",
    "    anchor_thresh = min(int(num_docs * 0.05), 50),\n",
    "    top_words = 10,\n",
    ")"
   ]
  },
  {
   "cell_type": "code",
   "execution_count": 17,
   "metadata": {},
   "outputs": [
    {
     "name": "stdout",
     "output_type": "stream",
     "text": [
      "Input matrix shape: (100, 50000)\n",
      "identifying candidate anchors\n",
      "100 candidates\n",
      "Sum of entries in Q is  0.9999999999999876\n",
      "Multiplying Q took  1.2980589866638184 seconds\n",
      "Q sum is 0.9999999999999876\n",
      "done reading documents\n",
      "anchors are:\n",
      "0 w00\n",
      "1 w02\n",
      "2 w01\n",
      "3 w03\n",
      "4 w04\n",
      "5 w11\n",
      "6 w08\n",
      "7 w06\n",
      "8 w12\n",
      "9 w07\n",
      "10 w05\n",
      "11 w10\n",
      "12 w09\n",
      "begin threaded recovery with 8 processors\n",
      "0\t-1\t1.0\n",
      "done recovering\n",
      "w00 : w00 w20 w59 w14 w27 w26 w37 w86 w79 w48 \n",
      "w02 : w02 w81 w71 w46 w52 w32 w84 w68 w83 w58 \n",
      "w01 : w01 w95 w72 w68 w73 w44 w54 w61 w43 w88 \n",
      "w03 : w03 w47 w46 w20 w49 w56 w26 w72 w71 w55 \n",
      "w04 : w04 w25 w17 w78 w71 w64 w51 w70 w13 w18 \n",
      "w11 : w11 w99 w75 w68 w37 w96 w38 w76 w63 w54 \n",
      "w08 : w08 w50 w33 w24 w28 w90 w65 w75 w31 w21 \n",
      "w06 : w06 w77 w87 w30 w32 w98 w61 w69 w49 w56 \n",
      "w12 : w12 w35 w31 w70 w51 w30 w21 w95 w59 w50 \n",
      "w07 : w07 w25 w43 w74 w86 w87 w49 w63 w42 w28 \n",
      "w05 : w05 w29 w67 w82 w99 w16 w34 w98 w53 w14 \n",
      "w10 : w10 w29 w44 w26 w42 w63 w25 w24 w81 w14 \n",
      "w09 : w09 w19 w78 w26 w76 w85 w77 w13 w87 w62 \n",
      "CPU times: user 1.85 s, sys: 68.2 ms, total: 1.92 s\n",
      "Wall time: 2.1 s\n"
     ]
    }
   ],
   "source": [
    "%%time\n",
    "analysis.run();"
   ]
  },
  {
   "cell_type": "code",
   "execution_count": 18,
   "metadata": {},
   "outputs": [
    {
     "data": {
      "image/png": "[encoded data removed]",
      "text/plain": [
       "<Figure size 432x288 with 1 Axes>"
      ]
     },
     "metadata": {},
     "output_type": "display_data"
    }
   ],
   "source": [
    "topics = np.array([sampler.topics[n] for n in tree.nodes()])\n",
    "plt.imshow(topics);"
   ]
  },
  {
   "cell_type": "code",
   "execution_count": 19,
   "metadata": {},
   "outputs": [
    {
     "data": {
      "image/png": "[encoded data removed]",
      "text/plain": [
       "<Figure size 432x288 with 1 Axes>"
      ]
     },
     "metadata": {},
     "output_type": "display_data"
    }
   ],
   "source": [
    "plt.imshow(analysis.A.T);"
   ]
  },
  {
   "cell_type": "code",
   "execution_count": 20,
   "metadata": {},
   "outputs": [],
   "source": [
    "R = analysis.R"
   ]
  },
  {
   "cell_type": "code",
   "execution_count": 21,
   "metadata": {},
   "outputs": [
    {
     "data": {
      "image/png": "[encoded data removed]",
      "text/plain": [
       "<Figure size 432x288 with 2 Axes>"
      ]
     },
     "metadata": {},
     "output_type": "display_data"
    }
   ],
   "source": [
    "fig, ax = plt.subplots()\n",
    "ax.imshow(R);\n",
    "fig.colorbar(ax.get_images()[0]);"
   ]
  },
  {
   "cell_type": "code",
   "execution_count": 22,
   "metadata": {},
   "outputs": [
    {
     "data": {
      "text/plain": [
       "1.734723475976807e-17"
      ]
     },
     "execution_count": 22,
     "metadata": {},
     "output_type": "execute_result"
    }
   ],
   "source": [
    "np.max(np.abs(R - R.T))"
   ]
  },
  {
   "cell_type": "code",
   "execution_count": 23,
   "metadata": {},
   "outputs": [
    {
     "data": {
      "text/plain": [
       "(0.0033483093783044917, 0.05661893844418099)"
      ]
     },
     "execution_count": 23,
     "metadata": {},
     "output_type": "execute_result"
    }
   ],
   "source": [
    "R.min(), R.max()"
   ]
  },
  {
   "cell_type": "code",
   "execution_count": 24,
   "metadata": {},
   "outputs": [
    {
     "data": {
      "text/plain": [
       "1.000027404584242"
      ]
     },
     "execution_count": 24,
     "metadata": {},
     "output_type": "execute_result"
    }
   ],
   "source": [
    "R.sum()"
   ]
  },
  {
   "cell_type": "code",
   "execution_count": 25,
   "metadata": {},
   "outputs": [],
   "source": [
    "C = Aho.get_ratio_matrix(R)"
   ]
  },
  {
   "cell_type": "code",
   "execution_count": 26,
   "metadata": {},
   "outputs": [
    {
     "data": {
      "image/png": "[encoded data removed]",
      "text/plain": [
       "<Figure size 432x288 with 1 Axes>"
      ]
     },
     "metadata": {},
     "output_type": "display_data"
    }
   ],
   "source": [
    "plt.imshow(C);"
   ]
  },
  {
   "cell_type": "code",
   "execution_count": 27,
   "metadata": {},
   "outputs": [
    {
     "data": {
      "text/plain": [
       "(100, 13)"
      ]
     },
     "execution_count": 27,
     "metadata": {},
     "output_type": "execute_result"
    }
   ],
   "source": [
    "analysis.A.shape"
   ]
  },
  {
   "cell_type": "code",
   "execution_count": 28,
   "metadata": {},
   "outputs": [],
   "source": [
    "def extract_planted_topic_permutation(A, true_topics):\n",
    "    V, K = A.shape\n",
    "    indices = np.arange(K)\n",
    "    A = A.copy()\n",
    "    perm = []\n",
    "    for i in range(K):\n",
    "        target = true_topics[:, [i]]\n",
    "        ii = np.argmin(np.sum(np.abs(A - target), axis=0))\n",
    "        perm.append(indices[ii])\n",
    "        indices = np.concatenate([indices[:ii], indices[ii+1:]])\n",
    "        A = np.concatenate([A[:, :ii], A[:, ii+1:]], axis=1)\n",
    "    return np.asarray(perm)"
   ]
  },
  {
   "cell_type": "code",
   "execution_count": 29,
   "metadata": {},
   "outputs": [],
   "source": [
    "perm = extract_planted_topic_permutation(analysis.A, true_topics = topics.transpose())"
   ]
  },
  {
   "cell_type": "code",
   "execution_count": 30,
   "metadata": {},
   "outputs": [
    {
     "data": {
      "image/png": "[encoded data removed]",
      "text/plain": [
       "<Figure size 432x288 with 1 Axes>"
      ]
     },
     "metadata": {},
     "output_type": "display_data"
    }
   ],
   "source": [
    "plt.imshow(analysis.A.T[perm, :]);"
   ]
  },
  {
   "cell_type": "code",
   "execution_count": 31,
   "metadata": {},
   "outputs": [],
   "source": [
    "Rp = permute_square(analysis.R, perm = perm)"
   ]
  },
  {
   "cell_type": "code",
   "execution_count": 32,
   "metadata": {},
   "outputs": [
    {
     "data": {
      "image/png": "[encoded data removed]",
      "text/plain": [
       "<Figure size 432x288 with 1 Axes>"
      ]
     },
     "metadata": {},
     "output_type": "display_data"
    }
   ],
   "source": [
    "plt.imshow(Rp);"
   ]
  },
  {
   "cell_type": "code",
   "execution_count": 33,
   "metadata": {},
   "outputs": [],
   "source": [
    "Cp = permute_square(C, perm=perm)"
   ]
  },
  {
   "cell_type": "code",
   "execution_count": 34,
   "metadata": {},
   "outputs": [
    {
     "data": {
      "image/png": "[encoded data removed]",
      "text/plain": [
       "<Figure size 432x288 with 1 Axes>"
      ]
     },
     "metadata": {},
     "output_type": "display_data"
    }
   ],
   "source": [
    "plt.imshow(Cp);"
   ]
  },
  {
   "cell_type": "code",
   "execution_count": 35,
   "metadata": {},
   "outputs": [],
   "source": [
    "all_constraints = Aho.get_constraints(C = Cp, threshold = -np.inf)"
   ]
  },
  {
   "cell_type": "code",
   "execution_count": 36,
   "metadata": {},
   "outputs": [
    {
     "data": {
      "text/plain": [
       "858"
      ]
     },
     "execution_count": 36,
     "metadata": {},
     "output_type": "execute_result"
    }
   ],
   "source": [
    "expected_max_constraints = (K * (K - 1) // 2) * (K - 2)\n",
    "expected_max_constraints"
   ]
  },
  {
   "cell_type": "code",
   "execution_count": 37,
   "metadata": {},
   "outputs": [],
   "source": [
    "assert len(all_constraints) == expected_max_constraints"
   ]
  },
  {
   "cell_type": "code",
   "execution_count": 38,
   "metadata": {},
   "outputs": [
    {
     "data": {
      "text/plain": [
       "TripletConstraint(i=3, j=0, k=10, strength=-0.22503619103813077)"
      ]
     },
     "execution_count": 38,
     "metadata": {},
     "output_type": "execute_result"
    }
   ],
   "source": [
    "i, j, k = all_constraints[-1][:3]\n",
    "all_constraints[-1]"
   ]
  },
  {
   "cell_type": "code",
   "execution_count": 39,
   "metadata": {},
   "outputs": [
    {
     "data": {
      "text/plain": [
       "(0.8969203515661958, 1.1219565426043265, 0.8983419697580952)"
      ]
     },
     "execution_count": 39,
     "metadata": {},
     "output_type": "execute_result"
    }
   ],
   "source": [
    "Cp[i,j], Cp[i,k], Cp[j,k]"
   ]
  },
  {
   "cell_type": "code",
   "execution_count": 40,
   "metadata": {},
   "outputs": [
    {
     "data": {
      "text/plain": [
       "(-0.22503619103813077, -0.0014216181918994542)"
      ]
     },
     "execution_count": 40,
     "metadata": {},
     "output_type": "execute_result"
    }
   ],
   "source": [
    "Cp[i,j] - Cp[i,k], Cp[i,j] - Cp[j,k]"
   ]
  },
  {
   "cell_type": "code",
   "execution_count": 41,
   "metadata": {},
   "outputs": [],
   "source": [
    "extracted_tree = Aho.extract(Rp, threshold=1e-10)"
   ]
  },
  {
   "cell_type": "code",
   "execution_count": 42,
   "metadata": {},
   "outputs": [
    {
     "data": {
      "image/png": "[encoded data removed]",
      "text/plain": [
       "<Figure size 1440x288 with 1 Axes>"
      ]
     },
     "metadata": {},
     "output_type": "display_data"
    }
   ],
   "source": [
    "fig, ax = plt.subplots(figsize = (20,4))\n",
    "nice_tree_plot(extracted_tree, ax=ax)"
   ]
  },
  {
   "cell_type": "code",
   "execution_count": 43,
   "metadata": {},
   "outputs": [],
   "source": [
    "R_exact = compute_combo_tensor(tree, alpha_func=alpha_func)"
   ]
  },
  {
   "cell_type": "code",
   "execution_count": 44,
   "metadata": {},
   "outputs": [],
   "source": [
    "C_exact = Aho.get_ratio_matrix(R_exact)"
   ]
  },
  {
   "cell_type": "code",
   "execution_count": 45,
   "metadata": {},
   "outputs": [
    {
     "data": {
      "image/png": "[encoded data removed]",
      "text/plain": [
       "<Figure size 432x288 with 1 Axes>"
      ]
     },
     "metadata": {},
     "output_type": "display_data"
    }
   ],
   "source": [
    "plt.imshow(C_exact);"
   ]
  },
  {
   "cell_type": "code",
   "execution_count": 46,
   "metadata": {},
   "outputs": [],
   "source": [
    "expected_tree = Aho.extract(R_exact, threshold=1e-10)"
   ]
  },
  {
   "cell_type": "code",
   "execution_count": 47,
   "metadata": {},
   "outputs": [
    {
     "data": {
      "image/png": "[encoded data removed]",
      "text/plain": [
       "<Figure size 1440x288 with 1 Axes>"
      ]
     },
     "metadata": {},
     "output_type": "display_data"
    }
   ],
   "source": [
    "fig, ax = plt.subplots(figsize = (20,4))\n",
    "nice_tree_plot(expected_tree, ax=ax)"
   ]
  },
  {
   "cell_type": "code",
   "execution_count": 48,
   "metadata": {},
   "outputs": [
    {
     "data": {
      "text/plain": [
       "858"
      ]
     },
     "execution_count": 48,
     "metadata": {},
     "output_type": "execute_result"
    }
   ],
   "source": [
    "all_constraints_exact = Aho.get_constraints(C_exact, threshold = -np.inf)\n",
    "len(all_constraints_exact)"
   ]
  },
  {
   "cell_type": "code",
   "execution_count": 49,
   "metadata": {},
   "outputs": [],
   "source": [
    "import pandas as pd\n",
    "from collections import OrderedDict\n",
    "from IPython.display import HTML"
   ]
  },
  {
   "cell_type": "code",
   "execution_count": 50,
   "metadata": {},
   "outputs": [
    {
     "data": {
      "text/html": [
       "<table border=\"1\" class=\"dataframe\">\n",
       "  <thead>\n",
       "    <tr style=\"text-align: right;\">\n",
       "      <th></th>\n",
       "      <th>i</th>\n",
       "      <th>j</th>\n",
       "      <th>k</th>\n",
       "      <th>strength_exact</th>\n",
       "      <th>strength_estimated</th>\n",
       "      <th>exaC_ij</th>\n",
       "      <th>exaC_ik</th>\n",
       "      <th>exaC_jk</th>\n",
       "      <th>estC_ij</th>\n",
       "      <th>estC_ik</th>\n",
       "      <th>estC_jk</th>\n",
       "    </tr>\n",
       "  </thead>\n",
       "  <tbody>\n",
       "    <tr>\n",
       "      <th>22</th>\n",
       "      <td>10</td>\n",
       "      <td>3</td>\n",
       "      <td>0</td>\n",
       "      <td>0.52571</td>\n",
       "      <td>0.22361</td>\n",
       "      <td>1.32571</td>\n",
       "      <td>0.80000</td>\n",
       "      <td>0.80000</td>\n",
       "      <td>1.12196</td>\n",
       "      <td>0.89834</td>\n",
       "      <td>0.89692</td>\n",
       "    </tr>\n",
       "    <tr>\n",
       "      <th>147</th>\n",
       "      <td>12</td>\n",
       "      <td>3</td>\n",
       "      <td>0</td>\n",
       "      <td>0.52571</td>\n",
       "      <td>0.19461</td>\n",
       "      <td>1.32571</td>\n",
       "      <td>0.80000</td>\n",
       "      <td>0.80000</td>\n",
       "      <td>1.10781</td>\n",
       "      <td>0.91320</td>\n",
       "      <td>0.89692</td>\n",
       "    </tr>\n",
       "    <tr>\n",
       "      <th>38</th>\n",
       "      <td>11</td>\n",
       "      <td>10</td>\n",
       "      <td>0</td>\n",
       "      <td>0.52571</td>\n",
       "      <td>0.19269</td>\n",
       "      <td>1.32571</td>\n",
       "      <td>0.80000</td>\n",
       "      <td>0.80000</td>\n",
       "      <td>1.10149</td>\n",
       "      <td>0.90879</td>\n",
       "      <td>0.89834</td>\n",
       "    </tr>\n",
       "    <tr>\n",
       "      <th>8</th>\n",
       "      <td>5</td>\n",
       "      <td>1</td>\n",
       "      <td>0</td>\n",
       "      <td>0.52571</td>\n",
       "      <td>0.19180</td>\n",
       "      <td>1.32571</td>\n",
       "      <td>0.80000</td>\n",
       "      <td>0.80000</td>\n",
       "      <td>1.09966</td>\n",
       "      <td>0.90785</td>\n",
       "      <td>0.89865</td>\n",
       "    </tr>\n",
       "    <tr>\n",
       "      <th>20</th>\n",
       "      <td>7</td>\n",
       "      <td>2</td>\n",
       "      <td>0</td>\n",
       "      <td>0.52571</td>\n",
       "      <td>0.18969</td>\n",
       "      <td>1.32571</td>\n",
       "      <td>0.80000</td>\n",
       "      <td>0.80000</td>\n",
       "      <td>1.09875</td>\n",
       "      <td>0.90905</td>\n",
       "      <td>0.89554</td>\n",
       "    </tr>\n",
       "    <tr>\n",
       "      <th>80</th>\n",
       "      <td>11</td>\n",
       "      <td>3</td>\n",
       "      <td>0</td>\n",
       "      <td>0.52571</td>\n",
       "      <td>0.18896</td>\n",
       "      <td>1.32571</td>\n",
       "      <td>0.80000</td>\n",
       "      <td>0.80000</td>\n",
       "      <td>1.09775</td>\n",
       "      <td>0.90879</td>\n",
       "      <td>0.89692</td>\n",
       "    </tr>\n",
       "    <tr>\n",
       "      <th>134</th>\n",
       "      <td>9</td>\n",
       "      <td>2</td>\n",
       "      <td>0</td>\n",
       "      <td>0.52571</td>\n",
       "      <td>0.18370</td>\n",
       "      <td>1.32571</td>\n",
       "      <td>0.80000</td>\n",
       "      <td>0.80000</td>\n",
       "      <td>1.10129</td>\n",
       "      <td>0.91758</td>\n",
       "      <td>0.89554</td>\n",
       "    </tr>\n",
       "    <tr>\n",
       "      <th>35</th>\n",
       "      <td>10</td>\n",
       "      <td>3</td>\n",
       "      <td>2</td>\n",
       "      <td>0.52571</td>\n",
       "      <td>0.18334</td>\n",
       "      <td>1.32571</td>\n",
       "      <td>0.80000</td>\n",
       "      <td>0.80000</td>\n",
       "      <td>1.12196</td>\n",
       "      <td>0.93861</td>\n",
       "      <td>0.93734</td>\n",
       "    </tr>\n",
       "    <tr>\n",
       "      <th>27</th>\n",
       "      <td>10</td>\n",
       "      <td>3</td>\n",
       "      <td>5</td>\n",
       "      <td>0.52571</td>\n",
       "      <td>0.18200</td>\n",
       "      <td>1.32571</td>\n",
       "      <td>0.80000</td>\n",
       "      <td>0.80000</td>\n",
       "      <td>1.12196</td>\n",
       "      <td>0.93046</td>\n",
       "      <td>0.93996</td>\n",
       "    </tr>\n",
       "    <tr>\n",
       "      <th>133</th>\n",
       "      <td>10</td>\n",
       "      <td>3</td>\n",
       "      <td>9</td>\n",
       "      <td>0.52571</td>\n",
       "      <td>0.18026</td>\n",
       "      <td>1.32571</td>\n",
       "      <td>0.80000</td>\n",
       "      <td>0.80000</td>\n",
       "      <td>1.12196</td>\n",
       "      <td>0.93816</td>\n",
       "      <td>0.94170</td>\n",
       "    </tr>\n",
       "    <tr>\n",
       "      <th>...</th>\n",
       "      <td>...</td>\n",
       "      <td>...</td>\n",
       "      <td>...</td>\n",
       "      <td>...</td>\n",
       "      <td>...</td>\n",
       "      <td>...</td>\n",
       "      <td>...</td>\n",
       "      <td>...</td>\n",
       "      <td>...</td>\n",
       "      <td>...</td>\n",
       "      <td>...</td>\n",
       "    </tr>\n",
       "    <tr>\n",
       "      <th>748</th>\n",
       "      <td>7</td>\n",
       "      <td>3</td>\n",
       "      <td>10</td>\n",
       "      <td>-0.52571</td>\n",
       "      <td>-0.19899</td>\n",
       "      <td>0.80000</td>\n",
       "      <td>0.80000</td>\n",
       "      <td>1.32571</td>\n",
       "      <td>0.92297</td>\n",
       "      <td>0.94737</td>\n",
       "      <td>1.12196</td>\n",
       "    </tr>\n",
       "    <tr>\n",
       "      <th>681</th>\n",
       "      <td>3</td>\n",
       "      <td>0</td>\n",
       "      <td>11</td>\n",
       "      <td>-0.52571</td>\n",
       "      <td>-0.20083</td>\n",
       "      <td>0.80000</td>\n",
       "      <td>1.32571</td>\n",
       "      <td>0.80000</td>\n",
       "      <td>0.89692</td>\n",
       "      <td>1.09775</td>\n",
       "      <td>0.90879</td>\n",
       "    </tr>\n",
       "    <tr>\n",
       "      <th>626</th>\n",
       "      <td>1</td>\n",
       "      <td>0</td>\n",
       "      <td>5</td>\n",
       "      <td>-0.52571</td>\n",
       "      <td>-0.20101</td>\n",
       "      <td>0.80000</td>\n",
       "      <td>1.32571</td>\n",
       "      <td>0.80000</td>\n",
       "      <td>0.89865</td>\n",
       "      <td>1.09966</td>\n",
       "      <td>0.90785</td>\n",
       "    </tr>\n",
       "    <tr>\n",
       "      <th>658</th>\n",
       "      <td>3</td>\n",
       "      <td>1</td>\n",
       "      <td>10</td>\n",
       "      <td>-0.52571</td>\n",
       "      <td>-0.20204</td>\n",
       "      <td>0.80000</td>\n",
       "      <td>1.32571</td>\n",
       "      <td>0.80000</td>\n",
       "      <td>0.91992</td>\n",
       "      <td>1.12196</td>\n",
       "      <td>0.95610</td>\n",
       "    </tr>\n",
       "    <tr>\n",
       "      <th>740</th>\n",
       "      <td>10</td>\n",
       "      <td>0</td>\n",
       "      <td>11</td>\n",
       "      <td>-0.52571</td>\n",
       "      <td>-0.20315</td>\n",
       "      <td>0.80000</td>\n",
       "      <td>1.32571</td>\n",
       "      <td>0.80000</td>\n",
       "      <td>0.89834</td>\n",
       "      <td>1.10149</td>\n",
       "      <td>0.90879</td>\n",
       "    </tr>\n",
       "    <tr>\n",
       "      <th>637</th>\n",
       "      <td>2</td>\n",
       "      <td>0</td>\n",
       "      <td>7</td>\n",
       "      <td>-0.52571</td>\n",
       "      <td>-0.20321</td>\n",
       "      <td>0.80000</td>\n",
       "      <td>1.32571</td>\n",
       "      <td>0.80000</td>\n",
       "      <td>0.89554</td>\n",
       "      <td>1.09875</td>\n",
       "      <td>0.90905</td>\n",
       "    </tr>\n",
       "    <tr>\n",
       "      <th>639</th>\n",
       "      <td>2</td>\n",
       "      <td>0</td>\n",
       "      <td>9</td>\n",
       "      <td>-0.52571</td>\n",
       "      <td>-0.20574</td>\n",
       "      <td>0.80000</td>\n",
       "      <td>1.32571</td>\n",
       "      <td>0.80000</td>\n",
       "      <td>0.89554</td>\n",
       "      <td>1.10129</td>\n",
       "      <td>0.91758</td>\n",
       "    </tr>\n",
       "    <tr>\n",
       "      <th>666</th>\n",
       "      <td>3</td>\n",
       "      <td>0</td>\n",
       "      <td>12</td>\n",
       "      <td>-0.52571</td>\n",
       "      <td>-0.21088</td>\n",
       "      <td>0.80000</td>\n",
       "      <td>1.32571</td>\n",
       "      <td>0.80000</td>\n",
       "      <td>0.89692</td>\n",
       "      <td>1.10781</td>\n",
       "      <td>0.91320</td>\n",
       "    </tr>\n",
       "    <tr>\n",
       "      <th>747</th>\n",
       "      <td>10</td>\n",
       "      <td>0</td>\n",
       "      <td>3</td>\n",
       "      <td>-0.52571</td>\n",
       "      <td>-0.22361</td>\n",
       "      <td>0.80000</td>\n",
       "      <td>1.32571</td>\n",
       "      <td>0.80000</td>\n",
       "      <td>0.89834</td>\n",
       "      <td>1.12196</td>\n",
       "      <td>0.89692</td>\n",
       "    </tr>\n",
       "    <tr>\n",
       "      <th>679</th>\n",
       "      <td>3</td>\n",
       "      <td>0</td>\n",
       "      <td>10</td>\n",
       "      <td>-0.52571</td>\n",
       "      <td>-0.22504</td>\n",
       "      <td>0.80000</td>\n",
       "      <td>1.32571</td>\n",
       "      <td>0.80000</td>\n",
       "      <td>0.89692</td>\n",
       "      <td>1.12196</td>\n",
       "      <td>0.89834</td>\n",
       "    </tr>\n",
       "  </tbody>\n",
       "</table>"
      ],
      "text/plain": [
       "<IPython.core.display.HTML object>"
      ]
     },
     "execution_count": 50,
     "metadata": {},
     "output_type": "execute_result"
    }
   ],
   "source": [
    "constraint_compare = []\n",
    "for i in range(K):\n",
    "    for j in range(i):\n",
    "        for k in range(K):\n",
    "            if k == i or k == j:\n",
    "                continue\n",
    "            rounder = lambda x: np.round(x, decimals = 5)\n",
    "            exaC = [C_exact[i, j], C_exact[i, k], C_exact[j, k]]\n",
    "            estC = [Cp[i, j], Cp[i, k], Cp[j, k]]\n",
    "            exaStrength = min(exaC[0] - exaC[1], exaC[0] - exaC[2])\n",
    "            estStrength = min(estC[0] - estC[1], estC[0] - estC[2])\n",
    "            constraint_compare.append(OrderedDict([\n",
    "                (\"i\", i), (\"j\", j), (\"k\", k),\n",
    "                (\"strength_exact\", rounder(exaStrength)),\n",
    "                (\"strength_estimated\", rounder(estStrength)),\n",
    "                (\"exaC_ij\", rounder(exaC[0])),\n",
    "                (\"exaC_ik\", rounder(exaC[1])),\n",
    "                (\"exaC_jk\", rounder(exaC[2])),\n",
    "                (\"estC_ij\", rounder(estC[0])),\n",
    "                (\"estC_ik\", rounder(estC[1])),\n",
    "                (\"estC_jk\", rounder(estC[2])),\n",
    "            ]))\n",
    "constraint_compare = pd.DataFrame.from_records(constraint_compare)\n",
    "constraint_compare.sort_values(by=\"strength_exact\", ascending=False, inplace=True)\n",
    "constraint_compare.reset_index(drop = True, inplace = True)\n",
    "constraint_compare.sort_values(by=\"strength_estimated\", ascending=False, inplace=True)\n",
    "\n",
    "HTML(constraint_compare.to_html(max_rows=20))"
   ]
  },
  {
   "cell_type": "code",
   "execution_count": 51,
   "metadata": {},
   "outputs": [
    {
     "data": {
      "image/png": "[encoded data removed]",
      "text/plain": [
       "<Figure size 432x288 with 2 Axes>"
      ]
     },
     "metadata": {},
     "output_type": "display_data"
    }
   ],
   "source": [
    "v = np.max(np.abs(R_exact - Rp))\n",
    "plt.imshow(R_exact - Rp, vmin=-v, vmax=v, cmap='seismic');\n",
    "plt.colorbar();"
   ]
  },
  {
   "cell_type": "code",
   "execution_count": 52,
   "metadata": {},
   "outputs": [
    {
     "data": {
      "text/plain": [
       "(1.0, 1.0000274045842419, 0.13200000000000003, 0.05661893844418099)"
      ]
     },
     "execution_count": 52,
     "metadata": {},
     "output_type": "execute_result"
    }
   ],
   "source": [
    "R_exact.sum(), Rp.sum(), R_exact[0,0], Rp[0,0]"
   ]
  },
  {
   "cell_type": "markdown",
   "metadata": {},
   "source": [
    "Need to diagnose results...\n",
    "* incorrect topics?  (how to map recovered topics onto \"expected\" topics?)\n",
    "  * topics with too much overlap?\n",
    "    * try sparser dirichlet?\n",
    "    * or try fixed topics, chosen specifically to have low overlap (this makes it easier to map recovered to expected)\n",
    "* or: correct topics but noisy R estimation?  (throwing away too many triplets??)\n",
    "\n",
    "To deal with noisy R estimation, may need to adapt algorithm to optimize some cost function\n",
    "that treats triplets as soft constraints; optimize some kind of \"cost function\" at each recursive split."
   ]
  },
  {
   "cell_type": "markdown",
   "metadata": {},
   "source": [
    "## Extraction applied to real data"
   ]
  },
  {
   "cell_type": "code",
   "execution_count": 53,
   "metadata": {},
   "outputs": [],
   "source": [
    "corpus_matrix_file = \"../anchor-word-recovery/M_nips.full_docs.mat.trunc.mat\"\n",
    "vocab_file = \"../anchor-word-recovery/vocab.nips.txt.trunc\""
   ]
  },
  {
   "cell_type": "code",
   "execution_count": 54,
   "metadata": {},
   "outputs": [],
   "source": [
    "analysis = Analysis(\n",
    "    infile = corpus_matrix_file,\n",
    "    vocab_file = vocab_file,\n",
    "    outfile = None,\n",
    "    loss = \"L2\",\n",
    "    K = 15,\n",
    "    seed = 100,\n",
    "    eps = 1e-6,\n",
    "    new_dim = 1000,\n",
    "    max_threads = 8,\n",
    "    anchor_thresh = 100,\n",
    "    top_words = 10,\n",
    ")"
   ]
  },
  {
   "cell_type": "code",
   "execution_count": 55,
   "metadata": {},
   "outputs": [
    {
     "name": "stdout",
     "output_type": "stream",
     "text": [
      "Input matrix shape: (2940, 1500)\n",
      "identifying candidate anchors\n",
      "1735 candidates\n",
      "Sum of entries in Q is  1.0\n",
      "Multiplying Q took  1.9974219799041748 seconds\n",
      "Q sum is 1.0\n",
      "done reading documents\n",
      "anchors are:\n",
      "0 neuroscience\n",
      "1 part\n",
      "2 iii\n",
      "3 cognitive\n",
      "4 paul\n",
      "5 science\n",
      "6 architecture\n",
      "7 theory\n",
      "8 visual\n",
      "9 processing\n",
      "10 policy\n",
      "11 head\n",
      "12 speaker\n",
      "13 spike\n",
      "14 character\n",
      "begin threaded recovery with 8 processors\n",
      "0\t73\t0.3997861214540097\n",
      "1000\t47\t0.20296322373079012\n",
      "2000\t69\t0.22478639073903145\n",
      "done recovering\n",
      "neuroscience : neuroscience implementation application planning navigation control singh stephen andrew richard \n",
      "part : part algorithm control navigation planning signal speech chip system analog \n",
      "iii : iii application realization theories utility formalism implementation animal theoretic tishby \n",
      "cognitive : cognitive application implementation action agent control plan policies exploration boulder \n",
      "paul : david michael john richard peter index author thomas paul william \n",
      "science : science algorithm application control unit network input representation set level \n",
      "architecture : architecture algorithm network unit input weight neural output problem function \n",
      "theory : theory function algorithm network data set neural error result point \n",
      "visual : visual signal speech image object neuron field system motion map \n",
      "processing : processing signal speech control system application filter acoustic noise information \n",
      "policy : function algorithm network problem set data system result method neural \n",
      "head : network input system neural unit function data output direction set \n",
      "speaker : network training neural set data input function system unit error \n",
      "spike : neuron network input function neural system output data pattern result \n",
      "character : network input neural set function training unit system output weight \n",
      "CPU times: user 8.51 s, sys: 2.19 s, total: 10.7 s\n",
      "Wall time: 15.5 s\n"
     ]
    }
   ],
   "source": [
    "%%time\n",
    "analysis.run();"
   ]
  },
  {
   "cell_type": "code",
   "execution_count": 56,
   "metadata": {},
   "outputs": [],
   "source": [
    "R = analysis.R"
   ]
  },
  {
   "cell_type": "code",
   "execution_count": 57,
   "metadata": {},
   "outputs": [],
   "source": [
    "extracted_tree = Aho.extract(R, threshold = 1e-10)"
   ]
  },
  {
   "cell_type": "code",
   "execution_count": 58,
   "metadata": {},
   "outputs": [
    {
     "data": {
      "image/png": "[encoded data removed]",
      "text/plain": [
       "<Figure size 1440x288 with 1 Axes>"
      ]
     },
     "metadata": {},
     "output_type": "display_data"
    }
   ],
   "source": [
    "fig, ax = plt.subplots(figsize = (20,4))\n",
    "nice_tree_plot(extracted_tree, ax=ax)"
   ]
  },
  {
   "cell_type": "code",
   "execution_count": 59,
   "metadata": {},
   "outputs": [
    {
     "name": "stdout",
     "output_type": "stream",
     "text": [
      "(0) neuroscience:\n",
      "  neuroscience, implementation, application, planning, navigation, control, singh, stephen, andrew, richard\n",
      "(1) part:\n",
      "  part, algorithm, control, navigation, planning, signal, speech, chip, system, analog\n",
      "(2) iii:\n",
      "  iii, application, realization, theories, utility, formalism, implementation, animal, theoretic, tishby\n",
      "(3) cognitive:\n",
      "  cognitive, application, implementation, action, agent, control, plan, policies, exploration, boulder\n",
      "(4) paul:\n",
      "  david, michael, john, richard, peter, index, author, thomas, paul, william\n",
      "(5) science:\n",
      "  science, algorithm, application, control, unit, network, input, representation, set, level\n",
      "(6) architecture:\n",
      "  architecture, algorithm, network, unit, input, weight, neural, output, problem, function\n",
      "(7) theory:\n",
      "  theory, function, algorithm, network, data, set, neural, error, result, point\n",
      "(8) visual:\n",
      "  visual, signal, speech, image, object, neuron, field, system, motion, map\n",
      "(9) processing:\n",
      "  processing, signal, speech, control, system, application, filter, acoustic, noise, information\n",
      "(10) policy:\n",
      "  function, algorithm, network, problem, set, data, system, result, method, neural\n",
      "(11) head:\n",
      "  network, input, system, neural, unit, function, data, output, direction, set\n",
      "(12) speaker:\n",
      "  network, training, neural, set, data, input, function, system, unit, error\n",
      "(13) spike:\n",
      "  neuron, network, input, function, neural, system, output, data, pattern, result\n",
      "(14) character:\n",
      "  network, input, neural, set, function, training, unit, system, output, weight\n"
     ]
    }
   ],
   "source": [
    "for i, t in enumerate(analysis.all_topwords):\n",
    "    print(\"({}) {}:\\n  {}\".format(i, t.anchor_word, \", \".join(t.top_words)))"
   ]
  },
  {
   "cell_type": "markdown",
   "metadata": {},
   "source": [
    "## Examine SVD of $R$"
   ]
  },
  {
   "cell_type": "code",
   "execution_count": 60,
   "metadata": {},
   "outputs": [],
   "source": [
    "u, s, vh = np.linalg.svd(R_exact)"
   ]
  },
  {
   "cell_type": "code",
   "execution_count": 61,
   "metadata": {},
   "outputs": [],
   "source": [
    "vmax = max(np.max(np.abs(u)), np.max(np.abs(vh)))"
   ]
  },
  {
   "cell_type": "code",
   "execution_count": 62,
   "metadata": {},
   "outputs": [
    {
     "data": {
      "image/png": "[encoded data removed]",
      "text/plain": [
       "<Figure size 432x288 with 2 Axes>"
      ]
     },
     "metadata": {},
     "output_type": "display_data"
    }
   ],
   "source": [
    "plt.imshow(u, vmin=-vmax, vmax=vmax, cmap='bwr');\n",
    "plt.colorbar();"
   ]
  },
  {
   "cell_type": "code",
   "execution_count": 63,
   "metadata": {},
   "outputs": [
    {
     "data": {
      "image/png": "[encoded data removed]",
      "text/plain": [
       "<Figure size 432x288 with 2 Axes>"
      ]
     },
     "metadata": {},
     "output_type": "display_data"
    }
   ],
   "source": [
    "plt.imshow(vh, vmin=-vmax, vmax=vmax, cmap='bwr');\n",
    "plt.colorbar();"
   ]
  },
  {
   "cell_type": "code",
   "execution_count": 64,
   "metadata": {},
   "outputs": [
    {
     "data": {
      "text/plain": [
       "5.551115123125783e-16"
      ]
     },
     "execution_count": 64,
     "metadata": {},
     "output_type": "execute_result"
    }
   ],
   "source": [
    "np.max(np.abs(vh - u.T))"
   ]
  },
  {
   "cell_type": "code",
   "execution_count": 65,
   "metadata": {
    "scrolled": false
   },
   "outputs": [
    {
     "data": {
      "text/plain": [
       "array([0.153887  , 0.02311951, 0.01193639, 0.01193639, 0.00497037,\n",
       "       0.00493828, 0.00493828, 0.00421037, 0.00421037, 0.00421037,\n",
       "       0.00421037, 0.00421037, 0.00421037])"
      ]
     },
     "execution_count": 65,
     "metadata": {},
     "output_type": "execute_result"
    }
   ],
   "source": [
    "s"
   ]
  },
  {
   "cell_type": "markdown",
   "metadata": {},
   "source": [
    "Note: with all other quantities kept constant, the number of documents required is essentially $O(1/\\gamma^6)$, where $\\gamma$ is the smallest singular value of $R$.  \n",
    "Furthermore, the recovery of $A$ and $R$ becomes unstable when $\\gamma$ is too small.\n",
    "\n",
    "(Source: Theorem 1 in Arora et al, \"Learning Topic Models -- Provably and Efficiently\")"
   ]
  },
  {
   "cell_type": "code",
   "execution_count": 66,
   "metadata": {},
   "outputs": [
    {
     "data": {
      "text/plain": [
       "179505680067395"
      ]
     },
     "execution_count": 66,
     "metadata": {},
     "output_type": "execute_result"
    }
   ],
   "source": [
    "int(1 / np.min(s)**6)"
   ]
  },
  {
   "cell_type": "code",
   "execution_count": 67,
   "metadata": {},
   "outputs": [
    {
     "data": {
      "text/plain": [
       "75298"
      ]
     },
     "execution_count": 67,
     "metadata": {},
     "output_type": "execute_result"
    }
   ],
   "source": [
    "int(1 / np.max(s)**6)"
   ]
  },
  {
   "cell_type": "markdown",
   "metadata": {},
   "source": [
    "## Trying to recover $R$ matrix via variational inference based on LDA model"
   ]
  },
  {
   "cell_type": "code",
   "execution_count": 68,
   "metadata": {},
   "outputs": [],
   "source": [
    "import simple_hierarchical_topic_model as shtm"
   ]
  },
  {
   "cell_type": "code",
   "execution_count": 69,
   "metadata": {},
   "outputs": [],
   "source": [
    "lda_vi = shtm.SimpleHierarchicalTopicModel(vocab = vocab, paths = [(i,) for i in range(K)], prior_params_DL = 10.0)"
   ]
  },
  {
   "cell_type": "code",
   "execution_count": 70,
   "metadata": {},
   "outputs": [
    {
     "name": "stderr",
     "output_type": "stream",
     "text": [
      "  2%|▏         | 9/500 [02:16<1:43:13, 12.61s/it, Status=computing statistics]\n"
     ]
    }
   ],
   "source": [
    "lda_vi.fit(data = data.transpose());"
   ]
  },
  {
   "cell_type": "code",
   "execution_count": 71,
   "metadata": {},
   "outputs": [],
   "source": [
    "assign_L = np.argmax(lda_vi.var_params_L, axis=1)"
   ]
  },
  {
   "cell_type": "code",
   "execution_count": 72,
   "metadata": {},
   "outputs": [
    {
     "data": {
      "image/png": "[encoded data removed]",
      "text/plain": [
       "<Figure size 432x288 with 1 Axes>"
      ]
     },
     "metadata": {},
     "output_type": "display_data"
    }
   ],
   "source": [
    "plt.hist(assign_L, bins=np.arange(K+1));"
   ]
  },
  {
   "cell_type": "code",
   "execution_count": 73,
   "metadata": {},
   "outputs": [
    {
     "data": {
      "text/plain": [
       "(13, 13)"
      ]
     },
     "execution_count": 73,
     "metadata": {},
     "output_type": "execute_result"
    }
   ],
   "source": [
    "cooccurrence_lda_vi = np.zeros((K, K))\n",
    "for doc_index in range(num_docs):\n",
    "    lo = lda_vi.token_offsets_by_document[doc_index]\n",
    "    hi = lda_vi.token_offsets_by_document[doc_index + 1]\n",
    "    for i in range(lo, hi, 2):\n",
    "        cooccurrence_lda_vi[assign_L[i], assign_L[i + 1]] += 1\n",
    "        #cooccurrence_lda_vi[assign_L[i + 1], assign_L[i]] += 1\n",
    "R_lda_vi = (0.5 * cooccurrence_lda_vi + 0.5 * cooccurrence_lda_vi.T) / cooccurrence_lda_vi.sum()\n",
    "del cooccurrence_lda_vi\n",
    "R_lda_vi.shape"
   ]
  },
  {
   "cell_type": "code",
   "execution_count": 74,
   "metadata": {},
   "outputs": [
    {
     "data": {
      "image/png": "[encoded data removed]",
      "text/plain": [
       "<Figure size 432x288 with 1 Axes>"
      ]
     },
     "metadata": {},
     "output_type": "display_data"
    }
   ],
   "source": [
    "plt.imshow(R_lda_vi);"
   ]
  },
  {
   "cell_type": "code",
   "execution_count": 75,
   "metadata": {},
   "outputs": [],
   "source": [
    "C_lda_vi = Aho.get_ratio_matrix(R_lda_vi)"
   ]
  },
  {
   "cell_type": "code",
   "execution_count": 76,
   "metadata": {},
   "outputs": [
    {
     "data": {
      "image/png": "[encoded data removed]",
      "text/plain": [
       "<Figure size 432x288 with 1 Axes>"
      ]
     },
     "metadata": {},
     "output_type": "display_data"
    }
   ],
   "source": [
    "plt.imshow(C_lda_vi);"
   ]
  },
  {
   "cell_type": "code",
   "execution_count": 77,
   "metadata": {},
   "outputs": [],
   "source": [
    "A_lda_vi = lda_vi.get_expected_topic_vectors()"
   ]
  },
  {
   "cell_type": "code",
   "execution_count": 78,
   "metadata": {
    "scrolled": true
   },
   "outputs": [
    {
     "data": {
      "image/png": "[encoded data removed]",
      "text/plain": [
       "<Figure size 432x288 with 1 Axes>"
      ]
     },
     "metadata": {},
     "output_type": "display_data"
    }
   ],
   "source": [
    "plt.imshow(A_lda_vi);"
   ]
  },
  {
   "cell_type": "code",
   "execution_count": 79,
   "metadata": {},
   "outputs": [],
   "source": [
    "from importlib import reload\n",
    "import simple_hierarchical_topic_model\n",
    "reload(simple_hierarchical_topic_model)\n",
    "import simple_hierarchical_topic_model as shtm\n",
    "del simple_hierarchical_topic_model"
   ]
  },
  {
   "cell_type": "code",
   "execution_count": null,
   "metadata": {},
   "outputs": [],
   "source": []
  }
 ],
 "metadata": {
  "kernelspec": {
   "display_name": "Python 3",
   "language": "python",
   "name": "python3"
  },
  "language_info": {
   "codemirror_mode": {
    "name": "ipython",
    "version": 3
   },
   "file_extension": ".py",
   "mimetype": "text/x-python",
   "name": "python",
   "nbconvert_exporter": "python",
   "pygments_lexer": "ipython3",
   "version": "3.6.5"
  }
 },
 "nbformat": 4,
 "nbformat_minor": 2
}
