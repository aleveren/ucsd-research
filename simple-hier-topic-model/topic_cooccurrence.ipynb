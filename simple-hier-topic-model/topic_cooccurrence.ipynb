{
 "cells": [
  {
   "cell_type": "code",
   "execution_count": 1,
   "metadata": {},
   "outputs": [],
   "source": [
    "import numpy as np\n",
    "import matplotlib.pyplot as plt\n",
    "from scipy.special import gamma\n",
    "import networkx as nx\n",
    "from collections import Counter\n",
    "\n",
    "from sim_data import SimData\n",
    "from utils import niceprint"
   ]
  },
  {
   "cell_type": "code",
   "execution_count": 2,
   "metadata": {},
   "outputs": [],
   "source": [
    "%matplotlib inline"
   ]
  },
  {
   "cell_type": "code",
   "execution_count": 3,
   "metadata": {},
   "outputs": [],
   "source": [
    "np.random.seed(1)"
   ]
  },
  {
   "cell_type": "code",
   "execution_count": 4,
   "metadata": {},
   "outputs": [],
   "source": [
    "sim = SimData(\n",
    "    branching_factors = [3, 3],\n",
    "    num_docs = 100000,\n",
    "    doc_length = 2,\n",
    "    topic_sharpness = 20,\n",
    "    alpha_leaves = 0.01,\n",
    "    alpha_depths = 1,\n",
    "    heavy_words_per_topic = 2,\n",
    ")"
   ]
  },
  {
   "cell_type": "code",
   "execution_count": 5,
   "metadata": {},
   "outputs": [],
   "source": [
    "def B(a):\n",
    "    numer = np.prod(gamma(a))\n",
    "    denom = gamma(np.sum(a))\n",
    "    return numer / denom"
   ]
  },
  {
   "cell_type": "code",
   "execution_count": 6,
   "metadata": {},
   "outputs": [],
   "source": [
    "def g(x, indices):\n",
    "    y = np.asarray(x).copy()\n",
    "    np.add.at(y, indices, 1)\n",
    "    return y"
   ]
  },
  {
   "cell_type": "code",
   "execution_count": 7,
   "metadata": {},
   "outputs": [],
   "source": [
    "def f(a, i1, i2):\n",
    "    s = np.sum(a)\n",
    "    if i1 == i2:\n",
    "        return (a[i1] + 1) * a[i1] / ((1 + s) * s)\n",
    "    else:\n",
    "        return a[i1] * a[i2] / ((1 + s) * s)"
   ]
  },
  {
   "cell_type": "code",
   "execution_count": 8,
   "metadata": {},
   "outputs": [
    {
     "data": {
      "text/plain": [
       "0.083333333333333329"
      ]
     },
     "execution_count": 8,
     "metadata": {},
     "output_type": "execute_result"
    }
   ],
   "source": [
    "f(sim.alpha_depths, 1, 2)"
   ]
  },
  {
   "cell_type": "code",
   "execution_count": 9,
   "metadata": {},
   "outputs": [
    {
     "data": {
      "text/plain": [
       "0.083333333333333329"
      ]
     },
     "execution_count": 9,
     "metadata": {},
     "output_type": "execute_result"
    }
   ],
   "source": [
    "B(g(sim.alpha_depths, [1, 2])) / B(sim.alpha_depths)"
   ]
  },
  {
   "cell_type": "code",
   "execution_count": 10,
   "metadata": {},
   "outputs": [],
   "source": [
    "def calc_cooccurrence(sim, path1, path2):\n",
    "    result = f(sim.alpha_depths, len(path1), len(path2))\n",
    "    #result = B(g(sim.alpha_depths, [len(path1), len(path2)]))\n",
    "    #result /= B(sim.alpha_depths) * B(sim.alpha_leaves)\n",
    "    leaves = [x for x in sim.nodes if len(x) == len(sim.alpha_depths) - 1]\n",
    "    factor = 0\n",
    "    for j1, p1 in enumerate(leaves):\n",
    "        if p1[:len(path1)] != path1:\n",
    "            continue\n",
    "        for j2, p2 in enumerate(leaves):\n",
    "            if p2[:len(path2)] != path2:\n",
    "                continue\n",
    "            #factor += B(g(sim.alpha_leaves, [j1, j2]))\n",
    "            factor += f(sim.alpha_leaves, j1, j2)\n",
    "    result *= factor\n",
    "    return result\n",
    "\n",
    "def calc_cooccurrence_matrix(sim):\n",
    "    result = np.zeros((sim.num_nodes, sim.num_nodes))\n",
    "    for i1, p1 in enumerate(sim.nodes):\n",
    "        for i2, p2 in enumerate(sim.nodes):\n",
    "            result[i1, i2] = calc_cooccurrence(sim, p1, p2)\n",
    "    return result"
   ]
  },
  {
   "cell_type": "code",
   "execution_count": 11,
   "metadata": {},
   "outputs": [
    {
     "data": {
      "image/png": "[encoded data removed]",
      "text/plain": [
       "<matplotlib.figure.Figure at 0x10b7695c0>"
      ]
     },
     "metadata": {},
     "output_type": "display_data"
    }
   ],
   "source": [
    "R = calc_cooccurrence_matrix(sim)\n",
    "Rp = R - np.diag(np.diag(R))\n",
    "\n",
    "fig, ax = plt.subplots()\n",
    "plt.imshow(Rp)\n",
    "plt.axis('off');"
   ]
  },
  {
   "cell_type": "code",
   "execution_count": 12,
   "metadata": {},
   "outputs": [
    {
     "name": "stdout",
     "output_type": "stream",
     "text": [
      "[[0.16667 0.02778 0.00926 0.00926 0.00926 0.02778 0.00926 0.00926 0.00926 0.02778 0.00926 0.00926 0.00926]\n",
      " [0.02778 0.05250 0.00875 0.00875 0.00875 0.00153 0.00025 0.00025 0.00025 0.00153 0.00025 0.00025 0.00025]\n",
      " [0.00926 0.00875 0.01716 0.00017 0.00017 0.00025 0.00017 0.00017 0.00017 0.00025 0.00017 0.00017 0.00017]\n",
      " [0.00926 0.00875 0.00017 0.01716 0.00017 0.00025 0.00017 0.00017 0.00017 0.00025 0.00017 0.00017 0.00017]\n",
      " [0.00926 0.00875 0.00017 0.00017 0.01716 0.00025 0.00017 0.00017 0.00017 0.00025 0.00017 0.00017 0.00017]\n",
      " [0.02778 0.00153 0.00025 0.00025 0.00025 0.05250 0.00875 0.00875 0.00875 0.00153 0.00025 0.00025 0.00025]\n",
      " [0.00926 0.00025 0.00017 0.00017 0.00017 0.00875 0.01716 0.00017 0.00017 0.00025 0.00017 0.00017 0.00017]\n",
      " [0.00926 0.00025 0.00017 0.00017 0.00017 0.00875 0.00017 0.01716 0.00017 0.00025 0.00017 0.00017 0.00017]\n",
      " [0.00926 0.00025 0.00017 0.00017 0.00017 0.00875 0.00017 0.00017 0.01716 0.00025 0.00017 0.00017 0.00017]\n",
      " [0.02778 0.00153 0.00025 0.00025 0.00025 0.00153 0.00025 0.00025 0.00025 0.05250 0.00875 0.00875 0.00875]\n",
      " [0.00926 0.00025 0.00017 0.00017 0.00017 0.00025 0.00017 0.00017 0.00017 0.00875 0.01716 0.00017 0.00017]\n",
      " [0.00926 0.00025 0.00017 0.00017 0.00017 0.00025 0.00017 0.00017 0.00017 0.00875 0.00017 0.01716 0.00017]\n",
      " [0.00926 0.00025 0.00017 0.00017 0.00017 0.00025 0.00017 0.00017 0.00017 0.00875 0.00017 0.00017 0.01716]]\n"
     ]
    }
   ],
   "source": [
    "niceprint(R, precision=5)"
   ]
  },
  {
   "cell_type": "code",
   "execution_count": 13,
   "metadata": {},
   "outputs": [
    {
     "name": "stdout",
     "output_type": "stream",
     "text": [
      "[ 0.33333333  0.33333333  0.33333333]\n",
      "[ 0.11111111  0.11111111  0.11111111  0.11111111  0.11111111  0.11111111\n",
      "  0.11111111  0.11111111  0.11111111]\n",
      "[ 0.33333333  0.11111111  0.03703704  0.03703704  0.03703704  0.11111111\n",
      "  0.03703704  0.03703704  0.03703704  0.11111111  0.03703704  0.03703704\n",
      "  0.03703704]\n"
     ]
    }
   ],
   "source": [
    "aaa = sim.alpha_depths / np.sum(sim.alpha_depths)\n",
    "bbb = sim.alpha_leaves / np.sum(sim.alpha_leaves)\n",
    "\n",
    "node_distrib = np.array([\n",
    "    aaa[0],\n",
    "    aaa[1] * (bbb[0] + bbb[1] + bbb[2]),\n",
    "    aaa[2] * bbb[0],\n",
    "    aaa[2] * bbb[1],\n",
    "    aaa[2] * bbb[2],\n",
    "    aaa[1] * (bbb[3] + bbb[4] + bbb[5]),\n",
    "    aaa[2] * bbb[3],\n",
    "    aaa[2] * bbb[4],\n",
    "    aaa[2] * bbb[5],\n",
    "    aaa[1] * (bbb[6] + bbb[7] + bbb[8]),\n",
    "    aaa[2] * bbb[6],\n",
    "    aaa[2] * bbb[7],\n",
    "    aaa[2] * bbb[8],\n",
    "])\n",
    "\n",
    "print(aaa)\n",
    "print(bbb)\n",
    "print(node_distrib)"
   ]
  },
  {
   "cell_type": "code",
   "execution_count": 14,
   "metadata": {},
   "outputs": [
    {
     "data": {
      "image/png": "[encoded data removed]",
      "text/plain": [
       "<matplotlib.figure.Figure at 0x10b7dfb38>"
      ]
     },
     "metadata": {},
     "output_type": "display_data"
    }
   ],
   "source": [
    "ccc = np.outer(node_distrib, node_distrib)\n",
    "ccc -= np.diag(np.diag(ccc))\n",
    "plt.imshow(ccc);"
   ]
  },
  {
   "cell_type": "code",
   "execution_count": 15,
   "metadata": {},
   "outputs": [
    {
     "name": "stdout",
     "output_type": "stream",
     "text": [
      "CPU times: user 13.7 s, sys: 204 ms, total: 13.9 s\n",
      "Wall time: 14.2 s\n"
     ]
    }
   ],
   "source": [
    "%%time\n",
    "docs = sim.generate()"
   ]
  },
  {
   "cell_type": "code",
   "execution_count": 16,
   "metadata": {},
   "outputs": [
    {
     "name": "stdout",
     "output_type": "stream",
     "text": [
      "[[0.2941 0.2941 0.0147 0.0147 0.0147 0.0147 0.0147 0.0147 0.0147 0.0147 0.0147 0.0147 0.0147 0.0147 0.0147 0.0147 0.0147 0.0147 0.0147 0.0147 0.0147 0.0147 0.0147 0.0147 0.0147 0.0147 0.0147 0.0147 0.0147 0.0147]\n",
      " [0.0147 0.0147 0.2941 0.2941 0.0147 0.0147 0.0147 0.0147 0.0147 0.0147 0.0147 0.0147 0.0147 0.0147 0.0147 0.0147 0.0147 0.0147 0.0147 0.0147 0.0147 0.0147 0.0147 0.0147 0.0147 0.0147 0.0147 0.0147 0.0147 0.0147]\n",
      " [0.0147 0.0147 0.0147 0.0147 0.2941 0.2941 0.0147 0.0147 0.0147 0.0147 0.0147 0.0147 0.0147 0.0147 0.0147 0.0147 0.0147 0.0147 0.0147 0.0147 0.0147 0.0147 0.0147 0.0147 0.0147 0.0147 0.0147 0.0147 0.0147 0.0147]\n",
      " [0.0147 0.0147 0.0147 0.0147 0.0147 0.0147 0.2941 0.2941 0.0147 0.0147 0.0147 0.0147 0.0147 0.0147 0.0147 0.0147 0.0147 0.0147 0.0147 0.0147 0.0147 0.0147 0.0147 0.0147 0.0147 0.0147 0.0147 0.0147 0.0147 0.0147]\n",
      " [0.0147 0.0147 0.0147 0.0147 0.0147 0.0147 0.0147 0.0147 0.2941 0.2941 0.0147 0.0147 0.0147 0.0147 0.0147 0.0147 0.0147 0.0147 0.0147 0.0147 0.0147 0.0147 0.0147 0.0147 0.0147 0.0147 0.0147 0.0147 0.0147 0.0147]\n",
      " [0.0147 0.0147 0.0147 0.0147 0.0147 0.0147 0.0147 0.0147 0.0147 0.0147 0.2941 0.2941 0.0147 0.0147 0.0147 0.0147 0.0147 0.0147 0.0147 0.0147 0.0147 0.0147 0.0147 0.0147 0.0147 0.0147 0.0147 0.0147 0.0147 0.0147]\n",
      " [0.0147 0.0147 0.0147 0.0147 0.0147 0.0147 0.0147 0.0147 0.0147 0.0147 0.0147 0.0147 0.2941 0.2941 0.0147 0.0147 0.0147 0.0147 0.0147 0.0147 0.0147 0.0147 0.0147 0.0147 0.0147 0.0147 0.0147 0.0147 0.0147 0.0147]\n",
      " [0.0147 0.0147 0.0147 0.0147 0.0147 0.0147 0.0147 0.0147 0.0147 0.0147 0.0147 0.0147 0.0147 0.0147 0.2941 0.2941 0.0147 0.0147 0.0147 0.0147 0.0147 0.0147 0.0147 0.0147 0.0147 0.0147 0.0147 0.0147 0.0147 0.0147]\n",
      " [0.0147 0.0147 0.0147 0.0147 0.0147 0.0147 0.0147 0.0147 0.0147 0.0147 0.0147 0.0147 0.0147 0.0147 0.0147 0.0147 0.2941 0.2941 0.0147 0.0147 0.0147 0.0147 0.0147 0.0147 0.0147 0.0147 0.0147 0.0147 0.0147 0.0147]\n",
      " [0.0147 0.0147 0.0147 0.0147 0.0147 0.0147 0.0147 0.0147 0.0147 0.0147 0.0147 0.0147 0.0147 0.0147 0.0147 0.0147 0.0147 0.0147 0.2941 0.2941 0.0147 0.0147 0.0147 0.0147 0.0147 0.0147 0.0147 0.0147 0.0147 0.0147]\n",
      " [0.0147 0.0147 0.0147 0.0147 0.0147 0.0147 0.0147 0.0147 0.0147 0.0147 0.0147 0.0147 0.0147 0.0147 0.0147 0.0147 0.0147 0.0147 0.0147 0.0147 0.2941 0.2941 0.0147 0.0147 0.0147 0.0147 0.0147 0.0147 0.0147 0.0147]\n",
      " [0.0147 0.0147 0.0147 0.0147 0.0147 0.0147 0.0147 0.0147 0.0147 0.0147 0.0147 0.0147 0.0147 0.0147 0.0147 0.0147 0.0147 0.0147 0.0147 0.0147 0.0147 0.0147 0.2941 0.2941 0.0147 0.0147 0.0147 0.0147 0.0147 0.0147]\n",
      " [0.0147 0.0147 0.0147 0.0147 0.0147 0.0147 0.0147 0.0147 0.0147 0.0147 0.0147 0.0147 0.0147 0.0147 0.0147 0.0147 0.0147 0.0147 0.0147 0.0147 0.0147 0.0147 0.0147 0.0147 0.2941 0.2941 0.0147 0.0147 0.0147 0.0147]]\n"
     ]
    }
   ],
   "source": [
    "niceprint(sim.topics_by_index)"
   ]
  },
  {
   "cell_type": "code",
   "execution_count": 17,
   "metadata": {},
   "outputs": [
    {
     "data": {
      "image/png": "[encoded data removed]",
      "text/plain": [
       "<matplotlib.figure.Figure at 0x10e5aa6d8>"
      ]
     },
     "metadata": {},
     "output_type": "display_data"
    }
   ],
   "source": [
    "fig, ax = plt.subplots()\n",
    "ax.imshow(sim.topics_by_index)\n",
    "ax.axis('off');"
   ]
  },
  {
   "cell_type": "code",
   "execution_count": 18,
   "metadata": {},
   "outputs": [],
   "source": [
    "num_topics = sim.topics_by_index.shape[0]\n",
    "count_cooccurrence = np.zeros((num_topics, num_topics))\n",
    "node_indices = np.array([sim.docs_aux[i]['node_indices_by_word_slot'] for i in range(len(sim.docs_aux))])\n",
    "for doc_index in range(node_indices.shape[0]):\n",
    "    i = node_indices[doc_index, 0]\n",
    "    j = node_indices[doc_index, 1]\n",
    "    count_cooccurrence[i, j] += 1\n",
    "coocurrence = count_cooccurrence / np.sum(count_cooccurrence, axis=(0,1))\n",
    "coocurrence_alt = coocurrence - np.diag(np.diag(coocurrence))"
   ]
  },
  {
   "cell_type": "code",
   "execution_count": 19,
   "metadata": {},
   "outputs": [
    {
     "name": "stdout",
     "output_type": "stream",
     "text": [
      "[[0.0000 0.0280 0.0088 0.0093 0.0090 0.0278 0.0091 0.0092 0.0098 0.0271 0.0097 0.0098 0.0087]\n",
      " [0.0270 0.0000 0.0083 0.0088 0.0087 0.0015 0.0003 0.0002 0.0003 0.0014 0.0002 0.0003 0.0003]\n",
      " [0.0101 0.0089 0.0000 0.0002 0.0001 0.0002 0.0001 0.0002 0.0001 0.0003 0.0002 0.0002 0.0002]\n",
      " [0.0090 0.0086 0.0002 0.0000 0.0002 0.0002 0.0001 0.0002 0.0001 0.0002 0.0001 0.0002 0.0002]\n",
      " [0.0093 0.0086 0.0002 0.0001 0.0000 0.0002 0.0001 0.0001 0.0001 0.0003 0.0002 0.0002 0.0002]\n",
      " [0.0282 0.0015 0.0003 0.0002 0.0002 0.0000 0.0088 0.0088 0.0087 0.0014 0.0003 0.0002 0.0003]\n",
      " [0.0098 0.0003 0.0001 0.0002 0.0001 0.0087 0.0000 0.0002 0.0001 0.0003 0.0002 0.0001 0.0002]\n",
      " [0.0098 0.0002 0.0002 0.0001 0.0003 0.0086 0.0001 0.0000 0.0001 0.0002 0.0002 0.0001 0.0002]\n",
      " [0.0092 0.0003 0.0002 0.0002 0.0002 0.0085 0.0001 0.0002 0.0000 0.0004 0.0002 0.0002 0.0002]\n",
      " [0.0282 0.0016 0.0003 0.0003 0.0003 0.0016 0.0003 0.0003 0.0003 0.0000 0.0084 0.0086 0.0087]\n",
      " [0.0098 0.0002 0.0001 0.0001 0.0002 0.0002 0.0002 0.0001 0.0002 0.0088 0.0000 0.0001 0.0002]\n",
      " [0.0092 0.0001 0.0001 0.0002 0.0001 0.0003 0.0002 0.0002 0.0001 0.0084 0.0001 0.0000 0.0002]\n",
      " [0.0089 0.0002 0.0002 0.0001 0.0002 0.0002 0.0002 0.0003 0.0001 0.0084 0.0002 0.0002 0.0000]]\n"
     ]
    },
    {
     "data": {
      "image/png": "[encoded data removed]",
      "text/plain": [
       "<matplotlib.figure.Figure at 0x10e5e11d0>"
      ]
     },
     "metadata": {},
     "output_type": "display_data"
    }
   ],
   "source": [
    "niceprint(coocurrence_alt)\n",
    "\n",
    "fig, ax = plt.subplots()\n",
    "ax.imshow(coocurrence_alt)\n",
    "ax.axis('off');"
   ]
  },
  {
   "cell_type": "code",
   "execution_count": 20,
   "metadata": {},
   "outputs": [
    {
     "name": "stdout",
     "output_type": "stream",
     "text": [
      "(13, 13)\n"
     ]
    }
   ],
   "source": [
    "node_distribs = np.array([sim.docs_aux[i]['node_distrib'] for i in range(len(sim.docs_aux))])\n",
    "coocurrence_alt2 = node_distribs.T .dot (node_distribs)\n",
    "coocurrence_alt2 /= coocurrence_alt2.sum()\n",
    "coocurrence_alt2 -= np.diag(np.diag(coocurrence_alt2))\n",
    "print(coocurrence_alt2.shape)"
   ]
  },
  {
   "cell_type": "code",
   "execution_count": 21,
   "metadata": {},
   "outputs": [
    {
     "data": {
      "text/plain": [
       "((100000, 13), (13, 30))"
      ]
     },
     "execution_count": 21,
     "metadata": {},
     "output_type": "execute_result"
    }
   ],
   "source": [
    "node_distribs.shape, sim.topics_by_index.shape"
   ]
  },
  {
   "cell_type": "code",
   "execution_count": 22,
   "metadata": {},
   "outputs": [],
   "source": [
    "sim_doc_size = 1000\n",
    "docs_by_vocab_matrix = np.zeros((sim.num_docs, sim.vocab_size), dtype='int')\n",
    "for d in range(sim.num_docs):\n",
    "    pnode = sim.docs_aux[d][\"node_distrib\"]\n",
    "    pvocab = pnode.dot(sim.topics_by_index)\n",
    "    docs_by_vocab_matrix[d, :] = np.random.multinomial(sim_doc_size, pvals = pvocab)"
   ]
  },
  {
   "cell_type": "code",
   "execution_count": 23,
   "metadata": {},
   "outputs": [
    {
     "data": {
      "text/plain": [
       "(100000, 30)"
      ]
     },
     "execution_count": 23,
     "metadata": {},
     "output_type": "execute_result"
    }
   ],
   "source": [
    "docs_by_vocab_matrix.shape"
   ]
  },
  {
   "cell_type": "code",
   "execution_count": 24,
   "metadata": {},
   "outputs": [],
   "source": [
    "# %%time\n",
    "# np.savetxt(\"test_output.txt\", docs_by_vocab_matrix, fmt='%d')"
   ]
  },
  {
   "cell_type": "code",
   "execution_count": 25,
   "metadata": {},
   "outputs": [
    {
     "name": "stdout",
     "output_type": "stream",
     "text": [
      "[[0.0000 0.0275 0.0092 0.0092 0.0091 0.0277 0.0093 0.0092 0.0094 0.0277 0.0094 0.0094 0.0090]\n",
      " [0.0275 0.0000 0.0087 0.0087 0.0088 0.0015 0.0002 0.0003 0.0002 0.0015 0.0002 0.0003 0.0003]\n",
      " [0.0092 0.0087 0.0000 0.0002 0.0002 0.0002 0.0002 0.0002 0.0002 0.0002 0.0002 0.0002 0.0002]\n",
      " [0.0092 0.0087 0.0002 0.0000 0.0002 0.0003 0.0002 0.0002 0.0002 0.0002 0.0001 0.0002 0.0002]\n",
      " [0.0091 0.0088 0.0002 0.0002 0.0000 0.0003 0.0002 0.0002 0.0002 0.0003 0.0002 0.0002 0.0002]\n",
      " [0.0277 0.0015 0.0002 0.0003 0.0003 0.0000 0.0088 0.0088 0.0087 0.0016 0.0003 0.0003 0.0003]\n",
      " [0.0093 0.0002 0.0002 0.0002 0.0002 0.0088 0.0000 0.0002 0.0002 0.0003 0.0002 0.0002 0.0002]\n",
      " [0.0092 0.0003 0.0002 0.0002 0.0002 0.0088 0.0002 0.0000 0.0002 0.0003 0.0002 0.0002 0.0002]\n",
      " [0.0094 0.0002 0.0002 0.0002 0.0002 0.0087 0.0002 0.0002 0.0000 0.0003 0.0002 0.0002 0.0002]\n",
      " [0.0277 0.0015 0.0002 0.0002 0.0003 0.0016 0.0003 0.0003 0.0003 0.0000 0.0088 0.0087 0.0088]\n",
      " [0.0094 0.0002 0.0002 0.0001 0.0002 0.0003 0.0002 0.0002 0.0002 0.0088 0.0000 0.0002 0.0002]\n",
      " [0.0094 0.0003 0.0002 0.0002 0.0002 0.0003 0.0002 0.0002 0.0002 0.0087 0.0002 0.0000 0.0002]\n",
      " [0.0090 0.0003 0.0002 0.0002 0.0002 0.0003 0.0002 0.0002 0.0002 0.0088 0.0002 0.0002 0.0000]]\n"
     ]
    },
    {
     "data": {
      "image/png": "[encoded data removed]",
      "text/plain": [
       "<matplotlib.figure.Figure at 0x10ba81860>"
      ]
     },
     "metadata": {},
     "output_type": "display_data"
    }
   ],
   "source": [
    "niceprint(coocurrence_alt2)\n",
    "\n",
    "fig, ax = plt.subplots()\n",
    "ax.imshow(coocurrence_alt2);\n",
    "ax.axis('off');"
   ]
  },
  {
   "cell_type": "code",
   "execution_count": 26,
   "metadata": {},
   "outputs": [],
   "source": [
    "def to_weighted_graph(X, weight_func = None):\n",
    "    if weight_func is None:\n",
    "        weight_func = lambda w, v: 0.5 * (w + v)\n",
    "    g = nx.Graph()\n",
    "    for i in range(X.shape[0]):\n",
    "        for j in range(X.shape[1]):\n",
    "            if i <= j:\n",
    "                c = weight_func(X[i,j], X[j,i])\n",
    "                g.add_edge(i, j, weight = c)\n",
    "    return g"
   ]
  },
  {
   "cell_type": "code",
   "execution_count": 27,
   "metadata": {},
   "outputs": [],
   "source": [
    "def without_diag(X):\n",
    "    return X - np.diag(np.diag(X))"
   ]
  },
  {
   "cell_type": "code",
   "execution_count": 28,
   "metadata": {},
   "outputs": [
    {
     "name": "stdout",
     "output_type": "stream",
     "text": [
      "Maximum spanning tree:\n",
      "[(0, 1), (0, 2), (0, 3), (0, 4), (0, 5), (0, 6), (0, 7), (0, 8), (0, 9), (0, 10), (0, 11), (0, 12)]\n"
     ]
    }
   ],
   "source": [
    "g = to_weighted_graph(\n",
    "    Rp,\n",
    "    #coocurrence_alt,\n",
    "    weight_func=lambda x, y: -0.5 * (x + y))\n",
    "tree = nx.algorithms.minimum_spanning_tree(g)\n",
    "print(\"Maximum spanning tree:\")\n",
    "print(tree.edges())"
   ]
  },
  {
   "cell_type": "code",
   "execution_count": 29,
   "metadata": {},
   "outputs": [],
   "source": [
    "def _bfs_layout_helper(tree, source, spacing, center):\n",
    "    pos = dict()\n",
    "    results_by_child = []\n",
    "    for n in sorted(tree.neighbors(source)):\n",
    "        results_by_child.append(_bfs_layout_helper(tree, n, spacing, center))\n",
    "    pos[source] = center\n",
    "    width = 0.0\n",
    "    for i, (subtree_pos, subtree_width) in enumerate(results_by_child):\n",
    "        if i > 0:\n",
    "            width += spacing[0]\n",
    "        width += subtree_width\n",
    "    shiftx = -width / 2.0\n",
    "    for subtree_pos, subtree_width in results_by_child:\n",
    "        shiftx += subtree_width / 2.0\n",
    "        for k, (x, y) in subtree_pos.items():\n",
    "            pos[k] = (x + shiftx, y - spacing[1])\n",
    "        shiftx += subtree_width / 2.0 + spacing[0]\n",
    "    return pos, width\n",
    "\n",
    "def bfs_layout(G, sources=None, spacing=(1.0, 1.0), center=(0.0, 0.0)):\n",
    "    pos = dict()\n",
    "    if G.number_of_nodes() == 0:\n",
    "        return pos\n",
    "    if sources is None:\n",
    "        sources = []\n",
    "    if G.is_directed():\n",
    "        components = nx.algorithms.weakly_connected_component_subgraphs(G)\n",
    "    else:\n",
    "        components = nx.algorithms.connected_component_subgraphs(G)\n",
    "    cumulative_width = 0\n",
    "    for comp in components:\n",
    "        current_source = None\n",
    "        for s in sources:\n",
    "            if s in comp.nodes():\n",
    "                current_source = s\n",
    "                break\n",
    "        if current_source is None:\n",
    "            current_source = list(comp.nodes())[0]\n",
    "        tree = nx.bfs_tree(G, current_source)\n",
    "        current_pos, width = _bfs_layout_helper(tree, current_source, spacing, center)\n",
    "        for k in current_pos.keys():\n",
    "            current_pos[k] = (current_pos[k][0] + cumulative_width, current_pos[k][1])\n",
    "        pos.update(current_pos)\n",
    "        cumulative_width += width + spacing[0]\n",
    "    return pos"
   ]
  },
  {
   "cell_type": "code",
   "execution_count": 30,
   "metadata": {},
   "outputs": [
    {
     "data": {
      "image/png": "[encoded data removed]",
      "text/plain": [
       "<matplotlib.figure.Figure at 0x10e5e1748>"
      ]
     },
     "metadata": {},
     "output_type": "display_data"
    }
   ],
   "source": [
    "fig, ax = plt.subplots()\n",
    "nx.draw(tree, pos=bfs_layout(tree, sources=[0]), ax=ax, with_labels=True);"
   ]
  },
  {
   "cell_type": "code",
   "execution_count": 31,
   "metadata": {},
   "outputs": [
    {
     "name": "stdout",
     "output_type": "stream",
     "text": [
      "[[0.0000 0.0833 0.0278 0.0278 0.0278 0.0833 0.0278 0.0278 0.0278 0.0833 0.0278 0.0278 0.0278]\n",
      " [0.0833 0.0000 0.0787 0.0787 0.0787 0.0138 0.0023 0.0023 0.0023 0.0138 0.0023 0.0023 0.0023]\n",
      " [0.0278 0.0787 0.0000 0.0046 0.0046 0.0023 0.0046 0.0046 0.0046 0.0023 0.0046 0.0046 0.0046]\n",
      " [0.0278 0.0787 0.0046 0.0000 0.0046 0.0023 0.0046 0.0046 0.0046 0.0023 0.0046 0.0046 0.0046]\n",
      " [0.0278 0.0787 0.0046 0.0046 0.0000 0.0023 0.0046 0.0046 0.0046 0.0023 0.0046 0.0046 0.0046]\n",
      " [0.0833 0.0138 0.0023 0.0023 0.0023 0.0000 0.0787 0.0787 0.0787 0.0138 0.0023 0.0023 0.0023]\n",
      " [0.0278 0.0023 0.0046 0.0046 0.0046 0.0787 0.0000 0.0046 0.0046 0.0023 0.0046 0.0046 0.0046]\n",
      " [0.0278 0.0023 0.0046 0.0046 0.0046 0.0787 0.0046 0.0000 0.0046 0.0023 0.0046 0.0046 0.0046]\n",
      " [0.0278 0.0023 0.0046 0.0046 0.0046 0.0787 0.0046 0.0046 0.0000 0.0023 0.0046 0.0046 0.0046]\n",
      " [0.0833 0.0138 0.0023 0.0023 0.0023 0.0138 0.0023 0.0023 0.0023 0.0000 0.0787 0.0787 0.0787]\n",
      " [0.0278 0.0023 0.0046 0.0046 0.0046 0.0023 0.0046 0.0046 0.0046 0.0787 0.0000 0.0046 0.0046]\n",
      " [0.0278 0.0023 0.0046 0.0046 0.0046 0.0023 0.0046 0.0046 0.0046 0.0787 0.0046 0.0000 0.0046]\n",
      " [0.0278 0.0023 0.0046 0.0046 0.0046 0.0023 0.0046 0.0046 0.0046 0.0787 0.0046 0.0046 0.0000]]\n"
     ]
    },
    {
     "data": {
      "image/png": "[encoded data removed]",
      "text/plain": [
       "<matplotlib.figure.Figure at 0x10e8322b0>"
      ]
     },
     "metadata": {},
     "output_type": "display_data"
    }
   ],
   "source": [
    "Rcond = R / np.sum(R, axis=0, keepdims=True)\n",
    "Rcondp = np.minimum(Rcond, Rcond.T)\n",
    "Rcondp -= np.diag(np.diag(Rcondp))\n",
    "\n",
    "niceprint(Rcondp)\n",
    "\n",
    "fig, ax = plt.subplots()\n",
    "ax.imshow(Rcondp);\n",
    "ax.axis('off');"
   ]
  },
  {
   "cell_type": "code",
   "execution_count": 32,
   "metadata": {},
   "outputs": [
    {
     "name": "stdout",
     "output_type": "stream",
     "text": [
      "[(0, 9), (0, 5), (0, 1), (1, 2), (1, 3), (1, 4), (5, 8), (5, 6), (5, 7), (9, 10), (9, 11), (9, 12)]\n"
     ]
    },
    {
     "data": {
      "image/png": "[encoded data removed]",
      "text/plain": [
       "<matplotlib.figure.Figure at 0x10e820160>"
      ]
     },
     "metadata": {},
     "output_type": "display_data"
    }
   ],
   "source": [
    "g2 = to_weighted_graph(-Rcondp)\n",
    "tree2 = nx.algorithms.minimum_spanning_tree(g2)\n",
    "print(tree2.edges())\n",
    "nx.draw(tree2, pos = bfs_layout(tree2, sources=[0]), with_labels = True)"
   ]
  },
  {
   "cell_type": "code",
   "execution_count": 33,
   "metadata": {},
   "outputs": [
    {
     "name": "stdout",
     "output_type": "stream",
     "text": [
      "[(0, 1)]\n"
     ]
    }
   ],
   "source": [
    "ggg = nx.Graph()\n",
    "ggg.add_edges_from([\n",
    "    (0,1),\n",
    "    (2,3),\n",
    "])\n",
    "ttt = nx.bfs_tree(ggg, source=list(ggg.nodes())[0])\n",
    "eee = list(ttt.edges())\n",
    "print(eee)"
   ]
  },
  {
   "cell_type": "code",
   "execution_count": 34,
   "metadata": {},
   "outputs": [
    {
     "name": "stdout",
     "output_type": "stream",
     "text": [
      "0 -> {1}\n",
      "1 -> {0}\n",
      "2 -> {3}\n",
      "3 -> {2}\n"
     ]
    }
   ],
   "source": [
    "for n in ggg.nodes():\n",
    "    print(\"{} -> {}\".format(n, nx.ancestors(ggg, n)))"
   ]
  },
  {
   "cell_type": "code",
   "execution_count": 35,
   "metadata": {},
   "outputs": [
    {
     "data": {
      "text/plain": [
       "[{0, 1}, {2, 3}]"
      ]
     },
     "execution_count": 35,
     "metadata": {},
     "output_type": "execute_result"
    }
   ],
   "source": [
    "list(nx.algorithms.strongly_connected_components(nx.DiGraph(ggg)))"
   ]
  },
  {
   "cell_type": "code",
   "execution_count": 36,
   "metadata": {},
   "outputs": [
    {
     "data": {
      "text/plain": [
       "<networkx.classes.digraph.DiGraph at 0x110bdbb00>"
      ]
     },
     "execution_count": 36,
     "metadata": {},
     "output_type": "execute_result"
    }
   ],
   "source": [
    "nx.DiGraph(ggg)"
   ]
  },
  {
   "cell_type": "code",
   "execution_count": 37,
   "metadata": {},
   "outputs": [
    {
     "data": {
      "text/plain": [
       "[<networkx.classes.digraph.DiGraph at 0x10e8201d0>,\n",
       " <networkx.classes.digraph.DiGraph at 0x10e820860>]"
      ]
     },
     "execution_count": 37,
     "metadata": {},
     "output_type": "execute_result"
    }
   ],
   "source": [
    "list(nx.algorithms.weakly_connected_component_subgraphs(nx.DiGraph(ggg)))"
   ]
  },
  {
   "cell_type": "code",
   "execution_count": 38,
   "metadata": {},
   "outputs": [
    {
     "data": {
      "text/plain": [
       "4"
      ]
     },
     "execution_count": 38,
     "metadata": {},
     "output_type": "execute_result"
    }
   ],
   "source": [
    "ggg.number_of_nodes()"
   ]
  },
  {
   "cell_type": "code",
   "execution_count": 39,
   "metadata": {},
   "outputs": [],
   "source": [
    "import io"
   ]
  },
  {
   "cell_type": "code",
   "execution_count": 40,
   "metadata": {},
   "outputs": [],
   "source": [
    "# Example output sent by Stefanos\n",
    "foo = io.StringIO('''\\\n",
    "0.0722248774154017 0.0184328604378913 0.0183675728897166 0.0195812977278527 0.011715651036256 0.0109362130364248 0.0103053405295851 0.0118149764469529 0.0107629960798506 0.0101972359982806 0.010533390695229 0.0106724843592029 0.011287010156071\n",
    "0.0184328604378913 0.0197880734142364 0.00800884204285961 0.00867787380547044 0.00442376470031421 0.00643217108265574 0.00585968293137737 0.00448944131937417 0.0042002100095913 0.00383982410082561 0.0041179061240953 0.00564921482263275 0.00435908438938697\n",
    "0.0183675728897166 0.00800884204285961 0.0185305916929322 0.00810817551625466 0.00437124231289586 0.00401565677211632 0.00399134528877907 0.00625630184806425 0.00403427290544172 0.00373911413202784 0.00556387292190846 0.00397063351721975 0.00631659797495848\n",
    "0.0195812977278527 0.00867787380547043 0.00810817551625466 0.020223678809002 0.00636646213109489 0.00430013301916319 0.00421449379607564 0.0044949224119127 0.00605416561565558 0.00569183622214723 0.00420827207219966 0.00404823371268847 0.00454457318156866\n",
    "0.011715651036256 0.00442376470031421 0.00437124231289586 0.00636646213109489 0.00794116107247916 0.00280086263128064 0.00282800354338402 0.00316128051767623 0.00276178704793014 0.00265560091211258 0.00273054106944284 0.00271228502453686 0.00298357666010662\n",
    "0.0109362130364248 0.00643217108265574 0.00401565677211632 0.00430013301916319 0.00280086263128064 0.00751398796980115 0.00268945454897023 0.00293987684605933 0.00259113925060299 0.0024274506495169 0.00261898032272799 0.00277363530771859 0.0027505146918834\n",
    "0.0103053405295851 0.00585968293137737 0.00399134528877907 0.00421449379607564 0.00282800354338402 0.00268945454897023 0.00653691289753865 0.00285730870692366 0.00243143012620175 0.00236647957352213 0.00236198358015604 0.00255338926950333 0.00274618984239741\n",
    "0.0118149764469529 0.00448944131937417 0.00625630184806426 0.0044949224119127 0.00316128051767623 0.00293987684605933 0.00285730870692366 0.00765506483635657 0.00279346352302565 0.00266479628228487 0.00281882786236071 0.00274243398056417 0.00298329855291249\n",
    "0.0107629960798506 0.0042002100095913 0.00403427290544172 0.00605416561565559 0.00276178704793014 0.00259113925060299 0.00243143012620175 0.00279346352302565 0.00638002019952813 0.00238402186156206 0.00259146984608675 0.00253730152042142 0.00272000260061857\n",
    "0.0101972359982806 0.00383982410082561 0.00373911413202784 0.00569183622214723 0.00265560091211258 0.0024274506495169 0.00236647957352213 0.00266479628228487 0.00238402186156206 0.00574249459639133 0.00240586369948643 0.0023356999853139 0.00249112070788169\n",
    "0.010533390695229 0.0041179061240953 0.00556387292190846 0.00420827207219966 0.00273054106944284 0.00261898032272799 0.00236198358015604 0.00281882786236071 0.00259146984608675 0.00240586369948643 0.00592666601381645 0.00248921198229705 0.00259160203194373\n",
    "0.0106724843592029 0.00564921482263275 0.00397063351721975 0.00404823371268847 0.00271228502453686 0.00277363530771859 0.00255338926950334 0.00274243398056417 0.00253730152042142 0.0023356999853139 0.00248921198229705 0.00579401081562425 0.00256712527710104\n",
    "0.011287010156071 0.00435908438938698 0.00631659797495848 0.00454457318156866 0.00298357666010662 0.0027505146918834 0.00274618984239741 0.00298329855291249 0.00272000260061857 0.00249112070788169 0.00259160203194374 0.00256712527710104 0.00611574044572484\n",
    "''')"
   ]
  },
  {
   "cell_type": "code",
   "execution_count": 41,
   "metadata": {},
   "outputs": [],
   "source": [
    "zzz = np.loadtxt(foo)"
   ]
  },
  {
   "cell_type": "code",
   "execution_count": 42,
   "metadata": {},
   "outputs": [
    {
     "data": {
      "text/plain": [
       "(13, 13)"
      ]
     },
     "execution_count": 42,
     "metadata": {},
     "output_type": "execute_result"
    }
   ],
   "source": [
    "zzz.shape"
   ]
  },
  {
   "cell_type": "code",
   "execution_count": 43,
   "metadata": {},
   "outputs": [
    {
     "data": {
      "image/png": "[encoded data removed]",
      "text/plain": [
       "<matplotlib.figure.Figure at 0x10e8204e0>"
      ]
     },
     "metadata": {},
     "output_type": "display_data"
    }
   ],
   "source": [
    "plt.imshow(zzz);"
   ]
  },
  {
   "cell_type": "code",
   "execution_count": 44,
   "metadata": {},
   "outputs": [
    {
     "name": "stdout",
     "output_type": "stream",
     "text": [
      "[[0.0000 0.0813 0.0810 0.0863 0.0516 0.0482 0.0454 0.0521 0.0474 0.0450 0.0464 0.0471 0.0498]\n",
      " [0.0813 0.0000 0.0815 0.0863 0.0450 0.0654 0.0596 0.0457 0.0427 0.0391 0.0419 0.0575 0.0444]\n",
      " [0.0810 0.0815 0.0000 0.0807 0.0459 0.0421 0.0419 0.0657 0.0423 0.0392 0.0584 0.0417 0.0663]\n",
      " [0.0863 0.0863 0.0807 0.0000 0.0633 0.0428 0.0419 0.0447 0.0602 0.0566 0.0419 0.0403 0.0452]\n",
      " [0.0516 0.0450 0.0459 0.0633 0.0000 0.0488 0.0492 0.0548 0.0481 0.0462 0.0475 0.0472 0.0519]\n",
      " [0.0482 0.0654 0.0421 0.0428 0.0488 0.0000 0.0491 0.0510 0.0473 0.0443 0.0478 0.0506 0.0502]\n",
      " [0.0454 0.0596 0.0419 0.0419 0.0492 0.0491 0.0000 0.0495 0.0465 0.0457 0.0456 0.0493 0.0504]\n",
      " [0.0521 0.0457 0.0657 0.0447 0.0548 0.0510 0.0495 0.0000 0.0484 0.0462 0.0489 0.0476 0.0517]\n",
      " [0.0474 0.0427 0.0423 0.0602 0.0481 0.0473 0.0465 0.0484 0.0000 0.0456 0.0496 0.0486 0.0499]\n",
      " [0.0450 0.0391 0.0392 0.0566 0.0462 0.0443 0.0457 0.0462 0.0456 0.0000 0.0472 0.0459 0.0457]\n",
      " [0.0464 0.0419 0.0584 0.0419 0.0475 0.0478 0.0456 0.0489 0.0496 0.0472 0.0000 0.0488 0.0476]\n",
      " [0.0471 0.0575 0.0417 0.0403 0.0472 0.0506 0.0493 0.0476 0.0486 0.0459 0.0488 0.0000 0.0471]\n",
      " [0.0498 0.0444 0.0663 0.0452 0.0519 0.0502 0.0504 0.0517 0.0499 0.0457 0.0476 0.0471 0.0000]]\n"
     ]
    },
    {
     "data": {
      "image/png": "[encoded data removed]",
      "text/plain": [
       "<matplotlib.figure.Figure at 0x10e820c50>"
      ]
     },
     "metadata": {},
     "output_type": "display_data"
    }
   ],
   "source": [
    "zzz = zzz / zzz.sum(axis=0, keepdims=True)\n",
    "zzz = np.minimum(zzz, zzz.T)\n",
    "zzz -= np.diag(np.diag(zzz))\n",
    "niceprint(zzz)\n",
    "\n",
    "plt.imshow(zzz);"
   ]
  },
  {
   "cell_type": "code",
   "execution_count": 45,
   "metadata": {},
   "outputs": [
    {
     "name": "stdout",
     "output_type": "stream",
     "text": [
      "[(0, 3), (1, 11), (1, 2), (1, 3), (1, 5), (1, 6), (2, 10), (2, 12), (2, 7), (3, 4), (3, 8), (3, 9)]\n"
     ]
    },
    {
     "data": {
      "image/png": "[encoded data removed]",
      "text/plain": [
       "<matplotlib.figure.Figure at 0x11107acf8>"
      ]
     },
     "metadata": {},
     "output_type": "display_data"
    }
   ],
   "source": [
    "ttt = nx.algorithms.maximum_spanning_tree(to_weighted_graph(zzz))\n",
    "print(list(ttt.edges()))\n",
    "nx.draw(ttt, pos=bfs_layout(ttt, sources=[0]), with_labels=True);"
   ]
  },
  {
   "cell_type": "code",
   "execution_count": 46,
   "metadata": {},
   "outputs": [
    {
     "name": "stdout",
     "output_type": "stream",
     "text": [
      "[[0.1667 0.0278 0.0278 0.0278 0.0093 0.0093 0.0093 0.0093 0.0093 0.0093 0.0093 0.0093 0.0093]\n",
      " [0.0278 0.0525 0.0015 0.0015 0.0087 0.0087 0.0087 0.0003 0.0003 0.0003 0.0003 0.0003 0.0003]\n",
      " [0.0278 0.0015 0.0525 0.0015 0.0003 0.0003 0.0003 0.0087 0.0087 0.0087 0.0003 0.0003 0.0003]\n",
      " [0.0278 0.0015 0.0015 0.0525 0.0003 0.0003 0.0003 0.0003 0.0003 0.0003 0.0087 0.0087 0.0087]\n",
      " [0.0093 0.0087 0.0003 0.0003 0.0172 0.0002 0.0002 0.0002 0.0002 0.0002 0.0002 0.0002 0.0002]\n",
      " [0.0093 0.0087 0.0003 0.0003 0.0002 0.0172 0.0002 0.0002 0.0002 0.0002 0.0002 0.0002 0.0002]\n",
      " [0.0093 0.0087 0.0003 0.0003 0.0002 0.0002 0.0172 0.0002 0.0002 0.0002 0.0002 0.0002 0.0002]\n",
      " [0.0093 0.0003 0.0087 0.0003 0.0002 0.0002 0.0002 0.0172 0.0002 0.0002 0.0002 0.0002 0.0002]\n",
      " [0.0093 0.0003 0.0087 0.0003 0.0002 0.0002 0.0002 0.0002 0.0172 0.0002 0.0002 0.0002 0.0002]\n",
      " [0.0093 0.0003 0.0087 0.0003 0.0002 0.0002 0.0002 0.0002 0.0002 0.0172 0.0002 0.0002 0.0002]\n",
      " [0.0093 0.0003 0.0003 0.0087 0.0002 0.0002 0.0002 0.0002 0.0002 0.0002 0.0172 0.0002 0.0002]\n",
      " [0.0093 0.0003 0.0003 0.0087 0.0002 0.0002 0.0002 0.0002 0.0002 0.0002 0.0002 0.0172 0.0002]\n",
      " [0.0093 0.0003 0.0003 0.0087 0.0002 0.0002 0.0002 0.0002 0.0002 0.0002 0.0002 0.0002 0.0172]]\n"
     ]
    },
    {
     "data": {
      "image/png": "[encoded data removed]",
      "text/plain": [
       "<matplotlib.figure.Figure at 0x11107d828>"
      ]
     },
     "metadata": {},
     "output_type": "display_data"
    }
   ],
   "source": [
    "temp_reorder = [0, 1, 5, 9, 2, 3, 4, 6, 7, 8, 10, 11, 12]\n",
    "temp_R = R[np.atleast_2d(temp_reorder).T, temp_reorder]\n",
    "\n",
    "niceprint(temp_R)\n",
    "\n",
    "plt.imshow(without_diag(temp_R));"
   ]
  },
  {
   "cell_type": "code",
   "execution_count": 47,
   "metadata": {},
   "outputs": [],
   "source": [
    "import ipywidgets as ipw"
   ]
  },
  {
   "cell_type": "code",
   "execution_count": 48,
   "metadata": {},
   "outputs": [],
   "source": [
    "def demo(alpha_leaves, alpha_depths):\n",
    "    sim = SimData(\n",
    "        branching_factors = [3, 3],\n",
    "        num_docs = 100000,\n",
    "        doc_length = 2,\n",
    "        topic_sharpness = 20,\n",
    "        alpha_leaves = alpha_leaves,\n",
    "        alpha_depths = alpha_depths,\n",
    "        heavy_words_per_topic = 2,\n",
    "    )\n",
    "    R = calc_cooccurrence_matrix(sim)\n",
    "    Rcond = R / R.sum(axis=0, keepdims=True)\n",
    "    Rcondp = np.minimum(Rcond, Rcond.T)\n",
    "    graph = nx.from_numpy_array(Rcondp)\n",
    "    tree = nx.algorithms.maximum_spanning_tree(graph)\n",
    "    pos = bfs_layout(tree, sources=[0])\n",
    "    gridshape = np.asarray([1, 4])\n",
    "    fig, ax = plt.subplots(*gridshape, figsize=4*gridshape[::-1])\n",
    "    ax[0].imshow(without_diag(R))\n",
    "    ax[0].axis('off')\n",
    "    ax[0].set_title(\"R\")\n",
    "    ax[1].imshow(without_diag(Rcond))\n",
    "    ax[1].axis('off')\n",
    "    ax[1].set_title(\"Rcond\")\n",
    "    ax[2].imshow(without_diag(Rcondp))\n",
    "    ax[2].axis('off')\n",
    "    ax[2].set_title(\"minimum(Rcond, Rcond.transpose())\")\n",
    "    nx.draw(tree, pos=pos, with_labels=True, ax=ax[3])\n",
    "    ax[3].axis('off')\n",
    "    ax[3].set_title(\"Maximum Spanning Tree\")\n",
    "    fig.suptitle(r\"Analysis for $\\alpha_\\mathrm{{leaves}} = {}, \\alpha_\\mathrm{{depths}} = {}$\".format(alpha_leaves, alpha_depths))"
   ]
  },
  {
   "cell_type": "code",
   "execution_count": 49,
   "metadata": {},
   "outputs": [
    {
     "data": {
      "image/png": "[encoded data removed]",
      "text/plain": [
       "<matplotlib.figure.Figure at 0x1111eee48>"
      ]
     },
     "metadata": {},
     "output_type": "display_data"
    }
   ],
   "source": [
    "demo(alpha_leaves = 0.5, alpha_depths = 1)"
   ]
  },
  {
   "cell_type": "code",
   "execution_count": 50,
   "metadata": {},
   "outputs": [],
   "source": [
    "# ipw.interact(\n",
    "#     demo,\n",
    "#     alpha_leaves = ipw.BoundedFloatText(0.5, min=0.05, max=10, step=0.05),\n",
    "#     alpha_depths = ipw.BoundedFloatText(1.0, min=0.05, max=10, step=0.05));"
   ]
  },
  {
   "cell_type": "code",
   "execution_count": 51,
   "metadata": {},
   "outputs": [],
   "source": [
    "def entropy(X):\n",
    "    return -np.sum(X * np.log(X), axis=0)"
   ]
  },
  {
   "cell_type": "code",
   "execution_count": 52,
   "metadata": {},
   "outputs": [
    {
     "data": {
      "text/plain": [
       "array([ 0.98743076,  0.41111656,  0.17058705,  0.17058705,  0.17058705,\n",
       "        0.41111656,  0.17058705,  0.17058705,  0.17058705,  0.41111656,\n",
       "        0.17058705,  0.17058705,  0.17058705])"
      ]
     },
     "execution_count": 52,
     "metadata": {},
     "output_type": "execute_result"
    }
   ],
   "source": [
    "entropy(R)"
   ]
  },
  {
   "cell_type": "code",
   "execution_count": 53,
   "metadata": {},
   "outputs": [
    {
     "data": {
      "text/plain": [
       "array([ 3.5       ,  1.33333333,  0.61111111,  0.61111111,  0.61111111,\n",
       "        1.33333333,  0.61111111,  0.61111111,  0.61111111,  1.33333333,\n",
       "        0.61111111,  0.61111111,  0.61111111])"
      ]
     },
     "execution_count": 53,
     "metadata": {},
     "output_type": "execute_result"
    }
   ],
   "source": [
    "Rcond.sum(axis=1)"
   ]
  },
  {
   "cell_type": "code",
   "execution_count": 54,
   "metadata": {},
   "outputs": [
    {
     "data": {
      "text/plain": [
       "array([ 0.33333333,  0.11111111,  0.03703704,  0.03703704,  0.03703704,\n",
       "        0.11111111,  0.03703704,  0.03703704,  0.03703704,  0.11111111,\n",
       "        0.03703704,  0.03703704,  0.03703704])"
      ]
     },
     "execution_count": 54,
     "metadata": {},
     "output_type": "execute_result"
    }
   ],
   "source": [
    "R.sum(axis=0)"
   ]
  },
  {
   "cell_type": "code",
   "execution_count": 55,
   "metadata": {},
   "outputs": [
    {
     "data": {
      "text/plain": [
       "array([12,  1,  0,  9, 10, 11,  6,  5,  2,  7,  3,  8,  4])"
      ]
     },
     "execution_count": 55,
     "metadata": {},
     "output_type": "execute_result"
    }
   ],
   "source": [
    "perm = np.random.permutation(R.shape[0])\n",
    "perm"
   ]
  },
  {
   "cell_type": "code",
   "execution_count": 56,
   "metadata": {},
   "outputs": [
    {
     "data": {
      "image/png": "[encoded data removed]",
      "text/plain": [
       "<matplotlib.figure.Figure at 0x10e827438>"
      ]
     },
     "metadata": {},
     "output_type": "display_data"
    }
   ],
   "source": [
    "temp_R = R[perm.reshape((-1,1)), perm.reshape((1,-1))]\n",
    "plt.imshow(without_diag(temp_R));"
   ]
  },
  {
   "cell_type": "code",
   "execution_count": 57,
   "metadata": {},
   "outputs": [
    {
     "data": {
      "text/plain": [
       "array([ 0.03703704,  0.11111111,  0.33333333,  0.11111111,  0.03703704,\n",
       "        0.03703704,  0.03703704,  0.11111111,  0.03703704,  0.03703704,\n",
       "        0.03703704,  0.03703704,  0.03703704])"
      ]
     },
     "execution_count": 57,
     "metadata": {},
     "output_type": "execute_result"
    }
   ],
   "source": [
    "temp_R.sum(axis=0)"
   ]
  },
  {
   "cell_type": "code",
   "execution_count": 58,
   "metadata": {},
   "outputs": [],
   "source": [
    "def extract_tree_helper(X, root_index, branching_factors, indices):\n",
    "    #print(\"root_index = {}, indices = {}\".format(root_index, indices))\n",
    "    g = nx.Graph()\n",
    "    root = indices[root_index]\n",
    "    g.add_node(root)\n",
    "    if len(branching_factors) == 0:\n",
    "        return g\n",
    "\n",
    "    num_children = branching_factors[0]\n",
    "    remaining_branching_factors = branching_factors[1:]\n",
    "    descendants_per_child = int(np.prod(remaining_branching_factors))\n",
    "\n",
    "    assert len(indices) >= num_children\n",
    "    assert X.shape[0] == X.shape[1]\n",
    "    assert X.shape[0] == len(indices), \"{} vs {}\".format(X.shape[0], len(indices))\n",
    "    if len(indices) == num_children:\n",
    "        for i in indices:\n",
    "            g.add_edge(root, i)\n",
    "        return g\n",
    "\n",
    "    mask_child_candidates = np.ones(indices.shape, dtype='bool')\n",
    "    mask_child_candidates[root_index] = False\n",
    "    children_indirect = np.argpartition(X[root_index, mask_child_candidates], -num_children)[-num_children:]\n",
    "    children = np.where(mask_child_candidates)[0][children_indirect]\n",
    "\n",
    "    mask_candidates = np.ones(indices.shape, dtype='bool')\n",
    "    mask_candidates[root_index] = False\n",
    "    mask_candidates[children] = False\n",
    "\n",
    "    #print(\"children = {}\".format(children))\n",
    "    \n",
    "    for c in children:\n",
    "        to_recurse = [c]\n",
    "        indirect = np.argpartition(X[c, mask_candidates], -descendants_per_child)[-descendants_per_child:]\n",
    "        to_recurse.extend(np.where(mask_candidates)[0][indirect])\n",
    "        to_recurse_col = np.reshape(to_recurse, (-1, 1))\n",
    "        # Compute subtree and add to graph\n",
    "        Xsub = X[to_recurse_col, to_recurse_col.T]\n",
    "        remaining_indices = indices[to_recurse]\n",
    "        subtree = extract_tree_helper(Xsub, 0, remaining_branching_factors, remaining_indices)\n",
    "        g = nx.compose(g, subtree)\n",
    "        g.add_edge(root, indices[c])\n",
    "        # Update candidates\n",
    "        mask_candidates[to_recurse] = False\n",
    "    return g\n",
    "\n",
    "def extract_tree(X, branching_factors):\n",
    "    indices = np.arange(X.shape[0])\n",
    "    p_node = X.sum(axis = 0)\n",
    "    root = np.argmax(p_node)\n",
    "    g = extract_tree_helper(X, root, branching_factors, indices)\n",
    "    g.graph[\"root\"] = root\n",
    "    return g"
   ]
  },
  {
   "cell_type": "code",
   "execution_count": 59,
   "metadata": {},
   "outputs": [
    {
     "name": "stdout",
     "output_type": "stream",
     "text": [
      "[0, 1, 2, 3, 4, 5, 6, 7, 8, 9, 10, 11, 12]\n",
      "[(0, 3), (1, 8), (1, 10), (1, 12), (1, 2), (2, 3), (2, 7), (3, 4), (3, 5), (6, 7), (7, 9), (7, 11)]\n"
     ]
    },
    {
     "data": {
      "image/png": "[encoded data removed]",
      "text/plain": [
       "<matplotlib.figure.Figure at 0x10b7969b0>"
      ]
     },
     "metadata": {},
     "output_type": "display_data"
    }
   ],
   "source": [
    "g = extract_tree(temp_R, branching_factors = [3, 3])\n",
    "print(g.nodes())\n",
    "print(g.edges())\n",
    "nx.draw(g, pos=bfs_layout(g, sources=[g.graph[\"root\"]]), with_labels=True)"
   ]
  },
  {
   "cell_type": "code",
   "execution_count": 60,
   "metadata": {},
   "outputs": [],
   "source": [
    "def invert_permutation(p):\n",
    "    p = np.asarray(p)\n",
    "    result = np.empty(p.shape, dtype='int')\n",
    "    result[p] = np.arange(p.size)\n",
    "    return result"
   ]
  },
  {
   "cell_type": "code",
   "execution_count": 61,
   "metadata": {},
   "outputs": [],
   "source": [
    "def demo2(seed, alpha_leaves, alpha_depths):\n",
    "    sim = SimData(\n",
    "        branching_factors = [3, 3],\n",
    "        num_docs = 100000,\n",
    "        doc_length = 2,\n",
    "        topic_sharpness = 20,\n",
    "        alpha_leaves = alpha_leaves,\n",
    "        alpha_depths = alpha_depths,\n",
    "        heavy_words_per_topic = 2,\n",
    "    )\n",
    "    rand = np.random.RandomState(seed)\n",
    "    perm = rand.permutation(sim.num_nodes)\n",
    "    R = calc_cooccurrence_matrix(sim)[perm.reshape((-1, 1)), perm.reshape((1, -1))]\n",
    "    tree = extract_tree(R, branching_factors=[3,3])\n",
    "    pos = bfs_layout(tree, sources=[tree.graph[\"root\"]])\n",
    "    gridshape = np.asarray([1, 3])\n",
    "    fig, ax = plt.subplots(*gridshape, figsize=4*gridshape[::-1])\n",
    "    ax[0].imshow(without_diag(R))\n",
    "    ax[0].axis('off')\n",
    "    ax[0].set_title(\"R\")\n",
    "    nx.draw(tree, pos=pos, with_labels=True, ax=ax[1])\n",
    "    ax[1].axis('off')\n",
    "    ax[1].set_title(\"Maximum Spanning Tree\")\n",
    "    nx.draw(tree, pos=pos, labels={i: j for i, j in enumerate(perm)}, ax=ax[2])\n",
    "    ax[2].axis('off')\n",
    "    ax[2].set_title(\"Maximum Spanning Tree (relabeled)\")\n",
    "    fig.suptitle(r\"Analysis for $\\alpha_\\mathrm{{leaves}} = {}, \\alpha_\\mathrm{{depths}} = {}, seed = {}$\".format(alpha_leaves, alpha_depths, seed))"
   ]
  },
  {
   "cell_type": "code",
   "execution_count": 62,
   "metadata": {},
   "outputs": [
    {
     "data": {
      "image/png": "[encoded data removed]",
      "text/plain": [
       "<matplotlib.figure.Figure at 0x10b7df1d0>"
      ]
     },
     "metadata": {},
     "output_type": "display_data"
    }
   ],
   "source": [
    "demo2(seed=1, alpha_leaves=1, alpha_depths=1)"
   ]
  },
  {
   "cell_type": "code",
   "execution_count": 63,
   "metadata": {},
   "outputs": [
    {
     "data": {
      "application/vnd.jupyter.widget-view+json": {
       "model_id": "ba3fa8fbca4d48c085057fef690043ff",
       "version_major": 2,
       "version_minor": 0
      },
      "text/html": [
       "<p>Failed to display Jupyter Widget of type <code>interactive</code>.</p>\n",
       "<p>\n",
       "  If you're reading this message in the Jupyter Notebook or JupyterLab Notebook, it may mean\n",
       "  that the widgets JavaScript is still loading. If this message persists, it\n",
       "  likely means that the widgets JavaScript library is either not installed or\n",
       "  not enabled. See the <a href=\"https://ipywidgets.readthedocs.io/en/stable/user_install.html\">Jupyter\n",
       "  Widgets Documentation</a> for setup instructions.\n",
       "</p>\n",
       "<p>\n",
       "  If you're reading this message in another frontend (for example, a static\n",
       "  rendering on GitHub or <a href=\"https://nbviewer.jupyter.org/\">NBViewer</a>),\n",
       "  it may mean that your frontend doesn't currently support widgets.\n",
       "</p>\n"
      ],
      "text/plain": [
       "interactive(children=(IntText(value=1, description='seed'), BoundedFloatText(value=0.5, description='alpha_leaves', max=10.0, min=0.05, step=0.05), BoundedFloatText(value=1.0, description='alpha_depths', max=10.0, min=0.05, step=0.05), Output()), _dom_classes=('widget-interact',))"
      ]
     },
     "metadata": {},
     "output_type": "display_data"
    }
   ],
   "source": [
    "ipw.interact(\n",
    "    demo2,\n",
    "    seed = ipw.IntText(1),\n",
    "    alpha_leaves = ipw.BoundedFloatText(0.5, min=0.05, max=10, step=0.05),\n",
    "    alpha_depths = ipw.BoundedFloatText(1.0, min=0.05, max=10, step=0.05));"
   ]
  },
  {
   "cell_type": "code",
   "execution_count": 64,
   "metadata": {},
   "outputs": [
    {
     "data": {
      "text/plain": [
       "(array([1, 3, 2, 0]),\n",
       " array([3, 0, 2, 1]),\n",
       " array([0, 1, 2, 3]),\n",
       " array([0, 1, 2, 3]))"
      ]
     },
     "execution_count": 64,
     "metadata": {},
     "output_type": "execute_result"
    }
   ],
   "source": [
    "a = np.array([1,3,2,0])\n",
    "b = invert_permutation(a)\n",
    "a, b, a[b], b[a]"
   ]
  },
  {
   "cell_type": "code",
   "execution_count": null,
   "metadata": {},
   "outputs": [],
   "source": []
  }
 ],
 "metadata": {
  "kernelspec": {
   "display_name": "Python 3",
   "language": "python",
   "name": "python3"
  },
  "language_info": {
   "codemirror_mode": {
    "name": "ipython",
    "version": 3
   },
   "file_extension": ".py",
   "mimetype": "text/x-python",
   "name": "python",
   "nbconvert_exporter": "python",
   "pygments_lexer": "ipython3",
   "version": "3.5.0"
  }
 },
 "nbformat": 4,
 "nbformat_minor": 2
}
