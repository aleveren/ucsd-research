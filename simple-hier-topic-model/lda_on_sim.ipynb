{
 "cells": [
  {
   "cell_type": "code",
   "execution_count": 1,
   "metadata": {},
   "outputs": [],
   "source": [
    "import numpy as np\n",
    "import matplotlib.pyplot as plt\n",
    "%matplotlib inline"
   ]
  },
  {
   "cell_type": "code",
   "execution_count": 2,
   "metadata": {},
   "outputs": [],
   "source": [
    "from scipy.sparse import dok_matrix, csr_matrix, csc_matrix"
   ]
  },
  {
   "cell_type": "code",
   "execution_count": 29,
   "metadata": {},
   "outputs": [
    {
     "data": {
      "text/plain": [
       "(8, 1000)"
      ]
     },
     "execution_count": 29,
     "metadata": {},
     "output_type": "execute_result"
    }
   ],
   "source": [
    "def load_data(filename, num_docs, vocab_size):\n",
    "    data = dok_matrix((num_docs, vocab_size))\n",
    "    vocab = set()\n",
    "    with open(filename, \"r\") as f:\n",
    "        for doc_index, line in enumerate(f.readlines()):\n",
    "            for voc_index, s in enumerate(line.split()):\n",
    "                vocab_word, count = s.split(\":\")\n",
    "                #print(\"{}, {} --> {}\".format(doc_index, voc_index, count))\n",
    "                data[doc_index, voc_index] = count\n",
    "                vocab.add(vocab_word)\n",
    "    data = csc_matrix(data.transpose())\n",
    "    vocab = sorted(list(vocab))\n",
    "    assert data.shape[1] == num_docs\n",
    "    assert len(vocab) == vocab_size\n",
    "    assert data.shape[0] == vocab_size\n",
    "    return data, vocab\n",
    "\n",
    "data, vocab = load_data(\"simulated_data_concise.txt\", num_docs = 1000, vocab_size = 8)\n",
    "data.shape"
   ]
  },
  {
   "cell_type": "code",
   "execution_count": 30,
   "metadata": {},
   "outputs": [],
   "source": [
    "from simple_hierarchical_topic_model import SimpleHierarchicalTopicModel\n",
    "from utils import niceprint"
   ]
  },
  {
   "cell_type": "code",
   "execution_count": 31,
   "metadata": {},
   "outputs": [],
   "source": [
    "np.random.seed(1)"
   ]
  },
  {
   "cell_type": "code",
   "execution_count": 32,
   "metadata": {},
   "outputs": [],
   "source": [
    "model = SimpleHierarchicalTopicModel(\n",
    "    vocab = vocab,\n",
    "    paths = [(i,) for i in range(4)],\n",
    "    prior_params_DL = 0.1,\n",
    "    prior_params_DD = 1.0,\n",
    ")"
   ]
  },
  {
   "cell_type": "code",
   "execution_count": 34,
   "metadata": {},
   "outputs": [
    {
     "name": "stderr",
     "output_type": "stream",
     "text": [
      " 22%|██▏       | 111/500 [01:30<05:00,  1.29it/s, Status=computing statistics]\n"
     ]
    }
   ],
   "source": [
    "model.fit(data);"
   ]
  },
  {
   "cell_type": "code",
   "execution_count": 41,
   "metadata": {},
   "outputs": [
    {
     "name": "stdout",
     "output_type": "stream",
     "text": [
      "[[0.00000 0.06464 0.43337 0.42247 0.03751 0.03803 0.00282 0.00116]\n",
      " [0.17527 0.19980 0.00000 0.01187 0.24528 0.24057 0.06388 0.06332]\n",
      " [0.37411 0.37039 0.05776 0.05726 0.03882 0.03939 0.03073 0.03156]\n",
      " [0.10816 0.00000 0.04340 0.03521 0.00000 0.00000 0.40889 0.40433]]\n"
     ]
    },
    {
     "data": {
      "image/png": "[encoded data removed]",
      "text/plain": [
       "<matplotlib.figure.Figure at 0x11431dfd0>"
      ]
     },
     "metadata": {},
     "output_type": "display_data"
    }
   ],
   "source": [
    "topic_vectors = model.get_expected_topic_vectors()\n",
    "niceprint(topic_vectors, precision=5)\n",
    "plt.imshow(topic_vectors, aspect='auto');\n",
    "plt.gca().axis('off');"
   ]
  },
  {
   "cell_type": "code",
   "execution_count": null,
   "metadata": {},
   "outputs": [],
   "source": []
  }
 ],
 "metadata": {
  "kernelspec": {
   "display_name": "Python 3",
   "language": "python",
   "name": "python3"
  },
  "language_info": {
   "codemirror_mode": {
    "name": "ipython",
    "version": 3
   },
   "file_extension": ".py",
   "mimetype": "text/x-python",
   "name": "python",
   "nbconvert_exporter": "python",
   "pygments_lexer": "ipython3",
   "version": "3.5.0"
  }
 },
 "nbformat": 4,
 "nbformat_minor": 2
}
