{
 "cells": [
  {
   "cell_type": "code",
   "execution_count": 1,
   "metadata": {},
   "outputs": [],
   "source": [
    "import numpy as np\n",
    "import matplotlib.pyplot as plt\n",
    "%matplotlib inline"
   ]
  },
  {
   "cell_type": "code",
   "execution_count": 2,
   "metadata": {},
   "outputs": [],
   "source": [
    "from sim_data import SHTMSampler"
   ]
  },
  {
   "cell_type": "code",
   "execution_count": 3,
   "metadata": {},
   "outputs": [],
   "source": [
    "from simple_hierarchical_topic_model import (\n",
    "    SimpleHierarchicalTopicModel,\n",
    "    StoppingCondition,\n",
    "    StatsSaver,\n",
    "    explore_branching_factors,\n",
    ")"
   ]
  },
  {
   "cell_type": "code",
   "execution_count": 4,
   "metadata": {},
   "outputs": [],
   "source": [
    "from initializers import KMeansInitializer, UniformInitializer, CustomInitializer"
   ]
  },
  {
   "cell_type": "code",
   "execution_count": 5,
   "metadata": {},
   "outputs": [],
   "source": [
    "from param_stats import mean_discrete, mean_dirichlet, variance_discrete, norm_variance_dirichlet, topic_difference"
   ]
  },
  {
   "cell_type": "code",
   "execution_count": 6,
   "metadata": {},
   "outputs": [],
   "source": [
    "from collections import OrderedDict"
   ]
  },
  {
   "cell_type": "code",
   "execution_count": 7,
   "metadata": {},
   "outputs": [],
   "source": [
    "import os\n",
    "import sys\n",
    "sys.path.append(os.path.abspath(\"..\"))\n",
    "import text_utils"
   ]
  },
  {
   "cell_type": "code",
   "execution_count": 8,
   "metadata": {},
   "outputs": [],
   "source": [
    "import pandas as pd"
   ]
  },
  {
   "cell_type": "code",
   "execution_count": 9,
   "metadata": {},
   "outputs": [],
   "source": [
    "def run_analysis(data, sim, train_rand_seed, train_params, trial_group_id, saver = None):\n",
    "    np.random.seed(train_rand_seed)\n",
    "    model = SimpleHierarchicalTopicModel(**train_params)\n",
    "    model.fit(data)\n",
    "    if saver is not None:\n",
    "        saver(\n",
    "            trial_group_id = trial_group_id,\n",
    "            train_rand_seed = train_rand_seed,\n",
    "            train_params = train_params,\n",
    "            sim = sim,\n",
    "            model = model)"
   ]
  },
  {
   "cell_type": "code",
   "execution_count": 10,
   "metadata": {},
   "outputs": [],
   "source": [
    "rows = []\n",
    "def saver(**kwargs):\n",
    "    global rows\n",
    "    model = kwargs[\"model\"]\n",
    "    sim = kwargs[\"sim\"]\n",
    "    del kwargs[\"model\"]\n",
    "    del kwargs[\"sim\"]\n",
    "\n",
    "    row = dict()\n",
    "    row.update(kwargs)\n",
    "\n",
    "    topic_vectors = model.get_expected_topic_vectors()\n",
    "    init_topics = mean_dirichlet(model.stats_by_epoch[0][\"var_params_DV\"])\n",
    "\n",
    "    row[\"final_topic_difference\"] = topic_difference(true_topics=sim.topics_by_index, est_topics=topic_vectors, paths = model.nodes)\n",
    "    row[\"final_ELBO\"] = model.stats_by_epoch[-1][\"ELBO\"]\n",
    "\n",
    "    print(\"{}: final_topic_difference: {}\".format(row[\"trial_group_id\"], row[\"final_topic_difference\"]), file=sys.stderr)\n",
    "    \n",
    "    rows.append(row)"
   ]
  },
  {
   "cell_type": "code",
   "execution_count": 11,
   "metadata": {},
   "outputs": [
    {
     "name": "stdout",
     "output_type": "stream",
     "text": [
      "CPU times: user 9.45 s, sys: 50.1 ms, total: 9.5 s\n",
      "Wall time: 9.55 s\n"
     ]
    }
   ],
   "source": [
    "%%time\n",
    "np.random.seed(1)\n",
    "sim = SHTMSampler(\n",
    "    branching_factors = [2],\n",
    "    num_docs = 1000,\n",
    "    doc_length = 200,\n",
    "    topic_sharpness = 20,\n",
    "    alpha_leaves = 0.01,\n",
    "    alpha_depths = 1,\n",
    "    heavy_words_per_topic = 2,\n",
    "    #overlap = 'full',\n",
    "    #heavy_indices = [[0, 1], [2, 3], [2, 4], [3, 4]],\n",
    "    #vocab_size = 5,\n",
    ")\n",
    "docs = sim.generate()\n",
    "data, vocab = text_utils.document_strings_to_sparse_term_doc(\n",
    "    docs = docs,\n",
    "    tokenizer = text_utils.default_tokenizer,\n",
    "    vocab = sim.vocab)"
   ]
  },
  {
   "cell_type": "code",
   "execution_count": 12,
   "metadata": {},
   "outputs": [
    {
     "data": {
      "image/png": "[encoded data removed]",
      "text/plain": [
       "<matplotlib.figure.Figure at 0x11834a6d8>"
      ]
     },
     "metadata": {},
     "output_type": "display_data"
    }
   ],
   "source": [
    "fig, ax = plt.subplots()\n",
    "ax.imshow(data.todense(), aspect='auto')\n",
    "ax.axis('off')\n",
    "None"
   ]
  },
  {
   "cell_type": "code",
   "execution_count": 13,
   "metadata": {},
   "outputs": [],
   "source": [
    "paths = explore_branching_factors(sim.branching_factors)"
   ]
  },
  {
   "cell_type": "code",
   "execution_count": 14,
   "metadata": {},
   "outputs": [],
   "source": [
    "base_train_params = dict(\n",
    "    branching_factors = sim.branching_factors,\n",
    "    stopping_condition = StoppingCondition(min_rel_increase = 1e-5, delay_epochs = 5, max_epochs = 300),\n",
    "    #stopping_condition = StoppingCondition(max_epochs = 200),\n",
    "    #stopping_condition = StoppingCondition(max_epochs = 5),\n",
    "    batch_size = None,\n",
    "    vocab = sim.vocab,\n",
    "    save_params_history = True,\n",
    "    step_size_function = lambda n: 0.5,\n",
    "    #paths = [(i,) for i in range(sim.num_leaves)],\n",
    "    prior_params_DL = sim.alpha_leaves,\n",
    "    prior_params_DD = sim.alpha_depths,\n",
    "    prior_params_DV = 0.1,\n",
    "    #update_order = [\"D\", \"L\", \"DD\", \"DL\", \"DV\", ],\n",
    "    stats_saver = StatsSaver(\"latest_stats.txt\", stats = [\"epoch_index\", \"ELBO\", \"var_params_DV\"]),\n",
    "    #initializer = KMeansInitializer(data = data, paths = paths, low = 0.01, high = 1.99),\n",
    "    #initializer = UniformInitializer(low = 0.01, high = 1.99),\n",
    "    initializer = CustomInitializer(sim, topics_noise = 0.0),  # <-- \"cheating\" based on simulation\n",
    ")"
   ]
  },
  {
   "cell_type": "code",
   "execution_count": 15,
   "metadata": {},
   "outputs": [
    {
     "name": "stderr",
     "output_type": "stream",
     "text": [
      " 58%|█████▊    | 174/300 [02:21<01:39,  1.27it/s, Status=computing statistics]\n",
      "topics_noise_0.0: final_topic_difference: 0.054594906336845384\n",
      " 58%|█████▊    | 174/300 [02:22<01:39,  1.26it/s, Status=computing statistics]\n",
      "topics_noise_0.0: final_topic_difference: 0.05459490633684342\n",
      " 58%|█████▊    | 174/300 [02:23<01:45,  1.20it/s, Status=computing statistics]\n",
      "topics_noise_0.0: final_topic_difference: 0.05459490633684369\n",
      " 58%|█████▊    | 174/300 [02:36<01:45,  1.20it/s, Status=computing statistics]\n",
      "topics_noise_0.0: final_topic_difference: 0.05459490633684246\n",
      " 58%|█████▊    | 174/300 [02:31<01:42,  1.23it/s, Status=computing statistics]\n",
      "topics_noise_0.0: final_topic_difference: 0.054594906336844384\n",
      " 58%|█████▊    | 174/300 [02:25<02:05,  1.01it/s, Status=computing statistics]\n",
      "topics_noise_0.0: final_topic_difference: 0.054594906336844405\n",
      " 58%|█████▊    | 174/300 [02:26<01:43,  1.21it/s, Status=computing statistics]\n",
      "topics_noise_0.0: final_topic_difference: 0.05459490633684171\n",
      " 58%|█████▊    | 174/300 [02:31<01:41,  1.24it/s, Status=computing statistics]\n",
      "topics_noise_0.0: final_topic_difference: 0.054594906336843683\n",
      " 58%|█████▊    | 174/300 [02:25<01:39,  1.27it/s, Status=computing statistics]\n",
      "topics_noise_0.0: final_topic_difference: 0.05459490633684228\n",
      " 58%|█████▊    | 174/300 [02:27<01:40,  1.26it/s, Status=computing statistics]\n",
      "topics_noise_0.0: final_topic_difference: 0.05459490633684363\n",
      " 58%|█████▊    | 174/300 [02:34<01:42,  1.23it/s, Status=computing statistics]\n",
      "topics_noise_0.0: final_topic_difference: 0.05459490633684341\n",
      " 58%|█████▊    | 174/300 [02:28<01:51,  1.13it/s, Status=computing statistics]\n",
      "topics_noise_0.0: final_topic_difference: 0.054594906336842754\n",
      " 58%|█████▊    | 174/300 [02:23<01:39,  1.26it/s, Status=computing statistics]\n",
      "topics_noise_0.0: final_topic_difference: 0.05459490633684259\n",
      " 58%|█████▊    | 174/300 [02:24<01:45,  1.19it/s, Status=computing statistics]\n",
      "topics_noise_0.0: final_topic_difference: 0.05459490633684388\n",
      " 58%|█████▊    | 174/300 [02:28<01:44,  1.21it/s, Status=computing statistics]\n",
      "topics_noise_0.0: final_topic_difference: 0.054594906336842074\n",
      " 58%|█████▊    | 174/300 [02:26<01:43,  1.22it/s, Status=computing statistics]\n",
      "topics_noise_0.0: final_topic_difference: 0.05459490633684475\n",
      " 58%|█████▊    | 174/300 [02:22<01:37,  1.29it/s, Status=computing statistics]\n",
      "topics_noise_0.0: final_topic_difference: 0.05459490633684342\n",
      " 58%|█████▊    | 174/300 [02:20<01:39,  1.26it/s, Status=computing statistics]\n",
      "topics_noise_0.0: final_topic_difference: 0.054594906336841026\n",
      " 58%|█████▊    | 174/300 [02:19<01:38,  1.28it/s, Status=computing statistics]\n",
      "topics_noise_0.0: final_topic_difference: 0.05459490633684195\n",
      " 58%|█████▊    | 174/300 [02:20<01:38,  1.28it/s, Status=computing statistics]\n",
      "topics_noise_0.0: final_topic_difference: 0.05459490633684311\n",
      " 60%|█████▉    | 179/300 [02:33<01:40,  1.21it/s, Status=computing statistics]\n",
      "topics_noise_0.1: final_topic_difference: 0.050698879637918116\n",
      " 49%|████▉     | 148/300 [02:16<02:06,  1.20it/s, Status=computing statistics]\n",
      "topics_noise_0.1: final_topic_difference: 0.04955351203712464\n",
      " 38%|███▊      | 115/300 [01:49<02:39,  1.16it/s, Status=computing statistics]\n",
      "topics_noise_0.1: final_topic_difference: 0.047653248405827\n",
      " 48%|████▊     | 145/300 [02:09<02:16,  1.13it/s, Status=computing statistics]\n",
      "topics_noise_0.1: final_topic_difference: 0.0484927062906415\n",
      " 44%|████▍     | 132/300 [01:49<02:11,  1.28it/s, Status=computing statistics]\n",
      "topics_noise_0.1: final_topic_difference: 0.048326306673912\n",
      " 44%|████▎     | 131/300 [01:50<02:24,  1.17it/s, Status=computing statistics]\n",
      "topics_noise_0.1: final_topic_difference: 0.04866752370868429\n",
      " 51%|█████     | 153/300 [02:17<02:01,  1.21it/s, Status=computing statistics]\n",
      "topics_noise_0.1: final_topic_difference: 0.048762681269479365\n",
      " 63%|██████▎   | 188/300 [02:45<01:31,  1.23it/s, Status=computing statistics]\n",
      "topics_noise_0.1: final_topic_difference: 0.05162872068666594\n",
      " 55%|█████▌    | 165/300 [02:21<01:50,  1.22it/s, Status=computing statistics]\n",
      "topics_noise_0.1: final_topic_difference: 0.05083596483729549\n",
      " 47%|████▋     | 142/300 [01:59<02:02,  1.29it/s, Status=computing statistics]\n",
      "topics_noise_0.1: final_topic_difference: 0.04850299984797462\n",
      " 42%|████▏     | 127/300 [01:43<02:14,  1.28it/s, Status=computing statistics]\n",
      "topics_noise_0.1: final_topic_difference: 0.0466164901272251\n",
      " 49%|████▊     | 146/300 [01:57<01:58,  1.30it/s, Status=computing statistics]\n",
      "topics_noise_0.1: final_topic_difference: 0.049260694220128444\n",
      " 39%|███▉      | 117/300 [01:35<02:22,  1.28it/s, Status=computing statistics]\n",
      "topics_noise_0.1: final_topic_difference: 0.047156967019418065\n",
      " 62%|██████▏   | 185/300 [02:28<01:28,  1.30it/s, Status=computing statistics]\n",
      "topics_noise_0.1: final_topic_difference: 0.0516143114773858\n",
      " 40%|████      | 121/300 [01:38<02:19,  1.28it/s, Status=computing statistics]\n",
      "topics_noise_0.1: final_topic_difference: 0.04709658250117164\n",
      " 54%|█████▍    | 162/300 [02:10<01:46,  1.29it/s, Status=computing statistics]\n",
      "topics_noise_0.1: final_topic_difference: 0.05038417583948745\n",
      " 60%|█████▉    | 179/300 [02:24<01:32,  1.30it/s, Status=computing statistics]\n",
      "topics_noise_0.1: final_topic_difference: 0.051299670535265664\n",
      " 50%|████▉     | 149/300 [02:00<01:56,  1.30it/s, Status=computing statistics]\n",
      "topics_noise_0.1: final_topic_difference: 0.04870783023744266\n",
      " 43%|████▎     | 130/300 [01:45<02:11,  1.29it/s, Status=computing statistics]\n",
      "topics_noise_0.1: final_topic_difference: 0.04814866339756054\n",
      " 55%|█████▌    | 165/300 [02:12<01:45,  1.28it/s, Status=computing statistics]\n",
      "topics_noise_0.1: final_topic_difference: 0.04971720670709328\n",
      " 48%|████▊     | 144/300 [01:56<02:02,  1.27it/s, Status=computing statistics]\n",
      "topics_noise_0.5: final_topic_difference: 0.0466802624398345\n",
      " 44%|████▍     | 133/300 [23:43<02:10,  1.28it/s, Status=computing statistics]   \n",
      "topics_noise_0.5: final_topic_difference: 0.045862710861490054\n",
      " 42%|████▏     | 126/300 [01:43<02:16,  1.28it/s, Status=computing statistics]\n",
      "topics_noise_0.5: final_topic_difference: 0.0460651800763599\n",
      " 39%|███▊      | 116/300 [01:36<02:25,  1.27it/s, Status=computing statistics]\n",
      "topics_noise_0.5: final_topic_difference: 0.043561489375938844\n",
      " 35%|███▌      | 105/300 [01:27<02:34,  1.26it/s, Status=computing statistics]\n",
      "topics_noise_0.5: final_topic_difference: 0.0424983404405461\n",
      " 47%|████▋     | 141/300 [01:56<02:08,  1.24it/s, Status=computing statistics]\n",
      "topics_noise_0.5: final_topic_difference: 0.04769921626381903\n",
      " 45%|████▌     | 135/300 [01:51<02:09,  1.27it/s, Status=computing statistics]\n",
      "topics_noise_0.5: final_topic_difference: 0.04556215005877396\n",
      " 44%|████▍     | 133/300 [01:50<02:11,  1.27it/s, Status=computing statistics]\n",
      "topics_noise_0.5: final_topic_difference: 0.04595048099843194\n",
      " 47%|████▋     | 142/300 [01:56<02:05,  1.26it/s, Status=computing statistics]\n",
      "topics_noise_0.5: final_topic_difference: 0.04751404357478214\n",
      " 39%|███▉      | 118/300 [01:37<02:24,  1.26it/s, Status=computing statistics]\n",
      "topics_noise_0.5: final_topic_difference: 0.04327244840173685\n",
      " 51%|█████▏    | 154/300 [02:06<01:54,  1.28it/s, Status=computing statistics]\n",
      "topics_noise_0.5: final_topic_difference: 0.04678840687175408\n",
      " 47%|████▋     | 142/300 [01:56<02:03,  1.27it/s, Status=computing statistics]\n",
      "topics_noise_0.5: final_topic_difference: 0.046617858074699085\n",
      " 40%|████      | 120/300 [01:39<02:21,  1.27it/s, Status=computing statistics]\n",
      "topics_noise_0.5: final_topic_difference: 0.04390190276286832\n",
      " 40%|████      | 121/300 [01:40<02:22,  1.25it/s, Status=computing statistics]\n",
      "topics_noise_0.5: final_topic_difference: 0.0451865111730963\n",
      " 58%|█████▊    | 174/300 [02:21<01:38,  1.28it/s, Status=computing statistics]\n",
      "topics_noise_0.5: final_topic_difference: 0.04956732284527481\n",
      " 52%|█████▏    | 157/300 [02:06<01:53,  1.26it/s, Status=computing statistics]\n",
      "topics_noise_0.5: final_topic_difference: 0.04805305608281055\n",
      " 38%|███▊      | 113/300 [01:33<02:26,  1.28it/s, Status=computing statistics]\n",
      "topics_noise_0.5: final_topic_difference: 0.043105289010608776\n",
      " 36%|███▋      | 109/300 [01:29<02:29,  1.28it/s, Status=computing statistics]\n",
      "topics_noise_0.5: final_topic_difference: 0.04231598598199984\n"
     ]
    },
    {
     "name": "stderr",
     "output_type": "stream",
     "text": [
      " 65%|██████▌   | 195/300 [02:38<01:24,  1.25it/s, Status=computing statistics]\n",
      "topics_noise_0.5: final_topic_difference: 0.050702721569379966\n",
      " 38%|███▊      | 113/300 [01:34<02:26,  1.27it/s, Status=computing statistics]\n",
      "topics_noise_0.5: final_topic_difference: 0.04293387737879101\n",
      " 57%|█████▋    | 170/300 [02:20<01:42,  1.27it/s, Status=computing statistics]\n",
      "topics_noise_1.0: final_topic_difference: 0.04864562042675915\n",
      " 52%|█████▏    | 156/300 [02:07<01:52,  1.28it/s, Status=computing statistics]\n",
      "topics_noise_1.0: final_topic_difference: 0.04719726067472497\n",
      " 34%|███▍      | 102/300 [01:24<02:34,  1.28it/s, Status=computing statistics]\n",
      "topics_noise_1.0: final_topic_difference: 0.0426786756402216\n",
      " 48%|████▊     | 144/300 [01:57<02:07,  1.23it/s, Status=computing statistics]\n",
      "topics_noise_1.0: final_topic_difference: 0.046449216181644076\n",
      " 35%|███▌      | 106/300 [01:27<02:31,  1.28it/s, Status=computing statistics]\n",
      "topics_noise_1.0: final_topic_difference: 0.0416847973715481\n",
      " 47%|████▋     | 140/300 [01:54<02:05,  1.27it/s, Status=computing statistics]\n",
      "topics_noise_1.0: final_topic_difference: 0.04726956894754477\n",
      " 33%|███▎      | 100/300 [01:23<02:36,  1.28it/s, Status=computing statistics]\n",
      "topics_noise_1.0: final_topic_difference: 0.03966977426028303\n",
      " 52%|█████▏    | 157/300 [02:07<01:51,  1.28it/s, Status=computing statistics]\n",
      "topics_noise_1.0: final_topic_difference: 0.04775089258491799\n",
      " 38%|███▊      | 114/300 [01:33<02:24,  1.28it/s, Status=computing statistics]\n",
      "topics_noise_1.0: final_topic_difference: 0.043980296033714096\n",
      " 60%|██████    | 181/300 [02:25<01:33,  1.28it/s, Status=computing statistics]\n",
      "topics_noise_1.0: final_topic_difference: 0.5805630551567776\n",
      " 38%|███▊      | 115/300 [01:33<02:24,  1.28it/s, Status=computing statistics]\n",
      "topics_noise_1.0: final_topic_difference: 0.5981983872283733\n",
      " 57%|█████▋    | 171/300 [02:19<01:41,  1.27it/s, Status=computing statistics]\n",
      "topics_noise_1.0: final_topic_difference: 0.0486194772940021\n",
      " 46%|████▌     | 137/300 [01:52<02:07,  1.28it/s, Status=computing statistics]\n",
      "topics_noise_1.0: final_topic_difference: 0.030607662368529465\n",
      " 47%|████▋     | 140/300 [01:54<02:04,  1.28it/s, Status=computing statistics]\n",
      "topics_noise_1.0: final_topic_difference: 0.0467115473214321\n",
      " 43%|████▎     | 130/300 [01:46<02:15,  1.25it/s, Status=computing statistics]\n",
      "topics_noise_1.0: final_topic_difference: 0.04531038534293911\n",
      " 39%|███▉      | 117/300 [01:40<02:26,  1.25it/s, Status=computing statistics]\n",
      "topics_noise_1.0: final_topic_difference: 0.043011382756726425\n",
      " 37%|███▋      | 110/300 [01:32<02:31,  1.26it/s, Status=computing statistics]\n",
      "topics_noise_1.0: final_topic_difference: 0.041687620191091374\n",
      " 52%|█████▏    | 157/300 [02:11<01:52,  1.27it/s, Status=computing statistics]\n",
      "topics_noise_1.0: final_topic_difference: 0.0335708488222415\n",
      " 57%|█████▋    | 170/300 [02:25<01:49,  1.19it/s, Status=computing statistics]\n",
      "topics_noise_1.0: final_topic_difference: 0.048662018940390295\n",
      " 47%|████▋     | 140/300 [02:02<02:06,  1.26it/s, Status=computing statistics]\n",
      "topics_noise_1.0: final_topic_difference: 0.03997434597579272\n"
     ]
    }
   ],
   "source": [
    "num_trials = 20\n",
    "noise_levels = [0.0, 0.1, 0.5, 1.0]\n",
    "for topics_noise in noise_levels:\n",
    "    train_params = dict()\n",
    "    train_params.update(base_train_params)\n",
    "    train_params[\"initializer\"] = CustomInitializer(sim, topics_noise = topics_noise)\n",
    "    for seed in range(1, num_trials + 1):\n",
    "        run_analysis(\n",
    "            trial_group_id = \"topics_noise_{}\".format(topics_noise),\n",
    "            data = data,\n",
    "            sim = sim,\n",
    "            train_rand_seed = seed,\n",
    "            train_params = train_params,\n",
    "            saver = saver)"
   ]
  },
  {
   "cell_type": "code",
   "execution_count": 16,
   "metadata": {},
   "outputs": [],
   "source": [
    "df = pd.DataFrame.from_records(rows)\n",
    "df = df.loc[:, sorted(df.columns)]"
   ]
  },
  {
   "cell_type": "code",
   "execution_count": 17,
   "metadata": {},
   "outputs": [],
   "source": [
    "g = df.groupby([\"trial_group_id\"])"
   ]
  },
  {
   "cell_type": "code",
   "execution_count": 18,
   "metadata": {},
   "outputs": [
    {
     "data": {
      "text/html": [
       "<div>\n",
       "<style>\n",
       "    .dataframe thead tr:only-child th {\n",
       "        text-align: right;\n",
       "    }\n",
       "\n",
       "    .dataframe thead th {\n",
       "        text-align: left;\n",
       "    }\n",
       "\n",
       "    .dataframe tbody tr th {\n",
       "        vertical-align: top;\n",
       "    }\n",
       "</style>\n",
       "<table border=\"1\" class=\"dataframe\">\n",
       "  <thead>\n",
       "    <tr style=\"text-align: right;\">\n",
       "      <th></th>\n",
       "      <th>group_name</th>\n",
       "      <th>final_topic_difference_mean</th>\n",
       "      <th>final_topic_difference_std</th>\n",
       "      <th>final_ELBO_mean</th>\n",
       "      <th>final_ELBO_std</th>\n",
       "    </tr>\n",
       "  </thead>\n",
       "  <tbody>\n",
       "    <tr>\n",
       "      <th>0</th>\n",
       "      <td>topics_noise_0.0</td>\n",
       "      <td>0.054595</td>\n",
       "      <td>1.101053e-15</td>\n",
       "      <td>-342996.746294</td>\n",
       "      <td>1.699655e-10</td>\n",
       "    </tr>\n",
       "    <tr>\n",
       "      <th>1</th>\n",
       "      <td>topics_noise_0.1</td>\n",
       "      <td>0.049156</td>\n",
       "      <td>1.522747e-03</td>\n",
       "      <td>-343009.241904</td>\n",
       "      <td>2.606659e+01</td>\n",
       "    </tr>\n",
       "    <tr>\n",
       "      <th>2</th>\n",
       "      <td>topics_noise_0.5</td>\n",
       "      <td>0.045692</td>\n",
       "      <td>2.362931e-03</td>\n",
       "      <td>-342968.928171</td>\n",
       "      <td>8.786992e+01</td>\n",
       "    </tr>\n",
       "    <tr>\n",
       "      <th>3</th>\n",
       "      <td>topics_noise_1.0</td>\n",
       "      <td>0.098112</td>\n",
       "      <td>1.681047e-01</td>\n",
       "      <td>-342989.701077</td>\n",
       "      <td>4.712822e+02</td>\n",
       "    </tr>\n",
       "  </tbody>\n",
       "</table>\n",
       "</div>"
      ],
      "text/plain": [
       "         group_name  final_topic_difference_mean  final_topic_difference_std  \\\n",
       "0  topics_noise_0.0                     0.054595                1.101053e-15   \n",
       "1  topics_noise_0.1                     0.049156                1.522747e-03   \n",
       "2  topics_noise_0.5                     0.045692                2.362931e-03   \n",
       "3  topics_noise_1.0                     0.098112                1.681047e-01   \n",
       "\n",
       "   final_ELBO_mean  final_ELBO_std  \n",
       "0   -342996.746294    1.699655e-10  \n",
       "1   -343009.241904    2.606659e+01  \n",
       "2   -342968.928171    8.786992e+01  \n",
       "3   -342989.701077    4.712822e+02  "
      ]
     },
     "execution_count": 18,
     "metadata": {},
     "output_type": "execute_result"
    }
   ],
   "source": [
    "stats = [\"final_topic_difference\", \"final_ELBO\"]\n",
    "rows = []\n",
    "for group_name in sorted(g.groups.keys()):\n",
    "    subset = g.get_group(group_name)\n",
    "    row = OrderedDict([(\"group_name\", group_name)])\n",
    "    for s in stats:\n",
    "        mean = subset[s].mean()\n",
    "        std = subset[s].std()\n",
    "        row[s + \"_mean\"] = mean\n",
    "        row[s + \"_std\"] = std\n",
    "    rows.append(row)\n",
    "df_summary = pd.DataFrame.from_records(rows)\n",
    "df_summary"
   ]
  },
  {
   "cell_type": "code",
   "execution_count": 19,
   "metadata": {},
   "outputs": [],
   "source": [
    "from io import StringIO"
   ]
  },
  {
   "cell_type": "code",
   "execution_count": 20,
   "metadata": {},
   "outputs": [
    {
     "name": "stdout",
     "output_type": "stream",
     "text": [
      ",group_name,final_topic_difference_mean,final_topic_difference_std,final_ELBO_mean,final_ELBO_std\n",
      "0,topics_noise_0.0,0.054594906336843205,1.1010527459609333e-15,-342996.7462944819,1.6996553053344402e-10\n",
      "1,topics_noise_0.1,0.04915625677288507,0.001522747285718868,-343009.2419040369,26.066591192841898\n",
      "2,topics_noise_0.5,0.0456919627121498,0.00236293066325738,-342968.9281711435,87.86992270896489\n",
      "3,topics_noise_1.0,0.09811214167598269,0.16810468267094564,-342989.7010773847,471.2822333175385\n",
      "\n"
     ]
    }
   ],
   "source": [
    "sio = StringIO()\n",
    "df_summary.to_csv(sio)\n",
    "print(sio.getvalue())"
   ]
  },
  {
   "cell_type": "code",
   "execution_count": 28,
   "metadata": {},
   "outputs": [
    {
     "data": {
      "image/png": "[encoded data removed]",
      "text/plain": [
       "<matplotlib.figure.Figure at 0x1197e6ac8>"
      ]
     },
     "metadata": {},
     "output_type": "display_data"
    },
    {
     "data": {
      "image/png": "[encoded data removed]",
      "text/plain": [
       "<matplotlib.figure.Figure at 0x1197f4f98>"
      ]
     },
     "metadata": {},
     "output_type": "display_data"
    }
   ],
   "source": [
    "for stat in stats:\n",
    "    fig, ax = plt.subplots()\n",
    "    xticks = np.arange(df_summary.shape[0])\n",
    "    xlabels = df_summary[\"group_name\"]\n",
    "    for i, group_name in enumerate(xlabels):\n",
    "        current_group = g.get_group(group_name)\n",
    "        ax.plot([i for _ in range(current_group.shape[0])], current_group[stat], linestyle='', marker='.', alpha=0.5)\n",
    "    ax.set_ylabel(stat)\n",
    "    ax.set_xticks(xticks)\n",
    "    ax.set_xticklabels(xlabels, rotation=90)\n",
    "    ax.margins(0.1, 0.1)"
   ]
  },
  {
   "cell_type": "code",
   "execution_count": null,
   "metadata": {},
   "outputs": [],
   "source": []
  }
 ],
 "metadata": {
  "kernelspec": {
   "display_name": "Python 3",
   "language": "python",
   "name": "python3"
  },
  "language_info": {
   "codemirror_mode": {
    "name": "ipython",
    "version": 3
   },
   "file_extension": ".py",
   "mimetype": "text/x-python",
   "name": "python",
   "nbconvert_exporter": "python",
   "pygments_lexer": "ipython3",
   "version": "3.5.0"
  }
 },
 "nbformat": 4,
 "nbformat_minor": 2
}
