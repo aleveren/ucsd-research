{
 "cells": [
  {
   "cell_type": "code",
   "execution_count": 1,
   "metadata": {},
   "outputs": [],
   "source": [
    "import numpy as np\n",
    "import matplotlib.pyplot as plt\n",
    "import networkx as nx\n",
    "import sympy as sp"
   ]
  },
  {
   "cell_type": "code",
   "execution_count": 2,
   "metadata": {},
   "outputs": [],
   "source": [
    "from IPython.display import Math, display"
   ]
  },
  {
   "cell_type": "code",
   "execution_count": 3,
   "metadata": {},
   "outputs": [],
   "source": [
    "from compute_pam import compute_combo_tensor_pam, AlphaCalc\n",
    "from example_graphs import make_tree\n",
    "from utils import nice_tree_plot"
   ]
  },
  {
   "cell_type": "code",
   "execution_count": 4,
   "metadata": {},
   "outputs": [],
   "source": [
    "def show_math(x):\n",
    "    display(Math(sp.latex(x)))"
   ]
  },
  {
   "cell_type": "code",
   "execution_count": 5,
   "metadata": {},
   "outputs": [],
   "source": [
    "g = make_tree([3,3])"
   ]
  },
  {
   "cell_type": "code",
   "execution_count": 6,
   "metadata": {},
   "outputs": [
    {
     "data": {
      "image/png": "[encoded data removed]",
      "text/plain": [
       "<Figure size 432x288 with 1 Axes>"
      ]
     },
     "metadata": {},
     "output_type": "display_data"
    }
   ],
   "source": [
    "nice_tree_plot(g)"
   ]
  },
  {
   "cell_type": "code",
   "execution_count": 7,
   "metadata": {},
   "outputs": [
    {
     "data": {
      "text/plain": [
       "{0: array([a_0_1, a_0_2, a_0_3], dtype=object),\n",
       " 1: array([a_1_4, a_1_5, a_1_6], dtype=object),\n",
       " 2: array([a_2_7, a_2_8, a_2_9], dtype=object),\n",
       " 3: array([a_3_10, a_3_11, a_3_12], dtype=object)}"
      ]
     },
     "execution_count": 7,
     "metadata": {},
     "output_type": "execute_result"
    }
   ],
   "source": [
    "alpha_dict = dict()\n",
    "for n in g.nodes():\n",
    "    if g.out_degree(n) > 0:\n",
    "        nbrs = list(g.neighbors(n))\n",
    "        alpha_dict[n] = np.array([sp.symbols('a_{}_{}'.format(n, x)) for x in nbrs], dtype='object')\n",
    "alpha = AlphaCalc.create(alpha_dict)\n",
    "alpha.values"
   ]
  },
  {
   "cell_type": "code",
   "execution_count": 8,
   "metadata": {},
   "outputs": [
    {
     "data": {
      "text/plain": [
       "(9, 9)"
      ]
     },
     "execution_count": 8,
     "metadata": {},
     "output_type": "execute_result"
    }
   ],
   "source": [
    "R, leaf_paths = compute_combo_tensor_pam(g, alpha=alpha, ndarray_kwargs={\"dtype\": \"object\"}, return_leaf_paths=True)\n",
    "R.shape"
   ]
  },
  {
   "cell_type": "code",
   "execution_count": 9,
   "metadata": {},
   "outputs": [
    {
     "data": {
      "text/plain": [
       "{4: 0, 5: 1, 6: 2, 7: 3, 8: 4, 9: 5, 10: 6, 11: 7, 12: 8}"
      ]
     },
     "execution_count": 9,
     "metadata": {},
     "output_type": "execute_result"
    }
   ],
   "source": [
    "leaf_to_index = {p[-1]: i for i, p in enumerate(leaf_paths)}\n",
    "leaf_to_index"
   ]
  },
  {
   "cell_type": "code",
   "execution_count": 10,
   "metadata": {},
   "outputs": [],
   "source": [
    "def R_leaf(L1, L2, R, leaf_to_index):\n",
    "    i1 = leaf_to_index[L1]\n",
    "    i2 = leaf_to_index[L2]\n",
    "    return R[i1, i2]"
   ]
  },
  {
   "cell_type": "code",
   "execution_count": 11,
   "metadata": {},
   "outputs": [],
   "source": [
    "def RL(L1, L2):\n",
    "    global leaf_to_index, R\n",
    "    return R_leaf(L1, L2, R, leaf_to_index)"
   ]
  },
  {
   "cell_type": "code",
   "execution_count": 12,
   "metadata": {},
   "outputs": [
    {
     "data": {
      "text/latex": [
       "$$\\frac{a_{1 4} \\left(a_{1 4} + 1\\right)}{a_{1 5} \\left(a_{1 5} + 1\\right)}$$"
      ],
      "text/plain": [
       "<IPython.core.display.Math object>"
      ]
     },
     "metadata": {},
     "output_type": "display_data"
    }
   ],
   "source": [
    "show_math(RL(4,4)/RL(5,5))"
   ]
  },
  {
   "cell_type": "code",
   "execution_count": 13,
   "metadata": {
    "scrolled": false
   },
   "outputs": [
    {
     "data": {
      "text/latex": [
       "$$\\frac{a_{0 1} a_{1 4} a_{1 5} \\left(a_{0 1} + 1\\right)}{\\left(a_{0 1} + a_{0 2} + a_{0 3}\\right) \\left(a_{1 4} + a_{1 5} + a_{1 6}\\right) \\left(a_{0 1} + a_{0 2} + a_{0 3} + 1\\right) \\left(a_{1 4} + a_{1 5} + a_{1 6} + 1\\right)}$$"
      ],
      "text/plain": [
       "<IPython.core.display.Math object>"
      ]
     },
     "metadata": {},
     "output_type": "display_data"
    }
   ],
   "source": [
    "show_math(RL(4,5))"
   ]
  },
  {
   "cell_type": "code",
   "execution_count": 14,
   "metadata": {},
   "outputs": [
    {
     "data": {
      "text/latex": [
       "$$\\frac{a_{0 1} a_{1 4} \\left(a_{0 1} + 1\\right) \\left(a_{1 4} + 1\\right)}{\\left(a_{0 1} + a_{0 2} + a_{0 3}\\right) \\left(a_{1 4} + a_{1 5} + a_{1 6}\\right) \\left(a_{0 1} + a_{0 2} + a_{0 3} + 1\\right) \\left(a_{1 4} + a_{1 5} + a_{1 6} + 1\\right)}$$"
      ],
      "text/plain": [
       "<IPython.core.display.Math object>"
      ]
     },
     "metadata": {},
     "output_type": "display_data"
    }
   ],
   "source": [
    "show_math(RL(4,4))"
   ]
  },
  {
   "cell_type": "code",
   "execution_count": 15,
   "metadata": {},
   "outputs": [
    {
     "data": {
      "text/latex": [
       "$$\\left [ \\frac{a_{0 1} a_{1 4}}{\\left(a_{0 1} + a_{0 2} + a_{0 3}\\right) \\left(a_{1 4} + a_{1 5} + a_{1 6}\\right)}, \\quad \\frac{a_{0 1} a_{1 5}}{\\left(a_{0 1} + a_{0 2} + a_{0 3}\\right) \\left(a_{1 4} + a_{1 5} + a_{1 6}\\right)}, \\quad \\frac{a_{0 1} a_{1 6}}{\\left(a_{0 1} + a_{0 2} + a_{0 3}\\right) \\left(a_{1 4} + a_{1 5} + a_{1 6}\\right)}, \\quad \\frac{a_{0 2} a_{2 7}}{\\left(a_{0 1} + a_{0 2} + a_{0 3}\\right) \\left(a_{2 7} + a_{2 8} + a_{2 9}\\right)}, \\quad \\frac{a_{0 2} a_{2 8}}{\\left(a_{0 1} + a_{0 2} + a_{0 3}\\right) \\left(a_{2 7} + a_{2 8} + a_{2 9}\\right)}, \\quad \\frac{a_{0 2} a_{2 9}}{\\left(a_{0 1} + a_{0 2} + a_{0 3}\\right) \\left(a_{2 7} + a_{2 8} + a_{2 9}\\right)}, \\quad \\frac{a_{0 3} a_{3 10}}{\\left(a_{0 1} + a_{0 2} + a_{0 3}\\right) \\left(a_{3 10} + a_{3 11} + a_{3 12}\\right)}, \\quad \\frac{a_{0 3} a_{3 11}}{\\left(a_{0 1} + a_{0 2} + a_{0 3}\\right) \\left(a_{3 10} + a_{3 11} + a_{3 12}\\right)}, \\quad \\frac{a_{0 3} a_{3 12}}{\\left(a_{0 1} + a_{0 2} + a_{0 3}\\right) \\left(a_{3 10} + a_{3 11} + a_{3 12}\\right)}\\right ]$$"
      ],
      "text/plain": [
       "<IPython.core.display.Math object>"
      ]
     },
     "metadata": {},
     "output_type": "display_data"
    }
   ],
   "source": [
    "sums = [x.simplify() for x in np.sum(R, axis=0)]\n",
    "show_math(sums)"
   ]
  },
  {
   "cell_type": "code",
   "execution_count": 16,
   "metadata": {},
   "outputs": [
    {
     "data": {
      "text/plain": [
       "1"
      ]
     },
     "execution_count": 16,
     "metadata": {},
     "output_type": "execute_result"
    }
   ],
   "source": [
    "np.sum(sums).simplify()"
   ]
  },
  {
   "cell_type": "code",
   "execution_count": 17,
   "metadata": {},
   "outputs": [
    {
     "data": {
      "text/latex": [
       "$$\\frac{a_{1 5}}{a_{1 4} + 1}$$"
      ],
      "text/plain": [
       "<IPython.core.display.Math object>"
      ]
     },
     "metadata": {},
     "output_type": "display_data"
    }
   ],
   "source": [
    "show_math((RL(4,5) / RL(4,4)).simplify())"
   ]
  },
  {
   "cell_type": "code",
   "execution_count": 18,
   "metadata": {},
   "outputs": [
    {
     "data": {
      "text/latex": [
       "$$\\frac{a_{1 4}}{a_{1 5} + 1}$$"
      ],
      "text/plain": [
       "<IPython.core.display.Math object>"
      ]
     },
     "metadata": {},
     "output_type": "display_data"
    }
   ],
   "source": [
    "show_math((RL(4,5) / RL(5,5)).simplify())"
   ]
  },
  {
   "cell_type": "code",
   "execution_count": 19,
   "metadata": {},
   "outputs": [
    {
     "data": {
      "text/latex": [
       "$$\\frac{a_{1 4}}{a_{1 6} + 1}$$"
      ],
      "text/plain": [
       "<IPython.core.display.Math object>"
      ]
     },
     "metadata": {},
     "output_type": "display_data"
    }
   ],
   "source": [
    "show_math((RL(4,6) / RL(6,6)).simplify())"
   ]
  },
  {
   "cell_type": "code",
   "execution_count": 20,
   "metadata": {},
   "outputs": [
    {
     "data": {
      "text/latex": [
       "$$\\frac{a_{1 6}}{a_{1 4} + 1}$$"
      ],
      "text/plain": [
       "<IPython.core.display.Math object>"
      ]
     },
     "metadata": {},
     "output_type": "display_data"
    }
   ],
   "source": [
    "show_math((RL(4,6) / RL(4,4)).simplify())"
   ]
  },
  {
   "cell_type": "code",
   "execution_count": 21,
   "metadata": {},
   "outputs": [],
   "source": [
    "def Ra(a,b):\n",
    "    return sp.Symbol(\"R_{}_{}\".format(a,b))"
   ]
  },
  {
   "cell_type": "code",
   "execution_count": 22,
   "metadata": {},
   "outputs": [
    {
     "data": {
      "text/latex": [
       "$$\\frac{a_{1 6}}{a_{1 4} + 1} = \\frac{R_{4 6}}{R_{4 4}}$$"
      ],
      "text/plain": [
       "<IPython.core.display.Math object>"
      ]
     },
     "metadata": {},
     "output_type": "display_data"
    }
   ],
   "source": [
    "show_math(sp.Eq(\n",
    "    (RL(4,6) / RL(4,4)).simplify(),\n",
    "    Ra(4,6) / Ra(4,4)\n",
    "))"
   ]
  },
  {
   "cell_type": "code",
   "execution_count": 23,
   "metadata": {},
   "outputs": [],
   "source": [
    "eqs = []\n",
    "for cluster in [[4,5,6], [7,8,9], [10,11,12]]:\n",
    "    for n in cluster:\n",
    "        for m in cluster:\n",
    "            if m <= n:\n",
    "                continue\n",
    "            eqs.append(sp.Eq(\n",
    "                (RL(m,n) / RL(m,m)).simplify(),\n",
    "                Ra(m,n) / Ra(m,m)\n",
    "            ))"
   ]
  },
  {
   "cell_type": "code",
   "execution_count": 24,
   "metadata": {},
   "outputs": [
    {
     "data": {
      "text/latex": [
       "$$\\left [ \\frac{a_{1 4}}{a_{1 5} + 1} = \\frac{R_{5 4}}{R_{5 5}}, \\quad \\frac{a_{1 4}}{a_{1 6} + 1} = \\frac{R_{6 4}}{R_{6 6}}, \\quad \\frac{a_{1 5}}{a_{1 6} + 1} = \\frac{R_{6 5}}{R_{6 6}}, \\quad \\frac{a_{2 7}}{a_{2 8} + 1} = \\frac{R_{8 7}}{R_{8 8}}, \\quad \\frac{a_{2 7}}{a_{2 9} + 1} = \\frac{R_{9 7}}{R_{9 9}}, \\quad \\frac{a_{2 8}}{a_{2 9} + 1} = \\frac{R_{9 8}}{R_{9 9}}, \\quad \\frac{a_{3 10}}{a_{3 11} + 1} = \\frac{R_{11 10}}{R_{11 11}}, \\quad \\frac{a_{3 10}}{a_{3 12} + 1} = \\frac{R_{12 10}}{R_{12 12}}, \\quad \\frac{a_{3 11}}{a_{3 12} + 1} = \\frac{R_{12 11}}{R_{12 12}}\\right ]$$"
      ],
      "text/plain": [
       "<IPython.core.display.Math object>"
      ]
     },
     "metadata": {},
     "output_type": "display_data"
    }
   ],
   "source": [
    "show_math(eqs)"
   ]
  },
  {
   "cell_type": "code",
   "execution_count": 25,
   "metadata": {},
   "outputs": [
    {
     "data": {
      "text/latex": [
       "$$\\left \\{ a_{1 4} : - \\frac{R_{5 4} R_{6 4}}{R_{5 4} R_{6 5} - R_{5 5} R_{6 4}}, \\quad a_{1 5} : - \\frac{R_{5 4} R_{6 5}}{R_{5 4} R_{6 5} - R_{5 5} R_{6 4}}, \\quad a_{1 6} : \\frac{- R_{5 4} R_{6 5} - R_{5 4} R_{6 6} + R_{5 5} R_{6 4}}{R_{5 4} R_{6 5} - R_{5 5} R_{6 4}}, \\quad a_{2 7} : - \\frac{R_{8 7} R_{9 7}}{R_{8 7} R_{9 8} - R_{8 8} R_{9 7}}, \\quad a_{2 8} : - \\frac{R_{8 7} R_{9 8}}{R_{8 7} R_{9 8} - R_{8 8} R_{9 7}}, \\quad a_{2 9} : \\frac{- R_{8 7} R_{9 8} - R_{8 7} R_{9 9} + R_{8 8} R_{9 7}}{R_{8 7} R_{9 8} - R_{8 8} R_{9 7}}, \\quad a_{3 10} : - \\frac{R_{11 10} R_{12 10}}{R_{11 10} R_{12 11} - R_{11 11} R_{12 10}}, \\quad a_{3 11} : - \\frac{R_{11 10} R_{12 11}}{R_{11 10} R_{12 11} - R_{11 11} R_{12 10}}, \\quad a_{3 12} : \\frac{- R_{11 10} R_{12 11} - R_{11 10} R_{12 12} + R_{11 11} R_{12 10}}{R_{11 10} R_{12 11} - R_{11 11} R_{12 10}}\\right \\}$$"
      ],
      "text/plain": [
       "<IPython.core.display.Math object>"
      ]
     },
     "metadata": {},
     "output_type": "display_data"
    }
   ],
   "source": [
    "show_math(sp.solve(eqs, sp.symbols(\"a_1_4, a_1_5, a_1_6, a_2_7, a_2_8, a_2_9, a_3_10, a_3_11, a_3_12\")))"
   ]
  },
  {
   "cell_type": "code",
   "execution_count": 26,
   "metadata": {},
   "outputs": [],
   "source": [
    "def cross_multiply(eqn):\n",
    "    lhs, rhs = eqn.args\n",
    "    lnumer, ldenom = sp.fraction(lhs)\n",
    "    rnumer, rdenom = sp.fraction(rhs)\n",
    "    lhs = lnumer * rdenom\n",
    "    rhs = rnumer * ldenom\n",
    "    return sp.Eq(lhs, rhs)"
   ]
  },
  {
   "cell_type": "code",
   "execution_count": 27,
   "metadata": {},
   "outputs": [],
   "source": [
    "class Analyzer(object):\n",
    "    '''grouping some functions so it's easier to have multiple analyses in the same notebook'''\n",
    "    def __init__(self, g, verbose = False):\n",
    "        self.g = g\n",
    "        self.verbose = verbose\n",
    "\n",
    "        alpha_dict = dict()\n",
    "        for n in self.g.nodes():\n",
    "            if self.g.out_degree(n) > 0:\n",
    "                nbrs = list(self.g.neighbors(n))\n",
    "                alpha_dict[n] = np.array([sp.symbols('a_{}_{}'.format(n, x)) for x in nbrs], dtype='object')\n",
    "        self.alpha = AlphaCalc.create(alpha_dict)\n",
    "\n",
    "        self.R, self.leaf_paths = compute_combo_tensor_pam(\n",
    "            self.g, alpha=self.alpha, ndarray_kwargs={\"dtype\": \"object\"}, return_leaf_paths=True)\n",
    "\n",
    "        self.leaf_to_index = {p[-1]: i for i, p in enumerate(self.leaf_paths)}\n",
    "        \n",
    "    def RL(self, L1, L2):\n",
    "        return R_leaf(L1, L2, self.R, self.leaf_to_index)\n",
    "    \n",
    "    def get_first_leaf(self, n):\n",
    "        nbrs = list(self.g.neighbors(n))\n",
    "        if len(nbrs) == 0:\n",
    "            return n\n",
    "        else:\n",
    "            return self.get_first_leaf(nbrs[0])\n",
    "\n",
    "    def setup_equations(self):\n",
    "        clusters = dict()\n",
    "        for n in self.g.nodes():\n",
    "            if self.g.out_degree(n) > 0:\n",
    "                curr_cluster = []\n",
    "                for m in self.g.neighbors(n):\n",
    "                    curr_cluster.append(m)\n",
    "                clusters[n] = curr_cluster\n",
    "\n",
    "        eqs_by_cluster = dict()\n",
    "        vars_by_cluster = dict()\n",
    "        soln_by_cluster = dict()\n",
    "        for parent, cluster in clusters.items():\n",
    "            if self.verbose:\n",
    "                print(\"Solving for cluster with parent = {}\".format(parent))\n",
    "            csize = len(cluster)\n",
    "            eqs = []\n",
    "            if csize == 1:\n",
    "                a = sp.Symbol(\"a_{}_{}\".format(parent, cluster[0]))\n",
    "                eqs = [sp.Eq(a, 1)]\n",
    "            elif csize == 2:\n",
    "                m = self.get_first_leaf(cluster[0])\n",
    "                n = self.get_first_leaf(cluster[1])\n",
    "                eqs = [\n",
    "                    cross_multiply(sp.Eq(\n",
    "                        (self.RL(m,n) / self.RL(m,m)).simplify(),\n",
    "                        Ra(m,n) / Ra(m,m)\n",
    "                    )),\n",
    "                    cross_multiply(sp.Eq(\n",
    "                        (self.RL(m,n) / self.RL(n,n)).simplify(),\n",
    "                        Ra(m,n) / Ra(n,n)\n",
    "                    )),\n",
    "                ]\n",
    "            else:\n",
    "                for i in range(csize):\n",
    "                    m = self.get_first_leaf(cluster[i])\n",
    "                    n = self.get_first_leaf(cluster[(i + 1) % csize])\n",
    "                    eqs.append(cross_multiply(sp.Eq(\n",
    "                        (self.RL(m,n) / self.RL(m,m)).simplify(),\n",
    "                        Ra(m,n) / Ra(m,m)\n",
    "                    )))\n",
    "            eqs_by_cluster[parent] = eqs\n",
    "            v = [sp.symbols(\"a_{}_{}\".format(parent, n)) for n in cluster]\n",
    "            vars_by_cluster[parent] = v\n",
    "        \n",
    "        self.clusters = clusters\n",
    "        self.eqs_by_cluster = eqs_by_cluster\n",
    "        self.vars_by_cluster = vars_by_cluster\n",
    "\n",
    "    def solve(self):\n",
    "        self.setup_equations()\n",
    "        \n",
    "        self.soln_by_cluster = dict()\n",
    "        self.solution = dict()\n",
    "\n",
    "        for c in self.eqs_by_cluster:\n",
    "            eqs = self.eqs_by_cluster[c]\n",
    "            v = self.vars_by_cluster[c]\n",
    "            self.soln_by_cluster[c] = sp.solve(eqs, v)\n",
    "        \n",
    "        for k, v in self.soln_by_cluster.items():\n",
    "            self.solution.update(v)"
   ]
  },
  {
   "cell_type": "code",
   "execution_count": 28,
   "metadata": {},
   "outputs": [],
   "source": [
    "g2 = make_tree([2,4])"
   ]
  },
  {
   "cell_type": "code",
   "execution_count": 29,
   "metadata": {},
   "outputs": [
    {
     "data": {
      "image/png": "[encoded data removed]",
      "text/plain": [
       "<Figure size 432x288 with 1 Axes>"
      ]
     },
     "metadata": {},
     "output_type": "display_data"
    }
   ],
   "source": [
    "nice_tree_plot(g2)"
   ]
  },
  {
   "cell_type": "code",
   "execution_count": 30,
   "metadata": {},
   "outputs": [],
   "source": [
    "analyzer = Analyzer(g2)"
   ]
  },
  {
   "cell_type": "code",
   "execution_count": 31,
   "metadata": {},
   "outputs": [
    {
     "data": {
      "text/latex": [
       "$$\\frac{\\left(a_{0 1} + 1\\right) \\left(a_{1 3} + 1\\right) \\left(a_{2 10} + a_{2 7} + a_{2 8} + a_{2 9}\\right)}{a_{0 2} a_{2 7} \\left(a_{1 3} + a_{1 4} + a_{1 5} + a_{1 6} + 1\\right)}$$"
      ],
      "text/plain": [
       "<IPython.core.display.Math object>"
      ]
     },
     "metadata": {},
     "output_type": "display_data"
    }
   ],
   "source": [
    "show_math(analyzer.RL(3,3) / analyzer.RL(3,7))"
   ]
  },
  {
   "cell_type": "code",
   "execution_count": 32,
   "metadata": {},
   "outputs": [
    {
     "data": {
      "text/latex": [
       "$$\\frac{a_{1 3} + 1}{a_{1 4}}$$"
      ],
      "text/plain": [
       "<IPython.core.display.Math object>"
      ]
     },
     "metadata": {},
     "output_type": "display_data"
    }
   ],
   "source": [
    "show_math(analyzer.RL(3,3) / analyzer.RL(3,4))"
   ]
  },
  {
   "cell_type": "code",
   "execution_count": 33,
   "metadata": {},
   "outputs": [
    {
     "data": {
      "text/latex": [
       "$$\\left \\{ a_{0 1} : \\frac{R_{3 7} \\left(R_{3 3} a_{2 7} \\left(a_{1 3} + a_{1 4} + a_{1 5} + a_{1 6} + 1\\right) + R_{3 7} \\left(a_{1 3} a_{2 10} + a_{1 3} a_{2 7} + a_{1 3} a_{2 8} + a_{1 3} a_{2 9} + a_{2 10} + a_{2 7} + a_{2 8} + a_{2 9}\\right)\\right) \\left(a_{1 3} a_{2 7} + a_{1 3} + a_{1 4} a_{2 7} + a_{1 4} + a_{1 5} a_{2 7} + a_{1 5} + a_{1 6} a_{2 7} + a_{1 6}\\right)}{R_{3 3} R_{7 7} a_{1 3} a_{2 7} \\left(a_{1 3} + a_{1 4} + a_{1 5} + a_{1 6} + 1\\right) \\left(a_{2 10} + a_{2 7} + a_{2 8} + a_{2 9} + 1\\right) - R_{3 7}^{2} \\left(a_{1 3} a_{2 10} + a_{1 3} a_{2 7} + a_{1 3} a_{2 8} + a_{1 3} a_{2 9} + a_{2 10} + a_{2 7} + a_{2 8} + a_{2 9}\\right) \\left(a_{1 3} a_{2 7} + a_{1 3} + a_{1 4} a_{2 7} + a_{1 4} + a_{1 5} a_{2 7} + a_{1 5} + a_{1 6} a_{2 7} + a_{1 6}\\right)}, \\quad a_{0 2} : \\frac{R_{3 7} \\left(R_{3 7} \\left(a_{1 3} a_{2 7} + a_{1 3} + a_{1 4} a_{2 7} + a_{1 4} + a_{1 5} a_{2 7} + a_{1 5} + a_{1 6} a_{2 7} + a_{1 6}\\right) + R_{7 7} a_{1 3} \\left(a_{2 10} + a_{2 7} + a_{2 8} + a_{2 9} + 1\\right)\\right) \\left(a_{1 3} a_{2 10} + a_{1 3} a_{2 7} + a_{1 3} a_{2 8} + a_{1 3} a_{2 9} + a_{2 10} + a_{2 7} + a_{2 8} + a_{2 9}\\right)}{R_{3 3} R_{7 7} a_{1 3} a_{2 7} \\left(a_{1 3} + a_{1 4} + a_{1 5} + a_{1 6} + 1\\right) \\left(a_{2 10} + a_{2 7} + a_{2 8} + a_{2 9} + 1\\right) - R_{3 7}^{2} \\left(a_{1 3} a_{2 10} + a_{1 3} a_{2 7} + a_{1 3} a_{2 8} + a_{1 3} a_{2 9} + a_{2 10} + a_{2 7} + a_{2 8} + a_{2 9}\\right) \\left(a_{1 3} a_{2 7} + a_{1 3} + a_{1 4} a_{2 7} + a_{1 4} + a_{1 5} a_{2 7} + a_{1 5} + a_{1 6} a_{2 7} + a_{1 6}\\right)}, \\quad a_{1 3} : \\frac{R_{6 3} \\left(R_{3 3} R_{4 4} R_{5 5} + R_{3 3} R_{4 4} R_{5 6} + R_{3 3} R_{4 5} R_{5 6} + R_{3 4} R_{4 5} R_{5 6}\\right)}{R_{3 3} R_{4 4} R_{5 5} R_{6 6} - R_{3 4} R_{4 5} R_{5 6} R_{6 3}}, \\quad a_{1 4} : \\frac{R_{3 4} \\left(R_{4 4} R_{5 5} R_{6 3} + R_{4 4} R_{5 5} R_{6 6} + R_{4 4} R_{5 6} R_{6 3} + R_{4 5} R_{5 6} R_{6 3}\\right)}{R_{3 3} R_{4 4} R_{5 5} R_{6 6} - R_{3 4} R_{4 5} R_{5 6} R_{6 3}}, \\quad a_{1 5} : \\frac{R_{4 5} \\left(R_{3 3} R_{5 5} R_{6 6} + R_{3 4} R_{5 5} R_{6 3} + R_{3 4} R_{5 5} R_{6 6} + R_{3 4} R_{5 6} R_{6 3}\\right)}{R_{3 3} R_{4 4} R_{5 5} R_{6 6} - R_{3 4} R_{4 5} R_{5 6} R_{6 3}}, \\quad a_{1 6} : \\frac{R_{5 6} \\left(R_{3 3} R_{4 4} R_{6 6} + R_{3 3} R_{4 5} R_{6 6} + R_{3 4} R_{4 5} R_{6 3} + R_{3 4} R_{4 5} R_{6 6}\\right)}{R_{3 3} R_{4 4} R_{5 5} R_{6 6} - R_{3 4} R_{4 5} R_{5 6} R_{6 3}}, \\quad a_{2 10} : \\frac{R_{9 10} \\left(R_{10 10} R_{7 7} R_{8 8} + R_{10 10} R_{7 7} R_{8 9} + R_{10 10} R_{7 8} R_{8 9} + R_{10 7} R_{7 8} R_{8 9}\\right)}{R_{10 10} R_{7 7} R_{8 8} R_{9 9} - R_{10 7} R_{7 8} R_{8 9} R_{9 10}}, \\quad a_{2 7} : \\frac{R_{10 7} \\left(R_{7 7} R_{8 8} R_{9 10} + R_{7 7} R_{8 8} R_{9 9} + R_{7 7} R_{8 9} R_{9 10} + R_{7 8} R_{8 9} R_{9 10}\\right)}{R_{10 10} R_{7 7} R_{8 8} R_{9 9} - R_{10 7} R_{7 8} R_{8 9} R_{9 10}}, \\quad a_{2 8} : \\frac{R_{7 8} \\left(R_{10 10} R_{8 8} R_{9 9} + R_{10 7} R_{8 8} R_{9 10} + R_{10 7} R_{8 8} R_{9 9} + R_{10 7} R_{8 9} R_{9 10}\\right)}{R_{10 10} R_{7 7} R_{8 8} R_{9 9} - R_{10 7} R_{7 8} R_{8 9} R_{9 10}}, \\quad a_{2 9} : \\frac{R_{8 9} \\left(R_{10 10} R_{7 7} R_{9 9} + R_{10 10} R_{7 8} R_{9 9} + R_{10 7} R_{7 8} R_{9 10} + R_{10 7} R_{7 8} R_{9 9}\\right)}{R_{10 10} R_{7 7} R_{8 8} R_{9 9} - R_{10 7} R_{7 8} R_{8 9} R_{9 10}}\\right \\}$$"
      ],
      "text/plain": [
       "<IPython.core.display.Math object>"
      ]
     },
     "metadata": {},
     "output_type": "display_data"
    }
   ],
   "source": [
    "analyzer.solve()\n",
    "show_math(analyzer.solution)"
   ]
  },
  {
   "cell_type": "code",
   "execution_count": 34,
   "metadata": {},
   "outputs": [
    {
     "data": {
      "text/plain": [
       "R_3_3*a_0_2*a_2_7*(a_1_3 + a_1_4 + a_1_5 + a_1_6 + 1)"
      ]
     },
     "execution_count": 34,
     "metadata": {},
     "output_type": "execute_result"
    }
   ],
   "source": [
    "e = analyzer.eqs_by_cluster[0][0].args[0]\n",
    "e"
   ]
  },
  {
   "cell_type": "code",
   "execution_count": 35,
   "metadata": {},
   "outputs": [
    {
     "data": {
      "text/plain": [
       "\"Mul(Symbol('R_3_3'), Symbol('a_0_2'), Symbol('a_2_7'), Add(Symbol('a_1_3'), Symbol('a_1_4'), Symbol('a_1_5'), Symbol('a_1_6'), Integer(1)))\""
      ]
     },
     "execution_count": 35,
     "metadata": {},
     "output_type": "execute_result"
    }
   ],
   "source": [
    "sp.srepr(e)"
   ]
  },
  {
   "cell_type": "code",
   "execution_count": 36,
   "metadata": {},
   "outputs": [],
   "source": [
    "def pprint(e):\n",
    "    if hasattr(e, \"args\") and e.args:\n",
    "        nodes = [pprint(x) for x in e.args]\n",
    "        return e.__class__.__name__ + \"\\n\" + sp.printing.tree.pprint_nodes(nodes)\n",
    "    else:\n",
    "        return \" \" + str(e)"
   ]
  },
  {
   "cell_type": "code",
   "execution_count": 37,
   "metadata": {},
   "outputs": [
    {
     "name": "stdout",
     "output_type": "stream",
     "text": [
      "Mul\n",
      "+- R_3_3\n",
      "+- a_0_2\n",
      "+- a_2_7\n",
      "+-Add\n",
      "  +- 1\n",
      "  +- a_1_3\n",
      "  +- a_1_4\n",
      "  +- a_1_5\n",
      "  +- a_1_6\n",
      "\n"
     ]
    }
   ],
   "source": [
    "print(pprint(e))"
   ]
  },
  {
   "cell_type": "code",
   "execution_count": 38,
   "metadata": {},
   "outputs": [
    {
     "data": {
      "image/png": "[encoded data removed]",
      "text/plain": [
       "<Figure size 432x288 with 1 Axes>"
      ]
     },
     "metadata": {},
     "output_type": "display_data"
    }
   ],
   "source": [
    "g3 = make_tree([2])\n",
    "nice_tree_plot(g3)"
   ]
  },
  {
   "cell_type": "code",
   "execution_count": 39,
   "metadata": {},
   "outputs": [],
   "source": [
    "analyzer = Analyzer(g3)"
   ]
  },
  {
   "cell_type": "code",
   "execution_count": 40,
   "metadata": {},
   "outputs": [
    {
     "data": {
      "text/latex": [
       "$$\\left \\{ a_{0 1} : \\frac{R_{1 2} \\left(R_{1 1} + R_{1 2}\\right)}{R_{1 1} R_{2 2} - R_{1 2}^{2}}, \\quad a_{0 2} : \\frac{R_{1 2} \\left(R_{1 2} + R_{2 2}\\right)}{R_{1 1} R_{2 2} - R_{1 2}^{2}}\\right \\}$$"
      ],
      "text/plain": [
       "<IPython.core.display.Math object>"
      ]
     },
     "metadata": {},
     "output_type": "display_data"
    }
   ],
   "source": [
    "analyzer.solve()\n",
    "show_math(analyzer.solution)"
   ]
  },
  {
   "cell_type": "code",
   "execution_count": 41,
   "metadata": {},
   "outputs": [
    {
     "data": {
      "text/latex": [
       "$$\\left \\{ 0 : \\left [ R_{1 1} a_{0 2} = R_{1 2} \\left(a_{0 1} + 1\\right), \\quad R_{2 2} a_{0 1} = R_{1 2} \\left(a_{0 2} + 1\\right)\\right ]\\right \\}$$"
      ],
      "text/plain": [
       "<IPython.core.display.Math object>"
      ]
     },
     "metadata": {},
     "output_type": "display_data"
    }
   ],
   "source": [
    "show_math(analyzer.eqs_by_cluster)"
   ]
  },
  {
   "cell_type": "code",
   "execution_count": 42,
   "metadata": {},
   "outputs": [
    {
     "data": {
      "image/png": "[encoded data removed]",
      "text/plain": [
       "<Figure size 432x288 with 1 Axes>"
      ]
     },
     "metadata": {},
     "output_type": "display_data"
    }
   ],
   "source": [
    "g4 = nx.DiGraph([(2*i, 2*i + 2) for i in range(3)] + [(2*i, 2*i + 1) for i in range(3)])\n",
    "g4.graph[\"root\"] = 0\n",
    "nice_tree_plot(g4)"
   ]
  },
  {
   "cell_type": "code",
   "execution_count": 43,
   "metadata": {},
   "outputs": [],
   "source": [
    "analyzer = Analyzer(g4)"
   ]
  },
  {
   "cell_type": "code",
   "execution_count": 44,
   "metadata": {},
   "outputs": [
    {
     "data": {
      "text/latex": [
       "$$\\left \\{ a_{0 1} : \\frac{R_{6 1} \\left(R_{1 1} a_{2 4} a_{4 6} + R_{6 1} \\left(a_{2 3} a_{4 5} + a_{2 3} a_{4 6} + a_{2 4} a_{4 5} + a_{2 4} a_{4 6}\\right)\\right) \\left(a_{2 4} a_{4 6} + a_{2 4} + a_{4 6} + 1\\right)}{R_{1 1} R_{6 6} a_{2 4} a_{4 6} \\left(a_{2 3} a_{4 5} + a_{2 3} a_{4 6} + a_{2 3} + a_{2 4} a_{4 5} + a_{2 4} a_{4 6} + a_{2 4} + a_{4 5} + a_{4 6} + 1\\right) - R_{6 1}^{2} \\left(a_{2 3} a_{4 5} + a_{2 3} a_{4 6} + a_{2 4} a_{4 5} + a_{2 4} a_{4 6}\\right) \\left(a_{2 4} a_{4 6} + a_{2 4} + a_{4 6} + 1\\right)}, \\quad a_{0 2} : \\frac{R_{6 1} \\left(R_{6 1} \\left(a_{2 4} a_{4 6} + a_{2 4} + a_{4 6} + 1\\right) + R_{6 6} \\left(a_{2 3} a_{4 5} + a_{2 3} a_{4 6} + a_{2 3} + a_{2 4} a_{4 5} + a_{2 4} a_{4 6} + a_{2 4} + a_{4 5} + a_{4 6} + 1\\right)\\right) \\left(a_{2 3} a_{4 5} + a_{2 3} a_{4 6} + a_{2 4} a_{4 5} + a_{2 4} a_{4 6}\\right)}{R_{1 1} R_{6 6} a_{2 4} a_{4 6} \\left(a_{2 3} a_{4 5} + a_{2 3} a_{4 6} + a_{2 3} + a_{2 4} a_{4 5} + a_{2 4} a_{4 6} + a_{2 4} + a_{4 5} + a_{4 6} + 1\\right) - R_{6 1}^{2} \\left(a_{2 3} a_{4 5} + a_{2 3} a_{4 6} + a_{2 4} a_{4 5} + a_{2 4} a_{4 6}\\right) \\left(a_{2 4} a_{4 6} + a_{2 4} + a_{4 6} + 1\\right)}, \\quad a_{2 3} : \\frac{R_{6 3} \\left(a_{4 6} + 1\\right) \\left(R_{3 3} a_{4 6} + R_{6 3} \\left(a_{4 5} + a_{4 6}\\right)\\right)}{R_{3 3} R_{6 6} a_{4 6} \\left(a_{4 5} + a_{4 6} + 1\\right) - R_{6 3}^{2} \\left(a_{4 5} + a_{4 6}\\right) \\left(a_{4 6} + 1\\right)}, \\quad a_{2 4} : \\frac{R_{6 3} \\left(a_{4 5} + a_{4 6}\\right) \\left(R_{6 3} \\left(a_{4 6} + 1\\right) + R_{6 6} \\left(a_{4 5} + a_{4 6} + 1\\right)\\right)}{R_{3 3} R_{6 6} a_{4 6} \\left(a_{4 5} + a_{4 6} + 1\\right) - R_{6 3}^{2} \\left(a_{4 5} + a_{4 6}\\right) \\left(a_{4 6} + 1\\right)}, \\quad a_{4 5} : \\frac{R_{6 5} \\left(R_{5 5} + R_{6 5}\\right)}{R_{5 5} R_{6 6} - R_{6 5}^{2}}, \\quad a_{4 6} : \\frac{R_{6 5} \\left(R_{6 5} + R_{6 6}\\right)}{R_{5 5} R_{6 6} - R_{6 5}^{2}}\\right \\}$$"
      ],
      "text/plain": [
       "<IPython.core.display.Math object>"
      ]
     },
     "metadata": {},
     "output_type": "display_data"
    }
   ],
   "source": [
    "analyzer.solve()\n",
    "show_math(analyzer.solution)"
   ]
  },
  {
   "cell_type": "code",
   "execution_count": 45,
   "metadata": {},
   "outputs": [
    {
     "data": {
      "text/latex": [
       "$$\\frac{a_{0 1} \\left(a_{0 1} + 1\\right)}{\\left(a_{0 1} + a_{0 2}\\right) \\left(a_{0 1} + a_{0 2} + 1\\right)}$$"
      ],
      "text/plain": [
       "<IPython.core.display.Math object>"
      ]
     },
     "metadata": {},
     "output_type": "display_data"
    },
    {
     "data": {
      "text/latex": [
       "$$\\frac{a_{0 2} a_{2 3} \\left(a_{0 2} + 1\\right) \\left(a_{2 3} + 1\\right)}{\\left(a_{0 1} + a_{0 2}\\right) \\left(a_{2 3} + a_{2 4}\\right) \\left(a_{0 1} + a_{0 2} + 1\\right) \\left(a_{2 3} + a_{2 4} + 1\\right)}$$"
      ],
      "text/plain": [
       "<IPython.core.display.Math object>"
      ]
     },
     "metadata": {},
     "output_type": "display_data"
    },
    {
     "data": {
      "text/latex": [
       "$$\\frac{a_{0 2} a_{2 4} a_{4 5} \\left(a_{0 2} + 1\\right) \\left(a_{2 4} + 1\\right) \\left(a_{4 5} + 1\\right)}{\\left(a_{0 1} + a_{0 2}\\right) \\left(a_{2 3} + a_{2 4}\\right) \\left(a_{4 5} + a_{4 6}\\right) \\left(a_{0 1} + a_{0 2} + 1\\right) \\left(a_{2 3} + a_{2 4} + 1\\right) \\left(a_{4 5} + a_{4 6} + 1\\right)}$$"
      ],
      "text/plain": [
       "<IPython.core.display.Math object>"
      ]
     },
     "metadata": {},
     "output_type": "display_data"
    },
    {
     "name": "stdout",
     "output_type": "stream",
     "text": [
      "********************\n"
     ]
    },
    {
     "data": {
      "text/latex": [
       "$$\\frac{a_{0 1} a_{0 2} a_{2 4} a_{4 5}}{\\left(a_{0 1} + a_{0 2}\\right) \\left(a_{2 3} + a_{2 4}\\right) \\left(a_{4 5} + a_{4 6}\\right) \\left(a_{0 1} + a_{0 2} + 1\\right)}$$"
      ],
      "text/plain": [
       "<IPython.core.display.Math object>"
      ]
     },
     "metadata": {},
     "output_type": "display_data"
    },
    {
     "data": {
      "text/latex": [
       "$$\\frac{a_{0 2} a_{2 3} a_{2 4} a_{4 5} \\left(a_{0 2} + 1\\right)}{\\left(a_{0 1} + a_{0 2}\\right) \\left(a_{2 3} + a_{2 4}\\right) \\left(a_{4 5} + a_{4 6}\\right) \\left(a_{0 1} + a_{0 2} + 1\\right) \\left(a_{2 3} + a_{2 4} + 1\\right)}$$"
      ],
      "text/plain": [
       "<IPython.core.display.Math object>"
      ]
     },
     "metadata": {},
     "output_type": "display_data"
    },
    {
     "data": {
      "text/latex": [
       "$$\\frac{a_{0 2} a_{2 4} a_{4 5} a_{4 6} \\left(a_{0 2} + 1\\right) \\left(a_{2 4} + 1\\right)}{\\left(a_{0 1} + a_{0 2}\\right) \\left(a_{2 3} + a_{2 4}\\right) \\left(a_{4 5} + a_{4 6}\\right) \\left(a_{0 1} + a_{0 2} + 1\\right) \\left(a_{2 3} + a_{2 4} + 1\\right) \\left(a_{4 5} + a_{4 6} + 1\\right)}$$"
      ],
      "text/plain": [
       "<IPython.core.display.Math object>"
      ]
     },
     "metadata": {},
     "output_type": "display_data"
    },
    {
     "name": "stdout",
     "output_type": "stream",
     "text": [
      "********************\n",
      "RATIO:\n"
     ]
    },
    {
     "data": {
      "text/latex": [
       "$$\\frac{R_{1 5}}{R_{5 5}}$$"
      ],
      "text/plain": [
       "<IPython.core.display.Math object>"
      ]
     },
     "metadata": {},
     "output_type": "display_data"
    },
    {
     "data": {
      "text/latex": [
       "$$\\frac{a_{0 1} \\left(a_{2 3} + a_{2 4} + 1\\right) \\left(a_{4 5} + a_{4 6} + 1\\right)}{\\left(a_{0 2} + 1\\right) \\left(a_{2 4} + 1\\right) \\left(a_{4 5} + 1\\right)}$$"
      ],
      "text/plain": [
       "<IPython.core.display.Math object>"
      ]
     },
     "metadata": {},
     "output_type": "display_data"
    },
    {
     "name": "stdout",
     "output_type": "stream",
     "text": [
      "RATIO:\n"
     ]
    },
    {
     "data": {
      "text/latex": [
       "$$\\frac{R_{3 5}}{R_{5 5}}$$"
      ],
      "text/plain": [
       "<IPython.core.display.Math object>"
      ]
     },
     "metadata": {},
     "output_type": "display_data"
    },
    {
     "data": {
      "text/latex": [
       "$$\\frac{a_{2 3} \\left(a_{4 5} + a_{4 6} + 1\\right)}{\\left(a_{2 4} + 1\\right) \\left(a_{4 5} + 1\\right)}$$"
      ],
      "text/plain": [
       "<IPython.core.display.Math object>"
      ]
     },
     "metadata": {},
     "output_type": "display_data"
    },
    {
     "name": "stdout",
     "output_type": "stream",
     "text": [
      "RATIO:\n"
     ]
    },
    {
     "data": {
      "text/latex": [
       "$$\\frac{R_{5 6}}{R_{5 5}}$$"
      ],
      "text/plain": [
       "<IPython.core.display.Math object>"
      ]
     },
     "metadata": {},
     "output_type": "display_data"
    },
    {
     "data": {
      "text/latex": [
       "$$\\frac{a_{4 6}}{a_{4 5} + 1}$$"
      ],
      "text/plain": [
       "<IPython.core.display.Math object>"
      ]
     },
     "metadata": {},
     "output_type": "display_data"
    }
   ],
   "source": [
    "show_math(analyzer.RL(1,1))\n",
    "show_math(analyzer.RL(3,3))\n",
    "show_math(analyzer.RL(5,5))\n",
    "print(\"*\"*20)\n",
    "show_math(analyzer.RL(1,5))\n",
    "show_math(analyzer.RL(3,5))\n",
    "show_math(analyzer.RL(5,6))\n",
    "print(\"*\"*20)\n",
    "print(\"RATIO:\")\n",
    "show_math(Ra(1,5) / Ra(5,5))\n",
    "show_math(analyzer.RL(1,5) / analyzer.RL(5,5))\n",
    "print(\"RATIO:\")\n",
    "show_math(Ra(3,5) / Ra(5,5))\n",
    "show_math(analyzer.RL(3,5) / analyzer.RL(5,5))\n",
    "print(\"RATIO:\")\n",
    "show_math(Ra(5,6) / Ra(5,5))\n",
    "show_math(analyzer.RL(5,6) / analyzer.RL(5,5))"
   ]
  },
  {
   "cell_type": "code",
   "execution_count": 46,
   "metadata": {},
   "outputs": [
    {
     "data": {
      "image/png": "[encoded data removed]",
      "text/plain": [
       "<Figure size 432x288 with 1 Axes>"
      ]
     },
     "metadata": {},
     "output_type": "display_data"
    }
   ],
   "source": [
    "g5 = make_tree([2,2,2])\n",
    "nice_tree_plot(g5)"
   ]
  },
  {
   "cell_type": "code",
   "execution_count": 47,
   "metadata": {},
   "outputs": [],
   "source": [
    "analyzer = Analyzer(g5)"
   ]
  },
  {
   "cell_type": "code",
   "execution_count": 48,
   "metadata": {},
   "outputs": [
    {
     "data": {
      "text/latex": [
       "$$R_{7 7} = \\frac{a_{0 1} a_{1 3} a_{3 7} \\left(a_{0 1} + 1\\right) \\left(a_{1 3} + 1\\right) \\left(a_{3 7} + 1\\right)}{\\left(a_{0 1} + a_{0 2}\\right) \\left(a_{1 3} + a_{1 4}\\right) \\left(a_{3 7} + a_{3 8}\\right) \\left(a_{0 1} + a_{0 2} + 1\\right) \\left(a_{1 3} + a_{1 4} + 1\\right) \\left(a_{3 7} + a_{3 8} + 1\\right)}$$"
      ],
      "text/plain": [
       "<IPython.core.display.Math object>"
      ]
     },
     "metadata": {},
     "output_type": "display_data"
    },
    {
     "data": {
      "text/latex": [
       "$$R_{7 8} = \\frac{a_{0 1} a_{1 3} a_{3 7} a_{3 8} \\left(a_{0 1} + 1\\right) \\left(a_{1 3} + 1\\right)}{\\left(a_{0 1} + a_{0 2}\\right) \\left(a_{1 3} + a_{1 4}\\right) \\left(a_{3 7} + a_{3 8}\\right) \\left(a_{0 1} + a_{0 2} + 1\\right) \\left(a_{1 3} + a_{1 4} + 1\\right) \\left(a_{3 7} + a_{3 8} + 1\\right)}$$"
      ],
      "text/plain": [
       "<IPython.core.display.Math object>"
      ]
     },
     "metadata": {},
     "output_type": "display_data"
    },
    {
     "data": {
      "text/latex": [
       "$$R_{7 9} = \\frac{a_{0 1} a_{1 3} a_{1 4} a_{3 7} a_{4 9} \\left(a_{0 1} + 1\\right)}{\\left(a_{0 1} + a_{0 2}\\right) \\left(a_{1 3} + a_{1 4}\\right) \\left(a_{3 7} + a_{3 8}\\right) \\left(a_{4 10} + a_{4 9}\\right) \\left(a_{0 1} + a_{0 2} + 1\\right) \\left(a_{1 3} + a_{1 4} + 1\\right)}$$"
      ],
      "text/plain": [
       "<IPython.core.display.Math object>"
      ]
     },
     "metadata": {},
     "output_type": "display_data"
    },
    {
     "data": {
      "text/latex": [
       "$$R_{7 11} = \\frac{a_{0 1} a_{0 2} a_{1 3} a_{2 5} a_{3 7} a_{5 11}}{\\left(a_{0 1} + a_{0 2}\\right) \\left(a_{1 3} + a_{1 4}\\right) \\left(a_{2 5} + a_{2 6}\\right) \\left(a_{3 7} + a_{3 8}\\right) \\left(a_{5 11} + a_{5 12}\\right) \\left(a_{0 1} + a_{0 2} + 1\\right)}$$"
      ],
      "text/plain": [
       "<IPython.core.display.Math object>"
      ]
     },
     "metadata": {},
     "output_type": "display_data"
    }
   ],
   "source": [
    "indices = [7, 8, 9, 11]\n",
    "\n",
    "for j in indices:\n",
    "    i = indices[0]\n",
    "    show_math(sp.Eq(Ra(i,j), analyzer.RL(i,j)))"
   ]
  },
  {
   "cell_type": "code",
   "execution_count": 49,
   "metadata": {},
   "outputs": [
    {
     "data": {
      "text/latex": [
       "$$\\frac{R_{7 8}}{R_{7 7}} = \\frac{a_{3 8}}{a_{3 7} + 1}$$"
      ],
      "text/plain": [
       "<IPython.core.display.Math object>"
      ]
     },
     "metadata": {},
     "output_type": "display_data"
    },
    {
     "data": {
      "text/latex": [
       "$$\\frac{R_{7 9}}{R_{7 7}} = \\frac{a_{1 4} a_{4 9} \\left(a_{3 7} + a_{3 8} + 1\\right)}{\\left(a_{1 3} + 1\\right) \\left(a_{3 7} + 1\\right) \\left(a_{4 10} + a_{4 9}\\right)}$$"
      ],
      "text/plain": [
       "<IPython.core.display.Math object>"
      ]
     },
     "metadata": {},
     "output_type": "display_data"
    },
    {
     "data": {
      "text/latex": [
       "$$\\frac{R_{7 11}}{R_{7 7}} = \\frac{a_{0 2} a_{2 5} a_{5 11} \\left(a_{1 3} + a_{1 4} + 1\\right) \\left(a_{3 7} + a_{3 8} + 1\\right)}{\\left(a_{0 1} + 1\\right) \\left(a_{1 3} + 1\\right) \\left(a_{2 5} + a_{2 6}\\right) \\left(a_{3 7} + 1\\right) \\left(a_{5 11} + a_{5 12}\\right)}$$"
      ],
      "text/plain": [
       "<IPython.core.display.Math object>"
      ]
     },
     "metadata": {},
     "output_type": "display_data"
    }
   ],
   "source": [
    "for j in indices[1:]:\n",
    "    i = indices[0]\n",
    "    show_math(sp.Eq(Ra(i,j) / Ra(i,i), analyzer.RL(i,j) / analyzer.RL(i,i)))"
   ]
  },
  {
   "cell_type": "code",
   "execution_count": 50,
   "metadata": {},
   "outputs": [
    {
     "data": {
      "text/latex": [
       "$$\\frac{R_{8 8}}{R_{7 7}} = \\frac{a_{3 8} \\left(a_{3 8} + 1\\right)}{a_{3 7} \\left(a_{3 7} + 1\\right)}$$"
      ],
      "text/plain": [
       "<IPython.core.display.Math object>"
      ]
     },
     "metadata": {},
     "output_type": "display_data"
    }
   ],
   "source": [
    "show_math(sp.Eq(Ra(8,8) / Ra(7,7), analyzer.RL(8,8) / analyzer.RL(7,7)))"
   ]
  },
  {
   "cell_type": "markdown",
   "metadata": {},
   "source": [
    "## Analyzing single-layer trees"
   ]
  },
  {
   "cell_type": "code",
   "execution_count": 51,
   "metadata": {},
   "outputs": [
    {
     "name": "stdout",
     "output_type": "stream",
     "text": [
      "####################\n",
      "k = 2\n"
     ]
    },
    {
     "data": {
      "text/latex": [
       "$$R_{1 1} a_{0 2} = R_{1 2} \\left(a_{0 1} + 1\\right)$$"
      ],
      "text/plain": [
       "<IPython.core.display.Math object>"
      ]
     },
     "metadata": {},
     "output_type": "display_data"
    },
    {
     "data": {
      "text/latex": [
       "$$R_{2 2} a_{0 1} = R_{1 2} \\left(a_{0 2} + 1\\right)$$"
      ],
      "text/plain": [
       "<IPython.core.display.Math object>"
      ]
     },
     "metadata": {},
     "output_type": "display_data"
    },
    {
     "data": {
      "text/latex": [
       "$$\\left \\{ a_{0 1} : \\frac{R_{1 2} \\left(R_{1 1} + R_{1 2}\\right)}{R_{1 1} R_{2 2} - R_{1 2}^{2}}, \\quad a_{0 2} : \\frac{R_{1 2} \\left(R_{1 2} + R_{2 2}\\right)}{R_{1 1} R_{2 2} - R_{1 2}^{2}}\\right \\}$$"
      ],
      "text/plain": [
       "<IPython.core.display.Math object>"
      ]
     },
     "metadata": {},
     "output_type": "display_data"
    },
    {
     "name": "stdout",
     "output_type": "stream",
     "text": [
      "####################\n",
      "k = 3\n"
     ]
    },
    {
     "data": {
      "text/latex": [
       "$$R_{1 1} a_{0 2} = R_{1 2} \\left(a_{0 1} + 1\\right)$$"
      ],
      "text/plain": [
       "<IPython.core.display.Math object>"
      ]
     },
     "metadata": {},
     "output_type": "display_data"
    },
    {
     "data": {
      "text/latex": [
       "$$R_{2 2} a_{0 3} = R_{2 3} \\left(a_{0 2} + 1\\right)$$"
      ],
      "text/plain": [
       "<IPython.core.display.Math object>"
      ]
     },
     "metadata": {},
     "output_type": "display_data"
    },
    {
     "data": {
      "text/latex": [
       "$$R_{3 3} a_{0 1} = R_{3 1} \\left(a_{0 3} + 1\\right)$$"
      ],
      "text/plain": [
       "<IPython.core.display.Math object>"
      ]
     },
     "metadata": {},
     "output_type": "display_data"
    },
    {
     "data": {
      "text/latex": [
       "$$\\left \\{ a_{0 1} : \\frac{R_{3 1} \\left(R_{1 1} R_{2 2} + R_{1 1} R_{2 3} + R_{1 2} R_{2 3}\\right)}{R_{1 1} R_{2 2} R_{3 3} - R_{1 2} R_{2 3} R_{3 1}}, \\quad a_{0 2} : \\frac{R_{1 2} \\left(R_{2 2} R_{3 1} + R_{2 2} R_{3 3} + R_{2 3} R_{3 1}\\right)}{R_{1 1} R_{2 2} R_{3 3} - R_{1 2} R_{2 3} R_{3 1}}, \\quad a_{0 3} : \\frac{R_{2 3} \\left(R_{1 1} R_{3 3} + R_{1 2} R_{3 1} + R_{1 2} R_{3 3}\\right)}{R_{1 1} R_{2 2} R_{3 3} - R_{1 2} R_{2 3} R_{3 1}}\\right \\}$$"
      ],
      "text/plain": [
       "<IPython.core.display.Math object>"
      ]
     },
     "metadata": {},
     "output_type": "display_data"
    },
    {
     "name": "stdout",
     "output_type": "stream",
     "text": [
      "####################\n",
      "k = 4\n"
     ]
    },
    {
     "data": {
      "text/latex": [
       "$$R_{1 1} a_{0 2} = R_{1 2} \\left(a_{0 1} + 1\\right)$$"
      ],
      "text/plain": [
       "<IPython.core.display.Math object>"
      ]
     },
     "metadata": {},
     "output_type": "display_data"
    },
    {
     "data": {
      "text/latex": [
       "$$R_{2 2} a_{0 3} = R_{2 3} \\left(a_{0 2} + 1\\right)$$"
      ],
      "text/plain": [
       "<IPython.core.display.Math object>"
      ]
     },
     "metadata": {},
     "output_type": "display_data"
    },
    {
     "data": {
      "text/latex": [
       "$$R_{3 3} a_{0 4} = R_{3 4} \\left(a_{0 3} + 1\\right)$$"
      ],
      "text/plain": [
       "<IPython.core.display.Math object>"
      ]
     },
     "metadata": {},
     "output_type": "display_data"
    },
    {
     "data": {
      "text/latex": [
       "$$R_{4 4} a_{0 1} = R_{4 1} \\left(a_{0 4} + 1\\right)$$"
      ],
      "text/plain": [
       "<IPython.core.display.Math object>"
      ]
     },
     "metadata": {},
     "output_type": "display_data"
    },
    {
     "data": {
      "text/latex": [
       "$$\\left \\{ a_{0 1} : \\frac{R_{4 1} \\left(R_{1 1} R_{2 2} R_{3 3} + R_{1 1} R_{2 2} R_{3 4} + R_{1 1} R_{2 3} R_{3 4} + R_{1 2} R_{2 3} R_{3 4}\\right)}{R_{1 1} R_{2 2} R_{3 3} R_{4 4} - R_{1 2} R_{2 3} R_{3 4} R_{4 1}}, \\quad a_{0 2} : \\frac{R_{1 2} \\left(R_{2 2} R_{3 3} R_{4 1} + R_{2 2} R_{3 3} R_{4 4} + R_{2 2} R_{3 4} R_{4 1} + R_{2 3} R_{3 4} R_{4 1}\\right)}{R_{1 1} R_{2 2} R_{3 3} R_{4 4} - R_{1 2} R_{2 3} R_{3 4} R_{4 1}}, \\quad a_{0 3} : \\frac{R_{2 3} \\left(R_{1 1} R_{3 3} R_{4 4} + R_{1 2} R_{3 3} R_{4 1} + R_{1 2} R_{3 3} R_{4 4} + R_{1 2} R_{3 4} R_{4 1}\\right)}{R_{1 1} R_{2 2} R_{3 3} R_{4 4} - R_{1 2} R_{2 3} R_{3 4} R_{4 1}}, \\quad a_{0 4} : \\frac{R_{3 4} \\left(R_{1 1} R_{2 2} R_{4 4} + R_{1 1} R_{2 3} R_{4 4} + R_{1 2} R_{2 3} R_{4 1} + R_{1 2} R_{2 3} R_{4 4}\\right)}{R_{1 1} R_{2 2} R_{3 3} R_{4 4} - R_{1 2} R_{2 3} R_{3 4} R_{4 1}}\\right \\}$$"
      ],
      "text/plain": [
       "<IPython.core.display.Math object>"
      ]
     },
     "metadata": {},
     "output_type": "display_data"
    },
    {
     "name": "stdout",
     "output_type": "stream",
     "text": [
      "####################\n",
      "k = 5\n"
     ]
    },
    {
     "data": {
      "text/latex": [
       "$$R_{1 1} a_{0 2} = R_{1 2} \\left(a_{0 1} + 1\\right)$$"
      ],
      "text/plain": [
       "<IPython.core.display.Math object>"
      ]
     },
     "metadata": {},
     "output_type": "display_data"
    },
    {
     "data": {
      "text/latex": [
       "$$R_{2 2} a_{0 3} = R_{2 3} \\left(a_{0 2} + 1\\right)$$"
      ],
      "text/plain": [
       "<IPython.core.display.Math object>"
      ]
     },
     "metadata": {},
     "output_type": "display_data"
    },
    {
     "data": {
      "text/latex": [
       "$$R_{3 3} a_{0 4} = R_{3 4} \\left(a_{0 3} + 1\\right)$$"
      ],
      "text/plain": [
       "<IPython.core.display.Math object>"
      ]
     },
     "metadata": {},
     "output_type": "display_data"
    },
    {
     "data": {
      "text/latex": [
       "$$R_{4 4} a_{0 5} = R_{4 5} \\left(a_{0 4} + 1\\right)$$"
      ],
      "text/plain": [
       "<IPython.core.display.Math object>"
      ]
     },
     "metadata": {},
     "output_type": "display_data"
    },
    {
     "data": {
      "text/latex": [
       "$$R_{5 5} a_{0 1} = R_{5 1} \\left(a_{0 5} + 1\\right)$$"
      ],
      "text/plain": [
       "<IPython.core.display.Math object>"
      ]
     },
     "metadata": {},
     "output_type": "display_data"
    },
    {
     "data": {
      "text/latex": [
       "$$\\left \\{ a_{0 1} : \\frac{R_{5 1}}{R_{1 1} R_{2 2} R_{3 3} R_{4 4} R_{5 5} - R_{1 2} R_{2 3} R_{3 4} R_{4 5} R_{5 1}} \\left(R_{1 1} R_{2 2} R_{3 3} R_{4 4} + R_{1 1} R_{2 2} R_{3 3} R_{4 5} + R_{1 1} R_{2 2} R_{3 4} R_{4 5} + R_{1 1} R_{2 3} R_{3 4} R_{4 5} + R_{1 2} R_{2 3} R_{3 4} R_{4 5}\\right), \\quad a_{0 2} : \\frac{R_{1 2}}{R_{1 1} R_{2 2} R_{3 3} R_{4 4} R_{5 5} - R_{1 2} R_{2 3} R_{3 4} R_{4 5} R_{5 1}} \\left(R_{2 2} R_{3 3} R_{4 4} R_{5 1} + R_{2 2} R_{3 3} R_{4 4} R_{5 5} + R_{2 2} R_{3 3} R_{4 5} R_{5 1} + R_{2 2} R_{3 4} R_{4 5} R_{5 1} + R_{2 3} R_{3 4} R_{4 5} R_{5 1}\\right), \\quad a_{0 3} : \\frac{R_{2 3}}{R_{1 1} R_{2 2} R_{3 3} R_{4 4} R_{5 5} - R_{1 2} R_{2 3} R_{3 4} R_{4 5} R_{5 1}} \\left(R_{1 1} R_{3 3} R_{4 4} R_{5 5} + R_{1 2} R_{3 3} R_{4 4} R_{5 1} + R_{1 2} R_{3 3} R_{4 4} R_{5 5} + R_{1 2} R_{3 3} R_{4 5} R_{5 1} + R_{1 2} R_{3 4} R_{4 5} R_{5 1}\\right), \\quad a_{0 4} : \\frac{R_{3 4}}{R_{1 1} R_{2 2} R_{3 3} R_{4 4} R_{5 5} - R_{1 2} R_{2 3} R_{3 4} R_{4 5} R_{5 1}} \\left(R_{1 1} R_{2 2} R_{4 4} R_{5 5} + R_{1 1} R_{2 3} R_{4 4} R_{5 5} + R_{1 2} R_{2 3} R_{4 4} R_{5 1} + R_{1 2} R_{2 3} R_{4 4} R_{5 5} + R_{1 2} R_{2 3} R_{4 5} R_{5 1}\\right), \\quad a_{0 5} : \\frac{R_{4 5}}{R_{1 1} R_{2 2} R_{3 3} R_{4 4} R_{5 5} - R_{1 2} R_{2 3} R_{3 4} R_{4 5} R_{5 1}} \\left(R_{1 1} R_{2 2} R_{3 3} R_{5 5} + R_{1 1} R_{2 2} R_{3 4} R_{5 5} + R_{1 1} R_{2 3} R_{3 4} R_{5 5} + R_{1 2} R_{2 3} R_{3 4} R_{5 1} + R_{1 2} R_{2 3} R_{3 4} R_{5 5}\\right)\\right \\}$$"
      ],
      "text/plain": [
       "<IPython.core.display.Math object>"
      ]
     },
     "metadata": {},
     "output_type": "display_data"
    }
   ],
   "source": [
    "def expand_numer(x):\n",
    "    a, b = sp.fraction(x)\n",
    "    return a.expand() / b\n",
    "\n",
    "for k in range(2, 5+1):\n",
    "    print(\"#\" * 20)\n",
    "    print(\"k = {}\".format(k))\n",
    "    g = make_tree([k])\n",
    "    analyzer = Analyzer(g)\n",
    "    analyzer.solve()\n",
    "    for e in analyzer.eqs_by_cluster[0]:\n",
    "        show_math(e)\n",
    "    show_math(analyzer.solution)\n",
    "    #show_math({k: expand_numer(v) for k, v in analyzer.solution.items()})"
   ]
  },
  {
   "cell_type": "code",
   "execution_count": 52,
   "metadata": {},
   "outputs": [],
   "source": [
    "def alphas_from_R_lists(R_star_sames, R_star_nexts):\n",
    "    Rs = R_star_sames\n",
    "    Rn = R_star_nexts\n",
    "    num_alphas = len(Rs)\n",
    "    \n",
    "    denom_prod_1 = 1\n",
    "    denom_prod_2 = 1\n",
    "    for i in range(num_alphas):\n",
    "        denom_prod_1 *= Rs[i]\n",
    "        denom_prod_2 *= Rn[i]\n",
    "    denom = denom_prod_1 - denom_prod_2\n",
    "    \n",
    "    alphas = []\n",
    "    for i in range(num_alphas):\n",
    "        numer = 0\n",
    "        for n in range(num_alphas):\n",
    "            curr_term = 1\n",
    "            for m in range(num_alphas):\n",
    "                offset = (i + m) % num_alphas\n",
    "                if m < n:\n",
    "                    curr_term *= Rs[offset]\n",
    "                else:\n",
    "                    curr_term *= Rn[offset]\n",
    "            numer += curr_term\n",
    "        alphas.append(numer / denom)\n",
    "\n",
    "    return alphas"
   ]
  },
  {
   "cell_type": "code",
   "execution_count": 53,
   "metadata": {},
   "outputs": [
    {
     "data": {
      "text/latex": [
       "$$\\left [ \\frac{R_{1 1} R_{2 2} R_{3 1} + R_{1 1} R_{2 3} R_{3 1} + R_{1 2} R_{2 3} R_{3 1}}{R_{1 1} R_{2 2} R_{3 3} - R_{1 2} R_{2 3} R_{3 1}}, \\quad \\frac{R_{1 2} R_{2 2} R_{3 1} + R_{1 2} R_{2 2} R_{3 3} + R_{1 2} R_{2 3} R_{3 1}}{R_{1 1} R_{2 2} R_{3 3} - R_{1 2} R_{2 3} R_{3 1}}, \\quad \\frac{R_{1 1} R_{2 3} R_{3 3} + R_{1 2} R_{2 3} R_{3 1} + R_{1 2} R_{2 3} R_{3 3}}{R_{1 1} R_{2 2} R_{3 3} - R_{1 2} R_{2 3} R_{3 1}}\\right ]$$"
      ],
      "text/plain": [
       "<IPython.core.display.Math object>"
      ]
     },
     "metadata": {},
     "output_type": "display_data"
    }
   ],
   "source": [
    "show_math(alphas_from_R_lists(\n",
    "#     sp.symbols(\"R_1_1, R_2_2\"),\n",
    "#     sp.symbols(\"R_1_2, R_1_2\")))\n",
    "    sp.symbols(\"R_1_1, R_2_2, R_3_3\"),\n",
    "    sp.symbols(\"R_1_2, R_2_3, R_3_1\")))"
   ]
  },
  {
   "cell_type": "markdown",
   "metadata": {},
   "source": [
    "## Extract alphas"
   ]
  },
  {
   "cell_type": "code",
   "execution_count": 54,
   "metadata": {},
   "outputs": [],
   "source": [
    "class AlphaExtract(object):\n",
    "    def __init__(self, g, R, leaf_to_index = None):\n",
    "        self.g = g\n",
    "        self.R = R\n",
    "        self.init_leaf_to_index(leaf_to_index)\n",
    "\n",
    "    def init_leaf_to_index(self, leaf_to_index):\n",
    "        g = None\n",
    "        del g\n",
    "        \n",
    "        if leaf_to_index is not None:\n",
    "            self.leaf_to_index = leaf_to_index\n",
    "        else:\n",
    "            def helper(n, leaves):\n",
    "                if self.g.out_degree(n) == 0:\n",
    "                    leaves.append(n)\n",
    "                for nbr in self.g.neighbors(n):\n",
    "                    helper(nbr, leaves)\n",
    "            leaves = []\n",
    "            helper(self.g.graph['root'], leaves)\n",
    "            self.leaf_to_index = {n: i for i, n in enumerate(leaves)}\n",
    "\n",
    "    def extract(self):\n",
    "        tree = g = R = nbr = nbrs = None\n",
    "        del tree, g, R, nbr, nbrs\n",
    "\n",
    "        data = {x: dict() for x in self.g.nodes()}\n",
    "        \n",
    "        def pass1(node, parent, sibling_offset):\n",
    "            data[node][\"parent\"] = parent\n",
    "            if parent is not None:\n",
    "                siblings = list(self.g.neighbors(parent))\n",
    "            else:\n",
    "                siblings = []\n",
    "            data[node][\"siblings\"] = siblings\n",
    "            data[node][\"sibling_offset\"] = sibling_offset\n",
    "\n",
    "            children = list(self.g.neighbors(node))\n",
    "            for i, child in enumerate(children):\n",
    "                pass1(node = child, parent = node, sibling_offset = i)\n",
    "\n",
    "            if len(children) == 0:\n",
    "                data[node][\"representative\"] = node\n",
    "                data[node][\"is_leaf\"] = True\n",
    "            else:\n",
    "                data[node][\"representative\"] = data[children[0]][\"representative\"]\n",
    "                data[node][\"is_leaf\"] = False\n",
    "\n",
    "        def pass2(node):\n",
    "            for child in self.g.neighbors(node):\n",
    "                pass2(child)\n",
    "            \n",
    "            if data[node][\"parent\"] is not None:\n",
    "                rep = data[node][\"representative\"]\n",
    "                i = self.leaf_to_index[rep]\n",
    "\n",
    "                siblings = data[node][\"siblings\"]\n",
    "                sibling_offset = data[node][\"sibling_offset\"]\n",
    "                next_sib = siblings[(sibling_offset + 1) % len(siblings)]\n",
    "                next_rep = data[next_sib][\"representative\"]\n",
    "                j = self.leaf_to_index[next_rep]\n",
    "\n",
    "                data[node][\"next_sibling\"] = next_sib\n",
    "                data[node][\"rep_leaf_index\"] = i\n",
    "                data[node][\"rep_leaf_index_next_sib\"] = j\n",
    "\n",
    "        def pass3(node):\n",
    "            children = list(self.g.neighbors(node))\n",
    "            \n",
    "            for child in children:\n",
    "                pass3(child)\n",
    "\n",
    "            if len(children) == 0:\n",
    "                # Base case: node is a leaf\n",
    "                data[node][\"f0\"] = 1\n",
    "                data[node][\"f1\"] = 1\n",
    "                return\n",
    "\n",
    "            R_star_sames = []\n",
    "            R_star_nexts = []\n",
    "\n",
    "            for child in children:\n",
    "                if \"f0\" not in data[child]:\n",
    "                    grandchildren = list(self.g.neighbors(child))\n",
    "                    gc_alpha = [data[x][\"alpha\"] for x in grandchildren]\n",
    "                    gc_f0 = [data[x][\"f0\"] for x in grandchildren]\n",
    "                    gc_f1 = [data[x][\"f1\"] for x in grandchildren]\n",
    "                    data[child][\"f0\"] = gc_f1[0] * gc_alpha[0] / sum(gc_alpha)\n",
    "                    data[child][\"f1\"] = gc_f0[0] * (1 + gc_alpha[0]) / (1 + sum(gc_alpha))\n",
    "\n",
    "            for child in children:\n",
    "                next_sib = data[child][\"next_sibling\"]\n",
    "                i = data[child][\"rep_leaf_index\"]\n",
    "                j = data[child][\"rep_leaf_index_next_sib\"]\n",
    "                ia, ja = min(i, j), max(i, j)\n",
    "                R_star_sames.append(self.R[i, i])\n",
    "                R_star_nexts.append(self.R[ia, ja] * data[next_sib][\"f1\"] / data[child][\"f0\"])\n",
    "\n",
    "            alphas = alphas_from_R_lists(R_star_sames, R_star_nexts)\n",
    "\n",
    "            for i, child in enumerate(children):\n",
    "                data[child][\"alpha\"] = alphas[i]\n",
    "            \n",
    "        root = self.g.graph[\"root\"]\n",
    "        pass1(root, parent=None, sibling_offset=None)\n",
    "        pass2(root)\n",
    "        pass3(root)\n",
    "\n",
    "        self.data = data\n",
    "    \n",
    "        alphas = {node: data[node][\"alpha\"] for node in self.g.nodes() if data[node][\"parent\"] is not None}\n",
    "        # return data\n",
    "        return alphas"
   ]
  },
  {
   "cell_type": "code",
   "execution_count": 55,
   "metadata": {},
   "outputs": [
    {
     "data": {
      "image/png": "[encoded data removed]",
      "text/plain": [
       "<Figure size 432x288 with 1 Axes>"
      ]
     },
     "metadata": {},
     "output_type": "display_data"
    }
   ],
   "source": [
    "tree = make_tree([3,3])\n",
    "nice_tree_plot(tree)\n",
    "example_R = compute_combo_tensor_pam(tree)\n",
    "#example_R = Analyzer(tree).R"
   ]
  },
  {
   "cell_type": "code",
   "execution_count": 56,
   "metadata": {},
   "outputs": [
    {
     "data": {
      "text/plain": [
       "{1: 1.0,\n",
       " 2: 1.0,\n",
       " 3: 1.0,\n",
       " 4: 1.0,\n",
       " 5: 1.0,\n",
       " 6: 1.0,\n",
       " 7: 1.0,\n",
       " 8: 1.0,\n",
       " 9: 1.0,\n",
       " 10: 1.0,\n",
       " 11: 1.0,\n",
       " 12: 1.0}"
      ]
     },
     "execution_count": 56,
     "metadata": {},
     "output_type": "execute_result"
    }
   ],
   "source": [
    "ae = AlphaExtract(tree, example_R)\n",
    "ae.extract()"
   ]
  },
  {
   "cell_type": "code",
   "execution_count": 57,
   "metadata": {},
   "outputs": [
    {
     "data": {
      "text/plain": [
       "{1: 1.0, 2: 1.0}"
      ]
     },
     "execution_count": 57,
     "metadata": {},
     "output_type": "execute_result"
    }
   ],
   "source": [
    "R3 = compute_combo_tensor_pam(g3)\n",
    "ae = AlphaExtract(g3, R3)\n",
    "sol_alphas = ae.extract()\n",
    "sol_alphas"
   ]
  },
  {
   "cell_type": "code",
   "execution_count": 58,
   "metadata": {},
   "outputs": [
    {
     "name": "stdout",
     "output_type": "stream",
     "text": [
      "1 alpha = a_0_1 f0 = 1 f1 = 1\n",
      "2 alpha = a_0_2 f0 = (a_2_3 + a_2_4 + 1)/(a_2_3 + 1) f1 = a_2_3/(a_2_3 + a_2_4)\n",
      "3 alpha = a_2_3 f0 = 1 f1 = 1\n",
      "4 alpha = a_2_4 f0 = 1 f1 = 1\n"
     ]
    },
    {
     "data": {
      "image/png": "[encoded data removed]",
      "text/plain": [
       "<Figure size 432x288 with 1 Axes>"
      ]
     },
     "metadata": {},
     "output_type": "display_data"
    }
   ],
   "source": [
    "g = nx.DiGraph([[0,1], [0,2], [2,3], [2,4]])\n",
    "g.graph[\"root\"] = 0\n",
    "nice_tree_plot(g)\n",
    "ae = AlphaExtract(g, Analyzer(g).R)\n",
    "sol_alphas_sym = ae.extract()\n",
    "for k in [1,2,3,4]:\n",
    "    print(k,\n",
    "        \"alpha =\", sp.simplify(sol_alphas_sym[k]),\n",
    "        \"f0 =\", sp.simplify(ae.data[k][\"f0\"]),\n",
    "        \"f1 =\", sp.simplify(ae.data[k][\"f1\"]),\n",
    "    )"
   ]
  },
  {
   "cell_type": "code",
   "execution_count": 59,
   "metadata": {},
   "outputs": [
    {
     "data": {
      "image/png": "[encoded data removed]",
      "text/plain": [
       "<Figure size 432x288 with 1 Axes>"
      ]
     },
     "metadata": {},
     "output_type": "display_data"
    }
   ],
   "source": [
    "tree = nx.DiGraph()\n",
    "tree.graph[\"root\"] = 0\n",
    "tree.add_edges_from([\n",
    "    (0,1),\n",
    "    (0,2),\n",
    "    (0,3),\n",
    "    (0,4),\n",
    "    (2,5),\n",
    "    (2,6),\n",
    "    (3,7),\n",
    "    (3,8),\n",
    "    (3,9),\n",
    "    (4,10),\n",
    "    (4,11),\n",
    "    (4,12),\n",
    "    (4,13)\n",
    "])\n",
    "nice_tree_plot(tree)"
   ]
  },
  {
   "cell_type": "code",
   "execution_count": 60,
   "metadata": {},
   "outputs": [],
   "source": [
    "analyzer = Analyzer(tree)\n",
    "analyzer.setup_equations()"
   ]
  },
  {
   "cell_type": "code",
   "execution_count": 61,
   "metadata": {},
   "outputs": [],
   "source": [
    "from compute_pam import IndividualNodeAlphaCalc"
   ]
  },
  {
   "cell_type": "code",
   "execution_count": 62,
   "metadata": {},
   "outputs": [],
   "source": [
    "np.random.seed(1)\n",
    "alpha_dict_planted = dict()\n",
    "for n in tree.nodes():\n",
    "    if n == 0:\n",
    "        continue\n",
    "    alpha_dict_planted[n] = np.random.uniform(0.5, 1.0)\n",
    "\n",
    "R = compute_combo_tensor_pam(tree, alpha = IndividualNodeAlphaCalc(tree, alpha_dict_planted))"
   ]
  },
  {
   "cell_type": "code",
   "execution_count": 63,
   "metadata": {},
   "outputs": [
    {
     "data": {
      "text/plain": [
       "{1: 0.7085110023512871,\n",
       " 2: 0.860162246721079,\n",
       " 3: 0.5000571874086724,\n",
       " 4: 0.6511662863159199,\n",
       " 5: 0.5733779454085566,\n",
       " 6: 0.5461692973843989,\n",
       " 7: 0.5931301056888354,\n",
       " 8: 0.6727803635215239,\n",
       " 9: 0.698383737115335,\n",
       " 10: 0.7694083670016785,\n",
       " 11: 0.7095972572016473,\n",
       " 12: 0.8426097501983798,\n",
       " 13: 0.6022261248657588}"
      ]
     },
     "execution_count": 63,
     "metadata": {},
     "output_type": "execute_result"
    }
   ],
   "source": [
    "alpha_dict_planted"
   ]
  },
  {
   "cell_type": "code",
   "execution_count": 64,
   "metadata": {},
   "outputs": [
    {
     "data": {
      "image/png": "[encoded data removed]",
      "text/plain": [
       "<Figure size 432x288 with 1 Axes>"
      ]
     },
     "metadata": {},
     "output_type": "display_data"
    }
   ],
   "source": [
    "plt.imshow(R);"
   ]
  },
  {
   "cell_type": "code",
   "execution_count": 65,
   "metadata": {},
   "outputs": [],
   "source": [
    "ae = AlphaExtract(tree, R)\n",
    "sol_alphas = ae.extract()"
   ]
  },
  {
   "cell_type": "code",
   "execution_count": 66,
   "metadata": {},
   "outputs": [
    {
     "data": {
      "text/plain": [
       "{1: 0.7085110023512871,\n",
       " 2: 0.8601622467210789,\n",
       " 3: 0.5000571874086726,\n",
       " 4: 0.6511662863159199,\n",
       " 5: 0.5733779454085564,\n",
       " 6: 0.5461692973843987,\n",
       " 7: 0.5931301056888354,\n",
       " 8: 0.6727803635215241,\n",
       " 9: 0.698383737115335,\n",
       " 10: 0.7694083670016786,\n",
       " 11: 0.7095972572016473,\n",
       " 12: 0.8426097501983799,\n",
       " 13: 0.6022261248657587}"
      ]
     },
     "execution_count": 66,
     "metadata": {},
     "output_type": "execute_result"
    }
   ],
   "source": [
    "sol_alphas"
   ]
  },
  {
   "cell_type": "code",
   "execution_count": 67,
   "metadata": {},
   "outputs": [
    {
     "data": {
      "text/plain": [
       "{1: 0.0,\n",
       " 2: 0.0,\n",
       " 3: 0.0,\n",
       " 4: 0.0,\n",
       " 5: 0.0,\n",
       " 6: 0.0,\n",
       " 7: 0.0,\n",
       " 8: 0.0,\n",
       " 9: 0.0,\n",
       " 10: 0.0,\n",
       " 11: 0.0,\n",
       " 12: 0.0,\n",
       " 13: 0.0}"
      ]
     },
     "execution_count": 67,
     "metadata": {},
     "output_type": "execute_result"
    }
   ],
   "source": [
    "discrep = {k: np.around(np.abs(sol_alphas[k] - alpha_dict_planted[k]), decimals=10) for k in sol_alphas}\n",
    "discrep"
   ]
  },
  {
   "cell_type": "markdown",
   "metadata": {},
   "source": [
    "## Alternate method: extract alphas by minimizing discrepancy"
   ]
  },
  {
   "cell_type": "code",
   "execution_count": 68,
   "metadata": {},
   "outputs": [],
   "source": [
    "from scipy.optimize import minimize"
   ]
  },
  {
   "cell_type": "code",
   "execution_count": 69,
   "metadata": {},
   "outputs": [],
   "source": [
    "def alpha_min_discrep(tree, R, x0 = None):\n",
    "    root = tree.graph[\"root\"]\n",
    "    node_ordering = [x for x in tree.nodes() if x != root]\n",
    "    def array_to_dict(x):\n",
    "        return {n: x[i] for i, n in enumerate(node_ordering)}\n",
    "    def dict_to_array(x):\n",
    "        return np.array([x[n] for n in node_ordering])\n",
    "    def f(x):\n",
    "        alpha_dict = array_to_dict(x)\n",
    "        R_est = compute_combo_tensor_pam(tree, alpha = IndividualNodeAlphaCalc(tree, alpha_dict))\n",
    "        return np.linalg.norm(R_est - R, ord=2)\n",
    "    if x0 is None:\n",
    "        x0 = np.ones(len(node_ordering))\n",
    "    elif isinstance(x0, dict):\n",
    "        x0 = dict_to_array(x0)\n",
    "    result = minimize(f, x0 = x0)\n",
    "    min_val = result[\"fun\"]\n",
    "    print(\"DEBUG: min_val = {}\".format(min_val))\n",
    "    min_x = result[\"x\"]\n",
    "    return array_to_dict(min_x)"
   ]
  },
  {
   "cell_type": "code",
   "execution_count": 70,
   "metadata": {},
   "outputs": [
    {
     "name": "stdout",
     "output_type": "stream",
     "text": [
      "DEBUG: min_val = 0.0011671068374065042\n"
     ]
    },
    {
     "data": {
      "text/plain": [
       "{1: 0.7029694287428783,\n",
       " 2: 0.8506203557460359,\n",
       " 3: 0.48728687409719335,\n",
       " 4: 0.6527770646663785,\n",
       " 5: 0.5626531654336598,\n",
       " 6: 0.5411882075185683,\n",
       " 7: 0.7113022081962058,\n",
       " 8: 0.7973456064817872,\n",
       " 9: 0.8292759622309654,\n",
       " 10: 0.9917375164830468,\n",
       " 11: 0.9089990405823174,\n",
       " 12: 1.0808814007815748,\n",
       " 13: 0.7614028514322713}"
      ]
     },
     "execution_count": 70,
     "metadata": {},
     "output_type": "execute_result"
    }
   ],
   "source": [
    "alpha_min_discrep(tree, R)"
   ]
  },
  {
   "cell_type": "code",
   "execution_count": 71,
   "metadata": {},
   "outputs": [
    {
     "name": "stdout",
     "output_type": "stream",
     "text": [
      "DEBUG: min_val = 0.0\n"
     ]
    },
    {
     "data": {
      "text/plain": [
       "{1: 0.7085110023512871,\n",
       " 2: 0.860162246721079,\n",
       " 3: 0.5000571874086724,\n",
       " 4: 0.6511662863159199,\n",
       " 5: 0.5733779454085566,\n",
       " 6: 0.5461692973843989,\n",
       " 7: 0.5931301056888354,\n",
       " 8: 0.6727803635215239,\n",
       " 9: 0.698383737115335,\n",
       " 10: 0.7694083670016785,\n",
       " 11: 0.7095972572016473,\n",
       " 12: 0.8426097501983798,\n",
       " 13: 0.6022261248657588}"
      ]
     },
     "execution_count": 71,
     "metadata": {},
     "output_type": "execute_result"
    }
   ],
   "source": [
    "# \"cheating\" by starting at the correct answer\n",
    "alpha_min_discrep(tree, R, x0 = alpha_dict_planted)"
   ]
  },
  {
   "cell_type": "code",
   "execution_count": null,
   "metadata": {},
   "outputs": [],
   "source": []
  }
 ],
 "metadata": {
  "kernelspec": {
   "display_name": "Python 3",
   "language": "python",
   "name": "python3"
  },
  "language_info": {
   "codemirror_mode": {
    "name": "ipython",
    "version": 3
   },
   "file_extension": ".py",
   "mimetype": "text/x-python",
   "name": "python",
   "nbconvert_exporter": "python",
   "pygments_lexer": "ipython3",
   "version": "3.6.5"
  }
 },
 "nbformat": 4,
 "nbformat_minor": 2
}
