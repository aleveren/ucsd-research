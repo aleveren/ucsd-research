{
 "cells": [
  {
   "cell_type": "code",
   "execution_count": 1,
   "metadata": {},
   "outputs": [],
   "source": [
    "import numpy as np\n",
    "import matplotlib.pyplot as plt\n",
    "import networkx as nx\n",
    "import sympy as sp"
   ]
  },
  {
   "cell_type": "code",
   "execution_count": 2,
   "metadata": {},
   "outputs": [],
   "source": [
    "from IPython.display import Math, display"
   ]
  },
  {
   "cell_type": "code",
   "execution_count": 3,
   "metadata": {},
   "outputs": [],
   "source": [
    "from compute_pam import compute_combo_tensor_pam, AlphaCalc\n",
    "from example_graphs import make_tree\n",
    "from utils import nice_tree_plot"
   ]
  },
  {
   "cell_type": "code",
   "execution_count": 4,
   "metadata": {},
   "outputs": [],
   "source": [
    "def show_math(x):\n",
    "    display(Math(sp.latex(x)))"
   ]
  },
  {
   "cell_type": "code",
   "execution_count": 5,
   "metadata": {},
   "outputs": [],
   "source": [
    "g = make_tree([3,3])"
   ]
  },
  {
   "cell_type": "code",
   "execution_count": 6,
   "metadata": {},
   "outputs": [
    {
     "data": {
      "image/png": "[encoded data removed]",
      "text/plain": [
       "<Figure size 432x288 with 1 Axes>"
      ]
     },
     "metadata": {},
     "output_type": "display_data"
    }
   ],
   "source": [
    "nice_tree_plot(g)"
   ]
  },
  {
   "cell_type": "code",
   "execution_count": 7,
   "metadata": {},
   "outputs": [
    {
     "data": {
      "text/plain": [
       "{0: array([a_0_1, a_0_2, a_0_3], dtype=object),\n",
       " 1: array([a_1_4, a_1_5, a_1_6], dtype=object),\n",
       " 2: array([a_2_7, a_2_8, a_2_9], dtype=object),\n",
       " 3: array([a_3_10, a_3_11, a_3_12], dtype=object)}"
      ]
     },
     "execution_count": 7,
     "metadata": {},
     "output_type": "execute_result"
    }
   ],
   "source": [
    "alpha_dict = dict()\n",
    "for n in g.nodes():\n",
    "    if g.out_degree(n) > 0:\n",
    "        nbrs = list(g.neighbors(n))\n",
    "        alpha_dict[n] = np.array([sp.symbols('a_{}_{}'.format(n, x)) for x in nbrs], dtype='object')\n",
    "alpha = AlphaCalc.create(alpha_dict)\n",
    "alpha.values"
   ]
  },
  {
   "cell_type": "code",
   "execution_count": 8,
   "metadata": {},
   "outputs": [
    {
     "data": {
      "text/plain": [
       "(9, 9)"
      ]
     },
     "execution_count": 8,
     "metadata": {},
     "output_type": "execute_result"
    }
   ],
   "source": [
    "R, leaf_paths = compute_combo_tensor_pam(g, alpha=alpha, ndarray_kwargs={\"dtype\": \"object\"}, return_leaf_paths=True)\n",
    "R.shape"
   ]
  },
  {
   "cell_type": "code",
   "execution_count": 9,
   "metadata": {},
   "outputs": [
    {
     "data": {
      "text/plain": [
       "{4: 0, 5: 1, 6: 2, 7: 3, 8: 4, 9: 5, 10: 6, 11: 7, 12: 8}"
      ]
     },
     "execution_count": 9,
     "metadata": {},
     "output_type": "execute_result"
    }
   ],
   "source": [
    "leaf_to_index = {p[-1]: i for i, p in enumerate(leaf_paths)}\n",
    "leaf_to_index"
   ]
  },
  {
   "cell_type": "code",
   "execution_count": 10,
   "metadata": {},
   "outputs": [],
   "source": [
    "def R_leaf(L1, L2, R, leaf_to_index):\n",
    "    i1 = leaf_to_index[L1]\n",
    "    i2 = leaf_to_index[L2]\n",
    "    return R[i1, i2]"
   ]
  },
  {
   "cell_type": "code",
   "execution_count": 11,
   "metadata": {},
   "outputs": [],
   "source": [
    "def RL(L1, L2):\n",
    "    global leaf_to_index, R\n",
    "    return R_leaf(L1, L2, R, leaf_to_index)"
   ]
  },
  {
   "cell_type": "code",
   "execution_count": 12,
   "metadata": {},
   "outputs": [
    {
     "data": {
      "text/latex": [
       "$$\\frac{a_{1 4} \\left(a_{1 4} + 1\\right)}{a_{1 5} \\left(a_{1 5} + 1\\right)}$$"
      ],
      "text/plain": [
       "<IPython.core.display.Math object>"
      ]
     },
     "metadata": {},
     "output_type": "display_data"
    }
   ],
   "source": [
    "show_math(RL(4,4)/RL(5,5))"
   ]
  },
  {
   "cell_type": "code",
   "execution_count": 13,
   "metadata": {
    "scrolled": false
   },
   "outputs": [
    {
     "data": {
      "text/latex": [
       "$$\\frac{a_{0 1} a_{1 4} a_{1 5} \\left(a_{0 1} + 1\\right)}{\\left(a_{0 1} + a_{0 2} + a_{0 3}\\right) \\left(a_{1 4} + a_{1 5} + a_{1 6}\\right) \\left(a_{0 1} + a_{0 2} + a_{0 3} + 1\\right) \\left(a_{1 4} + a_{1 5} + a_{1 6} + 1\\right)}$$"
      ],
      "text/plain": [
       "<IPython.core.display.Math object>"
      ]
     },
     "metadata": {},
     "output_type": "display_data"
    }
   ],
   "source": [
    "show_math(RL(4,5))"
   ]
  },
  {
   "cell_type": "code",
   "execution_count": 14,
   "metadata": {},
   "outputs": [
    {
     "data": {
      "text/latex": [
       "$$\\frac{a_{0 1} a_{1 4} \\left(a_{0 1} + 1\\right) \\left(a_{1 4} + 1\\right)}{\\left(a_{0 1} + a_{0 2} + a_{0 3}\\right) \\left(a_{1 4} + a_{1 5} + a_{1 6}\\right) \\left(a_{0 1} + a_{0 2} + a_{0 3} + 1\\right) \\left(a_{1 4} + a_{1 5} + a_{1 6} + 1\\right)}$$"
      ],
      "text/plain": [
       "<IPython.core.display.Math object>"
      ]
     },
     "metadata": {},
     "output_type": "display_data"
    }
   ],
   "source": [
    "show_math(RL(4,4))"
   ]
  },
  {
   "cell_type": "code",
   "execution_count": 15,
   "metadata": {},
   "outputs": [
    {
     "data": {
      "text/latex": [
       "$$\\left [ \\frac{a_{0 1} a_{1 4}}{\\left(a_{0 1} + a_{0 2} + a_{0 3}\\right) \\left(a_{1 4} + a_{1 5} + a_{1 6}\\right)}, \\quad \\frac{a_{0 1} a_{1 5}}{\\left(a_{0 1} + a_{0 2} + a_{0 3}\\right) \\left(a_{1 4} + a_{1 5} + a_{1 6}\\right)}, \\quad \\frac{a_{0 1} a_{1 6}}{\\left(a_{0 1} + a_{0 2} + a_{0 3}\\right) \\left(a_{1 4} + a_{1 5} + a_{1 6}\\right)}, \\quad \\frac{a_{0 2} a_{2 7}}{\\left(a_{0 1} + a_{0 2} + a_{0 3}\\right) \\left(a_{2 7} + a_{2 8} + a_{2 9}\\right)}, \\quad \\frac{a_{0 2} a_{2 8}}{\\left(a_{0 1} + a_{0 2} + a_{0 3}\\right) \\left(a_{2 7} + a_{2 8} + a_{2 9}\\right)}, \\quad \\frac{a_{0 2} a_{2 9}}{\\left(a_{0 1} + a_{0 2} + a_{0 3}\\right) \\left(a_{2 7} + a_{2 8} + a_{2 9}\\right)}, \\quad \\frac{a_{0 3} a_{3 10}}{\\left(a_{0 1} + a_{0 2} + a_{0 3}\\right) \\left(a_{3 10} + a_{3 11} + a_{3 12}\\right)}, \\quad \\frac{a_{0 3} a_{3 11}}{\\left(a_{0 1} + a_{0 2} + a_{0 3}\\right) \\left(a_{3 10} + a_{3 11} + a_{3 12}\\right)}, \\quad \\frac{a_{0 3} a_{3 12}}{\\left(a_{0 1} + a_{0 2} + a_{0 3}\\right) \\left(a_{3 10} + a_{3 11} + a_{3 12}\\right)}\\right ]$$"
      ],
      "text/plain": [
       "<IPython.core.display.Math object>"
      ]
     },
     "metadata": {},
     "output_type": "display_data"
    }
   ],
   "source": [
    "sums = [x.simplify() for x in np.sum(R, axis=0)]\n",
    "show_math(sums)"
   ]
  },
  {
   "cell_type": "code",
   "execution_count": 16,
   "metadata": {},
   "outputs": [
    {
     "data": {
      "text/plain": [
       "1"
      ]
     },
     "execution_count": 16,
     "metadata": {},
     "output_type": "execute_result"
    }
   ],
   "source": [
    "np.sum(sums).simplify()"
   ]
  },
  {
   "cell_type": "code",
   "execution_count": 17,
   "metadata": {},
   "outputs": [
    {
     "data": {
      "text/latex": [
       "$$\\frac{a_{1 5}}{a_{1 4} + 1}$$"
      ],
      "text/plain": [
       "<IPython.core.display.Math object>"
      ]
     },
     "metadata": {},
     "output_type": "display_data"
    }
   ],
   "source": [
    "show_math((RL(4,5) / RL(4,4)).simplify())"
   ]
  },
  {
   "cell_type": "code",
   "execution_count": 18,
   "metadata": {},
   "outputs": [
    {
     "data": {
      "text/latex": [
       "$$\\frac{a_{1 4}}{a_{1 5} + 1}$$"
      ],
      "text/plain": [
       "<IPython.core.display.Math object>"
      ]
     },
     "metadata": {},
     "output_type": "display_data"
    }
   ],
   "source": [
    "show_math((RL(4,5) / RL(5,5)).simplify())"
   ]
  },
  {
   "cell_type": "code",
   "execution_count": 19,
   "metadata": {},
   "outputs": [
    {
     "data": {
      "text/latex": [
       "$$\\frac{a_{1 4}}{a_{1 6} + 1}$$"
      ],
      "text/plain": [
       "<IPython.core.display.Math object>"
      ]
     },
     "metadata": {},
     "output_type": "display_data"
    }
   ],
   "source": [
    "show_math((RL(4,6) / RL(6,6)).simplify())"
   ]
  },
  {
   "cell_type": "code",
   "execution_count": 20,
   "metadata": {},
   "outputs": [
    {
     "data": {
      "text/latex": [
       "$$\\frac{a_{1 6}}{a_{1 4} + 1}$$"
      ],
      "text/plain": [
       "<IPython.core.display.Math object>"
      ]
     },
     "metadata": {},
     "output_type": "display_data"
    }
   ],
   "source": [
    "show_math((RL(4,6) / RL(4,4)).simplify())"
   ]
  },
  {
   "cell_type": "code",
   "execution_count": 21,
   "metadata": {},
   "outputs": [],
   "source": [
    "def Ra(a,b):\n",
    "    return sp.Symbol(\"R_{}_{}\".format(a,b))"
   ]
  },
  {
   "cell_type": "code",
   "execution_count": 22,
   "metadata": {},
   "outputs": [
    {
     "data": {
      "text/latex": [
       "$$\\frac{a_{1 6}}{a_{1 4} + 1} = \\frac{R_{4 6}}{R_{4 4}}$$"
      ],
      "text/plain": [
       "<IPython.core.display.Math object>"
      ]
     },
     "metadata": {},
     "output_type": "display_data"
    }
   ],
   "source": [
    "show_math(sp.Eq(\n",
    "    (RL(4,6) / RL(4,4)).simplify(),\n",
    "    Ra(4,6) / Ra(4,4)\n",
    "))"
   ]
  },
  {
   "cell_type": "code",
   "execution_count": 23,
   "metadata": {},
   "outputs": [],
   "source": [
    "eqs = []\n",
    "for cluster in [[4,5,6], [7,8,9], [10,11,12]]:\n",
    "    for n in cluster:\n",
    "        for m in cluster:\n",
    "            if m <= n:\n",
    "                continue\n",
    "            eqs.append(sp.Eq(\n",
    "                (RL(m,n) / RL(m,m)).simplify(),\n",
    "                Ra(m,n) / Ra(m,m)\n",
    "            ))"
   ]
  },
  {
   "cell_type": "code",
   "execution_count": 24,
   "metadata": {},
   "outputs": [
    {
     "data": {
      "text/latex": [
       "$$\\left [ \\frac{a_{1 4}}{a_{1 5} + 1} = \\frac{R_{5 4}}{R_{5 5}}, \\quad \\frac{a_{1 4}}{a_{1 6} + 1} = \\frac{R_{6 4}}{R_{6 6}}, \\quad \\frac{a_{1 5}}{a_{1 6} + 1} = \\frac{R_{6 5}}{R_{6 6}}, \\quad \\frac{a_{2 7}}{a_{2 8} + 1} = \\frac{R_{8 7}}{R_{8 8}}, \\quad \\frac{a_{2 7}}{a_{2 9} + 1} = \\frac{R_{9 7}}{R_{9 9}}, \\quad \\frac{a_{2 8}}{a_{2 9} + 1} = \\frac{R_{9 8}}{R_{9 9}}, \\quad \\frac{a_{3 10}}{a_{3 11} + 1} = \\frac{R_{11 10}}{R_{11 11}}, \\quad \\frac{a_{3 10}}{a_{3 12} + 1} = \\frac{R_{12 10}}{R_{12 12}}, \\quad \\frac{a_{3 11}}{a_{3 12} + 1} = \\frac{R_{12 11}}{R_{12 12}}\\right ]$$"
      ],
      "text/plain": [
       "<IPython.core.display.Math object>"
      ]
     },
     "metadata": {},
     "output_type": "display_data"
    }
   ],
   "source": [
    "show_math(eqs)"
   ]
  },
  {
   "cell_type": "code",
   "execution_count": 25,
   "metadata": {},
   "outputs": [
    {
     "data": {
      "text/latex": [
       "$$\\left \\{ a_{1 4} : - \\frac{R_{5 4} R_{6 4}}{R_{5 4} R_{6 5} - R_{5 5} R_{6 4}}, \\quad a_{1 5} : - \\frac{R_{5 4} R_{6 5}}{R_{5 4} R_{6 5} - R_{5 5} R_{6 4}}, \\quad a_{1 6} : \\frac{- R_{5 4} R_{6 5} - R_{5 4} R_{6 6} + R_{5 5} R_{6 4}}{R_{5 4} R_{6 5} - R_{5 5} R_{6 4}}, \\quad a_{2 7} : - \\frac{R_{8 7} R_{9 7}}{R_{8 7} R_{9 8} - R_{8 8} R_{9 7}}, \\quad a_{2 8} : - \\frac{R_{8 7} R_{9 8}}{R_{8 7} R_{9 8} - R_{8 8} R_{9 7}}, \\quad a_{2 9} : \\frac{- R_{8 7} R_{9 8} - R_{8 7} R_{9 9} + R_{8 8} R_{9 7}}{R_{8 7} R_{9 8} - R_{8 8} R_{9 7}}, \\quad a_{3 10} : - \\frac{R_{11 10} R_{12 10}}{R_{11 10} R_{12 11} - R_{11 11} R_{12 10}}, \\quad a_{3 11} : - \\frac{R_{11 10} R_{12 11}}{R_{11 10} R_{12 11} - R_{11 11} R_{12 10}}, \\quad a_{3 12} : \\frac{- R_{11 10} R_{12 11} - R_{11 10} R_{12 12} + R_{11 11} R_{12 10}}{R_{11 10} R_{12 11} - R_{11 11} R_{12 10}}\\right \\}$$"
      ],
      "text/plain": [
       "<IPython.core.display.Math object>"
      ]
     },
     "metadata": {},
     "output_type": "display_data"
    }
   ],
   "source": [
    "show_math(sp.solve(eqs, sp.symbols(\"a_1_4, a_1_5, a_1_6, a_2_7, a_2_8, a_2_9, a_3_10, a_3_11, a_3_12\")))"
   ]
  },
  {
   "cell_type": "code",
   "execution_count": 26,
   "metadata": {},
   "outputs": [],
   "source": [
    "def cross_multiply(eqn):\n",
    "    lhs, rhs = eqn.args\n",
    "    lnumer, ldenom = sp.fraction(lhs)\n",
    "    rnumer, rdenom = sp.fraction(rhs)\n",
    "    lhs = lnumer * rdenom\n",
    "    rhs = rnumer * ldenom\n",
    "    return sp.Eq(lhs, rhs)"
   ]
  },
  {
   "cell_type": "code",
   "execution_count": 27,
   "metadata": {},
   "outputs": [],
   "source": [
    "class Analyzer(object):\n",
    "    '''grouping some functions so it's easier to have multiple analyses in the same notebook'''\n",
    "    def __init__(self, g):\n",
    "        self.g = g\n",
    "\n",
    "        alpha_dict = dict()\n",
    "        for n in self.g.nodes():\n",
    "            if self.g.out_degree(n) > 0:\n",
    "                nbrs = list(self.g.neighbors(n))\n",
    "                alpha_dict[n] = np.array([sp.symbols('a_{}_{}'.format(n, x)) for x in nbrs], dtype='object')\n",
    "        self.alpha = AlphaCalc.create(alpha_dict)\n",
    "\n",
    "        self.R, self.leaf_paths = compute_combo_tensor_pam(\n",
    "            self.g, alpha=self.alpha, ndarray_kwargs={\"dtype\": \"object\"}, return_leaf_paths=True)\n",
    "\n",
    "        self.leaf_to_index = {p[-1]: i for i, p in enumerate(self.leaf_paths)}\n",
    "        \n",
    "    def RL(self, L1, L2):\n",
    "        return R_leaf(L1, L2, self.R, self.leaf_to_index)\n",
    "    \n",
    "    def get_first_leaf(self, n):\n",
    "        nbrs = list(self.g.neighbors(n))\n",
    "        if len(nbrs) == 0:\n",
    "            return n\n",
    "        else:\n",
    "            return self.get_first_leaf(nbrs[0])\n",
    "                \n",
    "    def solve(self):\n",
    "        clusters = dict()\n",
    "        for n in self.g.nodes():\n",
    "            if self.g.out_degree(n) > 0:\n",
    "                curr_cluster = []\n",
    "                for m in self.g.neighbors(n):\n",
    "                    curr_cluster.append(m)\n",
    "                clusters[n] = curr_cluster\n",
    "\n",
    "        eqs_by_cluster = dict()\n",
    "        vars_by_cluster = dict()\n",
    "        soln_by_cluster = dict()\n",
    "        for parent, cluster in clusters.items():\n",
    "            print(\"Solving for cluster with parent = {}\".format(parent))\n",
    "            csize = len(cluster)\n",
    "            eqs = []\n",
    "            if csize == 1:\n",
    "                a = sp.Symbol(\"a_{}_{}\".format(parent, cluster[0]))\n",
    "                eqs = [sp.Eq(a, 1)]\n",
    "            elif csize == 2:\n",
    "                m = self.get_first_leaf(cluster[0])\n",
    "                n = self.get_first_leaf(cluster[1])\n",
    "                eqs = [\n",
    "                    cross_multiply(sp.Eq(\n",
    "                        (self.RL(m,n) / self.RL(m,m)).simplify(),\n",
    "                        Ra(m,n) / Ra(m,m)\n",
    "                    )),\n",
    "                    cross_multiply(sp.Eq(\n",
    "                        (self.RL(m,n) / self.RL(n,n)).simplify(),\n",
    "                        Ra(m,n) / Ra(n,n)\n",
    "                    )),\n",
    "                ]\n",
    "            else:\n",
    "                for i in range(csize):\n",
    "                    m = self.get_first_leaf(cluster[i])\n",
    "                    n = self.get_first_leaf(cluster[(i + 1) % csize])\n",
    "                    eqs.append(cross_multiply(sp.Eq(\n",
    "                        (self.RL(m,n) / self.RL(m,m)).simplify(),\n",
    "                        Ra(m,n) / Ra(m,m)\n",
    "                    )))\n",
    "            eqs_by_cluster[parent] = eqs\n",
    "            v = [sp.symbols(\"a_{}_{}\".format(parent, n)) for n in cluster]\n",
    "            vars_by_cluster[parent] = v\n",
    "            soln_by_cluster[parent] = sp.solve(eqs, v)\n",
    "        \n",
    "        self.eqs_by_cluster = eqs_by_cluster\n",
    "        self.vars_by_cluster = vars_by_cluster\n",
    "        self.soln_by_cluster = soln_by_cluster"
   ]
  },
  {
   "cell_type": "code",
   "execution_count": 28,
   "metadata": {},
   "outputs": [],
   "source": [
    "g2 = make_tree([2,4])"
   ]
  },
  {
   "cell_type": "code",
   "execution_count": 29,
   "metadata": {},
   "outputs": [
    {
     "data": {
      "image/png": "[encoded data removed]",
      "text/plain": [
       "<Figure size 432x288 with 1 Axes>"
      ]
     },
     "metadata": {},
     "output_type": "display_data"
    }
   ],
   "source": [
    "nice_tree_plot(g2)"
   ]
  },
  {
   "cell_type": "code",
   "execution_count": 30,
   "metadata": {},
   "outputs": [],
   "source": [
    "analyzer = Analyzer(g2)"
   ]
  },
  {
   "cell_type": "code",
   "execution_count": 31,
   "metadata": {},
   "outputs": [
    {
     "data": {
      "text/latex": [
       "$$\\frac{\\left(a_{0 1} + 1\\right) \\left(a_{1 3} + 1\\right) \\left(a_{2 10} + a_{2 7} + a_{2 8} + a_{2 9}\\right)}{a_{0 2} a_{2 7} \\left(a_{1 3} + a_{1 4} + a_{1 5} + a_{1 6} + 1\\right)}$$"
      ],
      "text/plain": [
       "<IPython.core.display.Math object>"
      ]
     },
     "metadata": {},
     "output_type": "display_data"
    }
   ],
   "source": [
    "show_math(analyzer.RL(3,3) / analyzer.RL(3,7))"
   ]
  },
  {
   "cell_type": "code",
   "execution_count": 32,
   "metadata": {},
   "outputs": [
    {
     "data": {
      "text/latex": [
       "$$\\frac{a_{1 3} + 1}{a_{1 4}}$$"
      ],
      "text/plain": [
       "<IPython.core.display.Math object>"
      ]
     },
     "metadata": {},
     "output_type": "display_data"
    }
   ],
   "source": [
    "show_math(analyzer.RL(3,3) / analyzer.RL(3,4))"
   ]
  },
  {
   "cell_type": "code",
   "execution_count": 33,
   "metadata": {},
   "outputs": [
    {
     "name": "stdout",
     "output_type": "stream",
     "text": [
      "Solving for cluster with parent = 0\n",
      "Solving for cluster with parent = 1\n",
      "Solving for cluster with parent = 2\n"
     ]
    },
    {
     "data": {
      "text/latex": [
       "$$\\left \\{ 0 : \\left \\{ a_{0 1} : \\frac{R_{3 7} \\left(R_{3 3} a_{2 7} \\left(a_{1 3} + a_{1 4} + a_{1 5} + a_{1 6} + 1\\right) + R_{3 7} \\left(a_{1 3} a_{2 10} + a_{1 3} a_{2 7} + a_{1 3} a_{2 8} + a_{1 3} a_{2 9} + a_{2 10} + a_{2 7} + a_{2 8} + a_{2 9}\\right)\\right) \\left(a_{1 3} a_{2 7} + a_{1 3} + a_{1 4} a_{2 7} + a_{1 4} + a_{1 5} a_{2 7} + a_{1 5} + a_{1 6} a_{2 7} + a_{1 6}\\right)}{R_{3 3} R_{7 7} a_{1 3} a_{2 7} \\left(a_{1 3} + a_{1 4} + a_{1 5} + a_{1 6} + 1\\right) \\left(a_{2 10} + a_{2 7} + a_{2 8} + a_{2 9} + 1\\right) - R_{3 7}^{2} \\left(a_{1 3} a_{2 10} + a_{1 3} a_{2 7} + a_{1 3} a_{2 8} + a_{1 3} a_{2 9} + a_{2 10} + a_{2 7} + a_{2 8} + a_{2 9}\\right) \\left(a_{1 3} a_{2 7} + a_{1 3} + a_{1 4} a_{2 7} + a_{1 4} + a_{1 5} a_{2 7} + a_{1 5} + a_{1 6} a_{2 7} + a_{1 6}\\right)}, \\quad a_{0 2} : \\frac{R_{3 7} \\left(R_{3 7} \\left(a_{1 3} a_{2 7} + a_{1 3} + a_{1 4} a_{2 7} + a_{1 4} + a_{1 5} a_{2 7} + a_{1 5} + a_{1 6} a_{2 7} + a_{1 6}\\right) + R_{7 7} a_{1 3} \\left(a_{2 10} + a_{2 7} + a_{2 8} + a_{2 9} + 1\\right)\\right) \\left(a_{1 3} a_{2 10} + a_{1 3} a_{2 7} + a_{1 3} a_{2 8} + a_{1 3} a_{2 9} + a_{2 10} + a_{2 7} + a_{2 8} + a_{2 9}\\right)}{R_{3 3} R_{7 7} a_{1 3} a_{2 7} \\left(a_{1 3} + a_{1 4} + a_{1 5} + a_{1 6} + 1\\right) \\left(a_{2 10} + a_{2 7} + a_{2 8} + a_{2 9} + 1\\right) - R_{3 7}^{2} \\left(a_{1 3} a_{2 10} + a_{1 3} a_{2 7} + a_{1 3} a_{2 8} + a_{1 3} a_{2 9} + a_{2 10} + a_{2 7} + a_{2 8} + a_{2 9}\\right) \\left(a_{1 3} a_{2 7} + a_{1 3} + a_{1 4} a_{2 7} + a_{1 4} + a_{1 5} a_{2 7} + a_{1 5} + a_{1 6} a_{2 7} + a_{1 6}\\right)}\\right \\}, \\quad 1 : \\left \\{ a_{1 3} : \\frac{R_{6 3} \\left(R_{3 3} R_{4 4} R_{5 5} + R_{3 3} R_{4 4} R_{5 6} + R_{3 3} R_{4 5} R_{5 6} + R_{3 4} R_{4 5} R_{5 6}\\right)}{R_{3 3} R_{4 4} R_{5 5} R_{6 6} - R_{3 4} R_{4 5} R_{5 6} R_{6 3}}, \\quad a_{1 4} : \\frac{R_{3 4} \\left(R_{4 4} R_{5 5} R_{6 3} + R_{4 4} R_{5 5} R_{6 6} + R_{4 4} R_{5 6} R_{6 3} + R_{4 5} R_{5 6} R_{6 3}\\right)}{R_{3 3} R_{4 4} R_{5 5} R_{6 6} - R_{3 4} R_{4 5} R_{5 6} R_{6 3}}, \\quad a_{1 5} : \\frac{R_{4 5} \\left(R_{3 3} R_{5 5} R_{6 6} + R_{3 4} R_{5 5} R_{6 3} + R_{3 4} R_{5 5} R_{6 6} + R_{3 4} R_{5 6} R_{6 3}\\right)}{R_{3 3} R_{4 4} R_{5 5} R_{6 6} - R_{3 4} R_{4 5} R_{5 6} R_{6 3}}, \\quad a_{1 6} : \\frac{R_{5 6} \\left(R_{3 3} R_{4 4} R_{6 6} + R_{3 3} R_{4 5} R_{6 6} + R_{3 4} R_{4 5} R_{6 3} + R_{3 4} R_{4 5} R_{6 6}\\right)}{R_{3 3} R_{4 4} R_{5 5} R_{6 6} - R_{3 4} R_{4 5} R_{5 6} R_{6 3}}\\right \\}, \\quad 2 : \\left \\{ a_{2 10} : \\frac{R_{9 10} \\left(R_{10 10} R_{7 7} R_{8 8} + R_{10 10} R_{7 7} R_{8 9} + R_{10 10} R_{7 8} R_{8 9} + R_{10 7} R_{7 8} R_{8 9}\\right)}{R_{10 10} R_{7 7} R_{8 8} R_{9 9} - R_{10 7} R_{7 8} R_{8 9} R_{9 10}}, \\quad a_{2 7} : \\frac{R_{10 7} \\left(R_{7 7} R_{8 8} R_{9 10} + R_{7 7} R_{8 8} R_{9 9} + R_{7 7} R_{8 9} R_{9 10} + R_{7 8} R_{8 9} R_{9 10}\\right)}{R_{10 10} R_{7 7} R_{8 8} R_{9 9} - R_{10 7} R_{7 8} R_{8 9} R_{9 10}}, \\quad a_{2 8} : \\frac{R_{7 8} \\left(R_{10 10} R_{8 8} R_{9 9} + R_{10 7} R_{8 8} R_{9 10} + R_{10 7} R_{8 8} R_{9 9} + R_{10 7} R_{8 9} R_{9 10}\\right)}{R_{10 10} R_{7 7} R_{8 8} R_{9 9} - R_{10 7} R_{7 8} R_{8 9} R_{9 10}}, \\quad a_{2 9} : \\frac{R_{8 9} \\left(R_{10 10} R_{7 7} R_{9 9} + R_{10 10} R_{7 8} R_{9 9} + R_{10 7} R_{7 8} R_{9 10} + R_{10 7} R_{7 8} R_{9 9}\\right)}{R_{10 10} R_{7 7} R_{8 8} R_{9 9} - R_{10 7} R_{7 8} R_{8 9} R_{9 10}}\\right \\}\\right \\}$$"
      ],
      "text/plain": [
       "<IPython.core.display.Math object>"
      ]
     },
     "metadata": {},
     "output_type": "display_data"
    }
   ],
   "source": [
    "analyzer.solve()\n",
    "show_math(analyzer.soln_by_cluster)"
   ]
  },
  {
   "cell_type": "code",
   "execution_count": 34,
   "metadata": {},
   "outputs": [
    {
     "data": {
      "text/plain": [
       "R_3_3*a_0_2*a_2_7*(a_1_3 + a_1_4 + a_1_5 + a_1_6 + 1)"
      ]
     },
     "execution_count": 34,
     "metadata": {},
     "output_type": "execute_result"
    }
   ],
   "source": [
    "e = analyzer.eqs_by_cluster[0][0].args[0]\n",
    "e"
   ]
  },
  {
   "cell_type": "code",
   "execution_count": 35,
   "metadata": {},
   "outputs": [
    {
     "data": {
      "text/plain": [
       "\"Mul(Symbol('R_3_3'), Symbol('a_0_2'), Symbol('a_2_7'), Add(Symbol('a_1_3'), Symbol('a_1_4'), Symbol('a_1_5'), Symbol('a_1_6'), Integer(1)))\""
      ]
     },
     "execution_count": 35,
     "metadata": {},
     "output_type": "execute_result"
    }
   ],
   "source": [
    "sp.srepr(e)"
   ]
  },
  {
   "cell_type": "code",
   "execution_count": 36,
   "metadata": {},
   "outputs": [],
   "source": [
    "def pprint(e):\n",
    "    if hasattr(e, \"args\") and e.args:\n",
    "        nodes = [pprint(x) for x in e.args]\n",
    "        return e.__class__.__name__ + \"\\n\" + sp.printing.tree.pprint_nodes(nodes)\n",
    "    else:\n",
    "        return \" \" + str(e)"
   ]
  },
  {
   "cell_type": "code",
   "execution_count": 37,
   "metadata": {},
   "outputs": [
    {
     "name": "stdout",
     "output_type": "stream",
     "text": [
      "Mul\n",
      "+- R_3_3\n",
      "+- a_0_2\n",
      "+- a_2_7\n",
      "+-Add\n",
      "  +- 1\n",
      "  +- a_1_3\n",
      "  +- a_1_4\n",
      "  +- a_1_5\n",
      "  +- a_1_6\n",
      "\n"
     ]
    }
   ],
   "source": [
    "print(pprint(e))"
   ]
  },
  {
   "cell_type": "code",
   "execution_count": 38,
   "metadata": {},
   "outputs": [
    {
     "data": {
      "image/png": "[encoded data removed]",
      "text/plain": [
       "<Figure size 432x288 with 1 Axes>"
      ]
     },
     "metadata": {},
     "output_type": "display_data"
    }
   ],
   "source": [
    "g3 = make_tree([2])\n",
    "nice_tree_plot(g3)"
   ]
  },
  {
   "cell_type": "code",
   "execution_count": 39,
   "metadata": {},
   "outputs": [],
   "source": [
    "analyzer = Analyzer(g3)"
   ]
  },
  {
   "cell_type": "code",
   "execution_count": 40,
   "metadata": {},
   "outputs": [
    {
     "name": "stdout",
     "output_type": "stream",
     "text": [
      "Solving for cluster with parent = 0\n"
     ]
    },
    {
     "data": {
      "text/latex": [
       "$$\\left \\{ 0 : \\left \\{ a_{0 1} : \\frac{R_{1 2} \\left(R_{1 1} + R_{1 2}\\right)}{R_{1 1} R_{2 2} - R_{1 2}^{2}}, \\quad a_{0 2} : \\frac{R_{1 2} \\left(R_{1 2} + R_{2 2}\\right)}{R_{1 1} R_{2 2} - R_{1 2}^{2}}\\right \\}\\right \\}$$"
      ],
      "text/plain": [
       "<IPython.core.display.Math object>"
      ]
     },
     "metadata": {},
     "output_type": "display_data"
    }
   ],
   "source": [
    "analyzer.solve()\n",
    "show_math(analyzer.soln_by_cluster)"
   ]
  },
  {
   "cell_type": "code",
   "execution_count": 41,
   "metadata": {},
   "outputs": [
    {
     "data": {
      "image/png": "[encoded data removed]",
      "text/plain": [
       "<Figure size 432x288 with 1 Axes>"
      ]
     },
     "metadata": {},
     "output_type": "display_data"
    }
   ],
   "source": [
    "g4 = nx.DiGraph([(2*i, 2*i + 2) for i in range(3)] + [(2*i, 2*i + 1) for i in range(3)])\n",
    "g4.graph[\"root\"] = 0\n",
    "nice_tree_plot(g4)"
   ]
  },
  {
   "cell_type": "code",
   "execution_count": 42,
   "metadata": {},
   "outputs": [],
   "source": [
    "analyzer = Analyzer(g4)"
   ]
  },
  {
   "cell_type": "code",
   "execution_count": 43,
   "metadata": {},
   "outputs": [
    {
     "name": "stdout",
     "output_type": "stream",
     "text": [
      "Solving for cluster with parent = 0\n",
      "Solving for cluster with parent = 2\n",
      "Solving for cluster with parent = 4\n"
     ]
    },
    {
     "data": {
      "text/latex": [
       "$$\\left \\{ 0 : \\left \\{ a_{0 1} : \\frac{R_{6 1} \\left(R_{1 1} a_{2 4} a_{4 6} + R_{6 1} \\left(a_{2 3} a_{4 5} + a_{2 3} a_{4 6} + a_{2 4} a_{4 5} + a_{2 4} a_{4 6}\\right)\\right) \\left(a_{2 4} a_{4 6} + a_{2 4} + a_{4 6} + 1\\right)}{R_{1 1} R_{6 6} a_{2 4} a_{4 6} \\left(a_{2 3} a_{4 5} + a_{2 3} a_{4 6} + a_{2 3} + a_{2 4} a_{4 5} + a_{2 4} a_{4 6} + a_{2 4} + a_{4 5} + a_{4 6} + 1\\right) - R_{6 1}^{2} \\left(a_{2 3} a_{4 5} + a_{2 3} a_{4 6} + a_{2 4} a_{4 5} + a_{2 4} a_{4 6}\\right) \\left(a_{2 4} a_{4 6} + a_{2 4} + a_{4 6} + 1\\right)}, \\quad a_{0 2} : \\frac{R_{6 1} \\left(R_{6 1} \\left(a_{2 4} a_{4 6} + a_{2 4} + a_{4 6} + 1\\right) + R_{6 6} \\left(a_{2 3} a_{4 5} + a_{2 3} a_{4 6} + a_{2 3} + a_{2 4} a_{4 5} + a_{2 4} a_{4 6} + a_{2 4} + a_{4 5} + a_{4 6} + 1\\right)\\right) \\left(a_{2 3} a_{4 5} + a_{2 3} a_{4 6} + a_{2 4} a_{4 5} + a_{2 4} a_{4 6}\\right)}{R_{1 1} R_{6 6} a_{2 4} a_{4 6} \\left(a_{2 3} a_{4 5} + a_{2 3} a_{4 6} + a_{2 3} + a_{2 4} a_{4 5} + a_{2 4} a_{4 6} + a_{2 4} + a_{4 5} + a_{4 6} + 1\\right) - R_{6 1}^{2} \\left(a_{2 3} a_{4 5} + a_{2 3} a_{4 6} + a_{2 4} a_{4 5} + a_{2 4} a_{4 6}\\right) \\left(a_{2 4} a_{4 6} + a_{2 4} + a_{4 6} + 1\\right)}\\right \\}, \\quad 2 : \\left \\{ a_{2 3} : \\frac{R_{6 3} \\left(a_{4 6} + 1\\right) \\left(R_{3 3} a_{4 6} + R_{6 3} \\left(a_{4 5} + a_{4 6}\\right)\\right)}{R_{3 3} R_{6 6} a_{4 6} \\left(a_{4 5} + a_{4 6} + 1\\right) - R_{6 3}^{2} \\left(a_{4 5} + a_{4 6}\\right) \\left(a_{4 6} + 1\\right)}, \\quad a_{2 4} : \\frac{R_{6 3} \\left(a_{4 5} + a_{4 6}\\right) \\left(R_{6 3} \\left(a_{4 6} + 1\\right) + R_{6 6} \\left(a_{4 5} + a_{4 6} + 1\\right)\\right)}{R_{3 3} R_{6 6} a_{4 6} \\left(a_{4 5} + a_{4 6} + 1\\right) - R_{6 3}^{2} \\left(a_{4 5} + a_{4 6}\\right) \\left(a_{4 6} + 1\\right)}\\right \\}, \\quad 4 : \\left \\{ a_{4 5} : \\frac{R_{6 5} \\left(R_{5 5} + R_{6 5}\\right)}{R_{5 5} R_{6 6} - R_{6 5}^{2}}, \\quad a_{4 6} : \\frac{R_{6 5} \\left(R_{6 5} + R_{6 6}\\right)}{R_{5 5} R_{6 6} - R_{6 5}^{2}}\\right \\}\\right \\}$$"
      ],
      "text/plain": [
       "<IPython.core.display.Math object>"
      ]
     },
     "metadata": {},
     "output_type": "display_data"
    }
   ],
   "source": [
    "analyzer.solve()\n",
    "show_math(analyzer.soln_by_cluster)"
   ]
  },
  {
   "cell_type": "code",
   "execution_count": 54,
   "metadata": {},
   "outputs": [
    {
     "data": {
      "text/latex": [
       "$$\\frac{a_{0 1} \\left(a_{0 1} + 1\\right)}{\\left(a_{0 1} + a_{0 2}\\right) \\left(a_{0 1} + a_{0 2} + 1\\right)}$$"
      ],
      "text/plain": [
       "<IPython.core.display.Math object>"
      ]
     },
     "metadata": {},
     "output_type": "display_data"
    },
    {
     "data": {
      "text/latex": [
       "$$\\frac{a_{0 2} a_{2 3} \\left(a_{0 2} + 1\\right) \\left(a_{2 3} + 1\\right)}{\\left(a_{0 1} + a_{0 2}\\right) \\left(a_{2 3} + a_{2 4}\\right) \\left(a_{0 1} + a_{0 2} + 1\\right) \\left(a_{2 3} + a_{2 4} + 1\\right)}$$"
      ],
      "text/plain": [
       "<IPython.core.display.Math object>"
      ]
     },
     "metadata": {},
     "output_type": "display_data"
    },
    {
     "data": {
      "text/latex": [
       "$$\\frac{a_{0 2} a_{2 4} a_{4 5} \\left(a_{0 2} + 1\\right) \\left(a_{2 4} + 1\\right) \\left(a_{4 5} + 1\\right)}{\\left(a_{0 1} + a_{0 2}\\right) \\left(a_{2 3} + a_{2 4}\\right) \\left(a_{4 5} + a_{4 6}\\right) \\left(a_{0 1} + a_{0 2} + 1\\right) \\left(a_{2 3} + a_{2 4} + 1\\right) \\left(a_{4 5} + a_{4 6} + 1\\right)}$$"
      ],
      "text/plain": [
       "<IPython.core.display.Math object>"
      ]
     },
     "metadata": {},
     "output_type": "display_data"
    },
    {
     "name": "stdout",
     "output_type": "stream",
     "text": [
      "********************\n"
     ]
    },
    {
     "data": {
      "text/latex": [
       "$$\\frac{a_{0 1} a_{0 2} a_{2 4} a_{4 5}}{\\left(a_{0 1} + a_{0 2}\\right) \\left(a_{2 3} + a_{2 4}\\right) \\left(a_{4 5} + a_{4 6}\\right) \\left(a_{0 1} + a_{0 2} + 1\\right)}$$"
      ],
      "text/plain": [
       "<IPython.core.display.Math object>"
      ]
     },
     "metadata": {},
     "output_type": "display_data"
    },
    {
     "name": "stdout",
     "output_type": "stream",
     "text": [
      "RATIO:\n"
     ]
    },
    {
     "data": {
      "text/latex": [
       "$$\\frac{a_{0 1} \\left(a_{2 3} + a_{2 4} + 1\\right) \\left(a_{4 5} + a_{4 6} + 1\\right)}{\\left(a_{0 2} + 1\\right) \\left(a_{2 4} + 1\\right) \\left(a_{4 5} + 1\\right)}$$"
      ],
      "text/plain": [
       "<IPython.core.display.Math object>"
      ]
     },
     "metadata": {},
     "output_type": "display_data"
    },
    {
     "name": "stdout",
     "output_type": "stream",
     "text": [
      "********************\n"
     ]
    },
    {
     "data": {
      "text/latex": [
       "$$\\frac{a_{0 2} a_{2 3} a_{2 4} a_{4 5} \\left(a_{0 2} + 1\\right)}{\\left(a_{0 1} + a_{0 2}\\right) \\left(a_{2 3} + a_{2 4}\\right) \\left(a_{4 5} + a_{4 6}\\right) \\left(a_{0 1} + a_{0 2} + 1\\right) \\left(a_{2 3} + a_{2 4} + 1\\right)}$$"
      ],
      "text/plain": [
       "<IPython.core.display.Math object>"
      ]
     },
     "metadata": {},
     "output_type": "display_data"
    },
    {
     "name": "stdout",
     "output_type": "stream",
     "text": [
      "RATIO:\n"
     ]
    },
    {
     "data": {
      "text/latex": [
       "$$\\frac{a_{2 3} \\left(a_{4 5} + a_{4 6} + 1\\right)}{\\left(a_{2 4} + 1\\right) \\left(a_{4 5} + 1\\right)}$$"
      ],
      "text/plain": [
       "<IPython.core.display.Math object>"
      ]
     },
     "metadata": {},
     "output_type": "display_data"
    },
    {
     "name": "stdout",
     "output_type": "stream",
     "text": [
      "********************\n"
     ]
    },
    {
     "data": {
      "text/latex": [
       "$$\\frac{a_{0 2} a_{2 4} a_{4 5} a_{4 6} \\left(a_{0 2} + 1\\right) \\left(a_{2 4} + 1\\right)}{\\left(a_{0 1} + a_{0 2}\\right) \\left(a_{2 3} + a_{2 4}\\right) \\left(a_{4 5} + a_{4 6}\\right) \\left(a_{0 1} + a_{0 2} + 1\\right) \\left(a_{2 3} + a_{2 4} + 1\\right) \\left(a_{4 5} + a_{4 6} + 1\\right)}$$"
      ],
      "text/plain": [
       "<IPython.core.display.Math object>"
      ]
     },
     "metadata": {},
     "output_type": "display_data"
    },
    {
     "name": "stdout",
     "output_type": "stream",
     "text": [
      "RATIO:\n"
     ]
    },
    {
     "data": {
      "text/latex": [
       "$$\\frac{a_{4 6}}{a_{4 5} + 1}$$"
      ],
      "text/plain": [
       "<IPython.core.display.Math object>"
      ]
     },
     "metadata": {},
     "output_type": "display_data"
    }
   ],
   "source": [
    "show_math(analyzer.RL(1,1))\n",
    "show_math(analyzer.RL(3,3))\n",
    "show_math(analyzer.RL(5,5))\n",
    "print(\"*\"*20)\n",
    "show_math(analyzer.RL(1,5))\n",
    "print(\"RATIO:\")\n",
    "show_math(analyzer.RL(1,5) / analyzer.RL(5,5))\n",
    "print(\"*\"*20)\n",
    "show_math(analyzer.RL(3,5))\n",
    "print(\"RATIO:\")\n",
    "show_math(analyzer.RL(3,5) / analyzer.RL(5,5))\n",
    "print(\"*\"*20)\n",
    "show_math(analyzer.RL(5,6))\n",
    "print(\"RATIO:\")\n",
    "show_math(analyzer.RL(5,6) / analyzer.RL(5,5))"
   ]
  },
  {
   "cell_type": "code",
   "execution_count": 56,
   "metadata": {},
   "outputs": [
    {
     "data": {
      "image/png": "[encoded data removed]",
      "text/plain": [
       "<Figure size 432x288 with 1 Axes>"
      ]
     },
     "metadata": {},
     "output_type": "display_data"
    }
   ],
   "source": [
    "g5 = make_tree([2,2,2])\n",
    "nice_tree_plot(g5)"
   ]
  },
  {
   "cell_type": "code",
   "execution_count": 57,
   "metadata": {},
   "outputs": [],
   "source": [
    "analyzer = Analyzer(g5)"
   ]
  },
  {
   "cell_type": "code",
   "execution_count": 73,
   "metadata": {},
   "outputs": [
    {
     "data": {
      "text/latex": [
       "$$R_{7 7} = \\frac{a_{0 1} a_{1 3} a_{3 7} \\left(a_{0 1} + 1\\right) \\left(a_{1 3} + 1\\right) \\left(a_{3 7} + 1\\right)}{\\left(a_{0 1} + a_{0 2}\\right) \\left(a_{1 3} + a_{1 4}\\right) \\left(a_{3 7} + a_{3 8}\\right) \\left(a_{0 1} + a_{0 2} + 1\\right) \\left(a_{1 3} + a_{1 4} + 1\\right) \\left(a_{3 7} + a_{3 8} + 1\\right)}$$"
      ],
      "text/plain": [
       "<IPython.core.display.Math object>"
      ]
     },
     "metadata": {},
     "output_type": "display_data"
    },
    {
     "data": {
      "text/latex": [
       "$$R_{7 8} = \\frac{a_{0 1} a_{1 3} a_{3 7} a_{3 8} \\left(a_{0 1} + 1\\right) \\left(a_{1 3} + 1\\right)}{\\left(a_{0 1} + a_{0 2}\\right) \\left(a_{1 3} + a_{1 4}\\right) \\left(a_{3 7} + a_{3 8}\\right) \\left(a_{0 1} + a_{0 2} + 1\\right) \\left(a_{1 3} + a_{1 4} + 1\\right) \\left(a_{3 7} + a_{3 8} + 1\\right)}$$"
      ],
      "text/plain": [
       "<IPython.core.display.Math object>"
      ]
     },
     "metadata": {},
     "output_type": "display_data"
    },
    {
     "data": {
      "text/latex": [
       "$$R_{7 9} = \\frac{a_{0 1} a_{1 3} a_{1 4} a_{3 7} a_{4 9} \\left(a_{0 1} + 1\\right)}{\\left(a_{0 1} + a_{0 2}\\right) \\left(a_{1 3} + a_{1 4}\\right) \\left(a_{3 7} + a_{3 8}\\right) \\left(a_{4 10} + a_{4 9}\\right) \\left(a_{0 1} + a_{0 2} + 1\\right) \\left(a_{1 3} + a_{1 4} + 1\\right)}$$"
      ],
      "text/plain": [
       "<IPython.core.display.Math object>"
      ]
     },
     "metadata": {},
     "output_type": "display_data"
    },
    {
     "data": {
      "text/latex": [
       "$$R_{7 11} = \\frac{a_{0 1} a_{0 2} a_{1 3} a_{2 5} a_{3 7} a_{5 11}}{\\left(a_{0 1} + a_{0 2}\\right) \\left(a_{1 3} + a_{1 4}\\right) \\left(a_{2 5} + a_{2 6}\\right) \\left(a_{3 7} + a_{3 8}\\right) \\left(a_{5 11} + a_{5 12}\\right) \\left(a_{0 1} + a_{0 2} + 1\\right)}$$"
      ],
      "text/plain": [
       "<IPython.core.display.Math object>"
      ]
     },
     "metadata": {},
     "output_type": "display_data"
    }
   ],
   "source": [
    "indices = [7, 8, 9, 11]\n",
    "\n",
    "for j in indices:\n",
    "    i = indices[0]\n",
    "    show_math(sp.Eq(Ra(i,j), analyzer.RL(i,j)))"
   ]
  },
  {
   "cell_type": "code",
   "execution_count": 74,
   "metadata": {},
   "outputs": [
    {
     "data": {
      "text/latex": [
       "$$\\frac{R_{7 8}}{R_{7 7}} = \\frac{a_{3 8}}{a_{3 7} + 1}$$"
      ],
      "text/plain": [
       "<IPython.core.display.Math object>"
      ]
     },
     "metadata": {},
     "output_type": "display_data"
    },
    {
     "data": {
      "text/latex": [
       "$$\\frac{R_{7 9}}{R_{7 7}} = \\frac{a_{1 4} a_{4 9} \\left(a_{3 7} + a_{3 8} + 1\\right)}{\\left(a_{1 3} + 1\\right) \\left(a_{3 7} + 1\\right) \\left(a_{4 10} + a_{4 9}\\right)}$$"
      ],
      "text/plain": [
       "<IPython.core.display.Math object>"
      ]
     },
     "metadata": {},
     "output_type": "display_data"
    },
    {
     "data": {
      "text/latex": [
       "$$\\frac{R_{7 11}}{R_{7 7}} = \\frac{a_{0 2} a_{2 5} a_{5 11} \\left(a_{1 3} + a_{1 4} + 1\\right) \\left(a_{3 7} + a_{3 8} + 1\\right)}{\\left(a_{0 1} + 1\\right) \\left(a_{1 3} + 1\\right) \\left(a_{2 5} + a_{2 6}\\right) \\left(a_{3 7} + 1\\right) \\left(a_{5 11} + a_{5 12}\\right)}$$"
      ],
      "text/plain": [
       "<IPython.core.display.Math object>"
      ]
     },
     "metadata": {},
     "output_type": "display_data"
    }
   ],
   "source": [
    "for j in indices[1:]:\n",
    "    i = indices[0]\n",
    "    show_math(sp.Eq(Ra(i,j) / Ra(i,i), analyzer.RL(i,j) / analyzer.RL(i,i)))"
   ]
  },
  {
   "cell_type": "code",
   "execution_count": 76,
   "metadata": {},
   "outputs": [
    {
     "data": {
      "text/latex": [
       "$$\\frac{R_{8 8}}{R_{7 7}} = \\frac{a_{3 8} \\left(a_{3 8} + 1\\right)}{a_{3 7} \\left(a_{3 7} + 1\\right)}$$"
      ],
      "text/plain": [
       "<IPython.core.display.Math object>"
      ]
     },
     "metadata": {},
     "output_type": "display_data"
    }
   ],
   "source": [
    "show_math(sp.Eq(Ra(8,8) / Ra(7,7), analyzer.RL(8,8) / analyzer.RL(7,7)))"
   ]
  },
  {
   "cell_type": "code",
   "execution_count": null,
   "metadata": {},
   "outputs": [],
   "source": []
  }
 ],
 "metadata": {
  "kernelspec": {
   "display_name": "Python 3",
   "language": "python",
   "name": "python3"
  },
  "language_info": {
   "codemirror_mode": {
    "name": "ipython",
    "version": 3
   },
   "file_extension": ".py",
   "mimetype": "text/x-python",
   "name": "python",
   "nbconvert_exporter": "python",
   "pygments_lexer": "ipython3",
   "version": "3.6.5"
  }
 },
 "nbformat": 4,
 "nbformat_minor": 2
}
