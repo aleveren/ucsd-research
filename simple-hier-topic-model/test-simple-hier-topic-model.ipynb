{
 "cells": [
  {
   "cell_type": "code",
   "execution_count": 1,
   "metadata": {
    "collapsed": true
   },
   "outputs": [],
   "source": [
    "import numpy as np\n",
    "import matplotlib.pyplot as plt\n",
    "%matplotlib inline"
   ]
  },
  {
   "cell_type": "code",
   "execution_count": 2,
   "metadata": {
    "collapsed": false
   },
   "outputs": [],
   "source": [
    "from simple_hierarchical_topic_model import (\n",
    "    SimpleHierarchicalTopicModel,\n",
    "    load_vocab,\n",
    "    StoppingCondition,\n",
    "    StatsSaver,\n",
    "    explore_branching_factors,\n",
    ")\n",
    "from init_hierarchy_kmeans import KMeansInitializer\n",
    "from param_stats import mean_dirichlet"
   ]
  },
  {
   "cell_type": "code",
   "execution_count": 3,
   "metadata": {
    "collapsed": true
   },
   "outputs": [],
   "source": [
    "from scipy.io import loadmat"
   ]
  },
  {
   "cell_type": "code",
   "execution_count": 4,
   "metadata": {
    "collapsed": true
   },
   "outputs": [],
   "source": [
    "np.random.seed(1)"
   ]
  },
  {
   "cell_type": "code",
   "execution_count": 5,
   "metadata": {
    "collapsed": false
   },
   "outputs": [
    {
     "name": "stdout",
     "output_type": "stream",
     "text": [
      "Loading data...\n",
      "Vocab size: 2940\n",
      "Num documents: 1500\n",
      "Nonzero entries: 585933\n",
      "Loading vocab...\n",
      "Vocab size = 2940\n"
     ]
    }
   ],
   "source": [
    "print(\"Loading data...\")\n",
    "data = loadmat(\"/Users/aleverentz/Code/anchor-word-recovery/M_nips.full_docs.mat.trunc.mat\")[\"M\"]\n",
    "#data = loadmat(\"/Users/aleverentz/ucsd-research/hier-topic-models/data/abstracts.mat\")[\"M\"]\n",
    "print(\"Vocab size: {}\".format(data.shape[0]))\n",
    "print(\"Num documents: {}\".format(data.shape[1]))\n",
    "print(\"Nonzero entries: {}\".format(data.nnz))\n",
    "print(\"Loading vocab...\")\n",
    "vocab = load_vocab(\"/Users/aleverentz/Code/anchor-word-recovery/vocab.nips.txt.trunc\")\n",
    "#vocab = load_vocab(\"/Users/aleverentz/ucsd-research/hier-topic-models/data/abstracts_vocab.txt\")\n",
    "print(\"Vocab size = {}\".format(len(vocab)))\n",
    "assert data.shape[0] == len(vocab)"
   ]
  },
  {
   "cell_type": "code",
   "execution_count": 6,
   "metadata": {
    "collapsed": true
   },
   "outputs": [],
   "source": [
    "import os\n",
    "import sys\n",
    "sys.path.append(os.path.abspath(\"..\"))\n",
    "import text_utils"
   ]
  },
  {
   "cell_type": "code",
   "execution_count": 7,
   "metadata": {
    "collapsed": false
   },
   "outputs": [
    {
     "name": "stdout",
     "output_type": "stream",
     "text": [
      "Vocab size: 42756\n",
      "Num documents: 2246\n",
      "CPU times: user 29.6 s, sys: 226 ms, total: 29.8 s\n",
      "Wall time: 30 s\n"
     ]
    }
   ],
   "source": [
    "%%time\n",
    "\n",
    "data, vocab = text_utils.xml_to_sparse_term_doc(\n",
    "    filename = \"/Users/aleverentz/Downloads/ap/ap_mod_xml.txt\",\n",
    "    within = [\"toplevel\"],\n",
    "    eachdoc = [\"DOC\", \"TEXT\"],\n",
    "    parser_type = \"lxml-xml\",\n",
    "    tokenizer = text_utils.default_tokenizer)\n",
    "\n",
    "print(\"Vocab size: {}\".format(data.shape[0]))\n",
    "print(\"Num documents: {}\".format(data.shape[1]))\n",
    "assert data.shape[0] == len(vocab)"
   ]
  },
  {
   "cell_type": "code",
   "execution_count": 8,
   "metadata": {
    "collapsed": false
   },
   "outputs": [],
   "source": [
    "branching_factors = [5]\n",
    "paths = explore_branching_factors(branching_factors)"
   ]
  },
  {
   "cell_type": "code",
   "execution_count": 9,
   "metadata": {
    "collapsed": false
   },
   "outputs": [],
   "source": [
    "model = SimpleHierarchicalTopicModel(\n",
    "    branching_factors = branching_factors,\n",
    "    stopping_condition = StoppingCondition(max_epochs = 100),\n",
    "    stats_saver = StatsSaver(\"./latest_stats_ap.txt\"),\n",
    "    initializer = KMeansInitializer(data = data, paths = paths, subset_size = 500, low = 0.01, high = 1.99),\n",
    "    batch_size = None,\n",
    "    save_params_history = True,\n",
    "    vocab = vocab)"
   ]
  },
  {
   "cell_type": "code",
   "execution_count": 10,
   "metadata": {
    "collapsed": false,
    "scrolled": true
   },
   "outputs": [
    {
     "name": "stderr",
     "output_type": "stream",
     "text": [
      "100%|██████████| 100/100 [15:35<00:00,  9.48s/it, Status=computing statistics]\n"
     ]
    }
   ],
   "source": [
    "model.fit(data);"
   ]
  },
  {
   "cell_type": "code",
   "execution_count": 11,
   "metadata": {
    "collapsed": false
   },
   "outputs": [
    {
     "name": "stdout",
     "output_type": "stream",
     "text": [
      "Top words by node:\n",
      "()  : the, of, in, a, to, and, said, 's, at, on\n",
      "(0,): the, to, of, and, in, a, that, said, for, 's\n",
      "(1,): galileo, uta, cdy, zero, stepping, clr, m, ferret, ranch, klan\n",
      "(2,): the, of, in, and, to, a, said, was, were, on\n",
      "(3,): israel, israeli, arab, occupied, palestinian, palestinians, shamir, gaza, u.n., territories\n",
      "(4,): the, a, of, to, and, in, he, said, was, 's\n"
     ]
    }
   ],
   "source": [
    "top_words = model.get_top_words_by_node(num_words = 10)\n",
    "model.print_top_words_by_node(num_words = 10);"
   ]
  },
  {
   "cell_type": "code",
   "execution_count": 12,
   "metadata": {
    "collapsed": false
   },
   "outputs": [],
   "source": [
    "init_topics = mean_dirichlet(model.stats_by_epoch[0][\"var_params_DV\"])"
   ]
  },
  {
   "cell_type": "code",
   "execution_count": 19,
   "metadata": {
    "collapsed": false
   },
   "outputs": [
    {
     "name": "stdout",
     "output_type": "stream",
     "text": [
      "Top words by node:\n",
      "()  : the, of, month-long, to, industrial, a, in, and, 600,000-member, guishan\n",
      "(0,): journals, moshoeshoe, relievers, computerize, whereabouts, beers, 134.30, volume, pio, 2,046.0\n",
      "(1,): 109, midnight, edt, 1829, parent-teacher, orleans-based, cheat, liza, swan, wiscnsin\n",
      "(2,): o-ring, the, el-barajneh, replacements, wryly, shanghai, donating, subpoenaed, crew-shift, sentinel\n",
      "(3,): to, the, african-american, loaner-vehicle, regiment, fmln, like, rainfall, bloated, half-hour\n",
      "(4,): jokingly, geological, analysts, camaraderie, andronikos, 85|, videodisk, confiscated, payroll, hirsch\n"
     ]
    }
   ],
   "source": [
    "model.print_top_words_by_node(num_words = 10, topic_vectors = init_topics);"
   ]
  },
  {
   "cell_type": "code",
   "execution_count": 14,
   "metadata": {
    "collapsed": false
   },
   "outputs": [
    {
     "data": {
      "image/png": "[encoded data removed]",
      "text/plain": [
       "<matplotlib.figure.Figure at 0x1141e2438>"
      ]
     },
     "metadata": {},
     "output_type": "display_data"
    }
   ],
   "source": [
    "fig, ax = plt.subplots()\n",
    "ax.plot(model.get_stats_by_epoch(\"epoch_index\"), model.get_stats_by_epoch(\"ELBO\"))\n",
    "ax.set_xlabel(\"Epoch\")\n",
    "ax.set_ylabel(\"ELBO\")\n",
    "None"
   ]
  },
  {
   "cell_type": "code",
   "execution_count": 15,
   "metadata": {
    "collapsed": true
   },
   "outputs": [],
   "source": [
    "topic_vectors = model.get_expected_topic_vectors()"
   ]
  },
  {
   "cell_type": "code",
   "execution_count": 16,
   "metadata": {
    "collapsed": false
   },
   "outputs": [
    {
     "data": {
      "text/plain": [
       "(6, 42756)"
      ]
     },
     "execution_count": 16,
     "metadata": {},
     "output_type": "execute_result"
    }
   ],
   "source": [
    "topic_vectors.shape"
   ]
  },
  {
   "cell_type": "code",
   "execution_count": 17,
   "metadata": {
    "collapsed": false
   },
   "outputs": [
    {
     "name": "stdout",
     "output_type": "stream",
     "text": [
      "(42756,)\n"
     ]
    },
    {
     "data": {
      "text/plain": [
       "0.0010855455095286812"
      ]
     },
     "execution_count": 17,
     "metadata": {},
     "output_type": "execute_result"
    }
   ],
   "source": [
    "variance = topic_vectors.var(axis=0)\n",
    "print(variance.shape)\n",
    "np.linalg.norm(variance)"
   ]
  },
  {
   "cell_type": "code",
   "execution_count": 18,
   "metadata": {
    "collapsed": false
   },
   "outputs": [
    {
     "ename": "IndexError",
     "evalue": "index 6 is out of bounds for axis 0 with size 6",
     "output_type": "error",
     "traceback": [
      "\u001b[0;31m---------------------------------------------------------------------------\u001b[0m",
      "\u001b[0;31mIndexError\u001b[0m                                Traceback (most recent call last)",
      "\u001b[0;32m<ipython-input-18-1e08d5638ccf>\u001b[0m in \u001b[0;36m<module>\u001b[0;34m()\u001b[0m\n\u001b[1;32m      1\u001b[0m \u001b[0;32mfor\u001b[0m \u001b[0mi\u001b[0m \u001b[0;32min\u001b[0m \u001b[0mrange\u001b[0m\u001b[0;34m(\u001b[0m\u001b[0;36m10\u001b[0m\u001b[0;34m)\u001b[0m\u001b[0;34m:\u001b[0m\u001b[0;34m\u001b[0m\u001b[0m\n\u001b[0;32m----> 2\u001b[0;31m     \u001b[0mplt\u001b[0m\u001b[0;34m.\u001b[0m\u001b[0mplot\u001b[0m\u001b[0;34m(\u001b[0m\u001b[0mtopic_vectors\u001b[0m\u001b[0;34m[\u001b[0m\u001b[0mi\u001b[0m\u001b[0;34m,\u001b[0m\u001b[0;34m:\u001b[0m\u001b[0;34m]\u001b[0m\u001b[0;34m,\u001b[0m \u001b[0mcolor\u001b[0m\u001b[0;34m=\u001b[0m\u001b[0;34m'b'\u001b[0m\u001b[0;34m,\u001b[0m \u001b[0malpha\u001b[0m\u001b[0;34m=\u001b[0m\u001b[0;36m0.1\u001b[0m\u001b[0;34m)\u001b[0m\u001b[0;34m;\u001b[0m\u001b[0;34m\u001b[0m\u001b[0m\n\u001b[0m",
      "\u001b[0;31mIndexError\u001b[0m: index 6 is out of bounds for axis 0 with size 6"
     ]
    },
    {
     "data": {
      "image/png": "[encoded data removed]",
      "text/plain": [
       "<matplotlib.figure.Figure at 0x1198fe390>"
      ]
     },
     "metadata": {},
     "output_type": "display_data"
    }
   ],
   "source": [
    "for i in range(10):\n",
    "    plt.plot(topic_vectors[i,:], color='b', alpha=0.1);"
   ]
  },
  {
   "cell_type": "code",
   "execution_count": null,
   "metadata": {
    "collapsed": false
   },
   "outputs": [],
   "source": [
    "plt.plot(topic_vectors[0,:], color='b', alpha=0.2)\n",
    "plt.plot(topic_vectors[1,:], color='g', alpha=0.2)\n",
    "plt.plot(topic_vectors[0,:] - topic_vectors[1,:], color='r', alpha=0.5)\n",
    "None"
   ]
  },
  {
   "cell_type": "code",
   "execution_count": null,
   "metadata": {
    "collapsed": true
   },
   "outputs": [],
   "source": []
  }
 ],
 "metadata": {
  "kernelspec": {
   "display_name": "Python 3",
   "language": "python",
   "name": "python3"
  },
  "language_info": {
   "codemirror_mode": {
    "name": "ipython",
    "version": 3
   },
   "file_extension": ".py",
   "mimetype": "text/x-python",
   "name": "python",
   "nbconvert_exporter": "python",
   "pygments_lexer": "ipython3",
   "version": "3.5.0"
  }
 },
 "nbformat": 4,
 "nbformat_minor": 1
}
