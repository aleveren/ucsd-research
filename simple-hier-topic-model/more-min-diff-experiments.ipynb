{
 "cells": [
  {
   "cell_type": "code",
   "execution_count": 1,
   "metadata": {},
   "outputs": [],
   "source": [
    "import numpy as np\n",
    "import matplotlib.pyplot as plt\n",
    "import networkx as nx"
   ]
  },
  {
   "cell_type": "code",
   "execution_count": 2,
   "metadata": {},
   "outputs": [],
   "source": [
    "from example_graphs import make_tree\n",
    "from utils import nice_tree_plot, without_diag\n",
    "from compute_pam import compute_combo_tensor_pam, IndividualNodeAlphaCalc\n",
    "from tree_extraction.Aho import get_ratio_matrix"
   ]
  },
  {
   "cell_type": "code",
   "execution_count": 12,
   "metadata": {},
   "outputs": [],
   "source": [
    "class SharedCalc(object):\n",
    "    def _init_all(self):\n",
    "        if not hasattr(self, \"verbose\"):\n",
    "            self.verbose = False\n",
    "        self._init_graph()\n",
    "        self._init_sum_alphas()\n",
    "        self._init_matrices()\n",
    "        self._init_diffs()\n",
    "    \n",
    "    @classmethod\n",
    "    def get_offset(cls, b, factor = 10):\n",
    "        offset = factor\n",
    "        while np.max(b) + 1 >= offset:\n",
    "            offset *= factor\n",
    "        return offset\n",
    "\n",
    "    def _init_graph(self):\n",
    "        s2 = self.s2\n",
    "        b = self.b\n",
    "        alphas_by_depth = self.alphas_by_depth\n",
    "        offset = self.offset\n",
    "\n",
    "        triplet = [0, 0, 0]\n",
    "\n",
    "        alphas = dict()\n",
    "        g = nx.DiGraph()\n",
    "        g.graph[\"root\"] = 0\n",
    "        for i in range(len(b)):\n",
    "            for j in range(b[i]):\n",
    "                srcIndex = i * offset\n",
    "                dstIndex = j + (i + 1) * offset\n",
    "                g.add_edge(srcIndex, dstIndex)\n",
    "                alphas[dstIndex] = alphas_by_depth[i]\n",
    "                if i == 0 and j == b[i] - 1:\n",
    "                    triplet[2] = dstIndex\n",
    "                if i == s2 and j == 1:\n",
    "                    triplet[0] = dstIndex\n",
    "                if i == s2 and j == 2:\n",
    "                    triplet[1] = dstIndex\n",
    "                if i == s2 and s2 == len(b) - 1 and j == 0:\n",
    "                    triplet[1] = dstIndex\n",
    "                    \n",
    "        self.g = g\n",
    "        self.triplet = triplet\n",
    "        self.alphas = alphas\n",
    "        \n",
    "    def _init_matrices(self):\n",
    "        self.R, lp = compute_combo_tensor_pam(self.g,\n",
    "            alpha = IndividualNodeAlphaCalc(self.g, self.alphas),\n",
    "            return_leaf_paths = True)\n",
    "        self.C = get_ratio_matrix(self.R)\n",
    "        \n",
    "        self.leaves = [p[-1] for p in lp]\n",
    "        self.leaf_to_index = {k: i for i, k in enumerate(self.leaves)}\n",
    "        \n",
    "    def _init_diffs(self):\n",
    "        C = self.C\n",
    "\n",
    "        dropped_diagonal = []\n",
    "        for i in range(C.shape[0]):\n",
    "            sortedRow = sorted(list(C[i, :i]) + list(C[i, i+1:]))\n",
    "            dropped_diagonal.append(sortedRow)\n",
    "        dropped_diagonal = np.array(dropped_diagonal).round(decimals = 10)\n",
    "        diffs = np.diff(dropped_diagonal, axis=1)\n",
    "        unique_values = np.unique(dropped_diagonal)\n",
    "        min_diff = np.min(np.diff(unique_values))\n",
    "\n",
    "        self.dropped_diagonal = dropped_diagonal\n",
    "        self.diffs = diffs\n",
    "        self.unique_values = unique_values\n",
    "        self.min_diff = min_diff\n",
    "        \n",
    "        i, j, k = [self.leaf_to_index[self.triplet[m]] for m in range(3)]\n",
    "        self.triplet_diff = self.C[i, j] - self.C[i, k]\n",
    "        \n",
    "    def _init_sum_alphas(self):\n",
    "        result = dict()\n",
    "        for n in self.g.nodes():\n",
    "            nbrs = list(self.g.neighbors(n))\n",
    "            if len(nbrs) == 0:\n",
    "                continue\n",
    "            result[n] = np.sum([self.alphas[x] for x in nbrs])\n",
    "        self.sum_alphas = result\n",
    "        \n",
    "        delta_dict = dict()\n",
    "        for n in self.g.nodes():\n",
    "            if n in self.alphas and n in self.sum_alphas:\n",
    "                # Note: `alphas` corresponds to parent->n, whereas `sum_alphas` corresponds to n->children\n",
    "                delta_dict[n] = self.sum_alphas[n] - self.alphas[n]\n",
    "        self.observed_dmin = np.min(list(delta_dict.values()))\n",
    "        self.delta_dict = delta_dict"
   ]
  },
  {
   "cell_type": "code",
   "execution_count": 13,
   "metadata": {},
   "outputs": [],
   "source": [
    "class Analysis1(SharedCalc):\n",
    "    def __init__(self, s1, s2, b, dmin, alpha0):\n",
    "        self.s1 = s1\n",
    "        self.s2 = s2\n",
    "        self.b = b\n",
    "        self.dmin = dmin\n",
    "        self.alpha0 = alpha0\n",
    "        self.alphas_by_depth = self.get_alphas_by_depth()\n",
    "        self.offset = self.get_offset(b)\n",
    "        self._init_all()\n",
    "\n",
    "    def get_alphas_by_depth(self):\n",
    "        alphas_by_depth = [self.alpha0]\n",
    "        for i in range(len(self.b) - 1):\n",
    "            a = (self.dmin + alphas_by_depth[-1]) / self.b[i+1]\n",
    "            alphas_by_depth.append(a)\n",
    "        alphas_by_depth = np.array(alphas_by_depth, dtype='float')\n",
    "        return alphas_by_depth"
   ]
  },
  {
   "cell_type": "code",
   "execution_count": 14,
   "metadata": {},
   "outputs": [
    {
     "name": "stdout",
     "output_type": "stream",
     "text": [
      "####################\n",
      "{'s1': 0, 's2': 1, 'b': array([3, 4, 5, 6]), 'dmin': 0.1, 'alpha0': 1.0}\n",
      "triplet: [21, 22, 12]\n",
      "sum_alphas: {0: 3.0, 10: 1.1, 20: 0.375, 30: 0.175}\n",
      "observed dmin: 0.09999999999999998\n",
      "min diff:     0.035714285700000015\n",
      "example diff: 0.035714285714285254\n",
      "####################\n",
      "{'s1': 0, 's2': 1, 'b': array([2, 2]), 'dmin': 0.1, 'alpha0': 1.0}\n",
      "triplet: [21, 20, 11]\n",
      "sum_alphas: {0: 2.0, 10: 1.1}\n",
      "observed dmin: 0.10000000000000009\n",
      "min diff:     0.03174603170000001\n",
      "example diff: 0.03174603174603163\n",
      "####################\n",
      "{'s1': 0, 's2': 1, 'b': array([  2, 100]), 'dmin': 0.1, 'alpha0': 1.0}\n",
      "triplet: [2001, 2002, 1001]\n",
      "sum_alphas: {0: 2.0, 1000: 1.0999999999999994}\n",
      "observed dmin: 0.09999999999999942\n",
      "min diff:     0.03174603170000001\n",
      "example diff: 0.03174603174603219\n",
      "####################\n",
      "{'s1': 0, 's2': 1, 'b': array([100,   2]), 'dmin': 0.1, 'alpha0': 1.0}\n",
      "triplet: [2001, 2000, 1099]\n",
      "sum_alphas: {0: 100.0, 1000: 1.1}\n",
      "observed dmin: 0.10000000000000009\n",
      "min diff:     0.047147571900000074\n",
      "example diff: 0.047147571900046925\n"
     ]
    }
   ],
   "source": [
    "analysis_specs = [\n",
    "    dict(s1 = 0, s2 = 1, b = np.array([3,4,5,6]), dmin = 0.1, alpha0 = 1.0),\n",
    "    #dict(s1 = 0, s2 = 2, b = np.array([3,4,5,6]), dmin = 0.1, alpha0 = 1.0),\n",
    "    #dict(s1 = 0, s2 = 3, b = np.array([3,4,5,6]), dmin = 0.1, alpha0 = 1.0),\n",
    "    dict(s1 = 0, s2 = 1, b = np.array([2,2]), dmin = 0.1, alpha0 = 1.0),\n",
    "    dict(s1 = 0, s2 = 1, b = np.array([2,100]), dmin = 0.1, alpha0 = 1.0),\n",
    "    dict(s1 = 0, s2 = 1, b = np.array([100,2]), dmin = 0.1, alpha0 = 1.0),\n",
    "]\n",
    "for spec in analysis_specs:\n",
    "    print(\"#\" * 20)\n",
    "    print(spec)\n",
    "    a = Analysis1(**spec)\n",
    "    #nice_tree_plot(a.g)\n",
    "    #plt.show()\n",
    "    print(\"triplet:\", a.triplet)\n",
    "    print(\"sum_alphas:\", a.sum_alphas)\n",
    "    #print(\"alphas:\", a.alphas)\n",
    "    print(\"observed dmin:\", a.observed_dmin)\n",
    "    print(\"min diff:    \", a.min_diff)\n",
    "    print(\"example diff:\", a.triplet_diff)"
   ]
  },
  {
   "cell_type": "markdown",
   "metadata": {},
   "source": [
    "## Alternate analysis"
   ]
  },
  {
   "cell_type": "code",
   "execution_count": 15,
   "metadata": {},
   "outputs": [],
   "source": [
    "class Analysis2(SharedCalc):\n",
    "    def __init__(self, s1, s2, b, alpha):\n",
    "        self.s1 = s1\n",
    "        self.s2 = s2\n",
    "        self.b = b\n",
    "        self.alphas_by_depth = alpha\n",
    "        self.offset = self.get_offset(b)\n",
    "        self._init_all()"
   ]
  },
  {
   "cell_type": "code",
   "execution_count": 24,
   "metadata": {},
   "outputs": [
    {
     "name": "stdout",
     "output_type": "stream",
     "text": [
      "####################\n",
      "{'s1': 0, 's2': 1, 'b': array([2, 2]), 'alpha': array([0.01, 1.  ])}\n"
     ]
    },
    {
     "data": {
      "image/png": "[encoded data removed]",
      "text/plain": [
       "<Figure size 432x288 with 1 Axes>"
      ]
     },
     "metadata": {},
     "output_type": "display_data"
    },
    {
     "name": "stdout",
     "output_type": "stream",
     "text": [
      "triplet: [21, 20, 11]\n",
      "sum_alphas: {0: 0.02, 10: 2.0}\n",
      "alphas: {10: 0.01, 11: 0.01, 20: 1.0, 21: 1.0}\n",
      "observed dmin: 1.99\n",
      "observed deltas: {10: 1.99}\n",
      "min diff:     1.3006535948\n",
      "example diff: 1.3006535947712423\n"
     ]
    }
   ],
   "source": [
    "analysis_specs = [\n",
    "    #dict(s1 = 0, s2 = 1, b = np.array([3,4,5,6]), alpha = np.array([1, 1, 1, 1], dtype='float')),\n",
    "    #dict(s1 = 0, s2 = 2, b = np.array([2,2,2]), alpha = np.array([3, 3.5, 1])),\n",
    "    dict(s1 = 0, s2 = 1, b = np.array([2,2]), alpha = np.array([1/100,1])),\n",
    "    #dict(s1 = 0, s2 = 1, b = np.array([3,4]), alpha = np.array([1, 1], dtype='float')),\n",
    "    #dict(s1 = 0, s2 = 1, b = np.array([2,2]), alpha = np.array([1, 1], dtype='float')),\n",
    "    #dict(s1 = 0, s2 = 1, b = np.array([2,2]), alpha = np.array([10, 10], dtype='float')),\n",
    "    #dict(s1 = 0, s2 = 1, b = np.array([2,100]), alpha = np.array([10, .00001], dtype='float')),\n",
    "    #dict(s1 = 0, s2 = 1, b = np.array([2,100]), alpha = np.array([1, 1], dtype='float')),\n",
    "    #dict(s1 = 0, s2 = 1, b = np.array([100,2]), alpha = np.array([1, 1], dtype='float')),\n",
    "    #dict(s1 = 0, s2 = 1, b = np.array([100,100]), alpha = np.array([1, 1], dtype='float')),\n",
    "]\n",
    "for spec in analysis_specs:\n",
    "    print(\"#\" * 20)\n",
    "    print(spec)\n",
    "    a = Analysis2(**spec)\n",
    "    nice_tree_plot(a.g)\n",
    "    plt.show()\n",
    "    print(\"triplet:\", a.triplet)\n",
    "    print(\"sum_alphas:\", a.sum_alphas)\n",
    "    print(\"alphas:\", a.alphas)\n",
    "    print(\"observed dmin:\", a.observed_dmin)\n",
    "    print(\"observed deltas:\", a.delta_dict)\n",
    "    print(\"min diff:    \", a.min_diff)\n",
    "    print(\"example diff:\", a.triplet_diff)"
   ]
  },
  {
   "cell_type": "code",
   "execution_count": 26,
   "metadata": {},
   "outputs": [
    {
     "data": {
      "text/plain": [
       "array([[1.98039216, 0.01960784, 0.01960784],\n",
       "       [0.01960784, 2.64052288, 1.32026144],\n",
       "       [0.01960784, 1.32026144, 2.64052288]])"
      ]
     },
     "execution_count": 26,
     "metadata": {},
     "output_type": "execute_result"
    }
   ],
   "source": [
    "a.C"
   ]
  },
  {
   "cell_type": "code",
   "execution_count": 112,
   "metadata": {},
   "outputs": [],
   "source": [
    "def fz(b0, b1, a0, a1):\n",
    "    return b0 / (1 + b0*a0) * ((b1*a1 - a0) / (1 + b1*a1))"
   ]
  },
  {
   "cell_type": "code",
   "execution_count": 113,
   "metadata": {},
   "outputs": [
    {
     "data": {
      "text/plain": [
       "0.2222222222222222"
      ]
     },
     "execution_count": 113,
     "metadata": {},
     "output_type": "execute_result"
    }
   ],
   "source": [
    "fz(2,2,1,1)"
   ]
  },
  {
   "cell_type": "code",
   "execution_count": 114,
   "metadata": {},
   "outputs": [
    {
     "data": {
      "text/plain": [
       "0.0"
      ]
     },
     "execution_count": 114,
     "metadata": {},
     "output_type": "execute_result"
    }
   ],
   "source": [
    "fz(2,7,1,1/7)"
   ]
  },
  {
   "cell_type": "code",
   "execution_count": 115,
   "metadata": {},
   "outputs": [
    {
     "data": {
      "text/plain": [
       "1.9509316164276658"
      ]
     },
     "execution_count": 115,
     "metadata": {},
     "output_type": "execute_result"
    }
   ],
   "source": [
    "fz(2,200,1/100,1)"
   ]
  },
  {
   "cell_type": "code",
   "execution_count": 116,
   "metadata": {},
   "outputs": [
    {
     "data": {
      "text/plain": [
       "1.3006535947712419"
      ]
     },
     "execution_count": 116,
     "metadata": {},
     "output_type": "execute_result"
    }
   ],
   "source": [
    "fz(2,2,1/100,1)"
   ]
  },
  {
   "cell_type": "code",
   "execution_count": 30,
   "metadata": {},
   "outputs": [],
   "source": [
    "from scipy.optimize import minimize"
   ]
  },
  {
   "cell_type": "code",
   "execution_count": 124,
   "metadata": {},
   "outputs": [
    {
     "name": "stdout",
     "output_type": "stream",
     "text": [
      "{'fun': <function c1 at 0x1135939d8>, 'type': 'ineq', 'args': (1.0,)}\n",
      "    [59.]\n",
      "{'fun': <function mk_constr.<locals>.<lambda> at 0x113593d90>, 'type': 'ineq'}\n",
      "    10\n",
      "{'fun': <function c2 at 0x113593400>, 'type': 'ineq', 'args': (0, 1.0)}\n",
      "    -9.0\n",
      "{'fun': <function mk_constr.<locals>.<lambda> at 0x113593b70>, 'type': 'ineq'}\n",
      "    20\n",
      "{'fun': <function c2 at 0x113593400>, 'type': 'ineq', 'args': (1, 1.0)}\n",
      "    -19.0\n",
      "{'fun': <function mk_constr.<locals>.<lambda> at 0x113593620>, 'type': 'ineq'}\n",
      "    30\n",
      "{'fun': <function c2 at 0x113593400>, 'type': 'ineq', 'args': (2, 1.0)}\n",
      "    -29.0\n",
      "{'fun': <function mk_constr.<locals>.<lambda> at 0x113593ae8>, 'type': 'ineq'}\n",
      "    40\n",
      "{'fun': <function c2 at 0x113593400>, 'type': 'ineq', 'args': (3, 1.0)}\n",
      "    -39.0\n"
     ]
    }
   ],
   "source": [
    "dmin = 1.0\n",
    "alpha_max = 1.0\n",
    "\n",
    "def f(x):\n",
    "    a1, a2, a3, a4 = x\n",
    "    return (a1 + a2) / (1 + a1 + a2) * ((a3 + a4) * (1 + a1) / ((1 + a3 + a4) * (a1)) - 1)\n",
    "\n",
    "def c1(x, dmin):\n",
    "    a1, a2, a3, a4 = np.atleast_2d(x).transpose()\n",
    "    r = a3 + a4\n",
    "    r = r - a1\n",
    "    r = r - dmin\n",
    "    return r\n",
    "\n",
    "def c2(x, i, alpha_max):\n",
    "    return alpha_max - np.asarray(x)[..., i]\n",
    "\n",
    "constrs = [\n",
    "    dict(fun=c1, type='ineq', args=(dmin,))\n",
    "]\n",
    "\n",
    "def mk_constr(index):\n",
    "    return lambda x: np.asarray(x)[..., index]\n",
    "\n",
    "for i in range(4):\n",
    "    zz = mk_constr(i)\n",
    "    constrs.append(dict(fun=zz, type='ineq'))\n",
    "    constrs.append(dict(fun=c2, type='ineq', args=(i, alpha_max)))\n",
    "\n",
    "for i, c in enumerate(constrs):\n",
    "    print(c)\n",
    "    print('   ', c['fun']([10,20,30,40], *c.get('args', ())))"
   ]
  },
  {
   "cell_type": "code",
   "execution_count": 125,
   "metadata": {},
   "outputs": [],
   "source": [
    "sol = minimize(f, x0 = [1,1,1,1], constraints=constrs, method='SLSQP')"
   ]
  },
  {
   "cell_type": "code",
   "execution_count": 126,
   "metadata": {},
   "outputs": [
    {
     "name": "stdout",
     "output_type": "stream",
     "text": [
      "Optimization terminated successfully.\n",
      "0.16666666666666655\n"
     ]
    },
    {
     "data": {
      "text/plain": [
       "array([1., 0., 1., 1.])"
      ]
     },
     "execution_count": 126,
     "metadata": {},
     "output_type": "execute_result"
    }
   ],
   "source": [
    "print(sol.message)\n",
    "print(sol.fun)\n",
    "sol.x"
   ]
  },
  {
   "cell_type": "code",
   "execution_count": 127,
   "metadata": {},
   "outputs": [
    {
     "data": {
      "text/plain": [
       "0.16666666666666655"
      ]
     },
     "execution_count": 127,
     "metadata": {},
     "output_type": "execute_result"
    }
   ],
   "source": [
    "f(sol.x)"
   ]
  },
  {
   "cell_type": "code",
   "execution_count": 131,
   "metadata": {},
   "outputs": [
    {
     "data": {
      "text/plain": [
       "0.16666749999583333"
      ]
     },
     "execution_count": 131,
     "metadata": {},
     "output_type": "execute_result"
    }
   ],
   "source": [
    "f([1,1e-5,1,1])"
   ]
  },
  {
   "cell_type": "code",
   "execution_count": null,
   "metadata": {},
   "outputs": [],
   "source": []
  }
 ],
 "metadata": {
  "kernelspec": {
   "display_name": "Python 3",
   "language": "python",
   "name": "python3"
  },
  "language_info": {
   "codemirror_mode": {
    "name": "ipython",
    "version": 3
   },
   "file_extension": ".py",
   "mimetype": "text/x-python",
   "name": "python",
   "nbconvert_exporter": "python",
   "pygments_lexer": "ipython3",
   "version": "3.6.5"
  }
 },
 "nbformat": 4,
 "nbformat_minor": 2
}
