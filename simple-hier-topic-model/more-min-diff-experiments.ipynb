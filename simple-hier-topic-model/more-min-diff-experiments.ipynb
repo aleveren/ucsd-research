{
 "cells": [
  {
   "cell_type": "code",
   "execution_count": 1,
   "metadata": {},
   "outputs": [],
   "source": [
    "import numpy as np\n",
    "import matplotlib.pyplot as plt\n",
    "import networkx as nx\n",
    "import sympy as sp\n",
    "from scipy.optimize import minimize\n",
    "from IPython.display import display, Math"
   ]
  },
  {
   "cell_type": "code",
   "execution_count": 2,
   "metadata": {},
   "outputs": [],
   "source": [
    "from example_graphs import make_tree\n",
    "from utils import nice_tree_plot, without_diag\n",
    "from compute_pam import compute_combo_tensor_pam, IndividualNodeAlphaCalc\n",
    "from tree_extraction.Aho import get_ratio_matrix"
   ]
  },
  {
   "cell_type": "code",
   "execution_count": 3,
   "metadata": {},
   "outputs": [],
   "source": [
    "def get_min_diff_from_ratio_matrix(ratio_matrix, return_dict = False):\n",
    "    dropped_diagonal = []\n",
    "    for i in range(ratio_matrix.shape[0]):\n",
    "        sortedRow = sorted(list(ratio_matrix[i, :i]) + list(ratio_matrix[i, i+1:]))\n",
    "        dropped_diagonal.append(sortedRow)\n",
    "    dropped_diagonal = np.array(dropped_diagonal).round(decimals = 10)\n",
    "    diffs = np.diff(dropped_diagonal, axis=1)\n",
    "    unique_values = np.unique(dropped_diagonal)\n",
    "    min_diff = np.min(np.diff(unique_values))\n",
    "    \n",
    "    if return_dict:\n",
    "        return dict(\n",
    "            dropped_diagonal = dropped_diagonal,\n",
    "            diffs = diffs,\n",
    "            unique_values = unique_values,\n",
    "            min_diff = min_diff,\n",
    "        )\n",
    "    else:\n",
    "        return min_diff\n",
    "\n",
    "def get_min_diff_from_graph(g, alphas, return_dict = False):\n",
    "    R, lp = compute_combo_tensor_pam(\n",
    "        g,\n",
    "        alpha=IndividualNodeAlphaCalc(g, alphas),\n",
    "        return_leaf_paths=True)\n",
    "    C = get_ratio_matrix(R)\n",
    "\n",
    "    result = get_min_diff_from_ratio_matrix(C, return_dict = return_dict)\n",
    "\n",
    "    if return_dict:\n",
    "        result[\"R\"] = R\n",
    "        result[\"C\"] = C\n",
    "    return result"
   ]
  },
  {
   "cell_type": "code",
   "execution_count": 4,
   "metadata": {},
   "outputs": [],
   "source": [
    "class SharedCalc(object):\n",
    "    def _init_all(self):\n",
    "        if not hasattr(self, \"verbose\"):\n",
    "            self.verbose = False\n",
    "        self._init_graph()\n",
    "        self._init_sum_alphas()\n",
    "        self._init_matrices()\n",
    "        self._init_diffs()\n",
    "    \n",
    "    @classmethod\n",
    "    def get_offset(cls, b, factor = 10):\n",
    "        offset = factor\n",
    "        while np.max(b) + 1 >= offset:\n",
    "            offset *= factor\n",
    "        return offset\n",
    "\n",
    "    def _init_graph(self):\n",
    "        s2 = self.s2\n",
    "        b = self.b\n",
    "        alphas_by_depth = self.alphas_by_depth\n",
    "        offset = self.offset\n",
    "\n",
    "        triplet = [0, 0, 0]\n",
    "\n",
    "        alphas = dict()\n",
    "        g = nx.DiGraph()\n",
    "        g.graph[\"root\"] = 0\n",
    "        for i in range(len(b)):\n",
    "            for j in range(b[i]):\n",
    "                srcIndex = i * offset\n",
    "                dstIndex = j + (i + 1) * offset\n",
    "                g.add_edge(srcIndex, dstIndex)\n",
    "                alphas[dstIndex] = alphas_by_depth[i]\n",
    "                if i == 0 and j == b[i] - 1:\n",
    "                    triplet[2] = dstIndex\n",
    "                if i == s2 and j == 1:\n",
    "                    triplet[0] = dstIndex\n",
    "                if i == s2 and j == 2:\n",
    "                    triplet[1] = dstIndex\n",
    "                if i == s2 and s2 == len(b) - 1 and j == 0:\n",
    "                    triplet[1] = dstIndex\n",
    "                    \n",
    "        self.g = g\n",
    "        self.triplet = triplet\n",
    "        self.alphas = alphas\n",
    "        \n",
    "    def _init_matrices(self):\n",
    "        self.R, lp = compute_combo_tensor_pam(self.g,\n",
    "            alpha = IndividualNodeAlphaCalc(self.g, self.alphas),\n",
    "            return_leaf_paths = True)\n",
    "        self.C = get_ratio_matrix(self.R)\n",
    "        \n",
    "        self.leaves = [p[-1] for p in lp]\n",
    "        self.leaf_to_index = {k: i for i, k in enumerate(self.leaves)}\n",
    "        \n",
    "    def _init_diffs(self):\n",
    "        C = self.C\n",
    "\n",
    "        result = get_min_diff_from_ratio_matrix(C, return_dict = True)\n",
    "\n",
    "        self.dropped_diagonal = result[\"dropped_diagonal\"]\n",
    "        self.diffs = result[\"diffs\"]\n",
    "        self.unique_values = result[\"unique_values\"]\n",
    "        self.min_diff = result[\"min_diff\"]\n",
    "        \n",
    "        i, j, k = [self.leaf_to_index[x] for x in self.triplet]\n",
    "        self.triplet_diff = self.C[i, j] - self.C[i, k]\n",
    "        \n",
    "    def _init_sum_alphas(self):\n",
    "        result = dict()\n",
    "        for n in self.g.nodes():\n",
    "            nbrs = list(self.g.neighbors(n))\n",
    "            if len(nbrs) == 0:\n",
    "                continue\n",
    "            result[n] = np.sum([self.alphas[x] for x in nbrs])\n",
    "        self.sum_alphas = result\n",
    "        \n",
    "        delta_dict = dict()\n",
    "        for n in self.g.nodes():\n",
    "            if n in self.alphas and n in self.sum_alphas:\n",
    "                # Note: `alphas` corresponds to parent->n, whereas `sum_alphas` corresponds to n->children\n",
    "                delta_dict[n] = self.sum_alphas[n] - self.alphas[n]\n",
    "        self.observed_dmin = np.min(list(delta_dict.values()))\n",
    "        self.delta_dict = delta_dict"
   ]
  },
  {
   "cell_type": "code",
   "execution_count": 5,
   "metadata": {},
   "outputs": [],
   "source": [
    "class Analysis1(SharedCalc):\n",
    "    def __init__(self, s1, s2, b, dmin, alpha0):\n",
    "        self.s1 = s1\n",
    "        self.s2 = s2\n",
    "        self.b = b\n",
    "        self.dmin = dmin\n",
    "        self.alpha0 = alpha0\n",
    "        self.alphas_by_depth = self.get_alphas_by_depth()\n",
    "        self.offset = self.get_offset(b)\n",
    "        self._init_all()\n",
    "\n",
    "    def get_alphas_by_depth(self):\n",
    "        alphas_by_depth = [self.alpha0]\n",
    "        for i in range(len(self.b) - 1):\n",
    "            a = (self.dmin + alphas_by_depth[-1]) / self.b[i+1]\n",
    "            alphas_by_depth.append(a)\n",
    "        alphas_by_depth = np.array(alphas_by_depth, dtype='float')\n",
    "        return alphas_by_depth"
   ]
  },
  {
   "cell_type": "code",
   "execution_count": 6,
   "metadata": {},
   "outputs": [
    {
     "name": "stdout",
     "output_type": "stream",
     "text": [
      "####################\n",
      "{'s1': 0, 's2': 1, 'b': array([3, 4, 5, 6]), 'dmin': 0.1, 'alpha0': 1.0}\n",
      "triplet: [21, 22, 12]\n",
      "sum_alphas: {0: 3.0, 10: 1.1, 20: 0.375, 30: 0.175}\n",
      "observed dmin: 0.09999999999999998\n",
      "min diff:     0.035714285700000015\n",
      "example diff: 0.035714285714285254\n",
      "####################\n",
      "{'s1': 0, 's2': 1, 'b': array([2, 2]), 'dmin': 0.1, 'alpha0': 1.0}\n",
      "triplet: [21, 20, 11]\n",
      "sum_alphas: {0: 2.0, 10: 1.1}\n",
      "observed dmin: 0.10000000000000009\n",
      "min diff:     0.03174603170000001\n",
      "example diff: 0.03174603174603163\n",
      "####################\n",
      "{'s1': 0, 's2': 1, 'b': array([  2, 100]), 'dmin': 0.1, 'alpha0': 1.0}\n",
      "triplet: [2001, 2002, 1001]\n",
      "sum_alphas: {0: 2.0, 1000: 1.0999999999999994}\n",
      "observed dmin: 0.09999999999999942\n",
      "min diff:     0.03174603170000001\n",
      "example diff: 0.03174603174603219\n",
      "####################\n",
      "{'s1': 0, 's2': 1, 'b': array([100,   2]), 'dmin': 0.1, 'alpha0': 1.0}\n",
      "triplet: [2001, 2000, 1099]\n",
      "sum_alphas: {0: 100.0, 1000: 1.1}\n",
      "observed dmin: 0.10000000000000009\n",
      "min diff:     0.047147571900000074\n",
      "example diff: 0.047147571900046925\n"
     ]
    }
   ],
   "source": [
    "analysis_specs = [\n",
    "    dict(s1 = 0, s2 = 1, b = np.array([3,4,5,6]), dmin = 0.1, alpha0 = 1.0),\n",
    "    #dict(s1 = 0, s2 = 2, b = np.array([3,4,5,6]), dmin = 0.1, alpha0 = 1.0),\n",
    "    #dict(s1 = 0, s2 = 3, b = np.array([3,4,5,6]), dmin = 0.1, alpha0 = 1.0),\n",
    "    dict(s1 = 0, s2 = 1, b = np.array([2,2]), dmin = 0.1, alpha0 = 1.0),\n",
    "    dict(s1 = 0, s2 = 1, b = np.array([2,100]), dmin = 0.1, alpha0 = 1.0),\n",
    "    dict(s1 = 0, s2 = 1, b = np.array([100,2]), dmin = 0.1, alpha0 = 1.0),\n",
    "]\n",
    "for spec in analysis_specs:\n",
    "    print(\"#\" * 20)\n",
    "    print(spec)\n",
    "    a = Analysis1(**spec)\n",
    "    #nice_tree_plot(a.g)\n",
    "    #plt.show()\n",
    "    print(\"triplet:\", a.triplet)\n",
    "    print(\"sum_alphas:\", a.sum_alphas)\n",
    "    #print(\"alphas:\", a.alphas)\n",
    "    print(\"observed dmin:\", a.observed_dmin)\n",
    "    print(\"min diff:    \", a.min_diff)\n",
    "    print(\"example diff:\", a.triplet_diff)"
   ]
  },
  {
   "cell_type": "markdown",
   "metadata": {},
   "source": [
    "## Alternate analysis"
   ]
  },
  {
   "cell_type": "code",
   "execution_count": 7,
   "metadata": {},
   "outputs": [],
   "source": [
    "class Analysis2(SharedCalc):\n",
    "    def __init__(self, s1, s2, b, alpha):\n",
    "        self.s1 = s1\n",
    "        self.s2 = s2\n",
    "        self.b = b\n",
    "        self.alphas_by_depth = alpha\n",
    "        self.offset = self.get_offset(b)\n",
    "        self._init_all()"
   ]
  },
  {
   "cell_type": "code",
   "execution_count": 8,
   "metadata": {},
   "outputs": [
    {
     "name": "stdout",
     "output_type": "stream",
     "text": [
      "####################\n",
      "{'s1': 0, 's2': 1, 'b': array([2, 2]), 'alpha': array([0.01, 1.  ])}\n"
     ]
    },
    {
     "data": {
      "image/png": "[encoded data removed]",
      "text/plain": [
       "<Figure size 432x288 with 1 Axes>"
      ]
     },
     "metadata": {},
     "output_type": "display_data"
    },
    {
     "name": "stdout",
     "output_type": "stream",
     "text": [
      "triplet: [21, 20, 11]\n",
      "sum_alphas: {0: 0.02, 10: 2.0}\n",
      "alphas: {10: 0.01, 11: 0.01, 20: 1.0, 21: 1.0}\n",
      "observed dmin: 1.99\n",
      "observed deltas: {10: 1.99}\n",
      "min diff:     1.3006535948\n",
      "example diff: 1.3006535947712423\n"
     ]
    }
   ],
   "source": [
    "analysis_specs = [\n",
    "    #dict(s1 = 0, s2 = 1, b = np.array([3,4,5,6]), alpha = np.array([1, 1, 1, 1], dtype='float')),\n",
    "    #dict(s1 = 0, s2 = 2, b = np.array([2,2,2]), alpha = np.array([3, 3.5, 1])),\n",
    "    dict(s1 = 0, s2 = 1, b = np.array([2,2]), alpha = np.array([1/100,1])),\n",
    "    #dict(s1 = 0, s2 = 1, b = np.array([3,4]), alpha = np.array([1, 1], dtype='float')),\n",
    "    #dict(s1 = 0, s2 = 1, b = np.array([2,2]), alpha = np.array([1, 1], dtype='float')),\n",
    "    #dict(s1 = 0, s2 = 1, b = np.array([2,2]), alpha = np.array([10, 10], dtype='float')),\n",
    "    #dict(s1 = 0, s2 = 1, b = np.array([2,100]), alpha = np.array([10, .00001], dtype='float')),\n",
    "    #dict(s1 = 0, s2 = 1, b = np.array([2,100]), alpha = np.array([1, 1], dtype='float')),\n",
    "    #dict(s1 = 0, s2 = 1, b = np.array([100,2]), alpha = np.array([1, 1], dtype='float')),\n",
    "    #dict(s1 = 0, s2 = 1, b = np.array([100,100]), alpha = np.array([1, 1], dtype='float')),\n",
    "]\n",
    "for spec in analysis_specs:\n",
    "    print(\"#\" * 20)\n",
    "    print(spec)\n",
    "    a = Analysis2(**spec)\n",
    "    nice_tree_plot(a.g)\n",
    "    plt.show()\n",
    "    print(\"triplet:\", a.triplet)\n",
    "    print(\"sum_alphas:\", a.sum_alphas)\n",
    "    print(\"alphas:\", a.alphas)\n",
    "    print(\"observed dmin:\", a.observed_dmin)\n",
    "    print(\"observed deltas:\", a.delta_dict)\n",
    "    print(\"min diff:    \", a.min_diff)\n",
    "    print(\"example diff:\", a.triplet_diff)"
   ]
  },
  {
   "cell_type": "code",
   "execution_count": 9,
   "metadata": {},
   "outputs": [
    {
     "data": {
      "text/plain": [
       "array([[1.98039216, 0.01960784, 0.01960784],\n",
       "       [0.01960784, 2.64052288, 1.32026144],\n",
       "       [0.01960784, 1.32026144, 2.64052288]])"
      ]
     },
     "execution_count": 9,
     "metadata": {},
     "output_type": "execute_result"
    }
   ],
   "source": [
    "a.C"
   ]
  },
  {
   "cell_type": "code",
   "execution_count": 10,
   "metadata": {},
   "outputs": [],
   "source": [
    "def fz(b0, b1, a0, a1):\n",
    "    return b0 / (1 + b0*a0) * ((b1*a1 - a0) / (1 + b1*a1))"
   ]
  },
  {
   "cell_type": "code",
   "execution_count": 11,
   "metadata": {},
   "outputs": [
    {
     "data": {
      "text/plain": [
       "0.2222222222222222"
      ]
     },
     "execution_count": 11,
     "metadata": {},
     "output_type": "execute_result"
    }
   ],
   "source": [
    "fz(2,2,1,1)"
   ]
  },
  {
   "cell_type": "code",
   "execution_count": 12,
   "metadata": {},
   "outputs": [
    {
     "data": {
      "text/plain": [
       "0.0"
      ]
     },
     "execution_count": 12,
     "metadata": {},
     "output_type": "execute_result"
    }
   ],
   "source": [
    "fz(2,7,1,1/7)"
   ]
  },
  {
   "cell_type": "code",
   "execution_count": 13,
   "metadata": {},
   "outputs": [
    {
     "data": {
      "text/plain": [
       "1.9509316164276658"
      ]
     },
     "execution_count": 13,
     "metadata": {},
     "output_type": "execute_result"
    }
   ],
   "source": [
    "fz(2,200,1/100,1)"
   ]
  },
  {
   "cell_type": "code",
   "execution_count": 14,
   "metadata": {},
   "outputs": [
    {
     "data": {
      "text/plain": [
       "1.3006535947712419"
      ]
     },
     "execution_count": 14,
     "metadata": {},
     "output_type": "execute_result"
    }
   ],
   "source": [
    "fz(2,2,1/100,1)"
   ]
  },
  {
   "cell_type": "code",
   "execution_count": 15,
   "metadata": {},
   "outputs": [
    {
     "name": "stdout",
     "output_type": "stream",
     "text": [
      "{'fun': <function c1 at 0x10e92aea0>, 'type': 'ineq', 'args': (1.0,)}\n",
      "    [59.]\n",
      "{'fun': <function mk_constr.<locals>.<lambda> at 0x10e92ad08>, 'type': 'ineq'}\n",
      "    10\n",
      "{'fun': <function c2 at 0x10e92ae18>, 'type': 'ineq', 'args': (0, 1.0)}\n",
      "    -9.0\n",
      "{'fun': <function mk_constr.<locals>.<lambda> at 0x10e92ac80>, 'type': 'ineq'}\n",
      "    20\n",
      "{'fun': <function c2 at 0x10e92ae18>, 'type': 'ineq', 'args': (1, 1.0)}\n",
      "    -19.0\n",
      "{'fun': <function mk_constr.<locals>.<lambda> at 0x10e92abf8>, 'type': 'ineq'}\n",
      "    30\n",
      "{'fun': <function c2 at 0x10e92ae18>, 'type': 'ineq', 'args': (2, 1.0)}\n",
      "    -29.0\n",
      "{'fun': <function mk_constr.<locals>.<lambda> at 0x10e92ab70>, 'type': 'ineq'}\n",
      "    40\n",
      "{'fun': <function c2 at 0x10e92ae18>, 'type': 'ineq', 'args': (3, 1.0)}\n",
      "    -39.0\n"
     ]
    }
   ],
   "source": [
    "dmin = 1.0\n",
    "alpha_max = 1.0\n",
    "\n",
    "def f(x):\n",
    "    a1, a2, a3, a4 = x\n",
    "    return (a1 + a2) / (1 + a1 + a2) * ((a3 + a4) * (1 + a1) / ((1 + a3 + a4) * (a1)) - 1)\n",
    "\n",
    "def c1(x, dmin):\n",
    "    a1, a2, a3, a4 = np.atleast_2d(x).transpose()\n",
    "    r = a3 + a4\n",
    "    r = r - a1\n",
    "    r = r - dmin\n",
    "    return r\n",
    "\n",
    "def c2(x, i, alpha_max):\n",
    "    return alpha_max - np.asarray(x)[..., i]\n",
    "\n",
    "constrs = [\n",
    "    dict(fun=c1, type='ineq', args=(dmin,))\n",
    "]\n",
    "\n",
    "def mk_constr(index):\n",
    "    return lambda x: np.asarray(x)[..., index]\n",
    "\n",
    "for i in range(4):\n",
    "    zz = mk_constr(i)\n",
    "    constrs.append(dict(fun=zz, type='ineq'))\n",
    "    constrs.append(dict(fun=c2, type='ineq', args=(i, alpha_max)))\n",
    "\n",
    "for i, c in enumerate(constrs):\n",
    "    print(c)\n",
    "    print('   ', c['fun']([10,20,30,40], *c.get('args', ())))"
   ]
  },
  {
   "cell_type": "code",
   "execution_count": 16,
   "metadata": {},
   "outputs": [],
   "source": [
    "sol = minimize(f, x0 = [1,1,1,1], constraints=constrs, method='SLSQP')"
   ]
  },
  {
   "cell_type": "code",
   "execution_count": 17,
   "metadata": {},
   "outputs": [
    {
     "name": "stdout",
     "output_type": "stream",
     "text": [
      "Optimization terminated successfully.\n",
      "0.16666666666666655\n"
     ]
    },
    {
     "data": {
      "text/plain": [
       "array([1., 0., 1., 1.])"
      ]
     },
     "execution_count": 17,
     "metadata": {},
     "output_type": "execute_result"
    }
   ],
   "source": [
    "print(sol.message)\n",
    "print(sol.fun)\n",
    "sol.x"
   ]
  },
  {
   "cell_type": "code",
   "execution_count": 18,
   "metadata": {},
   "outputs": [
    {
     "data": {
      "text/plain": [
       "0.16666666666666655"
      ]
     },
     "execution_count": 18,
     "metadata": {},
     "output_type": "execute_result"
    }
   ],
   "source": [
    "f(sol.x)"
   ]
  },
  {
   "cell_type": "code",
   "execution_count": 19,
   "metadata": {},
   "outputs": [
    {
     "data": {
      "text/plain": [
       "0.16666749999583333"
      ]
     },
     "execution_count": 19,
     "metadata": {},
     "output_type": "execute_result"
    }
   ],
   "source": [
    "f([1,1e-5,1,1])"
   ]
  },
  {
   "cell_type": "markdown",
   "metadata": {},
   "source": [
    "## Yet another alternate analysis"
   ]
  },
  {
   "cell_type": "code",
   "execution_count": 20,
   "metadata": {},
   "outputs": [],
   "source": [
    "def min_diff(alpha_a_vec, alpha_other_vec, alpha_b, alpha_c, s1, s2, verbose = False):\n",
    "    assert s1 != s2\n",
    "    def f(k):\n",
    "        s = alpha_a_vec[..., k] + alpha_other_vec[..., k]\n",
    "        if k == s1:\n",
    "            s += alpha_c\n",
    "        elif k == s2:\n",
    "            s += alpha_b\n",
    "        return s / (1 + s)\n",
    "    def g(k):\n",
    "        return alpha_a_vec[..., k] / (1 + alpha_a_vec[..., k])\n",
    "    result = f(0)\n",
    "    if verbose: print(\"DEBUG: f(0) = {}\".format(f(0)))\n",
    "    for k in range(1, s1+1):\n",
    "        if verbose: print(\"DEBUG: k = {0}, f(k) / g(k-1) = f({0}) / g({1}) = {2} / {3} = {4}\".format(k, k - 1, f(k), g(k-1), f(k) / g(k-1)))\n",
    "        result *= f(k) / g(k-1)\n",
    "    factor = 1\n",
    "    for k in range(s1+1, s2+1):\n",
    "        if verbose: print(\"DEBUG: k = {0}, f(k) / g(k-1) = f({0}) / g({1}) = {2} / {3} = {4}\".format(k, k - 1, f(k), g(k-1), f(k) / g(k-1)))\n",
    "        factor *= f(k) / g(k-1)\n",
    "    if verbose: print(\"DEBUG: factor = {}, factor - 1 = {}\".format(factor, factor - 1))\n",
    "    result *= factor - 1\n",
    "    if verbose: print(\"DEBUG: result = {}\".format(result))\n",
    "    return result"
   ]
  },
  {
   "cell_type": "code",
   "execution_count": 21,
   "metadata": {},
   "outputs": [],
   "source": [
    "def make_objective(s1, s2, verbose = False):\n",
    "    def objective(x):\n",
    "        alpha_a_vec = x[..., :s2+1]\n",
    "        alpha_other_vec = x[..., s2+1:s2*2+2]\n",
    "        alpha_b = x[..., s2*2+2]\n",
    "        alpha_c = x[..., s2*2+3]\n",
    "        if verbose:\n",
    "            print(alpha_a_vec)\n",
    "            print(alpha_other_vec)\n",
    "            print(alpha_b)\n",
    "            print(alpha_c)\n",
    "        return min_diff(alpha_a_vec, alpha_other_vec, alpha_b, alpha_c, s1, s2, verbose = verbose)\n",
    "    return objective"
   ]
  },
  {
   "cell_type": "code",
   "execution_count": 22,
   "metadata": {},
   "outputs": [],
   "source": [
    "s1 = 0\n",
    "s2 = 1"
   ]
  },
  {
   "cell_type": "code",
   "execution_count": 23,
   "metadata": {},
   "outputs": [
    {
     "name": "stdout",
     "output_type": "stream",
     "text": [
      "[10 20]\n",
      "[30 40]\n",
      "50\n",
      "60\n",
      "DEBUG: f(0) = 0.9900990099009901\n",
      "DEBUG: k = 1, f(k) / g(k-1) = f(1) / g(0) = 0.990990990990991 / 0.9090909090909091 = 1.09009009009009\n",
      "DEBUG: factor = 1.09009009009009, factor - 1 = 0.09009009009009006\n",
      "DEBUG: result = 0.08919810900008916\n"
     ]
    },
    {
     "data": {
      "text/plain": [
       "0.08919810900008916"
      ]
     },
     "execution_count": 23,
     "metadata": {},
     "output_type": "execute_result"
    }
   ],
   "source": [
    "make_objective(s1, s2, verbose=True)(np.array([10, 20, 30, 40, 50, 60]))"
   ]
  },
  {
   "cell_type": "code",
   "execution_count": 24,
   "metadata": {},
   "outputs": [
    {
     "data": {
      "text/plain": [
       "     fun: 0.0238095238095204\n",
       "     jac: array([-0.25000001,  0.22675737,  0.01190476,  0.22675737,  0.22675737,\n",
       "        0.01190476])\n",
       " message: 'Optimization terminated successfully.'\n",
       "    nfev: 64\n",
       "     nit: 8\n",
       "    njev: 8\n",
       "  status: 0\n",
       " success: True\n",
       "       x: array([ 1.00000000e+00,  3.66666667e-01, -2.18353113e-13,  3.66666667e-01,\n",
       "        3.66666667e-01, -1.81993309e-13])"
      ]
     },
     "execution_count": 24,
     "metadata": {},
     "output_type": "execute_result"
    }
   ],
   "source": [
    "aav_0 = np.array([1,1])\n",
    "aov_0 = np.array([1,1])\n",
    "ab_0 = 1\n",
    "ac_0 = 1\n",
    "\n",
    "max_alpha = 1\n",
    "min_delta = 0.1\n",
    "\n",
    "size_o = np.array([1, 1])\n",
    "\n",
    "def mk_c(i):\n",
    "    return lambda x: x[..., i]\n",
    "def mk_c2(i):\n",
    "    if i < s2 + 1 or i >= s2*2 + 2:\n",
    "        ceiling = max_alpha\n",
    "    else:\n",
    "        ceiling = max_alpha * size_o[i - (s2 + 1)]\n",
    "    return lambda x: ceiling - x[..., i]\n",
    "def mk_c3(i):\n",
    "    def c(x):\n",
    "        alpha_a_vec = x[..., :s2+1]\n",
    "        alpha_other_vec = x[..., s2+1:s2*2+2]\n",
    "        alpha_b = x[..., s2*2+2]\n",
    "        alpha_c = x[..., s2*2+3]\n",
    "        if i == s1:\n",
    "            return alpha_a_vec[i] + alpha_other_vec[i] + alpha_c - alpha_a_vec[i-1] - min_delta\n",
    "        elif i == s2:\n",
    "            return alpha_a_vec[i] + alpha_other_vec[i] + alpha_b - alpha_a_vec[i-1] - min_delta\n",
    "        else:\n",
    "            return alpha_a_vec[i] + alpha_other_vec[i] - alpha_a_vec[i-1] - min_delta\n",
    "    return c\n",
    "constrs = []\n",
    "for i in range(2 * (s2+1) + 2):\n",
    "    constrs.append(dict(fun = mk_c(i), type='ineq'))\n",
    "    constrs.append(dict(fun = mk_c2(i), type='ineq'))\n",
    "for i in range(1, s2 + 1):\n",
    "    constrs.append(dict(fun = mk_c3(i), type='ineq'))\n",
    "    \n",
    "x0 = np.array(list(aav_0) + list(aov_0) + [ab_0, ac_0])\n",
    "sol = minimize(make_objective(s1, s2), x0 = x0, constraints = constrs)\n",
    "sol"
   ]
  },
  {
   "cell_type": "code",
   "execution_count": 25,
   "metadata": {},
   "outputs": [
    {
     "data": {
      "image/png": "[encoded data removed]",
      "text/plain": [
       "<Figure size 432x288 with 1 Axes>"
      ]
     },
     "metadata": {},
     "output_type": "display_data"
    }
   ],
   "source": [
    "plt.bar(np.arange(len(sol.x)), sol.x);"
   ]
  },
  {
   "cell_type": "code",
   "execution_count": 26,
   "metadata": {},
   "outputs": [
    {
     "name": "stdout",
     "output_type": "stream",
     "text": [
      "[1.         0.36666667]\n",
      "[-2.18353113e-13  3.66666667e-01]\n",
      "0.36666666666666703\n",
      "-1.8199330931167879e-13\n",
      "DEBUG: f(0) = 0.4999999999998999\n",
      "DEBUG: k = 1, f(k) / g(k-1) = f(1) / g(0) = 0.5238095238095251 / 0.49999999999999994 = 1.0476190476190503\n",
      "DEBUG: factor = 1.0476190476190503, factor - 1 = 0.047619047619050336\n",
      "DEBUG: result = 0.0238095238095204\n"
     ]
    },
    {
     "data": {
      "text/plain": [
       "0.0238095238095204"
      ]
     },
     "execution_count": 26,
     "metadata": {},
     "output_type": "execute_result"
    }
   ],
   "source": [
    "make_objective(s1, s2, verbose=True)(sol.x)"
   ]
  },
  {
   "cell_type": "code",
   "execution_count": 27,
   "metadata": {},
   "outputs": [
    {
     "name": "stdout",
     "output_type": "stream",
     "text": [
      "0-mk_c\t0.9999999999999999\n",
      "1-mk_c2\t1.1102230246251565e-16\n",
      "2-mk_c\t0.36666666666668285\n",
      "3-mk_c2\t0.6333333333333171\n",
      "4-mk_c\t-2.1835311336815266e-13\n",
      "5-mk_c2\t1.0000000000002183\n",
      "6-mk_c\t0.3666666666666556\n",
      "7-mk_c2\t0.6333333333333444\n",
      "8-mk_c\t0.36666666666666703\n",
      "9-mk_c2\t0.633333333333333\n",
      "10-mk_c\t-1.8199330931167879e-13\n",
      "11-mk_c2\t1.000000000000182\n",
      "12-mk_c3\t5.523359547510154e-15\n"
     ]
    },
    {
     "data": {
      "image/png": "[encoded data removed]",
      "text/plain": [
       "<Figure size 432x288 with 1 Axes>"
      ]
     },
     "metadata": {},
     "output_type": "display_data"
    }
   ],
   "source": [
    "xvals = []\n",
    "vals = []\n",
    "for i, c in enumerate(constrs):\n",
    "    name = c[\"fun\"].__qualname__.split('.')[0]\n",
    "    name = str(i) + '-' + name\n",
    "    v = c[\"fun\"](sol.x)\n",
    "    print(name, v, sep='\\t')\n",
    "    xvals.append(name)\n",
    "    vals.append(v)\n",
    "\n",
    "fig, ax = plt.subplots()    \n",
    "ax.bar(xvals, vals);\n",
    "ax.tick_params(axis='x',rotation=90)"
   ]
  },
  {
   "cell_type": "markdown",
   "metadata": {},
   "source": [
    "## Trying again...\n",
    "\n",
    "Minimize\n",
    "$$\\frac{\\alpha_{0} + \\alpha_{02} + b_0\\alpha_{0x}}{1 + \\alpha_{0} + \\alpha_{02} + b_0\\alpha_{0x}}\n",
    "    \\left[ \\frac{\\alpha_{1} + \\alpha_{12} + b_1\\alpha_{1x}}{1 + \\alpha_{1} + \\alpha_{12} + b_1\\alpha_{1x}} \\cdot\n",
    "    \\frac{1 + \\alpha_{0}}{\\alpha_{0}} - 1 \\right]\n",
    "    =\n",
    "    \\frac{\\alpha_{0} + \\alpha_{02} + b_0\\alpha_{0x}}{1 + \\alpha_{0} + \\alpha_{02} + b_0\\alpha_{0x}}\n",
    "    \\cdot\n",
    "    \\frac{\\alpha_{1} + \\alpha_{12} + b_1\\alpha_{1x} - \\alpha_{0}}\n",
    "         {\\left( 1 + \\alpha_{1} + \\alpha_{12} + b_1\\alpha_{1x} \\right) \\alpha_{0}}\n",
    "    $$\n",
    "(with $b_0$, $b_1$ being fixed non-negative integers)\n",
    "subject to each $\\alpha$ variable being between $0$ and $\\alpha_\\text{max}$, and also\n",
    "$$\n",
    "\\alpha_{1} + \\alpha_{12} + b_1\\alpha_{1x} - \\alpha_{0} \\geq \\delta_\\text{min}\n",
    "$$"
   ]
  },
  {
   "cell_type": "code",
   "execution_count": 28,
   "metadata": {},
   "outputs": [],
   "source": [
    "def depth_2_minimize(min_delta, max_alpha, size_o, x0 = None, minimize_params = None):\n",
    "    # Note: size_o contains number of \"other\" elements bundled into to alpha_{kx} at each depth\n",
    "\n",
    "    if x0 is None:\n",
    "        x0 = np.ones(6)\n",
    "    if minimize_params is None:\n",
    "        minimize_params = dict()\n",
    "    \n",
    "    def f(a):\n",
    "        sum0 = (a[0] + a[1] + a[2])\n",
    "        sum1 = (a[3] + a[4] + a[5])\n",
    "        return (sum0 * (sum1 - a[0])) / ((1 + sum0) * (1 + sum1) * a[0])\n",
    "\n",
    "    def c(a):\n",
    "        sum1 = (a[3] + a[4] + a[5])\n",
    "        return sum1 - a[0] - min_delta\n",
    "\n",
    "    constrs = [\n",
    "        dict(fun = c, type = 'ineq'),\n",
    "    ]\n",
    "    def bounds(i):\n",
    "        if i == 2:\n",
    "            factor = size_o[0]\n",
    "        elif i == 5:\n",
    "            factor = size_o[1]\n",
    "        else:\n",
    "            factor = 1\n",
    "        return [\n",
    "            dict(fun = lambda a: a[i], type = 'ineq'),\n",
    "            dict(fun = lambda a: max_alpha * factor - a[i], type = 'ineq'),\n",
    "        ]\n",
    "\n",
    "    for i in range(6):\n",
    "        constrs.extend(bounds(i))\n",
    "        \n",
    "    sol = minimize(f, x0 = x0, constraints = constrs, **minimize_params)\n",
    "    sol.labels = [\n",
    "        r\"$\\alpha_{0}$\",\n",
    "        r\"$\\alpha_{02}$\",\n",
    "        r\"$b_0\\alpha_{0x}$\",\n",
    "        r\"$\\alpha_{1}$\",\n",
    "        r\"$\\alpha_{12}$\",\n",
    "        r\"$b_1\\alpha_{1x}$\",\n",
    "    ]\n",
    "    sol.min_delta = min_delta\n",
    "    sol.max_alpha = max_alpha\n",
    "    sol.size_o = size_o\n",
    "    sol.margin = c(sol.x) + min_delta\n",
    "    return sol"
   ]
  },
  {
   "cell_type": "code",
   "execution_count": 29,
   "metadata": {},
   "outputs": [],
   "source": [
    "def barplot_sol(sol, ax=None):\n",
    "    if ax is None:\n",
    "        fig, ax = plt.subplots()\n",
    "    ax.bar(sol.labels, sol.x)\n",
    "    ax.tick_params(axis='x', rotation=90)\n",
    "    ax.set_title(r\"$\\delta_{{min}} = {:g}, \\alpha_{{max}} = {:g}, size_{{other}} = {}$\"\n",
    "             .format(sol.min_delta, sol.max_alpha, sol.size_o))"
   ]
  },
  {
   "cell_type": "code",
   "execution_count": 30,
   "metadata": {},
   "outputs": [
    {
     "name": "stdout",
     "output_type": "stream",
     "text": [
      "Optimization terminated successfully.\n",
      "Limited-sparsity margin: 1.0000000000000004\n",
      "Optimum x: [ 1.00000000e+00  1.11022302e-16 -6.41198784e-18  1.00000000e+00\n",
      "  1.00000000e+00  5.05998765e-17]\n",
      "Optimum objective: 0.16666666666666674\n"
     ]
    },
    {
     "data": {
      "image/png": "[encoded data removed]",
      "text/plain": [
       "<Figure size 432x288 with 1 Axes>"
      ]
     },
     "metadata": {},
     "output_type": "display_data"
    }
   ],
   "source": [
    "sol = depth_2_minimize(\n",
    "    min_delta = 1.0,\n",
    "    max_alpha = 1.0,\n",
    "    size_o = [0, 0],\n",
    ")\n",
    "print(sol.message)\n",
    "print(\"Limited-sparsity margin:\", sol.margin)\n",
    "print(\"Optimum x:\", sol.x)\n",
    "print(\"Optimum objective:\", sol.fun)\n",
    "barplot_sol(sol)"
   ]
  },
  {
   "cell_type": "code",
   "execution_count": 31,
   "metadata": {},
   "outputs": [
    {
     "name": "stdout",
     "output_type": "stream",
     "text": [
      "Optimization terminated successfully.\n",
      "Limited-sparsity margin: 1.0\n",
      "Optimum x: [ 7.17173377e+05  1.28938170e+03 -9.79881196e-25  3.58587188e+05\n",
      "  3.58587188e+05 -6.52578758e-28]\n",
      "Optimum objective: 1.9442399651510373e-12\n"
     ]
    },
    {
     "data": {
      "image/png": "[encoded data removed]",
      "text/plain": [
       "<Figure size 432x288 with 1 Axes>"
      ]
     },
     "metadata": {},
     "output_type": "display_data"
    }
   ],
   "source": [
    "sol = depth_2_minimize(\n",
    "    min_delta = 1.0,\n",
    "    max_alpha = 1.0e10,\n",
    "    size_o = [0, 0],\n",
    "    minimize_params = dict(tol = 1e-12),\n",
    ")\n",
    "print(sol.message)\n",
    "print(\"Limited-sparsity margin:\", sol.margin)\n",
    "print(\"Optimum x:\", sol.x)\n",
    "print(\"Optimum objective:\", sol.fun)\n",
    "barplot_sol(sol)"
   ]
  },
  {
   "cell_type": "code",
   "execution_count": 32,
   "metadata": {},
   "outputs": [
    {
     "name": "stdout",
     "output_type": "stream",
     "text": [
      "Optimization terminated successfully.\n",
      "Limited-sparsity margin: 1.0000289485390113e-10\n",
      "Optimum x: [1.00000000e+00 8.92092019e-01 1.17958597e-16 5.00000000e-01\n",
      " 5.00000000e-01 1.52297155e-16]\n",
      "Optimum objective: 3.271242373583923e-11\n"
     ]
    },
    {
     "data": {
      "image/png": "[encoded data removed]",
      "text/plain": [
       "<Figure size 432x288 with 1 Axes>"
      ]
     },
     "metadata": {},
     "output_type": "display_data"
    }
   ],
   "source": [
    "sol = depth_2_minimize(\n",
    "    min_delta = 1.0e-10,\n",
    "    max_alpha = 1.0,\n",
    "    size_o = [0, 0],\n",
    "    minimize_params = dict(tol = 1e-12),\n",
    ")\n",
    "print(sol.message)\n",
    "print(\"Limited-sparsity margin:\", sol.margin)\n",
    "print(\"Optimum x:\", sol.x)\n",
    "print(\"Optimum objective:\", sol.fun)\n",
    "barplot_sol(sol)"
   ]
  },
  {
   "cell_type": "markdown",
   "metadata": {},
   "source": [
    "## Again, with arbitrary depth"
   ]
  },
  {
   "cell_type": "code",
   "execution_count": 33,
   "metadata": {},
   "outputs": [],
   "source": [
    "def depth_any_minimize(min_delta, max_alpha, s1, s2, b, x0 = None, minimize_params = None):\n",
    "    s1, s2 = min(s1, s2), max(s1, s2)\n",
    "    assert len(b) == s2 + 1\n",
    "    if x0 is None:\n",
    "        x0 = np.ones(2 * s2 + 1)\n",
    "    if minimize_params is None:\n",
    "        minimize_params = dict()\n",
    "    \n",
    "    def f(x):\n",
    "        a = x[:s2]\n",
    "        S = x[s2:]\n",
    "        result = S[0] / (1 + S[0])\n",
    "        for k in range(1, s1 + 1):\n",
    "            result *= S[k] / (1 + S[k])\n",
    "            result *= (1 + a[k-1]) / a[k-1]\n",
    "        factor = 1\n",
    "        for k in range(s1 + 1, s2 + 1):\n",
    "            factor *= S[k] / (1 + S[k])\n",
    "            factor *= (1 + a[k-1]) / a[k-1]\n",
    "        factor -= 1\n",
    "        result *= factor\n",
    "        return result\n",
    "\n",
    "    constrs = []\n",
    "    labels = []\n",
    "    for i in range(s2):\n",
    "        constrs.append(dict(fun = lambda x, i=i: x[i], type='ineq'))\n",
    "        constrs.append(dict(fun = lambda x, i=i: max_alpha - x[i], type='ineq'))\n",
    "        labels.append(r\"$\\alpha_{{{}}}$\".format(i))\n",
    "    for i in range(s2 + 1):\n",
    "        if i == s2:\n",
    "            constrs.append(dict(fun = lambda x, i=i: b[i] * max_alpha - x[s2 + i], type='ineq'))\n",
    "        else:\n",
    "            constrs.append(dict(fun = lambda x, i=i: x[s2 + i] - x[i], type='ineq'))\n",
    "            constrs.append(dict(fun = lambda x, i=i: (b[i] - 1) * max_alpha + x[i] - x[s2 + i], type='ineq'))\n",
    "        labels.append(r\"$S_{{{}}}$\".format(i))\n",
    "    for i in range(1, s2 + 1):\n",
    "        constrs.append(dict(fun = lambda x, i=i: x[s2 + i] - x[i - 1] - min_delta, type='ineq'))\n",
    "\n",
    "    sol = minimize(f, x0 = x0, constraints = constrs, **minimize_params)\n",
    "    sol.min_delta = min_delta\n",
    "    sol.max_alpha = max_alpha\n",
    "    sol.b = b\n",
    "    sol.labels = labels\n",
    "    sol.f = f\n",
    "    sol.s1 = s1\n",
    "    sol.s2 = s2\n",
    "    sol.constrs = constrs\n",
    "    return sol"
   ]
  },
  {
   "cell_type": "code",
   "execution_count": 34,
   "metadata": {},
   "outputs": [],
   "source": [
    "def barplot_sol_2(sol, ax=None):\n",
    "    if ax is None:\n",
    "        fig, ax = plt.subplots()\n",
    "    ax.bar(sol.labels, sol.x)\n",
    "    #ax.tick_params(axis='x', rotation=90)\n",
    "    ax.set_title(r\"$\\delta_{{min}} = {:g}, \\alpha_{{max}} = {:g}, b = {}$\"\n",
    "             .format(sol.min_delta, sol.max_alpha, sol.b))"
   ]
  },
  {
   "cell_type": "code",
   "execution_count": 35,
   "metadata": {},
   "outputs": [
    {
     "name": "stdout",
     "output_type": "stream",
     "text": [
      "Optimization terminated successfully.\n",
      "Optimum x: [1. 1. 2.]\n",
      "Optimum objective: 0.16666666666666666\n"
     ]
    },
    {
     "data": {
      "image/png": "[encoded data removed]",
      "text/plain": [
       "<Figure size 432x288 with 1 Axes>"
      ]
     },
     "metadata": {},
     "output_type": "display_data"
    }
   ],
   "source": [
    "sol = depth_any_minimize(\n",
    "    min_delta = 1,\n",
    "    max_alpha = 1,\n",
    "    b = [2, 2],\n",
    "    s1 = 0,\n",
    "    s2 = 1,\n",
    ")\n",
    "if sol.success:\n",
    "    print(sol.message)\n",
    "    #print(\"Limited-sparsity margin:\", sol.margin)\n",
    "    print(\"Optimum x:\", sol.x)\n",
    "    print(\"Optimum objective:\", sol.fun)\n",
    "    barplot_sol_2(sol)\n",
    "else:\n",
    "    print(\"Failed!\")\n",
    "    print(sol.message)"
   ]
  },
  {
   "cell_type": "code",
   "execution_count": 36,
   "metadata": {},
   "outputs": [],
   "source": [
    "def show_math(x):\n",
    "    display(Math(sp.latex(x)))"
   ]
  },
  {
   "cell_type": "code",
   "execution_count": 37,
   "metadata": {},
   "outputs": [
    {
     "data": {
      "text/latex": [
       "$$\\frac{S_{0}}{S_{0} + 1} \\left(\\frac{S_{1} \\left(\\alpha_{0} + 1\\right)}{\\alpha_{0} \\left(S_{1} + 1\\right)} - 1\\right)$$"
      ],
      "text/plain": [
       "<IPython.core.display.Math object>"
      ]
     },
     "metadata": {},
     "output_type": "display_data"
    }
   ],
   "source": [
    "x_sym = np.concatenate([sp.symarray(\"alpha\", sol.s2), sp.symarray(\"S\", sol.s2 + 1)])\n",
    "show_math(sol.f(x_sym))"
   ]
  },
  {
   "cell_type": "code",
   "execution_count": 38,
   "metadata": {},
   "outputs": [
    {
     "data": {
      "text/latex": [
       "$$\\alpha_{0}$$"
      ],
      "text/plain": [
       "<IPython.core.display.Math object>"
      ]
     },
     "metadata": {},
     "output_type": "display_data"
    },
    {
     "data": {
      "text/latex": [
       "$$- \\alpha_{0} + 1$$"
      ],
      "text/plain": [
       "<IPython.core.display.Math object>"
      ]
     },
     "metadata": {},
     "output_type": "display_data"
    },
    {
     "data": {
      "text/latex": [
       "$$S_{0} - \\alpha_{0}$$"
      ],
      "text/plain": [
       "<IPython.core.display.Math object>"
      ]
     },
     "metadata": {},
     "output_type": "display_data"
    },
    {
     "data": {
      "text/latex": [
       "$$- S_{0} + \\alpha_{0} + 1$$"
      ],
      "text/plain": [
       "<IPython.core.display.Math object>"
      ]
     },
     "metadata": {},
     "output_type": "display_data"
    },
    {
     "data": {
      "text/latex": [
       "$$- S_{1} + 2$$"
      ],
      "text/plain": [
       "<IPython.core.display.Math object>"
      ]
     },
     "metadata": {},
     "output_type": "display_data"
    },
    {
     "data": {
      "text/latex": [
       "$$S_{1} - \\alpha_{0} - 1$$"
      ],
      "text/plain": [
       "<IPython.core.display.Math object>"
      ]
     },
     "metadata": {},
     "output_type": "display_data"
    }
   ],
   "source": [
    "for c in sol.constrs:\n",
    "    show_math(c[\"fun\"](x_sym))"
   ]
  },
  {
   "cell_type": "code",
   "execution_count": 39,
   "metadata": {},
   "outputs": [
    {
     "data": {
      "text/plain": [
       "True"
      ]
     },
     "execution_count": 39,
     "metadata": {},
     "output_type": "execute_result"
    }
   ],
   "source": [
    "sol.success"
   ]
  },
  {
   "cell_type": "code",
   "execution_count": 40,
   "metadata": {},
   "outputs": [
    {
     "name": "stdout",
     "output_type": "stream",
     "text": [
      "Failed!\n",
      "Inequality constraints incompatible\n"
     ]
    }
   ],
   "source": [
    "sol = depth_any_minimize(\n",
    "    min_delta = 1,\n",
    "    max_alpha = 1,\n",
    "    b = [2, 2, 2],\n",
    "    s1 = 1,\n",
    "    s2 = 2,\n",
    ")\n",
    "if sol.success:\n",
    "    print(sol.message)\n",
    "    #print(\"Limited-sparsity margin:\", sol.margin)\n",
    "    print(\"Optimum x:\", sol.x)\n",
    "    print(\"Optimum objective:\", sol.fun)\n",
    "    barplot_sol_2(sol)\n",
    "else:\n",
    "    print(\"Failed!\")\n",
    "    print(sol.message)"
   ]
  },
  {
   "cell_type": "code",
   "execution_count": 41,
   "metadata": {},
   "outputs": [
    {
     "data": {
      "text/latex": [
       "$$\\alpha_{0}$$"
      ],
      "text/plain": [
       "<IPython.core.display.Math object>"
      ]
     },
     "metadata": {},
     "output_type": "display_data"
    },
    {
     "data": {
      "text/latex": [
       "$$- \\alpha_{0} + 1$$"
      ],
      "text/plain": [
       "<IPython.core.display.Math object>"
      ]
     },
     "metadata": {},
     "output_type": "display_data"
    },
    {
     "data": {
      "text/latex": [
       "$$\\alpha_{1}$$"
      ],
      "text/plain": [
       "<IPython.core.display.Math object>"
      ]
     },
     "metadata": {},
     "output_type": "display_data"
    },
    {
     "data": {
      "text/latex": [
       "$$- \\alpha_{1} + 1$$"
      ],
      "text/plain": [
       "<IPython.core.display.Math object>"
      ]
     },
     "metadata": {},
     "output_type": "display_data"
    },
    {
     "data": {
      "text/latex": [
       "$$S_{0} - \\alpha_{0}$$"
      ],
      "text/plain": [
       "<IPython.core.display.Math object>"
      ]
     },
     "metadata": {},
     "output_type": "display_data"
    },
    {
     "data": {
      "text/latex": [
       "$$- S_{0} + \\alpha_{0} + 1$$"
      ],
      "text/plain": [
       "<IPython.core.display.Math object>"
      ]
     },
     "metadata": {},
     "output_type": "display_data"
    },
    {
     "data": {
      "text/latex": [
       "$$S_{1} - \\alpha_{1}$$"
      ],
      "text/plain": [
       "<IPython.core.display.Math object>"
      ]
     },
     "metadata": {},
     "output_type": "display_data"
    },
    {
     "data": {
      "text/latex": [
       "$$- S_{1} + \\alpha_{1} + 1$$"
      ],
      "text/plain": [
       "<IPython.core.display.Math object>"
      ]
     },
     "metadata": {},
     "output_type": "display_data"
    },
    {
     "data": {
      "text/latex": [
       "$$- S_{2} + 2$$"
      ],
      "text/plain": [
       "<IPython.core.display.Math object>"
      ]
     },
     "metadata": {},
     "output_type": "display_data"
    },
    {
     "data": {
      "text/latex": [
       "$$S_{1} - \\alpha_{0} - 1$$"
      ],
      "text/plain": [
       "<IPython.core.display.Math object>"
      ]
     },
     "metadata": {},
     "output_type": "display_data"
    },
    {
     "data": {
      "text/latex": [
       "$$S_{2} - \\alpha_{1} - 1$$"
      ],
      "text/plain": [
       "<IPython.core.display.Math object>"
      ]
     },
     "metadata": {},
     "output_type": "display_data"
    }
   ],
   "source": [
    "x_sym = np.concatenate([sp.symarray(\"alpha\", sol.s2), sp.symarray(\"S\", sol.s2 + 1)])\n",
    "for c in sol.constrs:\n",
    "    show_math(c[\"fun\"](x_sym))"
   ]
  },
  {
   "cell_type": "code",
   "execution_count": 42,
   "metadata": {},
   "outputs": [
    {
     "data": {
      "text/latex": [
       "$$\\frac{S_{0} S_{1} \\left(\\alpha_{0} + 1\\right) \\left(S_{2} \\left(\\alpha_{1} + 1\\right) - \\alpha_{1} \\left(S_{2} + 1\\right)\\right)}{\\alpha_{0} \\alpha_{1} \\left(S_{0} + 1\\right) \\left(S_{1} + 1\\right) \\left(S_{2} + 1\\right)}$$"
      ],
      "text/plain": [
       "<IPython.core.display.Math object>"
      ]
     },
     "metadata": {},
     "output_type": "display_data"
    }
   ],
   "source": [
    "show_math(sol.f(x_sym).simplify())"
   ]
  },
  {
   "cell_type": "markdown",
   "metadata": {},
   "source": [
    "## As an optimization problem"
   ]
  },
  {
   "cell_type": "code",
   "execution_count": 43,
   "metadata": {},
   "outputs": [],
   "source": [
    "a0, S0, S1, am, dm, b0, b1 = sp.symbols(\"alpha_0, S_0, S_1, alpha_max, delta_min, b_0, b_1\")"
   ]
  },
  {
   "cell_type": "code",
   "execution_count": 44,
   "metadata": {},
   "outputs": [
    {
     "data": {
      "text/latex": [
       "$$\\frac{S_{0} \\left(S_{1} - \\alpha_{0}\\right)}{\\alpha_{0} \\left(S_{0} + 1\\right) \\left(S_{1} + 1\\right)}$$"
      ],
      "text/plain": [
       "<IPython.core.display.Math object>"
      ]
     },
     "metadata": {},
     "output_type": "display_data"
    }
   ],
   "source": [
    "numer = S0 * (S1 - a0)\n",
    "denom = (1 + S0) * (1 + S1) * a0\n",
    "obj_func = numer / denom\n",
    "show_math(obj_func)"
   ]
  },
  {
   "cell_type": "code",
   "execution_count": 45,
   "metadata": {},
   "outputs": [
    {
     "data": {
      "text/latex": [
       "$$\\alpha_{0} \\geq 0$$"
      ],
      "text/plain": [
       "<IPython.core.display.Math object>"
      ]
     },
     "metadata": {},
     "output_type": "display_data"
    },
    {
     "data": {
      "text/latex": [
       "$$\\alpha_{0} \\leq \\alpha_{max}$$"
      ],
      "text/plain": [
       "<IPython.core.display.Math object>"
      ]
     },
     "metadata": {},
     "output_type": "display_data"
    },
    {
     "data": {
      "text/latex": [
       "$$S_{0} \\geq \\alpha_{0}$$"
      ],
      "text/plain": [
       "<IPython.core.display.Math object>"
      ]
     },
     "metadata": {},
     "output_type": "display_data"
    },
    {
     "data": {
      "text/latex": [
       "$$S_{0} \\leq \\alpha_{max} b_{0}$$"
      ],
      "text/plain": [
       "<IPython.core.display.Math object>"
      ]
     },
     "metadata": {},
     "output_type": "display_data"
    },
    {
     "data": {
      "text/latex": [
       "$$S_{1} \\geq \\alpha_{0} + \\delta_{min}$$"
      ],
      "text/plain": [
       "<IPython.core.display.Math object>"
      ]
     },
     "metadata": {},
     "output_type": "display_data"
    },
    {
     "data": {
      "text/latex": [
       "$$S_{1} \\leq \\alpha_{max} b_{1}$$"
      ],
      "text/plain": [
       "<IPython.core.display.Math object>"
      ]
     },
     "metadata": {},
     "output_type": "display_data"
    }
   ],
   "source": [
    "constrs = [\n",
    "    sp.GreaterThan(a0, 0),\n",
    "    sp.LessThan(a0, am),\n",
    "    sp.GreaterThan(S0, a0),\n",
    "    sp.LessThan(S0, b0 * am),\n",
    "    #sp.GreaterThan(S1, 0),  # This would be redundant\n",
    "    sp.GreaterThan(S1, a0 + dm),\n",
    "    sp.LessThan(S1, b1 * am),\n",
    "]\n",
    "for c in constrs:\n",
    "    show_math(c)"
   ]
  },
  {
   "cell_type": "code",
   "execution_count": 46,
   "metadata": {},
   "outputs": [],
   "source": [
    "def calc_gradient(f, vars):\n",
    "    return [sp.diff(f, x).simplify() for x in vars]"
   ]
  },
  {
   "cell_type": "code",
   "execution_count": 47,
   "metadata": {},
   "outputs": [],
   "source": [
    "def calc_hessian(f, vars):\n",
    "    return sp.Matrix([[sp.diff(f, x).diff(y).simplify() for y in vars] for x in vars])"
   ]
  },
  {
   "cell_type": "code",
   "execution_count": 48,
   "metadata": {},
   "outputs": [
    {
     "data": {
      "text/latex": [
       "$$\\left [ - \\frac{S_{0} S_{1}}{\\alpha_{0}^{2} \\left(S_{0} + 1\\right) \\left(S_{1} + 1\\right)}, \\quad \\frac{S_{1} - \\alpha_{0}}{\\alpha_{0} \\left(S_{0} + 1\\right)^{2} \\left(S_{1} + 1\\right)}, \\quad \\frac{S_{0} \\left(\\alpha_{0} + 1\\right)}{\\alpha_{0} \\left(S_{0} + 1\\right) \\left(S_{1} + 1\\right)^{2}}\\right ]$$"
      ],
      "text/plain": [
       "<IPython.core.display.Math object>"
      ]
     },
     "metadata": {},
     "output_type": "display_data"
    }
   ],
   "source": [
    "gradient = calc_gradient(obj_func, [a0, S0, S1])\n",
    "\n",
    "show_math(gradient)"
   ]
  },
  {
   "cell_type": "code",
   "execution_count": 49,
   "metadata": {},
   "outputs": [
    {
     "data": {
      "text/latex": [
       "$$\\left [ - \\frac{S_{0} S_{1}}{\\alpha_{0}^{2} \\left(S_{0} + 1\\right) \\left(S_{1} + 1\\right)} = 0, \\quad \\frac{S_{1} - \\alpha_{0}}{\\alpha_{0} \\left(S_{0} + 1\\right)^{2} \\left(S_{1} + 1\\right)} = 0, \\quad \\frac{S_{0} \\left(\\alpha_{0} + 1\\right)}{\\alpha_{0} \\left(S_{0} + 1\\right) \\left(S_{1} + 1\\right)^{2}} = 0\\right ]$$"
      ],
      "text/plain": [
       "<IPython.core.display.Math object>"
      ]
     },
     "metadata": {},
     "output_type": "display_data"
    }
   ],
   "source": [
    "gradient_eqs = [sp.Eq(x, 0) for x in gradient]\n",
    "\n",
    "show_math(gradient_eqs)"
   ]
  },
  {
   "cell_type": "code",
   "execution_count": 50,
   "metadata": {},
   "outputs": [
    {
     "data": {
      "text/latex": [
       "$$\\left[\\begin{matrix}\\frac{2 S_{0} S_{1}}{\\alpha_{0}^{3} \\left(S_{0} + 1\\right) \\left(S_{1} + 1\\right)} & - \\frac{S_{1}}{\\alpha_{0}^{2} \\left(S_{0}^{2} S_{1} + S_{0}^{2} + 2 S_{0} S_{1} + 2 S_{0} + S_{1} + 1\\right)} & - \\frac{S_{0}}{\\alpha_{0}^{2} \\left(S_{0} + 1\\right) \\left(S_{1} + 1\\right)^{2}}\\\\- \\frac{S_{1}}{\\alpha_{0}^{2} \\left(S_{0}^{2} S_{1} + S_{0}^{2} + 2 S_{0} S_{1} + 2 S_{0} + S_{1} + 1\\right)} & \\frac{2 \\left(S_{0} \\left(S_{1} - \\alpha_{0}\\right) + \\left(S_{0} + 1\\right) \\left(- S_{1} + \\alpha_{0}\\right)\\right)}{\\alpha_{0} \\left(S_{0} + 1\\right)^{3} \\left(S_{1} + 1\\right)} & \\frac{1}{\\left(S_{0} + 1\\right)^{2} \\left(S_{1} + 1\\right)^{2}} + \\frac{1}{\\alpha_{0} \\left(S_{0} + 1\\right)^{2} \\left(S_{1} + 1\\right)^{2}}\\\\- \\frac{S_{0}}{\\alpha_{0}^{2} \\left(S_{0} + 1\\right) \\left(S_{1} + 1\\right)^{2}} & \\frac{1}{\\left(S_{0} + 1\\right)^{2} \\left(S_{1} + 1\\right)^{2}} + \\frac{1}{\\alpha_{0} \\left(S_{0} + 1\\right)^{2} \\left(S_{1} + 1\\right)^{2}} & - \\frac{2 S_{0} \\left(\\alpha_{0} + 1\\right)}{\\alpha_{0} \\left(S_{0} + 1\\right) \\left(S_{1} + 1\\right)^{3}}\\end{matrix}\\right]$$"
      ],
      "text/plain": [
       "<IPython.core.display.Math object>"
      ]
     },
     "metadata": {},
     "output_type": "display_data"
    }
   ],
   "source": [
    "hessian = calc_hessian(obj_func, [a0, S0, S1])\n",
    "show_math(hessian)"
   ]
  },
  {
   "cell_type": "code",
   "execution_count": 51,
   "metadata": {},
   "outputs": [
    {
     "data": {
      "text/plain": [
       "[{S_0: 0, S_1: alpha_0}]"
      ]
     },
     "execution_count": 51,
     "metadata": {},
     "output_type": "execute_result"
    }
   ],
   "source": [
    "sp.solve(gradient_eqs, [a0, S0, S1])"
   ]
  },
  {
   "cell_type": "code",
   "execution_count": 52,
   "metadata": {},
   "outputs": [
    {
     "data": {
      "text/latex": [
       "$$\\left [ - S_{0}, \\quad S_{1} - \\alpha_{0}, \\quad S_{0}\\right ]$$"
      ],
      "text/plain": [
       "<IPython.core.display.Math object>"
      ]
     },
     "metadata": {},
     "output_type": "display_data"
    }
   ],
   "source": [
    "show_math(calc_gradient(numer, [a0, S0, S1]))"
   ]
  },
  {
   "cell_type": "code",
   "execution_count": 53,
   "metadata": {},
   "outputs": [
    {
     "data": {
      "text/latex": [
       "$$\\left[\\begin{matrix}0 & -1 & 0\\\\-1 & 0 & 1\\\\0 & 1 & 0\\end{matrix}\\right]$$"
      ],
      "text/plain": [
       "<IPython.core.display.Math object>"
      ]
     },
     "metadata": {},
     "output_type": "display_data"
    }
   ],
   "source": [
    "show_math(calc_hessian(numer, [a0, S0, S1]))"
   ]
  },
  {
   "cell_type": "code",
   "execution_count": 54,
   "metadata": {},
   "outputs": [
    {
     "data": {
      "text/latex": [
       "$$\\left [ \\left(S_{0} + 1\\right) \\left(S_{1} + 1\\right), \\quad \\alpha_{0} \\left(S_{1} + 1\\right), \\quad \\alpha_{0} \\left(S_{0} + 1\\right)\\right ]$$"
      ],
      "text/plain": [
       "<IPython.core.display.Math object>"
      ]
     },
     "metadata": {},
     "output_type": "display_data"
    }
   ],
   "source": [
    "show_math(calc_gradient(denom, [a0, S0, S1]))"
   ]
  },
  {
   "cell_type": "code",
   "execution_count": 55,
   "metadata": {},
   "outputs": [
    {
     "data": {
      "text/latex": [
       "$$\\left[\\begin{matrix}0 & S_{1} + 1 & S_{0} + 1\\\\S_{1} + 1 & 0 & \\alpha_{0}\\\\S_{0} + 1 & \\alpha_{0} & 0\\end{matrix}\\right]$$"
      ],
      "text/plain": [
       "<IPython.core.display.Math object>"
      ]
     },
     "metadata": {},
     "output_type": "display_data"
    }
   ],
   "source": [
    "show_math(calc_hessian(denom, [a0, S0, S1]))"
   ]
  },
  {
   "cell_type": "code",
   "execution_count": null,
   "metadata": {},
   "outputs": [],
   "source": []
  }
 ],
 "metadata": {
  "kernelspec": {
   "display_name": "Python 3",
   "language": "python",
   "name": "python3"
  },
  "language_info": {
   "codemirror_mode": {
    "name": "ipython",
    "version": 3
   },
   "file_extension": ".py",
   "mimetype": "text/x-python",
   "name": "python",
   "nbconvert_exporter": "python",
   "pygments_lexer": "ipython3",
   "version": "3.6.5"
  }
 },
 "nbformat": 4,
 "nbformat_minor": 2
}
