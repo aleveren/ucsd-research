{
 "cells": [
  {
   "cell_type": "code",
   "execution_count": 1,
   "metadata": {
    "collapsed": true
   },
   "outputs": [],
   "source": [
    "import numpy as np\n",
    "import matplotlib.pyplot as plt\n",
    "%matplotlib inline"
   ]
  },
  {
   "cell_type": "code",
   "execution_count": 2,
   "metadata": {
    "collapsed": false
   },
   "outputs": [],
   "source": [
    "from simple_hierarchical_topic_model import SimpleHierarchicalTopicModel, load_vocab, loadmat"
   ]
  },
  {
   "cell_type": "code",
   "execution_count": 3,
   "metadata": {
    "collapsed": true
   },
   "outputs": [],
   "source": [
    "np.random.seed(1)"
   ]
  },
  {
   "cell_type": "code",
   "execution_count": 4,
   "metadata": {
    "collapsed": false
   },
   "outputs": [],
   "source": [
    "class SimData(object):\n",
    "    '''Generate a simulated dataset'''\n",
    "    def __init__(self):\n",
    "        self.vocab_size = 10\n",
    "        self.num_docs = 20\n",
    "        self.doc_length = 100\n",
    "        self.vocab = [\"w{}\".format(i) for i in range(self.vocab_size)]\n",
    "        self.alpha_leaves = [1., 1.]\n",
    "        self.alpha_depths = [1., 1.]\n",
    "        self.init_topics()\n",
    "\n",
    "    def init_topics(self):\n",
    "        self.nodes = [(), (0,), (1,)]\n",
    "        self.topics_by_path = dict()\n",
    "        self.topics_by_index = []\n",
    "        for node_index, path in enumerate(self.nodes):\n",
    "            current_topic = np.ones(self.vocab_size)\n",
    "            heavy_vocab_indices = slice(node_index * 2, (node_index + 1) * 2)\n",
    "            current_topic[heavy_vocab_indices] *= 20\n",
    "            current_topic /= current_topic.sum()\n",
    "            self.topics_by_path[path] = current_topic\n",
    "            self.topics_by_index.append(current_topic)\n",
    "        self.topics_by_index = np.stack(self.topics_by_index)\n",
    "\n",
    "    def generate(self):\n",
    "        self.docs = []\n",
    "        self.docs_aux = []\n",
    "\n",
    "        for i in range(self.num_docs):\n",
    "            leaf_distrib = np.random.dirichlet(self.alpha_leaves)\n",
    "            depth_distrib = np.random.dirichlet(self.alpha_depths)\n",
    "            node_distrib = np.array([\n",
    "                    depth_distrib[0],\n",
    "                    depth_distrib[1] * leaf_distrib[0],\n",
    "                    depth_distrib[1] * leaf_distrib[1]])\n",
    "            current_nodes = np.random.choice(self.nodes, size = self.doc_length, p = node_distrib)\n",
    "            current_topics = [self.topics_by_path[current_nodes[j]] for j in range(self.doc_length)]\n",
    "            current_doc = []\n",
    "            for j in range(self.doc_length):\n",
    "                word_index = np.random.choice(self.vocab_size, p = current_topics[j])\n",
    "                current_doc.append(self.vocab[word_index])\n",
    "            current_doc = \" \".join(current_doc)\n",
    "            self.docs.append(current_doc)\n",
    "            self.docs_aux.append({\n",
    "                \"doc\": current_doc,\n",
    "                \"leaf_distrib\": leaf_distrib,\n",
    "                \"depth_distrib\": depth_distrib,\n",
    "                \"node_distrib\": node_distrib,\n",
    "                \"nodes_by_word_slot\": current_nodes,\n",
    "            })\n",
    "\n",
    "        return self.docs\n",
    "\n",
    "sim = SimData()\n",
    "docs = sim.generate()\n",
    "#docs"
   ]
  },
  {
   "cell_type": "code",
   "execution_count": 5,
   "metadata": {
    "collapsed": true
   },
   "outputs": [],
   "source": [
    "import os\n",
    "import sys\n",
    "sys.path.append(os.path.abspath(\"..\"))\n",
    "import text_utils"
   ]
  },
  {
   "cell_type": "code",
   "execution_count": 6,
   "metadata": {
    "collapsed": true
   },
   "outputs": [],
   "source": [
    "data, vocab = text_utils.document_strings_to_sparse_term_doc(\n",
    "    docs = docs,\n",
    "    tokenizer = text_utils.default_tokenizer,\n",
    "    vocab = sim.vocab)"
   ]
  },
  {
   "cell_type": "code",
   "execution_count": 7,
   "metadata": {
    "collapsed": false
   },
   "outputs": [
    {
     "data": {
      "text/plain": [
       "['w0', 'w1', 'w2', 'w3', 'w4', 'w5', 'w6', 'w7', 'w8', 'w9']"
      ]
     },
     "execution_count": 7,
     "metadata": {},
     "output_type": "execute_result"
    }
   ],
   "source": [
    "vocab"
   ]
  },
  {
   "cell_type": "code",
   "execution_count": 8,
   "metadata": {
    "collapsed": false
   },
   "outputs": [
    {
     "data": {
      "image/png": "[encoded data removed]",
      "text/plain": [
       "<matplotlib.figure.Figure at 0x10ef11128>"
      ]
     },
     "metadata": {},
     "output_type": "display_data"
    }
   ],
   "source": [
    "plt.imshow(data.todense());"
   ]
  },
  {
   "cell_type": "code",
   "execution_count": 9,
   "metadata": {
    "collapsed": false
   },
   "outputs": [
    {
     "data": {
      "image/png": "[encoded data removed]",
      "text/plain": [
       "<matplotlib.figure.Figure at 0x10f07a898>"
      ]
     },
     "metadata": {},
     "output_type": "display_data"
    }
   ],
   "source": [
    "plt.imshow(sim.topics_by_index);"
   ]
  },
  {
   "cell_type": "code",
   "execution_count": 10,
   "metadata": {
    "collapsed": false
   },
   "outputs": [],
   "source": [
    "model = SimpleHierarchicalTopicModel(\n",
    "    branching_factors = [2], num_epochs = 100,\n",
    "    batch_size = 100, vocab = vocab,\n",
    "    save_params_history = True)"
   ]
  },
  {
   "cell_type": "code",
   "execution_count": 11,
   "metadata": {
    "collapsed": false,
    "scrolled": true
   },
   "outputs": [
    {
     "name": "stderr",
     "output_type": "stream",
     "text": [
      "100%|██████████| 2000/2000 [00:01<00:00, 1388.49it/s, Status=computing statistics]"
     ]
    },
    {
     "name": "stdout",
     "output_type": "stream",
     "text": [
      "Top words by node:\n",
      "()  : w5, w4, w1, w0, w2, w3, w8, w6, w9, w7\n",
      "(0,): w5, w4, w1, w0, w2, w3, w8, w6, w9, w7\n",
      "(1,): w5, w4, w1, w0, w2, w3, w8, w6, w9, w7\n"
     ]
    },
    {
     "name": "stderr",
     "output_type": "stream",
     "text": [
      "\n"
     ]
    }
   ],
   "source": [
    "model.fit(data)\n",
    "top_words = model.get_top_words_by_node(num_words = 10)\n",
    "model.print_top_words_by_node(num_words = 10);"
   ]
  },
  {
   "cell_type": "code",
   "execution_count": 12,
   "metadata": {
    "collapsed": false
   },
   "outputs": [
    {
     "data": {
      "image/png": "[encoded data removed]",
      "text/plain": [
       "<matplotlib.figure.Figure at 0x10f287278>"
      ]
     },
     "metadata": {},
     "output_type": "display_data"
    }
   ],
   "source": [
    "fig, ax = plt.subplots()\n",
    "ax.plot(model.get_stats_by_epoch(\"epoch_index\"), model.get_stats_by_epoch(\"ELBO\"))\n",
    "ax.set_xlabel(\"Epoch\")\n",
    "ax.set_ylabel(\"ELBO\")\n",
    "None"
   ]
  },
  {
   "cell_type": "code",
   "execution_count": 13,
   "metadata": {
    "collapsed": false
   },
   "outputs": [],
   "source": [
    "var_params = dict()\n",
    "for name in [\"DL\", \"DD\", \"DV\", \"L\", \"D\"]:\n",
    "    var_params[name] = model.get_stats_by_epoch(\"var_params_\" + name)\n",
    "epoch_indices = model.get_stats_by_epoch(\"epoch_index\")"
   ]
  },
  {
   "cell_type": "code",
   "execution_count": 14,
   "metadata": {
    "collapsed": false
   },
   "outputs": [
    {
     "name": "stdout",
     "output_type": "stream",
     "text": [
      "D : (101, 2000, 2)\n",
      "L : (101, 2000, 2)\n",
      "DV: (101, 3, 10)\n",
      "DD: (101, 20, 2)\n",
      "DL: (101, 20, 2)\n"
     ]
    }
   ],
   "source": [
    "for k, v in var_params.items():\n",
    "    print(\"{:2}: {}\".format(k, v.shape))"
   ]
  },
  {
   "cell_type": "code",
   "execution_count": 24,
   "metadata": {
    "collapsed": false
   },
   "outputs": [
    {
     "data": {
      "image/png": "[encoded data removed]",
      "text/plain": [
       "<matplotlib.figure.Figure at 0x11010a0b8>"
      ]
     },
     "metadata": {},
     "output_type": "display_data"
    }
   ],
   "source": [
    "plt.plot(model.get_stats_by_epoch(\"step_size\"));"
   ]
  },
  {
   "cell_type": "code",
   "execution_count": 30,
   "metadata": {
    "collapsed": true
   },
   "outputs": [],
   "source": [
    "def norm_variance_dirichlet(X, axis = -1):\n",
    "    a0 = X.sum(axis = axis, keepdims = True)\n",
    "    variance = X * (a0 - X) / (a0 ** 2 * (a0 + 1.0))\n",
    "    norm_variance = np.linalg.norm(variance, axis = axis)\n",
    "    return norm_variance"
   ]
  },
  {
   "cell_type": "code",
   "execution_count": 36,
   "metadata": {
    "collapsed": true
   },
   "outputs": [],
   "source": [
    "def mean_dirichlet(X, axis = -1):\n",
    "    return X / X.sum(axis = axis, keepdims = True)"
   ]
  },
  {
   "cell_type": "code",
   "execution_count": 45,
   "metadata": {
    "collapsed": false
   },
   "outputs": [
    {
     "data": {
      "text/plain": [
       "[array([[ 0,  1,  2,  3,  4],\n",
       "        [ 5,  6,  7,  8,  9],\n",
       "        [10, 11, 12, 13, 14],\n",
       "        [15, 16, 17, 18, 19]]), array([[0, 1, 2, 3, 4],\n",
       "        [0, 1, 2, 3, 4],\n",
       "        [0, 1, 2, 3, 4],\n",
       "        [0, 1, 2, 3, 4]])]"
      ]
     },
     "execution_count": 45,
     "metadata": {},
     "output_type": "execute_result"
    }
   ],
   "source": [
    "zzz1 = np.arange(20).reshape(4,5)\n",
    "zzz2 = np.arange(5)\n",
    "np.broadcast_arrays(zzz1, zzz2)"
   ]
  },
  {
   "cell_type": "code",
   "execution_count": 83,
   "metadata": {
    "collapsed": true
   },
   "outputs": [],
   "source": [
    "def mean_discrete(p, axis = -1, keepdims = False):\n",
    "    print(axis, len(p.shape))\n",
    "    axis = axis if axis >= 0 else len(p.shape) + axis\n",
    "    print(axis)\n",
    "    values_target_shape = [1 if i != axis else p.shape[axis] for i in range(len(p.shape))]\n",
    "    values = np.arange(p.shape[axis]).reshape(values_target_shape)\n",
    "    print(p.shape, values.shape)\n",
    "    values, p = np.broadcast_arrays(values, p)\n",
    "    return np.sum(values * p, axis = axis, keepdims = keepdims)"
   ]
  },
  {
   "cell_type": "code",
   "execution_count": 121,
   "metadata": {
    "collapsed": true
   },
   "outputs": [],
   "source": [
    "def variance_discrete(p, axis = -1):\n",
    "    axis = axis if axis >= 0 else len(p.shape) + axis\n",
    "    values_target_shape = [1 if i != axis else p.shape[axis] for i in range(len(p.shape))]\n",
    "    values = np.arange(p.shape[axis]).reshape(values_target_shape)\n",
    "    print(values.shape, p.shape)\n",
    "    print(values)\n",
    "    values, p = np.broadcast_arrays(values, p)\n",
    "    print(values)\n",
    "    zzz = np.sum((values ** 2) * p, axis = axis)\n",
    "    mean_sq = mean_discrete(p, axis = axis) ** 2\n",
    "    print(values.shape, p.shape, zzz.shape, mean_sq.shape)\n",
    "    return zzz - mean_sq"
   ]
  },
  {
   "cell_type": "code",
   "execution_count": 122,
   "metadata": {
    "collapsed": false
   },
   "outputs": [
    {
     "name": "stdout",
     "output_type": "stream",
     "text": [
      "-1 2\n",
      "1\n",
      "(101, 2) (1, 2)\n"
     ]
    },
    {
     "data": {
      "text/plain": [
       "array([ 0.50215816,  0.49891169,  0.49853751,  0.49835957,  0.49823824,\n",
       "        0.49814508,  0.49806899,  0.49800443,  0.49794823,  0.49789835,\n",
       "        0.49785346,  0.49781259,  0.49777505,  0.4977403 ,  0.49770793,\n",
       "        0.49767763,  0.49764912,  0.49762219,  0.49759668,  0.49757242,\n",
       "        0.49754929,  0.49752719,  0.49750602,  0.4974857 ,  0.49746617,\n",
       "        0.49744735,  0.4974292 ,  0.49741167,  0.49739471,  0.49737828,\n",
       "        0.49736236,  0.4973469 ,  0.49733188,  0.49731728,  0.49730307,\n",
       "        0.49728922,  0.49727572,  0.49726256,  0.49724971,  0.49723715,\n",
       "        0.49722488,  0.49721288,  0.49720114,  0.49718964,  0.49717837,\n",
       "        0.49716734,  0.49715652,  0.4971459 ,  0.49713548,  0.49712526,\n",
       "        0.49711522,  0.49710535,  0.49709566,  0.49708612,  0.49707675,\n",
       "        0.49706753,  0.49705845,  0.49704952,  0.49704073,  0.49703207,\n",
       "        0.49702353,  0.49701513,  0.49700684,  0.49699867,  0.49699061,\n",
       "        0.49698267,  0.49697483,  0.4969671 ,  0.49695946,  0.49695193,\n",
       "        0.49694449,  0.49693715,  0.49692989,  0.49692272,  0.49691564,\n",
       "        0.49690865,  0.49690173,  0.4968949 ,  0.49688814,  0.49688146,\n",
       "        0.49687485,  0.49686832,  0.49686185,  0.49685546,  0.49684913,\n",
       "        0.49684287,  0.49683667,  0.49683054,  0.49682447,  0.49681846,\n",
       "        0.4968125 ,  0.49680661,  0.49680077,  0.49679499,  0.49678926,\n",
       "        0.49678359,  0.49677796,  0.49677239,  0.49676687,  0.4967614 ,\n",
       "        0.49675598])"
      ]
     },
     "execution_count": 122,
     "metadata": {},
     "output_type": "execute_result"
    }
   ],
   "source": [
    "mean_discrete(var_params[\"L\"][:, 0, :])"
   ]
  },
  {
   "cell_type": "code",
   "execution_count": 123,
   "metadata": {
    "collapsed": false
   },
   "outputs": [
    {
     "name": "stdout",
     "output_type": "stream",
     "text": [
      "(1, 2) (101, 2)\n",
      "[[0 1]]\n",
      "[[0 1]\n",
      " [0 1]\n",
      " [0 1]\n",
      " [0 1]\n",
      " [0 1]\n",
      " [0 1]\n",
      " [0 1]\n",
      " [0 1]\n",
      " [0 1]\n",
      " [0 1]\n",
      " [0 1]\n",
      " [0 1]\n",
      " [0 1]\n",
      " [0 1]\n",
      " [0 1]\n",
      " [0 1]\n",
      " [0 1]\n",
      " [0 1]\n",
      " [0 1]\n",
      " [0 1]\n",
      " [0 1]\n",
      " [0 1]\n",
      " [0 1]\n",
      " [0 1]\n",
      " [0 1]\n",
      " [0 1]\n",
      " [0 1]\n",
      " [0 1]\n",
      " [0 1]\n",
      " [0 1]\n",
      " [0 1]\n",
      " [0 1]\n",
      " [0 1]\n",
      " [0 1]\n",
      " [0 1]\n",
      " [0 1]\n",
      " [0 1]\n",
      " [0 1]\n",
      " [0 1]\n",
      " [0 1]\n",
      " [0 1]\n",
      " [0 1]\n",
      " [0 1]\n",
      " [0 1]\n",
      " [0 1]\n",
      " [0 1]\n",
      " [0 1]\n",
      " [0 1]\n",
      " [0 1]\n",
      " [0 1]\n",
      " [0 1]\n",
      " [0 1]\n",
      " [0 1]\n",
      " [0 1]\n",
      " [0 1]\n",
      " [0 1]\n",
      " [0 1]\n",
      " [0 1]\n",
      " [0 1]\n",
      " [0 1]\n",
      " [0 1]\n",
      " [0 1]\n",
      " [0 1]\n",
      " [0 1]\n",
      " [0 1]\n",
      " [0 1]\n",
      " [0 1]\n",
      " [0 1]\n",
      " [0 1]\n",
      " [0 1]\n",
      " [0 1]\n",
      " [0 1]\n",
      " [0 1]\n",
      " [0 1]\n",
      " [0 1]\n",
      " [0 1]\n",
      " [0 1]\n",
      " [0 1]\n",
      " [0 1]\n",
      " [0 1]\n",
      " [0 1]\n",
      " [0 1]\n",
      " [0 1]\n",
      " [0 1]\n",
      " [0 1]\n",
      " [0 1]\n",
      " [0 1]\n",
      " [0 1]\n",
      " [0 1]\n",
      " [0 1]\n",
      " [0 1]\n",
      " [0 1]\n",
      " [0 1]\n",
      " [0 1]\n",
      " [0 1]\n",
      " [0 1]\n",
      " [0 1]\n",
      " [0 1]\n",
      " [0 1]\n",
      " [0 1]\n",
      " [0 1]]\n",
      "1 2\n",
      "1\n",
      "(101, 2) (1, 2)\n",
      "(101, 2) (101, 2) (101,) (101,)\n"
     ]
    },
    {
     "data": {
      "text/plain": [
       "array([ 0.24999534,  0.24999882,  0.24999786,  0.24999731,  0.2499969 ,\n",
       "        0.24999656,  0.24999627,  0.24999602,  0.24999579,  0.24999558,\n",
       "        0.24999539,  0.24999522,  0.24999505,  0.24999489,  0.24999475,\n",
       "        0.24999461,  0.24999447,  0.24999435,  0.24999422,  0.24999411,\n",
       "        0.24999399,  0.24999389,  0.24999378,  0.24999368,  0.24999358,\n",
       "        0.24999348,  0.24999339,  0.2499933 ,  0.24999321,  0.24999313,\n",
       "        0.24999304,  0.24999296,  0.24999288,  0.2499928 ,  0.24999273,\n",
       "        0.24999265,  0.24999258,  0.24999251,  0.24999244,  0.24999237,\n",
       "        0.2499923 ,  0.24999223,  0.24999217,  0.2499921 ,  0.24999204,\n",
       "        0.24999198,  0.24999191,  0.24999185,  0.24999179,  0.24999174,\n",
       "        0.24999168,  0.24999162,  0.24999156,  0.24999151,  0.24999145,\n",
       "        0.2499914 ,  0.24999135,  0.24999129,  0.24999124,  0.24999119,\n",
       "        0.24999114,  0.24999109,  0.24999104,  0.24999099,  0.24999094,\n",
       "        0.2499909 ,  0.24999085,  0.2499908 ,  0.24999076,  0.24999071,\n",
       "        0.24999066,  0.24999062,  0.24999057,  0.24999053,  0.24999049,\n",
       "        0.24999044,  0.2499904 ,  0.24999036,  0.24999032,  0.24999027,\n",
       "        0.24999023,  0.24999019,  0.24999015,  0.24999011,  0.24999007,\n",
       "        0.24999003,  0.24998999,  0.24998995,  0.24998992,  0.24998988,\n",
       "        0.24998984,  0.2499898 ,  0.24998976,  0.24998973,  0.24998969,\n",
       "        0.24998965,  0.24998962,  0.24998958,  0.24998955,  0.24998951,\n",
       "        0.24998948])"
      ]
     },
     "execution_count": 123,
     "metadata": {},
     "output_type": "execute_result"
    }
   ],
   "source": [
    "variance_discrete(var_params[\"L\"][:, 0, :])"
   ]
  },
  {
   "cell_type": "code",
   "execution_count": 43,
   "metadata": {
    "collapsed": false
   },
   "outputs": [
    {
     "data": {
      "image/png": "[encoded data removed]",
      "text/plain": [
       "<matplotlib.figure.Figure at 0x1104afbe0>"
      ]
     },
     "metadata": {},
     "output_type": "display_data"
    }
   ],
   "source": [
    "zzz = mean_dirichlet(var_params[\"DL\"][:, 0, :])\n",
    "plt.plot(zzz);"
   ]
  },
  {
   "cell_type": "code",
   "execution_count": 35,
   "metadata": {
    "collapsed": false
   },
   "outputs": [
    {
     "data": {
      "image/png": "[encoded data removed]",
      "text/plain": [
       "<matplotlib.figure.Figure at 0x10f2a9be0>"
      ]
     },
     "metadata": {},
     "output_type": "display_data"
    }
   ],
   "source": [
    "zzz = norm_variance_dirichlet(var_params[\"DV\"][:, 0, :])\n",
    "plt.plot(zzz);"
   ]
  },
  {
   "cell_type": "code",
   "execution_count": 25,
   "metadata": {
    "collapsed": false
   },
   "outputs": [
    {
     "data": {
      "image/png": "[encoded data removed]",
      "text/plain": [
       "<matplotlib.figure.Figure at 0x1100b1828>"
      ]
     },
     "metadata": {},
     "output_type": "display_data"
    }
   ],
   "source": [
    "plt.plot(var_params[\"DL\"][:, 0, :], alpha=0.3);"
   ]
  },
  {
   "cell_type": "code",
   "execution_count": 27,
   "metadata": {
    "collapsed": false
   },
   "outputs": [
    {
     "data": {
      "image/png": "[encoded data removed]",
      "text/plain": [
       "<matplotlib.figure.Figure at 0x1100f3160>"
      ]
     },
     "metadata": {},
     "output_type": "display_data"
    }
   ],
   "source": [
    "plt.plot(var_params[\"DD\"][:, 0, :], alpha=0.3);"
   ]
  },
  {
   "cell_type": "code",
   "execution_count": 22,
   "metadata": {
    "collapsed": false
   },
   "outputs": [
    {
     "data": {
      "image/png": "[encoded data removed]",
      "text/plain": [
       "<matplotlib.figure.Figure at 0x10fb15b70>"
      ]
     },
     "metadata": {},
     "output_type": "display_data"
    }
   ],
   "source": [
    "plt.plot(var_params[\"DV\"][:, 0, :], alpha=0.3);"
   ]
  },
  {
   "cell_type": "code",
   "execution_count": 58,
   "metadata": {
    "collapsed": false
   },
   "outputs": [
    {
     "data": {
      "image/png": "[encoded data removed]",
      "text/plain": [
       "<matplotlib.figure.Figure at 0x110155a58>"
      ]
     },
     "metadata": {},
     "output_type": "display_data"
    }
   ],
   "source": [
    "plt.plot(var_params[\"L\"][:, 0, :], alpha=0.3);\n",
    "plt.plot(mean_discrete(var_params[\"L\"][:, 0, :]), 'k.', alpha=0.2);"
   ]
  },
  {
   "cell_type": "code",
   "execution_count": 59,
   "metadata": {
    "collapsed": false
   },
   "outputs": [
    {
     "data": {
      "image/png": "[encoded data removed]",
      "text/plain": [
       "<matplotlib.figure.Figure at 0x110179320>"
      ]
     },
     "metadata": {},
     "output_type": "display_data"
    }
   ],
   "source": [
    "plt.plot(var_params[\"D\"][:, 0, :], alpha=0.3);\n",
    "plt.plot(mean_discrete(var_params[\"D\"][:, 0, :]), 'k.', alpha=0.2);"
   ]
  },
  {
   "cell_type": "code",
   "execution_count": 17,
   "metadata": {
    "collapsed": true
   },
   "outputs": [],
   "source": [
    "topic_vectors = model.get_expected_topic_vectors()"
   ]
  },
  {
   "cell_type": "code",
   "execution_count": 18,
   "metadata": {
    "collapsed": false
   },
   "outputs": [
    {
     "data": {
      "text/plain": [
       "(3, 10)"
      ]
     },
     "execution_count": 18,
     "metadata": {},
     "output_type": "execute_result"
    }
   ],
   "source": [
    "topic_vectors.shape"
   ]
  },
  {
   "cell_type": "code",
   "execution_count": 19,
   "metadata": {
    "collapsed": false
   },
   "outputs": [
    {
     "name": "stdout",
     "output_type": "stream",
     "text": [
      "(10,)\n"
     ]
    },
    {
     "data": {
      "text/plain": [
       "2.1561490128993105e-06"
      ]
     },
     "execution_count": 19,
     "metadata": {},
     "output_type": "execute_result"
    }
   ],
   "source": [
    "variance = topic_vectors.var(axis=0)\n",
    "print(variance.shape)\n",
    "np.linalg.norm(variance)"
   ]
  },
  {
   "cell_type": "code",
   "execution_count": 20,
   "metadata": {
    "collapsed": false
   },
   "outputs": [
    {
     "data": {
      "image/png": "[encoded data removed]",
      "text/plain": [
       "<matplotlib.figure.Figure at 0x10fa7ea58>"
      ]
     },
     "metadata": {},
     "output_type": "display_data"
    }
   ],
   "source": [
    "for i in range(3):\n",
    "    plt.plot(topic_vectors[i,:], color='b', alpha=0.1);"
   ]
  },
  {
   "cell_type": "code",
   "execution_count": 21,
   "metadata": {
    "collapsed": false
   },
   "outputs": [
    {
     "data": {
      "image/png": "[encoded data removed]",
      "text/plain": [
       "<matplotlib.figure.Figure at 0x10fb9e828>"
      ]
     },
     "metadata": {},
     "output_type": "display_data"
    }
   ],
   "source": [
    "plt.plot(topic_vectors[0,:], color='b', alpha=0.2)\n",
    "plt.plot(topic_vectors[1,:], color='g', alpha=0.2)\n",
    "plt.plot(topic_vectors[0,:] - topic_vectors[1,:], color='r', alpha=0.5)\n",
    "None"
   ]
  },
  {
   "cell_type": "code",
   "execution_count": null,
   "metadata": {
    "collapsed": true
   },
   "outputs": [],
   "source": []
  }
 ],
 "metadata": {
  "kernelspec": {
   "display_name": "Python 3",
   "language": "python",
   "name": "python3"
  },
  "language_info": {
   "codemirror_mode": {
    "name": "ipython",
    "version": 3
   },
   "file_extension": ".py",
   "mimetype": "text/x-python",
   "name": "python",
   "nbconvert_exporter": "python",
   "pygments_lexer": "ipython3",
   "version": "3.5.0"
  }
 },
 "nbformat": 4,
 "nbformat_minor": 1
}
