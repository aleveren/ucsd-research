{
 "cells": [
  {
   "cell_type": "code",
   "execution_count": 1,
   "metadata": {
    "collapsed": true
   },
   "outputs": [],
   "source": [
    "import numpy as np\n",
    "import matplotlib.pyplot as plt\n",
    "%matplotlib inline"
   ]
  },
  {
   "cell_type": "code",
   "execution_count": 2,
   "metadata": {
    "collapsed": false
   },
   "outputs": [],
   "source": [
    "from simple_hierarchical_topic_model import SimpleHierarchicalTopicModel, load_vocab, loadmat"
   ]
  },
  {
   "cell_type": "code",
   "execution_count": 3,
   "metadata": {
    "collapsed": true
   },
   "outputs": [],
   "source": [
    "np.random.seed(1)"
   ]
  },
  {
   "cell_type": "code",
   "execution_count": 4,
   "metadata": {
    "collapsed": false
   },
   "outputs": [],
   "source": [
    "class SimData(object):\n",
    "    '''Generate a simulated dataset'''\n",
    "    def __init__(self):\n",
    "        self.vocab_size = 10\n",
    "        self.num_docs = 20\n",
    "        self.doc_length = 1000\n",
    "        self.vocab = [\"w{}\".format(i) for i in range(self.vocab_size)]\n",
    "        self.alpha_leaves = [1., 1.]\n",
    "        self.alpha_depths = [1., 1.]\n",
    "        self.init_topics()\n",
    "\n",
    "    def init_topics(self):\n",
    "        self.nodes = [(), (0,), (1,)]\n",
    "        self.topics_by_path = dict()\n",
    "        self.topics_by_index = []\n",
    "        for node_index, path in enumerate(self.nodes):\n",
    "            current_topic = np.ones(self.vocab_size)\n",
    "            heavy_vocab_indices = slice(node_index * 2, (node_index + 1) * 2)\n",
    "            current_topic[heavy_vocab_indices] *= 20\n",
    "            current_topic /= current_topic.sum()\n",
    "            self.topics_by_path[path] = current_topic\n",
    "            self.topics_by_index.append(current_topic)\n",
    "        self.topics_by_index = np.stack(self.topics_by_index)\n",
    "\n",
    "    def generate(self):\n",
    "        self.docs = []\n",
    "        self.docs_aux = []\n",
    "\n",
    "        for i in range(self.num_docs):\n",
    "            leaf_distrib = np.random.dirichlet(self.alpha_leaves)\n",
    "            depth_distrib = np.random.dirichlet(self.alpha_depths)\n",
    "            node_distrib = np.array([\n",
    "                    depth_distrib[0],\n",
    "                    depth_distrib[1] * leaf_distrib[0],\n",
    "                    depth_distrib[1] * leaf_distrib[1]])\n",
    "            current_nodes = np.random.choice(self.nodes, size = self.doc_length, p = node_distrib)\n",
    "            current_topics = [self.topics_by_path[current_nodes[j]] for j in range(self.doc_length)]\n",
    "            current_doc = []\n",
    "            for j in range(self.doc_length):\n",
    "                word_index = np.random.choice(self.vocab_size, p = current_topics[j])\n",
    "                current_doc.append(self.vocab[word_index])\n",
    "            current_doc = \" \".join(current_doc)\n",
    "            self.docs.append(current_doc)\n",
    "            self.docs_aux.append({\n",
    "                \"doc\": current_doc,\n",
    "                \"leaf_distrib\": leaf_distrib,\n",
    "                \"depth_distrib\": depth_distrib,\n",
    "                \"node_distrib\": node_distrib,\n",
    "                \"nodes_by_word_slot\": current_nodes,\n",
    "            })\n",
    "\n",
    "        return self.docs\n",
    "\n",
    "sim = SimData()\n",
    "docs = sim.generate()\n",
    "#docs"
   ]
  },
  {
   "cell_type": "code",
   "execution_count": 5,
   "metadata": {
    "collapsed": true
   },
   "outputs": [],
   "source": [
    "import os\n",
    "import sys\n",
    "sys.path.append(os.path.abspath(\"..\"))\n",
    "import text_utils"
   ]
  },
  {
   "cell_type": "code",
   "execution_count": 6,
   "metadata": {
    "collapsed": true
   },
   "outputs": [],
   "source": [
    "data, vocab = text_utils.document_strings_to_sparse_term_doc(\n",
    "    docs = docs,\n",
    "    tokenizer = text_utils.default_tokenizer,\n",
    "    vocab = sim.vocab)"
   ]
  },
  {
   "cell_type": "code",
   "execution_count": 7,
   "metadata": {
    "collapsed": false
   },
   "outputs": [
    {
     "data": {
      "text/plain": [
       "['w0', 'w1', 'w2', 'w3', 'w4', 'w5', 'w6', 'w7', 'w8', 'w9']"
      ]
     },
     "execution_count": 7,
     "metadata": {},
     "output_type": "execute_result"
    }
   ],
   "source": [
    "vocab"
   ]
  },
  {
   "cell_type": "code",
   "execution_count": 8,
   "metadata": {
    "collapsed": false
   },
   "outputs": [
    {
     "data": {
      "image/png": "[encoded data removed]",
      "text/plain": [
       "<matplotlib.figure.Figure at 0x10a9b7860>"
      ]
     },
     "metadata": {},
     "output_type": "display_data"
    }
   ],
   "source": [
    "plt.imshow(data.todense());"
   ]
  },
  {
   "cell_type": "code",
   "execution_count": 9,
   "metadata": {
    "collapsed": false
   },
   "outputs": [
    {
     "data": {
      "image/png": "[encoded data removed]",
      "text/plain": [
       "<matplotlib.figure.Figure at 0x10a5687b8>"
      ]
     },
     "metadata": {},
     "output_type": "display_data"
    }
   ],
   "source": [
    "plt.imshow(sim.topics_by_index);"
   ]
  },
  {
   "cell_type": "code",
   "execution_count": 10,
   "metadata": {
    "collapsed": false
   },
   "outputs": [],
   "source": [
    "model = SimpleHierarchicalTopicModel(\n",
    "    branching_factors = [2], num_epochs = 100,\n",
    "    batch_size = 100, vocab = vocab)"
   ]
  },
  {
   "cell_type": "code",
   "execution_count": 11,
   "metadata": {
    "collapsed": false,
    "scrolled": true
   },
   "outputs": [
    {
     "name": "stderr",
     "output_type": "stream",
     "text": [
      "100%|██████████| 2000/2000 [00:09<00:00, 212.47it/s, ELBO_previous=5.52e+06, Status=computing ELBO]"
     ]
    },
    {
     "name": "stdout",
     "output_type": "stream",
     "text": [
      "Top words by node:\n",
      "()  : w0, w1, w3, w2, w4, w5, w6, w7, w9, w8\n",
      "(0,): w0, w1, w3, w2, w4, w5, w6, w7, w9, w8\n",
      "(1,): w0, w1, w3, w2, w4, w5, w6, w7, w9, w8\n"
     ]
    },
    {
     "name": "stderr",
     "output_type": "stream",
     "text": [
      "\n"
     ]
    }
   ],
   "source": [
    "model.fit(data)\n",
    "top_words = model.get_top_words_by_node(num_words = 10)\n",
    "model.print_top_words_by_node(num_words = 10);"
   ]
  },
  {
   "cell_type": "code",
   "execution_count": 12,
   "metadata": {
    "collapsed": false
   },
   "outputs": [
    {
     "data": {
      "image/png": "[encoded data removed]",
      "text/plain": [
       "<matplotlib.figure.Figure at 0x110b42cf8>"
      ]
     },
     "metadata": {},
     "output_type": "display_data"
    }
   ],
   "source": [
    "fig, ax = plt.subplots()\n",
    "ax.plot(model.get_stats_by_epoch(\"ELBO\"))\n",
    "ax.set_xlabel(\"Epoch\")\n",
    "ax.set_ylabel(\"ELBO\")\n",
    "None"
   ]
  },
  {
   "cell_type": "code",
   "execution_count": 13,
   "metadata": {
    "collapsed": true
   },
   "outputs": [],
   "source": [
    "topic_vectors = model.get_expected_topic_vectors()"
   ]
  },
  {
   "cell_type": "code",
   "execution_count": 14,
   "metadata": {
    "collapsed": false
   },
   "outputs": [
    {
     "data": {
      "text/plain": [
       "(3, 10)"
      ]
     },
     "execution_count": 14,
     "metadata": {},
     "output_type": "execute_result"
    }
   ],
   "source": [
    "topic_vectors.shape"
   ]
  },
  {
   "cell_type": "code",
   "execution_count": 15,
   "metadata": {
    "collapsed": false
   },
   "outputs": [
    {
     "name": "stdout",
     "output_type": "stream",
     "text": [
      "(10,)\n"
     ]
    },
    {
     "data": {
      "text/plain": [
       "2.1137702116376638e-06"
      ]
     },
     "execution_count": 15,
     "metadata": {},
     "output_type": "execute_result"
    }
   ],
   "source": [
    "variance = topic_vectors.var(axis=0)\n",
    "print(variance.shape)\n",
    "np.linalg.norm(variance)"
   ]
  },
  {
   "cell_type": "code",
   "execution_count": 16,
   "metadata": {
    "collapsed": false
   },
   "outputs": [
    {
     "data": {
      "image/png": "[encoded data removed]",
      "text/plain": [
       "<matplotlib.figure.Figure at 0x109f88860>"
      ]
     },
     "metadata": {},
     "output_type": "display_data"
    }
   ],
   "source": [
    "for i in range(3):\n",
    "    plt.plot(topic_vectors[i,:], color='b', alpha=0.1);"
   ]
  },
  {
   "cell_type": "code",
   "execution_count": 17,
   "metadata": {
    "collapsed": false
   },
   "outputs": [
    {
     "data": {
      "image/png": "[encoded data removed]",
      "text/plain": [
       "<matplotlib.figure.Figure at 0x109fd0160>"
      ]
     },
     "metadata": {},
     "output_type": "display_data"
    }
   ],
   "source": [
    "plt.plot(topic_vectors[0,:], color='b', alpha=0.2)\n",
    "plt.plot(topic_vectors[1,:], color='g', alpha=0.2)\n",
    "plt.plot(topic_vectors[0,:] - topic_vectors[1,:], color='r', alpha=0.5)\n",
    "None"
   ]
  },
  {
   "cell_type": "code",
   "execution_count": null,
   "metadata": {
    "collapsed": true
   },
   "outputs": [],
   "source": []
  }
 ],
 "metadata": {
  "kernelspec": {
   "display_name": "Python 3",
   "language": "python",
   "name": "python3"
  },
  "language_info": {
   "codemirror_mode": {
    "name": "ipython",
    "version": 3
   },
   "file_extension": ".py",
   "mimetype": "text/x-python",
   "name": "python",
   "nbconvert_exporter": "python",
   "pygments_lexer": "ipython3",
   "version": "3.5.0"
  }
 },
 "nbformat": 4,
 "nbformat_minor": 1
}
