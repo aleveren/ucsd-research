{
 "cells": [
  {
   "cell_type": "code",
   "execution_count": 1,
   "metadata": {
    "collapsed": true
   },
   "outputs": [],
   "source": [
    "import numpy as np\n",
    "import matplotlib.pyplot as plt\n",
    "import math\n",
    "from collections import Counter, defaultdict, namedtuple\n",
    "%matplotlib inline"
   ]
  },
  {
   "cell_type": "code",
   "execution_count": 2,
   "metadata": {
    "collapsed": true
   },
   "outputs": [],
   "source": [
    "np.random.seed(1)"
   ]
  },
  {
   "cell_type": "code",
   "execution_count": 3,
   "metadata": {
    "collapsed": true
   },
   "outputs": [],
   "source": [
    "doc = [0,0,2,2,2,4]"
   ]
  },
  {
   "cell_type": "code",
   "execution_count": 4,
   "metadata": {
    "collapsed": false
   },
   "outputs": [
    {
     "data": {
      "text/plain": [
       "array([ 2.,  0.,  3.,  0.,  1.])"
      ]
     },
     "execution_count": 4,
     "metadata": {},
     "output_type": "execute_result"
    }
   ],
   "source": [
    "counter = Counter(doc)\n",
    "vocab_size = max(counter) + 1\n",
    "counts = np.zeros((vocab_size,))\n",
    "for i, c in counter.items():\n",
    "    counts[i] += c\n",
    "counts"
   ]
  },
  {
   "cell_type": "code",
   "execution_count": 5,
   "metadata": {
    "collapsed": false
   },
   "outputs": [
    {
     "data": {
      "text/plain": [
       "array([[ 4.,  0.,  6.,  0.,  2.],\n",
       "       [ 0.,  0.,  0.,  0.,  0.],\n",
       "       [ 6.,  0.,  9.,  0.,  3.],\n",
       "       [ 0.,  0.,  0.,  0.,  0.],\n",
       "       [ 2.,  0.,  3.,  0.,  1.]])"
      ]
     },
     "execution_count": 5,
     "metadata": {},
     "output_type": "execute_result"
    }
   ],
   "source": [
    "np.outer(counts, counts)"
   ]
  },
  {
   "cell_type": "code",
   "execution_count": 6,
   "metadata": {
    "collapsed": false
   },
   "outputs": [
    {
     "data": {
      "text/plain": [
       "array([[ 0.,  0.,  6.,  0.,  2.],\n",
       "       [ 0.,  0.,  0.,  0.,  0.],\n",
       "       [ 6.,  0.,  0.,  0.,  3.],\n",
       "       [ 0.,  0.,  0.,  0.,  0.],\n",
       "       [ 2.,  0.,  3.,  0.,  0.]])"
      ]
     },
     "execution_count": 6,
     "metadata": {},
     "output_type": "execute_result"
    }
   ],
   "source": [
    "np.outer(counts, counts) - np.diag(counts**2)"
   ]
  },
  {
   "cell_type": "code",
   "execution_count": 7,
   "metadata": {
    "collapsed": true
   },
   "outputs": [],
   "source": [
    "unit_vec = list(np.eye(vocab_size))"
   ]
  },
  {
   "cell_type": "code",
   "execution_count": 9,
   "metadata": {
    "collapsed": false
   },
   "outputs": [
    {
     "data": {
      "text/plain": [
       "array([[ 2.,  0.,  6.,  0.,  2.],\n",
       "       [ 0.,  0.,  0.,  0.,  0.],\n",
       "       [ 6.,  0.,  3.,  0.,  3.],\n",
       "       [ 0.,  0.,  0.,  0.,  0.],\n",
       "       [ 2.,  0.,  3.,  0.,  1.]])"
      ]
     },
     "execution_count": 9,
     "metadata": {},
     "output_type": "execute_result"
    }
   ],
   "source": [
    "H = np.zeros((vocab_size, vocab_size))\n",
    "for i in doc:\n",
    "    for j in doc:\n",
    "        if i != j:\n",
    "            H[i,j] += 1\n",
    "    H[i,i] += 1\n",
    "H"
   ]
  },
  {
   "cell_type": "code",
   "execution_count": 12,
   "metadata": {
    "collapsed": true
   },
   "outputs": [],
   "source": [
    "from io import StringIO"
   ]
  },
  {
   "cell_type": "code",
   "execution_count": 20,
   "metadata": {
    "collapsed": false
   },
   "outputs": [
    {
     "data": {
      "text/plain": [
       "array([[ 0.048,  0.042,  0.047,  0.024,  0.029,  0.026],\n",
       "       [ 0.035,  0.04 ,  0.045,  0.016,  0.023,  0.029],\n",
       "       [ 0.031,  0.019,  0.031,  0.04 ,  0.045,  0.042],\n",
       "       [ 0.027,  0.023,  0.031,  0.032,  0.039,  0.045],\n",
       "       [ 0.047,  0.043,  0.035,  0.026,  0.021,  0.019]])"
      ]
     },
     "execution_count": 20,
     "metadata": {},
     "output_type": "execute_result"
    }
   ],
   "source": [
    "x = np.loadtxt(StringIO(u\"\"\"\\\n",
    ".048 .042 .047 .024 .029 .026\n",
    ".035 .040 .045 .016 .023 .029\n",
    ".031 .019 .031 .040 .045 .042\n",
    ".027 .023 .031 .032 .039 .045\n",
    ".047 .043 .035 .026 .021 .019\n",
    "\"\"\"))\n",
    "x"
   ]
  },
  {
   "cell_type": "code",
   "execution_count": 23,
   "metadata": {
    "collapsed": false
   },
   "outputs": [
    {
     "data": {
      "text/plain": [
       "1.0000000000000002"
      ]
     },
     "execution_count": 23,
     "metadata": {},
     "output_type": "execute_result"
    }
   ],
   "source": [
    "x.sum()"
   ]
  },
  {
   "cell_type": "code",
   "execution_count": 27,
   "metadata": {
    "collapsed": true
   },
   "outputs": [],
   "source": [
    "c = np.loadtxt(StringIO(u\"\"\"\n",
    ".33 .14\n",
    ".29 .12\n",
    ".02 .33\n",
    ".05 .29\n",
    ".32 .11\n",
    "\"\"\"))\n",
    "s = np.loadtxt(StringIO(u\"\"\"\n",
    ".39 0\n",
    "0 .61\n",
    "\"\"\"))\n",
    "h = np.loadtxt(StringIO(u\"\"\"\n",
    ".27 .14\n",
    ".28 .09\n",
    ".25 .15\n",
    ".07 .18\n",
    ".06 .22\n",
    ".06 .23\n",
    "\"\"\"))"
   ]
  },
  {
   "cell_type": "code",
   "execution_count": 37,
   "metadata": {
    "collapsed": false
   },
   "outputs": [
    {
     "data": {
      "text/plain": [
       "((4, 2), 0.0062649999999999997, 0.0062649999999999997)"
      ]
     },
     "execution_count": 37,
     "metadata": {},
     "output_type": "execute_result"
    }
   ],
   "source": [
    "diff = c.dot(s).dot(h.T) - x\n",
    "abs_diff = np.abs(diff)\n",
    "i = np.argmax(abs_diff)\n",
    "i = np.unravel_index(i, abs_diff.shape)\n",
    "i, diff[i], np.max(abs_diff)"
   ]
  },
  {
   "cell_type": "code",
   "execution_count": 41,
   "metadata": {
    "collapsed": false
   },
   "outputs": [
    {
     "data": {
      "text/plain": [
       "0.9998999999999999"
      ]
     },
     "execution_count": 41,
     "metadata": {},
     "output_type": "execute_result"
    }
   ],
   "source": [
    "np.sum(c.dot(s).dot(h.T))"
   ]
  },
  {
   "cell_type": "code",
   "execution_count": null,
   "metadata": {
    "collapsed": true
   },
   "outputs": [],
   "source": []
  }
 ],
 "metadata": {
  "kernelspec": {
   "display_name": "Python 2",
   "language": "python",
   "name": "python2"
  },
  "language_info": {
   "codemirror_mode": {
    "name": "ipython",
    "version": 2
   },
   "file_extension": ".py",
   "mimetype": "text/x-python",
   "name": "python",
   "nbconvert_exporter": "python",
   "pygments_lexer": "ipython2",
   "version": "2.7.10"
  }
 },
 "nbformat": 4,
 "nbformat_minor": 1
}
