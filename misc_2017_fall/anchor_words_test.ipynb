{
 "cells": [
  {
   "cell_type": "code",
   "execution_count": 1,
   "metadata": {
    "collapsed": true
   },
   "outputs": [],
   "source": [
    "import numpy as np\n",
    "import matplotlib.pyplot as plt\n",
    "import math\n",
    "from collections import Counter, defaultdict, namedtuple\n",
    "%matplotlib inline"
   ]
  },
  {
   "cell_type": "code",
   "execution_count": 2,
   "metadata": {
    "collapsed": true
   },
   "outputs": [],
   "source": [
    "np.random.seed(1)"
   ]
  },
  {
   "cell_type": "code",
   "execution_count": 3,
   "metadata": {
    "collapsed": true
   },
   "outputs": [],
   "source": [
    "import sys\n",
    "import os\n",
    "sys.path.append(\"/Users/aleverentz/ucsd-classes/research/hier-topic-models/\")"
   ]
  },
  {
   "cell_type": "code",
   "execution_count": 4,
   "metadata": {
    "collapsed": false
   },
   "outputs": [
    {
     "name": "stderr",
     "output_type": "stream",
     "text": [
      "Reading lines: 100%|██████████| 2246/2246 [00:00<00:00, 3657.11it/s]\n",
      "Filling matrix: 100%|██████████| 2246/2246 [00:02<00:00, 971.83it/s]\n",
      "Loading vocabulary: 100%|██████████| 10473/10473 [00:00<00:00, 1779860.04it/s]\n"
     ]
    }
   ],
   "source": [
    "from load_data import load_data, load_vocab\n",
    "data = load_data(\"/Users/aleverentz/Downloads/ap/ap.dat\")\n",
    "vocab = load_vocab(\"/Users/aleverentz/Downloads/ap/vocab.txt\")"
   ]
  },
  {
   "cell_type": "code",
   "execution_count": 5,
   "metadata": {
    "collapsed": false
   },
   "outputs": [
    {
     "data": {
      "text/plain": [
       "((2246, 10473), 10473)"
      ]
     },
     "execution_count": 5,
     "metadata": {},
     "output_type": "execute_result"
    }
   ],
   "source": [
    "data.shape, len(vocab)"
   ]
  },
  {
   "cell_type": "code",
   "execution_count": 6,
   "metadata": {
    "collapsed": true
   },
   "outputs": [],
   "source": [
    "from scipy.sparse import dok_matrix, csr_matrix, isspmatrix_csr"
   ]
  },
  {
   "cell_type": "code",
   "execution_count": 7,
   "metadata": {
    "collapsed": true
   },
   "outputs": [],
   "source": [
    "from collections import defaultdict"
   ]
  },
  {
   "cell_type": "code",
   "execution_count": 8,
   "metadata": {
    "collapsed": true
   },
   "outputs": [],
   "source": [
    "from tqdm import tqdm"
   ]
  },
  {
   "cell_type": "code",
   "execution_count": 9,
   "metadata": {
    "collapsed": true
   },
   "outputs": [],
   "source": [
    "def make_q(doc_term_matrix):\n",
    "    assert isspmatrix_csr(doc_term_matrix), \"Must provide sparse-CSR matrix\"\n",
    "    D, V = doc_term_matrix.shape\n",
    "    result = dok_matrix((V, V), dtype='float')\n",
    "    total_by_term = defaultdict(float)\n",
    "    # Iterate over rows (documents)\n",
    "    for doc in tqdm(doc_term_matrix, total=D, desc=\"Processing documents\"):\n",
    "        for i, count_i in zip(doc.indices, doc.data):\n",
    "            for j, count_j in zip(doc.indices, doc.data):\n",
    "                assert count_i > 0 and count_j > 0\n",
    "                if i == j:\n",
    "                    to_add = count_i * (count_i - 1)\n",
    "                else:\n",
    "                    to_add = count_i * count_j\n",
    "                result[i, j] += to_add\n",
    "                total_by_term[i] += to_add\n",
    "    # TODO: convert to result CSR format (before/after normalizing?)\n",
    "    for i, j in tqdm(result.keys(), total=result.nnz, desc=\"Normalizing\"):\n",
    "        result[i, j] /= total_by_term[i]\n",
    "    return result"
   ]
  },
  {
   "cell_type": "code",
   "execution_count": 10,
   "metadata": {
    "collapsed": false
   },
   "outputs": [
    {
     "name": "stderr",
     "output_type": "stream",
     "text": [
      "Processing documents: 100%|██████████| 2246/2246 [1:25:45<00:00,  2.29s/it]\n",
      "Normalizing: 100%|██████████| 21226142/21226142 [09:05<00:00, 38894.66it/s]"
     ]
    },
    {
     "name": "stdout",
     "output_type": "stream",
     "text": [
      "(10473, 10473) 21226142\n",
      "CPU times: user 38min 54s, sys: 13.8 s, total: 39min 8s\n",
      "Wall time: 1h 34min 51s\n"
     ]
    },
    {
     "name": "stderr",
     "output_type": "stream",
     "text": [
      "\n"
     ]
    }
   ],
   "source": [
    "%%time\n",
    "q = make_q(data[:,:])\n",
    "print(q.shape, q.nnz)"
   ]
  },
  {
   "cell_type": "code",
   "execution_count": 11,
   "metadata": {
    "collapsed": false
   },
   "outputs": [
    {
     "name": "stdout",
     "output_type": "stream",
     "text": [
      "1.0 1.0\n",
      "CPU times: user 16.3 s, sys: 106 ms, total: 16.4 s\n",
      "Wall time: 16.5 s\n"
     ]
    }
   ],
   "source": [
    "%%time\n",
    "row_sums = np.asarray(q.sum(axis=1)).squeeze()\n",
    "print(row_sums.min(), row_sums.max())"
   ]
  },
  {
   "cell_type": "code",
   "execution_count": 12,
   "metadata": {
    "collapsed": false
   },
   "outputs": [
    {
     "data": {
      "text/plain": [
       "0.19352133806464586"
      ]
     },
     "execution_count": 12,
     "metadata": {},
     "output_type": "execute_result"
    }
   ],
   "source": [
    "q.nnz / np.product(q.shape)"
   ]
  },
  {
   "cell_type": "code",
   "execution_count": 13,
   "metadata": {
    "collapsed": false
   },
   "outputs": [
    {
     "data": {
      "text/plain": [
       "(10473,)"
      ]
     },
     "execution_count": 13,
     "metadata": {},
     "output_type": "execute_result"
    }
   ],
   "source": [
    "row_sums.shape"
   ]
  },
  {
   "cell_type": "code",
   "execution_count": null,
   "metadata": {
    "collapsed": true
   },
   "outputs": [],
   "source": [
    "def anchor_words(q_normalized, k):\n",
    "    assert k < q_normalized.shape[0]\n",
    "    def extend_set(current):\n",
    "        if current is None:\n",
    "            norms = np.linalg.norm(q_normalized, ord=2, axis=1)\n",
    "            ii = np.argmax(norms)\n",
    "            new_row = np.asarray(q_normalized[ii].todense())\n",
    "            return new_row.reshape((1, -1))\n",
    "        else:\n",
    "            pass\n",
    "    result = None\n",
    "    for i in tqdm(range(k)):\n",
    "        result = extend_set(result)\n",
    "    return result"
   ]
  },
  {
   "cell_type": "code",
   "execution_count": null,
   "metadata": {
    "collapsed": false
   },
   "outputs": [
    {
     "name": "stderr",
     "output_type": "stream",
     "text": [
      "\r",
      "  0%|          | 0/2 [00:00<?, ?it/s]"
     ]
    }
   ],
   "source": [
    "anchor_words(q, k=2)"
   ]
  },
  {
   "cell_type": "code",
   "execution_count": null,
   "metadata": {
    "collapsed": true
   },
   "outputs": [],
   "source": []
  }
 ],
 "metadata": {
  "kernelspec": {
   "display_name": "Python 3",
   "language": "python",
   "name": "python3"
  },
  "language_info": {
   "codemirror_mode": {
    "name": "ipython",
    "version": 3
   },
   "file_extension": ".py",
   "mimetype": "text/x-python",
   "name": "python",
   "nbconvert_exporter": "python",
   "pygments_lexer": "ipython3",
   "version": "3.5.0"
  }
 },
 "nbformat": 4,
 "nbformat_minor": 1
}
