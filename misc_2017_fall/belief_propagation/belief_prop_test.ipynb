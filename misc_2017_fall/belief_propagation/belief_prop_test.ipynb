{
 "cells": [
  {
   "cell_type": "code",
   "execution_count": 1,
   "metadata": {
    "collapsed": true
   },
   "outputs": [],
   "source": [
    "import numpy as np\n",
    "import matplotlib.pyplot as plt\n",
    "%matplotlib inline"
   ]
  },
  {
   "cell_type": "code",
   "execution_count": 2,
   "metadata": {
    "collapsed": false
   },
   "outputs": [],
   "source": [
    "from belief_propagation import build_grass_network, FactorGraph"
   ]
  },
  {
   "cell_type": "code",
   "execution_count": 3,
   "metadata": {
    "collapsed": true
   },
   "outputs": [],
   "source": [
    "grass_network = build_grass_network()\n",
    "graph = FactorGraph.from_directed_graph_model(grass_network)"
   ]
  },
  {
   "cell_type": "code",
   "execution_count": 4,
   "metadata": {
    "collapsed": false
   },
   "outputs": [
    {
     "name": "stdout",
     "output_type": "stream",
     "text": [
      "DEBUGGING: query(event = {'Rain': 1}, evidence = {'GrassWet': 1})\n",
      "DEBUGGING: query(event = {'GrassWet': 1, 'Rain': 1}, evidence = None)\n",
      "DEBUGGING: query_recursive(event = {'GrassWet': 1, 'Rain': 1}, unassigned_combinations = {'Sprinkler': [0, 1]})\n",
      "DEBUGGING: query_recursive(event = {'GrassWet': 1, 'Rain': 1, 'Sprinkler': 0}, unassigned_combinations = {})\n",
      "DEBUGGING: ConditionalTable(var = GrassWet, parents = ['Rain', 'Sprinkler'], table = {('Rain', 0, 'Sprinkler', 0, 'GrassWet', 1): 0.0, ('Rain', 0, 'Sprinkler', 1, 'GrassWet', 1): 0.9, ('Rain', 1, 'Sprinkler', 0, 'GrassWet', 0): 0.2, ('Rain', 0, 'Sprinkler', 0, 'GrassWet', 0): 1.0, ('Rain', 1, 'Sprinkler', 1, 'GrassWet', 1): 0.99, ('Rain', 1, 'Sprinkler', 0, 'GrassWet', 1): 0.8, ('Rain', 0, 'Sprinkler', 1, 'GrassWet', 0): 0.1, ('Rain', 1, 'Sprinkler', 1, 'GrassWet', 0): 0.01}).query(event = {'GrassWet': 1, 'Rain': 1, 'Sprinkler': 0})\n",
      "DEBUGGING: key = ('Rain', 1, 'Sprinkler', 0, 'GrassWet', 1)\n",
      "DEBUGGING: ConditionalTable(var = Rain, parents = [], table = {('Rain', 1): 0.2, ('Rain', 0): 0.8}).query(event = {'Rain': 1})\n",
      "DEBUGGING: key = ('Rain', 1)\n",
      "DEBUGGING: ConditionalTable(var = Sprinkler, parents = ['Rain'], table = {('Rain', 1, 'Sprinkler', 1): 0.01, ('Rain', 1, 'Sprinkler', 0): 0.99, ('Rain', 0, 'Sprinkler', 0): 0.6, ('Rain', 0, 'Sprinkler', 1): 0.4}).query(event = {'Rain': 1, 'Sprinkler': 0})\n",
      "DEBUGGING: key = ('Rain', 1, 'Sprinkler', 0)\n",
      "DEBUGGING: query_recursive(event = {'GrassWet': 1, 'Rain': 1, 'Sprinkler': 1}, unassigned_combinations = {})\n",
      "DEBUGGING: ConditionalTable(var = GrassWet, parents = ['Rain', 'Sprinkler'], table = {('Rain', 0, 'Sprinkler', 0, 'GrassWet', 1): 0.0, ('Rain', 0, 'Sprinkler', 1, 'GrassWet', 1): 0.9, ('Rain', 1, 'Sprinkler', 0, 'GrassWet', 0): 0.2, ('Rain', 0, 'Sprinkler', 0, 'GrassWet', 0): 1.0, ('Rain', 1, 'Sprinkler', 1, 'GrassWet', 1): 0.99, ('Rain', 1, 'Sprinkler', 0, 'GrassWet', 1): 0.8, ('Rain', 0, 'Sprinkler', 1, 'GrassWet', 0): 0.1, ('Rain', 1, 'Sprinkler', 1, 'GrassWet', 0): 0.01}).query(event = {'GrassWet': 1, 'Rain': 1, 'Sprinkler': 1})\n",
      "DEBUGGING: key = ('Rain', 1, 'Sprinkler', 1, 'GrassWet', 1)\n",
      "DEBUGGING: ConditionalTable(var = Rain, parents = [], table = {('Rain', 1): 0.2, ('Rain', 0): 0.8}).query(event = {'Rain': 1})\n",
      "DEBUGGING: key = ('Rain', 1)\n",
      "DEBUGGING: ConditionalTable(var = Sprinkler, parents = ['Rain'], table = {('Rain', 1, 'Sprinkler', 1): 0.01, ('Rain', 1, 'Sprinkler', 0): 0.99, ('Rain', 0, 'Sprinkler', 0): 0.6, ('Rain', 0, 'Sprinkler', 1): 0.4}).query(event = {'Rain': 1, 'Sprinkler': 1})\n",
      "DEBUGGING: key = ('Rain', 1, 'Sprinkler', 1)\n",
      "DEBUGGING: query(event = {'GrassWet': 1}, evidence = None)\n",
      "DEBUGGING: query_recursive(event = {'GrassWet': 1}, unassigned_combinations = {'Rain': [0, 1], 'Sprinkler': [0, 1]})\n",
      "DEBUGGING: query_recursive(event = {'GrassWet': 1, 'Rain': 0}, unassigned_combinations = {'Sprinkler': [0, 1]})\n",
      "DEBUGGING: query_recursive(event = {'GrassWet': 1, 'Rain': 0, 'Sprinkler': 0}, unassigned_combinations = {})\n",
      "DEBUGGING: ConditionalTable(var = GrassWet, parents = ['Rain', 'Sprinkler'], table = {('Rain', 0, 'Sprinkler', 0, 'GrassWet', 1): 0.0, ('Rain', 0, 'Sprinkler', 1, 'GrassWet', 1): 0.9, ('Rain', 1, 'Sprinkler', 0, 'GrassWet', 0): 0.2, ('Rain', 0, 'Sprinkler', 0, 'GrassWet', 0): 1.0, ('Rain', 1, 'Sprinkler', 1, 'GrassWet', 1): 0.99, ('Rain', 1, 'Sprinkler', 0, 'GrassWet', 1): 0.8, ('Rain', 0, 'Sprinkler', 1, 'GrassWet', 0): 0.1, ('Rain', 1, 'Sprinkler', 1, 'GrassWet', 0): 0.01}).query(event = {'GrassWet': 1, 'Rain': 0, 'Sprinkler': 0})\n",
      "DEBUGGING: key = ('Rain', 0, 'Sprinkler', 0, 'GrassWet', 1)\n",
      "DEBUGGING: ConditionalTable(var = Rain, parents = [], table = {('Rain', 1): 0.2, ('Rain', 0): 0.8}).query(event = {'Rain': 0})\n",
      "DEBUGGING: key = ('Rain', 0)\n",
      "DEBUGGING: ConditionalTable(var = Sprinkler, parents = ['Rain'], table = {('Rain', 1, 'Sprinkler', 1): 0.01, ('Rain', 1, 'Sprinkler', 0): 0.99, ('Rain', 0, 'Sprinkler', 0): 0.6, ('Rain', 0, 'Sprinkler', 1): 0.4}).query(event = {'Rain': 0, 'Sprinkler': 0})\n",
      "DEBUGGING: key = ('Rain', 0, 'Sprinkler', 0)\n",
      "DEBUGGING: query_recursive(event = {'GrassWet': 1, 'Rain': 0, 'Sprinkler': 1}, unassigned_combinations = {})\n",
      "DEBUGGING: ConditionalTable(var = GrassWet, parents = ['Rain', 'Sprinkler'], table = {('Rain', 0, 'Sprinkler', 0, 'GrassWet', 1): 0.0, ('Rain', 0, 'Sprinkler', 1, 'GrassWet', 1): 0.9, ('Rain', 1, 'Sprinkler', 0, 'GrassWet', 0): 0.2, ('Rain', 0, 'Sprinkler', 0, 'GrassWet', 0): 1.0, ('Rain', 1, 'Sprinkler', 1, 'GrassWet', 1): 0.99, ('Rain', 1, 'Sprinkler', 0, 'GrassWet', 1): 0.8, ('Rain', 0, 'Sprinkler', 1, 'GrassWet', 0): 0.1, ('Rain', 1, 'Sprinkler', 1, 'GrassWet', 0): 0.01}).query(event = {'GrassWet': 1, 'Rain': 0, 'Sprinkler': 1})\n",
      "DEBUGGING: key = ('Rain', 0, 'Sprinkler', 1, 'GrassWet', 1)\n",
      "DEBUGGING: ConditionalTable(var = Rain, parents = [], table = {('Rain', 1): 0.2, ('Rain', 0): 0.8}).query(event = {'Rain': 0})\n",
      "DEBUGGING: key = ('Rain', 0)\n",
      "DEBUGGING: ConditionalTable(var = Sprinkler, parents = ['Rain'], table = {('Rain', 1, 'Sprinkler', 1): 0.01, ('Rain', 1, 'Sprinkler', 0): 0.99, ('Rain', 0, 'Sprinkler', 0): 0.6, ('Rain', 0, 'Sprinkler', 1): 0.4}).query(event = {'Rain': 0, 'Sprinkler': 1})\n",
      "DEBUGGING: key = ('Rain', 0, 'Sprinkler', 1)\n",
      "DEBUGGING: query_recursive(event = {'GrassWet': 1, 'Rain': 1}, unassigned_combinations = {'Sprinkler': [0, 1]})\n",
      "DEBUGGING: query_recursive(event = {'GrassWet': 1, 'Rain': 1, 'Sprinkler': 0}, unassigned_combinations = {})\n",
      "DEBUGGING: ConditionalTable(var = GrassWet, parents = ['Rain', 'Sprinkler'], table = {('Rain', 0, 'Sprinkler', 0, 'GrassWet', 1): 0.0, ('Rain', 0, 'Sprinkler', 1, 'GrassWet', 1): 0.9, ('Rain', 1, 'Sprinkler', 0, 'GrassWet', 0): 0.2, ('Rain', 0, 'Sprinkler', 0, 'GrassWet', 0): 1.0, ('Rain', 1, 'Sprinkler', 1, 'GrassWet', 1): 0.99, ('Rain', 1, 'Sprinkler', 0, 'GrassWet', 1): 0.8, ('Rain', 0, 'Sprinkler', 1, 'GrassWet', 0): 0.1, ('Rain', 1, 'Sprinkler', 1, 'GrassWet', 0): 0.01}).query(event = {'GrassWet': 1, 'Rain': 1, 'Sprinkler': 0})\n",
      "DEBUGGING: key = ('Rain', 1, 'Sprinkler', 0, 'GrassWet', 1)\n",
      "DEBUGGING: ConditionalTable(var = Rain, parents = [], table = {('Rain', 1): 0.2, ('Rain', 0): 0.8}).query(event = {'Rain': 1})\n",
      "DEBUGGING: key = ('Rain', 1)\n",
      "DEBUGGING: ConditionalTable(var = Sprinkler, parents = ['Rain'], table = {('Rain', 1, 'Sprinkler', 1): 0.01, ('Rain', 1, 'Sprinkler', 0): 0.99, ('Rain', 0, 'Sprinkler', 0): 0.6, ('Rain', 0, 'Sprinkler', 1): 0.4}).query(event = {'Rain': 1, 'Sprinkler': 0})\n",
      "DEBUGGING: key = ('Rain', 1, 'Sprinkler', 0)\n",
      "DEBUGGING: query_recursive(event = {'GrassWet': 1, 'Rain': 1, 'Sprinkler': 1}, unassigned_combinations = {})\n",
      "DEBUGGING: ConditionalTable(var = GrassWet, parents = ['Rain', 'Sprinkler'], table = {('Rain', 0, 'Sprinkler', 0, 'GrassWet', 1): 0.0, ('Rain', 0, 'Sprinkler', 1, 'GrassWet', 1): 0.9, ('Rain', 1, 'Sprinkler', 0, 'GrassWet', 0): 0.2, ('Rain', 0, 'Sprinkler', 0, 'GrassWet', 0): 1.0, ('Rain', 1, 'Sprinkler', 1, 'GrassWet', 1): 0.99, ('Rain', 1, 'Sprinkler', 0, 'GrassWet', 1): 0.8, ('Rain', 0, 'Sprinkler', 1, 'GrassWet', 0): 0.1, ('Rain', 1, 'Sprinkler', 1, 'GrassWet', 0): 0.01}).query(event = {'GrassWet': 1, 'Rain': 1, 'Sprinkler': 1})\n",
      "DEBUGGING: key = ('Rain', 1, 'Sprinkler', 1, 'GrassWet', 1)\n",
      "DEBUGGING: ConditionalTable(var = Rain, parents = [], table = {('Rain', 1): 0.2, ('Rain', 0): 0.8}).query(event = {'Rain': 1})\n",
      "DEBUGGING: key = ('Rain', 1)\n",
      "DEBUGGING: ConditionalTable(var = Sprinkler, parents = ['Rain'], table = {('Rain', 1, 'Sprinkler', 1): 0.01, ('Rain', 1, 'Sprinkler', 0): 0.99, ('Rain', 0, 'Sprinkler', 0): 0.6, ('Rain', 0, 'Sprinkler', 1): 0.4}).query(event = {'Rain': 1, 'Sprinkler': 1})\n",
      "DEBUGGING: key = ('Rain', 1, 'Sprinkler', 1)\n"
     ]
    },
    {
     "data": {
      "text/plain": [
       "0.3576876756322762"
      ]
     },
     "execution_count": 4,
     "metadata": {},
     "output_type": "execute_result"
    }
   ],
   "source": [
    "query_kwargs = dict(event = {\"Rain\": 1}, evidence = {\"GrassWet\": 1})\n",
    "\n",
    "result1 = grass_network.query(**query_kwargs)\n",
    "result1"
   ]
  },
  {
   "cell_type": "code",
   "execution_count": 5,
   "metadata": {
    "collapsed": false
   },
   "outputs": [
    {
     "data": {
      "text/plain": [
       "0.3576876756322762"
      ]
     },
     "execution_count": 5,
     "metadata": {},
     "output_type": "execute_result"
    }
   ],
   "source": [
    "expected = 891./2491\n",
    "expected"
   ]
  },
  {
   "cell_type": "code",
   "execution_count": 6,
   "metadata": {
    "collapsed": false
   },
   "outputs": [
    {
     "data": {
      "text/plain": [
       "{'GrassWet': ConditionalTable(var = GrassWet, parents = ['Rain', 'Sprinkler'], table = {('Rain', 0, 'Sprinkler', 0, 'GrassWet', 1): 0.0, ('Rain', 0, 'Sprinkler', 1, 'GrassWet', 1): 0.9, ('Rain', 1, 'Sprinkler', 0, 'GrassWet', 0): 0.2, ('Rain', 0, 'Sprinkler', 0, 'GrassWet', 0): 1.0, ('Rain', 1, 'Sprinkler', 1, 'GrassWet', 1): 0.99, ('Rain', 1, 'Sprinkler', 0, 'GrassWet', 1): 0.8, ('Rain', 0, 'Sprinkler', 1, 'GrassWet', 0): 0.1, ('Rain', 1, 'Sprinkler', 1, 'GrassWet', 0): 0.01}),\n",
       " 'Rain': ConditionalTable(var = Rain, parents = [], table = {('Rain', 1): 0.2, ('Rain', 0): 0.8}),\n",
       " 'Sprinkler': ConditionalTable(var = Sprinkler, parents = ['Rain'], table = {('Rain', 1, 'Sprinkler', 1): 0.01, ('Rain', 1, 'Sprinkler', 0): 0.99, ('Rain', 0, 'Sprinkler', 0): 0.6, ('Rain', 0, 'Sprinkler', 1): 0.4})}"
      ]
     },
     "execution_count": 6,
     "metadata": {},
     "output_type": "execute_result"
    }
   ],
   "source": [
    "grass_network.table_by_name"
   ]
  },
  {
   "cell_type": "code",
   "execution_count": 7,
   "metadata": {
    "collapsed": false
   },
   "outputs": [
    {
     "name": "stdout",
     "output_type": "stream",
     "text": [
      "DEBUGGING: query(event = {'Rain': 1}, evidence = {'GrassWet': 1})\n",
      "DEBUGGING: query(event = {'GrassWet': 1, 'Rain': 1}, evidence = None)\n",
      "DEBUGGING: query_recursive(event = {'GrassWet': 1, 'Rain': 1}, unassigned_combinations = {'Sprinkler': [0, 1]})\n",
      "DEBUGGING: query_recursive(event = {'GrassWet': 1, 'Rain': 1, 'Sprinkler': 0}, unassigned_combinations = {})\n",
      "DEBUGGING: event = {'GrassWet': 1, 'Rain': 1, 'Sprinkler': 0}\n",
      "DEBUGGING: f = Factor([Rain, Sprinkler, GrassWet]), sub_event = {'GrassWet': 1, 'Rain': 1, 'Sprinkler': 0}\n",
      "DEBUGGING: ConditionalTable(var = Sprinkler, parents = ['Rain'], table = {('Rain', 1, 'Sprinkler', 1): 0.01, ('Rain', 1, 'Sprinkler', 0): 0.99, ('Rain', 0, 'Sprinkler', 0): 0.6, ('Rain', 0, 'Sprinkler', 1): 0.4}).query(event = {'GrassWet': 1, 'Rain': 1, 'Sprinkler': 0})\n",
      "DEBUGGING: key = ('Rain', 1, 'Sprinkler', 0)\n",
      "DEBUGGING: factor_result = 0.99\n",
      "DEBUGGING: f = Factor([Rain]), sub_event = {'Rain': 1}\n",
      "DEBUGGING: ConditionalTable(var = Sprinkler, parents = ['Rain'], table = {('Rain', 1, 'Sprinkler', 1): 0.01, ('Rain', 1, 'Sprinkler', 0): 0.99, ('Rain', 0, 'Sprinkler', 0): 0.6, ('Rain', 0, 'Sprinkler', 1): 0.4}).query(event = {'Rain': 1})\n"
     ]
    },
    {
     "ename": "KeyError",
     "evalue": "'Sprinkler'",
     "output_type": "error",
     "traceback": [
      "\u001b[0;31m---------------------------------------------------------------------------\u001b[0m",
      "\u001b[0;31mKeyError\u001b[0m                                  Traceback (most recent call last)",
      "\u001b[0;32m<ipython-input-7-511734899f5e>\u001b[0m in \u001b[0;36m<module>\u001b[0;34m()\u001b[0m\n\u001b[0;32m----> 1\u001b[0;31m \u001b[0mresult2\u001b[0m \u001b[0;34m=\u001b[0m \u001b[0mgraph\u001b[0m\u001b[0;34m.\u001b[0m\u001b[0mquery\u001b[0m\u001b[0;34m(\u001b[0m\u001b[0;34m**\u001b[0m\u001b[0mquery_kwargs\u001b[0m\u001b[0;34m)\u001b[0m\u001b[0;34m\u001b[0m\u001b[0m\n\u001b[0m\u001b[1;32m      2\u001b[0m \u001b[0mresult2\u001b[0m\u001b[0;34m\u001b[0m\u001b[0m\n",
      "\u001b[0;32m~/ucsd-classes/research/misc_2017_fall/belief_propagation/belief_propagation.py\u001b[0m in \u001b[0;36mquery\u001b[0;34m(self, event, evidence)\u001b[0m\n\u001b[1;32m    181\u001b[0m     \u001b[0;32mdef\u001b[0m \u001b[0mquery\u001b[0m\u001b[0;34m(\u001b[0m\u001b[0mself\u001b[0m\u001b[0;34m,\u001b[0m \u001b[0mevent\u001b[0m\u001b[0;34m,\u001b[0m \u001b[0mevidence\u001b[0m \u001b[0;34m=\u001b[0m \u001b[0;32mNone\u001b[0m\u001b[0;34m)\u001b[0m\u001b[0;34m:\u001b[0m\u001b[0;34m\u001b[0m\u001b[0m\n\u001b[1;32m    182\u001b[0m         \u001b[0;31m# TODO: replace with belief propagation\u001b[0m\u001b[0;34m\u001b[0m\u001b[0;34m\u001b[0m\u001b[0m\n\u001b[0;32m--> 183\u001b[0;31m         \u001b[0;32mreturn\u001b[0m \u001b[0mself\u001b[0m\u001b[0;34m.\u001b[0m\u001b[0mquery_mixin\u001b[0m\u001b[0;34m(\u001b[0m\u001b[0mevent\u001b[0m \u001b[0;34m=\u001b[0m \u001b[0mevent\u001b[0m\u001b[0;34m,\u001b[0m \u001b[0mevidence\u001b[0m \u001b[0;34m=\u001b[0m \u001b[0mevidence\u001b[0m\u001b[0;34m)\u001b[0m\u001b[0;34m\u001b[0m\u001b[0m\n\u001b[0m\u001b[1;32m    184\u001b[0m \u001b[0;34m\u001b[0m\u001b[0m\n\u001b[1;32m    185\u001b[0m     \u001b[0;34m@\u001b[0m\u001b[0mclassmethod\u001b[0m\u001b[0;34m\u001b[0m\u001b[0m\n",
      "\u001b[0;32m~/ucsd-classes/research/misc_2017_fall/belief_propagation/belief_propagation.py\u001b[0m in \u001b[0;36mquery_mixin\u001b[0;34m(self, event, evidence)\u001b[0m\n\u001b[1;32m     27\u001b[0m                 \u001b[0;32mif\u001b[0m \u001b[0mk\u001b[0m \u001b[0;32min\u001b[0m \u001b[0mevent\u001b[0m \u001b[0;32mand\u001b[0m \u001b[0mevent\u001b[0m\u001b[0;34m[\u001b[0m\u001b[0mk\u001b[0m\u001b[0;34m]\u001b[0m \u001b[0;34m!=\u001b[0m \u001b[0mv\u001b[0m\u001b[0;34m:\u001b[0m\u001b[0;34m\u001b[0m\u001b[0m\n\u001b[1;32m     28\u001b[0m                     \u001b[0;32mreturn\u001b[0m \u001b[0;36m0\u001b[0m  \u001b[0;31m# Evidence contradicts the query event, so probability is 0\u001b[0m\u001b[0;34m\u001b[0m\u001b[0m\n\u001b[0;32m---> 29\u001b[0;31m             \u001b[0mnumer\u001b[0m \u001b[0;34m=\u001b[0m \u001b[0mself\u001b[0m\u001b[0;34m.\u001b[0m\u001b[0mquery\u001b[0m\u001b[0;34m(\u001b[0m\u001b[0mnumer_event\u001b[0m\u001b[0;34m,\u001b[0m \u001b[0mevidence\u001b[0m \u001b[0;34m=\u001b[0m \u001b[0;32mNone\u001b[0m\u001b[0;34m)\u001b[0m\u001b[0;34m\u001b[0m\u001b[0m\n\u001b[0m\u001b[1;32m     30\u001b[0m             \u001b[0mdenom\u001b[0m \u001b[0;34m=\u001b[0m \u001b[0mself\u001b[0m\u001b[0;34m.\u001b[0m\u001b[0mquery\u001b[0m\u001b[0;34m(\u001b[0m\u001b[0mevidence\u001b[0m\u001b[0;34m,\u001b[0m \u001b[0mevidence\u001b[0m \u001b[0;34m=\u001b[0m \u001b[0;32mNone\u001b[0m\u001b[0;34m)\u001b[0m\u001b[0;34m\u001b[0m\u001b[0m\n\u001b[1;32m     31\u001b[0m             \u001b[0;32mreturn\u001b[0m \u001b[0mnumer\u001b[0m \u001b[0;34m/\u001b[0m \u001b[0mdenom\u001b[0m\u001b[0;34m\u001b[0m\u001b[0m\n",
      "\u001b[0;32m~/ucsd-classes/research/misc_2017_fall/belief_propagation/belief_propagation.py\u001b[0m in \u001b[0;36mquery\u001b[0;34m(self, event, evidence)\u001b[0m\n\u001b[1;32m    181\u001b[0m     \u001b[0;32mdef\u001b[0m \u001b[0mquery\u001b[0m\u001b[0;34m(\u001b[0m\u001b[0mself\u001b[0m\u001b[0;34m,\u001b[0m \u001b[0mevent\u001b[0m\u001b[0;34m,\u001b[0m \u001b[0mevidence\u001b[0m \u001b[0;34m=\u001b[0m \u001b[0;32mNone\u001b[0m\u001b[0;34m)\u001b[0m\u001b[0;34m:\u001b[0m\u001b[0;34m\u001b[0m\u001b[0m\n\u001b[1;32m    182\u001b[0m         \u001b[0;31m# TODO: replace with belief propagation\u001b[0m\u001b[0;34m\u001b[0m\u001b[0;34m\u001b[0m\u001b[0m\n\u001b[0;32m--> 183\u001b[0;31m         \u001b[0;32mreturn\u001b[0m \u001b[0mself\u001b[0m\u001b[0;34m.\u001b[0m\u001b[0mquery_mixin\u001b[0m\u001b[0;34m(\u001b[0m\u001b[0mevent\u001b[0m \u001b[0;34m=\u001b[0m \u001b[0mevent\u001b[0m\u001b[0;34m,\u001b[0m \u001b[0mevidence\u001b[0m \u001b[0;34m=\u001b[0m \u001b[0mevidence\u001b[0m\u001b[0;34m)\u001b[0m\u001b[0;34m\u001b[0m\u001b[0m\n\u001b[0m\u001b[1;32m    184\u001b[0m \u001b[0;34m\u001b[0m\u001b[0m\n\u001b[1;32m    185\u001b[0m     \u001b[0;34m@\u001b[0m\u001b[0mclassmethod\u001b[0m\u001b[0;34m\u001b[0m\u001b[0m\n",
      "\u001b[0;32m~/ucsd-classes/research/misc_2017_fall/belief_propagation/belief_propagation.py\u001b[0m in \u001b[0;36mquery_mixin\u001b[0;34m(self, event, evidence)\u001b[0m\n\u001b[1;32m     53\u001b[0m         \u001b[0munassigned_combinations\u001b[0m \u001b[0;34m=\u001b[0m \u001b[0;34m{\u001b[0m\u001b[0mnv\u001b[0m\u001b[0;34m:\u001b[0m \u001b[0mself\u001b[0m\u001b[0;34m.\u001b[0m\u001b[0mvariables\u001b[0m\u001b[0;34m[\u001b[0m\u001b[0mnv\u001b[0m\u001b[0;34m]\u001b[0m\u001b[0;34m.\u001b[0m\u001b[0mdomain\u001b[0m \u001b[0;32mfor\u001b[0m \u001b[0mnv\u001b[0m \u001b[0;32min\u001b[0m \u001b[0mnuisance_vars\u001b[0m\u001b[0;34m}\u001b[0m\u001b[0;34m\u001b[0m\u001b[0m\n\u001b[1;32m     54\u001b[0m \u001b[0;34m\u001b[0m\u001b[0m\n\u001b[0;32m---> 55\u001b[0;31m         \u001b[0;32mreturn\u001b[0m \u001b[0mquery_recursive\u001b[0m\u001b[0;34m(\u001b[0m\u001b[0mevent\u001b[0m\u001b[0;34m,\u001b[0m \u001b[0munassigned_combinations\u001b[0m\u001b[0;34m)\u001b[0m\u001b[0;34m\u001b[0m\u001b[0m\n\u001b[0m\u001b[1;32m     56\u001b[0m \u001b[0;34m\u001b[0m\u001b[0m\n\u001b[1;32m     57\u001b[0m class DirectedGraphModel(namedtuple(\"DirectedGraphModel\", [\n",
      "\u001b[0;32m~/ucsd-classes/research/misc_2017_fall/belief_propagation/belief_propagation.py\u001b[0m in \u001b[0;36mquery_recursive\u001b[0;34m(event, unassigned_combinations)\u001b[0m\n\u001b[1;32m     47\u001b[0m                 \u001b[0mnew_event\u001b[0m\u001b[0;34m.\u001b[0m\u001b[0mupdate\u001b[0m\u001b[0;34m(\u001b[0m\u001b[0mevent\u001b[0m\u001b[0;34m)\u001b[0m\u001b[0;34m\u001b[0m\u001b[0m\n\u001b[1;32m     48\u001b[0m                 \u001b[0mnew_event\u001b[0m\u001b[0;34m[\u001b[0m\u001b[0mfirst_var\u001b[0m\u001b[0;34m]\u001b[0m \u001b[0;34m=\u001b[0m \u001b[0mval\u001b[0m\u001b[0;34m\u001b[0m\u001b[0m\n\u001b[0;32m---> 49\u001b[0;31m                 \u001b[0mresult\u001b[0m \u001b[0;34m+=\u001b[0m \u001b[0mquery_recursive\u001b[0m\u001b[0;34m(\u001b[0m\u001b[0mnew_event\u001b[0m\u001b[0;34m,\u001b[0m \u001b[0mnew_unassigned_combinations\u001b[0m\u001b[0;34m)\u001b[0m\u001b[0;34m\u001b[0m\u001b[0m\n\u001b[0m\u001b[1;32m     50\u001b[0m             \u001b[0;32mreturn\u001b[0m \u001b[0mresult\u001b[0m\u001b[0;34m\u001b[0m\u001b[0m\n\u001b[1;32m     51\u001b[0m \u001b[0;34m\u001b[0m\u001b[0m\n",
      "\u001b[0;32m~/ucsd-classes/research/misc_2017_fall/belief_propagation/belief_propagation.py\u001b[0m in \u001b[0;36mquery_recursive\u001b[0;34m(event, unassigned_combinations)\u001b[0m\n\u001b[1;32m     34\u001b[0m             \u001b[0mprint\u001b[0m\u001b[0;34m(\u001b[0m\u001b[0;34m\"DEBUGGING: query_recursive(event = {}, unassigned_combinations = {})\"\u001b[0m\u001b[0;34m.\u001b[0m\u001b[0mformat\u001b[0m\u001b[0;34m(\u001b[0m\u001b[0mevent\u001b[0m\u001b[0;34m,\u001b[0m \u001b[0munassigned_combinations\u001b[0m\u001b[0;34m)\u001b[0m\u001b[0;34m)\u001b[0m\u001b[0;34m\u001b[0m\u001b[0m\n\u001b[1;32m     35\u001b[0m             \u001b[0;32mif\u001b[0m \u001b[0mlen\u001b[0m\u001b[0;34m(\u001b[0m\u001b[0munassigned_combinations\u001b[0m\u001b[0;34m)\u001b[0m \u001b[0;34m==\u001b[0m \u001b[0;36m0\u001b[0m\u001b[0;34m:\u001b[0m\u001b[0;34m\u001b[0m\u001b[0m\n\u001b[0;32m---> 36\u001b[0;31m                 \u001b[0;32mreturn\u001b[0m \u001b[0mself\u001b[0m\u001b[0;34m.\u001b[0m\u001b[0mjoint_probability\u001b[0m\u001b[0;34m(\u001b[0m\u001b[0mevent\u001b[0m\u001b[0;34m)\u001b[0m\u001b[0;34m\u001b[0m\u001b[0m\n\u001b[0m\u001b[1;32m     37\u001b[0m \u001b[0;34m\u001b[0m\u001b[0m\n\u001b[1;32m     38\u001b[0m             \u001b[0mfirst_var\u001b[0m \u001b[0;34m=\u001b[0m \u001b[0mlist\u001b[0m\u001b[0;34m(\u001b[0m\u001b[0munassigned_combinations\u001b[0m\u001b[0;34m.\u001b[0m\u001b[0mkeys\u001b[0m\u001b[0;34m(\u001b[0m\u001b[0;34m)\u001b[0m\u001b[0;34m)\u001b[0m\u001b[0;34m[\u001b[0m\u001b[0;36m0\u001b[0m\u001b[0;34m]\u001b[0m\u001b[0;34m\u001b[0m\u001b[0m\n",
      "\u001b[0;32m~/ucsd-classes/research/misc_2017_fall/belief_propagation/belief_propagation.py\u001b[0m in \u001b[0;36mjoint_probability\u001b[0;34m(self, event)\u001b[0m\n\u001b[1;32m    174\u001b[0m             \u001b[0msub_event\u001b[0m \u001b[0;34m=\u001b[0m \u001b[0;34m{\u001b[0m\u001b[0mv\u001b[0m\u001b[0;34m.\u001b[0m\u001b[0mname\u001b[0m\u001b[0;34m:\u001b[0m \u001b[0mevent\u001b[0m\u001b[0;34m[\u001b[0m\u001b[0mv\u001b[0m\u001b[0;34m.\u001b[0m\u001b[0mname\u001b[0m\u001b[0;34m]\u001b[0m \u001b[0;32mfor\u001b[0m \u001b[0mv\u001b[0m \u001b[0;32min\u001b[0m \u001b[0mf\u001b[0m\u001b[0;34m.\u001b[0m\u001b[0mvariables\u001b[0m\u001b[0;34m}\u001b[0m\u001b[0;34m\u001b[0m\u001b[0m\n\u001b[1;32m    175\u001b[0m             \u001b[0mprint\u001b[0m\u001b[0;34m(\u001b[0m\u001b[0;34m\"DEBUGGING: f = {}, sub_event = {}\"\u001b[0m\u001b[0;34m.\u001b[0m\u001b[0mformat\u001b[0m\u001b[0;34m(\u001b[0m\u001b[0mf\u001b[0m\u001b[0;34m,\u001b[0m \u001b[0msub_event\u001b[0m\u001b[0;34m)\u001b[0m\u001b[0;34m)\u001b[0m\u001b[0;34m\u001b[0m\u001b[0m\n\u001b[0;32m--> 176\u001b[0;31m             \u001b[0mfactor_result\u001b[0m \u001b[0;34m=\u001b[0m \u001b[0mf\u001b[0m\u001b[0;34m.\u001b[0m\u001b[0mevaluate\u001b[0m\u001b[0;34m(\u001b[0m\u001b[0msub_event\u001b[0m\u001b[0;34m)\u001b[0m\u001b[0;34m\u001b[0m\u001b[0m\n\u001b[0m\u001b[1;32m    177\u001b[0m             \u001b[0mprint\u001b[0m\u001b[0;34m(\u001b[0m\u001b[0;34m\"DEBUGGING: factor_result = {}\"\u001b[0m\u001b[0;34m.\u001b[0m\u001b[0mformat\u001b[0m\u001b[0;34m(\u001b[0m\u001b[0mfactor_result\u001b[0m\u001b[0;34m)\u001b[0m\u001b[0;34m)\u001b[0m\u001b[0;34m\u001b[0m\u001b[0m\n\u001b[1;32m    178\u001b[0m             \u001b[0mresult\u001b[0m \u001b[0;34m*=\u001b[0m \u001b[0mfactor_result\u001b[0m\u001b[0;34m\u001b[0m\u001b[0m\n",
      "\u001b[0;32m~/ucsd-classes/research/misc_2017_fall/belief_propagation/belief_propagation.py\u001b[0m in \u001b[0;36mevaluate\u001b[0;34m(self, event)\u001b[0m\n\u001b[1;32m    149\u001b[0m         \u001b[0;32massert\u001b[0m \u001b[0ma\u001b[0m \u001b[0;34m==\u001b[0m \u001b[0mb\u001b[0m\u001b[0;34m,\u001b[0m \u001b[0;34m\"{} != {}\"\u001b[0m\u001b[0;34m.\u001b[0m\u001b[0mformat\u001b[0m\u001b[0;34m(\u001b[0m\u001b[0ma\u001b[0m\u001b[0;34m,\u001b[0m \u001b[0mb\u001b[0m\u001b[0;34m)\u001b[0m\u001b[0;34m\u001b[0m\u001b[0m\n\u001b[1;32m    150\u001b[0m         \u001b[0;32massert\u001b[0m \u001b[0mhasattr\u001b[0m\u001b[0;34m(\u001b[0m\u001b[0mevent\u001b[0m\u001b[0;34m,\u001b[0m \u001b[0;34m\"keys\"\u001b[0m\u001b[0;34m)\u001b[0m\u001b[0;34m\u001b[0m\u001b[0m\n\u001b[0;32m--> 151\u001b[0;31m         \u001b[0;32mreturn\u001b[0m \u001b[0mself\u001b[0m\u001b[0;34m.\u001b[0m\u001b[0mfunction\u001b[0m\u001b[0;34m(\u001b[0m\u001b[0mevent\u001b[0m\u001b[0;34m)\u001b[0m\u001b[0;34m\u001b[0m\u001b[0m\n\u001b[0m\u001b[1;32m    152\u001b[0m \u001b[0;34m\u001b[0m\u001b[0m\n\u001b[1;32m    153\u001b[0m     \u001b[0;32mdef\u001b[0m \u001b[0m__str__\u001b[0m\u001b[0;34m(\u001b[0m\u001b[0mself\u001b[0m\u001b[0;34m)\u001b[0m\u001b[0;34m:\u001b[0m\u001b[0;34m\u001b[0m\u001b[0m\n",
      "\u001b[0;32m~/ucsd-classes/research/misc_2017_fall/belief_propagation/belief_propagation.py\u001b[0m in \u001b[0;36m<lambda>\u001b[0;34m(x)\u001b[0m\n\u001b[1;32m    189\u001b[0m         \u001b[0;32mfor\u001b[0m \u001b[0mt\u001b[0m \u001b[0;32min\u001b[0m \u001b[0mtables\u001b[0m\u001b[0;34m.\u001b[0m\u001b[0mvalues\u001b[0m\u001b[0;34m(\u001b[0m\u001b[0;34m)\u001b[0m\u001b[0;34m:\u001b[0m\u001b[0;34m\u001b[0m\u001b[0m\n\u001b[1;32m    190\u001b[0m             \u001b[0mvariables\u001b[0m \u001b[0;34m=\u001b[0m \u001b[0;34m[\u001b[0m\u001b[0mmodel\u001b[0m\u001b[0;34m.\u001b[0m\u001b[0mvariables\u001b[0m\u001b[0;34m[\u001b[0m\u001b[0mv\u001b[0m\u001b[0;34m]\u001b[0m \u001b[0;32mfor\u001b[0m \u001b[0mv\u001b[0m \u001b[0;32min\u001b[0m \u001b[0mt\u001b[0m\u001b[0;34m.\u001b[0m\u001b[0mkey_order\u001b[0m\u001b[0;34m]\u001b[0m\u001b[0;34m\u001b[0m\u001b[0m\n\u001b[0;32m--> 191\u001b[0;31m             \u001b[0mcurrent_factor\u001b[0m \u001b[0;34m=\u001b[0m \u001b[0mFactor\u001b[0m\u001b[0;34m(\u001b[0m\u001b[0mvariables\u001b[0m \u001b[0;34m=\u001b[0m \u001b[0mvariables\u001b[0m\u001b[0;34m,\u001b[0m \u001b[0mfunction\u001b[0m \u001b[0;34m=\u001b[0m \u001b[0;32mlambda\u001b[0m \u001b[0mx\u001b[0m\u001b[0;34m:\u001b[0m \u001b[0mt\u001b[0m\u001b[0;34m.\u001b[0m\u001b[0mquery\u001b[0m\u001b[0;34m(\u001b[0m\u001b[0mx\u001b[0m\u001b[0;34m)\u001b[0m\u001b[0;34m,\u001b[0m \u001b[0mcond_table\u001b[0m \u001b[0;34m=\u001b[0m \u001b[0mt\u001b[0m\u001b[0;34m)\u001b[0m\u001b[0;34m\u001b[0m\u001b[0m\n\u001b[0m\u001b[1;32m    192\u001b[0m             \u001b[0mfactors\u001b[0m\u001b[0;34m.\u001b[0m\u001b[0mappend\u001b[0m\u001b[0;34m(\u001b[0m\u001b[0mcurrent_factor\u001b[0m\u001b[0;34m)\u001b[0m\u001b[0;34m\u001b[0m\u001b[0m\n\u001b[1;32m    193\u001b[0m         \u001b[0;32mreturn\u001b[0m \u001b[0mcls\u001b[0m\u001b[0;34m(\u001b[0m\u001b[0mfactors\u001b[0m \u001b[0;34m=\u001b[0m \u001b[0mfactors\u001b[0m\u001b[0;34m)\u001b[0m\u001b[0;34m\u001b[0m\u001b[0m\n",
      "\u001b[0;32m~/ucsd-classes/research/misc_2017_fall/belief_propagation/belief_propagation.py\u001b[0m in \u001b[0;36mquery\u001b[0;34m(self, event)\u001b[0m\n\u001b[1;32m    105\u001b[0m     \u001b[0;32mdef\u001b[0m \u001b[0mquery\u001b[0m\u001b[0;34m(\u001b[0m\u001b[0mself\u001b[0m\u001b[0;34m,\u001b[0m \u001b[0mevent\u001b[0m\u001b[0;34m)\u001b[0m\u001b[0;34m:\u001b[0m\u001b[0;34m\u001b[0m\u001b[0m\n\u001b[1;32m    106\u001b[0m         \u001b[0mprint\u001b[0m\u001b[0;34m(\u001b[0m\u001b[0;34m\"DEBUGGING: {}.query(event = {})\"\u001b[0m\u001b[0;34m.\u001b[0m\u001b[0mformat\u001b[0m\u001b[0;34m(\u001b[0m\u001b[0mself\u001b[0m\u001b[0;34m,\u001b[0m \u001b[0mevent\u001b[0m\u001b[0;34m)\u001b[0m\u001b[0;34m)\u001b[0m\u001b[0;34m\u001b[0m\u001b[0m\n\u001b[0;32m--> 107\u001b[0;31m         \u001b[0mkey\u001b[0m \u001b[0;34m=\u001b[0m \u001b[0mself\u001b[0m\u001b[0;34m.\u001b[0m\u001b[0m_convert_to_assignment\u001b[0m\u001b[0;34m(\u001b[0m\u001b[0mevent\u001b[0m\u001b[0;34m)\u001b[0m\u001b[0;34m\u001b[0m\u001b[0m\n\u001b[0m\u001b[1;32m    108\u001b[0m         \u001b[0mprint\u001b[0m\u001b[0;34m(\u001b[0m\u001b[0;34m\"DEBUGGING: key = {}\"\u001b[0m\u001b[0;34m.\u001b[0m\u001b[0mformat\u001b[0m\u001b[0;34m(\u001b[0m\u001b[0mkey\u001b[0m\u001b[0;34m)\u001b[0m\u001b[0;34m)\u001b[0m\u001b[0;34m\u001b[0m\u001b[0m\n\u001b[1;32m    109\u001b[0m         \u001b[0;32mreturn\u001b[0m \u001b[0mself\u001b[0m\u001b[0;34m.\u001b[0m\u001b[0mtable\u001b[0m\u001b[0;34m[\u001b[0m\u001b[0mkey\u001b[0m\u001b[0;34m]\u001b[0m\u001b[0;34m\u001b[0m\u001b[0m\n",
      "\u001b[0;32m~/ucsd-classes/research/misc_2017_fall/belief_propagation/belief_propagation.py\u001b[0m in \u001b[0;36m_convert_to_assignment\u001b[0;34m(self, event)\u001b[0m\n\u001b[1;32m    120\u001b[0m         \u001b[0;32mfor\u001b[0m \u001b[0mvar\u001b[0m \u001b[0;32min\u001b[0m \u001b[0mself\u001b[0m\u001b[0;34m.\u001b[0m\u001b[0mkey_order\u001b[0m\u001b[0;34m:\u001b[0m\u001b[0;34m\u001b[0m\u001b[0m\n\u001b[1;32m    121\u001b[0m             \u001b[0mkey\u001b[0m\u001b[0;34m.\u001b[0m\u001b[0mappend\u001b[0m\u001b[0;34m(\u001b[0m\u001b[0mvar\u001b[0m\u001b[0;34m)\u001b[0m\u001b[0;34m\u001b[0m\u001b[0m\n\u001b[0;32m--> 122\u001b[0;31m             \u001b[0mkey\u001b[0m\u001b[0;34m.\u001b[0m\u001b[0mappend\u001b[0m\u001b[0;34m(\u001b[0m\u001b[0mevent\u001b[0m\u001b[0;34m[\u001b[0m\u001b[0mvar\u001b[0m\u001b[0;34m]\u001b[0m\u001b[0;34m)\u001b[0m\u001b[0;34m\u001b[0m\u001b[0m\n\u001b[0m\u001b[1;32m    123\u001b[0m         \u001b[0;32mreturn\u001b[0m \u001b[0mtuple\u001b[0m\u001b[0;34m(\u001b[0m\u001b[0mkey\u001b[0m\u001b[0;34m)\u001b[0m\u001b[0;34m\u001b[0m\u001b[0m\n\u001b[1;32m    124\u001b[0m \u001b[0;34m\u001b[0m\u001b[0m\n",
      "\u001b[0;31mKeyError\u001b[0m: 'Sprinkler'"
     ]
    }
   ],
   "source": [
    "result2 = graph.query(**query_kwargs)\n",
    "result2"
   ]
  },
  {
   "cell_type": "code",
   "execution_count": 12,
   "metadata": {
    "collapsed": false
   },
   "outputs": [
    {
     "data": {
      "text/plain": [
       "[([RandomVariable(name='Rain', domain=[0, 1]),\n",
       "   RandomVariable(name='Sprinkler', domain=[0, 1]),\n",
       "   RandomVariable(name='GrassWet', domain=[0, 1])],\n",
       "  ConditionalTable(var = GrassWet, parents = ['Rain', 'Sprinkler'], table = {('Rain', 0, 'Sprinkler', 0, 'GrassWet', 1): 0.0, ('Rain', 0, 'Sprinkler', 1, 'GrassWet', 1): 0.9, ('Rain', 1, 'Sprinkler', 0, 'GrassWet', 0): 0.2, ('Rain', 0, 'Sprinkler', 0, 'GrassWet', 0): 1.0, ('Rain', 1, 'Sprinkler', 1, 'GrassWet', 1): 0.99, ('Rain', 1, 'Sprinkler', 0, 'GrassWet', 1): 0.8, ('Rain', 0, 'Sprinkler', 1, 'GrassWet', 0): 0.1, ('Rain', 1, 'Sprinkler', 1, 'GrassWet', 0): 0.01})),\n",
       " ([RandomVariable(name='Rain', domain=[0, 1])],\n",
       "  ConditionalTable(var = Rain, parents = [], table = {('Rain', 1): 0.2, ('Rain', 0): 0.8})),\n",
       " ([RandomVariable(name='Rain', domain=[0, 1]),\n",
       "   RandomVariable(name='Sprinkler', domain=[0, 1])],\n",
       "  ConditionalTable(var = Sprinkler, parents = ['Rain'], table = {('Rain', 1, 'Sprinkler', 1): 0.01, ('Rain', 1, 'Sprinkler', 0): 0.99, ('Rain', 0, 'Sprinkler', 0): 0.6, ('Rain', 0, 'Sprinkler', 1): 0.4}))]"
      ]
     },
     "execution_count": 12,
     "metadata": {},
     "output_type": "execute_result"
    }
   ],
   "source": [
    "[(f.variables, f.cond_table) for f in graph.factors]"
   ]
  },
  {
   "cell_type": "code",
   "execution_count": null,
   "metadata": {
    "collapsed": true
   },
   "outputs": [],
   "source": []
  }
 ],
 "metadata": {
  "kernelspec": {
   "display_name": "Python 3",
   "language": "python",
   "name": "python3"
  },
  "language_info": {
   "codemirror_mode": {
    "name": "ipython",
    "version": 3
   },
   "file_extension": ".py",
   "mimetype": "text/x-python",
   "name": "python",
   "nbconvert_exporter": "python",
   "pygments_lexer": "ipython3",
   "version": "3.5.0"
  }
 },
 "nbformat": 4,
 "nbformat_minor": 1
}
