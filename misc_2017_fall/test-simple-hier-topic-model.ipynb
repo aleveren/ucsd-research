{
 "cells": [
  {
   "cell_type": "code",
   "execution_count": 1,
   "metadata": {
    "collapsed": true
   },
   "outputs": [],
   "source": [
    "import numpy as np\n",
    "import matplotlib.pyplot as plt\n",
    "%matplotlib inline"
   ]
  },
  {
   "cell_type": "code",
   "execution_count": 2,
   "metadata": {
    "collapsed": true
   },
   "outputs": [],
   "source": [
    "from simple_hierarchical_topic_model import SimpleHierarchicalTopicModel, load_vocab, loadmat"
   ]
  },
  {
   "cell_type": "code",
   "execution_count": 3,
   "metadata": {
    "collapsed": true
   },
   "outputs": [],
   "source": [
    "np.random.seed(1)"
   ]
  },
  {
   "cell_type": "code",
   "execution_count": 4,
   "metadata": {
    "collapsed": false
   },
   "outputs": [
    {
     "name": "stdout",
     "output_type": "stream",
     "text": [
      "Loading data...\n",
      "Vocab size: 2940\n",
      "Num documents: 1500\n",
      "Nonzero entries: 585933\n",
      "Loading vocab...\n",
      "Vocab size = 2940\n"
     ]
    }
   ],
   "source": [
    "print(\"Loading data...\")\n",
    "data = loadmat(\"/Users/aleverentz/Code/anchor-word-recovery/M_nips.full_docs.mat.trunc.mat\")[\"M\"]\n",
    "#data = loadmat(\"/Users/aleverentz/ucsd-research/hier-topic-models/data/abstracts.mat\")[\"M\"]\n",
    "print(\"Vocab size: {}\".format(data.shape[0]))\n",
    "print(\"Num documents: {}\".format(data.shape[1]))\n",
    "print(\"Nonzero entries: {}\".format(data.nnz))\n",
    "print(\"Loading vocab...\")\n",
    "vocab = load_vocab(\"/Users/aleverentz/Code/anchor-word-recovery/vocab.nips.txt.trunc\")\n",
    "#vocab = load_vocab(\"/Users/aleverentz/ucsd-research/hier-topic-models/data/abstracts_vocab.txt\")\n",
    "print(\"Vocab size = {}\".format(len(vocab)))\n",
    "assert data.shape[0] == len(vocab)"
   ]
  },
  {
   "cell_type": "code",
   "execution_count": 5,
   "metadata": {
    "collapsed": true
   },
   "outputs": [],
   "source": [
    "import os\n",
    "import sys\n",
    "sys.path.append(os.path.abspath(\"..\"))\n",
    "import text_utils"
   ]
  },
  {
   "cell_type": "code",
   "execution_count": 6,
   "metadata": {
    "collapsed": false
   },
   "outputs": [
    {
     "name": "stdout",
     "output_type": "stream",
     "text": [
      "Vocab size: 42756\n",
      "Num documents: 2246\n",
      "CPU times: user 30.5 s, sys: 283 ms, total: 30.8 s\n",
      "Wall time: 31.1 s\n"
     ]
    }
   ],
   "source": [
    "%%time\n",
    "\n",
    "data, vocab = text_utils.xml_to_sparse_term_doc(\n",
    "    filename = \"/Users/aleverentz/Downloads/ap/ap_mod_xml.txt\",\n",
    "    within = [\"toplevel\"],\n",
    "    eachdoc = [\"DOC\", \"TEXT\"],\n",
    "    parser_type = \"lxml-xml\",\n",
    "    tokenizer = text_utils.default_tokenizer)\n",
    "\n",
    "print(\"Vocab size: {}\".format(data.shape[0]))\n",
    "print(\"Num documents: {}\".format(data.shape[1]))\n",
    "assert data.shape[0] == len(vocab)"
   ]
  },
  {
   "cell_type": "code",
   "execution_count": 7,
   "metadata": {
    "collapsed": false
   },
   "outputs": [],
   "source": [
    "model = SimpleHierarchicalTopicModel(\n",
    "    branching_factors = [5, 5], num_epochs = 100,\n",
    "    batch_size = 100, vocab = vocab)"
   ]
  },
  {
   "cell_type": "code",
   "execution_count": 8,
   "metadata": {
    "collapsed": false,
    "scrolled": true
   },
   "outputs": [
    {
     "name": "stderr",
     "output_type": "stream",
     "text": [
      "100%|██████████| 224600/224600 [1:03:11<00:00, 59.24it/s]\n"
     ]
    },
    {
     "name": "stdout",
     "output_type": "stream",
     "text": [
      "Top words by node:\n",
      "()    : of, to, for, was, with, were, they, about, new, when\n",
      "(0,)  : said, on, from, this, be, not, has, would, soviet, their\n",
      "(1,)  : a, on, in, after, not, two, it, out, that, by\n",
      "(2,)  : said, that, it, more, from, at, has, than, i, would\n",
      "(3,)  : and, a, at, as, that, has, said, who, their, party\n",
      "(4,)  : it, a, as, be, president, on, which, had, will, n't\n",
      "(0, 0): the, them, said, down, 1986, an, through, kennedy, all, where\n",
      "(0, 1): he, 's, said, down, them, monday, some, part, 20, all\n",
      "(0, 2): the, he, down, said, monday, an, them, all, troops, across\n",
      "(0, 3): the, in, he, 's, said, date, hotel, across, well, where\n",
      "(0, 4): the, in, he, 's, said, down, all, through, no, war\n",
      "(1, 0): in, is, a, are, by, but, have, just, get, them\n",
      "(1, 1): in, a, are, but, students, that, have, them, by, company\n",
      "(1, 2): in, a, 's, are, director, by, monday, get, just, year\n",
      "(1, 3): is, are, 's, a, or, by, get, just, that, in\n",
      "(1, 4): in, is, 's, a, by, or, that, have, monday, death\n",
      "(2, 0): the, that, or, said, up, according, by, my, another, have\n",
      "(2, 1): that, have, some, do, by, talks, only, said, number, up\n",
      "(2, 2): that, have, percent, some, by, do, said, up, public, only\n",
      "(2, 3): the, or, that, have, by, said, do, you, some, largest\n",
      "(2, 4): or, that, have, percent, some, up, company, you, exchange, said\n",
      "(3, 0): 's, his, a, group, but, under, that, percent, an, year\n",
      "(3, 1): the, in, his, but, a, at, that, an, percent, according\n",
      "(3, 2): the, his, a, but, at, found, under, year, according, did\n",
      "(3, 3): the, 's, his, a, but, that, by, an, found, did\n",
      "(3, 4): the, 's, a, by, that, at, percent, year, did, do\n",
      "(4, 0): bush, a, an, had, all, members, that, jackson, market, federal\n",
      "(4, 1): an, had, a, all, have, real, no, eastern, official, university\n",
      "(4, 2): a, bush, had, military, market, you, that, enough, made, african\n",
      "(4, 3): no, have, market, a, had, number, all, military, part, bush\n",
      "(4, 4): the, had, a, how, you, have, bush, no, an, plans\n"
     ]
    }
   ],
   "source": [
    "model.fit(data)\n",
    "top_words = model.get_top_words_by_node(num_words = 10)\n",
    "model.print_top_words_by_node(num_words = 10);"
   ]
  },
  {
   "cell_type": "code",
   "execution_count": 9,
   "metadata": {
    "collapsed": true
   },
   "outputs": [],
   "source": [
    "topic_vectors = model.get_expected_topic_vectors()"
   ]
  },
  {
   "cell_type": "code",
   "execution_count": 10,
   "metadata": {
    "collapsed": false
   },
   "outputs": [
    {
     "data": {
      "text/plain": [
       "(31, 42756)"
      ]
     },
     "execution_count": 10,
     "metadata": {},
     "output_type": "execute_result"
    }
   ],
   "source": [
    "topic_vectors.shape"
   ]
  },
  {
   "cell_type": "code",
   "execution_count": 11,
   "metadata": {
    "collapsed": false
   },
   "outputs": [
    {
     "name": "stdout",
     "output_type": "stream",
     "text": [
      "(42756,)\n"
     ]
    },
    {
     "data": {
      "text/plain": [
       "0.019369638998272435"
      ]
     },
     "execution_count": 11,
     "metadata": {},
     "output_type": "execute_result"
    }
   ],
   "source": [
    "variance = topic_vectors.var(axis=0)\n",
    "print(variance.shape)\n",
    "np.linalg.norm(variance)"
   ]
  },
  {
   "cell_type": "code",
   "execution_count": 12,
   "metadata": {
    "collapsed": false
   },
   "outputs": [
    {
     "data": {
      "image/png": "[encoded data removed]",
      "text/plain": [
       "<matplotlib.figure.Figure at 0x10d540c18>"
      ]
     },
     "metadata": {},
     "output_type": "display_data"
    }
   ],
   "source": [
    "for i in range(10):\n",
    "    plt.plot(topic_vectors[i,:], color='b', alpha=0.1);"
   ]
  },
  {
   "cell_type": "code",
   "execution_count": 13,
   "metadata": {
    "collapsed": false
   },
   "outputs": [
    {
     "data": {
      "image/png": "[encoded data removed]",
      "text/plain": [
       "<matplotlib.figure.Figure at 0x10d4fc9b0>"
      ]
     },
     "metadata": {},
     "output_type": "display_data"
    }
   ],
   "source": [
    "plt.plot(topic_vectors[0,:], color='b', alpha=0.2)\n",
    "plt.plot(topic_vectors[1,:], color='g', alpha=0.2)\n",
    "plt.plot(topic_vectors[0,:] - topic_vectors[1,:], color='r', alpha=0.5)\n",
    "None"
   ]
  },
  {
   "cell_type": "code",
   "execution_count": null,
   "metadata": {
    "collapsed": true
   },
   "outputs": [],
   "source": []
  }
 ],
 "metadata": {
  "kernelspec": {
   "display_name": "Python 3",
   "language": "python",
   "name": "python3"
  },
  "language_info": {
   "codemirror_mode": {
    "name": "ipython",
    "version": 3
   },
   "file_extension": ".py",
   "mimetype": "text/x-python",
   "name": "python",
   "nbconvert_exporter": "python",
   "pygments_lexer": "ipython3",
   "version": "3.5.0"
  }
 },
 "nbformat": 4,
 "nbformat_minor": 1
}
