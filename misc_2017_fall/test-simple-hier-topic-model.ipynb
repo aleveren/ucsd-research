{
 "cells": [
  {
   "cell_type": "code",
   "execution_count": 1,
   "metadata": {
    "collapsed": true
   },
   "outputs": [],
   "source": [
    "import numpy as np\n",
    "import matplotlib.pyplot as plt\n",
    "%matplotlib inline"
   ]
  },
  {
   "cell_type": "code",
   "execution_count": 2,
   "metadata": {
    "collapsed": true
   },
   "outputs": [],
   "source": [
    "from simple_hierarchical_topic_model import SimpleHierarchicalTopicModel, load_vocab, loadmat"
   ]
  },
  {
   "cell_type": "code",
   "execution_count": 3,
   "metadata": {
    "collapsed": true
   },
   "outputs": [],
   "source": [
    "np.random.seed(1)"
   ]
  },
  {
   "cell_type": "code",
   "execution_count": 4,
   "metadata": {
    "collapsed": false
   },
   "outputs": [
    {
     "name": "stdout",
     "output_type": "stream",
     "text": [
      "Loading data...\n",
      "Vocab size: 2940\n",
      "Num documents: 1500\n",
      "Nonzero entries: 585933\n",
      "Loading vocab...\n",
      "Vocab size = 2940\n"
     ]
    }
   ],
   "source": [
    "print(\"Loading data...\")\n",
    "data = loadmat(\"/Users/aleverentz/Code/anchor-word-recovery/M_nips.full_docs.mat.trunc.mat\")[\"M\"]\n",
    "#data = loadmat(\"/Users/aleverentz/ucsd-research/hier-topic-models/data/abstracts.mat\")[\"M\"]\n",
    "print(\"Vocab size: {}\".format(data.shape[0]))\n",
    "print(\"Num documents: {}\".format(data.shape[1]))\n",
    "print(\"Nonzero entries: {}\".format(data.nnz))\n",
    "print(\"Loading vocab...\")\n",
    "vocab = load_vocab(\"/Users/aleverentz/Code/anchor-word-recovery/vocab.nips.txt.trunc\")\n",
    "#vocab = load_vocab(\"/Users/aleverentz/ucsd-research/hier-topic-models/data/abstracts_vocab.txt\")\n",
    "print(\"Vocab size = {}\".format(len(vocab)))\n",
    "assert data.shape[0] == len(vocab)"
   ]
  },
  {
   "cell_type": "code",
   "execution_count": 5,
   "metadata": {
    "collapsed": false
   },
   "outputs": [],
   "source": [
    "model = SimpleHierarchicalTopicModel(\n",
    "    branching_factors = [5, 5], num_epochs = 100,\n",
    "    batch_size = 100, vocab = vocab)"
   ]
  },
  {
   "cell_type": "code",
   "execution_count": 6,
   "metadata": {
    "collapsed": false,
    "scrolled": true
   },
   "outputs": [
    {
     "name": "stderr",
     "output_type": "stream",
     "text": [
      "100%|██████████| 150000/150000 [1:18:55<00:00, 31.43it/s]"
     ]
    },
    {
     "name": "stdout",
     "output_type": "stream",
     "text": [
      "Top words by node:\n",
      "()    : network, function, input, set, result, performance, case, probability, image, test\n",
      "(0,)  : output, dynamic, system, size, parameter, component, direction, theory, distribution, training\n",
      "(0, 0): neuron, hidden, fact, sum, output, environment, section, process, represent, firing\n",
      "(0, 1): neuron, fact, adaptation, process, level, factor, pixel, peak, output, view\n",
      "(0, 2): algorithm, linear, field, section, rules, step, activation, output, small, derived\n",
      "(0, 3): algorithm, neuron, output, hidden, likelihood, predict, basic, training, loss, sum\n",
      "(0, 4): visual, neuron, output, algorithm, view, sum, field, potential, sensor, multiple\n",
      "(1,)  : neural, order, data, computation, error, recognition, system, prediction, form, unit\n",
      "(1, 0): noise, method, equation, error, factor, data, channel, approach, algorithm, level\n",
      "(1, 1): noise, method, hidden, factor, error, large, channel, algorithm, prior, sparse\n",
      "(1, 2): equation, vector, method, error, pixel, neuron, noise, data, level, approach\n",
      "(1, 3): hidden, error, approach, equation, neuron, data, number, modeling, algorithm, interval\n",
      "(1, 4): vector, equation, method, error, hidden, modeling, recurrent, false, number, data\n",
      "(2,)  : problem, weight, layer, neural, net, object, trained, science, experiment, left\n",
      "(2, 0): values, vector, hidden, weight, represent, independent, step, propagation, mixture, noise\n",
      "(2, 1): algorithm, images, feature, linear, level, step, independent, large, weight, process\n",
      "(2, 2): algorithm, linear, feature, neuron, independent, large, level, weight, maximum, mixture\n",
      "(2, 3): vector, algorithm, images, feature, values, processing, neuron, visual, independent, hidden\n",
      "(2, 4): algorithm, vector, values, images, level, neuron, processing, large, sutton, modulation\n",
      "(3,)  : single, information, unit, space, task, solution, layer, number, press, signal\n",
      "(3, 0): gradient, values, number, motor, response, control, pair, classifier, difficult, stimulus\n",
      "(3, 1): dimensional, analysis, vector, pattern, linear, method, number, series, voltage, pair\n",
      "(3, 2): analysis, small, number, attractor, method, gradient, response, control, classifier, simple\n",
      "(3, 3): analysis, small, linear, pattern, number, method, target, features, mixture, response\n",
      "(3, 4): pattern, values, activity, small, synapses, vector, speech, control, noise, linear\n",
      "(4,)  : neural, unit, system, data, distribution, fig, information, parameter, examples, training\n",
      "(4, 0): approach, estimate, decision, data, process, speech, linear, training, joint, search\n",
      "(4, 1): pattern, speech, processing, data, graph, approach, training, desired, system, field\n",
      "(4, 2): pattern, data, speech, approach, classifier, firing, response, proposed, hmm, strength\n",
      "(4, 3): processing, data, pattern, backpropagation, proposed, node, output, world, standard, regression\n",
      "(4, 4): pattern, policy, processing, data, field, node, delay, proposed, training, step\n"
     ]
    },
    {
     "name": "stderr",
     "output_type": "stream",
     "text": [
      "\n"
     ]
    }
   ],
   "source": [
    "model.fit(data)\n",
    "top_words = model.get_top_words_by_node(num_words = 10)\n",
    "model.print_top_words_by_node(num_words = 10);"
   ]
  },
  {
   "cell_type": "code",
   "execution_count": 7,
   "metadata": {
    "collapsed": true
   },
   "outputs": [],
   "source": [
    "topic_vectors = model.get_expected_topic_vectors()"
   ]
  },
  {
   "cell_type": "code",
   "execution_count": 8,
   "metadata": {
    "collapsed": false
   },
   "outputs": [
    {
     "data": {
      "text/plain": [
       "(31, 2940)"
      ]
     },
     "execution_count": 8,
     "metadata": {},
     "output_type": "execute_result"
    }
   ],
   "source": [
    "topic_vectors.shape"
   ]
  },
  {
   "cell_type": "code",
   "execution_count": 9,
   "metadata": {
    "collapsed": false
   },
   "outputs": [
    {
     "name": "stdout",
     "output_type": "stream",
     "text": [
      "(2940,)\n"
     ]
    },
    {
     "data": {
      "text/plain": [
       "0.00066710219833474656"
      ]
     },
     "execution_count": 9,
     "metadata": {},
     "output_type": "execute_result"
    }
   ],
   "source": [
    "variance = topic_vectors.var(axis=0)\n",
    "print(variance.shape)\n",
    "np.linalg.norm(variance)"
   ]
  },
  {
   "cell_type": "code",
   "execution_count": 10,
   "metadata": {
    "collapsed": false
   },
   "outputs": [
    {
     "data": {
      "image/png": "[encoded data removed]",
      "text/plain": [
       "<matplotlib.figure.Figure at 0x10a3bb6a0>"
      ]
     },
     "metadata": {},
     "output_type": "display_data"
    }
   ],
   "source": [
    "for i in range(10):\n",
    "    plt.plot(topic_vectors[i,:], color='b', alpha=0.1);"
   ]
  },
  {
   "cell_type": "code",
   "execution_count": 11,
   "metadata": {
    "collapsed": false
   },
   "outputs": [
    {
     "data": {
      "image/png": "[encoded data removed]",
      "text/plain": [
       "<matplotlib.figure.Figure at 0x10a3bb7f0>"
      ]
     },
     "metadata": {},
     "output_type": "display_data"
    }
   ],
   "source": [
    "plt.plot(topic_vectors[0,:], color='b', alpha=0.2)\n",
    "plt.plot(topic_vectors[1,:], color='g', alpha=0.2)\n",
    "plt.plot(topic_vectors[0,:] - topic_vectors[1,:], color='r', alpha=0.5)\n",
    "None"
   ]
  },
  {
   "cell_type": "code",
   "execution_count": 24,
   "metadata": {
    "collapsed": false
   },
   "outputs": [],
   "source": [
    "from importlib import reload\n",
    "import simple_hierarchical_topic_model\n",
    "reload(simple_hierarchical_topic_model)\n",
    "from simple_hierarchical_topic_model import SimpleHierarchicalTopicModel, load_vocab, loadmat"
   ]
  },
  {
   "cell_type": "code",
   "execution_count": 25,
   "metadata": {
    "collapsed": false
   },
   "outputs": [
    {
     "name": "stdout",
     "output_type": "stream",
     "text": [
      "Top words by node:\n",
      "()    : network, function, input, set, result\n",
      "(0,)  : output, dynamic, system, size, parameter\n",
      "(1,)  : neural, order, data, computation, error\n",
      "(2,)  : problem, weight, layer, neural, net\n",
      "(3,)  : single, information, unit, space, task\n",
      "(4,)  : neural, unit, system, data, distribution\n",
      "(0, 0): neuron, hidden, fact, sum, output\n",
      "(0, 1): neuron, fact, adaptation, process, level\n",
      "(0, 2): algorithm, linear, field, section, rules\n",
      "(0, 3): algorithm, neuron, output, hidden, likelihood\n",
      "(0, 4): visual, neuron, output, algorithm, view\n",
      "(1, 0): noise, method, equation, error, factor\n",
      "(1, 1): noise, method, hidden, factor, error\n",
      "(1, 2): equation, vector, method, error, pixel\n",
      "(1, 3): hidden, error, approach, equation, neuron\n",
      "(1, 4): vector, equation, method, error, hidden\n",
      "(2, 0): values, vector, hidden, weight, represent\n",
      "(2, 1): algorithm, images, feature, linear, level\n",
      "(2, 2): algorithm, linear, feature, neuron, independent\n",
      "(2, 3): vector, algorithm, images, feature, values\n",
      "(2, 4): algorithm, vector, values, images, level\n",
      "(3, 0): gradient, values, number, motor, response\n",
      "(3, 1): dimensional, analysis, vector, pattern, linear\n",
      "(3, 2): analysis, small, number, attractor, method\n",
      "(3, 3): analysis, small, linear, pattern, number\n",
      "(3, 4): pattern, values, activity, small, synapses\n",
      "(4, 0): approach, estimate, decision, data, process\n",
      "(4, 1): pattern, speech, processing, data, graph\n",
      "(4, 2): pattern, data, speech, approach, classifier\n",
      "(4, 3): processing, data, pattern, backpropagation, proposed\n",
      "(4, 4): pattern, policy, processing, data, field\n"
     ]
    }
   ],
   "source": [
    "SimpleHierarchicalTopicModel.print_top_words_by_node(model, num_words = 5);"
   ]
  },
  {
   "cell_type": "code",
   "execution_count": null,
   "metadata": {
    "collapsed": true
   },
   "outputs": [],
   "source": []
  }
 ],
 "metadata": {
  "kernelspec": {
   "display_name": "Python 3",
   "language": "python",
   "name": "python3"
  },
  "language_info": {
   "codemirror_mode": {
    "name": "ipython",
    "version": 3
   },
   "file_extension": ".py",
   "mimetype": "text/x-python",
   "name": "python",
   "nbconvert_exporter": "python",
   "pygments_lexer": "ipython3",
   "version": "3.5.0"
  }
 },
 "nbformat": 4,
 "nbformat_minor": 1
}
