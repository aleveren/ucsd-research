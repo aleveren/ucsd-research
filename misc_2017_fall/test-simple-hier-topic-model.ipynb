{
 "cells": [
  {
   "cell_type": "code",
   "execution_count": 1,
   "metadata": {
    "collapsed": true
   },
   "outputs": [],
   "source": [
    "import numpy as np\n",
    "import matplotlib.pyplot as plt\n",
    "%matplotlib inline"
   ]
  },
  {
   "cell_type": "code",
   "execution_count": 2,
   "metadata": {
    "collapsed": false
   },
   "outputs": [],
   "source": [
    "from simple_hierarchical_topic_model import SimpleHierarchicalTopicModel, load_vocab, loadmat"
   ]
  },
  {
   "cell_type": "code",
   "execution_count": 3,
   "metadata": {
    "collapsed": true
   },
   "outputs": [],
   "source": [
    "np.random.seed(1)"
   ]
  },
  {
   "cell_type": "code",
   "execution_count": 4,
   "metadata": {
    "collapsed": false
   },
   "outputs": [
    {
     "name": "stdout",
     "output_type": "stream",
     "text": [
      "Loading data...\n",
      "Vocab size: 2940\n",
      "Num documents: 1500\n",
      "Nonzero entries: 585933\n",
      "Loading vocab...\n",
      "Vocab size = 2940\n"
     ]
    }
   ],
   "source": [
    "print(\"Loading data...\")\n",
    "data = loadmat(\"/Users/aleverentz/Code/anchor-word-recovery/M_nips.full_docs.mat.trunc.mat\")[\"M\"]\n",
    "#data = loadmat(\"/Users/aleverentz/ucsd-research/hier-topic-models/data/abstracts.mat\")[\"M\"]\n",
    "print(\"Vocab size: {}\".format(data.shape[0]))\n",
    "print(\"Num documents: {}\".format(data.shape[1]))\n",
    "print(\"Nonzero entries: {}\".format(data.nnz))\n",
    "print(\"Loading vocab...\")\n",
    "vocab = load_vocab(\"/Users/aleverentz/Code/anchor-word-recovery/vocab.nips.txt.trunc\")\n",
    "#vocab = load_vocab(\"/Users/aleverentz/ucsd-research/hier-topic-models/data/abstracts_vocab.txt\")\n",
    "print(\"Vocab size = {}\".format(len(vocab)))\n",
    "assert data.shape[0] == len(vocab)"
   ]
  },
  {
   "cell_type": "code",
   "execution_count": 5,
   "metadata": {
    "collapsed": true
   },
   "outputs": [],
   "source": [
    "import os\n",
    "import sys\n",
    "sys.path.append(os.path.abspath(\"..\"))\n",
    "import text_utils"
   ]
  },
  {
   "cell_type": "code",
   "execution_count": 6,
   "metadata": {
    "collapsed": false
   },
   "outputs": [
    {
     "name": "stdout",
     "output_type": "stream",
     "text": [
      "Vocab size: 42756\n",
      "Num documents: 2246\n",
      "CPU times: user 28.1 s, sys: 187 ms, total: 28.3 s\n",
      "Wall time: 28.4 s\n"
     ]
    }
   ],
   "source": [
    "%%time\n",
    "\n",
    "data, vocab = text_utils.xml_to_sparse_term_doc(\n",
    "    filename = \"/Users/aleverentz/Downloads/ap/ap_mod_xml.txt\",\n",
    "    within = [\"toplevel\"],\n",
    "    eachdoc = [\"DOC\", \"TEXT\"],\n",
    "    parser_type = \"lxml-xml\",\n",
    "    tokenizer = text_utils.default_tokenizer)\n",
    "\n",
    "print(\"Vocab size: {}\".format(data.shape[0]))\n",
    "print(\"Num documents: {}\".format(data.shape[1]))\n",
    "assert data.shape[0] == len(vocab)"
   ]
  },
  {
   "cell_type": "code",
   "execution_count": 7,
   "metadata": {
    "collapsed": false
   },
   "outputs": [],
   "source": [
    "model = SimpleHierarchicalTopicModel(\n",
    "    branching_factors = [5, 5], num_epochs = 100,\n",
    "    batch_size = 100, vocab = vocab)"
   ]
  },
  {
   "cell_type": "code",
   "execution_count": 8,
   "metadata": {
    "collapsed": false,
    "scrolled": true
   },
   "outputs": [
    {
     "name": "stderr",
     "output_type": "stream",
     "text": [
      "100%|██████████| 224600/224600 [1:11:10<00:00, 52.60it/s, Status=computing ELBO, ELBO_previous=7.68e+08]\n"
     ]
    },
    {
     "name": "stdout",
     "output_type": "stream",
     "text": [
      "Top words by node:\n",
      "()    : the, of, to, a, in, and, said, 's, for, that\n",
      "(0,)  : the, of, to, a, in, and, said, 's, that, for\n",
      "(1,)  : the, of, to, a, in, and, said, 's, that, for\n",
      "(2,)  : the, of, to, a, in, and, said, 's, that, for\n",
      "(3,)  : the, of, to, a, in, and, said, 's, that, for\n",
      "(4,)  : the, of, to, a, in, and, said, 's, that, for\n",
      "(0, 0): the, of, to, a, and, in, said, 's, for, that\n",
      "(0, 1): the, of, to, a, and, in, said, 's, for, that\n",
      "(0, 2): the, of, to, a, and, in, said, 's, for, that\n",
      "(0, 3): the, of, to, a, and, in, said, 's, for, that\n",
      "(0, 4): the, of, to, a, and, in, said, 's, for, that\n",
      "(1, 0): the, of, to, a, and, in, said, 's, for, that\n",
      "(1, 1): the, of, to, a, and, in, said, 's, for, that\n",
      "(1, 2): the, of, to, a, and, in, said, 's, for, that\n",
      "(1, 3): the, of, to, a, and, in, said, 's, for, that\n",
      "(1, 4): the, of, to, a, and, in, said, 's, for, that\n",
      "(2, 0): the, of, to, a, and, in, said, 's, for, that\n",
      "(2, 1): the, of, to, a, and, in, said, 's, for, that\n",
      "(2, 2): the, of, to, a, and, in, said, 's, for, that\n",
      "(2, 3): the, of, to, a, and, in, said, 's, for, that\n",
      "(2, 4): the, of, to, a, and, in, said, 's, for, that\n",
      "(3, 0): the, of, to, a, and, in, said, 's, for, that\n",
      "(3, 1): the, of, to, a, and, in, said, 's, for, that\n",
      "(3, 2): the, of, to, a, and, in, said, 's, for, that\n",
      "(3, 3): the, of, to, a, and, in, said, 's, for, that\n",
      "(3, 4): the, of, to, a, and, in, said, 's, for, that\n",
      "(4, 0): the, of, to, a, and, in, said, 's, for, that\n",
      "(4, 1): the, of, to, a, and, in, said, 's, for, that\n",
      "(4, 2): the, of, to, a, and, in, said, 's, for, that\n",
      "(4, 3): the, of, to, a, and, in, said, 's, for, that\n",
      "(4, 4): the, of, to, a, and, in, said, 's, for, that\n"
     ]
    }
   ],
   "source": [
    "model.fit(data)\n",
    "top_words = model.get_top_words_by_node(num_words = 10)\n",
    "model.print_top_words_by_node(num_words = 10);"
   ]
  },
  {
   "cell_type": "code",
   "execution_count": 9,
   "metadata": {
    "collapsed": false
   },
   "outputs": [
    {
     "data": {
      "image/png": "[encoded data removed]",
      "text/plain": [
       "<matplotlib.figure.Figure at 0x10fa136d8>"
      ]
     },
     "metadata": {},
     "output_type": "display_data"
    }
   ],
   "source": [
    "fig, ax = plt.subplots()\n",
    "ax.plot(model.get_stats_by_epoch(\"ELBO\"))\n",
    "ax.set_xlabel(\"Epoch\")\n",
    "ax.set_ylabel(\"ELBO\")\n",
    "None"
   ]
  },
  {
   "cell_type": "code",
   "execution_count": 10,
   "metadata": {
    "collapsed": true
   },
   "outputs": [],
   "source": [
    "topic_vectors = model.get_expected_topic_vectors()"
   ]
  },
  {
   "cell_type": "code",
   "execution_count": 11,
   "metadata": {
    "collapsed": false
   },
   "outputs": [
    {
     "data": {
      "text/plain": [
       "(31, 42756)"
      ]
     },
     "execution_count": 11,
     "metadata": {},
     "output_type": "execute_result"
    }
   ],
   "source": [
    "topic_vectors.shape"
   ]
  },
  {
   "cell_type": "code",
   "execution_count": 12,
   "metadata": {
    "collapsed": false
   },
   "outputs": [
    {
     "name": "stdout",
     "output_type": "stream",
     "text": [
      "(42756,)\n"
     ]
    },
    {
     "data": {
      "text/plain": [
       "3.6595792214602578e-05"
      ]
     },
     "execution_count": 12,
     "metadata": {},
     "output_type": "execute_result"
    }
   ],
   "source": [
    "variance = topic_vectors.var(axis=0)\n",
    "print(variance.shape)\n",
    "np.linalg.norm(variance)"
   ]
  },
  {
   "cell_type": "code",
   "execution_count": 13,
   "metadata": {
    "collapsed": false
   },
   "outputs": [
    {
     "data": {
      "image/png": "[encoded data removed]",
      "text/plain": [
       "<matplotlib.figure.Figure at 0x10fa13780>"
      ]
     },
     "metadata": {},
     "output_type": "display_data"
    }
   ],
   "source": [
    "for i in range(10):\n",
    "    plt.plot(topic_vectors[i,:], color='b', alpha=0.1);"
   ]
  },
  {
   "cell_type": "code",
   "execution_count": 14,
   "metadata": {
    "collapsed": false
   },
   "outputs": [
    {
     "data": {
      "image/png": "[encoded data removed]",
      "text/plain": [
       "<matplotlib.figure.Figure at 0x1154bbac8>"
      ]
     },
     "metadata": {},
     "output_type": "display_data"
    }
   ],
   "source": [
    "plt.plot(topic_vectors[0,:], color='b', alpha=0.2)\n",
    "plt.plot(topic_vectors[1,:], color='g', alpha=0.2)\n",
    "plt.plot(topic_vectors[0,:] - topic_vectors[1,:], color='r', alpha=0.5)\n",
    "None"
   ]
  },
  {
   "cell_type": "code",
   "execution_count": null,
   "metadata": {
    "collapsed": true
   },
   "outputs": [],
   "source": []
  }
 ],
 "metadata": {
  "kernelspec": {
   "display_name": "Python 3",
   "language": "python",
   "name": "python3"
  },
  "language_info": {
   "codemirror_mode": {
    "name": "ipython",
    "version": 3
   },
   "file_extension": ".py",
   "mimetype": "text/x-python",
   "name": "python",
   "nbconvert_exporter": "python",
   "pygments_lexer": "ipython3",
   "version": "3.5.0"
  }
 },
 "nbformat": 4,
 "nbformat_minor": 1
}
