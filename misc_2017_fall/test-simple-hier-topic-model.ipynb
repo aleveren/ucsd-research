{
 "cells": [
  {
   "cell_type": "code",
   "execution_count": 1,
   "metadata": {
    "collapsed": true
   },
   "outputs": [],
   "source": [
    "import numpy as np\n",
    "import matplotlib.pyplot as plt\n",
    "%matplotlib inline"
   ]
  },
  {
   "cell_type": "code",
   "execution_count": 2,
   "metadata": {
    "collapsed": false
   },
   "outputs": [],
   "source": [
    "from simple_hierarchical_topic_model import SimpleHierarchicalTopicModel, load_vocab, loadmat"
   ]
  },
  {
   "cell_type": "code",
   "execution_count": 3,
   "metadata": {
    "collapsed": true
   },
   "outputs": [],
   "source": [
    "np.random.seed(1)"
   ]
  },
  {
   "cell_type": "code",
   "execution_count": 4,
   "metadata": {
    "collapsed": false
   },
   "outputs": [
    {
     "name": "stdout",
     "output_type": "stream",
     "text": [
      "Loading data...\n",
      "Vocab size: 2940\n",
      "Num documents: 1500\n",
      "Nonzero entries: 585933\n",
      "Loading vocab...\n",
      "Vocab size = 2940\n"
     ]
    }
   ],
   "source": [
    "print(\"Loading data...\")\n",
    "data = loadmat(\"/Users/aleverentz/Code/anchor-word-recovery/M_nips.full_docs.mat.trunc.mat\")[\"M\"]\n",
    "#data = loadmat(\"/Users/aleverentz/ucsd-research/hier-topic-models/data/abstracts.mat\")[\"M\"]\n",
    "print(\"Vocab size: {}\".format(data.shape[0]))\n",
    "print(\"Num documents: {}\".format(data.shape[1]))\n",
    "print(\"Nonzero entries: {}\".format(data.nnz))\n",
    "print(\"Loading vocab...\")\n",
    "vocab = load_vocab(\"/Users/aleverentz/Code/anchor-word-recovery/vocab.nips.txt.trunc\")\n",
    "#vocab = load_vocab(\"/Users/aleverentz/ucsd-research/hier-topic-models/data/abstracts_vocab.txt\")\n",
    "print(\"Vocab size = {}\".format(len(vocab)))\n",
    "assert data.shape[0] == len(vocab)"
   ]
  },
  {
   "cell_type": "code",
   "execution_count": 5,
   "metadata": {
    "collapsed": true
   },
   "outputs": [],
   "source": [
    "import os\n",
    "import sys\n",
    "sys.path.append(os.path.abspath(\"..\"))\n",
    "import text_utils"
   ]
  },
  {
   "cell_type": "code",
   "execution_count": 6,
   "metadata": {
    "collapsed": false
   },
   "outputs": [
    {
     "name": "stdout",
     "output_type": "stream",
     "text": [
      "Vocab size: 42756\n",
      "Num documents: 2246\n",
      "CPU times: user 28.5 s, sys: 157 ms, total: 28.6 s\n",
      "Wall time: 28.7 s\n"
     ]
    }
   ],
   "source": [
    "%%time\n",
    "\n",
    "data, vocab = text_utils.xml_to_sparse_term_doc(\n",
    "    filename = \"/Users/aleverentz/Downloads/ap/ap_mod_xml.txt\",\n",
    "    within = [\"toplevel\"],\n",
    "    eachdoc = [\"DOC\", \"TEXT\"],\n",
    "    parser_type = \"lxml-xml\",\n",
    "    tokenizer = text_utils.default_tokenizer)\n",
    "\n",
    "print(\"Vocab size: {}\".format(data.shape[0]))\n",
    "print(\"Num documents: {}\".format(data.shape[1]))\n",
    "assert data.shape[0] == len(vocab)"
   ]
  },
  {
   "cell_type": "code",
   "execution_count": 7,
   "metadata": {
    "collapsed": false
   },
   "outputs": [],
   "source": [
    "model = SimpleHierarchicalTopicModel(\n",
    "    branching_factors = [5, 5], num_epochs = 100,\n",
    "    batch_size = 100, vocab = vocab)"
   ]
  },
  {
   "cell_type": "code",
   "execution_count": 8,
   "metadata": {
    "collapsed": false,
    "scrolled": true
   },
   "outputs": [
    {
     "name": "stderr",
     "output_type": "stream",
     "text": [
      "100%|██████████| 224600/224600 [1:07:28<00:00, 55.48it/s, previousELBO=7.48e+08, Status=computing ELBO]\n"
     ]
    },
    {
     "name": "stdout",
     "output_type": "stream",
     "text": [
      "Top words by node:\n",
      "()    : of, to, for, was, with, about, new, were, she, when\n",
      "(0,)  : said, on, from, be, has, i, this, not, their, in\n",
      "(1,)  : a, in, not, after, two, out, because, it, city, tuesday\n",
      "(2,)  : said, that, would, we, been, from, more, it, than, up\n",
      "(3,)  : and, at, a, has, that, his, as, said, their, party\n",
      "(4,)  : it, as, president, million, which, its, n't, government, last, be\n",
      "(0, 0): the, to, with, them, 1986, an, political, germany, on, down\n",
      "(0, 1): he, 's, will, to, them, monday, services, who, on, part\n",
      "(0, 2): the, he, with, will, they, them, monday, plan, down, on\n",
      "(0, 3): the, he, 's, in, with, got, who, well, members, on\n",
      "(0, 4): the, he, in, with, they, on, said, former, down, one\n",
      "(1, 0): in, is, a, are, by, to, have, were, but, just\n",
      "(1, 1): in, a, are, company, have, budget, but, were, nation, where\n",
      "(1, 2): in, 's, a, are, to, monday, director, where, were, just\n",
      "(1, 3): is, are, 's, a, or, by, were, just, year, should\n",
      "(1, 4): in, is, 's, a, to, with, have, an, where, prime\n",
      "(2, 0): the, to, or, another, that, will, they, you, other, state\n",
      "(2, 1): to, that, number, do, some, talks, prices, only, state, other\n",
      "(2, 2): by, have, to, that, some, they, do, percent, public, only\n",
      "(2, 3): or, will, by, have, that, do, they, some, bush, women\n",
      "(2, 4): to, you, have, that, york, some, percent, three, early, my\n",
      "(3, 0): 's, his, by, group, an, but, to, a, iraq, points\n",
      "(3, 1): the, an, his, but, at, according, that, bid, a, rose\n",
      "(3, 2): the, any, his, but, a, at, year, according, who, found\n",
      "(3, 3): 's, by, his, an, but, a, who, year, believe, at\n",
      "(3, 4): the, 's, by, at, political, who, that, israeli, panel, do\n",
      "(4, 0): to, an, will, had, bush, also, if, market, a, meeting\n",
      "(4, 1): an, no, there, with, had, have, market, say, however, also\n",
      "(4, 2): to, had, bush, water, shares, house, say, violence, military, market\n",
      "(4, 3): no, by, there, have, with, if, iran, human, year, states\n",
      "(4, 4): the, to, there, had, how, need, they, also, worked, bush\n"
     ]
    }
   ],
   "source": [
    "model.fit(data)\n",
    "top_words = model.get_top_words_by_node(num_words = 10)\n",
    "model.print_top_words_by_node(num_words = 10);"
   ]
  },
  {
   "cell_type": "code",
   "execution_count": 9,
   "metadata": {
    "collapsed": false
   },
   "outputs": [
    {
     "data": {
      "image/png": "[encoded data removed]",
      "text/plain": [
       "<matplotlib.figure.Figure at 0x10d1f7da0>"
      ]
     },
     "metadata": {},
     "output_type": "display_data"
    }
   ],
   "source": [
    "fig, ax = plt.subplots()\n",
    "ax.plot(model.elbo_sequence)\n",
    "ax.set_xlabel(\"Epoch\")\n",
    "ax.set_ylabel(\"ELBO\")\n",
    "None"
   ]
  },
  {
   "cell_type": "code",
   "execution_count": 10,
   "metadata": {
    "collapsed": true
   },
   "outputs": [],
   "source": [
    "topic_vectors = model.get_expected_topic_vectors()"
   ]
  },
  {
   "cell_type": "code",
   "execution_count": 11,
   "metadata": {
    "collapsed": false
   },
   "outputs": [
    {
     "data": {
      "text/plain": [
       "(31, 42756)"
      ]
     },
     "execution_count": 11,
     "metadata": {},
     "output_type": "execute_result"
    }
   ],
   "source": [
    "topic_vectors.shape"
   ]
  },
  {
   "cell_type": "code",
   "execution_count": 12,
   "metadata": {
    "collapsed": false
   },
   "outputs": [
    {
     "name": "stdout",
     "output_type": "stream",
     "text": [
      "(42756,)\n"
     ]
    },
    {
     "data": {
      "text/plain": [
       "0.017800479849025372"
      ]
     },
     "execution_count": 12,
     "metadata": {},
     "output_type": "execute_result"
    }
   ],
   "source": [
    "variance = topic_vectors.var(axis=0)\n",
    "print(variance.shape)\n",
    "np.linalg.norm(variance)"
   ]
  },
  {
   "cell_type": "code",
   "execution_count": 13,
   "metadata": {
    "collapsed": false
   },
   "outputs": [
    {
     "data": {
      "image/png": "[encoded data removed]",
      "text/plain": [
       "<matplotlib.figure.Figure at 0x10d1f7080>"
      ]
     },
     "metadata": {},
     "output_type": "display_data"
    }
   ],
   "source": [
    "for i in range(10):\n",
    "    plt.plot(topic_vectors[i,:], color='b', alpha=0.1);"
   ]
  },
  {
   "cell_type": "code",
   "execution_count": 14,
   "metadata": {
    "collapsed": false
   },
   "outputs": [
    {
     "data": {
      "image/png": "[encoded data removed]",
      "text/plain": [
       "<matplotlib.figure.Figure at 0x10d1d3240>"
      ]
     },
     "metadata": {},
     "output_type": "display_data"
    }
   ],
   "source": [
    "plt.plot(topic_vectors[0,:], color='b', alpha=0.2)\n",
    "plt.plot(topic_vectors[1,:], color='g', alpha=0.2)\n",
    "plt.plot(topic_vectors[0,:] - topic_vectors[1,:], color='r', alpha=0.5)\n",
    "None"
   ]
  },
  {
   "cell_type": "code",
   "execution_count": null,
   "metadata": {
    "collapsed": true
   },
   "outputs": [],
   "source": []
  }
 ],
 "metadata": {
  "kernelspec": {
   "display_name": "Python 3",
   "language": "python",
   "name": "python3"
  },
  "language_info": {
   "codemirror_mode": {
    "name": "ipython",
    "version": 3
   },
   "file_extension": ".py",
   "mimetype": "text/x-python",
   "name": "python",
   "nbconvert_exporter": "python",
   "pygments_lexer": "ipython3",
   "version": "3.5.0"
  }
 },
 "nbformat": 4,
 "nbformat_minor": 1
}
