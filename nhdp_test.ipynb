{
 "cells": [
  {
   "cell_type": "code",
   "execution_count": 1,
   "metadata": {
    "collapsed": true
   },
   "outputs": [],
   "source": [
    "import numpy as np\n",
    "import matplotlib.pyplot as plt\n",
    "%matplotlib inline"
   ]
  },
  {
   "cell_type": "code",
   "execution_count": 2,
   "metadata": {
    "collapsed": false
   },
   "outputs": [],
   "source": [
    "import nhdp"
   ]
  },
  {
   "cell_type": "code",
   "execution_count": 3,
   "metadata": {
    "collapsed": true
   },
   "outputs": [],
   "source": [
    "np.random.seed(1)"
   ]
  },
  {
   "cell_type": "code",
   "execution_count": 4,
   "metadata": {
    "collapsed": true
   },
   "outputs": [],
   "source": [
    "vocab = [\"is\", \"the\", \"a\", \"dog\", \"cat\", \"fast\", \"slow\", \"large\", \"small\"]"
   ]
  },
  {
   "cell_type": "code",
   "execution_count": 5,
   "metadata": {
    "collapsed": true
   },
   "outputs": [],
   "source": [
    "generator = nhdp.NHDP(\n",
    "    alpha = 1.0,\n",
    "    beta = 1.0,\n",
    "    gamma1 = 1.0,\n",
    "    gamma2 = 1.0,\n",
    "    topic_alpha_vector = np.ones(len(vocab)),\n",
    "    vocab = vocab)"
   ]
  },
  {
   "cell_type": "code",
   "execution_count": 6,
   "metadata": {
    "collapsed": false
   },
   "outputs": [
    {
     "data": {
      "text/plain": [
       "(['a', 'the', 'small', 'small', 'a', 'the', 'slow', 'small', 'the', 'slow'],\n",
       " [(0,),\n",
       "  (0, 0, 1),\n",
       "  (0, 0, 1, 1),\n",
       "  (0, 0, 0, 0, 1, 0, 1),\n",
       "  (0, 0, 0),\n",
       "  (0, 0),\n",
       "  (4, 1, 1, 2, 2, 1),\n",
       "  (0, 0, 0, 0),\n",
       "  (0, 0),\n",
       "  (0, 0)])"
      ]
     },
     "execution_count": 6,
     "metadata": {},
     "output_type": "execute_result"
    }
   ],
   "source": [
    "generator.draw_document(document_length=10)\n",
    "#generator.draw_corpus(num_documents=1, document_length=1)\n",
    "#generator.draw_corpus(num_documents=5, document_length=8)"
   ]
  },
  {
   "cell_type": "code",
   "execution_count": 7,
   "metadata": {
    "collapsed": false
   },
   "outputs": [
    {
     "data": {
      "text/plain": [
       "defaultdict(<function nhdp.gen>,\n",
       "            {(0,): array([ 0.03304886,  0.13642838,  0.35960633,  0.05831807,  0.10418419,\n",
       "                     0.01145745,  0.18621714,  0.03158649,  0.07915309]),\n",
       "             (0,\n",
       "              0): array([ 0.10298052,  0.43624671,  0.0094061 ,  0.11141371,  0.03690222,\n",
       "                     0.11661917,  0.03117216,  0.04936044,  0.10589894]),\n",
       "             (0,\n",
       "              0,\n",
       "              0): array([ 0.05689903,  0.07338195,  0.10449039,  0.17472493,  0.03869694,\n",
       "                     0.19947005,  0.08580037,  0.20807845,  0.05845788]),\n",
       "             (0,\n",
       "              0,\n",
       "              0,\n",
       "              0): array([ 0.14508443,  0.03849669,  0.23248117,  0.11221295,  0.05023128,\n",
       "                     0.02949654,  0.07887982,  0.05009598,  0.26302114]),\n",
       "             (0,\n",
       "              0,\n",
       "              0,\n",
       "              0,\n",
       "              1,\n",
       "              0,\n",
       "              1): array([ 0.08178615,  0.0088353 ,  0.01816252,  0.17745488,  0.10815377,\n",
       "                     0.25013513,  0.05636821,  0.2570147 ,  0.04208934]),\n",
       "             (0,\n",
       "              0,\n",
       "              1): array([ 0.16894235,  0.26710941,  0.00858574,  0.37127795,  0.05868624,\n",
       "                     0.00702363,  0.0800181 ,  0.02322897,  0.01512761]),\n",
       "             (0,\n",
       "              0,\n",
       "              1,\n",
       "              1): array([ 0.05221492,  0.06292055,  0.06647492,  0.01164482,  0.0734445 ,\n",
       "                     0.11872921,  0.34667629,  0.09826473,  0.16963005]),\n",
       "             (4,\n",
       "              1,\n",
       "              1,\n",
       "              2,\n",
       "              2,\n",
       "              1): array([ 0.12924401,  0.06592841,  0.25171068,  0.20626411,  0.00718232,\n",
       "                     0.02349333,  0.06794274,  0.18733231,  0.0609021 ])})"
      ]
     },
     "execution_count": 7,
     "metadata": {},
     "output_type": "execute_result"
    }
   ],
   "source": [
    "generator.topics_by_path"
   ]
  },
  {
   "cell_type": "code",
   "execution_count": null,
   "metadata": {
    "collapsed": true
   },
   "outputs": [],
   "source": []
  }
 ],
 "metadata": {
  "kernelspec": {
   "display_name": "Python 2",
   "language": "python",
   "name": "python2"
  },
  "language_info": {
   "codemirror_mode": {
    "name": "ipython",
    "version": 2
   },
   "file_extension": ".py",
   "mimetype": "text/x-python",
   "name": "python",
   "nbconvert_exporter": "python",
   "pygments_lexer": "ipython2",
   "version": "2.7.10"
  }
 },
 "nbformat": 4,
 "nbformat_minor": 1
}
