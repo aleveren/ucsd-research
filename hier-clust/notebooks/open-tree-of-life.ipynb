{
 "cells": [
  {
   "cell_type": "code",
   "execution_count": 1,
   "metadata": {
    "collapsed": false
   },
   "outputs": [
    {
     "name": "stderr",
     "output_type": "stream",
     "text": [
      "/usr/local/lib/python2.7/site-packages/matplotlib/font_manager.py:273: UserWarning: Matplotlib is building the font cache using fc-list. This may take a moment.\n",
      "  warnings.warn('Matplotlib is building the font cache using fc-list. This may take a moment.')\n"
     ]
    }
   ],
   "source": [
    "import numpy as np\n",
    "import matplotlib.pyplot as plt\n",
    "%matplotlib inline"
   ]
  },
  {
   "cell_type": "code",
   "execution_count": 2,
   "metadata": {
    "collapsed": true
   },
   "outputs": [],
   "source": [
    "import json\n",
    "import requests"
   ]
  },
  {
   "cell_type": "markdown",
   "metadata": {},
   "source": [
    "[Open Tree of Life API Documentation](https://github.com/OpenTreeOfLife/germinator/wiki/Open-Tree-of-Life-Web-APIs)"
   ]
  },
  {
   "cell_type": "code",
   "execution_count": 3,
   "metadata": {
    "collapsed": true
   },
   "outputs": [],
   "source": [
    "def otl_request(path, **kwargs):\n",
    "    data_json = json.dumps(kwargs)\n",
    "    r = requests.post('https://api.opentreeoflife.org/v3/' + path, data = data_json)\n",
    "    return json.loads(r.text)\n",
    "\n",
    "def print_otl_request(path, **kwargs):\n",
    "    print json.dumps(otl_request(path, **kwargs), indent = 4)"
   ]
  },
  {
   "cell_type": "code",
   "execution_count": 4,
   "metadata": {
    "collapsed": false
   },
   "outputs": [],
   "source": [
    "sci_names = {\n",
    "    \"antelope\": \"eudorcas thomsonii\",\n",
    "    \"grizzly bear\": \"ursus arctos horribilis\",\n",
    "    \"killer whale\": \"orcinus orca\",\n",
    "    \"beaver\": \"castor canadensis\",\n",
    "    \"dalmatian\": \"canis lupus familiaris\",  # more specific?\n",
    "    \"persian cat\": \"felis catus\",  # more specific\n",
    "    \"horse\": \"equus ferus caballus\",\n",
    "    \"german shepherd\": \"canis lupus familiaris\",  # more specific?\n",
    "    \"blue whale\": \"balaenoptera musculus\",\n",
    "    \"siamese cat\": \"felis catus\",  # more specific?\n",
    "    \"skunk\": \"mephitidae\",\n",
    "    \"mole\": \"talpidae\",\n",
    "    \"tiger\": \"panthera tigris\",\n",
    "    \"hippopotamus\": \"hippopotamus amphibius\",\n",
    "    \"leopard\": \"panthera pardus\",\n",
    "    \"moose\": \"alces alces\",\n",
    "    \"spider monkey\": \"ateles\",\n",
    "    \"humpback whale\": \"megaptera novaeangliae\",\n",
    "    \"elephant\": \"loxodonta africana\",\n",
    "    \"gorilla\": \"gorilla gorilla\",\n",
    "    \"ox\": \"bos taurus\",  # more specific?\n",
    "    \"fox\": \"vulpes vulpes\",\n",
    "    \"sheep\": \"ovis aries\",\n",
    "    \"seal\": \"phocidae\",\n",
    "    \"chimpanzee\": \"pan\",  # troglodytes\",\n",
    "    \"hamster\": \"mesocricetus\",\n",
    "    \"squirrel\": \"sciuridae\",\n",
    "    \"rhinoceros\": \"rhinocerotidae\",\n",
    "    \"rabbit\": \"oryctolagus\",\n",
    "    \"bat\": \"lasiurus blossevillii\",\n",
    "    \"giraffe\": \"giraffa camelopardalis\",\n",
    "    \"wolf\": \"canis lupus arctos\",\n",
    "    \"chihuahua\": \"canis lupus familiaris\",  # more specific?\n",
    "    \"rat\": \"rattus rattus\",\n",
    "    \"weasel\": \"mustela nivalis\",\n",
    "    \"otter\": \"lutrinae\",\n",
    "    \"buffalo\": \"bison bison\",\n",
    "    \"zebra\": \"equus quagga\",\n",
    "    \"giant panda\": \"ailuropoda melanoleuca\",\n",
    "    \"deer\": \"odocoileus virginianus\",\n",
    "    \"bobcat\": \"lynx rufus\",\n",
    "    \"pig\": \"sus scrofa domesticus\",\n",
    "    \"lion\": \"panthera leo\",\n",
    "    \"mouse\": \"mus musculus\",\n",
    "    \"polar bear\": \"ursus maritimus\",\n",
    "    \"collie\": \"canis lupus familiaris\",  # more specific?\n",
    "    \"walrus\": \"odobenus rosmarus\",\n",
    "    \"raccoon\": \"procyon lotor\",\n",
    "    \"cow\": \"bos taurus\",  # more specific?\n",
    "    \"dolphin\": \"tursiops truncatus\",\n",
    "}"
   ]
  },
  {
   "cell_type": "code",
   "execution_count": 5,
   "metadata": {
    "collapsed": false
   },
   "outputs": [],
   "source": [
    "animals_filename = \"../../../2016-a-winter/cse250b-learning-algos/hw6/Animals_with_Attributes/classes.txt\"\n",
    "with open(animals_filename) as f:\n",
    "    animals = [line.split()[1].replace('+', ' ') for line in f]"
   ]
  },
  {
   "cell_type": "code",
   "execution_count": 6,
   "metadata": {
    "collapsed": true
   },
   "outputs": [],
   "source": [
    "for a in animals:\n",
    "    assert a in sci_names"
   ]
  },
  {
   "cell_type": "code",
   "execution_count": 7,
   "metadata": {
    "collapsed": true
   },
   "outputs": [],
   "source": [
    "from IPython.display import clear_output"
   ]
  },
  {
   "cell_type": "code",
   "execution_count": 8,
   "metadata": {
    "collapsed": false
   },
   "outputs": [],
   "source": [
    "ott_ids = {}\n",
    "ott_result = otl_request('/tnrs/match_names', names = sci_names.values())\n",
    "for r in ott_result[\"results\"]:\n",
    "    m = r[\"matches\"][0]\n",
    "    ott_ids[m[\"search_string\"]] = m[\"taxon\"][\"ott_id\"]"
   ]
  },
  {
   "cell_type": "code",
   "execution_count": 9,
   "metadata": {
    "collapsed": true
   },
   "outputs": [],
   "source": [
    "from collections import defaultdict"
   ]
  },
  {
   "cell_type": "code",
   "execution_count": 10,
   "metadata": {
    "collapsed": false
   },
   "outputs": [
    {
     "name": "stdout",
     "output_type": "stream",
     "text": [
      "antelope            : eudorcas thomsonii             (702522)\n",
      "bat                 : lasiurus blossevillii          (362948)\n",
      "beaver              : castor canadensis              (886085)\n",
      "blue whale          : balaenoptera musculus          (226190)\n",
      "bobcat              : lynx rufus                     (507545)\n",
      "buffalo             : bison bison                    (907693)\n",
      "chihuahua           : canis lupus familiaris         (247333)\n",
      "chimpanzee          : pan                            (417957)\n",
      "collie              : canis lupus familiaris         (247333)\n",
      "cow                 : bos taurus                     (490099)\n",
      "dalmatian           : canis lupus familiaris         (247333)\n",
      "deer                : odocoileus virginianus         (410145)\n",
      "dolphin             : tursiops truncatus             (124230)\n",
      "elephant            : loxodonta africana             (541936)\n",
      "fox                 : vulpes vulpes                  (821964)\n",
      "german shepherd     : canis lupus familiaris         (247333)\n",
      "giant panda         : ailuropoda melanoleuca         (872573)\n",
      "giraffe             : giraffa camelopardalis         (768674)\n",
      "gorilla             : gorilla gorilla                (417965)\n",
      "grizzly bear        : ursus arctos horribilis        (350099)\n",
      "hamster             : mesocricetus                   (391624)\n",
      "hippopotamus        : hippopotamus amphibius         (510762)\n",
      "horse               : equus ferus caballus           (1068218)\n",
      "humpback whale      : megaptera novaeangliae         (226198)\n",
      "killer whale        : orcinus orca                   (124215)\n",
      "leopard             : panthera pardus                (42324)\n",
      "lion                : panthera leo                   (563151)\n",
      "mole                : talpidae                       (222358)\n",
      "moose               : alces alces                    (460509)\n",
      "mouse               : mus musculus                   (542509)\n",
      "otter               : lutrinae                       (306281)\n",
      "ox                  : bos taurus                     (490099)\n",
      "persian cat         : felis catus                    (563166)\n",
      "pig                 : sus scrofa domesticus          (729998)\n",
      "polar bear          : ursus maritimus                (10732)\n",
      "rabbit              : oryctolagus                    (864605)\n",
      "raccoon             : procyon lotor                  (348040)\n",
      "rat                 : rattus rattus                  (271571)\n",
      "rhinoceros          : rhinocerotidae                 (1034218)\n",
      "seal                : phocidae                       (749626)\n",
      "sheep               : ovis aries                     (70819)\n",
      "siamese cat         : felis catus                    (563166)\n",
      "skunk               : mephitidae                     (445986)\n",
      "spider monkey       : ateles                         (791703)\n",
      "squirrel            : sciuridae                      (384218)\n",
      "tiger               : panthera tigris                (42314)\n",
      "walrus              : odobenus rosmarus              (749644)\n",
      "weasel              : mustela nivalis                (354525)\n",
      "wolf                : canis lupus arctos             (5340002)\n",
      "zebra               : equus quagga                   (124776)\n"
     ]
    }
   ],
   "source": [
    "names_by_ott_id = defaultdict(list)\n",
    "for a in sorted(animals):\n",
    "    ott_id = ott_ids[sci_names[a]]\n",
    "    print \"{:20s}: {:30s} ({})\".format(a, sci_names[a], ott_id)\n",
    "    names_by_ott_id[ott_id].append(a)"
   ]
  },
  {
   "cell_type": "code",
   "execution_count": 11,
   "metadata": {
    "collapsed": false
   },
   "outputs": [
    {
     "name": "stdout",
     "output_type": "stream",
     "text": [
      "((((((((Mephitidae_ott445986,(Procyon_lotor_ott348040,(Lutrinae_ott306281,Mustela_nivalis_ott354525))),((Ailuropoda_melanoleuca_ott872573,(Ursus_maritimus_ott10732,Ursus_arctos_horribilis_ott350099))Ursidae_ott297458,(Odobenus_rosmarus_ott749644,Phocidae_ott749626))),(Vulpes_vulpes_ott821964,(Canis_lupus_familiaris_ott247333,Canis_lupus_arctos_ott5340002)Canis_lupus_ott247341))Caniformia_ott827263,((Felis_catus_ott563166,Lynx_rufus_ott507545),((Panthera_leo_ott563151,Panthera_pardus_ott42324),Panthera_tigris_ott42314)Panthera_ott563154)Felidae_ott563159)Carnivora_ott44565,(((((((Balaenoptera_musculus_ott226190,Megaptera_novaeangliae_ott226198)Balaenopteridae_ott800326,(Tursiops_truncatus_ott124230,Orcinus_orca_ott124215)Delphinidae_ott698406)Cetacea_ott698424,Hippopotamus_amphibius_ott510762),(((Eudorcas_thomsonii_ott702522,(Bison_bison_ott907693,Bos_taurus_ott490099)Bovinae_ott346071,Ovis_aries_ott70819)Bovidae_ott768677,(Odocoileus_virginianus_ott410145,Alces_alces_ott460509)Odocoileinae_ott194507),Giraffa_camelopardalis_ott768674)Pecora_ott403912),Sus_scrofa_domesticus_ott729998),((Equus_caballus_ott1068218,Equus_burchellii_quagga_ott124776)Equus_ott541951,Rhinocerotidae_ott1034218)Perissodactyla_ott541948),Lasiurus_blossevillii_ott362948)),Talpidae_ott222358)Laurasiatheria_ott392223,((((((Rattus_rattus_ott271571,Mus_musculus_ott542509),Mesocricetus_ott391624),Castor_canadensis_ott886085),Sciuridae_ott384218)Rodentia_ott864593,Oryctolagus_ott864605)Glires_ott392220,((Gorilla_gorilla_ott417965,Pan_ott417957)Homininae_ott312031,Ateles_ott791703)Simiiformes_ott386195)Euarchontoglires_ott392222)Boreoeutheria_ott5334778,Loxodonta_africana_ott541936)Eutheria_ott683263;\n"
     ]
    }
   ],
   "source": [
    "newick_subtree = otl_request('/tree_of_life/induced_subtree', ott_ids = ott_ids.values())['newick']\n",
    "print newick_subtree"
   ]
  },
  {
   "cell_type": "code",
   "execution_count": 12,
   "metadata": {
    "collapsed": true
   },
   "outputs": [],
   "source": [
    "import re"
   ]
  },
  {
   "cell_type": "code",
   "execution_count": 14,
   "metadata": {
    "collapsed": true
   },
   "outputs": [],
   "source": [
    "import context"
   ]
  },
  {
   "cell_type": "code",
   "execution_count": 15,
   "metadata": {
    "collapsed": false
   },
   "outputs": [],
   "source": [
    "from hier_clust import linkage_util\n",
    "from hier_clust.tree_util import Tree"
   ]
  },
  {
   "cell_type": "code",
   "execution_count": 16,
   "metadata": {
    "collapsed": true
   },
   "outputs": [],
   "source": [
    "def parse_newick(newick):\n",
    "    result = parse_newick_helper(newick)\n",
    "    if len(result) == 0:\n",
    "        return result\n",
    "    elif len(result) == 1:\n",
    "        return result[0]\n",
    "    else:\n",
    "        raise Exception(\"Found multiple top-level trees\")\n",
    "\n",
    "def parse_newick_helper(newick):\n",
    "    #print \"DEBUG: {}\".format(newick)\n",
    "    children = []\n",
    "    current_str = ''\n",
    "    nesting = 0\n",
    "    for char in newick:\n",
    "        if char == '(':\n",
    "            nesting += 1\n",
    "            current_str += char\n",
    "        elif char == ')':\n",
    "            nesting -= 1\n",
    "            current_str += char\n",
    "        elif char == ',' and nesting == 0:\n",
    "            children.append(current_str)\n",
    "            current_str = ''\n",
    "        else:\n",
    "            current_str += char\n",
    "    if current_str != '':\n",
    "        children.append(current_str)\n",
    "    if len(children) == 1:\n",
    "        if not children[0].startswith('('):\n",
    "            m = re.match(r'.*_ott(.*)', children[0])\n",
    "            if m:\n",
    "                ott_id = int(m.group(1))\n",
    "                if ott_id in names_by_ott_id:\n",
    "                    names = names_by_ott_id[ott_id]\n",
    "                    subtrees = []\n",
    "                    for name in names:\n",
    "                        index = animals.index(name)\n",
    "                        subtrees.append(Tree.leaf(dict(name = name, orig_indices=[index])))\n",
    "                    return subtrees\n",
    "            return [Tree.leaf(dict(name = children[0], orig_indices = []))]\n",
    "        return [nester(children[0])]\n",
    "    else:\n",
    "        result = []\n",
    "        for child in children:\n",
    "            result.extend(parse_newick_helper(child))\n",
    "        return result \n",
    "\n",
    "def combine_results(node_name, results):\n",
    "    if len(results) <= 2:\n",
    "        orig_indices = []\n",
    "        for t in results:\n",
    "            orig_indices += t.data[\"orig_indices\"]\n",
    "        orig_indices = list(set(orig_indices))\n",
    "        return Tree(data = dict(name = node_name, orig_indices = orig_indices), children = results)\n",
    "    else:\n",
    "        first_combined = combine_results(node_name, results[:2])\n",
    "        return combine_results(node_name + \"*\", [first_combined] + results[2:])\n",
    "\n",
    "def nester(newick):\n",
    "    m = re.search(r'\\)(\\w*);?$', newick)\n",
    "    assert bool(m)\n",
    "    node_name = m.group(1)\n",
    "    if node_name == '':\n",
    "        node_name = 'UNNAMED'\n",
    "    pos = m.start()\n",
    "    substr = newick[1:pos]\n",
    "    child_results = parse_newick_helper(substr)\n",
    "    return combine_results(node_name, child_results)"
   ]
  },
  {
   "cell_type": "code",
   "execution_count": 17,
   "metadata": {
    "collapsed": true
   },
   "outputs": [],
   "source": [
    "def induced_subtree(names, ax = None):\n",
    "    ids = [ott_ids[sci_names[name]] for name in names]\n",
    "    newick = otl_request('/tree_of_life/induced_subtree', ott_ids = ids)['newick']\n",
    "    tree = parse_newick(newick)\n",
    "    if ax is not None:\n",
    "        linkage = linkage_util.get_linkage(tree)\n",
    "        dendrogram(linkage, color_threshold = 0, orientation = 'left', ax = ax)\n",
    "    return tree"
   ]
  },
  {
   "cell_type": "code",
   "execution_count": 18,
   "metadata": {
    "collapsed": false
   },
   "outputs": [
    {
     "data": {
      "text/plain": [
       "{u'newick': u'(Canis_lupus_familiaris_ott247333,Vulpes_vulpes_ott821964);',\n",
       " u'supporting_studies': [u'ot_278']}"
      ]
     },
     "execution_count": 18,
     "metadata": {},
     "output_type": "execute_result"
    }
   ],
   "source": [
    "temp_names = ['fox', 'dalmatian']\n",
    "otl_request('/tree_of_life/induced_subtree', ott_ids = [ott_ids[sci_names[name]] for name in temp_names])"
   ]
  },
  {
   "cell_type": "code",
   "execution_count": 19,
   "metadata": {
    "collapsed": false
   },
   "outputs": [
    {
     "name": "stdout",
     "output_type": "stream",
     "text": [
      "Tree(data = {'orig_indices': [32, 21, 4, 45, 7], 'name': 'UNNAMED***'}, children = [\n",
      "  Tree(data = {'orig_indices': [32, 4, 45, 7], 'name': 'UNNAMED**'}, children = [\n",
      "    Tree(data = {'orig_indices': [32, 4, 45], 'name': 'UNNAMED*'}, children = [\n",
      "      Tree(data = {'orig_indices': [32, 45], 'name': 'UNNAMED'}, children = [\n",
      "        Tree(data = {'orig_indices': [32], 'name': 'chihuahua'}, children = [])\n",
      "        Tree(data = {'orig_indices': [45], 'name': 'collie'}, children = [])\n",
      "      ])\n",
      "      Tree(data = {'orig_indices': [4], 'name': 'dalmatian'}, children = [])\n",
      "    ])\n",
      "    Tree(data = {'orig_indices': [7], 'name': 'german shepherd'}, children = [])\n",
      "  ])\n",
      "  Tree(data = {'orig_indices': [21], 'name': 'fox'}, children = [])\n",
      "])\n"
     ]
    }
   ],
   "source": [
    "print induced_subtree(['fox', 'dalmatian']).str_display()"
   ]
  },
  {
   "cell_type": "code",
   "execution_count": 20,
   "metadata": {
    "collapsed": false
   },
   "outputs": [
    {
     "name": "stdout",
     "output_type": "stream",
     "text": [
      "Tree(data = Eutheria_ott683263, children = [\n",
      "  Tree(data = Boreoeutheria_ott5334778, children = [\n",
      "    Tree(data = Laurasiatheria_ott392223, children = [\n",
      "      Tree(data = UNNAMED, children = [\n",
      "        Tree(data = Carnivora_ott44565, children = [\n",
      "          Tree(data = Caniformia_ott827263, children = [\n",
      "            Tree(data = UNNAMED, children = [\n",
      "              Tree(data = UNNAMED, children = [\n",
      "                Tree(data = skunk, children = [])\n",
      "                Tree(data = UNNAMED, children = [\n",
      "                  Tree(data = raccoon, children = [])\n",
      "                  Tree(data = UNNAMED, children = [\n",
      "                    Tree(data = otter, children = [])\n",
      "                    Tree(data = weasel, children = [])\n",
      "                  ])\n",
      "                ])\n",
      "              ])\n",
      "              Tree(data = UNNAMED, children = [\n",
      "                Tree(data = Ursidae_ott297458, children = [\n",
      "                  Tree(data = giant panda, children = [])\n",
      "                  Tree(data = UNNAMED, children = [\n",
      "                    Tree(data = polar bear, children = [])\n",
      "                    Tree(data = grizzly bear, children = [])\n",
      "                  ])\n",
      "                ])\n",
      "                Tree(data = UNNAMED, children = [\n",
      "                  Tree(data = walrus, children = [])\n",
      "                  Tree(data = seal, children = [])\n",
      "                ])\n",
      "              ])\n",
      "            ])\n",
      "            Tree(data = UNNAMED, children = [\n",
      "              Tree(data = fox, children = [])\n",
      "              Tree(data = Canis_lupus_ott247341***, children = [\n",
      "                Tree(data = Canis_lupus_ott247341**, children = [\n",
      "                  Tree(data = Canis_lupus_ott247341*, children = [\n",
      "                    Tree(data = Canis_lupus_ott247341, children = [\n",
      "                      Tree(data = chihuahua, children = [])\n",
      "                      Tree(data = collie, children = [])\n",
      "                    ])\n",
      "                    Tree(data = dalmatian, children = [])\n",
      "                  ])\n",
      "                  Tree(data = german shepherd, children = [])\n",
      "                ])\n",
      "                Tree(data = wolf, children = [])\n",
      "              ])\n",
      "            ])\n",
      "          ])\n",
      "          Tree(data = Felidae_ott563159, children = [\n",
      "            Tree(data = UNNAMED*, children = [\n",
      "              Tree(data = UNNAMED, children = [\n",
      "                Tree(data = persian cat, children = [])\n",
      "                Tree(data = siamese cat, children = [])\n",
      "              ])\n",
      "              Tree(data = bobcat, children = [])\n",
      "            ])\n",
      "            Tree(data = Panthera_ott563154, children = [\n",
      "              Tree(data = UNNAMED, children = [\n",
      "                Tree(data = lion, children = [])\n",
      "                Tree(data = leopard, children = [])\n",
      "              ])\n",
      "              Tree(data = tiger, children = [])\n",
      "            ])\n",
      "          ])\n",
      "        ])\n",
      "        Tree(data = UNNAMED, children = [\n",
      "          Tree(data = UNNAMED, children = [\n",
      "            Tree(data = UNNAMED, children = [\n",
      "              Tree(data = UNNAMED, children = [\n",
      "                Tree(data = UNNAMED, children = [\n",
      "                  Tree(data = Cetacea_ott698424, children = [\n",
      "                    Tree(data = Balaenopteridae_ott800326, children = [\n",
      "                      Tree(data = blue whale, children = [])\n",
      "                      Tree(data = humpback whale, children = [])\n",
      "                    ])\n",
      "                    Tree(data = Delphinidae_ott698406, children = [\n",
      "                      Tree(data = dolphin, children = [])\n",
      "                      Tree(data = killer whale, children = [])\n",
      "                    ])\n",
      "                  ])\n",
      "                  Tree(data = hippopotamus, children = [])\n",
      "                ])\n",
      "                Tree(data = Pecora_ott403912, children = [\n",
      "                  Tree(data = UNNAMED, children = [\n",
      "                    Tree(data = Bovidae_ott768677*, children = [\n",
      "                      Tree(data = Bovidae_ott768677, children = [\n",
      "                        Tree(data = antelope, children = [])\n",
      "                        Tree(data = Bovinae_ott346071*, children = [\n",
      "                          Tree(data = Bovinae_ott346071, children = [\n",
      "                            Tree(data = buffalo, children = [])\n",
      "                            Tree(data = cow, children = [])\n",
      "                          ])\n",
      "                          Tree(data = ox, children = [])\n",
      "                        ])\n",
      "                      ])\n",
      "                      Tree(data = sheep, children = [])\n",
      "                    ])\n",
      "                    Tree(data = Odocoileinae_ott194507, children = [\n",
      "                      Tree(data = deer, children = [])\n",
      "                      Tree(data = moose, children = [])\n",
      "                    ])\n",
      "                  ])\n",
      "                  Tree(data = giraffe, children = [])\n",
      "                ])\n",
      "              ])\n",
      "              Tree(data = pig, children = [])\n",
      "            ])\n",
      "            Tree(data = Perissodactyla_ott541948, children = [\n",
      "              Tree(data = Equus_ott541951, children = [\n",
      "                Tree(data = horse, children = [])\n",
      "                Tree(data = zebra, children = [])\n",
      "              ])\n",
      "              Tree(data = rhinoceros, children = [])\n",
      "            ])\n",
      "          ])\n",
      "          Tree(data = bat, children = [])\n",
      "        ])\n",
      "      ])\n",
      "      Tree(data = mole, children = [])\n",
      "    ])\n",
      "    Tree(data = Euarchontoglires_ott392222, children = [\n",
      "      Tree(data = Glires_ott392220, children = [\n",
      "        Tree(data = Rodentia_ott864593, children = [\n",
      "          Tree(data = UNNAMED, children = [\n",
      "            Tree(data = UNNAMED, children = [\n",
      "              Tree(data = UNNAMED, children = [\n",
      "                Tree(data = rat, children = [])\n",
      "                Tree(data = mouse, children = [])\n",
      "              ])\n",
      "              Tree(data = hamster, children = [])\n",
      "            ])\n",
      "            Tree(data = beaver, children = [])\n",
      "          ])\n",
      "          Tree(data = squirrel, children = [])\n",
      "        ])\n",
      "        Tree(data = rabbit, children = [])\n",
      "      ])\n",
      "      Tree(data = Simiiformes_ott386195, children = [\n",
      "        Tree(data = Homininae_ott312031, children = [\n",
      "          Tree(data = gorilla, children = [])\n",
      "          Tree(data = chimpanzee, children = [])\n",
      "        ])\n",
      "        Tree(data = spider monkey, children = [])\n",
      "      ])\n",
      "    ])\n",
      "  ])\n",
      "  Tree(data = elephant, children = [])\n",
      "])\n"
     ]
    }
   ],
   "source": [
    "tree = parse_newick(newick_subtree)\n",
    "print tree.map_data(lambda x: x['name']).str_display()\n",
    "#print tree.str_display()"
   ]
  },
  {
   "cell_type": "code",
   "execution_count": 21,
   "metadata": {
    "collapsed": false
   },
   "outputs": [],
   "source": [
    "linkage = linkage_util.get_linkage(tree)"
   ]
  },
  {
   "cell_type": "code",
   "execution_count": 22,
   "metadata": {
    "collapsed": false
   },
   "outputs": [
    {
     "data": {
      "image/png": "[encoded data removed]",
      "text/plain": [
       "<matplotlib.figure.Figure at 0x1125f17d0>"
      ]
     },
     "metadata": {},
     "output_type": "display_data"
    }
   ],
   "source": [
    "from scipy.cluster.hierarchy import dendrogram\n",
    "plt.figure()\n",
    "plt.gcf().set_size_inches(7, 7, forward=True)\n",
    "_ = dendrogram(linkage, labels = animals, orientation = 'left', color_threshold = 0)"
   ]
  },
  {
   "cell_type": "code",
   "execution_count": null,
   "metadata": {
    "collapsed": true
   },
   "outputs": [],
   "source": []
  }
 ],
 "metadata": {
  "kernelspec": {
   "display_name": "Python 2",
   "language": "python",
   "name": "python2"
  },
  "language_info": {
   "codemirror_mode": {
    "name": "ipython",
    "version": 2
   },
   "file_extension": ".py",
   "mimetype": "text/x-python",
   "name": "python",
   "nbconvert_exporter": "python",
   "pygments_lexer": "ipython2",
   "version": "2.7.10"
  }
 },
 "nbformat": 4,
 "nbformat_minor": 1
}
