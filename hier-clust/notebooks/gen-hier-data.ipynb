{
 "cells": [
  {
   "cell_type": "code",
   "execution_count": 1,
   "metadata": {
    "collapsed": false
   },
   "outputs": [
    {
     "name": "stderr",
     "output_type": "stream",
     "text": [
      "/usr/local/lib/python2.7/site-packages/matplotlib/font_manager.py:273: UserWarning: Matplotlib is building the font cache using fc-list. This may take a moment.\n",
      "  warnings.warn('Matplotlib is building the font cache using fc-list. This may take a moment.')\n"
     ]
    }
   ],
   "source": [
    "import numpy as np\n",
    "import matplotlib.pyplot as plt\n",
    "import matplotlib.collections as mc\n",
    "import pandas as pd\n",
    "%matplotlib inline"
   ]
  },
  {
   "cell_type": "code",
   "execution_count": 2,
   "metadata": {
    "collapsed": true
   },
   "outputs": [],
   "source": [
    "import scipy.cluster.hierarchy as sch"
   ]
  },
  {
   "cell_type": "code",
   "execution_count": 3,
   "metadata": {
    "collapsed": false
   },
   "outputs": [],
   "source": [
    "import context\n",
    "from hier_clust import linkage_util, HierClust\n",
    "from hier_clust.tree_util import Tree"
   ]
  },
  {
   "cell_type": "code",
   "execution_count": 4,
   "metadata": {
    "collapsed": false
   },
   "outputs": [],
   "source": [
    "def gen_data(depth, n_dim, depth_labels = None):\n",
    "    def helper(depth, sigma, offset, path):\n",
    "        if depth == 0:\n",
    "            x = np.random.normal(offset, sigma, offset.shape)\n",
    "            y = 0\n",
    "            if depth_labels is not None:\n",
    "                path = path[:depth_labels]\n",
    "            for digit in path:\n",
    "                y *= 2\n",
    "                y += digit\n",
    "            return x, np.array([y])\n",
    "\n",
    "        direction = np.random.normal(0, 1, offset.shape)\n",
    "        direction /= np.linalg.norm(direction)\n",
    "\n",
    "        x1, y1 = helper(depth - 1, sigma = sigma / 2.0, offset = offset + direction * sigma, path = path + [0])\n",
    "        x2, y2 = helper(depth - 1, sigma = sigma / 2.0, offset = offset - direction * sigma, path = path + [1])\n",
    "        \n",
    "        return np.vstack([x1, x2]), np.concatenate([y1, y2])\n",
    "\n",
    "    origin = np.zeros((n_dim,))\n",
    "    return helper(depth, sigma = 1.0, offset = origin, path = [])"
   ]
  },
  {
   "cell_type": "code",
   "execution_count": 5,
   "metadata": {
    "collapsed": false
   },
   "outputs": [],
   "source": [
    "def plot_tree_overlay(data, tree, max_depth, dims = None, ax = None):\n",
    "    if dims is None:\n",
    "        dims = [0, 1]\n",
    "    if ax is None:\n",
    "        fig, ax = plt.subplots()\n",
    "\n",
    "    def annotate(tree):\n",
    "        indices = tree.data[\"orig_indices\"]\n",
    "        tree.data[\"mean\"] = np.mean(data[indices], axis=0)\n",
    "        for c in tree.children:\n",
    "            annotate(c)\n",
    "\n",
    "    def get_lines(tree):\n",
    "        start = tree.data[\"mean\"][dims]\n",
    "        lines = []\n",
    "        for c in tree.children:\n",
    "            end = c.data[\"mean\"][dims]\n",
    "            lines.append([start, end])\n",
    "            lines.extend(get_lines(c))\n",
    "        return lines\n",
    "\n",
    "    tree = tree.prune(max_depth)\n",
    "    annotate(tree)\n",
    "    lines = mc.LineCollection(get_lines(tree))\n",
    "    ax.add_collection(lines)"
   ]
  },
  {
   "cell_type": "code",
   "execution_count": 6,
   "metadata": {
    "collapsed": true
   },
   "outputs": [],
   "source": [
    "np.random.seed(1)"
   ]
  },
  {
   "cell_type": "code",
   "execution_count": 7,
   "metadata": {
    "collapsed": true
   },
   "outputs": [],
   "source": [
    "depth = 10\n",
    "n_obs = 2 ** depth\n",
    "n_dim = 10"
   ]
  },
  {
   "cell_type": "code",
   "execution_count": 8,
   "metadata": {
    "collapsed": false
   },
   "outputs": [],
   "source": [
    "x, y = gen_data(depth = depth, n_dim = n_dim, depth_labels = 3)"
   ]
  },
  {
   "cell_type": "code",
   "execution_count": 9,
   "metadata": {
    "collapsed": true
   },
   "outputs": [],
   "source": [
    "indices = np.arange(n_obs)\n",
    "np.random.shuffle(indices)\n",
    "x = x[indices]\n",
    "y = y[indices]"
   ]
  },
  {
   "cell_type": "code",
   "execution_count": 10,
   "metadata": {
    "collapsed": false
   },
   "outputs": [
    {
     "name": "stdout",
     "output_type": "stream",
     "text": [
      "(1024, 10)\n",
      "(1024,)\n"
     ]
    }
   ],
   "source": [
    "print(x.shape)\n",
    "print(y.shape)"
   ]
  },
  {
   "cell_type": "code",
   "execution_count": 11,
   "metadata": {
    "collapsed": false,
    "scrolled": true
   },
   "outputs": [],
   "source": [
    "# fig, ax = plt.subplots()\n",
    "# for yi in np.unique(y):\n",
    "#     ax.plot(x[y == yi, 0], x[y == yi, 1], '.')\n",
    "#\n",
    "# None"
   ]
  },
  {
   "cell_type": "code",
   "execution_count": 12,
   "metadata": {
    "collapsed": false
   },
   "outputs": [],
   "source": [
    "# %%time\n",
    "# # Use this for \"with downsampling\" tests\n",
    "# hc = HierClust(n_neighbors=200)\n",
    "# t, _ = hc.fit(x)"
   ]
  },
  {
   "cell_type": "code",
   "execution_count": 13,
   "metadata": {
    "collapsed": false
   },
   "outputs": [
    {
     "name": "stdout",
     "output_type": "stream",
     "text": [
      "CPU times: user 6.14 s, sys: 146 ms, total: 6.28 s\n",
      "Wall time: 6.32 s\n"
     ]
    }
   ],
   "source": [
    "%%time\n",
    "# No downsampling, ball tree\n",
    "hc = HierClust(n_neighbors=200, neighbor_graph_strategy='balltree')\n",
    "t, _ = hc.fit(x)"
   ]
  },
  {
   "cell_type": "code",
   "execution_count": 14,
   "metadata": {
    "collapsed": false
   },
   "outputs": [],
   "source": [
    "# %%time\n",
    "# # No downsampling, RP tree\n",
    "# hc = HierClust(n_neighbors=200, neighbor_graph_strategy='rptree')\n",
    "# t, _ = hc.fit(x)"
   ]
  },
  {
   "cell_type": "code",
   "execution_count": 15,
   "metadata": {
    "collapsed": false
   },
   "outputs": [],
   "source": [
    "# %%time\n",
    "# # Bottom-up clustering\n",
    "# link = sch.linkage(x, method='complete')"
   ]
  },
  {
   "cell_type": "code",
   "execution_count": 16,
   "metadata": {
    "collapsed": true
   },
   "outputs": [],
   "source": [
    "# t = linkage_util.linkage_to_tree(link)"
   ]
  },
  {
   "cell_type": "code",
   "execution_count": 17,
   "metadata": {
    "collapsed": false
   },
   "outputs": [
    {
     "data": {
      "image/png": "[encoded data removed]",
      "text/plain": [
       "<matplotlib.figure.Figure at 0x10e18f810>"
      ]
     },
     "metadata": {},
     "output_type": "display_data"
    }
   ],
   "source": [
    "fig, ax = plt.subplots()\n",
    "for yi in np.unique(y):\n",
    "    ax.plot(x[y == yi, 0], x[y == yi, 1], '.')\n",
    "plot_tree_overlay(data = x, tree = t, max_depth = 10, ax = ax)\n",
    "\n",
    "None"
   ]
  },
  {
   "cell_type": "code",
   "execution_count": 18,
   "metadata": {
    "collapsed": true
   },
   "outputs": [],
   "source": [
    "plt.close()"
   ]
  },
  {
   "cell_type": "code",
   "execution_count": null,
   "metadata": {
    "collapsed": true
   },
   "outputs": [],
   "source": []
  }
 ],
 "metadata": {
  "kernelspec": {
   "display_name": "Python 2",
   "language": "python",
   "name": "python2"
  },
  "language_info": {
   "codemirror_mode": {
    "name": "ipython",
    "version": 2
   },
   "file_extension": ".py",
   "mimetype": "text/x-python",
   "name": "python",
   "nbconvert_exporter": "python",
   "pygments_lexer": "ipython2",
   "version": "2.7.10"
  }
 },
 "nbformat": 4,
 "nbformat_minor": 1
}
