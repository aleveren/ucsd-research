{
 "cells": [
  {
   "cell_type": "code",
   "execution_count": 2,
   "metadata": {
    "collapsed": false
   },
   "outputs": [],
   "source": [
    "import numpy as np\n",
    "import matplotlib.pyplot as plt\n",
    "import pandas as pd\n",
    "%matplotlib inline"
   ]
  },
  {
   "cell_type": "code",
   "execution_count": 3,
   "metadata": {
    "collapsed": true
   },
   "outputs": [],
   "source": [
    "import scipy.cluster.hierarchy as sch\n",
    "from scipy.sparse import dia_matrix"
   ]
  },
  {
   "cell_type": "code",
   "execution_count": 4,
   "metadata": {
    "collapsed": false
   },
   "outputs": [],
   "source": [
    "from IPython.display import display, HTML"
   ]
  },
  {
   "cell_type": "code",
   "execution_count": 5,
   "metadata": {
    "collapsed": false
   },
   "outputs": [],
   "source": [
    "import context\n",
    "from hier_clust import linkage_util, HierClust\n",
    "from hier_clust.tree_util import Tree"
   ]
  },
  {
   "cell_type": "code",
   "execution_count": 6,
   "metadata": {
    "collapsed": true
   },
   "outputs": [],
   "source": [
    "from gen_data_util import gen_data, plot_tree_overlay\n",
    "from time_util import TimingRegistry"
   ]
  },
  {
   "cell_type": "code",
   "execution_count": 12,
   "metadata": {
    "collapsed": false
   },
   "outputs": [],
   "source": [
    "def analysis(depth, k = None, seed = None, run_top_down = True, run_bottom_up = True):\n",
    "    reg = TimingRegistry()\n",
    "\n",
    "    if seed is not None:\n",
    "        np.random.seed(seed)\n",
    "\n",
    "    n_obs = 2 ** depth\n",
    "    n_dim = 10\n",
    "\n",
    "    if k is None:\n",
    "        k = int(max(n_obs * 0.1, 2))\n",
    "    elif callable(k):\n",
    "        k = k(n_obs)\n",
    "\n",
    "    print(\"depth = {}, n_obs = {}, k = {}\".format(depth, n_obs, k))\n",
    "\n",
    "    with reg.timer(\"generate data\") as timer:\n",
    "        x, y = gen_data(depth = depth, n_dim = n_dim, depth_labels = 3)\n",
    "\n",
    "    indices = np.arange(n_obs)\n",
    "    np.random.shuffle(indices)\n",
    "    x = x[indices]\n",
    "    y = y[indices]\n",
    "\n",
    "    assert x.shape == (n_obs, n_dim)\n",
    "    assert y.shape == (n_obs,)\n",
    "\n",
    "    if run_top_down:\n",
    "        hc = HierClust(n_neighbors=k, neighbor_graph_strategy='balltree')\n",
    "\n",
    "        with reg.timer(\"distances\") as timer:\n",
    "            dist = hc._get_distances(x)\n",
    "        with reg.timer(\"connected components\") as timer:\n",
    "            components = hc._get_connected_components(dist)\n",
    "        with reg.timer(\"similarity\") as timer:\n",
    "            similarity = hc._get_similarity(dist)\n",
    "        with reg.timer(\"compute laplacian\") as timer:\n",
    "            diag = similarity.sum(axis = 0)\n",
    "            diag = dia_matrix((diag, [0]), (n_obs, n_obs)).tocsr()\n",
    "            laplacian = diag - similarity\n",
    "        with reg.timer(\"get_fiedler_vector\") as timer:\n",
    "            fiedler_vector = hc._get_fiedler_vector(laplacian)\n",
    "\n",
    "        with reg.timer(\"fit\") as timer:\n",
    "            fit_result = hc.fit(x)\n",
    "\n",
    "    if run_bottom_up:\n",
    "        with reg.timer(\"complete linkage\") as timer:\n",
    "            link = sch.linkage(x, method='complete')\n",
    "        with reg.timer(\"convert linkage to tree\") as timer:\n",
    "            t = linkage_util.linkage_to_tree(link)\n",
    "\n",
    "    cols = [\"n_obs\", \"k\"]\n",
    "    row = [n_obs, k]\n",
    "    for key, val in reg.registry.items():\n",
    "        cols.append(key)\n",
    "        row.append(val)\n",
    "    row = pd.Series(row, index = cols)\n",
    "    \n",
    "    return row"
   ]
  },
  {
   "cell_type": "code",
   "execution_count": 13,
   "metadata": {
    "collapsed": true
   },
   "outputs": [],
   "source": [
    "rows = []"
   ]
  },
  {
   "cell_type": "code",
   "execution_count": null,
   "metadata": {
    "collapsed": true
   },
   "outputs": [],
   "source": [
    "%%time\n",
    "for depth in range(7, 15 + 1):\n",
    "    row = analysis(depth = depth, k = 100, seed = 1)\n",
    "    rows.append(row)"
   ]
  },
  {
   "cell_type": "code",
   "execution_count": null,
   "metadata": {
    "collapsed": true
   },
   "outputs": [],
   "source": [
    "row = analysis(depth = 16, k = 100, seed = 1, run_bottom_up = False)\n",
    "rows.append(row)"
   ]
  },
  {
   "cell_type": "code",
   "execution_count": 9,
   "metadata": {
    "collapsed": false
   },
   "outputs": [
    {
     "name": "stdout",
     "output_type": "stream",
     "text": [
      "depth = 17, n_obs = 131072, k = 100\n",
      "Elapsed time: 4.727 seconds (generate data)\n",
      "Elapsed time: 95.899 seconds (distances)\n",
      "Elapsed time: 17.192 seconds (connected components)\n",
      "Elapsed time: 4.358 seconds (similarity)\n",
      "Elapsed time: 0.177 seconds (compute laplacian)\n",
      "Elapsed time: 10.667 seconds (get_fiedler_vector)\n",
      "Elapsed time: 596.655 seconds (fit)\n"
     ]
    }
   ],
   "source": [
    "row = analysis(depth = 17, k = 100, seed = 1, run_bottom_up = False)\n",
    "rows.append(row)"
   ]
  },
  {
   "cell_type": "code",
   "execution_count": 14,
   "metadata": {
    "collapsed": false
   },
   "outputs": [
    {
     "name": "stdout",
     "output_type": "stream",
     "text": [
      "depth = 18, n_obs = 262144, k = 100\n",
      "Elapsed time: 9.434 seconds (generate data)\n",
      "Elapsed time: 207.049 seconds (distances)\n",
      "Elapsed time: 33.381 seconds (connected components)\n",
      "Elapsed time: 7.622 seconds (similarity)\n",
      "Elapsed time: 0.379 seconds (compute laplacian)\n",
      "Elapsed time: 23.806 seconds (get_fiedler_vector)\n",
      "Elapsed time: 1201.101 seconds (fit)\n"
     ]
    }
   ],
   "source": [
    "row = analysis(depth = 18, k = 100, seed = 1, run_bottom_up = False)\n",
    "rows.append(row)"
   ]
  },
  {
   "cell_type": "code",
   "execution_count": null,
   "metadata": {
    "collapsed": false
   },
   "outputs": [
    {
     "name": "stdout",
     "output_type": "stream",
     "text": [
      "depth = 16, n_obs = 65536, k = 100\n"
     ]
    }
   ],
   "source": [
    "row = analysis(depth = 16, k = 100, seed = 1, run_top_down = False)\n",
    "rows.append(row)"
   ]
  },
  {
   "cell_type": "code",
   "execution_count": 15,
   "metadata": {
    "collapsed": false
   },
   "outputs": [
    {
     "data": {
      "text/html": [
       "<table border=\"1\" class=\"dataframe\">\n",
       "  <thead>\n",
       "    <tr style=\"text-align: right;\">\n",
       "      <th>n_obs</th>\n",
       "      <th>k</th>\n",
       "      <th>generate data</th>\n",
       "      <th>distances</th>\n",
       "      <th>connected components</th>\n",
       "      <th>similarity</th>\n",
       "      <th>compute laplacian</th>\n",
       "      <th>get_fiedler_vector</th>\n",
       "      <th>fit</th>\n",
       "    </tr>\n",
       "  </thead>\n",
       "  <tbody>\n",
       "    <tr>\n",
       "      <td>262144.0</td>\n",
       "      <td>100.0</td>\n",
       "      <td>9.434421</td>\n",
       "      <td>207.049096</td>\n",
       "      <td>33.380661</td>\n",
       "      <td>7.62152</td>\n",
       "      <td>0.379359</td>\n",
       "      <td>23.806396</td>\n",
       "      <td>1201.10073</td>\n",
       "    </tr>\n",
       "  </tbody>\n",
       "</table>"
      ],
      "text/plain": [
       "<IPython.core.display.HTML object>"
      ]
     },
     "metadata": {},
     "output_type": "display_data"
    }
   ],
   "source": [
    "summary = pd.DataFrame.from_records(rows)\n",
    "summary = summary.loc[:, rows[0].index]\n",
    "display(HTML(summary.to_html(index = False)))"
   ]
  },
  {
   "cell_type": "code",
   "execution_count": 17,
   "metadata": {
    "collapsed": true
   },
   "outputs": [],
   "source": [
    "summary = pd.read_csv('/Users/aleverentz/Desktop/temp_stats_for_plotting.csv')"
   ]
  },
  {
   "cell_type": "code",
   "execution_count": 22,
   "metadata": {
    "collapsed": false
   },
   "outputs": [
    {
     "data": {
      "image/png": "[encoded data removed]",
      "text/plain": [
       "<matplotlib.figure.Figure at 0x1322dadd0>"
      ]
     },
     "metadata": {},
     "output_type": "display_data"
    }
   ],
   "source": [
    "fig, ax = plt.subplots()\n",
    "ax.loglog(summary[\"n_obs\"], summary[\"fit\"], label = \"top down\", marker='.')\n",
    "ax.loglog(summary[\"n_obs\"], summary[\"complete linkage\"], label = \"bottom up\", marker='.')\n",
    "\n",
    "ax.set_ylabel('Runtime (seconds)')\n",
    "ax.set_xlabel('Dataset size (with k = constant)')\n",
    "ax.legend(loc='best')\n",
    "\n",
    "None"
   ]
  },
  {
   "cell_type": "code",
   "execution_count": null,
   "metadata": {
    "collapsed": false
   },
   "outputs": [],
   "source": [
    "# fig, ax = plt.subplots()\n",
    "# for yi in np.unique(y):\n",
    "#     ax.plot(x[y == yi, 0], x[y == yi, 1], '.')\n",
    "# plot_tree_overlay(data = x, tree = fit_result[0], max_depth = 10, ax = ax)\n",
    "\n",
    "# None"
   ]
  },
  {
   "cell_type": "markdown",
   "metadata": {},
   "source": [
    "##### Cleanup"
   ]
  },
  {
   "cell_type": "code",
   "execution_count": null,
   "metadata": {
    "collapsed": true
   },
   "outputs": [],
   "source": [
    "plt.close()"
   ]
  }
 ],
 "metadata": {
  "kernelspec": {
   "display_name": "Python 2",
   "language": "python",
   "name": "python2"
  },
  "language_info": {
   "codemirror_mode": {
    "name": "ipython",
    "version": 2
   },
   "file_extension": ".py",
   "mimetype": "text/x-python",
   "name": "python",
   "nbconvert_exporter": "python",
   "pygments_lexer": "ipython2",
   "version": "2.7.10"
  }
 },
 "nbformat": 4,
 "nbformat_minor": 1
}
