{
 "cells": [
  {
   "cell_type": "code",
   "execution_count": 1,
   "metadata": {
    "collapsed": false
   },
   "outputs": [],
   "source": [
    "import numpy as np\n",
    "import matplotlib.pyplot as plt\n",
    "import pandas as pd\n",
    "%matplotlib inline"
   ]
  },
  {
   "cell_type": "code",
   "execution_count": 2,
   "metadata": {
    "collapsed": true
   },
   "outputs": [],
   "source": [
    "import scipy.cluster.hierarchy as sch"
   ]
  },
  {
   "cell_type": "code",
   "execution_count": 3,
   "metadata": {
    "collapsed": false
   },
   "outputs": [],
   "source": [
    "import context\n",
    "from hier_clust import linkage_util, HierClust\n",
    "from hier_clust.tree_util import Tree"
   ]
  },
  {
   "cell_type": "code",
   "execution_count": 4,
   "metadata": {
    "collapsed": true
   },
   "outputs": [],
   "source": [
    "from gen_data_util import gen_data, plot_tree_overlay"
   ]
  },
  {
   "cell_type": "code",
   "execution_count": 5,
   "metadata": {
    "collapsed": true
   },
   "outputs": [],
   "source": [
    "np.random.seed(1)"
   ]
  },
  {
   "cell_type": "code",
   "execution_count": 6,
   "metadata": {
    "collapsed": true
   },
   "outputs": [],
   "source": [
    "depth = 16\n",
    "n_obs = 2 ** depth\n",
    "n_dim = 10"
   ]
  },
  {
   "cell_type": "code",
   "execution_count": 7,
   "metadata": {
    "collapsed": false
   },
   "outputs": [
    {
     "name": "stdout",
     "output_type": "stream",
     "text": [
      "CPU times: user 2.29 s, sys: 13.2 ms, total: 2.31 s\n",
      "Wall time: 2.31 s\n"
     ]
    }
   ],
   "source": [
    "%%time\n",
    "x, y = gen_data(depth = depth, n_dim = n_dim, depth_labels = 3)"
   ]
  },
  {
   "cell_type": "code",
   "execution_count": 8,
   "metadata": {
    "collapsed": true
   },
   "outputs": [],
   "source": [
    "indices = np.arange(n_obs)\n",
    "np.random.shuffle(indices)\n",
    "x = x[indices]\n",
    "y = y[indices]"
   ]
  },
  {
   "cell_type": "code",
   "execution_count": 9,
   "metadata": {
    "collapsed": false,
    "scrolled": true
   },
   "outputs": [
    {
     "name": "stdout",
     "output_type": "stream",
     "text": [
      "(65536, 10)\n",
      "(65536,)\n"
     ]
    }
   ],
   "source": [
    "print(x.shape)\n",
    "print(y.shape)"
   ]
  },
  {
   "cell_type": "code",
   "execution_count": 10,
   "metadata": {
    "collapsed": false
   },
   "outputs": [],
   "source": [
    "hc = HierClust(n_neighbors=10, neighbor_graph_strategy='balltree')\n",
    "# hc = HierClust(n_neighbors=10, neighbor_graph_strategy='rptree')"
   ]
  },
  {
   "cell_type": "code",
   "execution_count": 11,
   "metadata": {
    "collapsed": false
   },
   "outputs": [],
   "source": [
    "import time_util; reload(time_util); del time_util\n",
    "from time_util import TimingRegistry"
   ]
  },
  {
   "cell_type": "code",
   "execution_count": 12,
   "metadata": {
    "collapsed": false
   },
   "outputs": [],
   "source": [
    "reg = TimingRegistry()"
   ]
  },
  {
   "cell_type": "code",
   "execution_count": null,
   "metadata": {
    "collapsed": true
   },
   "outputs": [],
   "source": [
    "from scipy.sparse import dia_matrix"
   ]
  },
  {
   "cell_type": "code",
   "execution_count": null,
   "metadata": {
    "collapsed": false,
    "scrolled": true
   },
   "outputs": [
    {
     "name": "stdout",
     "output_type": "stream",
     "text": [
      "Elapsed time: 4.083 seconds (distances)\n",
      "Elapsed time: 1.188 seconds (connected components)\n",
      "Elapsed time: 0.152 seconds (similarity)\n",
      "Elapsed time: 0.010 seconds (compute laplacian)\n",
      "Elapsed time: 0.530 seconds (get_fiedler_vector)\n",
      "Elapsed time: 178.043 seconds (fit)\n"
     ]
    }
   ],
   "source": [
    "with reg.timer(\"distances\") as timer:\n",
    "    dist = hc._get_distances(x)\n",
    "with reg.timer(\"connected components\") as timer:\n",
    "    components = hc._get_connected_components(dist)\n",
    "with reg.timer(\"similarity\") as timer:\n",
    "    similarity = hc._get_similarity(dist)\n",
    "with reg.timer(\"compute laplacian\") as timer:\n",
    "    diag = similarity.sum(axis = 0)\n",
    "    diag = dia_matrix((diag, [0]), (n_obs, n_obs)).tocsr()\n",
    "    laplacian = diag - similarity\n",
    "with reg.timer(\"get_fiedler_vector\") as timer:\n",
    "    fiedler_vector = hc._get_fiedler_vector(laplacian)\n",
    "\n",
    "with reg.timer(\"fit\") as timer:\n",
    "    fit_result = hc.fit(x)\n",
    "\n",
    "with reg.timer(\"complete linkage\") as timer:\n",
    "    link = sch.linkage(x, method='complete')\n",
    "with reg.timer(\"convert linkage to tree\") as timer:\n",
    "    t = linkage_util.linkage_to_tree(link)"
   ]
  },
  {
   "cell_type": "code",
   "execution_count": null,
   "metadata": {
    "collapsed": false
   },
   "outputs": [],
   "source": [
    "print(\"n_obs\\t\" + \"\\t\".join(reg.registry.keys()))"
   ]
  },
  {
   "cell_type": "code",
   "execution_count": null,
   "metadata": {
    "collapsed": false
   },
   "outputs": [],
   "source": [
    "print(str(n_obs) + \"\\t\" + \"\\t\".join(map(lambda x: str(x * 1000), reg.registry.values())))"
   ]
  },
  {
   "cell_type": "markdown",
   "metadata": {},
   "source": [
    "##### Cleanup"
   ]
  },
  {
   "cell_type": "code",
   "execution_count": null,
   "metadata": {
    "collapsed": true
   },
   "outputs": [],
   "source": [
    "plt.close()"
   ]
  }
 ],
 "metadata": {
  "kernelspec": {
   "display_name": "Python 2",
   "language": "python",
   "name": "python2"
  },
  "language_info": {
   "codemirror_mode": {
    "name": "ipython",
    "version": 2
   },
   "file_extension": ".py",
   "mimetype": "text/x-python",
   "name": "python",
   "nbconvert_exporter": "python",
   "pygments_lexer": "ipython2",
   "version": "2.7.10"
  }
 },
 "nbformat": 4,
 "nbformat_minor": 1
}
