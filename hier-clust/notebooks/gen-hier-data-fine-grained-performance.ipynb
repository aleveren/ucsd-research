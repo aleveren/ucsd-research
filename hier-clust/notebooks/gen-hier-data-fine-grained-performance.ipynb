{
 "cells": [
  {
   "cell_type": "code",
   "execution_count": 1,
   "metadata": {
    "collapsed": false
   },
   "outputs": [],
   "source": [
    "import numpy as np\n",
    "import matplotlib.pyplot as plt\n",
    "import pandas as pd\n",
    "%matplotlib inline"
   ]
  },
  {
   "cell_type": "code",
   "execution_count": 2,
   "metadata": {
    "collapsed": true
   },
   "outputs": [],
   "source": [
    "import scipy.cluster.hierarchy as sch\n",
    "from scipy.sparse import dia_matrix\n",
    "from scipy.optimize import curve_fit"
   ]
  },
  {
   "cell_type": "code",
   "execution_count": 3,
   "metadata": {
    "collapsed": false
   },
   "outputs": [],
   "source": [
    "from IPython.display import display, HTML"
   ]
  },
  {
   "cell_type": "code",
   "execution_count": 4,
   "metadata": {
    "collapsed": false
   },
   "outputs": [],
   "source": [
    "import context\n",
    "from hier_clust import linkage_util, HierClust\n",
    "from hier_clust.tree_util import Tree"
   ]
  },
  {
   "cell_type": "code",
   "execution_count": 5,
   "metadata": {
    "collapsed": true
   },
   "outputs": [],
   "source": [
    "from gen_data_util import gen_data, plot_tree_overlay\n",
    "from time_util import TimingRegistry"
   ]
  },
  {
   "cell_type": "code",
   "execution_count": 6,
   "metadata": {
    "collapsed": false
   },
   "outputs": [],
   "source": [
    "import logging\n",
    "logging.basicConfig(level = logging.INFO)"
   ]
  },
  {
   "cell_type": "code",
   "execution_count": 7,
   "metadata": {
    "collapsed": false
   },
   "outputs": [],
   "source": [
    "def analysis(depth, k = None, seed = None, run_top_down = True, run_bottom_up = True):\n",
    "    reg = TimingRegistry()\n",
    "\n",
    "    if seed is not None:\n",
    "        np.random.seed(seed)\n",
    "\n",
    "    n_obs = 2 ** depth\n",
    "    n_dim = 10\n",
    "\n",
    "    if k is None:\n",
    "        k = int(max(n_obs * 0.1, 2))\n",
    "    elif callable(k):\n",
    "        k = k(n_obs)\n",
    "\n",
    "    print(\"depth = {}, n_obs = {}, k = {}\".format(depth, n_obs, k))\n",
    "\n",
    "    with reg.timer(\"generate data\") as timer:\n",
    "        x, y = gen_data(depth = depth, n_dim = n_dim, depth_labels = 3)\n",
    "\n",
    "    indices = np.arange(n_obs)\n",
    "    np.random.shuffle(indices)\n",
    "    x = x[indices]\n",
    "    y = y[indices]\n",
    "\n",
    "    assert x.shape == (n_obs, n_dim)\n",
    "    assert y.shape == (n_obs,)\n",
    "\n",
    "    if run_top_down:\n",
    "        hc = HierClust(n_neighbors=k, neighbor_graph_strategy='balltree')\n",
    "\n",
    "        with reg.timer(\"distances\") as timer:\n",
    "            dist = hc._get_distances(x)\n",
    "        with reg.timer(\"connected components\") as timer:\n",
    "            components = hc._get_connected_components(dist)\n",
    "        with reg.timer(\"similarity\") as timer:\n",
    "            similarity = hc._get_similarity(dist)\n",
    "        with reg.timer(\"compute laplacian\") as timer:\n",
    "            diag = similarity.sum(axis = 0)\n",
    "            diag = dia_matrix((diag, [0]), (n_obs, n_obs)).tocsr()\n",
    "            laplacian = diag - similarity\n",
    "        with reg.timer(\"get_fiedler_vector\") as timer:\n",
    "            fiedler_vector = hc._get_fiedler_vector(laplacian)\n",
    "\n",
    "        with reg.timer(\"fit\") as timer:\n",
    "            fit_result = hc.fit(x)\n",
    "\n",
    "    if run_bottom_up:\n",
    "        with reg.timer(\"complete linkage\") as timer:\n",
    "            link = sch.linkage(x, method='complete')\n",
    "        with reg.timer(\"convert linkage to tree\") as timer:\n",
    "            t = linkage_util.linkage_to_tree(link)\n",
    "\n",
    "    cols = [\"n_obs\", \"k\"]\n",
    "    row = [n_obs, k]\n",
    "    for key, val in reg.registry.items():\n",
    "        cols.append(key)\n",
    "        row.append(val)\n",
    "    row = pd.Series(row, index = cols)\n",
    "    \n",
    "    return row"
   ]
  },
  {
   "cell_type": "code",
   "execution_count": 8,
   "metadata": {
    "collapsed": true
   },
   "outputs": [],
   "source": [
    "rows = []"
   ]
  },
  {
   "cell_type": "code",
   "execution_count": 9,
   "metadata": {
    "collapsed": false
   },
   "outputs": [
    {
     "name": "stdout",
     "output_type": "stream",
     "text": [
      "depth = 7, n_obs = 128, k = 100\n",
      "Elapsed time: 0.009 seconds (generate data)\n",
      "Elapsed time: 0.040 seconds (distances)\n",
      "Elapsed time: 0.016 seconds (connected components)\n",
      "Elapsed time: 0.003 seconds (similarity)\n",
      "Elapsed time: 0.001 seconds (compute laplacian)\n",
      "Elapsed time: 0.006 seconds (get_fiedler_vector)\n",
      "Elapsed time: 0.611 seconds (fit)\n",
      "Elapsed time: 0.000 seconds (complete linkage)\n",
      "Elapsed time: 0.001 seconds (convert linkage to tree)\n",
      "depth = 8, n_obs = 256, k = 100\n",
      "Elapsed time: 0.009 seconds (generate data)\n",
      "Elapsed time: 0.104 seconds (distances)\n",
      "Elapsed time: 0.034 seconds (connected components)\n",
      "Elapsed time: 0.004 seconds (similarity)\n",
      "Elapsed time: 0.001 seconds (compute laplacian)\n",
      "Elapsed time: 0.009 seconds (get_fiedler_vector)\n"
     ]
    },
    {
     "name": "stderr",
     "output_type": "stream",
     "text": [
      "INFO:hier_clust.hier_clust:Found 2 components at tree_path ''\n"
     ]
    },
    {
     "name": "stdout",
     "output_type": "stream",
     "text": [
      "Elapsed time: 1.260 seconds (fit)\n",
      "Elapsed time: 0.001 seconds (complete linkage)\n",
      "Elapsed time: 0.002 seconds (convert linkage to tree)\n",
      "depth = 9, n_obs = 512, k = 100\n",
      "Elapsed time: 0.017 seconds (generate data)\n",
      "Elapsed time: 0.206 seconds (distances)\n",
      "Elapsed time: 0.072 seconds (connected components)\n",
      "Elapsed time: 0.008 seconds (similarity)\n",
      "Elapsed time: 0.001 seconds (compute laplacian)\n",
      "Elapsed time: 0.015 seconds (get_fiedler_vector)\n"
     ]
    },
    {
     "name": "stderr",
     "output_type": "stream",
     "text": [
      "INFO:hier_clust.hier_clust:Found 4 components at tree_path ''\n"
     ]
    },
    {
     "name": "stdout",
     "output_type": "stream",
     "text": [
      "Elapsed time: 2.536 seconds (fit)\n",
      "Elapsed time: 0.004 seconds (complete linkage)\n",
      "Elapsed time: 0.005 seconds (convert linkage to tree)\n",
      "depth = 10, n_obs = 1024, k = 100\n",
      "Elapsed time: 0.035 seconds (generate data)\n",
      "Elapsed time: 0.464 seconds (distances)\n",
      "Elapsed time: 0.144 seconds (connected components)\n",
      "Elapsed time: 0.016 seconds (similarity)\n",
      "Elapsed time: 0.001 seconds (compute laplacian)\n",
      "Elapsed time: 0.027 seconds (get_fiedler_vector)\n"
     ]
    },
    {
     "name": "stderr",
     "output_type": "stream",
     "text": [
      "INFO:hier_clust.hier_clust:Found 8 components at tree_path ''\n"
     ]
    },
    {
     "name": "stdout",
     "output_type": "stream",
     "text": [
      "Elapsed time: 5.118 seconds (fit)\n",
      "Elapsed time: 0.018 seconds (complete linkage)\n",
      "Elapsed time: 0.010 seconds (convert linkage to tree)\n",
      "CPU times: user 10.7 s, sys: 181 ms, total: 10.9 s\n",
      "Wall time: 10.8 s\n"
     ]
    }
   ],
   "source": [
    "%%time\n",
    "for depth in range(7, 10 + 1):\n",
    "    row = analysis(depth = depth, k = 100, seed = 1)\n",
    "    rows.append(row)"
   ]
  },
  {
   "cell_type": "code",
   "execution_count": 10,
   "metadata": {
    "collapsed": true
   },
   "outputs": [],
   "source": [
    "# row = analysis(depth = 16, k = 100, seed = 1, run_bottom_up = False)\n",
    "# rows.append(row)"
   ]
  },
  {
   "cell_type": "code",
   "execution_count": 11,
   "metadata": {
    "collapsed": false
   },
   "outputs": [],
   "source": [
    "# row = analysis(depth = 17, k = 100, seed = 1, run_bottom_up = False)\n",
    "# rows.append(row)"
   ]
  },
  {
   "cell_type": "code",
   "execution_count": 12,
   "metadata": {
    "collapsed": false
   },
   "outputs": [],
   "source": [
    "# row = analysis(depth = 18, k = 100, seed = 1, run_bottom_up = False)\n",
    "# rows.append(row)"
   ]
  },
  {
   "cell_type": "code",
   "execution_count": 13,
   "metadata": {
    "collapsed": false
   },
   "outputs": [],
   "source": [
    "# row = analysis(depth = 16, k = 100, seed = 1, run_top_down = False)\n",
    "# rows.append(row)"
   ]
  },
  {
   "cell_type": "code",
   "execution_count": 14,
   "metadata": {
    "collapsed": false
   },
   "outputs": [
    {
     "data": {
      "text/html": [
       "<table border=\"1\" class=\"dataframe\">\n",
       "  <thead>\n",
       "    <tr style=\"text-align: right;\">\n",
       "      <th>n_obs</th>\n",
       "      <th>k</th>\n",
       "      <th>generate data</th>\n",
       "      <th>distances</th>\n",
       "      <th>connected components</th>\n",
       "      <th>similarity</th>\n",
       "      <th>compute laplacian</th>\n",
       "      <th>get_fiedler_vector</th>\n",
       "      <th>fit</th>\n",
       "      <th>complete linkage</th>\n",
       "      <th>convert linkage to tree</th>\n",
       "    </tr>\n",
       "  </thead>\n",
       "  <tbody>\n",
       "    <tr>\n",
       "      <td>128.0</td>\n",
       "      <td>100.0</td>\n",
       "      <td>0.008750</td>\n",
       "      <td>0.039683</td>\n",
       "      <td>0.015886</td>\n",
       "      <td>0.002615</td>\n",
       "      <td>0.000572</td>\n",
       "      <td>0.006380</td>\n",
       "      <td>0.610630</td>\n",
       "      <td>0.000488</td>\n",
       "      <td>0.001213</td>\n",
       "    </tr>\n",
       "    <tr>\n",
       "      <td>256.0</td>\n",
       "      <td>100.0</td>\n",
       "      <td>0.008742</td>\n",
       "      <td>0.103914</td>\n",
       "      <td>0.033590</td>\n",
       "      <td>0.004107</td>\n",
       "      <td>0.000615</td>\n",
       "      <td>0.009180</td>\n",
       "      <td>1.260217</td>\n",
       "      <td>0.001190</td>\n",
       "      <td>0.002372</td>\n",
       "    </tr>\n",
       "    <tr>\n",
       "      <td>512.0</td>\n",
       "      <td>100.0</td>\n",
       "      <td>0.017477</td>\n",
       "      <td>0.206410</td>\n",
       "      <td>0.071920</td>\n",
       "      <td>0.007798</td>\n",
       "      <td>0.001073</td>\n",
       "      <td>0.014847</td>\n",
       "      <td>2.535839</td>\n",
       "      <td>0.004280</td>\n",
       "      <td>0.005127</td>\n",
       "    </tr>\n",
       "    <tr>\n",
       "      <td>1024.0</td>\n",
       "      <td>100.0</td>\n",
       "      <td>0.035000</td>\n",
       "      <td>0.464281</td>\n",
       "      <td>0.143619</td>\n",
       "      <td>0.016258</td>\n",
       "      <td>0.001319</td>\n",
       "      <td>0.026848</td>\n",
       "      <td>5.118453</td>\n",
       "      <td>0.018276</td>\n",
       "      <td>0.009870</td>\n",
       "    </tr>\n",
       "  </tbody>\n",
       "</table>"
      ],
      "text/plain": [
       "<IPython.core.display.HTML object>"
      ]
     },
     "metadata": {},
     "output_type": "display_data"
    }
   ],
   "source": [
    "summary = pd.DataFrame.from_records(rows)\n",
    "summary = summary.loc[:, rows[0].index]\n",
    "display(HTML(summary.to_html(index = False)))"
   ]
  },
  {
   "cell_type": "code",
   "execution_count": 15,
   "metadata": {
    "collapsed": true
   },
   "outputs": [],
   "source": [
    "# summary = pd.read_csv('/Users/aleverentz/Desktop/temp_stats_for_plotting.csv')"
   ]
  },
  {
   "cell_type": "code",
   "execution_count": 16,
   "metadata": {
    "collapsed": true
   },
   "outputs": [],
   "source": [
    "def power_law(x, offset, coeff, exponent):\n",
    "    return offset + coeff * x ** exponent"
   ]
  },
  {
   "cell_type": "code",
   "execution_count": 17,
   "metadata": {
    "collapsed": false
   },
   "outputs": [
    {
     "data": {
      "text/plain": [
       "(array([ 0.00498364]), array([  1.73702472e-08]))"
      ]
     },
     "execution_count": 17,
     "metadata": {},
     "output_type": "execute_result"
    }
   ],
   "source": [
    "mask = np.isfinite(summary[\"fit\"])\n",
    "linear_scaling = lambda x, coeff: power_law(x, offset = 0, coeff = coeff, exponent = 1.0)\n",
    "c1, _ = curve_fit(linear_scaling, summary[\"n_obs\"][mask], summary[\"fit\"][mask])\n",
    "mask = np.isfinite(summary[\"complete linkage\"])\n",
    "quad_scaling = lambda x, coeff: power_law(x, offset = 0, coeff = coeff, exponent = 2.0)\n",
    "c2, _ = curve_fit(quad_scaling, summary[\"n_obs\"][mask], summary[\"complete linkage\"][mask])\n",
    "c1, c2"
   ]
  },
  {
   "cell_type": "code",
   "execution_count": 18,
   "metadata": {
    "collapsed": false
   },
   "outputs": [
    {
     "data": {
      "image/png": "[encoded data removed]",
      "text/plain": [
       "<matplotlib.figure.Figure at 0x1073004d0>"
      ]
     },
     "metadata": {},
     "output_type": "display_data"
    }
   ],
   "source": [
    "fig, ax = plt.subplots()\n",
    "ax.loglog(summary[\"n_obs\"], summary[\"fit\"], label = \"top down\", marker='.')\n",
    "ax.loglog(summary[\"n_obs\"], summary[\"complete linkage\"], label = \"bottom up\", marker='.')\n",
    "\n",
    "def show_scaling(x_range, exponent, coeff, offset, ax, **kwargs):\n",
    "    x = np.logspace(np.log10(x_range[0]), np.log10(x_range[1]))\n",
    "    ax.plot(x, offset + coeff * x ** exponent, linestyle='--', **kwargs)\n",
    "\n",
    "show_scaling(x_range = (1, 3e5), offset = 0, coeff = c1[0], exponent = 1.0, ax = ax)\n",
    "show_scaling(x_range = (1, 3e5), offset = 0, coeff = c2[0], exponent = 2.0, ax = ax)\n",
    "\n",
    "ax.set_ylabel('Runtime (seconds)')\n",
    "ax.set_xlabel('Dataset size (with k = constant)')\n",
    "ax.legend(loc='best')\n",
    "\n",
    "None"
   ]
  },
  {
   "cell_type": "code",
   "execution_count": 19,
   "metadata": {
    "collapsed": false
   },
   "outputs": [],
   "source": [
    "# fig, ax = plt.subplots()\n",
    "# for yi in np.unique(y):\n",
    "#     ax.plot(x[y == yi, 0], x[y == yi, 1], '.')\n",
    "# plot_tree_overlay(data = x, tree = fit_result[0], max_depth = 10, ax = ax)\n",
    "\n",
    "# None"
   ]
  },
  {
   "cell_type": "markdown",
   "metadata": {},
   "source": [
    "##### Cleanup"
   ]
  },
  {
   "cell_type": "code",
   "execution_count": 20,
   "metadata": {
    "collapsed": true
   },
   "outputs": [],
   "source": [
    "plt.close()"
   ]
  }
 ],
 "metadata": {
  "kernelspec": {
   "display_name": "Python 2",
   "language": "python",
   "name": "python2"
  },
  "language_info": {
   "codemirror_mode": {
    "name": "ipython",
    "version": 2
   },
   "file_extension": ".py",
   "mimetype": "text/x-python",
   "name": "python",
   "nbconvert_exporter": "python",
   "pygments_lexer": "ipython2",
   "version": "2.7.10"
  }
 },
 "nbformat": 4,
 "nbformat_minor": 1
}
