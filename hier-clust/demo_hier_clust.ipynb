{
 "cells": [
  {
   "cell_type": "markdown",
   "metadata": {},
   "source": [
    "# Demo: Single round of hierarchical clustering"
   ]
  },
  {
   "cell_type": "code",
   "execution_count": 1,
   "metadata": {
    "collapsed": true
   },
   "outputs": [],
   "source": [
    "%reset -f"
   ]
  },
  {
   "cell_type": "code",
   "execution_count": 2,
   "metadata": {
    "collapsed": false
   },
   "outputs": [
    {
     "name": "stderr",
     "output_type": "stream",
     "text": [
      "/usr/local/lib/python2.7/site-packages/matplotlib/font_manager.py:273: UserWarning: Matplotlib is building the font cache using fc-list. This may take a moment.\n",
      "  warnings.warn('Matplotlib is building the font cache using fc-list. This may take a moment.')\n"
     ]
    }
   ],
   "source": [
    "import numpy as np\n",
    "import matplotlib.pyplot as plt\n",
    "import pandas as pd\n",
    "%matplotlib notebook"
   ]
  },
  {
   "cell_type": "code",
   "execution_count": 3,
   "metadata": {
    "collapsed": true
   },
   "outputs": [],
   "source": [
    "import re"
   ]
  },
  {
   "cell_type": "code",
   "execution_count": 4,
   "metadata": {
    "collapsed": true
   },
   "outputs": [],
   "source": [
    "from scipy.sparse import coo_matrix"
   ]
  },
  {
   "cell_type": "code",
   "execution_count": 5,
   "metadata": {
    "collapsed": false
   },
   "outputs": [],
   "source": [
    "from sklearn.neighbors import (\n",
    "    NearestNeighbors,\n",
    "    KNeighborsClassifier)\n",
    "from sklearn.cluster import (\n",
    "    KMeans,\n",
    "    MiniBatchKMeans,\n",
    "    AgglomerativeClustering,\n",
    "    SpectralClustering)"
   ]
  },
  {
   "cell_type": "code",
   "execution_count": 6,
   "metadata": {
    "collapsed": true
   },
   "outputs": [],
   "source": [
    "np.random.seed(1)"
   ]
  },
  {
   "cell_type": "code",
   "execution_count": 7,
   "metadata": {
    "collapsed": false
   },
   "outputs": [
    {
     "name": "stdout",
     "output_type": "stream",
     "text": [
      "600 rows, 54 columns\n"
     ]
    }
   ],
   "source": [
    "filename = \"../data/CCS/subsetShots_5pct_reduced.csv\"\n",
    "df = pd.read_csv(filename)\n",
    "df = df.iloc[:600, :]  # use this line for quick testing\n",
    "df[\"original_index\"] = df.index\n",
    "print \"{} rows, {} columns\".format(*df.shape)\n",
    "n_obs = df.shape[0]"
   ]
  },
  {
   "cell_type": "code",
   "execution_count": 8,
   "metadata": {
    "collapsed": false
   },
   "outputs": [
    {
     "name": "stdout",
     "output_type": "stream",
     "text": [
      "feature-only data: 600 rows, 50 columns\n"
     ]
    }
   ],
   "source": [
    "feature_column_indices = [i for i in range(len(df.columns)) if df.columns[i].startswith(\"wavelength\")]\n",
    "df_features = df.iloc[:, feature_column_indices]\n",
    "print \"feature-only data: {} rows, {} columns\".format(*df_features.shape)"
   ]
  },
  {
   "cell_type": "code",
   "execution_count": 9,
   "metadata": {
    "collapsed": true
   },
   "outputs": [],
   "source": [
    "example_spectrum = df.iloc[0, feature_column_indices]\n",
    "wavelengths = [float(re.match(\"wavelength_(.*)\", df.columns[i]).group(1)) for i in feature_column_indices]"
   ]
  },
  {
   "cell_type": "code",
   "execution_count": 10,
   "metadata": {
    "collapsed": false
   },
   "outputs": [],
   "source": [
    "#plt.stem(wavelengths, example_spectrum)"
   ]
  },
  {
   "cell_type": "code",
   "execution_count": 11,
   "metadata": {
    "collapsed": true
   },
   "outputs": [],
   "source": [
    "n_neighbors = 20"
   ]
  },
  {
   "cell_type": "code",
   "execution_count": 12,
   "metadata": {
    "collapsed": true
   },
   "outputs": [],
   "source": [
    "#nn_obj = NearestNeighbors(n_neighbors = n_neighbors, algorithm = 'ball_tree', metric='euclidean').fit(df_features)\n",
    "#distances, indices = nn_obj.kneighbors(df_features)"
   ]
  },
  {
   "cell_type": "code",
   "execution_count": 13,
   "metadata": {
    "collapsed": true
   },
   "outputs": [],
   "source": [
    "@np.vectorize\n",
    "def get_num_representatives(n):\n",
    "    \"a function that grows like f(n) but smoothly transitions to n below n0\"\n",
    "    def f(x): return x ** (1/3.)\n",
    "    def fp(x): return (1/3.) * x ** (-2/3.)\n",
    "    n0 = 500.0\n",
    "    a = n0 - f(n0) / fp(n0)\n",
    "    b = 1.0 / fp(n0)\n",
    "    if n < n0:\n",
    "        return int(n)\n",
    "    else:\n",
    "        return int(a + b * f(n))"
   ]
  },
  {
   "cell_type": "code",
   "execution_count": 14,
   "metadata": {
    "collapsed": false
   },
   "outputs": [],
   "source": [
    "num_representatives = get_num_representatives(n_obs)\n",
    "# NOTE: doesn't support custom metric?\n",
    "km_obj = KMeans(\n",
    "    n_clusters = num_representatives,\n",
    "    precompute_distances = False,\n",
    "    copy_x = True,\n",
    "    n_init = 1,\n",
    ").fit(df_features)\n",
    "centers = km_obj.cluster_centers_"
   ]
  },
  {
   "cell_type": "code",
   "execution_count": 15,
   "metadata": {
    "collapsed": false
   },
   "outputs": [
    {
     "name": "stdout",
     "output_type": "stream",
     "text": [
      "representatives (cluster centers): 593 rows, 50 cols\n"
     ]
    }
   ],
   "source": [
    "print \"representatives (cluster centers): {} rows, {} cols\".format(*centers.shape)"
   ]
  },
  {
   "cell_type": "code",
   "execution_count": 16,
   "metadata": {
    "collapsed": false
   },
   "outputs": [],
   "source": [
    "def nn_result_to_sparse_similarity(distances, indices, sigma):\n",
    "    similarities = np.exp(-distances / sigma)\n",
    "    # TODO: does it matter if we swap (rows, cols)? -- need to examine this construction more closely...\n",
    "    rows = np.array([[i for k in range(len(indices[i]))] for i in range(len(indices))]).flatten()\n",
    "    cols = indices.flatten()\n",
    "    values = similarities.flatten()\n",
    "    result = coo_matrix((values, (rows, cols)),\n",
    "        shape = (len(indices), len(indices)))\n",
    "    return result\n",
    "\n",
    "def get_sparse_similarity(data, n_neighbors, metric = 'euclidean', sigma = 1.0):\n",
    "    nn_obj = NearestNeighbors(\n",
    "        n_neighbors = n_neighbors,\n",
    "        algorithm = 'ball_tree',\n",
    "        metric = metric\n",
    "    ).fit(data)\n",
    "    distances, indices = nn_obj.kneighbors(data)\n",
    "    return nn_result_to_sparse_similarity(distances, indices, sigma = sigma)"
   ]
  },
  {
   "cell_type": "code",
   "execution_count": 17,
   "metadata": {
    "collapsed": false
   },
   "outputs": [],
   "source": [
    "def get_subset_sparse_square(sparse_matrix, indices):\n",
    "    rows = sparse_matrix.row\n",
    "    cols = sparse_matrix.col\n",
    "    data = sparse_matrix.data\n",
    "    i_subset = []\n",
    "    j_subset = []\n",
    "    d_subset = []\n",
    "    for k in range(len(sim_flat)):\n",
    "        if rows[k] in indices and cols[k] in indices:\n",
    "            i_subset.append(rows[k])\n",
    "            j_subset.append(cols[k])\n",
    "            d_subset.append(data[k])\n",
    "    return coo_matrix((d_subset, (i_subset, j_subset)))"
   ]
  },
  {
   "cell_type": "code",
   "execution_count": 18,
   "metadata": {
    "collapsed": false,
    "scrolled": true
   },
   "outputs": [
    {
     "name": "stdout",
     "output_type": "stream",
     "text": [
      "(593, 593)\n"
     ]
    }
   ],
   "source": [
    "sim_sparse = get_sparse_similarity(centers, n_neighbors=n_neighbors)\n",
    "print sim_sparse.shape"
   ]
  },
  {
   "cell_type": "code",
   "execution_count": 19,
   "metadata": {
    "collapsed": false
   },
   "outputs": [
    {
     "name": "stderr",
     "output_type": "stream",
     "text": [
      "/usr/local/lib/python2.7/site-packages/sklearn/utils/validation.py:629: UserWarning: Array is not symmetric, and will be converted to symmetric by average with its transpose.\n",
      "  warnings.warn(\"Array is not symmetric, and will be converted \"\n"
     ]
    }
   ],
   "source": [
    "spc_obj = SpectralClustering(n_clusters = 2, affinity = 'precomputed')\n",
    "representative_partition = spc_obj.fit_predict(sim_sparse)"
   ]
  },
  {
   "cell_type": "code",
   "execution_count": 20,
   "metadata": {
    "collapsed": false
   },
   "outputs": [
    {
     "name": "stdout",
     "output_type": "stream",
     "text": [
      "partitioned representatives: #0: 331, #1: 262\n"
     ]
    }
   ],
   "source": [
    "print \"partitioned representatives: #0: {}, #1: {}\".format(\n",
    "    len(representative_partition[representative_partition == 0]),\n",
    "    len(representative_partition[representative_partition == 1]))"
   ]
  },
  {
   "cell_type": "code",
   "execution_count": 21,
   "metadata": {
    "collapsed": true
   },
   "outputs": [],
   "source": [
    "nn_classifier = KNeighborsClassifier(\n",
    "    n_neighbors = n_neighbors,\n",
    "    algorithm = 'ball_tree',\n",
    "    metric = 'euclidean',\n",
    ").fit(centers, representative_partition)"
   ]
  },
  {
   "cell_type": "code",
   "execution_count": 22,
   "metadata": {
    "collapsed": true
   },
   "outputs": [],
   "source": [
    "full_partition = nn_classifier.predict(df_features)"
   ]
  },
  {
   "cell_type": "code",
   "execution_count": 23,
   "metadata": {
    "collapsed": false
   },
   "outputs": [
    {
     "name": "stdout",
     "output_type": "stream",
     "text": [
      "partitioned full dataset: #0: 327, #1: 273\n"
     ]
    }
   ],
   "source": [
    "df_part0 = df[full_partition == 0]\n",
    "df_part1 = df[full_partition == 1]\n",
    "print \"partitioned full dataset: #0: {}, #1: {}\".format(len(df_part0), len(df_part1))"
   ]
  },
  {
   "cell_type": "markdown",
   "metadata": {},
   "source": [
    "# Run hierarchical clustering using `hier_clust.py`"
   ]
  },
  {
   "cell_type": "code",
   "execution_count": 24,
   "metadata": {
    "collapsed": false
   },
   "outputs": [],
   "source": [
    "import hier_clust\n",
    "hc = hier_clust.HierClust()\n",
    "tree, assign = hc.fit(df_features[:600])"
   ]
  },
  {
   "cell_type": "code",
   "execution_count": 25,
   "metadata": {
    "collapsed": false
   },
   "outputs": [
    {
     "name": "stdout",
     "output_type": "stream",
     "text": [
      "600\n",
      "600\n"
     ]
    }
   ],
   "source": [
    "print len(assign)\n",
    "print len(np.unique(assign))"
   ]
  },
  {
   "cell_type": "markdown",
   "metadata": {
    "collapsed": true
   },
   "source": [
    "# Recovering tree structure"
   ]
  },
  {
   "cell_type": "code",
   "execution_count": 26,
   "metadata": {
    "collapsed": false
   },
   "outputs": [],
   "source": [
    "from tree_util import reconstruct_tree"
   ]
  },
  {
   "cell_type": "code",
   "execution_count": 27,
   "metadata": {
    "collapsed": false
   },
   "outputs": [],
   "source": [
    "annot_df = pd.read_csv(\"../data/CCS/subsetShots_5pct_reduced_with_cluster_id.csv\")"
   ]
  },
  {
   "cell_type": "code",
   "execution_count": 28,
   "metadata": {
    "collapsed": false
   },
   "outputs": [],
   "source": [
    "tree = reconstruct_tree(annot_df[\"cluster_id\"])"
   ]
  },
  {
   "cell_type": "code",
   "execution_count": 29,
   "metadata": {
    "collapsed": false
   },
   "outputs": [
    {
     "name": "stdout",
     "output_type": "stream",
     "text": [
      "11146\n",
      "33438\n",
      "Tree(data = 11146, children = [\n",
      "  Tree(data = 917, children = [\n",
      "    Tree(data = 776, children = [])\n",
      "    Tree(data = 141, children = [])\n",
      "  ])\n",
      "  Tree(data = 10229, children = [\n",
      "    Tree(data = 4597, children = [])\n",
      "    Tree(data = 5632, children = [])\n",
      "  ])\n",
      "])\n"
     ]
    }
   ],
   "source": [
    "print tree.prune(2).map_data(lambda x: len(x)).reduce_leaves(lambda x, y: x + y)\n",
    "print tree.prune(2).map_data(lambda x: len(x)).reduce_all(lambda x, y, z: x + y + z)\n",
    "print tree.prune(2).map_data(lambda x: len(x)).str_display()"
   ]
  },
  {
   "cell_type": "code",
   "execution_count": null,
   "metadata": {
    "collapsed": true
   },
   "outputs": [],
   "source": []
  }
 ],
 "metadata": {
  "kernelspec": {
   "display_name": "Python 2",
   "language": "python",
   "name": "python2"
  },
  "language_info": {
   "codemirror_mode": {
    "name": "ipython",
    "version": 2
   },
   "file_extension": ".py",
   "mimetype": "text/x-python",
   "name": "python",
   "nbconvert_exporter": "python",
   "pygments_lexer": "ipython2",
   "version": "2.7.10"
  }
 },
 "nbformat": 4,
 "nbformat_minor": 1
}
