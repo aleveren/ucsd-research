{
 "cells": [
  {
   "cell_type": "code",
   "execution_count": 1,
   "metadata": {
    "collapsed": false
   },
   "outputs": [
    {
     "name": "stderr",
     "output_type": "stream",
     "text": [
      "/usr/local/lib/python2.7/site-packages/matplotlib/font_manager.py:273: UserWarning: Matplotlib is building the font cache using fc-list. This may take a moment.\n",
      "  warnings.warn('Matplotlib is building the font cache using fc-list. This may take a moment.')\n"
     ]
    }
   ],
   "source": [
    "import numpy as np\n",
    "import matplotlib.pyplot as plt\n",
    "%matplotlib inline"
   ]
  },
  {
   "cell_type": "markdown",
   "metadata": {},
   "source": [
    "## Computing eigendecomposition using `np.linalg.eigh`"
   ]
  },
  {
   "cell_type": "code",
   "execution_count": 145,
   "metadata": {
    "collapsed": true
   },
   "outputs": [],
   "source": [
    "n = 3\n",
    "M = np.random.uniform(-1, 1, (n, n))\n",
    "M = 0.5 * M + 0.5 * M.T"
   ]
  },
  {
   "cell_type": "code",
   "execution_count": 146,
   "metadata": {
    "collapsed": false
   },
   "outputs": [
    {
     "data": {
      "text/plain": [
       "array([[ 0.95818468, -0.41153984, -0.12721255],\n",
       "       [-0.41153984, -0.577583  ,  0.3039353 ],\n",
       "       [-0.12721255,  0.3039353 , -0.41524987]])"
      ]
     },
     "execution_count": 146,
     "metadata": {},
     "output_type": "execute_result"
    }
   ],
   "source": [
    "M"
   ]
  },
  {
   "cell_type": "code",
   "execution_count": 147,
   "metadata": {
    "collapsed": true
   },
   "outputs": [],
   "source": [
    "evals, evecs = np.linalg.eigh(M)"
   ]
  },
  {
   "cell_type": "code",
   "execution_count": 148,
   "metadata": {
    "collapsed": false
   },
   "outputs": [
    {
     "data": {
      "text/plain": [
       "array([-0.84919519, -0.27358113,  1.08812814])"
      ]
     },
     "execution_count": 148,
     "metadata": {},
     "output_type": "execute_result"
    }
   ],
   "source": [
    "evals"
   ]
  },
  {
   "cell_type": "code",
   "execution_count": 149,
   "metadata": {
    "collapsed": false
   },
   "outputs": [
    {
     "data": {
      "text/plain": [
       "array([[-0.15118287,  0.25081626, -0.95615634],\n",
       "       [-0.82994262,  0.49323197,  0.26060979],\n",
       "       [ 0.53697205,  0.83295464,  0.13359488]])"
      ]
     },
     "execution_count": 149,
     "metadata": {},
     "output_type": "execute_result"
    }
   ],
   "source": [
    "evecs"
   ]
  },
  {
   "cell_type": "code",
   "execution_count": 150,
   "metadata": {
    "collapsed": false
   },
   "outputs": [
    {
     "name": "stdout",
     "output_type": "stream",
     "text": [
      "1.49468349007e-16\n",
      "1.20983749228e-16\n",
      "3.18887285829e-16\n"
     ]
    }
   ],
   "source": [
    "for i in range(n):\n",
    "    x = evecs[:, i]\n",
    "    diff = M.dot(x) - evals[i] * x\n",
    "    print(np.linalg.norm(diff))"
   ]
  },
  {
   "cell_type": "markdown",
   "metadata": {},
   "source": [
    "## Computing eigendecomposition using symbolic algebra (for small matrices only)\n",
    "\n",
    "First, compute the characteristic polynomial $\\det(A - \\lambda I) = 0$"
   ]
  },
  {
   "cell_type": "code",
   "execution_count": 92,
   "metadata": {
    "collapsed": true
   },
   "outputs": [],
   "source": [
    "import sympy as sp"
   ]
  },
  {
   "cell_type": "code",
   "execution_count": 93,
   "metadata": {
    "collapsed": true
   },
   "outputs": [],
   "source": [
    "lam = sp.symbols(\"lam\")"
   ]
  },
  {
   "cell_type": "code",
   "execution_count": 134,
   "metadata": {
    "collapsed": true
   },
   "outputs": [],
   "source": [
    "A = np.array(sp.symbols('a:{}:{}'.format(n, n))).reshape((n,n))\n",
    "L = np.diag([lam for i in range(n)])"
   ]
  },
  {
   "cell_type": "code",
   "execution_count": 135,
   "metadata": {
    "collapsed": false
   },
   "outputs": [],
   "source": [
    "def det(A):\n",
    "    assert A.ndim == 2\n",
    "    assert A.shape[0] == A.shape[1]\n",
    "    n = A.shape[0]\n",
    "    if n == 0:\n",
    "        return None\n",
    "    elif n == 1:\n",
    "        return A[0,0]\n",
    "    elif n == 2:\n",
    "        return A[0,0] * A[1,1] - A[1,0] * A[0,1]\n",
    "    else:\n",
    "        result = 0\n",
    "        for i in range(n):\n",
    "            sign = 1 if i % 2 == 0 else -1\n",
    "            submatrix = np.hstack([A[1:, :i], A[1:, i+1:]])\n",
    "            result += sign * A[0,i] * det(submatrix)\n",
    "        return result"
   ]
  },
  {
   "cell_type": "code",
   "execution_count": 136,
   "metadata": {
    "collapsed": false
   },
   "outputs": [
    {
     "data": {
      "text/plain": [
       "a00*(a11*a22 - a12*a21) - a01*(a10*a22 - a12*a20) + a02*(a10*a21 - a11*a20)"
      ]
     },
     "execution_count": 136,
     "metadata": {},
     "output_type": "execute_result"
    }
   ],
   "source": [
    "det(A)"
   ]
  },
  {
   "cell_type": "code",
   "execution_count": 137,
   "metadata": {
    "collapsed": false
   },
   "outputs": [
    {
     "data": {
      "text/plain": [
       "-a01*(a10*(a22 - lam) - a12*a20) + a02*(a10*a21 - a20*(a11 - lam)) + (a00 - lam)*(-a12*a21 + (a11 - lam)*(a22 - lam))"
      ]
     },
     "execution_count": 137,
     "metadata": {},
     "output_type": "execute_result"
    }
   ],
   "source": [
    "det(A - L)"
   ]
  },
  {
   "cell_type": "code",
   "execution_count": 152,
   "metadata": {
    "collapsed": false
   },
   "outputs": [],
   "source": [
    "sol = sp.solve(sp.Eq(det(A - L), 0), lam)"
   ]
  },
  {
   "cell_type": "code",
   "execution_count": 153,
   "metadata": {
    "collapsed": false
   },
   "outputs": [
    {
     "data": {
      "text/plain": [
       "3"
      ]
     },
     "execution_count": 153,
     "metadata": {},
     "output_type": "execute_result"
    }
   ],
   "source": [
    "len(sol)"
   ]
  },
  {
   "cell_type": "code",
   "execution_count": 154,
   "metadata": {
    "collapsed": true
   },
   "outputs": [],
   "source": [
    "x = sp.symbols('x:{}'.format(n))"
   ]
  },
  {
   "cell_type": "code",
   "execution_count": 155,
   "metadata": {
    "collapsed": false
   },
   "outputs": [
    {
     "data": {
      "text/plain": [
       "[a01*x1 + a02*x2 + x0*(a00 - lam),\n",
       " a10*x0 + a12*x2 + x1*(a11 - lam),\n",
       " a20*x0 + a21*x1 + x2*(a22 - lam)]"
      ]
     },
     "execution_count": 155,
     "metadata": {},
     "output_type": "execute_result"
    }
   ],
   "source": [
    "list(np.dot(A - L, x))"
   ]
  },
  {
   "cell_type": "code",
   "execution_count": 158,
   "metadata": {
    "collapsed": false
   },
   "outputs": [
    {
     "name": "stdout",
     "output_type": "stream",
     "text": [
      "[-0.84920, -0.27358, 1.0881]\n",
      "CPU times: user 22.8 s, sys: 174 ms, total: 23 s\n",
      "Wall time: 23.3 s\n"
     ]
    }
   ],
   "source": [
    "%%time\n",
    "subs = dict()\n",
    "for i in range(n):\n",
    "    for j in range(n):\n",
    "        subs['a{}{}'.format(i,j)] = M[i, j]\n",
    "\n",
    "sym_evals = [sol[i].evalf(n = 5, subs = subs, chop = True) for i in range(n)]\n",
    "print(sym_evals)"
   ]
  },
  {
   "cell_type": "code",
   "execution_count": 160,
   "metadata": {
    "collapsed": false
   },
   "outputs": [
    {
     "name": "stdout",
     "output_type": "stream",
     "text": [
      "[Eq(a01*x1 + a02*x2 + x0*(a00 - lam), 0), Eq(a10*x0 + a12*x2 + x1*(a11 - lam), 0), Eq(a20*x0 + a21*x1 + x2*(a22 - lam), 0)]\n",
      "{x0: x2*(-a01*a12 + a02*(a11 - lam))/(a01*a10 - (a00 - lam)*(a11 - lam)), x1: x2*(-a02*a10 + a12*(a00 - lam))/(a01*a10 - (a00 - lam)*(a11 - lam))}\n",
      "[x2*(-a01*a12 + a02*(a11 - lam))/(a01*a10 - (a00 - lam)*(a11 - lam)), x2*(-a02*a10 + a12*(a00 - lam))/(a01*a10 - (a00 - lam)*(a11 - lam)), x2]\n"
     ]
    }
   ],
   "source": [
    "eqns = [sp.Eq(row, 0) for row in np.dot(A - L, x)]\n",
    "print(eqns)\n",
    "\n",
    "sol_ev = sp.solve(eqns[:-1], *x[:-1])\n",
    "print(sol_ev)\n",
    "\n",
    "ev = [sol_ev[x[i]] for i in range(n-1)] + [x[-1]]\n",
    "print(ev)"
   ]
  },
  {
   "cell_type": "code",
   "execution_count": 161,
   "metadata": {
    "collapsed": false
   },
   "outputs": [
    {
     "data": {
      "text/plain": [
       "array([[-0.15118281,  0.25081641, -0.95615714],\n",
       "       [-0.82994227,  0.49323159,  0.26060935],\n",
       "       [ 0.53697261,  0.83295482,  0.13358997]])"
      ]
     },
     "execution_count": 161,
     "metadata": {},
     "output_type": "execute_result"
    }
   ],
   "source": [
    "sym_evecs = []\n",
    "for i in range(n):\n",
    "    current_subs = dict()\n",
    "    current_subs.update(subs)\n",
    "    current_subs[x[-1]] = 1\n",
    "    current_subs[lam] = sym_evals[i]\n",
    "    \n",
    "    v = [float(evi.evalf(n = 5, subs = current_subs, chop = True)) for evi in ev]\n",
    "    v /= np.linalg.norm(v)\n",
    "    sym_evecs.append(v)\n",
    "\n",
    "sym_evecs = np.asarray(sym_evecs).transpose()\n",
    "sym_evecs"
   ]
  },
  {
   "cell_type": "markdown",
   "metadata": {
    "collapsed": true
   },
   "source": [
    "## Computing eigendecomposition via power iteration\n",
    "\n",
    "Select a random initial vector $x_0$.\n",
    "Iteratively compute $ x_{k+1} = M x_k $ and $ \\mu_k = x_k^T x_{k+1} / \\lVert x_k \\rVert $\n",
    "until $\\mu_k$ approximately converges.\n",
    "\n",
    "As $k \\to \\infty$, we will have $\\mu_k \\to \\lambda_1$ (the largest-magnitude eigenvalue) and $x_k \\to v_1$ (the corresponding eigenvector).\n",
    "\n",
    "\"Deflate\" the matrix via $M \\gets M - \\lambda_1 v_1 v_1^T$ and repeat."
   ]
  },
  {
   "cell_type": "code",
   "execution_count": 293,
   "metadata": {
    "collapsed": false
   },
   "outputs": [],
   "source": [
    "def power_iteration(M, max_iterations = int(1e5), eps = 1e-10):\n",
    "    n = M.shape[0]\n",
    "    x = np.random.uniform(-1, 1, (n,))\n",
    "    x /= np.linalg.norm(x)\n",
    "    prev_estimate = None\n",
    "\n",
    "    for count in range(max_iterations):\n",
    "        x_old = x\n",
    "        Mx = M.dot(x)\n",
    "        x = Mx / np.linalg.norm(Mx)\n",
    "\n",
    "        eigval_estimate = x_old.transpose().dot(Mx) / np.linalg.norm(x_old)\n",
    "        if prev_estimate is not None and abs(prev_estimate - eigval_estimate) < eps:\n",
    "            break\n",
    "        prev_estimate = eigval_estimate\n",
    "\n",
    "    eigvec_estimate = x\n",
    "\n",
    "    if count >= max_iterations - 1:\n",
    "        print \"WARNING: high number of iterations\"\n",
    "    \n",
    "    return eigval_estimate, eigvec_estimate"
   ]
  },
  {
   "cell_type": "code",
   "execution_count": 324,
   "metadata": {
    "collapsed": true
   },
   "outputs": [],
   "source": [
    "def multiple_power_iteration(X):\n",
    "    ms, vs = [], []\n",
    "    for i in range(X.shape[0]):\n",
    "        m, v = power_iteration(X)\n",
    "        ms.append(m)\n",
    "        vs.append(v)\n",
    "        X = X - m * np.outer(v, v)\n",
    "    ms = np.array(ms)\n",
    "    vs = np.array(vs).transpose()\n",
    "    indices = np.argsort(ms)\n",
    "    ms = ms[indices]\n",
    "    vs = vs[:, indices]\n",
    "    return ms, vs"
   ]
  },
  {
   "cell_type": "code",
   "execution_count": 332,
   "metadata": {
    "collapsed": false
   },
   "outputs": [
    {
     "name": "stdout",
     "output_type": "stream",
     "text": [
      "(-0.849195191060649, array([-0.15119011, -0.82993996,  0.53697413]))\n",
      "(-0.27358113395603945, array([-0.25081683, -0.49323515, -0.83295258]))\n",
      "(1.0881281350063867, array([-0.95615727,  0.26060468,  0.13359819]))\n"
     ]
    }
   ],
   "source": [
    "ms, vs = multiple_power_iteration(M)\n",
    "\n",
    "for i in range(n):\n",
    "    print((ms[i], vs[:, i]))"
   ]
  },
  {
   "cell_type": "code",
   "execution_count": 333,
   "metadata": {
    "collapsed": false
   },
   "outputs": [],
   "source": [
    "assert np.allclose(evals, ms, atol=1e-5)"
   ]
  },
  {
   "cell_type": "code",
   "execution_count": 334,
   "metadata": {
    "collapsed": false
   },
   "outputs": [
    {
     "name": "stdout",
     "output_type": "stream",
     "text": [
      "[ -1.44483700e-05   4.33673438e-06   2.63511017e-06]\n",
      "[  3.33169407e-07   1.82921616e-06  -1.18349171e-06]\n",
      "[  1.80473037e-06   9.90802250e-06  -6.41044414e-06]\n"
     ]
    }
   ],
   "source": [
    "for i in range(n):\n",
    "    print M.dot(vs[:, i]) - ms[i] * vs[:, i]"
   ]
  },
  {
   "cell_type": "code",
   "execution_count": null,
   "metadata": {
    "collapsed": true
   },
   "outputs": [],
   "source": []
  }
 ],
 "metadata": {
  "kernelspec": {
   "display_name": "Python 2",
   "language": "python",
   "name": "python2"
  },
  "language_info": {
   "codemirror_mode": {
    "name": "ipython",
    "version": 2
   },
   "file_extension": ".py",
   "mimetype": "text/x-python",
   "name": "python",
   "nbconvert_exporter": "python",
   "pygments_lexer": "ipython2",
   "version": "2.7.10"
  }
 },
 "nbformat": 4,
 "nbformat_minor": 1
}
