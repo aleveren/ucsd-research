{
 "cells": [
  {
   "cell_type": "code",
   "execution_count": 275,
   "metadata": {
    "collapsed": false
   },
   "outputs": [],
   "source": [
    "import numpy as np\n",
    "import matplotlib.pyplot as plt\n",
    "import pandas as pd\n",
    "%matplotlib inline"
   ]
  },
  {
   "cell_type": "code",
   "execution_count": 276,
   "metadata": {
    "collapsed": true
   },
   "outputs": [],
   "source": [
    "from IPython.display import display"
   ]
  },
  {
   "cell_type": "code",
   "execution_count": 277,
   "metadata": {
    "collapsed": false
   },
   "outputs": [],
   "source": [
    "def generate_PSD(n, singular = False, seed = None):\n",
    "    if seed is not None:\n",
    "        np.random.seed(seed)\n",
    "    # Generate random vectors and orthogonalize them via QR decomposition\n",
    "    X = np.random.normal(loc=0, scale=1, size=(n, n))\n",
    "    Q, R = np.linalg.qr(X)\n",
    "    # Generate random positive eigenvalues\n",
    "    eigvals = np.sort(np.random.lognormal(mean=1, sigma=1, size=(n,)))\n",
    "    indices = range(1, n) if singular else range(n)\n",
    "    # Define a new matrix as a sum of outer products\n",
    "    M = np.zeros((n, n), dtype='float')\n",
    "    for i in indices:\n",
    "        M += eigvals[i] * np.outer(Q[:, i], Q[:, i])\n",
    "    return M"
   ]
  },
  {
   "cell_type": "code",
   "execution_count": 278,
   "metadata": {
    "collapsed": false
   },
   "outputs": [
    {
     "data": {
      "text/plain": [
       "array([[ 4.35292271,  0.84498811,  0.43932414, -2.23387933, -0.92877447],\n",
       "       [ 0.84498811,  1.51697161, -0.75894326, -0.7295807 , -0.2042558 ],\n",
       "       [ 0.43932414, -0.75894326,  0.77831984,  0.1686278 , -0.01364538],\n",
       "       [-2.23387933, -0.7295807 ,  0.1686278 ,  1.66771805,  0.15200068],\n",
       "       [-0.92877447, -0.2042558 , -0.01364538,  0.15200068,  0.85848309]])"
      ]
     },
     "execution_count": 278,
     "metadata": {},
     "output_type": "execute_result"
    }
   ],
   "source": [
    "n = 5\n",
    "M = generate_PSD(n, singular = True)\n",
    "M"
   ]
  },
  {
   "cell_type": "code",
   "execution_count": 279,
   "metadata": {
    "collapsed": false
   },
   "outputs": [
    {
     "data": {
      "text/plain": [
       "array([-0.    ,  0.2905,  0.8765,  1.9563,  6.0512])"
      ]
     },
     "metadata": {},
     "output_type": "display_data"
    },
    {
     "data": {
      "text/plain": [
       "array([[-0.4418, -0.193 , -0.0622,  0.2626, -0.8335],\n",
       "       [ 0.2658, -0.546 , -0.1687, -0.74  , -0.235 ],\n",
       "       [ 0.6133, -0.515 ,  0.0446,  0.5968, -0.0211],\n",
       "       [-0.5088, -0.496 , -0.5029,  0.1489,  0.469 ],\n",
       "       [-0.3149, -0.3916,  0.8443, -0.0713,  0.1721]])"
      ]
     },
     "metadata": {},
     "output_type": "display_data"
    }
   ],
   "source": [
    "target_evals, target_evecs = np.linalg.eigh(M)\n",
    "display(target_evals.round(4))\n",
    "display(target_evecs.round(4))"
   ]
  },
  {
   "cell_type": "code",
   "execution_count": 280,
   "metadata": {
    "collapsed": true
   },
   "outputs": [],
   "source": [
    "eps = 1e-3"
   ]
  },
  {
   "cell_type": "code",
   "execution_count": 281,
   "metadata": {
    "collapsed": false
   },
   "outputs": [],
   "source": [
    "Z = np.linalg.inv(M + eps * np.identity(M.shape[0])) - 1/eps * np.outer(target_evecs[:,0], target_evecs[:,0])"
   ]
  },
  {
   "cell_type": "code",
   "execution_count": 282,
   "metadata": {
    "collapsed": false
   },
   "outputs": [
    {
     "data": {
      "text/html": [
       "<div>\n",
       "<table border=\"1\" class=\"dataframe\">\n",
       "  <thead>\n",
       "    <tr style=\"text-align: right;\">\n",
       "      <th></th>\n",
       "      <th>0</th>\n",
       "      <th>1</th>\n",
       "      <th>2</th>\n",
       "      <th>3</th>\n",
       "      <th>4</th>\n",
       "    </tr>\n",
       "  </thead>\n",
       "  <tbody>\n",
       "    <tr>\n",
       "      <th>0</th>\n",
       "      <td>0.282284</td>\n",
       "      <td>0.306637</td>\n",
       "      <td>0.420923</td>\n",
       "      <td>0.319568</td>\n",
       "      <td>0.166216</td>\n",
       "    </tr>\n",
       "    <tr>\n",
       "      <th>1</th>\n",
       "      <td>0.306637</td>\n",
       "      <td>1.344066</td>\n",
       "      <td>0.731383</td>\n",
       "      <td>0.951388</td>\n",
       "      <td>0.591518</td>\n",
       "    </tr>\n",
       "    <tr>\n",
       "      <th>2</th>\n",
       "      <td>0.420923</td>\n",
       "      <td>0.731383</td>\n",
       "      <td>1.094394</td>\n",
       "      <td>0.894753</td>\n",
       "      <td>0.712499</td>\n",
       "    </tr>\n",
       "    <tr>\n",
       "      <th>3</th>\n",
       "      <td>0.319568</td>\n",
       "      <td>0.951388</td>\n",
       "      <td>0.894753</td>\n",
       "      <td>1.180107</td>\n",
       "      <td>0.190516</td>\n",
       "    </tr>\n",
       "    <tr>\n",
       "      <th>4</th>\n",
       "      <td>0.166216</td>\n",
       "      <td>0.591518</td>\n",
       "      <td>0.712499</td>\n",
       "      <td>0.190516</td>\n",
       "      <td>1.345930</td>\n",
       "    </tr>\n",
       "  </tbody>\n",
       "</table>\n",
       "</div>"
      ],
      "text/plain": [
       "          0         1         2         3         4\n",
       "0  0.282284  0.306637  0.420923  0.319568  0.166216\n",
       "1  0.306637  1.344066  0.731383  0.951388  0.591518\n",
       "2  0.420923  0.731383  1.094394  0.894753  0.712499\n",
       "3  0.319568  0.951388  0.894753  1.180107  0.190516\n",
       "4  0.166216  0.591518  0.712499  0.190516  1.345930"
      ]
     },
     "execution_count": 282,
     "metadata": {},
     "output_type": "execute_result"
    }
   ],
   "source": [
    "pd.DataFrame(Z)"
   ]
  },
  {
   "cell_type": "code",
   "execution_count": 283,
   "metadata": {
    "collapsed": false
   },
   "outputs": [
    {
     "data": {
      "text/plain": [
       "(array([ -2.83023339e-10,   1.65230077e-01,   5.10905013e-01,\n",
       "          1.13962886e+00,   3.43101712e+00]),\n",
       " array([[ 0.4417989 ,  0.83348848,  0.26263732, -0.06221487,  0.19303276],\n",
       "        [-0.26581003,  0.23502663, -0.73997188, -0.16869337,  0.54597772],\n",
       "        [-0.61328254,  0.02106183,  0.59683031,  0.0445754 ,  0.51502189],\n",
       "        [ 0.50880784, -0.46903541,  0.14889612, -0.50288472,  0.4960416 ],\n",
       "        [ 0.31489343, -0.17210936, -0.0713217 ,  0.84427001,  0.3915889 ]]))"
      ]
     },
     "execution_count": 283,
     "metadata": {},
     "output_type": "execute_result"
    }
   ],
   "source": [
    "evals, evecs = np.linalg.eigh(Z)\n",
    "evals, evecs"
   ]
  },
  {
   "cell_type": "code",
   "execution_count": 284,
   "metadata": {
    "collapsed": false
   },
   "outputs": [],
   "source": [
    "if evecs[0,n-1] * target_evecs[0,1] < 0:\n",
    "    evecs[:,n-1] *= -1"
   ]
  },
  {
   "cell_type": "code",
   "execution_count": 285,
   "metadata": {
    "collapsed": true
   },
   "outputs": [],
   "source": [
    "# Confirm that the final eigenvector of Z (corresponding to Z's largest eigenvalue)\n",
    "# is equal to the second eigenvector of M (corresponding to M's second-smallest eigenvalue)"
   ]
  },
  {
   "cell_type": "code",
   "execution_count": 286,
   "metadata": {
    "collapsed": false
   },
   "outputs": [
    {
     "name": "stdout",
     "output_type": "stream",
     "text": [
      "[-0.  0.  0. -0. -0.]\n"
     ]
    }
   ],
   "source": [
    "print((evecs[:,n-1] - target_evecs[:,1]).round(5))\n",
    "assert np.allclose(evecs[:,n-1], target_evecs[:,1])"
   ]
  },
  {
   "cell_type": "markdown",
   "metadata": {},
   "source": [
    "This shows that we can compute the second eigenvector of $M$ as follows:\n",
    "\n",
    "* Compute $u_1$, the first eigenvector of $M$ (corresponding to $\\lambda_1 = 0$)\n",
    "  * Specifically, we can compute $u_1$ by solving the linear system $M u_1 = 0$\n",
    "* Estimate a value $\\epsilon$ such that $0 < \\epsilon < \\lambda_2$\n",
    "  * Try not to guess too small, or we'll get an ill-conditioned matrix\n",
    "* Let $Z = (M + \\epsilon I)^{-1} - \\epsilon^{-1} u_1 u_1^T$\n",
    "  * As described below, we do not need to compute this matrix directly\n",
    "* Pick a random starting vector $x$\n",
    "* Use the power-iteration method to compute $x_{k+1} \\gets Z x_k / \\lVert Z x_k \\rVert$ for increasing values of $k$, until it converges on the desired eigenvector\n",
    "  * Note: at each step, we need to multiply a vector $x_k$ by the matrix $Z$, which can be accomplished by first computing $u_1^T x_k / \\epsilon$ (in $O(n)$ steps), then multiplying this quantity by $u_1$ to yield $w = (u_1^T x_k) u_1 / \\epsilon$.  Next, solve the linear system $(M + \\epsilon I) v = x_k$ for $v$.  If $M$ is sparse, with $O(n)$ nonzero entries, we can use RandNLA to compute this in $O(n)$ time.  Then, we continue by using the vector $w - v$."
   ]
  },
  {
   "cell_type": "code",
   "execution_count": 291,
   "metadata": {
    "collapsed": false
   },
   "outputs": [],
   "source": [
    "def second_eigvec(M, eps, k):\n",
    "    n = M.shape[0]\n",
    "#     B = M + eps * np.identity(n)\n",
    "    u1 = np.linalg.solve(M, 1e-12*np.ones((n,)))\n",
    "#     u1 = np.random.uniform(-1, 1, (n,))\n",
    "    for i in range(k):\n",
    "        u1, _, _, _ = np.linalg.lstsq(M, u1)\n",
    "        u1 /= np.linalg.norm(u1)\n",
    "        if -min(u1) > max(u1):\n",
    "            u1 = -u1\n",
    "    return u1\n",
    "#     x = np.random.uniform(-1, 1, (n,))\n",
    "#     for i in range(k):\n",
    "#         v, _, _, _ = np.linalg.lstsq(B, x)\n",
    "#         w = (np.dot(u1, x) / eps) * u1\n",
    "#         y = w - v\n",
    "#         x = y / np.linalg.norm(y)\n",
    "#         if -min(x) > max(x):\n",
    "#             x = -x\n",
    "#     return x"
   ]
  },
  {
   "cell_type": "code",
   "execution_count": 292,
   "metadata": {
    "collapsed": false
   },
   "outputs": [
    {
     "data": {
      "text/plain": [
       "array([ 0.19303276,  0.54597772,  0.51502189,  0.4960416 ,  0.3915889 ])"
      ]
     },
     "execution_count": 292,
     "metadata": {},
     "output_type": "execute_result"
    }
   ],
   "source": [
    "second_eigvec(M, eps=1e-3, k=100)"
   ]
  },
  {
   "cell_type": "code",
   "execution_count": 313,
   "metadata": {
    "collapsed": false,
    "scrolled": true
   },
   "outputs": [
    {
     "data": {
      "text/plain": [
       "array([-0.  ,  0.29,  0.88,  1.96,  6.05])"
      ]
     },
     "execution_count": 313,
     "metadata": {},
     "output_type": "execute_result"
    }
   ],
   "source": [
    "np.linalg.eigh(M)[0].round(2)"
   ]
  },
  {
   "cell_type": "code",
   "execution_count": 136,
   "metadata": {
    "collapsed": true
   },
   "outputs": [],
   "source": [
    "x, res, rank, s = np.linalg.lstsq(M, np.zeros((n,)))"
   ]
  },
  {
   "cell_type": "code",
   "execution_count": 22,
   "metadata": {
    "collapsed": false
   },
   "outputs": [
    {
     "data": {
      "text/plain": [
       "(array([ 0.,  0.,  0.,  0.,  0.]),\n",
       " array([], dtype=float64),\n",
       " 4,\n",
       " array([  2.25405916e+01,   1.06498890e+01,   2.89587051e+00,\n",
       "          2.58779463e+00,   9.59170891e-17]))"
      ]
     },
     "execution_count": 22,
     "metadata": {},
     "output_type": "execute_result"
    }
   ],
   "source": [
    "x, res, rank, s"
   ]
  },
  {
   "cell_type": "code",
   "execution_count": 19,
   "metadata": {
    "collapsed": true
   },
   "outputs": [],
   "source": [
    "np.linalg.lstsq?"
   ]
  },
  {
   "cell_type": "code",
   "execution_count": 23,
   "metadata": {
    "collapsed": false
   },
   "outputs": [
    {
     "data": {
      "text/plain": [
       "array([ 0.,  0.,  0.,  0.,  0.])"
      ]
     },
     "execution_count": 23,
     "metadata": {},
     "output_type": "execute_result"
    }
   ],
   "source": [
    "np.dot(M, x)"
   ]
  },
  {
   "cell_type": "code",
   "execution_count": 293,
   "metadata": {
    "collapsed": false
   },
   "outputs": [
    {
     "data": {
      "text/plain": [
       "5"
      ]
     },
     "execution_count": 293,
     "metadata": {},
     "output_type": "execute_result"
    }
   ],
   "source": [
    "np.linalg.solve(M, )"
   ]
  },
  {
   "cell_type": "code",
   "execution_count": 267,
   "metadata": {
    "collapsed": false
   },
   "outputs": [
    {
     "data": {
      "text/plain": [
       "array([[ 2.47500376,  0.        ,  0.        ],\n",
       "       [-1.67296844,  1.49997622,  0.        ],\n",
       "       [ 0.46535522, -0.29850676,  1.50204255]])"
      ]
     },
     "execution_count": 267,
     "metadata": {},
     "output_type": "execute_result"
    }
   ],
   "source": [
    "# Experimenting with Cholesky decomposition\n",
    "M2 = generate_PSD(n = 3)\n",
    "L = np.linalg.cholesky(M2)\n",
    "L"
   ]
  },
  {
   "cell_type": "code",
   "execution_count": 272,
   "metadata": {
    "collapsed": false
   },
   "outputs": [
    {
     "data": {
      "text/plain": [
       "array([ 6.12564361,  2.24992865,  2.25613183])"
      ]
     },
     "execution_count": 272,
     "metadata": {},
     "output_type": "execute_result"
    }
   ],
   "source": [
    "np.diag(L) ** 2"
   ]
  },
  {
   "cell_type": "code",
   "execution_count": 268,
   "metadata": {
    "collapsed": false
   },
   "outputs": [
    {
     "data": {
      "text/plain": [
       "array([[ 0.,  0.,  0.],\n",
       "       [ 0.,  0.,  0.],\n",
       "       [ 0.,  0.,  0.]])"
      ]
     },
     "execution_count": 268,
     "metadata": {},
     "output_type": "execute_result"
    }
   ],
   "source": [
    "(L.dot(L.T) - M2).round(5)"
   ]
  },
  {
   "cell_type": "code",
   "execution_count": 269,
   "metadata": {
    "collapsed": false
   },
   "outputs": [
    {
     "data": {
      "text/plain": [
       "(array([  1.38101125,   2.2219869 ,  10.13319112]),\n",
       " array([[ 0.61975019, -0.28573808, -0.73093328],\n",
       "        [ 0.76218555, -0.00282363,  0.64735246],\n",
       "        [ 0.18703713,  0.95830359, -0.21603549]]))"
      ]
     },
     "execution_count": 269,
     "metadata": {},
     "output_type": "execute_result"
    }
   ],
   "source": [
    "np.linalg.eigh(M2)"
   ]
  },
  {
   "cell_type": "code",
   "execution_count": 294,
   "metadata": {
    "collapsed": true
   },
   "outputs": [],
   "source": [
    "# Experimenting with Lanczos algorithm"
   ]
  },
  {
   "cell_type": "code",
   "execution_count": 359,
   "metadata": {
    "collapsed": true
   },
   "outputs": [],
   "source": [
    "def lanczos_T(A, num_iters = 10):\n",
    "    n = A.shape[0]\n",
    "    v = np.random.normal(0, 1, (n,))\n",
    "    v /= np.linalg.norm(v)\n",
    "    v_prev = np.zeros((n,))\n",
    "    beta = 0\n",
    "    \n",
    "    T = np.zeros((num_iters, num_iters))\n",
    "    \n",
    "    for j in range(1, num_iters):\n",
    "        wp = np.dot(A, v)\n",
    "        #wp, _, _, _ = np.linalg.lstsq(A, v)\n",
    "        alpha = np.dot(wp, v)\n",
    "        w = wp - alpha * v - beta * v_prev\n",
    "        beta = np.linalg.norm(w)\n",
    "        v_prev = v\n",
    "        v = w / beta\n",
    "        \n",
    "        T[j - 1, j - 1] = alpha\n",
    "        T[j - 1, j] = beta\n",
    "        T[j, j - 1] = beta\n",
    "    \n",
    "    w = np.dot(A, v)\n",
    "    alpha = np.dot(w, v)\n",
    "    T[-1, -1] = alpha\n",
    "    return T"
   ]
  },
  {
   "cell_type": "code",
   "execution_count": 394,
   "metadata": {
    "collapsed": true
   },
   "outputs": [],
   "source": [
    "def imshow_zero_nan(M):\n",
    "    M = M.copy()\n",
    "    M[np.isclose(M, 0., atol = 1e-8)] = np.nan\n",
    "    fig, ax = plt.subplots()\n",
    "    ax.imshow(M, interpolation='none')"
   ]
  },
  {
   "cell_type": "code",
   "execution_count": 360,
   "metadata": {
    "collapsed": false
   },
   "outputs": [],
   "source": [
    "T = lanczos_T(M, num_iters = 20)"
   ]
  },
  {
   "cell_type": "code",
   "execution_count": 415,
   "metadata": {
    "collapsed": false
   },
   "outputs": [
    {
     "data": {
      "image/png": "[encoded data removed]",
      "text/plain": [
       "<matplotlib.figure.Figure at 0x10aedf390>"
      ]
     },
     "metadata": {},
     "output_type": "display_data"
    }
   ],
   "source": [
    "imshow_zero_nan(T)"
   ]
  },
  {
   "cell_type": "code",
   "execution_count": 420,
   "metadata": {
    "collapsed": false
   },
   "outputs": [
    {
     "data": {
      "text/plain": [
       "array([-0.  ,  0.29,  0.88,  1.96,  6.05])"
      ]
     },
     "execution_count": 420,
     "metadata": {},
     "output_type": "execute_result"
    }
   ],
   "source": [
    "np.linalg.eigh(M)[0].round(2)"
   ]
  },
  {
   "cell_type": "code",
   "execution_count": 416,
   "metadata": {
    "collapsed": false
   },
   "outputs": [
    {
     "data": {
      "text/plain": [
       "array([-0.  ,  0.  ,  0.  ,  0.  ,  0.29,  0.29,  0.29,  0.29,  0.88,\n",
       "        0.88,  0.88,  0.88,  1.96,  1.96,  1.96,  1.96,  6.05,  6.05,\n",
       "        6.05,  6.05])"
      ]
     },
     "execution_count": 416,
     "metadata": {},
     "output_type": "execute_result"
    }
   ],
   "source": [
    "np.linalg.eigh(T)[0].round(2)"
   ]
  },
  {
   "cell_type": "code",
   "execution_count": null,
   "metadata": {
    "collapsed": true
   },
   "outputs": [],
   "source": []
  }
 ],
 "metadata": {
  "kernelspec": {
   "display_name": "Python 2",
   "language": "python",
   "name": "python2"
  },
  "language_info": {
   "codemirror_mode": {
    "name": "ipython",
    "version": 2
   },
   "file_extension": ".py",
   "mimetype": "text/x-python",
   "name": "python",
   "nbconvert_exporter": "python",
   "pygments_lexer": "ipython2",
   "version": "2.7.10"
  }
 },
 "nbformat": 4,
 "nbformat_minor": 1
}
