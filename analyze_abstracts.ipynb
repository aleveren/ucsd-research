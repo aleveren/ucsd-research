{
 "cells": [
  {
   "cell_type": "code",
   "execution_count": 1,
   "metadata": {
    "collapsed": false
   },
   "outputs": [],
   "source": [
    "import numpy as np\n",
    "import matplotlib.pyplot as plt\n",
    "import pandas as pd\n",
    "%matplotlib inline"
   ]
  },
  {
   "cell_type": "code",
   "execution_count": 2,
   "metadata": {
    "collapsed": true
   },
   "outputs": [],
   "source": [
    "from bs4 import BeautifulSoup\n",
    "from nltk.tokenize import word_tokenize, sent_tokenize\n",
    "from nltk.corpus import stopwords\n",
    "from nltk.stem.snowball import SnowballStemmer"
   ]
  },
  {
   "cell_type": "code",
   "execution_count": 3,
   "metadata": {
    "collapsed": true
   },
   "outputs": [],
   "source": [
    "from collections import Counter, defaultdict, OrderedDict, namedtuple\n",
    "import copy"
   ]
  },
  {
   "cell_type": "code",
   "execution_count": 4,
   "metadata": {
    "collapsed": true
   },
   "outputs": [],
   "source": [
    "en_stopwords = set(stopwords.words('english'))"
   ]
  },
  {
   "cell_type": "code",
   "execution_count": 5,
   "metadata": {
    "collapsed": true
   },
   "outputs": [],
   "source": [
    "def not_stopword(word):\n",
    "    return word.lower() not in en_stopwords"
   ]
  },
  {
   "cell_type": "code",
   "execution_count": 6,
   "metadata": {
    "collapsed": true
   },
   "outputs": [],
   "source": [
    "def not_all_punct(word):\n",
    "    return not all([not c.isalnum() for c in word])"
   ]
  },
  {
   "cell_type": "code",
   "execution_count": 7,
   "metadata": {
    "collapsed": true
   },
   "outputs": [],
   "source": [
    "def to_lower(word):\n",
    "    return word.lower()"
   ]
  },
  {
   "cell_type": "code",
   "execution_count": 8,
   "metadata": {
    "collapsed": true
   },
   "outputs": [],
   "source": [
    "snowball = SnowballStemmer('english')\n",
    "def stemmer(word):\n",
    "    return snowball.stem(word)"
   ]
  },
  {
   "cell_type": "code",
   "execution_count": 9,
   "metadata": {
    "collapsed": true
   },
   "outputs": [],
   "source": [
    "#parser_type = 'xml'\n",
    "#parser_type = 'html.parser'\n",
    "parser_type = 'lxml'\n",
    "#parser_type = 'lxml-xml'\n",
    "#parser_type = 'html5lib'"
   ]
  },
  {
   "cell_type": "code",
   "execution_count": 10,
   "metadata": {
    "collapsed": false
   },
   "outputs": [
    {
     "name": "stdout",
     "output_type": "stream",
     "text": [
      "CPU times: user 4min 49s, sys: 1min 30s, total: 6min 19s\n",
      "Wall time: 6min 46s\n"
     ]
    }
   ],
   "source": [
    "%%time\n",
    "with open(\"data/allRecsWithAbstractsEscaped.xml\") as f:\n",
    "    full_data = BeautifulSoup(f, features=parser_type)"
   ]
  },
  {
   "cell_type": "code",
   "execution_count": 11,
   "metadata": {
    "collapsed": true
   },
   "outputs": [],
   "source": [
    "def explore(tag, by_level=None, indent=0):\n",
    "    if by_level is None:\n",
    "        by_level = []\n",
    "    if len(by_level) <= indent:\n",
    "        by_level.append(set())\n",
    "    by_level[indent].add(tag.name)\n",
    "    for c in tag.find_all(text=False, recursive=False):\n",
    "        by_level = explore(c, by_level, indent=indent+1)\n",
    "    return by_level"
   ]
  },
  {
   "cell_type": "code",
   "execution_count": 12,
   "metadata": {
    "collapsed": false
   },
   "outputs": [
    {
     "name": "stdout",
     "output_type": "stream",
     "text": [
      "records\n",
      "  record\n",
      "    abstract, identifier, subject, title\n",
      "CPU times: user 3min 18s, sys: 32.5 s, total: 3min 51s\n",
      "Wall time: 4min 4s\n"
     ]
    }
   ],
   "source": [
    "%%time\n",
    "by_level = explore(full_data.records)\n",
    "\n",
    "for level_index, tags in enumerate(by_level):\n",
    "    print '  '*level_index + u', '.join(sorted(list(tags)))"
   ]
  },
  {
   "cell_type": "code",
   "execution_count": 13,
   "metadata": {
    "collapsed": true
   },
   "outputs": [],
   "source": [
    "class Record(namedtuple(\"Record\", [\"title\", \"identifier\", \"abstract\", \"subjects\"])):\n",
    "    pass"
   ]
  },
  {
   "cell_type": "code",
   "execution_count": 14,
   "metadata": {
    "collapsed": false
   },
   "outputs": [
    {
     "data": {
      "text/plain": [
       "483052"
      ]
     },
     "execution_count": 14,
     "metadata": {},
     "output_type": "execute_result"
    }
   ],
   "source": [
    "len(full_data.records.find_all(text=False, recursive=False))"
   ]
  },
  {
   "cell_type": "code",
   "execution_count": 15,
   "metadata": {
    "collapsed": false
   },
   "outputs": [],
   "source": [
    "def process_records(data, limit=None):\n",
    "    result = []\n",
    "\n",
    "    for r in data.records.find_all(text=False, recursive=False, limit=limit):\n",
    "        if r.name != \"record\":\n",
    "            raise Exception(u\"Unexpected child node of records: {} != record\".format(r.name))\n",
    "\n",
    "        title = unicode(r.title.string)\n",
    "        abstract = unicode(r.abstract.string)\n",
    "        subjects = [unicode(x.string) for x in r.find_all(\"subject\", recursive=False)]\n",
    "        identifier = unicode(r.identifier.string)\n",
    "\n",
    "        r_obj = Record(title=title, identifier=identifier, abstract=abstract, subjects=subjects)\n",
    "        result.append(r_obj)\n",
    "\n",
    "    return result"
   ]
  },
  {
   "cell_type": "code",
   "execution_count": 16,
   "metadata": {
    "collapsed": false
   },
   "outputs": [
    {
     "name": "stdout",
     "output_type": "stream",
     "text": [
      "483052\n",
      "CPU times: user 2min 56s, sys: 32.1 s, total: 3min 28s\n",
      "Wall time: 3min 44s\n"
     ]
    }
   ],
   "source": [
    "%%time\n",
    "record_objects = process_records(data = full_data, limit = None)\n",
    "print len(record_objects)"
   ]
  },
  {
   "cell_type": "code",
   "execution_count": 17,
   "metadata": {
    "collapsed": true
   },
   "outputs": [],
   "source": [
    "auto_cleanup = True"
   ]
  },
  {
   "cell_type": "code",
   "execution_count": 18,
   "metadata": {
    "collapsed": false
   },
   "outputs": [
    {
     "name": "stdout",
     "output_type": "stream",
     "text": [
      "Cleaning up bs4 objects\n"
     ]
    }
   ],
   "source": [
    "if auto_cleanup:\n",
    "    print \"Cleaning up bs4 objects\"\n",
    "    full_data.decompose()\n",
    "    del full_data\n",
    "else:\n",
    "    print \"NOT cleaning up\""
   ]
  },
  {
   "cell_type": "code",
   "execution_count": 19,
   "metadata": {
    "collapsed": true
   },
   "outputs": [],
   "source": [
    "class MyTokenizer(object):\n",
    "    def __init__(self,\n",
    "            transforms=None,\n",
    "            filters=None,\n",
    "            word_tokenizer=None,\n",
    "            sent_tokenizer=None):\n",
    "\n",
    "        if transforms is None:\n",
    "            transforms = []\n",
    "        if word_tokenizer is None:\n",
    "            word_tokenizer = word_tokenize\n",
    "        if filters is None:\n",
    "            filters = []\n",
    "        self.word_tokenizer = word_tokenizer\n",
    "        self.sent_tokenizer = sent_tokenizer\n",
    "        self.filters = filters\n",
    "        self.transforms = transforms\n",
    "\n",
    "    def tokenize(self, str_to_tokenize):\n",
    "        if self.sent_tokenizer is None:\n",
    "            sentences = [str_to_tokenize]\n",
    "        else:\n",
    "            sentences = self.sent_tokenizer(str_to_tokenize)\n",
    "\n",
    "        tokens_by_sentence = []\n",
    "        for sent in sentences:\n",
    "            tokens = []\n",
    "            for t in self.word_tokenizer(sent):\n",
    "                include_token = all(f(t) for f in self.filters)\n",
    "                if include_token:\n",
    "                    transformed = t\n",
    "                    for tr in self.transforms:\n",
    "                        transformed = tr(t)\n",
    "                    tokens.append(transformed)\n",
    "                    \n",
    "            tokens_by_sentence.append(tokens)\n",
    "\n",
    "        if self.sent_tokenizer is None:\n",
    "            return tokens_by_sentence[0]\n",
    "        else:\n",
    "            return tokens_by_sentence"
   ]
  },
  {
   "cell_type": "code",
   "execution_count": 20,
   "metadata": {
    "collapsed": false
   },
   "outputs": [],
   "source": [
    "tokenizer = MyTokenizer(\n",
    "    filters = [not_all_punct, not_stopword],\n",
    "    transforms = [to_lower, stemmer],\n",
    "    word_tokenizer = word_tokenize,\n",
    "    sent_tokenizer = None)"
   ]
  },
  {
   "cell_type": "code",
   "execution_count": 152,
   "metadata": {
    "collapsed": false
   },
   "outputs": [
    {
     "name": "stdout",
     "output_type": "stream",
     "text": [
      "=============\n",
      "Title: DVIEW\n",
      "Abstract: DView is a time series data visualization tool that provides several different ways to plot time series datasets. It is particularly well suited for browsing the results of energy systems simulation programs such as BeOpt, SAM, and PVWatts.\n",
      "Subjects (0): \n",
      "Tokens: []\n",
      "=============\n",
      "Title: LK Scripting Language\n",
      "Abstract: The LK scripting language is a simple and fast computer programming language designed for easy integration with existing software to enable automation of tasks.\n",
      "Subjects (0): \n",
      "Tokens: []\n",
      "=============\n",
      "Title: Parallel Planes Information Visualization\n",
      "Abstract: This software presents a user-provided multivariate dataset as an interactive three dimensional visualization so that the user can explore the correlation between variables in the observations and the distribution of observations among the variables.\n",
      "Subjects (0): \n",
      "Tokens: []\n",
      "=============\n",
      "Title: Retrospective Mobility Analysis\n",
      "Abstract: An application that provides users with ex post information on foregone travel conclusions to induce travel behavioral change.\n",
      "Subjects (0): \n",
      "Tokens: []\n",
      "=============\n",
      "Title: Funding Student Scholarships to the Richard Tapia Celebration of Diversity in Computing Conference 2013, February 7-10, 2013\n",
      "Abstract: This Basic Award allowed for the funding of student scholarships to the Richard Tapia Celebration of Diversity in Computing Conference which took place in Washington, D.C. from February 7-10, 2013. The conference was the seventh in a series and included a stellar array of invited speakers, compelling panel discussions, a student poster competition, a daylong Doctoral Consortium, a session featuring a choice of attractions unique to Washington, D.C., a gala banquet and dance, and many exciting networking opportunities. The conference created a welcoming environment for STEM students, especially underrepresented minority and female students, who were provided the highest quality of learning, networking, and social experiences to empower their educational experience and enhance their ability to succeed with a rigorous STEM degree. The networking and mentoring opportunities available at the conference were also designed to empower students to succeed in STEM careers and ultimately serve in leadership in industry and the professoriate. A key step in attracting underrepresented students into STEM fields and paving the way for their success in influential positions is to create a nurturing and supportive network and community for them to rely upon. It is also critical to educate leaders in corporations, government and academia about the benefits to be gained from increasing the percentage of STEM professionals from underrepresented groups. To this end, The Tapia Conference serves both functions, as it connects STEM students with STEM professionals, leaders, and academics who share the vision of a STEM workforce and community that is truly representative of the community in which we live.\n",
      "Subjects (2): Mathematics And Computing.; General And Miscellaneous.\n",
      "Tokens: []\n",
      "CPU times: user 10.8 s, sys: 594 ms, total: 11.4 s\n",
      "Wall time: 11.3 s\n"
     ]
    }
   ],
   "source": [
    "%%time\n",
    "\n",
    "all_subjects = set()\n",
    "stats_by_document = []\n",
    "\n",
    "do_tokens = False\n",
    "\n",
    "rec_count = 0\n",
    "for r in record_objects:\n",
    "    stats_by_document.append(OrderedDict([\n",
    "        ('abstract_length_chars', len(r.abstract) if r.abstract is not None else 0),\n",
    "        ('num_subjects', len(r.subjects)),\n",
    "    ]))\n",
    "\n",
    "    all_subjects |= set(r.subjects)\n",
    "\n",
    "    if do_tokens and r.abstract is not None:\n",
    "        tokens = tokenizer.tokenize(r.abstract)\n",
    "    else:\n",
    "        tokens = []\n",
    "\n",
    "    if rec_count < 5:\n",
    "        print(u\"=============\")\n",
    "        print(u\"Title: {}\".format(r.title))\n",
    "        print(u\"Abstract: {}\".format(r.abstract))\n",
    "        print(u\"Subjects ({}): {}\".format(len(r.subjects), u\"; \".join(r.subjects)))\n",
    "        print(u\"Tokens: {}\".format(tokens))\n",
    "\n",
    "    rec_count += 1\n",
    "\n",
    "all_subjects = sorted(list(all_subjects))\n",
    "stats_by_document = pd.DataFrame.from_records(stats_by_document)"
   ]
  },
  {
   "cell_type": "code",
   "execution_count": 153,
   "metadata": {
    "collapsed": false
   },
   "outputs": [
    {
     "name": "stdout",
     "output_type": "stream",
     "text": [
      "Total number of records: 483052\n",
      "Total number of subjects: 26862\n"
     ]
    }
   ],
   "source": [
    "print(u\"Total number of records: {}\".format(rec_count))\n",
    "print(u\"Total number of subjects: {}\".format(len(all_subjects)))"
   ]
  },
  {
   "cell_type": "code",
   "execution_count": 154,
   "metadata": {
    "collapsed": false
   },
   "outputs": [
    {
     "data": {
      "image/png": "[encoded data removed]",
      "text/plain": [
       "<matplotlib.figure.Figure at 0x4639d48d0>"
      ]
     },
     "metadata": {},
     "output_type": "display_data"
    }
   ],
   "source": [
    "fig, ax = plt.subplots()\n",
    "ax.hist(stats_by_document[\"num_subjects\"], bins=20)\n",
    "ax.set_xlabel('Number of subjects')\n",
    "ax.set_ylabel('Frequency')\n",
    "None"
   ]
  },
  {
   "cell_type": "code",
   "execution_count": 155,
   "metadata": {
    "collapsed": false
   },
   "outputs": [
    {
     "data": {
      "image/png": "[encoded data removed]",
      "text/plain": [
       "<matplotlib.figure.Figure at 0x46b30e810>"
      ]
     },
     "metadata": {},
     "output_type": "display_data"
    }
   ],
   "source": [
    "fig, ax = plt.subplots()\n",
    "ax.hist(stats_by_document[\"abstract_length_chars\"], bins=20)\n",
    "ax.set_xlabel('Length of abstract (characters)')\n",
    "ax.set_ylabel('Frequency')\n",
    "None"
   ]
  },
  {
   "cell_type": "code",
   "execution_count": 156,
   "metadata": {
    "collapsed": true
   },
   "outputs": [],
   "source": [
    "u_subjects = np.sort(np.unique(all_subjects))"
   ]
  },
  {
   "cell_type": "code",
   "execution_count": 157,
   "metadata": {
    "collapsed": false
   },
   "outputs": [
    {
     "data": {
      "text/plain": [
       "26862"
      ]
     },
     "execution_count": 157,
     "metadata": {},
     "output_type": "execute_result"
    }
   ],
   "source": [
    "len(u_subjects)"
   ]
  },
  {
   "cell_type": "code",
   "execution_count": 174,
   "metadata": {
    "collapsed": false
   },
   "outputs": [
    {
     "data": {
      "text/plain": [
       "483052"
      ]
     },
     "execution_count": 174,
     "metadata": {},
     "output_type": "execute_result"
    }
   ],
   "source": [
    "len(record_objects)"
   ]
  },
  {
   "cell_type": "code",
   "execution_count": 175,
   "metadata": {
    "collapsed": false
   },
   "outputs": [
    {
     "name": "stdout",
     "output_type": "stream",
     "text": [
      "0\n",
      "10000\n",
      "20000\n",
      "30000\n",
      "40000\n",
      "50000\n",
      "60000\n",
      "70000\n",
      "80000\n",
      "90000\n",
      "100000\n",
      "110000\n",
      "120000\n",
      "130000\n",
      "140000\n",
      "150000\n",
      "160000\n",
      "170000\n",
      "180000\n",
      "190000\n",
      "200000\n",
      "210000\n",
      "220000\n",
      "230000\n",
      "240000\n",
      "250000\n",
      "260000\n",
      "270000\n",
      "280000\n",
      "290000\n",
      "300000\n",
      "310000\n",
      "320000\n",
      "330000\n",
      "340000\n",
      "350000\n",
      "360000\n",
      "370000\n",
      "380000\n",
      "390000\n",
      "400000\n",
      "410000\n",
      "420000\n",
      "430000\n",
      "440000\n",
      "450000\n",
      "460000\n",
      "470000\n",
      "480000\n",
      "CPU times: user 2h 37min 30s, sys: 1min, total: 2h 38min 31s\n",
      "Wall time: 2h 41min 21s\n"
     ]
    }
   ],
   "source": [
    "%%time\n",
    "n_subj = len(u_subjects)\n",
    "unions = np.zeros((n_subj, n_subj))\n",
    "intersects = np.zeros((n_subj, n_subj))\n",
    "\n",
    "s_count = 0\n",
    "s_ones = np.ones((n_subj,))\n",
    "for rec_index, r in enumerate(record_objects):\n",
    "    if rec_index % 10000 == 0:\n",
    "        print rec_index\n",
    "    s_ind = [np.asscalar(np.where(u_subjects == s)[0]) for s in r.subjects]\n",
    "    s_ind_set = set(s_ind)\n",
    "    for i in s_ind_set:\n",
    "        unions[i, :] += s_ones\n",
    "        unions[:, i] += s_ones\n",
    "        for j in s_ind_set:\n",
    "            intersects[i, j] += 1\n",
    "            unions[i, j] -= 1  # remove double-counting"
   ]
  },
  {
   "cell_type": "code",
   "execution_count": 176,
   "metadata": {
    "collapsed": false
   },
   "outputs": [
    {
     "name": "stdout",
     "output_type": "stream",
     "text": [
      "CPU times: user 6.56 s, sys: 23.1 s, total: 29.7 s\n",
      "Wall time: 43.1 s\n"
     ]
    }
   ],
   "source": [
    "%%time\n",
    "distances = 1.0 - np.true_divide(intersects, unions)\n",
    "distances[np.isnan(distances)] = 1.0"
   ]
  },
  {
   "cell_type": "code",
   "execution_count": 177,
   "metadata": {
    "collapsed": false
   },
   "outputs": [
    {
     "data": {
      "text/plain": [
       "(0.0, 1.0)"
      ]
     },
     "execution_count": 177,
     "metadata": {},
     "output_type": "execute_result"
    }
   ],
   "source": [
    "np.min(distances), np.max(distances)"
   ]
  },
  {
   "cell_type": "code",
   "execution_count": 178,
   "metadata": {
    "collapsed": false
   },
   "outputs": [
    {
     "data": {
      "text/plain": [
       "(26862, 26862)"
      ]
     },
     "execution_count": 178,
     "metadata": {},
     "output_type": "execute_result"
    }
   ],
   "source": [
    "distances.shape"
   ]
  },
  {
   "cell_type": "code",
   "execution_count": 179,
   "metadata": {
    "collapsed": false
   },
   "outputs": [
    {
     "data": {
      "text/plain": [
       "5772536352"
      ]
     },
     "execution_count": 179,
     "metadata": {},
     "output_type": "execute_result"
    }
   ],
   "source": [
    "distances.nbytes"
   ]
  },
  {
   "cell_type": "code",
   "execution_count": 180,
   "metadata": {
    "collapsed": false
   },
   "outputs": [
    {
     "name": "stdout",
     "output_type": "stream",
     "text": [
      "CPU times: user 35.1 s, sys: 11.8 s, total: 46.9 s\n",
      "Wall time: 51.4 s\n"
     ]
    }
   ],
   "source": [
    "%%time\n",
    "np.savez_compressed(file = \"data/distances.npz\", distances = distances)"
   ]
  },
  {
   "cell_type": "code",
   "execution_count": 181,
   "metadata": {
    "collapsed": false
   },
   "outputs": [
    {
     "name": "stdout",
     "output_type": "stream",
     "text": [
      "CPU times: user 6.46 s, sys: 2.36 s, total: 8.82 s\n",
      "Wall time: 9.54 s\n"
     ]
    }
   ],
   "source": [
    "%%time\n",
    "d = np.load(file = \"data/distances.npz\")[\"distances\"]"
   ]
  },
  {
   "cell_type": "code",
   "execution_count": 182,
   "metadata": {
    "collapsed": false
   },
   "outputs": [
    {
     "name": "stdout",
     "output_type": "stream",
     "text": [
      "5772536352\n",
      "(26862, 26862)\n"
     ]
    }
   ],
   "source": [
    "print d.nbytes\n",
    "print d.shape"
   ]
  },
  {
   "cell_type": "code",
   "execution_count": null,
   "metadata": {
    "collapsed": true
   },
   "outputs": [],
   "source": []
  }
 ],
 "metadata": {
  "kernelspec": {
   "display_name": "Python 2",
   "language": "python",
   "name": "python2"
  },
  "language_info": {
   "codemirror_mode": {
    "name": "ipython",
    "version": 2
   },
   "file_extension": ".py",
   "mimetype": "text/x-python",
   "name": "python",
   "nbconvert_exporter": "python",
   "pygments_lexer": "ipython2",
   "version": "2.7.10"
  }
 },
 "nbformat": 4,
 "nbformat_minor": 1
}
